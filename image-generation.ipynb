{
 "cells": [
  {
   "cell_type": "code",
   "execution_count": 1,
   "metadata": {},
   "outputs": [],
   "source": [
    "import numpy as np"
   ]
  },
  {
   "cell_type": "code",
   "execution_count": 2,
   "metadata": {},
   "outputs": [],
   "source": [
    "from src.imgen import ImageGenerator"
   ]
  },
  {
   "cell_type": "code",
   "execution_count": 23,
   "metadata": {},
   "outputs": [],
   "source": [
    "NUM_QUBITS = 6\n",
    "NUM_LAYERS = 2\n",
    "\n",
    "EPOCH_SAMPLE_SIZE = 10**4\n",
    "BATCH_SAMPLE_SIZE = 10**3\n",
    "\n",
    "pixel_art = np.array([\n",
    "    [0, 0, 0, 0, 0, 0, 0, 0],\n",
    "    [0, 0, 1, 0, 0, 1, 0, 0],\n",
    "    [0, 0, 1, 0, 0, 1, 0, 0],\n",
    "    [0, 0, 0, 0, 0, 0, 0, 0],\n",
    "    [0, 1, 0, 0, 0, 0, 1, 0],\n",
    "    [0, 1, 1, 0, 0, 1, 1, 0],\n",
    "    [0, 0, 1, 1, 1, 1, 0, 0],\n",
    "    [0, 0, 0, 0, 0, 0, 0, 0]\n",
    "], dtype=np.float)"
   ]
  },
  {
   "cell_type": "code",
   "execution_count": 24,
   "metadata": {},
   "outputs": [],
   "source": [
    "imgen = ImageGenerator(\n",
    "    NUM_QUBITS, NUM_LAYERS,\n",
    "    epoch_sample_size=EPOCH_SAMPLE_SIZE, batch_sample_size=BATCH_SAMPLE_SIZE,\n",
    "    enable_remapping=True\n",
    ")"
   ]
  },
  {
   "cell_type": "code",
   "execution_count": 25,
   "metadata": {
    "scrolled": true
   },
   "outputs": [
    {
     "data": {
      "application/vnd.plotly.v1+json": {
       "config": {
        "plotlyServerURL": "https://plot.ly"
       },
       "data": [
        {
         "coloraxis": "coloraxis",
         "hovertemplate": "x: %{x}<br>y: %{y}<br>color: %{z}<extra></extra>",
         "name": "0",
         "type": "heatmap",
         "xaxis": "x",
         "yaxis": "y",
         "z": [
          [
           2.0162779512887805e-06,
           0.0008134245812344364,
           0.006010439862990422,
           0.0008154408591857251,
           0.0008154408591857251,
           0.006010439862990422,
           0.0008134245812344364,
           2.0162779512887805e-06
          ],
          [
           1.683122795852223e-05,
           0.006790201988307814,
           0.05017318341467688,
           0.006807033216266336,
           0.006807033216266336,
           0.05017318341467688,
           0.006790201988307814,
           1.683122795852223e-05
          ],
          [
           1.8842532711104724e-05,
           0.00680502688471246,
           0.05017518974623076,
           0.006807038189465043,
           0.006807038189465043,
           0.05017518974623076,
           0.00680502688471246,
           1.8842532711104724e-05
          ],
          [
           0.0008154458323844316,
           0.006809039547820214,
           0.006821858112670983,
           0.0008174521639383077,
           0.0008174521639383077,
           0.006821858112670983,
           0.006809039547820214,
           0.0008154458323844316
          ],
          [
           0.006809049494217625,
           0.05098661296911002,
           0.01280265315605082,
           0.0008491033151027698,
           0.0008491033151027698,
           0.01280265315605082,
           0.05098661296911002,
           0.006809049494217625
          ],
          [
           0.006823864444224858,
           0.05696539173453857,
           0.057774803652665255,
           0.013614066432532672,
           0.013614066432532672,
           0.057774803652665255,
           0.05696539173453857,
           0.006823864444224858
          ],
          [
           0.000830260782391665,
           0.012800641851298237,
           0.05698021663094322,
           0.056982227935695795,
           0.056982227935695795,
           0.05698021663094322,
           0.012800641851298237,
           0.000830260782391665
          ],
          [
           4.027582703871276e-06,
           0.0008302607823916649,
           0.006825875748977442,
           0.00762247904865077,
           0.00762247904865077,
           0.006825875748977442,
           0.0008302607823916649,
           4.027582703871276e-06
          ]
         ]
        }
       ],
       "layout": {
        "coloraxis": {
         "colorscale": [
          [
           0,
           "rgb(243, 231, 155)"
          ],
          [
           0.16666666666666666,
           "rgb(250, 196, 132)"
          ],
          [
           0.3333333333333333,
           "rgb(248, 160, 126)"
          ],
          [
           0.5,
           "rgb(235, 127, 134)"
          ],
          [
           0.6666666666666666,
           "rgb(206, 102, 147)"
          ],
          [
           0.8333333333333334,
           "rgb(160, 89, 160)"
          ],
          [
           1,
           "rgb(92, 83, 165)"
          ]
         ]
        },
        "height": 500,
        "margin": {
         "t": 60
        },
        "template": {
         "data": {
          "bar": [
           {
            "error_x": {
             "color": "#2a3f5f"
            },
            "error_y": {
             "color": "#2a3f5f"
            },
            "marker": {
             "line": {
              "color": "#E5ECF6",
              "width": 0.5
             }
            },
            "type": "bar"
           }
          ],
          "barpolar": [
           {
            "marker": {
             "line": {
              "color": "#E5ECF6",
              "width": 0.5
             }
            },
            "type": "barpolar"
           }
          ],
          "carpet": [
           {
            "aaxis": {
             "endlinecolor": "#2a3f5f",
             "gridcolor": "white",
             "linecolor": "white",
             "minorgridcolor": "white",
             "startlinecolor": "#2a3f5f"
            },
            "baxis": {
             "endlinecolor": "#2a3f5f",
             "gridcolor": "white",
             "linecolor": "white",
             "minorgridcolor": "white",
             "startlinecolor": "#2a3f5f"
            },
            "type": "carpet"
           }
          ],
          "choropleth": [
           {
            "colorbar": {
             "outlinewidth": 0,
             "ticks": ""
            },
            "type": "choropleth"
           }
          ],
          "contour": [
           {
            "colorbar": {
             "outlinewidth": 0,
             "ticks": ""
            },
            "colorscale": [
             [
              0,
              "#0d0887"
             ],
             [
              0.1111111111111111,
              "#46039f"
             ],
             [
              0.2222222222222222,
              "#7201a8"
             ],
             [
              0.3333333333333333,
              "#9c179e"
             ],
             [
              0.4444444444444444,
              "#bd3786"
             ],
             [
              0.5555555555555556,
              "#d8576b"
             ],
             [
              0.6666666666666666,
              "#ed7953"
             ],
             [
              0.7777777777777778,
              "#fb9f3a"
             ],
             [
              0.8888888888888888,
              "#fdca26"
             ],
             [
              1,
              "#f0f921"
             ]
            ],
            "type": "contour"
           }
          ],
          "contourcarpet": [
           {
            "colorbar": {
             "outlinewidth": 0,
             "ticks": ""
            },
            "type": "contourcarpet"
           }
          ],
          "heatmap": [
           {
            "colorbar": {
             "outlinewidth": 0,
             "ticks": ""
            },
            "colorscale": [
             [
              0,
              "#0d0887"
             ],
             [
              0.1111111111111111,
              "#46039f"
             ],
             [
              0.2222222222222222,
              "#7201a8"
             ],
             [
              0.3333333333333333,
              "#9c179e"
             ],
             [
              0.4444444444444444,
              "#bd3786"
             ],
             [
              0.5555555555555556,
              "#d8576b"
             ],
             [
              0.6666666666666666,
              "#ed7953"
             ],
             [
              0.7777777777777778,
              "#fb9f3a"
             ],
             [
              0.8888888888888888,
              "#fdca26"
             ],
             [
              1,
              "#f0f921"
             ]
            ],
            "type": "heatmap"
           }
          ],
          "heatmapgl": [
           {
            "colorbar": {
             "outlinewidth": 0,
             "ticks": ""
            },
            "colorscale": [
             [
              0,
              "#0d0887"
             ],
             [
              0.1111111111111111,
              "#46039f"
             ],
             [
              0.2222222222222222,
              "#7201a8"
             ],
             [
              0.3333333333333333,
              "#9c179e"
             ],
             [
              0.4444444444444444,
              "#bd3786"
             ],
             [
              0.5555555555555556,
              "#d8576b"
             ],
             [
              0.6666666666666666,
              "#ed7953"
             ],
             [
              0.7777777777777778,
              "#fb9f3a"
             ],
             [
              0.8888888888888888,
              "#fdca26"
             ],
             [
              1,
              "#f0f921"
             ]
            ],
            "type": "heatmapgl"
           }
          ],
          "histogram": [
           {
            "marker": {
             "colorbar": {
              "outlinewidth": 0,
              "ticks": ""
             }
            },
            "type": "histogram"
           }
          ],
          "histogram2d": [
           {
            "colorbar": {
             "outlinewidth": 0,
             "ticks": ""
            },
            "colorscale": [
             [
              0,
              "#0d0887"
             ],
             [
              0.1111111111111111,
              "#46039f"
             ],
             [
              0.2222222222222222,
              "#7201a8"
             ],
             [
              0.3333333333333333,
              "#9c179e"
             ],
             [
              0.4444444444444444,
              "#bd3786"
             ],
             [
              0.5555555555555556,
              "#d8576b"
             ],
             [
              0.6666666666666666,
              "#ed7953"
             ],
             [
              0.7777777777777778,
              "#fb9f3a"
             ],
             [
              0.8888888888888888,
              "#fdca26"
             ],
             [
              1,
              "#f0f921"
             ]
            ],
            "type": "histogram2d"
           }
          ],
          "histogram2dcontour": [
           {
            "colorbar": {
             "outlinewidth": 0,
             "ticks": ""
            },
            "colorscale": [
             [
              0,
              "#0d0887"
             ],
             [
              0.1111111111111111,
              "#46039f"
             ],
             [
              0.2222222222222222,
              "#7201a8"
             ],
             [
              0.3333333333333333,
              "#9c179e"
             ],
             [
              0.4444444444444444,
              "#bd3786"
             ],
             [
              0.5555555555555556,
              "#d8576b"
             ],
             [
              0.6666666666666666,
              "#ed7953"
             ],
             [
              0.7777777777777778,
              "#fb9f3a"
             ],
             [
              0.8888888888888888,
              "#fdca26"
             ],
             [
              1,
              "#f0f921"
             ]
            ],
            "type": "histogram2dcontour"
           }
          ],
          "mesh3d": [
           {
            "colorbar": {
             "outlinewidth": 0,
             "ticks": ""
            },
            "type": "mesh3d"
           }
          ],
          "parcoords": [
           {
            "line": {
             "colorbar": {
              "outlinewidth": 0,
              "ticks": ""
             }
            },
            "type": "parcoords"
           }
          ],
          "pie": [
           {
            "automargin": true,
            "type": "pie"
           }
          ],
          "scatter": [
           {
            "marker": {
             "colorbar": {
              "outlinewidth": 0,
              "ticks": ""
             }
            },
            "type": "scatter"
           }
          ],
          "scatter3d": [
           {
            "line": {
             "colorbar": {
              "outlinewidth": 0,
              "ticks": ""
             }
            },
            "marker": {
             "colorbar": {
              "outlinewidth": 0,
              "ticks": ""
             }
            },
            "type": "scatter3d"
           }
          ],
          "scattercarpet": [
           {
            "marker": {
             "colorbar": {
              "outlinewidth": 0,
              "ticks": ""
             }
            },
            "type": "scattercarpet"
           }
          ],
          "scattergeo": [
           {
            "marker": {
             "colorbar": {
              "outlinewidth": 0,
              "ticks": ""
             }
            },
            "type": "scattergeo"
           }
          ],
          "scattergl": [
           {
            "marker": {
             "colorbar": {
              "outlinewidth": 0,
              "ticks": ""
             }
            },
            "type": "scattergl"
           }
          ],
          "scattermapbox": [
           {
            "marker": {
             "colorbar": {
              "outlinewidth": 0,
              "ticks": ""
             }
            },
            "type": "scattermapbox"
           }
          ],
          "scatterpolar": [
           {
            "marker": {
             "colorbar": {
              "outlinewidth": 0,
              "ticks": ""
             }
            },
            "type": "scatterpolar"
           }
          ],
          "scatterpolargl": [
           {
            "marker": {
             "colorbar": {
              "outlinewidth": 0,
              "ticks": ""
             }
            },
            "type": "scatterpolargl"
           }
          ],
          "scatterternary": [
           {
            "marker": {
             "colorbar": {
              "outlinewidth": 0,
              "ticks": ""
             }
            },
            "type": "scatterternary"
           }
          ],
          "surface": [
           {
            "colorbar": {
             "outlinewidth": 0,
             "ticks": ""
            },
            "colorscale": [
             [
              0,
              "#0d0887"
             ],
             [
              0.1111111111111111,
              "#46039f"
             ],
             [
              0.2222222222222222,
              "#7201a8"
             ],
             [
              0.3333333333333333,
              "#9c179e"
             ],
             [
              0.4444444444444444,
              "#bd3786"
             ],
             [
              0.5555555555555556,
              "#d8576b"
             ],
             [
              0.6666666666666666,
              "#ed7953"
             ],
             [
              0.7777777777777778,
              "#fb9f3a"
             ],
             [
              0.8888888888888888,
              "#fdca26"
             ],
             [
              1,
              "#f0f921"
             ]
            ],
            "type": "surface"
           }
          ],
          "table": [
           {
            "cells": {
             "fill": {
              "color": "#EBF0F8"
             },
             "line": {
              "color": "white"
             }
            },
            "header": {
             "fill": {
              "color": "#C8D4E3"
             },
             "line": {
              "color": "white"
             }
            },
            "type": "table"
           }
          ]
         },
         "layout": {
          "annotationdefaults": {
           "arrowcolor": "#2a3f5f",
           "arrowhead": 0,
           "arrowwidth": 1
          },
          "autotypenumbers": "strict",
          "coloraxis": {
           "colorbar": {
            "outlinewidth": 0,
            "ticks": ""
           }
          },
          "colorscale": {
           "diverging": [
            [
             0,
             "#8e0152"
            ],
            [
             0.1,
             "#c51b7d"
            ],
            [
             0.2,
             "#de77ae"
            ],
            [
             0.3,
             "#f1b6da"
            ],
            [
             0.4,
             "#fde0ef"
            ],
            [
             0.5,
             "#f7f7f7"
            ],
            [
             0.6,
             "#e6f5d0"
            ],
            [
             0.7,
             "#b8e186"
            ],
            [
             0.8,
             "#7fbc41"
            ],
            [
             0.9,
             "#4d9221"
            ],
            [
             1,
             "#276419"
            ]
           ],
           "sequential": [
            [
             0,
             "#0d0887"
            ],
            [
             0.1111111111111111,
             "#46039f"
            ],
            [
             0.2222222222222222,
             "#7201a8"
            ],
            [
             0.3333333333333333,
             "#9c179e"
            ],
            [
             0.4444444444444444,
             "#bd3786"
            ],
            [
             0.5555555555555556,
             "#d8576b"
            ],
            [
             0.6666666666666666,
             "#ed7953"
            ],
            [
             0.7777777777777778,
             "#fb9f3a"
            ],
            [
             0.8888888888888888,
             "#fdca26"
            ],
            [
             1,
             "#f0f921"
            ]
           ],
           "sequentialminus": [
            [
             0,
             "#0d0887"
            ],
            [
             0.1111111111111111,
             "#46039f"
            ],
            [
             0.2222222222222222,
             "#7201a8"
            ],
            [
             0.3333333333333333,
             "#9c179e"
            ],
            [
             0.4444444444444444,
             "#bd3786"
            ],
            [
             0.5555555555555556,
             "#d8576b"
            ],
            [
             0.6666666666666666,
             "#ed7953"
            ],
            [
             0.7777777777777778,
             "#fb9f3a"
            ],
            [
             0.8888888888888888,
             "#fdca26"
            ],
            [
             1,
             "#f0f921"
            ]
           ]
          },
          "colorway": [
           "#636efa",
           "#EF553B",
           "#00cc96",
           "#ab63fa",
           "#FFA15A",
           "#19d3f3",
           "#FF6692",
           "#B6E880",
           "#FF97FF",
           "#FECB52"
          ],
          "font": {
           "color": "#2a3f5f"
          },
          "geo": {
           "bgcolor": "white",
           "lakecolor": "white",
           "landcolor": "#E5ECF6",
           "showlakes": true,
           "showland": true,
           "subunitcolor": "white"
          },
          "hoverlabel": {
           "align": "left"
          },
          "hovermode": "closest",
          "mapbox": {
           "style": "light"
          },
          "paper_bgcolor": "white",
          "plot_bgcolor": "#E5ECF6",
          "polar": {
           "angularaxis": {
            "gridcolor": "white",
            "linecolor": "white",
            "ticks": ""
           },
           "bgcolor": "#E5ECF6",
           "radialaxis": {
            "gridcolor": "white",
            "linecolor": "white",
            "ticks": ""
           }
          },
          "scene": {
           "xaxis": {
            "backgroundcolor": "#E5ECF6",
            "gridcolor": "white",
            "gridwidth": 2,
            "linecolor": "white",
            "showbackground": true,
            "ticks": "",
            "zerolinecolor": "white"
           },
           "yaxis": {
            "backgroundcolor": "#E5ECF6",
            "gridcolor": "white",
            "gridwidth": 2,
            "linecolor": "white",
            "showbackground": true,
            "ticks": "",
            "zerolinecolor": "white"
           },
           "zaxis": {
            "backgroundcolor": "#E5ECF6",
            "gridcolor": "white",
            "gridwidth": 2,
            "linecolor": "white",
            "showbackground": true,
            "ticks": "",
            "zerolinecolor": "white"
           }
          },
          "shapedefaults": {
           "line": {
            "color": "#2a3f5f"
           }
          },
          "ternary": {
           "aaxis": {
            "gridcolor": "white",
            "linecolor": "white",
            "ticks": ""
           },
           "baxis": {
            "gridcolor": "white",
            "linecolor": "white",
            "ticks": ""
           },
           "bgcolor": "#E5ECF6",
           "caxis": {
            "gridcolor": "white",
            "linecolor": "white",
            "ticks": ""
           }
          },
          "title": {
           "x": 0.05
          },
          "xaxis": {
           "automargin": true,
           "gridcolor": "white",
           "linecolor": "white",
           "ticks": "",
           "title": {
            "standoff": 15
           },
           "zerolinecolor": "white",
           "zerolinewidth": 2
          },
          "yaxis": {
           "automargin": true,
           "gridcolor": "white",
           "linecolor": "white",
           "ticks": "",
           "title": {
            "standoff": 15
           },
           "zerolinecolor": "white",
           "zerolinewidth": 2
          }
         }
        },
        "width": 500,
        "xaxis": {
         "anchor": "y",
         "constrain": "domain",
         "domain": [
          0,
          1
         ],
         "scaleanchor": "y"
        },
        "yaxis": {
         "anchor": "x",
         "autorange": "reversed",
         "constrain": "domain",
         "domain": [
          0,
          1
         ]
        }
       }
      },
      "text/html": [
       "<div>                            <div id=\"c3755179-0590-4b07-9ac0-8ac0ba3c12e4\" class=\"plotly-graph-div\" style=\"height:500px; width:500px;\"></div>            <script type=\"text/javascript\">                require([\"plotly\"], function(Plotly) {                    window.PLOTLYENV=window.PLOTLYENV || {};                                    if (document.getElementById(\"c3755179-0590-4b07-9ac0-8ac0ba3c12e4\")) {                    Plotly.newPlot(                        \"c3755179-0590-4b07-9ac0-8ac0ba3c12e4\",                        [{\"coloraxis\": \"coloraxis\", \"hovertemplate\": \"x: %{x}<br>y: %{y}<br>color: %{z}<extra></extra>\", \"name\": \"0\", \"type\": \"heatmap\", \"xaxis\": \"x\", \"yaxis\": \"y\", \"z\": [[2.0162779512887805e-06, 0.0008134245812344364, 0.006010439862990422, 0.0008154408591857251, 0.0008154408591857251, 0.006010439862990422, 0.0008134245812344364, 2.0162779512887805e-06], [1.683122795852223e-05, 0.006790201988307814, 0.05017318341467688, 0.006807033216266336, 0.006807033216266336, 0.05017318341467688, 0.006790201988307814, 1.683122795852223e-05], [1.8842532711104724e-05, 0.00680502688471246, 0.05017518974623076, 0.006807038189465043, 0.006807038189465043, 0.05017518974623076, 0.00680502688471246, 1.8842532711104724e-05], [0.0008154458323844316, 0.006809039547820214, 0.006821858112670983, 0.0008174521639383077, 0.0008174521639383077, 0.006821858112670983, 0.006809039547820214, 0.0008154458323844316], [0.006809049494217625, 0.05098661296911002, 0.01280265315605082, 0.0008491033151027698, 0.0008491033151027698, 0.01280265315605082, 0.05098661296911002, 0.006809049494217625], [0.006823864444224858, 0.05696539173453857, 0.057774803652665255, 0.013614066432532672, 0.013614066432532672, 0.057774803652665255, 0.05696539173453857, 0.006823864444224858], [0.000830260782391665, 0.012800641851298237, 0.05698021663094322, 0.056982227935695795, 0.056982227935695795, 0.05698021663094322, 0.012800641851298237, 0.000830260782391665], [4.027582703871276e-06, 0.0008302607823916649, 0.006825875748977442, 0.00762247904865077, 0.00762247904865077, 0.006825875748977442, 0.0008302607823916649, 4.027582703871276e-06]]}],                        {\"coloraxis\": {\"colorscale\": [[0.0, \"rgb(243, 231, 155)\"], [0.16666666666666666, \"rgb(250, 196, 132)\"], [0.3333333333333333, \"rgb(248, 160, 126)\"], [0.5, \"rgb(235, 127, 134)\"], [0.6666666666666666, \"rgb(206, 102, 147)\"], [0.8333333333333334, \"rgb(160, 89, 160)\"], [1.0, \"rgb(92, 83, 165)\"]]}, \"height\": 500, \"margin\": {\"t\": 60}, \"template\": {\"data\": {\"bar\": [{\"error_x\": {\"color\": \"#2a3f5f\"}, \"error_y\": {\"color\": \"#2a3f5f\"}, \"marker\": {\"line\": {\"color\": \"#E5ECF6\", \"width\": 0.5}}, \"type\": \"bar\"}], \"barpolar\": [{\"marker\": {\"line\": {\"color\": \"#E5ECF6\", \"width\": 0.5}}, \"type\": \"barpolar\"}], \"carpet\": [{\"aaxis\": {\"endlinecolor\": \"#2a3f5f\", \"gridcolor\": \"white\", \"linecolor\": \"white\", \"minorgridcolor\": \"white\", \"startlinecolor\": \"#2a3f5f\"}, \"baxis\": {\"endlinecolor\": \"#2a3f5f\", \"gridcolor\": \"white\", \"linecolor\": \"white\", \"minorgridcolor\": \"white\", \"startlinecolor\": \"#2a3f5f\"}, \"type\": \"carpet\"}], \"choropleth\": [{\"colorbar\": {\"outlinewidth\": 0, \"ticks\": \"\"}, \"type\": \"choropleth\"}], \"contour\": [{\"colorbar\": {\"outlinewidth\": 0, \"ticks\": \"\"}, \"colorscale\": [[0.0, \"#0d0887\"], [0.1111111111111111, \"#46039f\"], [0.2222222222222222, \"#7201a8\"], [0.3333333333333333, \"#9c179e\"], [0.4444444444444444, \"#bd3786\"], [0.5555555555555556, \"#d8576b\"], [0.6666666666666666, \"#ed7953\"], [0.7777777777777778, \"#fb9f3a\"], [0.8888888888888888, \"#fdca26\"], [1.0, \"#f0f921\"]], \"type\": \"contour\"}], \"contourcarpet\": [{\"colorbar\": {\"outlinewidth\": 0, \"ticks\": \"\"}, \"type\": \"contourcarpet\"}], \"heatmap\": [{\"colorbar\": {\"outlinewidth\": 0, \"ticks\": \"\"}, \"colorscale\": [[0.0, \"#0d0887\"], [0.1111111111111111, \"#46039f\"], [0.2222222222222222, \"#7201a8\"], [0.3333333333333333, \"#9c179e\"], [0.4444444444444444, \"#bd3786\"], [0.5555555555555556, \"#d8576b\"], [0.6666666666666666, \"#ed7953\"], [0.7777777777777778, \"#fb9f3a\"], [0.8888888888888888, \"#fdca26\"], [1.0, \"#f0f921\"]], \"type\": \"heatmap\"}], \"heatmapgl\": [{\"colorbar\": {\"outlinewidth\": 0, \"ticks\": \"\"}, \"colorscale\": [[0.0, \"#0d0887\"], [0.1111111111111111, \"#46039f\"], [0.2222222222222222, \"#7201a8\"], [0.3333333333333333, \"#9c179e\"], [0.4444444444444444, \"#bd3786\"], [0.5555555555555556, \"#d8576b\"], [0.6666666666666666, \"#ed7953\"], [0.7777777777777778, \"#fb9f3a\"], [0.8888888888888888, \"#fdca26\"], [1.0, \"#f0f921\"]], \"type\": \"heatmapgl\"}], \"histogram\": [{\"marker\": {\"colorbar\": {\"outlinewidth\": 0, \"ticks\": \"\"}}, \"type\": \"histogram\"}], \"histogram2d\": [{\"colorbar\": {\"outlinewidth\": 0, \"ticks\": \"\"}, \"colorscale\": [[0.0, \"#0d0887\"], [0.1111111111111111, \"#46039f\"], [0.2222222222222222, \"#7201a8\"], [0.3333333333333333, \"#9c179e\"], [0.4444444444444444, \"#bd3786\"], [0.5555555555555556, \"#d8576b\"], [0.6666666666666666, \"#ed7953\"], [0.7777777777777778, \"#fb9f3a\"], [0.8888888888888888, \"#fdca26\"], [1.0, \"#f0f921\"]], \"type\": \"histogram2d\"}], \"histogram2dcontour\": [{\"colorbar\": {\"outlinewidth\": 0, \"ticks\": \"\"}, \"colorscale\": [[0.0, \"#0d0887\"], [0.1111111111111111, \"#46039f\"], [0.2222222222222222, \"#7201a8\"], [0.3333333333333333, \"#9c179e\"], [0.4444444444444444, \"#bd3786\"], [0.5555555555555556, \"#d8576b\"], [0.6666666666666666, \"#ed7953\"], [0.7777777777777778, \"#fb9f3a\"], [0.8888888888888888, \"#fdca26\"], [1.0, \"#f0f921\"]], \"type\": \"histogram2dcontour\"}], \"mesh3d\": [{\"colorbar\": {\"outlinewidth\": 0, \"ticks\": \"\"}, \"type\": \"mesh3d\"}], \"parcoords\": [{\"line\": {\"colorbar\": {\"outlinewidth\": 0, \"ticks\": \"\"}}, \"type\": \"parcoords\"}], \"pie\": [{\"automargin\": true, \"type\": \"pie\"}], \"scatter\": [{\"marker\": {\"colorbar\": {\"outlinewidth\": 0, \"ticks\": \"\"}}, \"type\": \"scatter\"}], \"scatter3d\": [{\"line\": {\"colorbar\": {\"outlinewidth\": 0, \"ticks\": \"\"}}, \"marker\": {\"colorbar\": {\"outlinewidth\": 0, \"ticks\": \"\"}}, \"type\": \"scatter3d\"}], \"scattercarpet\": [{\"marker\": {\"colorbar\": {\"outlinewidth\": 0, \"ticks\": \"\"}}, \"type\": \"scattercarpet\"}], \"scattergeo\": [{\"marker\": {\"colorbar\": {\"outlinewidth\": 0, \"ticks\": \"\"}}, \"type\": \"scattergeo\"}], \"scattergl\": [{\"marker\": {\"colorbar\": {\"outlinewidth\": 0, \"ticks\": \"\"}}, \"type\": \"scattergl\"}], \"scattermapbox\": [{\"marker\": {\"colorbar\": {\"outlinewidth\": 0, \"ticks\": \"\"}}, \"type\": \"scattermapbox\"}], \"scatterpolar\": [{\"marker\": {\"colorbar\": {\"outlinewidth\": 0, \"ticks\": \"\"}}, \"type\": \"scatterpolar\"}], \"scatterpolargl\": [{\"marker\": {\"colorbar\": {\"outlinewidth\": 0, \"ticks\": \"\"}}, \"type\": \"scatterpolargl\"}], \"scatterternary\": [{\"marker\": {\"colorbar\": {\"outlinewidth\": 0, \"ticks\": \"\"}}, \"type\": \"scatterternary\"}], \"surface\": [{\"colorbar\": {\"outlinewidth\": 0, \"ticks\": \"\"}, \"colorscale\": [[0.0, \"#0d0887\"], [0.1111111111111111, \"#46039f\"], [0.2222222222222222, \"#7201a8\"], [0.3333333333333333, \"#9c179e\"], [0.4444444444444444, \"#bd3786\"], [0.5555555555555556, \"#d8576b\"], [0.6666666666666666, \"#ed7953\"], [0.7777777777777778, \"#fb9f3a\"], [0.8888888888888888, \"#fdca26\"], [1.0, \"#f0f921\"]], \"type\": \"surface\"}], \"table\": [{\"cells\": {\"fill\": {\"color\": \"#EBF0F8\"}, \"line\": {\"color\": \"white\"}}, \"header\": {\"fill\": {\"color\": \"#C8D4E3\"}, \"line\": {\"color\": \"white\"}}, \"type\": \"table\"}]}, \"layout\": {\"annotationdefaults\": {\"arrowcolor\": \"#2a3f5f\", \"arrowhead\": 0, \"arrowwidth\": 1}, \"autotypenumbers\": \"strict\", \"coloraxis\": {\"colorbar\": {\"outlinewidth\": 0, \"ticks\": \"\"}}, \"colorscale\": {\"diverging\": [[0, \"#8e0152\"], [0.1, \"#c51b7d\"], [0.2, \"#de77ae\"], [0.3, \"#f1b6da\"], [0.4, \"#fde0ef\"], [0.5, \"#f7f7f7\"], [0.6, \"#e6f5d0\"], [0.7, \"#b8e186\"], [0.8, \"#7fbc41\"], [0.9, \"#4d9221\"], [1, \"#276419\"]], \"sequential\": [[0.0, \"#0d0887\"], [0.1111111111111111, \"#46039f\"], [0.2222222222222222, \"#7201a8\"], [0.3333333333333333, \"#9c179e\"], [0.4444444444444444, \"#bd3786\"], [0.5555555555555556, \"#d8576b\"], [0.6666666666666666, \"#ed7953\"], [0.7777777777777778, \"#fb9f3a\"], [0.8888888888888888, \"#fdca26\"], [1.0, \"#f0f921\"]], \"sequentialminus\": [[0.0, \"#0d0887\"], [0.1111111111111111, \"#46039f\"], [0.2222222222222222, \"#7201a8\"], [0.3333333333333333, \"#9c179e\"], [0.4444444444444444, \"#bd3786\"], [0.5555555555555556, \"#d8576b\"], [0.6666666666666666, \"#ed7953\"], [0.7777777777777778, \"#fb9f3a\"], [0.8888888888888888, \"#fdca26\"], [1.0, \"#f0f921\"]]}, \"colorway\": [\"#636efa\", \"#EF553B\", \"#00cc96\", \"#ab63fa\", \"#FFA15A\", \"#19d3f3\", \"#FF6692\", \"#B6E880\", \"#FF97FF\", \"#FECB52\"], \"font\": {\"color\": \"#2a3f5f\"}, \"geo\": {\"bgcolor\": \"white\", \"lakecolor\": \"white\", \"landcolor\": \"#E5ECF6\", \"showlakes\": true, \"showland\": true, \"subunitcolor\": \"white\"}, \"hoverlabel\": {\"align\": \"left\"}, \"hovermode\": \"closest\", \"mapbox\": {\"style\": \"light\"}, \"paper_bgcolor\": \"white\", \"plot_bgcolor\": \"#E5ECF6\", \"polar\": {\"angularaxis\": {\"gridcolor\": \"white\", \"linecolor\": \"white\", \"ticks\": \"\"}, \"bgcolor\": \"#E5ECF6\", \"radialaxis\": {\"gridcolor\": \"white\", \"linecolor\": \"white\", \"ticks\": \"\"}}, \"scene\": {\"xaxis\": {\"backgroundcolor\": \"#E5ECF6\", \"gridcolor\": \"white\", \"gridwidth\": 2, \"linecolor\": \"white\", \"showbackground\": true, \"ticks\": \"\", \"zerolinecolor\": \"white\"}, \"yaxis\": {\"backgroundcolor\": \"#E5ECF6\", \"gridcolor\": \"white\", \"gridwidth\": 2, \"linecolor\": \"white\", \"showbackground\": true, \"ticks\": \"\", \"zerolinecolor\": \"white\"}, \"zaxis\": {\"backgroundcolor\": \"#E5ECF6\", \"gridcolor\": \"white\", \"gridwidth\": 2, \"linecolor\": \"white\", \"showbackground\": true, \"ticks\": \"\", \"zerolinecolor\": \"white\"}}, \"shapedefaults\": {\"line\": {\"color\": \"#2a3f5f\"}}, \"ternary\": {\"aaxis\": {\"gridcolor\": \"white\", \"linecolor\": \"white\", \"ticks\": \"\"}, \"baxis\": {\"gridcolor\": \"white\", \"linecolor\": \"white\", \"ticks\": \"\"}, \"bgcolor\": \"#E5ECF6\", \"caxis\": {\"gridcolor\": \"white\", \"linecolor\": \"white\", \"ticks\": \"\"}}, \"title\": {\"x\": 0.05}, \"xaxis\": {\"automargin\": true, \"gridcolor\": \"white\", \"linecolor\": \"white\", \"ticks\": \"\", \"title\": {\"standoff\": 15}, \"zerolinecolor\": \"white\", \"zerolinewidth\": 2}, \"yaxis\": {\"automargin\": true, \"gridcolor\": \"white\", \"linecolor\": \"white\", \"ticks\": \"\", \"title\": {\"standoff\": 15}, \"zerolinecolor\": \"white\", \"zerolinewidth\": 2}}}, \"width\": 500, \"xaxis\": {\"anchor\": \"y\", \"constrain\": \"domain\", \"domain\": [0.0, 1.0], \"scaleanchor\": \"y\"}, \"yaxis\": {\"anchor\": \"x\", \"autorange\": \"reversed\", \"constrain\": \"domain\", \"domain\": [0.0, 1.0]}},                        {\"responsive\": true}                    ).then(function(){\n",
       "                            \n",
       "var gd = document.getElementById('c3755179-0590-4b07-9ac0-8ac0ba3c12e4');\n",
       "var x = new MutationObserver(function (mutations, observer) {{\n",
       "        var display = window.getComputedStyle(gd).display;\n",
       "        if (!display || display === 'none') {{\n",
       "            console.log([gd, 'removed!']);\n",
       "            Plotly.purge(gd);\n",
       "            observer.disconnect();\n",
       "        }}\n",
       "}});\n",
       "\n",
       "// Listen for the removal of the full notebook cells\n",
       "var notebookContainer = gd.closest('#notebook-container');\n",
       "if (notebookContainer) {{\n",
       "    x.observe(notebookContainer, {childList: true});\n",
       "}}\n",
       "\n",
       "// Listen for the clearing of the current output cell\n",
       "var outputEl = gd.closest('.output');\n",
       "if (outputEl) {{\n",
       "    x.observe(outputEl, {childList: true});\n",
       "}}\n",
       "\n",
       "                        })                };                });            </script>        </div>"
      ]
     },
     "metadata": {},
     "output_type": "display_data"
    }
   ],
   "source": [
    "imgen.load_image(pixel_art, blur_sigma=0.5, show_figure=True)"
   ]
  },
  {
   "cell_type": "code",
   "execution_count": 26,
   "metadata": {
    "scrolled": false
   },
   "outputs": [
    {
     "name": "stdout",
     "output_type": "stream",
     "text": [
      "Training epoch 100 of 100:\n"
     ]
    },
    {
     "data": {
      "application/vnd.plotly.v1+json": {
       "config": {
        "plotlyServerURL": "https://plot.ly"
       },
       "data": [
        {
         "coloraxis": "coloraxis",
         "hovertemplate": "x: %{x}<br>y: %{y}<br>color: %{z}<extra></extra>",
         "name": "0",
         "type": "heatmap",
         "xaxis": "x",
         "yaxis": "y",
         "z": [
          [
           0.000909399506050228,
           0.0014667809565139583,
           0.0073880212997326535,
           0.0015185019870562059,
           0.007747631750015877,
           0.009321297589157526,
           0.0051913720091172,
           0.000991253081899758
          ],
          [
           0.0013212966206680172,
           0.007817282333404927,
           0.05110327572330208,
           0.009539759698283447,
           0.0069289156413630485,
           0.038452015100667,
           0.007176091861205223,
           0.00098737081965184
          ],
          [
           0.0011670419029289293,
           0.00906152376753612,
           0.04286419922362115,
           0.007347216697251543,
           0.008543618682680347,
           0.040944125364129294,
           0.00736518583375438,
           0.0010320442556511309
          ],
          [
           0.008025103325918588,
           0.00710171335137998,
           0.007413421205481564,
           0.006731568619451097,
           0.006634554467316919,
           0.008857008172110808,
           0.006938162220729489,
           0.0016230276941186746
          ],
          [
           0.007438874519641043,
           0.044830827558281335,
           0.008137889754171868,
           0.0016604849778201756,
           0.0016514441388966713,
           0.009535108173931113,
           0.040884607710791075,
           0.008480783937371556
          ],
          [
           0.007410798994044886,
           0.0519070572349902,
           0.05213888785587657,
           0.03399932987007457,
           0.03444309496474749,
           0.04898132340275991,
           0.05365064322757829,
           0.009038305150941593
          ],
          [
           0.0017785640818762725,
           0.006590443446299536,
           0.05178551559167123,
           0.040836024802113395,
           0.05969092191477219,
           0.04609680075612511,
           0.008074712353322789,
           0.0012175564092881245
          ],
          [
           0.0010256065429162732,
           0.0019384546556826185,
           0.008014528813134253,
           0.006714825312993323,
           0.006483139666281117,
           0.007435083646180283,
           0.0076822600245034095,
           0.0009363197487718375
          ]
         ]
        }
       ],
       "layout": {
        "coloraxis": {
         "colorscale": [
          [
           0,
           "rgb(243, 231, 155)"
          ],
          [
           0.16666666666666666,
           "rgb(250, 196, 132)"
          ],
          [
           0.3333333333333333,
           "rgb(248, 160, 126)"
          ],
          [
           0.5,
           "rgb(235, 127, 134)"
          ],
          [
           0.6666666666666666,
           "rgb(206, 102, 147)"
          ],
          [
           0.8333333333333334,
           "rgb(160, 89, 160)"
          ],
          [
           1,
           "rgb(92, 83, 165)"
          ]
         ]
        },
        "height": 500,
        "margin": {
         "t": 60
        },
        "template": {
         "data": {
          "bar": [
           {
            "error_x": {
             "color": "#2a3f5f"
            },
            "error_y": {
             "color": "#2a3f5f"
            },
            "marker": {
             "line": {
              "color": "#E5ECF6",
              "width": 0.5
             }
            },
            "type": "bar"
           }
          ],
          "barpolar": [
           {
            "marker": {
             "line": {
              "color": "#E5ECF6",
              "width": 0.5
             }
            },
            "type": "barpolar"
           }
          ],
          "carpet": [
           {
            "aaxis": {
             "endlinecolor": "#2a3f5f",
             "gridcolor": "white",
             "linecolor": "white",
             "minorgridcolor": "white",
             "startlinecolor": "#2a3f5f"
            },
            "baxis": {
             "endlinecolor": "#2a3f5f",
             "gridcolor": "white",
             "linecolor": "white",
             "minorgridcolor": "white",
             "startlinecolor": "#2a3f5f"
            },
            "type": "carpet"
           }
          ],
          "choropleth": [
           {
            "colorbar": {
             "outlinewidth": 0,
             "ticks": ""
            },
            "type": "choropleth"
           }
          ],
          "contour": [
           {
            "colorbar": {
             "outlinewidth": 0,
             "ticks": ""
            },
            "colorscale": [
             [
              0,
              "#0d0887"
             ],
             [
              0.1111111111111111,
              "#46039f"
             ],
             [
              0.2222222222222222,
              "#7201a8"
             ],
             [
              0.3333333333333333,
              "#9c179e"
             ],
             [
              0.4444444444444444,
              "#bd3786"
             ],
             [
              0.5555555555555556,
              "#d8576b"
             ],
             [
              0.6666666666666666,
              "#ed7953"
             ],
             [
              0.7777777777777778,
              "#fb9f3a"
             ],
             [
              0.8888888888888888,
              "#fdca26"
             ],
             [
              1,
              "#f0f921"
             ]
            ],
            "type": "contour"
           }
          ],
          "contourcarpet": [
           {
            "colorbar": {
             "outlinewidth": 0,
             "ticks": ""
            },
            "type": "contourcarpet"
           }
          ],
          "heatmap": [
           {
            "colorbar": {
             "outlinewidth": 0,
             "ticks": ""
            },
            "colorscale": [
             [
              0,
              "#0d0887"
             ],
             [
              0.1111111111111111,
              "#46039f"
             ],
             [
              0.2222222222222222,
              "#7201a8"
             ],
             [
              0.3333333333333333,
              "#9c179e"
             ],
             [
              0.4444444444444444,
              "#bd3786"
             ],
             [
              0.5555555555555556,
              "#d8576b"
             ],
             [
              0.6666666666666666,
              "#ed7953"
             ],
             [
              0.7777777777777778,
              "#fb9f3a"
             ],
             [
              0.8888888888888888,
              "#fdca26"
             ],
             [
              1,
              "#f0f921"
             ]
            ],
            "type": "heatmap"
           }
          ],
          "heatmapgl": [
           {
            "colorbar": {
             "outlinewidth": 0,
             "ticks": ""
            },
            "colorscale": [
             [
              0,
              "#0d0887"
             ],
             [
              0.1111111111111111,
              "#46039f"
             ],
             [
              0.2222222222222222,
              "#7201a8"
             ],
             [
              0.3333333333333333,
              "#9c179e"
             ],
             [
              0.4444444444444444,
              "#bd3786"
             ],
             [
              0.5555555555555556,
              "#d8576b"
             ],
             [
              0.6666666666666666,
              "#ed7953"
             ],
             [
              0.7777777777777778,
              "#fb9f3a"
             ],
             [
              0.8888888888888888,
              "#fdca26"
             ],
             [
              1,
              "#f0f921"
             ]
            ],
            "type": "heatmapgl"
           }
          ],
          "histogram": [
           {
            "marker": {
             "colorbar": {
              "outlinewidth": 0,
              "ticks": ""
             }
            },
            "type": "histogram"
           }
          ],
          "histogram2d": [
           {
            "colorbar": {
             "outlinewidth": 0,
             "ticks": ""
            },
            "colorscale": [
             [
              0,
              "#0d0887"
             ],
             [
              0.1111111111111111,
              "#46039f"
             ],
             [
              0.2222222222222222,
              "#7201a8"
             ],
             [
              0.3333333333333333,
              "#9c179e"
             ],
             [
              0.4444444444444444,
              "#bd3786"
             ],
             [
              0.5555555555555556,
              "#d8576b"
             ],
             [
              0.6666666666666666,
              "#ed7953"
             ],
             [
              0.7777777777777778,
              "#fb9f3a"
             ],
             [
              0.8888888888888888,
              "#fdca26"
             ],
             [
              1,
              "#f0f921"
             ]
            ],
            "type": "histogram2d"
           }
          ],
          "histogram2dcontour": [
           {
            "colorbar": {
             "outlinewidth": 0,
             "ticks": ""
            },
            "colorscale": [
             [
              0,
              "#0d0887"
             ],
             [
              0.1111111111111111,
              "#46039f"
             ],
             [
              0.2222222222222222,
              "#7201a8"
             ],
             [
              0.3333333333333333,
              "#9c179e"
             ],
             [
              0.4444444444444444,
              "#bd3786"
             ],
             [
              0.5555555555555556,
              "#d8576b"
             ],
             [
              0.6666666666666666,
              "#ed7953"
             ],
             [
              0.7777777777777778,
              "#fb9f3a"
             ],
             [
              0.8888888888888888,
              "#fdca26"
             ],
             [
              1,
              "#f0f921"
             ]
            ],
            "type": "histogram2dcontour"
           }
          ],
          "mesh3d": [
           {
            "colorbar": {
             "outlinewidth": 0,
             "ticks": ""
            },
            "type": "mesh3d"
           }
          ],
          "parcoords": [
           {
            "line": {
             "colorbar": {
              "outlinewidth": 0,
              "ticks": ""
             }
            },
            "type": "parcoords"
           }
          ],
          "pie": [
           {
            "automargin": true,
            "type": "pie"
           }
          ],
          "scatter": [
           {
            "marker": {
             "colorbar": {
              "outlinewidth": 0,
              "ticks": ""
             }
            },
            "type": "scatter"
           }
          ],
          "scatter3d": [
           {
            "line": {
             "colorbar": {
              "outlinewidth": 0,
              "ticks": ""
             }
            },
            "marker": {
             "colorbar": {
              "outlinewidth": 0,
              "ticks": ""
             }
            },
            "type": "scatter3d"
           }
          ],
          "scattercarpet": [
           {
            "marker": {
             "colorbar": {
              "outlinewidth": 0,
              "ticks": ""
             }
            },
            "type": "scattercarpet"
           }
          ],
          "scattergeo": [
           {
            "marker": {
             "colorbar": {
              "outlinewidth": 0,
              "ticks": ""
             }
            },
            "type": "scattergeo"
           }
          ],
          "scattergl": [
           {
            "marker": {
             "colorbar": {
              "outlinewidth": 0,
              "ticks": ""
             }
            },
            "type": "scattergl"
           }
          ],
          "scattermapbox": [
           {
            "marker": {
             "colorbar": {
              "outlinewidth": 0,
              "ticks": ""
             }
            },
            "type": "scattermapbox"
           }
          ],
          "scatterpolar": [
           {
            "marker": {
             "colorbar": {
              "outlinewidth": 0,
              "ticks": ""
             }
            },
            "type": "scatterpolar"
           }
          ],
          "scatterpolargl": [
           {
            "marker": {
             "colorbar": {
              "outlinewidth": 0,
              "ticks": ""
             }
            },
            "type": "scatterpolargl"
           }
          ],
          "scatterternary": [
           {
            "marker": {
             "colorbar": {
              "outlinewidth": 0,
              "ticks": ""
             }
            },
            "type": "scatterternary"
           }
          ],
          "surface": [
           {
            "colorbar": {
             "outlinewidth": 0,
             "ticks": ""
            },
            "colorscale": [
             [
              0,
              "#0d0887"
             ],
             [
              0.1111111111111111,
              "#46039f"
             ],
             [
              0.2222222222222222,
              "#7201a8"
             ],
             [
              0.3333333333333333,
              "#9c179e"
             ],
             [
              0.4444444444444444,
              "#bd3786"
             ],
             [
              0.5555555555555556,
              "#d8576b"
             ],
             [
              0.6666666666666666,
              "#ed7953"
             ],
             [
              0.7777777777777778,
              "#fb9f3a"
             ],
             [
              0.8888888888888888,
              "#fdca26"
             ],
             [
              1,
              "#f0f921"
             ]
            ],
            "type": "surface"
           }
          ],
          "table": [
           {
            "cells": {
             "fill": {
              "color": "#EBF0F8"
             },
             "line": {
              "color": "white"
             }
            },
            "header": {
             "fill": {
              "color": "#C8D4E3"
             },
             "line": {
              "color": "white"
             }
            },
            "type": "table"
           }
          ]
         },
         "layout": {
          "annotationdefaults": {
           "arrowcolor": "#2a3f5f",
           "arrowhead": 0,
           "arrowwidth": 1
          },
          "autotypenumbers": "strict",
          "coloraxis": {
           "colorbar": {
            "outlinewidth": 0,
            "ticks": ""
           }
          },
          "colorscale": {
           "diverging": [
            [
             0,
             "#8e0152"
            ],
            [
             0.1,
             "#c51b7d"
            ],
            [
             0.2,
             "#de77ae"
            ],
            [
             0.3,
             "#f1b6da"
            ],
            [
             0.4,
             "#fde0ef"
            ],
            [
             0.5,
             "#f7f7f7"
            ],
            [
             0.6,
             "#e6f5d0"
            ],
            [
             0.7,
             "#b8e186"
            ],
            [
             0.8,
             "#7fbc41"
            ],
            [
             0.9,
             "#4d9221"
            ],
            [
             1,
             "#276419"
            ]
           ],
           "sequential": [
            [
             0,
             "#0d0887"
            ],
            [
             0.1111111111111111,
             "#46039f"
            ],
            [
             0.2222222222222222,
             "#7201a8"
            ],
            [
             0.3333333333333333,
             "#9c179e"
            ],
            [
             0.4444444444444444,
             "#bd3786"
            ],
            [
             0.5555555555555556,
             "#d8576b"
            ],
            [
             0.6666666666666666,
             "#ed7953"
            ],
            [
             0.7777777777777778,
             "#fb9f3a"
            ],
            [
             0.8888888888888888,
             "#fdca26"
            ],
            [
             1,
             "#f0f921"
            ]
           ],
           "sequentialminus": [
            [
             0,
             "#0d0887"
            ],
            [
             0.1111111111111111,
             "#46039f"
            ],
            [
             0.2222222222222222,
             "#7201a8"
            ],
            [
             0.3333333333333333,
             "#9c179e"
            ],
            [
             0.4444444444444444,
             "#bd3786"
            ],
            [
             0.5555555555555556,
             "#d8576b"
            ],
            [
             0.6666666666666666,
             "#ed7953"
            ],
            [
             0.7777777777777778,
             "#fb9f3a"
            ],
            [
             0.8888888888888888,
             "#fdca26"
            ],
            [
             1,
             "#f0f921"
            ]
           ]
          },
          "colorway": [
           "#636efa",
           "#EF553B",
           "#00cc96",
           "#ab63fa",
           "#FFA15A",
           "#19d3f3",
           "#FF6692",
           "#B6E880",
           "#FF97FF",
           "#FECB52"
          ],
          "font": {
           "color": "#2a3f5f"
          },
          "geo": {
           "bgcolor": "white",
           "lakecolor": "white",
           "landcolor": "#E5ECF6",
           "showlakes": true,
           "showland": true,
           "subunitcolor": "white"
          },
          "hoverlabel": {
           "align": "left"
          },
          "hovermode": "closest",
          "mapbox": {
           "style": "light"
          },
          "paper_bgcolor": "white",
          "plot_bgcolor": "#E5ECF6",
          "polar": {
           "angularaxis": {
            "gridcolor": "white",
            "linecolor": "white",
            "ticks": ""
           },
           "bgcolor": "#E5ECF6",
           "radialaxis": {
            "gridcolor": "white",
            "linecolor": "white",
            "ticks": ""
           }
          },
          "scene": {
           "xaxis": {
            "backgroundcolor": "#E5ECF6",
            "gridcolor": "white",
            "gridwidth": 2,
            "linecolor": "white",
            "showbackground": true,
            "ticks": "",
            "zerolinecolor": "white"
           },
           "yaxis": {
            "backgroundcolor": "#E5ECF6",
            "gridcolor": "white",
            "gridwidth": 2,
            "linecolor": "white",
            "showbackground": true,
            "ticks": "",
            "zerolinecolor": "white"
           },
           "zaxis": {
            "backgroundcolor": "#E5ECF6",
            "gridcolor": "white",
            "gridwidth": 2,
            "linecolor": "white",
            "showbackground": true,
            "ticks": "",
            "zerolinecolor": "white"
           }
          },
          "shapedefaults": {
           "line": {
            "color": "#2a3f5f"
           }
          },
          "ternary": {
           "aaxis": {
            "gridcolor": "white",
            "linecolor": "white",
            "ticks": ""
           },
           "baxis": {
            "gridcolor": "white",
            "linecolor": "white",
            "ticks": ""
           },
           "bgcolor": "#E5ECF6",
           "caxis": {
            "gridcolor": "white",
            "linecolor": "white",
            "ticks": ""
           }
          },
          "title": {
           "x": 0.05
          },
          "xaxis": {
           "automargin": true,
           "gridcolor": "white",
           "linecolor": "white",
           "ticks": "",
           "title": {
            "standoff": 15
           },
           "zerolinecolor": "white",
           "zerolinewidth": 2
          },
          "yaxis": {
           "automargin": true,
           "gridcolor": "white",
           "linecolor": "white",
           "ticks": "",
           "title": {
            "standoff": 15
           },
           "zerolinecolor": "white",
           "zerolinewidth": 2
          }
         }
        },
        "width": 500,
        "xaxis": {
         "anchor": "y",
         "constrain": "domain",
         "domain": [
          0,
          1
         ],
         "scaleanchor": "y"
        },
        "yaxis": {
         "anchor": "x",
         "autorange": "reversed",
         "constrain": "domain",
         "domain": [
          0,
          1
         ]
        }
       }
      },
      "text/html": [
       "<div>                            <div id=\"5d417786-f2dc-49f3-894a-a544fb620de1\" class=\"plotly-graph-div\" style=\"height:500px; width:500px;\"></div>            <script type=\"text/javascript\">                require([\"plotly\"], function(Plotly) {                    window.PLOTLYENV=window.PLOTLYENV || {};                                    if (document.getElementById(\"5d417786-f2dc-49f3-894a-a544fb620de1\")) {                    Plotly.newPlot(                        \"5d417786-f2dc-49f3-894a-a544fb620de1\",                        [{\"coloraxis\": \"coloraxis\", \"hovertemplate\": \"x: %{x}<br>y: %{y}<br>color: %{z}<extra></extra>\", \"name\": \"0\", \"type\": \"heatmap\", \"xaxis\": \"x\", \"yaxis\": \"y\", \"z\": [[0.000909399506050228, 0.0014667809565139583, 0.0073880212997326535, 0.0015185019870562059, 0.007747631750015877, 0.009321297589157526, 0.0051913720091172, 0.000991253081899758], [0.0013212966206680172, 0.007817282333404927, 0.05110327572330208, 0.009539759698283447, 0.0069289156413630485, 0.038452015100667, 0.007176091861205223, 0.00098737081965184], [0.0011670419029289293, 0.00906152376753612, 0.04286419922362115, 0.007347216697251543, 0.008543618682680347, 0.040944125364129294, 0.00736518583375438, 0.0010320442556511309], [0.008025103325918588, 0.00710171335137998, 0.007413421205481564, 0.006731568619451097, 0.006634554467316919, 0.008857008172110808, 0.006938162220729489, 0.0016230276941186746], [0.007438874519641043, 0.044830827558281335, 0.008137889754171868, 0.0016604849778201756, 0.0016514441388966713, 0.009535108173931113, 0.040884607710791075, 0.008480783937371556], [0.007410798994044886, 0.0519070572349902, 0.05213888785587657, 0.03399932987007457, 0.03444309496474749, 0.04898132340275991, 0.05365064322757829, 0.009038305150941593], [0.0017785640818762725, 0.006590443446299536, 0.05178551559167123, 0.040836024802113395, 0.05969092191477219, 0.04609680075612511, 0.008074712353322789, 0.0012175564092881245], [0.0010256065429162732, 0.0019384546556826185, 0.008014528813134253, 0.006714825312993323, 0.006483139666281117, 0.007435083646180283, 0.0076822600245034095, 0.0009363197487718375]]}],                        {\"coloraxis\": {\"colorscale\": [[0.0, \"rgb(243, 231, 155)\"], [0.16666666666666666, \"rgb(250, 196, 132)\"], [0.3333333333333333, \"rgb(248, 160, 126)\"], [0.5, \"rgb(235, 127, 134)\"], [0.6666666666666666, \"rgb(206, 102, 147)\"], [0.8333333333333334, \"rgb(160, 89, 160)\"], [1.0, \"rgb(92, 83, 165)\"]]}, \"height\": 500, \"margin\": {\"t\": 60}, \"template\": {\"data\": {\"bar\": [{\"error_x\": {\"color\": \"#2a3f5f\"}, \"error_y\": {\"color\": \"#2a3f5f\"}, \"marker\": {\"line\": {\"color\": \"#E5ECF6\", \"width\": 0.5}}, \"type\": \"bar\"}], \"barpolar\": [{\"marker\": {\"line\": {\"color\": \"#E5ECF6\", \"width\": 0.5}}, \"type\": \"barpolar\"}], \"carpet\": [{\"aaxis\": {\"endlinecolor\": \"#2a3f5f\", \"gridcolor\": \"white\", \"linecolor\": \"white\", \"minorgridcolor\": \"white\", \"startlinecolor\": \"#2a3f5f\"}, \"baxis\": {\"endlinecolor\": \"#2a3f5f\", \"gridcolor\": \"white\", \"linecolor\": \"white\", \"minorgridcolor\": \"white\", \"startlinecolor\": \"#2a3f5f\"}, \"type\": \"carpet\"}], \"choropleth\": [{\"colorbar\": {\"outlinewidth\": 0, \"ticks\": \"\"}, \"type\": \"choropleth\"}], \"contour\": [{\"colorbar\": {\"outlinewidth\": 0, \"ticks\": \"\"}, \"colorscale\": [[0.0, \"#0d0887\"], [0.1111111111111111, \"#46039f\"], [0.2222222222222222, \"#7201a8\"], [0.3333333333333333, \"#9c179e\"], [0.4444444444444444, \"#bd3786\"], [0.5555555555555556, \"#d8576b\"], [0.6666666666666666, \"#ed7953\"], [0.7777777777777778, \"#fb9f3a\"], [0.8888888888888888, \"#fdca26\"], [1.0, \"#f0f921\"]], \"type\": \"contour\"}], \"contourcarpet\": [{\"colorbar\": {\"outlinewidth\": 0, \"ticks\": \"\"}, \"type\": \"contourcarpet\"}], \"heatmap\": [{\"colorbar\": {\"outlinewidth\": 0, \"ticks\": \"\"}, \"colorscale\": [[0.0, \"#0d0887\"], [0.1111111111111111, \"#46039f\"], [0.2222222222222222, \"#7201a8\"], [0.3333333333333333, \"#9c179e\"], [0.4444444444444444, \"#bd3786\"], [0.5555555555555556, \"#d8576b\"], [0.6666666666666666, \"#ed7953\"], [0.7777777777777778, \"#fb9f3a\"], [0.8888888888888888, \"#fdca26\"], [1.0, \"#f0f921\"]], \"type\": \"heatmap\"}], \"heatmapgl\": [{\"colorbar\": {\"outlinewidth\": 0, \"ticks\": \"\"}, \"colorscale\": [[0.0, \"#0d0887\"], [0.1111111111111111, \"#46039f\"], [0.2222222222222222, \"#7201a8\"], [0.3333333333333333, \"#9c179e\"], [0.4444444444444444, \"#bd3786\"], [0.5555555555555556, \"#d8576b\"], [0.6666666666666666, \"#ed7953\"], [0.7777777777777778, \"#fb9f3a\"], [0.8888888888888888, \"#fdca26\"], [1.0, \"#f0f921\"]], \"type\": \"heatmapgl\"}], \"histogram\": [{\"marker\": {\"colorbar\": {\"outlinewidth\": 0, \"ticks\": \"\"}}, \"type\": \"histogram\"}], \"histogram2d\": [{\"colorbar\": {\"outlinewidth\": 0, \"ticks\": \"\"}, \"colorscale\": [[0.0, \"#0d0887\"], [0.1111111111111111, \"#46039f\"], [0.2222222222222222, \"#7201a8\"], [0.3333333333333333, \"#9c179e\"], [0.4444444444444444, \"#bd3786\"], [0.5555555555555556, \"#d8576b\"], [0.6666666666666666, \"#ed7953\"], [0.7777777777777778, \"#fb9f3a\"], [0.8888888888888888, \"#fdca26\"], [1.0, \"#f0f921\"]], \"type\": \"histogram2d\"}], \"histogram2dcontour\": [{\"colorbar\": {\"outlinewidth\": 0, \"ticks\": \"\"}, \"colorscale\": [[0.0, \"#0d0887\"], [0.1111111111111111, \"#46039f\"], [0.2222222222222222, \"#7201a8\"], [0.3333333333333333, \"#9c179e\"], [0.4444444444444444, \"#bd3786\"], [0.5555555555555556, \"#d8576b\"], [0.6666666666666666, \"#ed7953\"], [0.7777777777777778, \"#fb9f3a\"], [0.8888888888888888, \"#fdca26\"], [1.0, \"#f0f921\"]], \"type\": \"histogram2dcontour\"}], \"mesh3d\": [{\"colorbar\": {\"outlinewidth\": 0, \"ticks\": \"\"}, \"type\": \"mesh3d\"}], \"parcoords\": [{\"line\": {\"colorbar\": {\"outlinewidth\": 0, \"ticks\": \"\"}}, \"type\": \"parcoords\"}], \"pie\": [{\"automargin\": true, \"type\": \"pie\"}], \"scatter\": [{\"marker\": {\"colorbar\": {\"outlinewidth\": 0, \"ticks\": \"\"}}, \"type\": \"scatter\"}], \"scatter3d\": [{\"line\": {\"colorbar\": {\"outlinewidth\": 0, \"ticks\": \"\"}}, \"marker\": {\"colorbar\": {\"outlinewidth\": 0, \"ticks\": \"\"}}, \"type\": \"scatter3d\"}], \"scattercarpet\": [{\"marker\": {\"colorbar\": {\"outlinewidth\": 0, \"ticks\": \"\"}}, \"type\": \"scattercarpet\"}], \"scattergeo\": [{\"marker\": {\"colorbar\": {\"outlinewidth\": 0, \"ticks\": \"\"}}, \"type\": \"scattergeo\"}], \"scattergl\": [{\"marker\": {\"colorbar\": {\"outlinewidth\": 0, \"ticks\": \"\"}}, \"type\": \"scattergl\"}], \"scattermapbox\": [{\"marker\": {\"colorbar\": {\"outlinewidth\": 0, \"ticks\": \"\"}}, \"type\": \"scattermapbox\"}], \"scatterpolar\": [{\"marker\": {\"colorbar\": {\"outlinewidth\": 0, \"ticks\": \"\"}}, \"type\": \"scatterpolar\"}], \"scatterpolargl\": [{\"marker\": {\"colorbar\": {\"outlinewidth\": 0, \"ticks\": \"\"}}, \"type\": \"scatterpolargl\"}], \"scatterternary\": [{\"marker\": {\"colorbar\": {\"outlinewidth\": 0, \"ticks\": \"\"}}, \"type\": \"scatterternary\"}], \"surface\": [{\"colorbar\": {\"outlinewidth\": 0, \"ticks\": \"\"}, \"colorscale\": [[0.0, \"#0d0887\"], [0.1111111111111111, \"#46039f\"], [0.2222222222222222, \"#7201a8\"], [0.3333333333333333, \"#9c179e\"], [0.4444444444444444, \"#bd3786\"], [0.5555555555555556, \"#d8576b\"], [0.6666666666666666, \"#ed7953\"], [0.7777777777777778, \"#fb9f3a\"], [0.8888888888888888, \"#fdca26\"], [1.0, \"#f0f921\"]], \"type\": \"surface\"}], \"table\": [{\"cells\": {\"fill\": {\"color\": \"#EBF0F8\"}, \"line\": {\"color\": \"white\"}}, \"header\": {\"fill\": {\"color\": \"#C8D4E3\"}, \"line\": {\"color\": \"white\"}}, \"type\": \"table\"}]}, \"layout\": {\"annotationdefaults\": {\"arrowcolor\": \"#2a3f5f\", \"arrowhead\": 0, \"arrowwidth\": 1}, \"autotypenumbers\": \"strict\", \"coloraxis\": {\"colorbar\": {\"outlinewidth\": 0, \"ticks\": \"\"}}, \"colorscale\": {\"diverging\": [[0, \"#8e0152\"], [0.1, \"#c51b7d\"], [0.2, \"#de77ae\"], [0.3, \"#f1b6da\"], [0.4, \"#fde0ef\"], [0.5, \"#f7f7f7\"], [0.6, \"#e6f5d0\"], [0.7, \"#b8e186\"], [0.8, \"#7fbc41\"], [0.9, \"#4d9221\"], [1, \"#276419\"]], \"sequential\": [[0.0, \"#0d0887\"], [0.1111111111111111, \"#46039f\"], [0.2222222222222222, \"#7201a8\"], [0.3333333333333333, \"#9c179e\"], [0.4444444444444444, \"#bd3786\"], [0.5555555555555556, \"#d8576b\"], [0.6666666666666666, \"#ed7953\"], [0.7777777777777778, \"#fb9f3a\"], [0.8888888888888888, \"#fdca26\"], [1.0, \"#f0f921\"]], \"sequentialminus\": [[0.0, \"#0d0887\"], [0.1111111111111111, \"#46039f\"], [0.2222222222222222, \"#7201a8\"], [0.3333333333333333, \"#9c179e\"], [0.4444444444444444, \"#bd3786\"], [0.5555555555555556, \"#d8576b\"], [0.6666666666666666, \"#ed7953\"], [0.7777777777777778, \"#fb9f3a\"], [0.8888888888888888, \"#fdca26\"], [1.0, \"#f0f921\"]]}, \"colorway\": [\"#636efa\", \"#EF553B\", \"#00cc96\", \"#ab63fa\", \"#FFA15A\", \"#19d3f3\", \"#FF6692\", \"#B6E880\", \"#FF97FF\", \"#FECB52\"], \"font\": {\"color\": \"#2a3f5f\"}, \"geo\": {\"bgcolor\": \"white\", \"lakecolor\": \"white\", \"landcolor\": \"#E5ECF6\", \"showlakes\": true, \"showland\": true, \"subunitcolor\": \"white\"}, \"hoverlabel\": {\"align\": \"left\"}, \"hovermode\": \"closest\", \"mapbox\": {\"style\": \"light\"}, \"paper_bgcolor\": \"white\", \"plot_bgcolor\": \"#E5ECF6\", \"polar\": {\"angularaxis\": {\"gridcolor\": \"white\", \"linecolor\": \"white\", \"ticks\": \"\"}, \"bgcolor\": \"#E5ECF6\", \"radialaxis\": {\"gridcolor\": \"white\", \"linecolor\": \"white\", \"ticks\": \"\"}}, \"scene\": {\"xaxis\": {\"backgroundcolor\": \"#E5ECF6\", \"gridcolor\": \"white\", \"gridwidth\": 2, \"linecolor\": \"white\", \"showbackground\": true, \"ticks\": \"\", \"zerolinecolor\": \"white\"}, \"yaxis\": {\"backgroundcolor\": \"#E5ECF6\", \"gridcolor\": \"white\", \"gridwidth\": 2, \"linecolor\": \"white\", \"showbackground\": true, \"ticks\": \"\", \"zerolinecolor\": \"white\"}, \"zaxis\": {\"backgroundcolor\": \"#E5ECF6\", \"gridcolor\": \"white\", \"gridwidth\": 2, \"linecolor\": \"white\", \"showbackground\": true, \"ticks\": \"\", \"zerolinecolor\": \"white\"}}, \"shapedefaults\": {\"line\": {\"color\": \"#2a3f5f\"}}, \"ternary\": {\"aaxis\": {\"gridcolor\": \"white\", \"linecolor\": \"white\", \"ticks\": \"\"}, \"baxis\": {\"gridcolor\": \"white\", \"linecolor\": \"white\", \"ticks\": \"\"}, \"bgcolor\": \"#E5ECF6\", \"caxis\": {\"gridcolor\": \"white\", \"linecolor\": \"white\", \"ticks\": \"\"}}, \"title\": {\"x\": 0.05}, \"xaxis\": {\"automargin\": true, \"gridcolor\": \"white\", \"linecolor\": \"white\", \"ticks\": \"\", \"title\": {\"standoff\": 15}, \"zerolinecolor\": \"white\", \"zerolinewidth\": 2}, \"yaxis\": {\"automargin\": true, \"gridcolor\": \"white\", \"linecolor\": \"white\", \"ticks\": \"\", \"title\": {\"standoff\": 15}, \"zerolinecolor\": \"white\", \"zerolinewidth\": 2}}}, \"width\": 500, \"xaxis\": {\"anchor\": \"y\", \"constrain\": \"domain\", \"domain\": [0.0, 1.0], \"scaleanchor\": \"y\"}, \"yaxis\": {\"anchor\": \"x\", \"autorange\": \"reversed\", \"constrain\": \"domain\", \"domain\": [0.0, 1.0]}},                        {\"responsive\": true}                    ).then(function(){\n",
       "                            \n",
       "var gd = document.getElementById('5d417786-f2dc-49f3-894a-a544fb620de1');\n",
       "var x = new MutationObserver(function (mutations, observer) {{\n",
       "        var display = window.getComputedStyle(gd).display;\n",
       "        if (!display || display === 'none') {{\n",
       "            console.log([gd, 'removed!']);\n",
       "            Plotly.purge(gd);\n",
       "            observer.disconnect();\n",
       "        }}\n",
       "}});\n",
       "\n",
       "// Listen for the removal of the full notebook cells\n",
       "var notebookContainer = gd.closest('#notebook-container');\n",
       "if (notebookContainer) {{\n",
       "    x.observe(notebookContainer, {childList: true});\n",
       "}}\n",
       "\n",
       "// Listen for the clearing of the current output cell\n",
       "var outputEl = gd.closest('.output');\n",
       "if (outputEl) {{\n",
       "    x.observe(outputEl, {childList: true});\n",
       "}}\n",
       "\n",
       "                        })                };                });            </script>        </div>"
      ]
     },
     "metadata": {},
     "output_type": "display_data"
    }
   ],
   "source": [
    "imgen.train(imgen.make_dataset(), 100, show_progress=True)"
   ]
  },
  {
   "cell_type": "code",
   "execution_count": 33,
   "metadata": {},
   "outputs": [],
   "source": [
    "arr1 = imgen.get_output_distribution_history()"
   ]
  },
  {
   "cell_type": "code",
   "execution_count": 35,
   "metadata": {},
   "outputs": [],
   "source": [
    "import plotly.express as px"
   ]
  },
  {
   "cell_type": "code",
   "execution_count": 42,
   "metadata": {},
   "outputs": [
    {
     "data": {
      "application/vnd.plotly.v1+json": {
       "config": {
        "plotlyServerURL": "https://plot.ly"
       },
       "data": [
        {
         "coloraxis": "coloraxis",
         "hovertemplate": "x: %{x}<br>y: %{y}<br>color: %{z}<extra></extra>",
         "name": "0",
         "type": "heatmap",
         "xaxis": "x",
         "yaxis": "y",
         "z": [
          [
           0.015624999999999986,
           0.015624999999999986,
           0.015624999999999986,
           0.015624999999999986,
           0.015624999999999986,
           0.015624999999999986,
           0.015624999999999986,
           0.015624999999999986
          ],
          [
           0.015624999999999986,
           0.015624999999999986,
           0.015624999999999986,
           0.015624999999999986,
           0.015624999999999986,
           0.015624999999999986,
           0.015624999999999986,
           0.015624999999999986
          ],
          [
           0.015624999999999986,
           0.015624999999999986,
           0.015624999999999986,
           0.015624999999999986,
           0.015624999999999986,
           0.015624999999999986,
           0.015624999999999986,
           0.015624999999999986
          ],
          [
           0.015624999999999986,
           0.015624999999999986,
           0.015624999999999986,
           0.015624999999999986,
           0.015624999999999986,
           0.015624999999999986,
           0.015624999999999986,
           0.015624999999999986
          ],
          [
           0.015624999999999986,
           0.015624999999999986,
           0.015624999999999986,
           0.015624999999999986,
           0.015624999999999986,
           0.015624999999999986,
           0.015624999999999986,
           0.015624999999999986
          ],
          [
           0.015624999999999986,
           0.015624999999999986,
           0.015624999999999986,
           0.015624999999999986,
           0.015624999999999986,
           0.015624999999999986,
           0.015624999999999986,
           0.015624999999999986
          ],
          [
           0.015624999999999986,
           0.015624999999999986,
           0.015624999999999986,
           0.015624999999999986,
           0.015624999999999986,
           0.015624999999999986,
           0.015624999999999986,
           0.015624999999999986
          ],
          [
           0.015624999999999986,
           0.015624999999999986,
           0.015624999999999986,
           0.015624999999999986,
           0.015624999999999986,
           0.015624999999999986,
           0.015624999999999986,
           0.015624999999999986
          ]
         ]
        }
       ],
       "frames": [
        {
         "data": [
          {
           "coloraxis": "coloraxis",
           "name": "0",
           "type": "heatmap",
           "z": [
            [
             0.015624999999999986,
             0.015624999999999986,
             0.015624999999999986,
             0.015624999999999986,
             0.015624999999999986,
             0.015624999999999986,
             0.015624999999999986,
             0.015624999999999986
            ],
            [
             0.015624999999999986,
             0.015624999999999986,
             0.015624999999999986,
             0.015624999999999986,
             0.015624999999999986,
             0.015624999999999986,
             0.015624999999999986,
             0.015624999999999986
            ],
            [
             0.015624999999999986,
             0.015624999999999986,
             0.015624999999999986,
             0.015624999999999986,
             0.015624999999999986,
             0.015624999999999986,
             0.015624999999999986,
             0.015624999999999986
            ],
            [
             0.015624999999999986,
             0.015624999999999986,
             0.015624999999999986,
             0.015624999999999986,
             0.015624999999999986,
             0.015624999999999986,
             0.015624999999999986,
             0.015624999999999986
            ],
            [
             0.015624999999999986,
             0.015624999999999986,
             0.015624999999999986,
             0.015624999999999986,
             0.015624999999999986,
             0.015624999999999986,
             0.015624999999999986,
             0.015624999999999986
            ],
            [
             0.015624999999999986,
             0.015624999999999986,
             0.015624999999999986,
             0.015624999999999986,
             0.015624999999999986,
             0.015624999999999986,
             0.015624999999999986,
             0.015624999999999986
            ],
            [
             0.015624999999999986,
             0.015624999999999986,
             0.015624999999999986,
             0.015624999999999986,
             0.015624999999999986,
             0.015624999999999986,
             0.015624999999999986,
             0.015624999999999986
            ],
            [
             0.015624999999999986,
             0.015624999999999986,
             0.015624999999999986,
             0.015624999999999986,
             0.015624999999999986,
             0.015624999999999986,
             0.015624999999999986,
             0.015624999999999986
            ]
           ]
          }
         ],
         "layout": {
          "coloraxis": {
           "colorscale": [
            [
             0,
             "rgb(243, 231, 155)"
            ],
            [
             0.16666666666666666,
             "rgb(250, 196, 132)"
            ],
            [
             0.3333333333333333,
             "rgb(248, 160, 126)"
            ],
            [
             0.5,
             "rgb(235, 127, 134)"
            ],
            [
             0.6666666666666666,
             "rgb(206, 102, 147)"
            ],
            [
             0.8333333333333334,
             "rgb(160, 89, 160)"
            ],
            [
             1,
             "rgb(92, 83, 165)"
            ]
           ]
          },
          "height": 500,
          "margin": {
           "t": 60
          },
          "width": 500,
          "xaxis": {
           "constrain": "domain",
           "scaleanchor": "y"
          },
          "yaxis": {
           "autorange": "reversed",
           "constrain": "domain"
          }
         },
         "name": "0"
        },
        {
         "data": [
          {
           "coloraxis": "coloraxis",
           "name": "1",
           "type": "heatmap",
           "z": [
            [
             0.015915396317758457,
             0.015318929902658452,
             0.015942646346568744,
             0.01530637382220831,
             0.016569507769056815,
             0.015311246739018855,
             0.015304714719333744,
             0.015913372164101547
            ],
            [
             0.015907870495342518,
             0.015941513017487953,
             0.01657562388387675,
             0.01656785264487575,
             0.01531225012640131,
             0.01593986576374941,
             0.01592669992133628,
             0.01592303705507121
            ],
            [
             0.016556613836231047,
             0.016565124268654252,
             0.015937396455333243,
             0.014714839095122995,
             0.015314584617349358,
             0.015317929973376939,
             0.015926288077975057,
             0.015925599756380946
            ],
            [
             0.015308461471905576,
             0.015919827821937904,
             0.01593207375805519,
             0.01471932069497205,
             0.014698431044275482,
             0.015304843084548268,
             0.014724084724694208,
             0.014691560015973002
            ],
            [
             0.01592924034226935,
             0.015937638986096514,
             0.016573558755043172,
             0.015304465524309932,
             0.01592574236596711,
             0.015926852019599886,
             0.016591091883294183,
             0.015301451269723479
            ],
            [
             0.015314774641345294,
             0.015317955243581665,
             0.015944196753875713,
             0.01593003706176215,
             0.015310564422993535,
             0.015318290382609082,
             0.01532414174845535,
             0.015317264922700177
            ],
            [
             0.01593313572194378,
             0.01594704125958905,
             0.015308493252852459,
             0.01532292971010092,
             0.015315847270401528,
             0.014722801682139302,
             0.016570592156553883,
             0.01470548736344217
            ],
            [
             0.01528814318222266,
             0.015301344576418975,
             0.015314718023905967,
             0.01591031300040547,
             0.01469965421807347,
             0.01592920699490998,
             0.015309796788909624,
             0.015919349088871323
            ]
           ]
          }
         ],
         "layout": {
          "coloraxis": {
           "colorscale": [
            [
             0,
             "rgb(243, 231, 155)"
            ],
            [
             0.16666666666666666,
             "rgb(250, 196, 132)"
            ],
            [
             0.3333333333333333,
             "rgb(248, 160, 126)"
            ],
            [
             0.5,
             "rgb(235, 127, 134)"
            ],
            [
             0.6666666666666666,
             "rgb(206, 102, 147)"
            ],
            [
             0.8333333333333334,
             "rgb(160, 89, 160)"
            ],
            [
             1,
             "rgb(92, 83, 165)"
            ]
           ]
          },
          "height": 500,
          "margin": {
           "t": 60
          },
          "width": 500,
          "xaxis": {
           "constrain": "domain",
           "scaleanchor": "y"
          },
          "yaxis": {
           "autorange": "reversed",
           "constrain": "domain"
          }
         },
         "name": "1"
        },
        {
         "data": [
          {
           "coloraxis": "coloraxis",
           "name": "2",
           "type": "heatmap",
           "z": [
            [
             0.016024894976758665,
             0.015130092769284915,
             0.016258715049973102,
             0.015044422415589329,
             0.01760984416411835,
             0.014920537281923512,
             0.01513444026235852,
             0.015992564165313913
            ],
            [
             0.01591261029607338,
             0.01637780847311049,
             0.017413227588894117,
             0.01751357307763214,
             0.015154624097278871,
             0.016221578591784438,
             0.016104249579802807,
             0.016131083173125366
            ],
            [
             0.017241305128014875,
             0.01749402150544839,
             0.016135743166908835,
             0.013865363510802689,
             0.0150086619758113,
             0.015063844392309145,
             0.01627465050362861,
             0.016143176878878774
            ],
            [
             0.015163153379840913,
             0.016263750258027922,
             0.016074111506725573,
             0.014058105775288737,
             0.01389089636125506,
             0.015070871872524767,
             0.013898594930796416,
             0.01375018109326826
            ],
            [
             0.0162209770175093,
             0.016182425413997285,
             0.01733159725205879,
             0.015011270859125483,
             0.01616148345408835,
             0.01604225806578048,
             0.017644406050457025,
             0.014972713853029397
            ],
            [
             0.015097951889904017,
             0.01519165940978645,
             0.016413626973517666,
             0.016160471531678277,
             0.014962917934473652,
             0.015088819341922076,
             0.015200330789603759,
             0.014950281200407471
            ],
            [
             0.01625965682460554,
             0.01620470878887737,
             0.015057845237369534,
             0.015255511689052094,
             0.015151987481191573,
             0.014082920424338338,
             0.017429567407189407,
             0.013935616803677152
            ],
            [
             0.01478978920339081,
             0.015012727735112337,
             0.01490972802678966,
             0.015960356388484913,
             0.013745701071184715,
             0.016131045265057768,
             0.015077762454372801,
             0.0160211859594135
            ]
           ]
          }
         ],
         "layout": {
          "coloraxis": {
           "colorscale": [
            [
             0,
             "rgb(243, 231, 155)"
            ],
            [
             0.16666666666666666,
             "rgb(250, 196, 132)"
            ],
            [
             0.3333333333333333,
             "rgb(248, 160, 126)"
            ],
            [
             0.5,
             "rgb(235, 127, 134)"
            ],
            [
             0.6666666666666666,
             "rgb(206, 102, 147)"
            ],
            [
             0.8333333333333334,
             "rgb(160, 89, 160)"
            ],
            [
             1,
             "rgb(92, 83, 165)"
            ]
           ]
          },
          "height": 500,
          "margin": {
           "t": 60
          },
          "width": 500,
          "xaxis": {
           "constrain": "domain",
           "scaleanchor": "y"
          },
          "yaxis": {
           "autorange": "reversed",
           "constrain": "domain"
          }
         },
         "name": "2"
        },
        {
         "data": [
          {
           "coloraxis": "coloraxis",
           "name": "3",
           "type": "heatmap",
           "z": [
            [
             0.015641888252822256,
             0.015018064921181426,
             0.016441686074984776,
             0.014773395746176882,
             0.01896961267092625,
             0.014555009594293348,
             0.015167679020633,
             0.0158159142119795
            ],
            [
             0.01551433430856649,
             0.016916031557519248,
             0.018120071387528653,
             0.018529007608386272,
             0.01518133534738673,
             0.0162996059691527,
             0.0161847393432825,
             0.016029805575339406
            ],
            [
             0.01747961361348254,
             0.01844657100996296,
             0.016234713775925003,
             0.013027642836365911,
             0.01461174329890488,
             0.01482841862085645,
             0.016545305188835877,
             0.016072837415563666
            ],
            [
             0.015301682174284816,
             0.01655179244103046,
             0.016001666169973977,
             0.013743523953585189,
             0.01345794834687027,
             0.014899908936506135,
             0.013083930453026313,
             0.012898055828832257
            ],
            [
             0.016607926352227104,
             0.016462235266735133,
             0.01774013476795062,
             0.01490342735973165,
             0.01636729799641183,
             0.01593038350648165,
             0.018697711650230528,
             0.014788147512171668
            ],
            [
             0.01522081803517343,
             0.015334431633538642,
             0.017346594785758597,
             0.01640758117988379,
             0.014457434109103965,
             0.015144872893505662,
             0.015320541141055022,
             0.014616354413965398
            ],
            [
             0.01672277100683723,
             0.01616078104236659,
             0.01511280050226254,
             0.015560920176815953,
             0.015451419069756878,
             0.013798297859192675,
             0.017872200413012167,
             0.01329345614981075
            ],
            [
             0.013888426091628466,
             0.014667855133085352,
             0.014463801319029997,
             0.015679794178537997,
             0.012632950729948588,
             0.015978760874754607,
             0.015155649061751427,
             0.015870688133117337
            ]
           ]
          }
         ],
         "layout": {
          "coloraxis": {
           "colorscale": [
            [
             0,
             "rgb(243, 231, 155)"
            ],
            [
             0.16666666666666666,
             "rgb(250, 196, 132)"
            ],
            [
             0.3333333333333333,
             "rgb(248, 160, 126)"
            ],
            [
             0.5,
             "rgb(235, 127, 134)"
            ],
            [
             0.6666666666666666,
             "rgb(206, 102, 147)"
            ],
            [
             0.8333333333333334,
             "rgb(160, 89, 160)"
            ],
            [
             1,
             "rgb(92, 83, 165)"
            ]
           ]
          },
          "height": 500,
          "margin": {
           "t": 60
          },
          "width": 500,
          "xaxis": {
           "constrain": "domain",
           "scaleanchor": "y"
          },
          "yaxis": {
           "autorange": "reversed",
           "constrain": "domain"
          }
         },
         "name": "3"
        },
        {
         "data": [
          {
           "coloraxis": "coloraxis",
           "name": "4",
           "type": "heatmap",
           "z": [
            [
             0.014760817613073608,
             0.014954955006459845,
             0.0165403002286403,
             0.014427657320704654,
             0.020330098307977242,
             0.01445736635984534,
             0.01509778025535389,
             0.015523376120853695
            ],
            [
             0.014782118767151442,
             0.017388324246400206,
             0.01868878053073592,
             0.019387766435456144,
             0.015056311321577672,
             0.016094434206882013,
             0.01636094701148129,
             0.015633003784820586
            ],
            [
             0.017297912317046898,
             0.019147071864286578,
             0.016257942226207207,
             0.012399169050376125,
             0.014223854697656623,
             0.014645706464723825,
             0.01643973898558018,
             0.01578163864621243
            ],
            [
             0.01551487906775365,
             0.016502723657324348,
             0.01603971727677232,
             0.013561621224820145,
             0.013294307291085371,
             0.01464344054430695,
             0.012415890453767843,
             0.012165352876066694
            ],
            [
             0.016993235366132262,
             0.01689551323417965,
             0.017994914676320882,
             0.015061966052637873,
             0.016505327474216954,
             0.015910702405141693,
             0.019720374700514947,
             0.014722467608507052
            ],
            [
             0.015536811398856331,
             0.015631528028629875,
             0.018781849627649495,
             0.016787528088341625,
             0.013791022631217734,
             0.015421607698186755,
             0.015542286909278138,
             0.014570075091637456
            ],
            [
             0.017349857053340707,
             0.01603025487731656,
             0.015471902129262421,
             0.01621484830674106,
             0.01629106346184856,
             0.013785099156532112,
             0.017964795185160972,
             0.012764726266059836
            ],
            [
             0.01265450544806023,
             0.014170573046989205,
             0.014128156891981226,
             0.015317655665924237,
             0.011623670405731205,
             0.015630279101521743,
             0.01531180843000542,
             0.015608589420674137
            ]
           ]
          }
         ],
         "layout": {
          "coloraxis": {
           "colorscale": [
            [
             0,
             "rgb(243, 231, 155)"
            ],
            [
             0.16666666666666666,
             "rgb(250, 196, 132)"
            ],
            [
             0.3333333333333333,
             "rgb(248, 160, 126)"
            ],
            [
             0.5,
             "rgb(235, 127, 134)"
            ],
            [
             0.6666666666666666,
             "rgb(206, 102, 147)"
            ],
            [
             0.8333333333333334,
             "rgb(160, 89, 160)"
            ],
            [
             1,
             "rgb(92, 83, 165)"
            ]
           ]
          },
          "height": 500,
          "margin": {
           "t": 60
          },
          "width": 500,
          "xaxis": {
           "constrain": "domain",
           "scaleanchor": "y"
          },
          "yaxis": {
           "autorange": "reversed",
           "constrain": "domain"
          }
         },
         "name": "4"
        },
        {
         "data": [
          {
           "coloraxis": "coloraxis",
           "name": "5",
           "type": "heatmap",
           "z": [
            [
             0.013565074329948296,
             0.015011727378915568,
             0.016559344922000497,
             0.014194432075589443,
             0.021225570491069937,
             0.014683396758008685,
             0.014730222909785066,
             0.015013434493486674
            ],
            [
             0.013797985159930734,
             0.01780977267677138,
             0.01901369851388367,
             0.019856596805035154,
             0.014604203723843199,
             0.015641765785788225,
             0.01661778056795834,
             0.01492899538039304
            ],
            [
             0.01674054091271467,
             0.019340617611855154,
             0.01612641264794038,
             0.01213909732093289,
             0.013920480282334937,
             0.014430995608943356,
             0.015899515333719236,
             0.015281426806815906
            ],
            [
             0.015721594183050046,
             0.016079325433989093,
             0.01638588944645345,
             0.013413858958063638,
             0.013254990580179524,
             0.014359976556752843,
             0.011993933485156965,
             0.01166237502647781
            ],
            [
             0.017290399602584952,
             0.01727803899001747,
             0.018169607442229955,
             0.015480853490820437,
             0.016674151986348407,
             0.01618887919989695,
             0.02051370589415225,
             0.014766364003784435
            ],
            [
             0.015857785112641166,
             0.01619097795631359,
             0.02059857897692423,
             0.017088995234706254,
             0.013039477502311533,
             0.015903238176057113,
             0.01594398613219506,
             0.014895276917727919
            ],
            [
             0.018105758331311825,
             0.016081798108027196,
             0.016190865086515356,
             0.01723722298789079,
             0.017633799284834974,
             0.014016324400388152,
             0.01788238948760764,
             0.012420218494359142
            ],
            [
             0.011325356510523542,
             0.013731977037632629,
             0.013846898468880644,
             0.014992845148457263,
             0.010961116028454392,
             0.015284777737192898,
             0.015246956453079472,
             0.015156347648343423
            ]
           ]
          }
         ],
         "layout": {
          "coloraxis": {
           "colorscale": [
            [
             0,
             "rgb(243, 231, 155)"
            ],
            [
             0.16666666666666666,
             "rgb(250, 196, 132)"
            ],
            [
             0.3333333333333333,
             "rgb(248, 160, 126)"
            ],
            [
             0.5,
             "rgb(235, 127, 134)"
            ],
            [
             0.6666666666666666,
             "rgb(206, 102, 147)"
            ],
            [
             0.8333333333333334,
             "rgb(160, 89, 160)"
            ],
            [
             1,
             "rgb(92, 83, 165)"
            ]
           ]
          },
          "height": 500,
          "margin": {
           "t": 60
          },
          "width": 500,
          "xaxis": {
           "constrain": "domain",
           "scaleanchor": "y"
          },
          "yaxis": {
           "autorange": "reversed",
           "constrain": "domain"
          }
         },
         "name": "5"
        },
        {
         "data": [
          {
           "coloraxis": "coloraxis",
           "name": "6",
           "type": "heatmap",
           "z": [
            [
             0.01240998056757453,
             0.015005131318933704,
             0.016335636582591587,
             0.014062391403568304,
             0.021607366239054373,
             0.015171419774811172,
             0.014102132881579393,
             0.014290145864406396
            ],
            [
             0.012880464264475533,
             0.01831306922309199,
             0.01936997743509132,
             0.019947834865184057,
             0.013944719573239462,
             0.01525549844952492,
             0.0167042899856087,
             0.014001031049310633
            ],
            [
             0.016091517362329822,
             0.019137788744073972,
             0.016029445137328863,
             0.01217417799324014,
             0.013534756431203436,
             0.014142423689437886,
             0.015108148445019464,
             0.014562428585825966
            ],
            [
             0.016074268841868706,
             0.015435490137501172,
             0.016930394277388943,
             0.013378717197326822,
             0.01338791400812827,
             0.014243835002018758,
             0.011791847760226152,
             0.011371636207329798
            ],
            [
             0.017656027328749827,
             0.017568660588779,
             0.018135840756437212,
             0.015838892618962333,
             0.0169275529213201,
             0.016761852590376273,
             0.021026579867604128,
             0.015039252380700922
            ],
            [
             0.016312602445229762,
             0.01698603377595,
             0.02245058760179823,
             0.017206465814880223,
             0.01241837767385975,
             0.016592984730344672,
             0.016551420125570444,
             0.015490203950183414
            ],
            [
             0.0187347911480351,
             0.016326315391958564,
             0.017224589030800742,
             0.018337245232450363,
             0.019158966526727165,
             0.014310022168988959,
             0.017573688010160758,
             0.01206729482752219
            ],
            [
             0.01018794292883445,
             0.013458408487904172,
             0.013472824333245998,
             0.014563068201273803,
             0.010589258725804919,
             0.014800343369308317,
             0.014931690773318521,
             0.01450433637462489
            ]
           ]
          }
         ],
         "layout": {
          "coloraxis": {
           "colorscale": [
            [
             0,
             "rgb(243, 231, 155)"
            ],
            [
             0.16666666666666666,
             "rgb(250, 196, 132)"
            ],
            [
             0.3333333333333333,
             "rgb(248, 160, 126)"
            ],
            [
             0.5,
             "rgb(235, 127, 134)"
            ],
            [
             0.6666666666666666,
             "rgb(206, 102, 147)"
            ],
            [
             0.8333333333333334,
             "rgb(160, 89, 160)"
            ],
            [
             1,
             "rgb(92, 83, 165)"
            ]
           ]
          },
          "height": 500,
          "margin": {
           "t": 60
          },
          "width": 500,
          "xaxis": {
           "constrain": "domain",
           "scaleanchor": "y"
          },
          "yaxis": {
           "autorange": "reversed",
           "constrain": "domain"
          }
         },
         "name": "6"
        },
        {
         "data": [
          {
           "coloraxis": "coloraxis",
           "name": "7",
           "type": "heatmap",
           "z": [
            [
             0.011410200106066333,
             0.014939344618149098,
             0.015932816126541346,
             0.013923062977321298,
             0.02166883522676576,
             0.015808991284085295,
             0.013325241783123791,
             0.013467567980006409
            ],
            [
             0.012105460763283168,
             0.018802542816207423,
             0.01983174475441514,
             0.01974911860871673,
             0.013279206565131875,
             0.015061337240211784,
             0.016568054912422817,
             0.01300114713430438
            ],
            [
             0.015376562531418059,
             0.018783065577948472,
             0.01595356083059124,
             0.012339462680243538,
             0.01303661468644809,
             0.013767497027996452,
             0.014291050470676752,
             0.01364180665081593
            ],
            [
             0.01654777846376294,
             0.014729972098033306,
             0.017464156825884137,
             0.013386164242651263,
             0.013586541481095915,
             0.014287614073538643,
             0.011767561758541363,
             0.011193147661238814
            ],
            [
             0.018120649559990914,
             0.017862612752284186,
             0.017982063100583937,
             0.015987422290558908,
             0.017273703117854908,
             0.017539087581429184,
             0.021358374394549618,
             0.015453202532619089
            ],
            [
             0.01693898092649524,
             0.017904017235029296,
             0.024258685436666278,
             0.017126004496286967,
             0.01190104068492755,
             0.01749608306376851,
             0.017309508035019558,
             0.0161858232567873
            ],
            [
             0.019232641340915627,
             0.016713924146519482,
             0.018430405160736272,
             0.01938483710132826,
             0.02069854532109131,
             0.014672664687541213,
             0.017164195995551017,
             0.011662485052449384
            ],
            [
             0.009239795582312894,
             0.013336694661279132,
             0.013068006572667486,
             0.014027294280295144,
             0.010360980077809116,
             0.014145925373760169,
             0.014434416600341116,
             0.01370269962291252
            ]
           ]
          }
         ],
         "layout": {
          "coloraxis": {
           "colorscale": [
            [
             0,
             "rgb(243, 231, 155)"
            ],
            [
             0.16666666666666666,
             "rgb(250, 196, 132)"
            ],
            [
             0.3333333333333333,
             "rgb(248, 160, 126)"
            ],
            [
             0.5,
             "rgb(235, 127, 134)"
            ],
            [
             0.6666666666666666,
             "rgb(206, 102, 147)"
            ],
            [
             0.8333333333333334,
             "rgb(160, 89, 160)"
            ],
            [
             1,
             "rgb(92, 83, 165)"
            ]
           ]
          },
          "height": 500,
          "margin": {
           "t": 60
          },
          "width": 500,
          "xaxis": {
           "constrain": "domain",
           "scaleanchor": "y"
          },
          "yaxis": {
           "autorange": "reversed",
           "constrain": "domain"
          }
         },
         "name": "7"
        },
        {
         "data": [
          {
           "coloraxis": "coloraxis",
           "name": "8",
           "type": "heatmap",
           "z": [
            [
             0.010549207282087626,
             0.014862174087883102,
             0.015476304199623935,
             0.013677625263172323,
             0.021629319407180075,
             0.016455258075238684,
             0.012506937011577979,
             0.012660589663202935
            ],
            [
             0.0114457942242994,
             0.019107280225836555,
             0.020355446890764427,
             0.01937856550227565,
             0.01275313097858239,
             0.01507057838537756,
             0.01629137731688209,
             0.012051809716771588
            ],
            [
             0.01454262634958944,
             0.018490275841925037,
             0.015836308885149072,
             0.012463392305197362,
             0.012492082702574528,
             0.013326144473574768,
             0.01358438488673909,
             0.01257152939125612
            ],
            [
             0.017004398589154472,
             0.014081925196060469,
             0.017798812317316975,
             0.013330063528330247,
             0.013706863786391552,
             0.014398782787354396,
             0.011862531152837957,
             0.011048796443046486
            ],
            [
             0.018628844215768728,
             0.01828411083173276,
             0.017854890915928946,
             0.015921414220917817,
             0.017677405147263302,
             0.018406025585869543,
             0.0216141776217306,
             0.015875605217870858
            ],
            [
             0.017701389676537647,
             0.01884467790835426,
             0.0260628700682741,
             0.016887798825774833,
             0.011391719340380382,
             0.018615482155694987,
             0.018112429150005625,
             0.016829861261479662
            ],
            [
             0.01970112035621232,
             0.017147930913806262,
             0.01966745525146432,
             0.020350081436359614,
             0.022227648965856005,
             0.015163733947411724,
             0.016808504541150265,
             0.011244370673695825
            ],
            [
             0.008403805961130646,
             0.013302850494833159,
             0.012758443361160287,
             0.013475072005314975,
             0.010149408663653835,
             0.013374065725677982,
             0.013869717376428727,
             0.012836771315004615
            ]
           ]
          }
         ],
         "layout": {
          "coloraxis": {
           "colorscale": [
            [
             0,
             "rgb(243, 231, 155)"
            ],
            [
             0.16666666666666666,
             "rgb(250, 196, 132)"
            ],
            [
             0.3333333333333333,
             "rgb(248, 160, 126)"
            ],
            [
             0.5,
             "rgb(235, 127, 134)"
            ],
            [
             0.6666666666666666,
             "rgb(206, 102, 147)"
            ],
            [
             0.8333333333333334,
             "rgb(160, 89, 160)"
            ],
            [
             1,
             "rgb(92, 83, 165)"
            ]
           ]
          },
          "height": 500,
          "margin": {
           "t": 60
          },
          "width": 500,
          "xaxis": {
           "constrain": "domain",
           "scaleanchor": "y"
          },
          "yaxis": {
           "autorange": "reversed",
           "constrain": "domain"
          }
         },
         "name": "8"
        },
        {
         "data": [
          {
           "coloraxis": "coloraxis",
           "name": "9",
           "type": "heatmap",
           "z": [
            [
             0.009780209372948035,
             0.014765375874531446,
             0.01504754644128975,
             0.013321835534899646,
             0.021615148873110404,
             0.01695777568124775,
             0.01176005069427571,
             0.01191037810271475
            ],
            [
             0.010853202570347106,
             0.019153949223223974,
             0.02084536904978964,
             0.018966932471586893,
             0.012414789618457241,
             0.01523782187344634,
             0.015988272880814777,
             0.011209343399828837
            ],
            [
             0.013594849789138556,
             0.018376298328577265,
             0.015684159055627145,
             0.012436359415762597,
             0.011990128167201517,
             0.012876479377511263,
             0.01302914024457155,
             0.011436747549868596
            ],
            [
             0.01729361716474587,
             0.01358844922572511,
             0.017850100236846255,
             0.01318592856938359,
             0.013684578106506801,
             0.014494235486094416,
             0.012003515048861187,
             0.010923162077135798
            ],
            [
             0.019096639694641458,
             0.018856728398166205,
             0.01779542838664714,
             0.015711986415436682,
             0.018062171347586538,
             0.019208144695970812,
             0.021820652322128962,
             0.01623345468828918
            ],
            [
             0.018509578401291093,
             0.019791932938159344,
             0.027874085931614303,
             0.016575641310384272,
             0.01086145701793931,
             0.019932652973751668,
             0.018860804649303085,
             0.017330272930001486
            ],
            [
             0.020188108523999503,
             0.017486275439990626,
             0.020861663451900037,
             0.021256140713465998,
             0.023780699972307452,
             0.015799894730441928,
             0.016574607689158093,
             0.010882775584215307
            ],
            [
             0.0076425070182474615,
             0.013287844147369627,
             0.012604168968964448,
             0.013007341854204572,
             0.009899005472507189,
             0.012574986985198964,
             0.0133659328739496,
             0.011990664966697331
            ]
           ]
          }
         ],
         "layout": {
          "coloraxis": {
           "colorscale": [
            [
             0,
             "rgb(243, 231, 155)"
            ],
            [
             0.16666666666666666,
             "rgb(250, 196, 132)"
            ],
            [
             0.3333333333333333,
             "rgb(248, 160, 126)"
            ],
            [
             0.5,
             "rgb(235, 127, 134)"
            ],
            [
             0.6666666666666666,
             "rgb(206, 102, 147)"
            ],
            [
             0.8333333333333334,
             "rgb(160, 89, 160)"
            ],
            [
             1,
             "rgb(92, 83, 165)"
            ]
           ]
          },
          "height": 500,
          "margin": {
           "t": 60
          },
          "width": 500,
          "xaxis": {
           "constrain": "domain",
           "scaleanchor": "y"
          },
          "yaxis": {
           "autorange": "reversed",
           "constrain": "domain"
          }
         },
         "name": "9"
        },
        {
         "data": [
          {
           "coloraxis": "coloraxis",
           "name": "10",
           "type": "heatmap",
           "z": [
            [
             0.00905413124774408,
             0.014653366032800054,
             0.014759023507471035,
             0.012884456973361266,
             0.021762839065925917,
             0.01716324526423438,
             0.011184573573672342,
             0.011254076402847764
            ],
            [
             0.0102712180714304,
             0.018916841579191507,
             0.021207910518735554,
             0.018661637046723998,
             0.012294094599280334,
             0.015480500046696174,
             0.01579128714740869,
             0.010514770461417971
            ],
            [
             0.012552441495942203,
             0.018532492595257112,
             0.015508195290343701,
             0.012162619674323041,
             0.011633063253047188,
             0.012489673050381131,
             0.01265968039826025,
             0.01034716533493163
            ],
            [
             0.017276582980304912,
             0.013311663402760448,
             0.017576544322479865,
             0.012933735357934602,
             0.01346823519672089,
             0.014491704631351448,
             0.012084559895909943,
             0.01079367655244394
            ],
            [
             0.01941832229000079,
             0.01956907413754099,
             0.017850448670548334,
             0.015469722883158562,
             0.018333540819621626,
             0.01975145039330002,
             0.022024099488564566,
             0.01643759666384471
            ],
            [
             0.019198234974888127,
             0.020737983759178458,
             0.029740492579201642,
             0.016285176956920038,
             0.010304827248562583,
             0.02139074345049871,
             0.019494818991004522,
             0.017574497522494636
            ],
            [
             0.02073083581961906,
             0.017571757194218135,
             0.021949772838312523,
             0.022144717829821487,
             0.025406556214629745,
             0.01658115569285355,
             0.016522141725008252,
             0.010629141758606835
            ],
            [
             0.006918053356363125,
             0.013221877024751081,
             0.012663261826995733,
             0.012706013729468758,
             0.00955681454484455,
             0.011867084762698469,
             0.013046145588304905,
             0.011227634292840639
            ]
           ]
          }
         ],
         "layout": {
          "coloraxis": {
           "colorscale": [
            [
             0,
             "rgb(243, 231, 155)"
            ],
            [
             0.16666666666666666,
             "rgb(250, 196, 132)"
            ],
            [
             0.3333333333333333,
             "rgb(248, 160, 126)"
            ],
            [
             0.5,
             "rgb(235, 127, 134)"
            ],
            [
             0.6666666666666666,
             "rgb(206, 102, 147)"
            ],
            [
             0.8333333333333334,
             "rgb(160, 89, 160)"
            ],
            [
             1,
             "rgb(92, 83, 165)"
            ]
           ]
          },
          "height": 500,
          "margin": {
           "t": 60
          },
          "width": 500,
          "xaxis": {
           "constrain": "domain",
           "scaleanchor": "y"
          },
          "yaxis": {
           "autorange": "reversed",
           "constrain": "domain"
          }
         },
         "name": "10"
        },
        {
         "data": [
          {
           "coloraxis": "coloraxis",
           "name": "11",
           "type": "heatmap",
           "z": [
            [
             0.008341971060685745,
             0.014553349048196558,
             0.014667238709939955,
             0.012411352122496173,
             0.022118622172707582,
             0.017044949733944968,
             0.010788807164204736,
             0.010706081837297782
            ],
            [
             0.009667062911004871,
             0.018466570914579213,
             0.021414898348480427,
             0.018524706276513116,
             0.01237397701233734,
             0.01571563044866031,
             0.01573838286136163,
             0.00997324432345364
            ],
            [
             0.011445678471919124,
             0.01894949722051948,
             0.015298264588198163,
             0.011644152150428638,
             0.011465702137982616,
             0.012210532531409935,
             0.012468802954110032,
             0.009383951381416381
            ],
            [
             0.016963257610151692,
             0.013221007347830918,
             0.0170217337081563,
             0.01258823565618349,
             0.013064986100702062,
             0.014389147626467624,
             0.012038866900133519,
             0.010634394985169594
            ],
            [
             0.01954796484074882,
             0.020384016924213582,
             0.01802170496377344,
             0.01528339115928398,
             0.01843016883444165,
             0.0199534209520712,
             0.022275782101848066,
             0.016451029041584523
            ],
            [
             0.019642956238189728,
             0.021677298307712208,
             0.031713410542872564,
             0.01604695388520666,
             0.009731263375842519,
             0.02290008787028584,
             0.020039650759627152,
             0.01751320897527529
            ],
            [
             0.02133616529723237,
             0.017356681950300927,
             0.022898986495567656,
             0.023037377351756608,
             0.027137266410423626,
             0.017496552625859533,
             0.016647721713027853,
             0.010482218902897683
            ],
            [
             0.0062089393175872145,
             0.013084994320598566,
             0.012934479876622822,
             0.012553104346757177,
             0.009112590939074574,
             0.011313557463821322,
             0.012941045755926967,
             0.010550952142923037
            ]
           ]
          }
         ],
         "layout": {
          "coloraxis": {
           "colorscale": [
            [
             0,
             "rgb(243, 231, 155)"
            ],
            [
             0.16666666666666666,
             "rgb(250, 196, 132)"
            ],
            [
             0.3333333333333333,
             "rgb(248, 160, 126)"
            ],
            [
             0.5,
             "rgb(235, 127, 134)"
            ],
            [
             0.6666666666666666,
             "rgb(206, 102, 147)"
            ],
            [
             0.8333333333333334,
             "rgb(160, 89, 160)"
            ],
            [
             1,
             "rgb(92, 83, 165)"
            ]
           ]
          },
          "height": 500,
          "margin": {
           "t": 60
          },
          "width": 500,
          "xaxis": {
           "constrain": "domain",
           "scaleanchor": "y"
          },
          "yaxis": {
           "autorange": "reversed",
           "constrain": "domain"
          }
         },
         "name": "11"
        },
        {
         "data": [
          {
           "coloraxis": "coloraxis",
           "name": "12",
           "type": "heatmap",
           "z": [
            [
             0.0076836776214001595,
             0.014434777027581407,
             0.014706804474974234,
             0.011977670629778598,
             0.022550279646763306,
             0.016762658145967176,
             0.010482166194750647,
             0.010207310435424815
            ],
            [
             0.009080191294770685,
             0.017959348974616384,
             0.021545984334358427,
             0.01843977471381212,
             0.012553044134662118,
             0.01597027665930566,
             0.015709474879856772,
             0.00953826620037303
            ],
            [
             0.01035325283616531,
             0.019501398666607987,
             0.015082701650389168,
             0.01101424070320445,
             0.011407595777290572,
             0.012002634463441152,
             0.012372670759791302,
             0.008522448118416662
            ],
            [
             0.01652988548429593,
             0.013211066397462915,
             0.016336369442087564,
             0.012240350297394988,
             0.012562852848224573,
             0.014287577571305408,
             0.011943098659369822,
             0.010457470058777861
            ],
            [
             0.019568687858949222,
             0.021194946439216628,
             0.01818821100838934,
             0.01511246439923228,
             0.01840312823555837,
             0.019937057609420304,
             0.02256223669385353,
             0.016331342899167364
            ],
            [
             0.019906830574085776,
             0.022669175107638755,
             0.03373690231510211,
             0.015787873988721744,
             0.009179179015949413,
             0.02445100568701881,
             0.020599587662271716,
             0.01726661078585669
            ],
            [
             0.02192310673031436,
             0.016984683604825034,
             0.023729173353269677,
             0.023883311268674677,
             0.028872709765839256,
             0.018492962868513155,
             0.01686891105140956,
             0.010388248582845058
            ],
            [
             0.005542249886457774,
             0.012942893024140487,
             0.013300677567110954,
             0.012433708801953745,
             0.008634018602535942,
             0.010856708848271498,
             0.012933796285000168,
             0.009890280375784022
            ]
           ]
          }
         ],
         "layout": {
          "coloraxis": {
           "colorscale": [
            [
             0,
             "rgb(243, 231, 155)"
            ],
            [
             0.16666666666666666,
             "rgb(250, 196, 132)"
            ],
            [
             0.3333333333333333,
             "rgb(248, 160, 126)"
            ],
            [
             0.5,
             "rgb(235, 127, 134)"
            ],
            [
             0.6666666666666666,
             "rgb(206, 102, 147)"
            ],
            [
             0.8333333333333334,
             "rgb(160, 89, 160)"
            ],
            [
             1,
             "rgb(92, 83, 165)"
            ]
           ]
          },
          "height": 500,
          "margin": {
           "t": 60
          },
          "width": 500,
          "xaxis": {
           "constrain": "domain",
           "scaleanchor": "y"
          },
          "yaxis": {
           "autorange": "reversed",
           "constrain": "domain"
          }
         },
         "name": "12"
        },
        {
         "data": [
          {
           "coloraxis": "coloraxis",
           "name": "13",
           "type": "heatmap",
           "z": [
            [
             0.007112776600628907,
             0.01428027186980298,
             0.014797539414756667,
             0.0116246823447214,
             0.02292830972802861,
             0.01648304870138619,
             0.010168825841471543,
             0.009704759018718475
            ],
            [
             0.008557336518016918,
             0.017497592420076695,
             0.02170382507366294,
             0.0182931482995127,
             0.01275197517495977,
             0.016301477798651112,
             0.015573185581945457,
             0.009163712568955491
            ],
            [
             0.009328098767127521,
             0.020072302495716107,
             0.014868821259132149,
             0.010393344936869836,
             0.011373011593717577,
             0.011812303330109887,
             0.012302530132026245,
             0.007720981702279681
            ],
            [
             0.016147063214781356,
             0.013189893103814427,
             0.01562739889082831,
             0.01194994618859169,
             0.01202615009780307,
             0.01427878165184069,
             0.01188692479296846,
             0.01027687016269931
            ],
            [
             0.019557990546014096,
             0.021929097819723187,
             0.01825672553911049,
             0.014897377872844923,
             0.0183292537237202,
             0.01986992103614968,
             0.022869797844203604,
             0.016137417933878028
            ],
            [
             0.020102598739176667,
             0.023770921674010074,
             0.035737160929181847,
             0.015409453728256438,
             0.008663816568804673,
             0.026055761477013648,
             0.02127507803241464,
             0.016966314088881575
            ],
            [
             0.022429445277425828,
             0.01660822719036453,
             0.024467901857195214,
             0.024624579172947955,
             0.03051476177342205,
             0.01953008509483964,
             0.01712253694699413,
             0.01029081132939117
            ],
            [
             0.004941065674104791,
             0.01287620690142599,
             0.013646863775689357,
             0.012235458691319288,
             0.008174404463317637,
             0.010428484785961234,
             0.01290223877623523,
             0.009181351460379378
            ]
           ]
          }
         ],
         "layout": {
          "coloraxis": {
           "colorscale": [
            [
             0,
             "rgb(243, 231, 155)"
            ],
            [
             0.16666666666666666,
             "rgb(250, 196, 132)"
            ],
            [
             0.3333333333333333,
             "rgb(248, 160, 126)"
            ],
            [
             0.5,
             "rgb(235, 127, 134)"
            ],
            [
             0.6666666666666666,
             "rgb(206, 102, 147)"
            ],
            [
             0.8333333333333334,
             "rgb(160, 89, 160)"
            ],
            [
             1,
             "rgb(92, 83, 165)"
            ]
           ]
          },
          "height": 500,
          "margin": {
           "t": 60
          },
          "width": 500,
          "xaxis": {
           "constrain": "domain",
           "scaleanchor": "y"
          },
          "yaxis": {
           "autorange": "reversed",
           "constrain": "domain"
          }
         },
         "name": "13"
        },
        {
         "data": [
          {
           "coloraxis": "coloraxis",
           "name": "14",
           "type": "heatmap",
           "z": [
            [
             0.006659641543047273,
             0.014082125685088051,
             0.014873102178722886,
             0.011383062870377079,
             0.023152622177654927,
             0.01633942873175453,
             0.009784738334009375,
             0.009156778197234603
            ],
            [
             0.008147020317625587,
             0.01713256383778494,
             0.022002241358519758,
             0.018016520911835403,
             0.012929028021857468,
             0.016780440370703854,
             0.015213274458040802,
             0.008807774109089362
            ],
            [
             0.008403215435489332,
             0.020577714915121212,
             0.014656747999255888,
             0.009868453630093012,
             0.011293453556663769,
             0.011588386906894873,
             0.012234391292138106,
             0.00694226781845653
            ],
            [
             0.01595442091573081,
             0.013097308182923286,
             0.014946183688425926,
             0.011749968374641807,
             0.011494952885607295,
             0.014438212343984463,
             0.011945408143021178,
             0.010112702629916535
            ],
            [
             0.019562647874918095,
             0.02252119043108182,
             0.018169071407513854,
             0.014581930200003231,
             0.01828222997313204,
             0.019886027381226853,
             0.023178723155428883,
             0.015902049131510998
            ],
            [
             0.020326117508896877,
             0.025038716317867672,
             0.03761078799010794,
             0.014814311595743116,
             0.0082023723218333,
             0.027736531631211554,
             0.022189439574442298,
             0.016702552914183415
            ],
            [
             0.022783193253721388,
             0.01633755506822252,
             0.025151850605578636,
             0.025197722740251827,
             0.03195213187694525,
             0.020581404802476912,
             0.017364538570085904,
             0.010140677879489303
            ],
            [
             0.00442503452727336,
             0.012973744798139607,
             0.013876280585544697,
             0.011867821558262558,
             0.007767534619895034,
             0.009985402184148201,
             0.012756723262768648,
             0.008369532436383626
            ]
           ]
          }
         ],
         "layout": {
          "coloraxis": {
           "colorscale": [
            [
             0,
             "rgb(243, 231, 155)"
            ],
            [
             0.16666666666666666,
             "rgb(250, 196, 132)"
            ],
            [
             0.3333333333333333,
             "rgb(248, 160, 126)"
            ],
            [
             0.5,
             "rgb(235, 127, 134)"
            ],
            [
             0.6666666666666666,
             "rgb(206, 102, 147)"
            ],
            [
             0.8333333333333334,
             "rgb(160, 89, 160)"
            ],
            [
             1,
             "rgb(92, 83, 165)"
            ]
           ]
          },
          "height": 500,
          "margin": {
           "t": 60
          },
          "width": 500,
          "xaxis": {
           "constrain": "domain",
           "scaleanchor": "y"
          },
          "yaxis": {
           "autorange": "reversed",
           "constrain": "domain"
          }
         },
         "name": "14"
        },
        {
         "data": [
          {
           "coloraxis": "coloraxis",
           "name": "15",
           "type": "heatmap",
           "z": [
            [
             0.006361260490450112,
             0.013783217447629082,
             0.014863498454522697,
             0.011289559911536788,
             0.023132876537412646,
             0.01643318851749991,
             0.00930726582184367,
             0.008517704663745098
            ],
            [
             0.00790937663154407,
             0.016872492391242326,
             0.022567522507345564,
             0.01758262334110135,
             0.013043197484758195,
             0.017506461125709537,
             0.01456467303816362,
             0.008417395285867053
            ],
            [
             0.007626283285663123,
             0.02096814801534627,
             0.01450041963692118,
             0.009502805068150315,
             0.011105145266099672,
             0.011273478186548214,
             0.012157675980541408,
             0.006144624620692916
            ],
            [
             0.016025604790680457,
             0.012915611262948306,
             0.014337217455957318,
             0.01166452546647373,
             0.011005301436770887,
             0.01479941016132172,
             0.01219115631818206,
             0.010012362903664423
            ],
            [
             0.019607319427451305,
             0.022871101932229784,
             0.01788482882345797,
             0.014097694952607044,
             0.01834604724657606,
             0.020073768646527896,
             0.023405781684365554,
             0.015644776943765006
            ],
            [
             0.020656777637442877,
             0.02655598102594858,
             0.039174110196732094,
             0.01395208081518596,
             0.007833212758077924,
             0.02957866396460983,
             0.023466135873223503,
             0.016565542247145175
            ],
            [
             0.022865037847932417,
             0.01623835900502243,
             0.025858623311068977,
             0.025515347824273886,
             0.03302244908152437,
             0.021575260822184285,
             0.017552809218495075,
             0.009897376763967269
            ],
            [
             0.00402068498343072,
             0.01331830667795187,
             0.013910601175029447,
             0.011305414930115696,
             0.007443546168961357,
             0.009500066984299727,
             0.012448832084454737,
             0.007431375439606203
            ]
           ]
          }
         ],
         "layout": {
          "coloraxis": {
           "colorscale": [
            [
             0,
             "rgb(243, 231, 155)"
            ],
            [
             0.16666666666666666,
             "rgb(250, 196, 132)"
            ],
            [
             0.3333333333333333,
             "rgb(248, 160, 126)"
            ],
            [
             0.5,
             "rgb(235, 127, 134)"
            ],
            [
             0.6666666666666666,
             "rgb(206, 102, 147)"
            ],
            [
             0.8333333333333334,
             "rgb(160, 89, 160)"
            ],
            [
             1,
             "rgb(92, 83, 165)"
            ]
           ]
          },
          "height": 500,
          "margin": {
           "t": 60
          },
          "width": 500,
          "xaxis": {
           "constrain": "domain",
           "scaleanchor": "y"
          },
          "yaxis": {
           "autorange": "reversed",
           "constrain": "domain"
          }
         },
         "name": "15"
        },
        {
         "data": [
          {
           "coloraxis": "coloraxis",
           "name": "16",
           "type": "heatmap",
           "z": [
            [
             0.0062256020935547015,
             0.013395228402278915,
             0.014778087833016066,
             0.011333534814372992,
             0.022870695549084122,
             0.016707279607593283,
             0.00879473867662553,
             0.007798540031905652
            ],
            [
             0.007839966160116915,
             0.01666263572191433,
             0.023419420402172455,
             0.017036877600084557,
             0.01314585217533345,
             0.018556020344555234,
             0.013695611926372463,
             0.007979971163687823
            ],
            [
             0.006991398718363617,
             0.021234778015082507,
             0.01440345851149108,
             0.009302820631686352,
             0.01083518434366584,
             0.010865621330623599,
             0.012132074313530545,
             0.005346110699190691
            ],
            [
             0.01632594687863478,
             0.012709217703034145,
             0.013757499099264303,
             0.011652899917970567,
             0.010532133677577757,
             0.015315567433296902,
             0.01263074587722716,
             0.009980539082612
            ],
            [
             0.0196261754049778,
             0.02294636856478878,
             0.017460993038985708,
             0.01342139330765626,
             0.018520204034985773,
             0.020367672336837842,
             0.023525330242279728,
             0.015325844412824932
            ],
            [
             0.021044546429310515,
             0.028348804095522494,
             0.04023450880522765,
             0.012873744980058728,
             0.0075900465518540005,
             0.031589501964447035,
             0.02516273055922353,
             0.016515336454152294
            ],
            [
             0.022590618926018824,
             0.01630710883561925,
             0.02661333927758308,
             0.02560111154927134,
             0.03360121938251053,
             0.02250544979313426,
             0.017715230002896355,
             0.009576159111671038
            ],
            [
             0.0037342907732704567,
             0.013931360637262654,
             0.013768593589651807,
             0.0106085963069632,
             0.007206968530463476,
             0.009007201235462435,
             0.01200390641192791,
             0.006419585717239193
            ]
           ]
          }
         ],
         "layout": {
          "coloraxis": {
           "colorscale": [
            [
             0,
             "rgb(243, 231, 155)"
            ],
            [
             0.16666666666666666,
             "rgb(250, 196, 132)"
            ],
            [
             0.3333333333333333,
             "rgb(248, 160, 126)"
            ],
            [
             0.5,
             "rgb(235, 127, 134)"
            ],
            [
             0.6666666666666666,
             "rgb(206, 102, 147)"
            ],
            [
             0.8333333333333334,
             "rgb(160, 89, 160)"
            ],
            [
             1,
             "rgb(92, 83, 165)"
            ]
           ]
          },
          "height": 500,
          "margin": {
           "t": 60
          },
          "width": 500,
          "xaxis": {
           "constrain": "domain",
           "scaleanchor": "y"
          },
          "yaxis": {
           "autorange": "reversed",
           "constrain": "domain"
          }
         },
         "name": "16"
        },
        {
         "data": [
          {
           "coloraxis": "coloraxis",
           "name": "17",
           "type": "heatmap",
           "z": [
            [
             0.006217521403599556,
             0.013023132016207327,
             0.014668648530586456,
             0.011425594870547737,
             0.022448008211305555,
             0.016981334561669365,
             0.008339585607740637,
             0.00708135952710608
            ],
            [
             0.007855159027655443,
             0.016413814458108987,
             0.024442931508109476,
             0.01645148962424494,
             0.01334525354177245,
             0.019928189267088028,
             0.01278230966547174,
             0.007521042832244391
            ],
            [
             0.006438496649239981,
             0.021366956551393722,
             0.014279720214306084,
             0.009237534423669404,
             0.010558706922873072,
             0.0104042408198128,
             0.012243285684800667,
             0.004606276224191592
            ],
            [
             0.016736165213609898,
             0.012572045944555943,
             0.013112934164822516,
             0.011606551590388437,
             0.010042426672045409,
             0.01586395019055897,
             0.013197767907008412,
             0.009977654203458525
            ],
            [
             0.019541132804580207,
             0.022870312198092588,
             0.01703836532359785,
             0.012604305174135282,
             0.018730665602688133,
             0.02060804870216405,
             0.023597151349565037,
             0.014923572038221828
            ],
            [
             0.021375436963354064,
             0.030282278970051382,
             0.040716654488278985,
             0.011738523663626495,
             0.007480248091239669,
             0.03366358449969722,
             0.027177311986241005,
             0.016407170824276465
            ],
            [
             0.021988511482104713,
             0.016501751195073702,
             0.02740040167573839,
             0.025629604456352786,
             0.03370869018626494,
             0.023466674275633786,
             0.01789655913693889,
             0.009241971949451401
            ],
            [
             0.0035427785447114555,
             0.014721725774344453,
             0.013561222078555226,
             0.009888346505443547,
             0.0070432208004746226,
             0.008552774811162242,
             0.011480419899232071,
             0.005450496518513056
            ]
           ]
          }
         ],
         "layout": {
          "coloraxis": {
           "colorscale": [
            [
             0,
             "rgb(243, 231, 155)"
            ],
            [
             0.16666666666666666,
             "rgb(250, 196, 132)"
            ],
            [
             0.3333333333333333,
             "rgb(248, 160, 126)"
            ],
            [
             0.5,
             "rgb(235, 127, 134)"
            ],
            [
             0.6666666666666666,
             "rgb(206, 102, 147)"
            ],
            [
             0.8333333333333334,
             "rgb(160, 89, 160)"
            ],
            [
             1,
             "rgb(92, 83, 165)"
            ]
           ]
          },
          "height": 500,
          "margin": {
           "t": 60
          },
          "width": 500,
          "xaxis": {
           "constrain": "domain",
           "scaleanchor": "y"
          },
          "yaxis": {
           "autorange": "reversed",
           "constrain": "domain"
          }
         },
         "name": "17"
        },
        {
         "data": [
          {
           "coloraxis": "coloraxis",
           "name": "18",
           "type": "heatmap",
           "z": [
            [
             0.006296338963502278,
             0.012748896936840181,
             0.014545614090251216,
             0.011452449550860498,
             0.0219154489668738,
             0.017147239511370774,
             0.007982183502030962,
             0.0064496323405045354
            ],
            [
             0.00788952456398019,
             0.016045036220631487,
             0.025530305603314894,
             0.015852876878907744,
             0.01370590676119103,
             0.02157836550080012,
             0.011946278827344944,
             0.007070361206858189
            ],
            [
             0.005916070412653632,
             0.02134355854013607,
             0.014046534972789246,
             0.00928272307975773,
             0.01030842298436974,
             0.009927497142206152,
             0.012533070660156041,
             0.003960463566175821
            ],
            [
             0.017161051915946777,
             0.012535375499343514,
             0.01235938327949769,
             0.011435819180311056,
             0.009557606859926836,
             0.016356906252471555,
             0.013836183137881443,
             0.009982795509412945
            ],
            [
             0.01935446414555318,
             0.022832748817940365,
             0.016730306581667728,
             0.011717416179649056,
             0.018907176086837143,
             0.0207255243999007,
             0.023664677085628243,
             0.014485031999546708
            ],
            [
             0.021608458095574844,
             0.03210752553525074,
             0.040645322149480134,
             0.010693559459896616,
             0.007500059789735918,
             0.03571337679024019,
             0.029334260944766412,
             0.016138634490539462
            ],
            [
             0.021135325075496703,
             0.01678408325821521,
             0.028212465526679113,
             0.025717163471214437,
             0.03344358567103628,
             0.024577280687514785,
             0.018090453634445783,
             0.008940570577362984
            ],
            [
             0.0034213883662060104,
             0.015564198200824133,
             0.01340254168648791,
             0.00922986800761402,
             0.006951668592133022,
             0.008143658228838103,
             0.010918557363677724,
             0.004608726681746536
            ]
           ]
          }
         ],
         "layout": {
          "coloraxis": {
           "colorscale": [
            [
             0,
             "rgb(243, 231, 155)"
            ],
            [
             0.16666666666666666,
             "rgb(250, 196, 132)"
            ],
            [
             0.3333333333333333,
             "rgb(248, 160, 126)"
            ],
            [
             0.5,
             "rgb(235, 127, 134)"
            ],
            [
             0.6666666666666666,
             "rgb(206, 102, 147)"
            ],
            [
             0.8333333333333334,
             "rgb(160, 89, 160)"
            ],
            [
             1,
             "rgb(92, 83, 165)"
            ]
           ]
          },
          "height": 500,
          "margin": {
           "t": 60
          },
          "width": 500,
          "xaxis": {
           "constrain": "domain",
           "scaleanchor": "y"
          },
          "yaxis": {
           "autorange": "reversed",
           "constrain": "domain"
          }
         },
         "name": "18"
        },
        {
         "data": [
          {
           "coloraxis": "coloraxis",
           "name": "19",
           "type": "heatmap",
           "z": [
            [
             0.0063890028303989115,
             0.012698174503541389,
             0.014448307865646801,
             0.01125596916803242,
             0.02135110052297839,
             0.01711468074947352,
             0.007750507354039354,
             0.006014638453508859
            ],
            [
             0.00785142531597998,
             0.015485040565561837,
             0.026515207346909025,
             0.015258478903061529,
             0.014304827348831088,
             0.023331482745803586,
             0.011309940067515107,
             0.006690954752314989
            ],
            [
             0.0053585337220910445,
             0.02114158189898208,
             0.013582844183673046,
             0.00939519088005836,
             0.01013829809824914,
             0.009514664381817277,
             0.01304211306958117,
             0.003456037658622077
            ],
            [
             0.017503191035143518,
             0.012588181610453619,
             0.011471014178613443,
             0.011049760484425391,
             0.009119873385995582,
             0.016729153149006065,
             0.014446628678588883,
             0.009953304497620467
            ],
            [
             0.019107173335947684,
             0.023143651466952304,
             0.0166775348147462,
             0.010877626033728329,
             0.01891518008296463,
             0.020685878929682672,
             0.023843770105855765,
             0.014087216060806537
            ],
            [
             0.02169433410719871,
             0.03337313824964971,
             0.04021379144857652,
             0.00989541906099584,
             0.007626534442977838,
             0.03754177669025647,
             0.03132556547099419,
             0.015585919611868518
            ],
            [
             0.020179796633798756,
             0.017095398457426032,
             0.02898970419967019,
             0.025992679862206065,
             0.033031198305116,
             0.026055019858831477,
             0.018282853550282186,
             0.008722227503874793
            ],
            [
             0.0033290405169684005,
             0.016238947520744222,
             0.013455731454402892,
             0.008712338036203755,
             0.006930254567490437,
             0.0077972481908014845,
             0.010367133718441094,
             0.003965808304021333
            ]
           ]
          }
         ],
         "layout": {
          "coloraxis": {
           "colorscale": [
            [
             0,
             "rgb(243, 231, 155)"
            ],
            [
             0.16666666666666666,
             "rgb(250, 196, 132)"
            ],
            [
             0.3333333333333333,
             "rgb(248, 160, 126)"
            ],
            [
             0.5,
             "rgb(235, 127, 134)"
            ],
            [
             0.6666666666666666,
             "rgb(206, 102, 147)"
            ],
            [
             0.8333333333333334,
             "rgb(160, 89, 160)"
            ],
            [
             1,
             "rgb(92, 83, 165)"
            ]
           ]
          },
          "height": 500,
          "margin": {
           "t": 60
          },
          "width": 500,
          "xaxis": {
           "constrain": "domain",
           "scaleanchor": "y"
          },
          "yaxis": {
           "autorange": "reversed",
           "constrain": "domain"
          }
         },
         "name": "19"
        },
        {
         "data": [
          {
           "coloraxis": "coloraxis",
           "name": "20",
           "type": "heatmap",
           "z": [
            [
             0.0063564114550658385,
             0.013058060547020975,
             0.014505869591315309,
             0.010705538405920471,
             0.02091472297762512,
             0.01676695882793258,
             0.007662229353335865,
             0.0058839408207256826
            ],
            [
             0.007601575088380579,
             0.014745713381911349,
             0.027148408394667443,
             0.014727478390494599,
             0.015260019200994413,
             0.02480721112617863,
             0.011001891693196104,
             0.006480609171722899
            ],
            [
             0.004699437090314088,
             0.020764688589485776,
             0.012762048669537613,
             0.00948102705632303,
             0.010189987168427886,
             0.009305702777199264,
             0.01379765202474458,
             0.0031574994344775484
            ],
            [
             0.017674901715453717,
             0.012695133471837887,
             0.010441634958352406,
             0.010398183339189198,
             0.008725670305787435,
             0.016952772215007243,
             0.014813153183726424,
             0.009784420206169884
            ],
            [
             0.01877429790694409,
             0.02416608508324212,
             0.01702265478121673,
             0.010246538235777557,
             0.018520451200992178,
             0.020452970593271103,
             0.024385782695933052,
             0.013779369211448804
            ],
            [
             0.02147982558330019,
             0.033640011804902774,
             0.039810775996738136,
             0.00945588820086591,
             0.007779942675148184,
             0.03868230770494787,
             0.03279468678803401,
             0.01462826326129232
            ],
            [
             0.019370399629619586,
             0.01732127687176283,
             0.02957025793577748,
             0.026644469565047263,
             0.03288897160556034,
             0.02819643887048854,
             0.018522578854793217,
             0.008640070631037718
            ],
            [
             0.0031953277993640446,
             0.016484107109993557,
             0.013901169971399239,
             0.008381280100103559,
             0.006938528834390931,
             0.007577310915660032,
             0.009907241992322841,
             0.003570166956101249
            ]
           ]
          }
         ],
         "layout": {
          "coloraxis": {
           "colorscale": [
            [
             0,
             "rgb(243, 231, 155)"
            ],
            [
             0.16666666666666666,
             "rgb(250, 196, 132)"
            ],
            [
             0.3333333333333333,
             "rgb(248, 160, 126)"
            ],
            [
             0.5,
             "rgb(235, 127, 134)"
            ],
            [
             0.6666666666666666,
             "rgb(206, 102, 147)"
            ],
            [
             0.8333333333333334,
             "rgb(160, 89, 160)"
            ],
            [
             1,
             "rgb(92, 83, 165)"
            ]
           ]
          },
          "height": 500,
          "margin": {
           "t": 60
          },
          "width": 500,
          "xaxis": {
           "constrain": "domain",
           "scaleanchor": "y"
          },
          "yaxis": {
           "autorange": "reversed",
           "constrain": "domain"
          }
         },
         "name": "20"
        },
        {
         "data": [
          {
           "coloraxis": "coloraxis",
           "name": "21",
           "type": "heatmap",
           "z": [
            [
             0.006142901923831026,
             0.013831539715952815,
             0.014663947494058254,
             0.009891990363346008,
             0.02054382706215414,
             0.016183880128001944,
             0.007650871328379108,
             0.005977717118799494
            ],
            [
             0.007142290730590551,
             0.013992851513761425,
             0.027396174331099456,
             0.014247366703642454,
             0.016520374819511283,
             0.02584581635107949,
             0.010933123866166301,
             0.006418722579893131
            ],
            [
             0.003993232171549976,
             0.02014472805816368,
             0.011666252682562139,
             0.009571380569965926,
             0.010469088754611425,
             0.009319231377471631,
             0.014679775250717958,
             0.0030331964399649162
            ],
            [
             0.01779033840984577,
             0.012813731733025684,
             0.009368535435204054,
             0.009612891206481174,
             0.008375208966472179,
             0.017123260776724217,
             0.01489305355863591,
             0.009458376703271048
            ],
            [
             0.01831157361159902,
             0.025871893874413958,
             0.017625095902132938,
             0.009814176822310875,
             0.017695712291483073,
             0.020153059580092995,
             0.02534362881265103,
             0.013614566256826785
            ],
            [
             0.020985785823912223,
             0.03311845348585222,
             0.03948546187705348,
             0.009282706899201148,
             0.00791748531767378,
             0.03886708973134657,
             0.03372322809527767,
             0.013446722785487149
            ],
            [
             0.01876789859952483,
             0.01746821460062504,
             0.029942119276089165,
             0.027736989793527223,
             0.03320859402042806,
             0.031025009614822786,
             0.018784968611177583,
             0.008674764290264241
            ],
            [
             0.0030202385714948737,
             0.016362359692192095,
             0.014603377793160531,
             0.00814756006895542,
             0.006979033415706643,
             0.007458361236739364,
             0.009505895152154439,
             0.0033622959708876723
            ]
           ]
          }
         ],
         "layout": {
          "coloraxis": {
           "colorscale": [
            [
             0,
             "rgb(243, 231, 155)"
            ],
            [
             0.16666666666666666,
             "rgb(250, 196, 132)"
            ],
            [
             0.3333333333333333,
             "rgb(248, 160, 126)"
            ],
            [
             0.5,
             "rgb(235, 127, 134)"
            ],
            [
             0.6666666666666666,
             "rgb(206, 102, 147)"
            ],
            [
             0.8333333333333334,
             "rgb(160, 89, 160)"
            ],
            [
             1,
             "rgb(92, 83, 165)"
            ]
           ]
          },
          "height": 500,
          "margin": {
           "t": 60
          },
          "width": 500,
          "xaxis": {
           "constrain": "domain",
           "scaleanchor": "y"
          },
          "yaxis": {
           "autorange": "reversed",
           "constrain": "domain"
          }
         },
         "name": "21"
        },
        {
         "data": [
          {
           "coloraxis": "coloraxis",
           "name": "22",
           "type": "heatmap",
           "z": [
            [
             0.005824311233078545,
             0.014870461456828236,
             0.01480358092746347,
             0.008989516237620319,
             0.020075089728917778,
             0.015539356643644133,
             0.007647959806558235,
             0.006160595283518791
            ],
            [
             0.006593853188537583,
             0.013356059875971134,
             0.027399982853016057,
             0.013737614127453331,
             0.017918572525759808,
             0.02658968364385073,
             0.01092225401463984,
             0.006443003613108468
            ],
            [
             0.0033367236001258208,
             0.01924717755377149,
             0.010484029087446042,
             0.009747885692021372,
             0.010855156162761781,
             0.009481842739723618,
             0.015549827163127002,
             0.003010091939840519
            ],
            [
             0.018006208038196893,
             0.012904621962327407,
             0.008363835891592637,
             0.008853308922409429,
             0.008078231381905984,
             0.01734273145411979,
             0.014841877090104871,
             0.009027245630796368
            ],
            [
             0.017751377956870686,
             0.02799023524323926,
             0.018244433055868953,
             0.009454493831351593,
             0.01658780742257637,
             0.019920373998835703,
             0.026648417693301875,
             0.01357974354766628
            ],
            [
             0.020358566139347768,
             0.03222158306418417,
             0.03906119853828113,
             0.009244445461500645,
             0.008065953964812899,
             0.03821647938684721,
             0.034309652784839176,
             0.012275092927504309
            ],
            [
             0.01825470280273575,
             0.017654125107515607,
             0.030130050578017386,
             0.02917918162137466,
             0.03378245461903683,
             0.03434782654064929,
             0.01901752900168085,
             0.008771440988948045
            ],
            [
             0.002849534019820607,
             0.01607296492233939,
             0.015303608185465443,
             0.007913230508939943,
             0.007086449503675562,
             0.00737271393203107,
             0.009075252975697506,
             0.0032563902048053997
            ]
           ]
          }
         ],
         "layout": {
          "coloraxis": {
           "colorscale": [
            [
             0,
             "rgb(243, 231, 155)"
            ],
            [
             0.16666666666666666,
             "rgb(250, 196, 132)"
            ],
            [
             0.3333333333333333,
             "rgb(248, 160, 126)"
            ],
            [
             0.5,
             "rgb(235, 127, 134)"
            ],
            [
             0.6666666666666666,
             "rgb(206, 102, 147)"
            ],
            [
             0.8333333333333334,
             "rgb(160, 89, 160)"
            ],
            [
             1,
             "rgb(92, 83, 165)"
            ]
           ]
          },
          "height": 500,
          "margin": {
           "t": 60
          },
          "width": 500,
          "xaxis": {
           "constrain": "domain",
           "scaleanchor": "y"
          },
          "yaxis": {
           "autorange": "reversed",
           "constrain": "domain"
          }
         },
         "name": "22"
        },
        {
         "data": [
          {
           "coloraxis": "coloraxis",
           "name": "23",
           "type": "heatmap",
           "z": [
            [
             0.005486266220849656,
             0.01597697318080367,
             0.014887494553637151,
             0.008154266687683959,
             0.01945240073415965,
             0.014916999283409569,
             0.007641650539796408,
             0.0063212281327873045
            ],
            [
             0.006054309953288592,
             0.012865792162923818,
             0.02727596153823109,
             0.013182053406702527,
             0.019290652376134816,
             0.02720588104950133,
             0.01087491332391502,
             0.006490901583211675
            ],
            [
             0.002780797686455652,
             0.01817837518057826,
             0.009377888467246992,
             0.010016990397676158,
             0.01124959692295061,
             0.009702946295311089,
             0.016338028932250157,
             0.003020484452121797
            ],
            [
             0.018319158322040053,
             0.012972467029435188,
             0.007482834800370694,
             0.008201278425682629,
             0.007831826789702435,
             0.01761114835791104,
             0.0147833186322389,
             0.00858146209189054
            ],
            [
             0.01714598754791711,
             0.030158442244925494,
             0.018720634818349517,
             0.009086831619667283,
             0.015392007553512973,
             0.019733257414312554,
             0.028132046693508703,
             0.013609517998370698
            ],
            [
             0.019678748378442502,
             0.03132942718182834,
             0.038457002152486555,
             0.009255740412313472,
             0.008256621852753651,
             0.03714052298056794,
             0.03479408803061495,
             0.01122644429227389
            ],
            [
             0.017717726377968795,
             0.017906422379490354,
             0.030235513122636257,
             0.03084216486651196,
             0.03435168605988812,
             0.037895762805870745,
             0.01919467759621116,
             0.008896281281716874
            ],
            [
             0.0027066050207451542,
             0.015757255518105792,
             0.01585710713822243,
             0.007659847358578762,
             0.007259178738687181,
             0.007288040421667696,
             0.008602358355566782,
             0.0031857042753868996
            ]
           ]
          }
         ],
         "layout": {
          "coloraxis": {
           "colorscale": [
            [
             0,
             "rgb(243, 231, 155)"
            ],
            [
             0.16666666666666666,
             "rgb(250, 196, 132)"
            ],
            [
             0.3333333333333333,
             "rgb(248, 160, 126)"
            ],
            [
             0.5,
             "rgb(235, 127, 134)"
            ],
            [
             0.6666666666666666,
             "rgb(206, 102, 147)"
            ],
            [
             0.8333333333333334,
             "rgb(160, 89, 160)"
            ],
            [
             1,
             "rgb(92, 83, 165)"
            ]
           ]
          },
          "height": 500,
          "margin": {
           "t": 60
          },
          "width": 500,
          "xaxis": {
           "constrain": "domain",
           "scaleanchor": "y"
          },
          "yaxis": {
           "autorange": "reversed",
           "constrain": "domain"
          }
         },
         "name": "23"
        },
        {
         "data": [
          {
           "coloraxis": "coloraxis",
           "name": "24",
           "type": "heatmap",
           "z": [
            [
             0.00518255481799038,
             0.016965379124357097,
             0.014905646899776848,
             0.0074699229202884465,
             0.01870888244663985,
             0.014369293608169006,
             0.007634012730537658,
             0.006395732039336621
            ],
            [
             0.0055834036528805055,
             0.012515043102614901,
             0.02715039953367889,
             0.012638043558377474,
             0.020497476282042668,
             0.027788078336144252,
             0.01077398222381997,
             0.006503910521547542
            ],
            [
             0.002348775524911488,
             0.017067245223733072,
             0.00845916686396572,
             0.010364787537048467,
             0.011605265420196909,
             0.0099329609039884,
             0.01700884026329319,
             0.0030285596076726823
            ],
            [
             0.01867977251974221,
             0.01302604834879384,
             0.006757610302702142,
             0.007683726303971521,
             0.0076414480481705755,
             0.01788173490622249,
             0.014757610704102031,
             0.008190120965056887
            ],
            [
             0.01653697251363462,
             0.03207235517898679,
             0.019007914075304964,
             0.008696002183271838,
             0.014268118258205155,
             0.019552670614067777,
             0.02958601670648797,
             0.013659991151176254
            ],
            [
             0.01899116967534443,
             0.030670083587975107,
             0.03766429609848701,
             0.009279443431009822,
             0.008517967986674422,
             0.03599095456223303,
             0.03534647012048429,
             0.010358868336823852
            ],
            [
             0.017085829054669315,
             0.018190813095607977,
             0.030403362724326782,
             0.03255578755792034,
             0.03478186832430731,
             0.041332133352789575,
             0.019291552774317083,
             0.009002586416632657
            ],
            [
             0.0026044031829461083,
             0.015487049917495653,
             0.016213261089701253,
             0.00740430464537256,
             0.007478636006288822,
             0.007210703805201318,
             0.008128730666993112,
             0.0031142476634884544
            ]
           ]
          }
         ],
         "layout": {
          "coloraxis": {
           "colorscale": [
            [
             0,
             "rgb(243, 231, 155)"
            ],
            [
             0.16666666666666666,
             "rgb(250, 196, 132)"
            ],
            [
             0.3333333333333333,
             "rgb(248, 160, 126)"
            ],
            [
             0.5,
             "rgb(235, 127, 134)"
            ],
            [
             0.6666666666666666,
             "rgb(206, 102, 147)"
            ],
            [
             0.8333333333333334,
             "rgb(160, 89, 160)"
            ],
            [
             1,
             "rgb(92, 83, 165)"
            ]
           ]
          },
          "height": 500,
          "margin": {
           "t": 60
          },
          "width": 500,
          "xaxis": {
           "constrain": "domain",
           "scaleanchor": "y"
          },
          "yaxis": {
           "autorange": "reversed",
           "constrain": "domain"
          }
         },
         "name": "24"
        },
        {
         "data": [
          {
           "coloraxis": "coloraxis",
           "name": "25",
           "type": "heatmap",
           "z": [
            [
             0.004965406520048612,
             0.017639767311733483,
             0.014811778223433342,
             0.006999442377836767,
             0.017873625331532805,
             0.013964915691126538,
             0.007621981490376978,
             0.006316123402435761
            ],
            [
             0.005222496800825072,
             0.012310515745897142,
             0.0271955326185503,
             0.01218409334791466,
             0.021382868671048754,
             0.02846853606199126,
             0.010611053807849906,
             0.006393810815650908
            ],
            [
             0.0020564590226165784,
             0.015994806791647113,
             0.007808759795829804,
             0.0108284330793823,
             0.011874533144151425,
             0.010121405557119554,
             0.017535594744489784,
             0.0030018839690990453
            ],
            [
             0.019087656074936975,
             0.01308602415711397,
             0.006214974300873016,
             0.007319723053525204,
             0.00752863624151646,
             0.0181005681898799,
             0.014808987140246593,
             0.007913535959422935
            ],
            [
             0.015961603244035477,
             0.03339087451048382,
             0.01909115759518084,
             0.008277297479343823,
             0.013380414460200961,
             0.019359346832659427,
             0.030729593369760014,
             0.013715074707181585
            ],
            [
             0.018365564445372323,
             0.03048445588792016,
             0.03664008751661613,
             0.009274406756581291,
             0.008903571161357798,
             0.035086135620944266,
             0.036167924523635056,
             0.009741217475688147
            ],
            [
             0.01627057738431903,
             0.01849165375180833,
             0.030868958166172446,
             0.03413724404548822,
             0.034985441925240675,
             0.04420817787002388,
             0.01925905186908265,
             0.009020066476471075
            ],
            [
             0.0025652148851903495,
             0.015350538211896504,
             0.01630189792635016,
             0.007152636090814362,
             0.007735236037992746,
             0.007150174861785211,
             0.007686387125028753,
             0.0030040883452710065
            ]
           ]
          }
         ],
         "layout": {
          "coloraxis": {
           "colorscale": [
            [
             0,
             "rgb(243, 231, 155)"
            ],
            [
             0.16666666666666666,
             "rgb(250, 196, 132)"
            ],
            [
             0.3333333333333333,
             "rgb(248, 160, 126)"
            ],
            [
             0.5,
             "rgb(235, 127, 134)"
            ],
            [
             0.6666666666666666,
             "rgb(206, 102, 147)"
            ],
            [
             0.8333333333333334,
             "rgb(160, 89, 160)"
            ],
            [
             1,
             "rgb(92, 83, 165)"
            ]
           ]
          },
          "height": 500,
          "margin": {
           "t": 60
          },
          "width": 500,
          "xaxis": {
           "constrain": "domain",
           "scaleanchor": "y"
          },
          "yaxis": {
           "autorange": "reversed",
           "constrain": "domain"
          }
         },
         "name": "25"
        },
        {
         "data": [
          {
           "coloraxis": "coloraxis",
           "name": "26",
           "type": "heatmap",
           "z": [
            [
             0.004880605252754683,
             0.01778623241106543,
             0.01456747645547034,
             0.006805575686512428,
             0.01698897226446227,
             0.013751816812715943,
             0.007591087349932119,
             0.006012442288327229
            ],
            [
             0.004998218218404499,
             0.012280845375212079,
             0.027551820348256727,
             0.011894389273903211,
             0.021791218566503342,
             0.02943621565895967,
             0.010370600348474469,
             0.006088495873020342
            ],
            [
             0.0019173290899585902,
             0.015052659044230225,
             0.007513365789786362,
             0.011441933071999299,
             0.012034241144717872,
             0.010241400948947406,
             0.017864009958431404,
             0.0029147248060325984
            ],
            [
             0.01955034766827267,
             0.01319185521904821,
             0.0058835356037810725,
             0.007147555734306996,
             0.007489505324239975,
             0.018225087436303924,
             0.014990546256128305,
             0.007784556324678665
            ],
            [
             0.015426146227303341,
             0.03375702659233964,
             0.018932846457042886,
             0.00783131632840819,
             0.012861613438471075,
             0.019143059200581958,
             0.03128130068449355,
             0.01374491274531372
            ],
            [
             0.017882001157350867,
             0.031115896597522542,
             0.03536713600648436,
             0.009177846949493095,
             0.009451371686513646,
             0.03471078828948729,
             0.03745256858094256,
             0.009462963887697304
            ],
            [
             0.015234212234158627,
             0.01879042408763442,
             0.03180279549215638,
             0.03536571908643232,
             0.03494155794169888,
             0.045985298223295716,
             0.01909950917376218,
             0.00887580895008386
            ],
            [
             0.0026115770286763086,
             0.01545335117681615,
             0.016035990044932582,
             0.006904808107902347,
             0.008007232942610383,
             0.007122071879722585,
             0.007310421358710969,
             0.002821761837120923
            ]
           ]
          }
         ],
         "layout": {
          "coloraxis": {
           "colorscale": [
            [
             0,
             "rgb(243, 231, 155)"
            ],
            [
             0.16666666666666666,
             "rgb(250, 196, 132)"
            ],
            [
             0.3333333333333333,
             "rgb(248, 160, 126)"
            ],
            [
             0.5,
             "rgb(235, 127, 134)"
            ],
            [
             0.6666666666666666,
             "rgb(206, 102, 147)"
            ],
            [
             0.8333333333333334,
             "rgb(160, 89, 160)"
            ],
            [
             1,
             "rgb(92, 83, 165)"
            ]
           ]
          },
          "height": 500,
          "margin": {
           "t": 60
          },
          "width": 500,
          "xaxis": {
           "constrain": "domain",
           "scaleanchor": "y"
          },
          "yaxis": {
           "autorange": "reversed",
           "constrain": "domain"
          }
         },
         "name": "26"
        },
        {
         "data": [
          {
           "coloraxis": "coloraxis",
           "name": "27",
           "type": "heatmap",
           "z": [
            [
             0.004919144754152428,
             0.017352825180952724,
             0.014258555190934353,
             0.0068734489488240956,
             0.016182719438689677,
             0.0136682161407724,
             0.007562846375043412,
             0.005529008330437896
            ],
            [
             0.004883170382420488,
             0.012406253681557044,
             0.028146468830645744,
             0.011781771852660324,
             0.02170429001573576,
             0.030720678537934417,
             0.010114764034647708,
             0.005641440687741224
            ],
            [
             0.0019157237713090045,
             0.014356699131729088,
             0.007604254241946308,
             0.012115757789311917,
             0.012115469915931923,
             0.01033515741267519,
             0.017971314018006543,
             0.0027837291344419905
            ],
            [
             0.01993951094898064,
             0.01337782860542693,
             0.005760246693812576,
             0.007163640417932766,
             0.007477780088586981,
             0.018197692479141797,
             0.015265974898782177,
             0.007758069679039209
            ],
            [
             0.014934892566104417,
             0.033156249988324706,
             0.01855390647015629,
             0.007386299828100121,
             0.012688123615618633,
             0.018842014055185808,
             0.031248772000739413,
             0.013685500095762113
            ],
            [
             0.017530157240521656,
             0.032640583622395546,
             0.03406772387457151,
             0.00902451079879069,
             0.010135394286282058,
             0.034951901785951006,
             0.03911308474190362,
             0.009510753173367798
            ],
            [
             0.014098231594282149,
             0.019021350419636943,
             0.03306731432670925,
             0.03615180789053964,
             0.0346885536932621,
             0.046456580723733536,
             0.018905390744700407,
             0.008582323923386781
            ],
            [
             0.0027309331478192907,
             0.015726309346373903,
             0.01547860381199112,
             0.00670521577476647,
             0.00824527067907045,
             0.007152722965362079,
             0.007039328596718089,
             0.0025957426076666664
            ]
           ]
          }
         ],
         "layout": {
          "coloraxis": {
           "colorscale": [
            [
             0,
             "rgb(243, 231, 155)"
            ],
            [
             0.16666666666666666,
             "rgb(250, 196, 132)"
            ],
            [
             0.3333333333333333,
             "rgb(248, 160, 126)"
            ],
            [
             0.5,
             "rgb(235, 127, 134)"
            ],
            [
             0.6666666666666666,
             "rgb(206, 102, 147)"
            ],
            [
             0.8333333333333334,
             "rgb(160, 89, 160)"
            ],
            [
             1,
             "rgb(92, 83, 165)"
            ]
           ]
          },
          "height": 500,
          "margin": {
           "t": 60
          },
          "width": 500,
          "xaxis": {
           "constrain": "domain",
           "scaleanchor": "y"
          },
          "yaxis": {
           "autorange": "reversed",
           "constrain": "domain"
          }
         },
         "name": "27"
        },
        {
         "data": [
          {
           "coloraxis": "coloraxis",
           "name": "28",
           "type": "heatmap",
           "z": [
            [
             0.004976611354619036,
             0.016558800471085686,
             0.014011712014765906,
             0.00708072945224629,
             0.015593577678846109,
             0.01358607454934519,
             0.007562295974998851,
             0.005006552487697044
            ],
            [
             0.004789510393448066,
             0.012645646802352303,
             0.02869461640473969,
             0.011802217721143225,
             0.021246341844015918,
             0.03200630489287322,
             0.009959856928046339,
             0.005196120299547109
            ],
            [
             0.0019976031140376167,
             0.013946657247728606,
             0.008007606977406198,
             0.012672848451460682,
             0.012193245829756939,
             0.010500530063680437,
             0.017835887073427408,
             0.0026633089536050153
            ],
            [
             0.020070345797431582,
             0.013623758133408046,
             0.005806688875001099,
             0.007311024643050029,
             0.007438543387344819,
             0.017989474071914233,
             0.01548649364112763,
             0.007723772196000313
            ],
            [
             0.014505126801592848,
             0.032056933224251474,
             0.018027666416542697,
             0.0070095666457924794,
             0.012661646089866354,
             0.01842703494428352,
             0.031001628508555423,
             0.013528836922007376
            ],
            [
             0.017237976773114633,
             0.03472684420160062,
             0.03318083842333835,
             0.008945569084217059,
             0.010822580169794706,
             0.03554735478442281,
             0.04068895850375323,
             0.009781026864043188
            ],
            [
             0.01312616649246996,
             0.019102310611678282,
             0.03428907546257338,
             0.03673656116139205,
             0.03449546175212894,
             0.04599205306636027,
             0.018755852768710588,
             0.008251352131756777
            ],
            [
             0.0028604074603340067,
             0.015919359024121692,
             0.014804627743528316,
             0.00659958371894415,
             0.008393297788976472,
             0.007246769517146706,
             0.006890225465951668,
             0.0024025497505987567
            ]
           ]
          }
         ],
         "layout": {
          "coloraxis": {
           "colorscale": [
            [
             0,
             "rgb(243, 231, 155)"
            ],
            [
             0.16666666666666666,
             "rgb(250, 196, 132)"
            ],
            [
             0.3333333333333333,
             "rgb(248, 160, 126)"
            ],
            [
             0.5,
             "rgb(235, 127, 134)"
            ],
            [
             0.6666666666666666,
             "rgb(206, 102, 147)"
            ],
            [
             0.8333333333333334,
             "rgb(160, 89, 160)"
            ],
            [
             1,
             "rgb(92, 83, 165)"
            ]
           ]
          },
          "height": 500,
          "margin": {
           "t": 60
          },
          "width": 500,
          "xaxis": {
           "constrain": "domain",
           "scaleanchor": "y"
          },
          "yaxis": {
           "autorange": "reversed",
           "constrain": "domain"
          }
         },
         "name": "28"
        },
        {
         "data": [
          {
           "coloraxis": "coloraxis",
           "name": "29",
           "type": "heatmap",
           "z": [
            [
             0.0049276959266765065,
             0.01570861523293133,
             0.013926260482721865,
             0.007254987257096241,
             0.015318351794649255,
             0.013441114781443386,
             0.0075853886845364486,
             0.00458583219162287
            ],
            [
             0.0046398231160337915,
             0.012957655572692019,
             0.028975976666133375,
             0.011902133367644256,
             0.020594723366767966,
             0.03283968874762923,
             0.009992985127382057,
             0.004882349341323973
            ],
            [
             0.002097566464414659,
             0.013792560495320716,
             0.008596784721019496,
             0.012953347501226396,
             0.012340176760318039,
             0.010842706253097871,
             0.017452819377429412,
             0.0026103125859957693
            ],
            [
             0.019865336968286462,
             0.01383356688951583,
             0.005983398007401268,
             0.0075121692511870486,
             0.0073416319707908725,
             0.017644257740127987,
             0.0154970438803844,
             0.007563487751821359
            ],
            [
             0.014171873893168409,
             0.031099944823319507,
             0.01747063731589666,
             0.006770359786839714,
             0.01253994724048822,
             0.017973301255971682,
             0.0310298571406356,
             0.013317403463231361
            ],
            [
             0.01694994507686195,
             0.03676749021577826,
             0.03312805522056947,
             0.009071492050505245,
             0.011331135627128964,
             0.036056696338384646,
             0.041651826842686854,
             0.010153890300540333
            ],
            [
             0.012534614860310753,
             0.019005960850750396,
             0.03506311383273151,
             0.037428797237107465,
             0.03471452424927143,
             0.04518986012299861,
             0.01867948856869795,
             0.007982649039801969
            ],
            [
             0.0029192575549561984,
             0.01576387919056943,
             0.014198078343598902,
             0.006596900451160554,
             0.008415112764452864,
             0.007392401838309493,
             0.006865157496129164,
             0.002305598731523229
            ]
           ]
          }
         ],
         "layout": {
          "coloraxis": {
           "colorscale": [
            [
             0,
             "rgb(243, 231, 155)"
            ],
            [
             0.16666666666666666,
             "rgb(250, 196, 132)"
            ],
            [
             0.3333333333333333,
             "rgb(248, 160, 126)"
            ],
            [
             0.5,
             "rgb(235, 127, 134)"
            ],
            [
             0.6666666666666666,
             "rgb(206, 102, 147)"
            ],
            [
             0.8333333333333334,
             "rgb(160, 89, 160)"
            ],
            [
             1,
             "rgb(92, 83, 165)"
            ]
           ]
          },
          "height": 500,
          "margin": {
           "t": 60
          },
          "width": 500,
          "xaxis": {
           "constrain": "domain",
           "scaleanchor": "y"
          },
          "yaxis": {
           "autorange": "reversed",
           "constrain": "domain"
          }
         },
         "name": "29"
        },
        {
         "data": [
          {
           "coloraxis": "coloraxis",
           "name": "30",
           "type": "heatmap",
           "z": [
            [
             0.0046987669279366555,
             0.014985665942728817,
             0.014045134093028514,
             0.007311171066572938,
             0.015374943082824083,
             0.013225979151252136,
             0.007619127180481705,
             0.004312383806230706
            ],
            [
             0.004396948719717447,
             0.01334729427724204,
             0.02888369274540337,
             0.012085891388920265,
             0.019855756303481197,
             0.03287199654425494,
             0.010240021215162843,
             0.004739722033163574
            ],
            [
             0.002172320660402574,
             0.013848011813558611,
             0.009289032577960345,
             0.012888015979298813,
             0.012628343669803923,
             0.011446257024356735,
             0.016830721528600483,
             0.002656063850581792
            ],
            [
             0.019340938246014686,
             0.013935104357826734,
             0.006276036341963337,
             0.007730605343107003,
             0.007180071740764978,
             0.017233871167963488,
             0.015196628083552457,
             0.007234546778710274
            ],
            [
             0.013925446014501724,
             0.030575718096586733,
             0.016930516801358687,
             0.006729923402503029,
             0.012189235019070824,
             0.017545129689313356,
             0.03155671722568557,
             0.013101557124950931
            ],
            [
             0.016604302537509077,
             0.038412566993126354,
             0.034124405515019586,
             0.009444103769679052,
             0.01152775811259073,
             0.03615327238553074,
             0.041784279201853236,
             0.010566988267229512
            ],
            [
             0.01239912617494178,
             0.018703374844392606,
             0.035216942249054584,
             0.0384210111180764,
             0.03568144710941787,
             0.044415842640466725,
             0.018653584879513196,
             0.007822575959038939
            ],
            [
             0.002855453858324913,
             0.015169861046914295,
             0.01373858981211847,
             0.006672931921156658,
             0.008297839302486091,
             0.007592735692111149,
             0.006984770225528237,
             0.002320929367080619
            ]
           ]
          }
         ],
         "layout": {
          "coloraxis": {
           "colorscale": [
            [
             0,
             "rgb(243, 231, 155)"
            ],
            [
             0.16666666666666666,
             "rgb(250, 196, 132)"
            ],
            [
             0.3333333333333333,
             "rgb(248, 160, 126)"
            ],
            [
             0.5,
             "rgb(235, 127, 134)"
            ],
            [
             0.6666666666666666,
             "rgb(206, 102, 147)"
            ],
            [
             0.8333333333333334,
             "rgb(160, 89, 160)"
            ],
            [
             1,
             "rgb(92, 83, 165)"
            ]
           ]
          },
          "height": 500,
          "margin": {
           "t": 60
          },
          "width": 500,
          "xaxis": {
           "constrain": "domain",
           "scaleanchor": "y"
          },
          "yaxis": {
           "autorange": "reversed",
           "constrain": "domain"
          }
         },
         "name": "30"
        },
        {
         "data": [
          {
           "coloraxis": "coloraxis",
           "name": "31",
           "type": "heatmap",
           "z": [
            [
             0.004334241688700261,
             0.014345872515227134,
             0.014329545934892005,
             0.0072336703480256484,
             0.015723308105101703,
             0.013018725550108466,
             0.007624937058910887,
             0.00417701608331405
            ],
            [
             0.004105419406114329,
             0.013785183424209172,
             0.028563595923162176,
             0.012338423286620572,
             0.01901806456561414,
             0.03215615103571518,
             0.010644260689093554,
             0.004749660372622118
            ],
            [
             0.0022258349963189673,
             0.014095128552354038,
             0.01010115058612639,
             0.012495654471919445,
             0.013010841613363449,
             0.012328857863404324,
             0.015984188894028233,
             0.0027957954799869354
            ],
            [
             0.018587539105112235,
             0.013854853063254876,
             0.006704627142526087,
             0.007961587481776103,
             0.006975495714125958,
             0.016819376042587837,
             0.014636059080883137,
             0.006761831597353105
            ],
            [
             0.013775488889670784,
             0.03053614339882186,
             0.016424748994882214,
             0.006877648941039229,
             0.011630749481050369,
             0.01723594116859885,
             0.032561693868349596,
             0.01289471168696592
            ],
            [
             0.016237885030018072,
             0.03949410349369449,
             0.03616718396033654,
             0.010055646641613184,
             0.011407408413124964,
             0.03584721058865042,
             0.04114485608322166,
             0.011031355701957598
            ],
            [
             0.012648804914473635,
             0.018231823188038027,
             0.0347350932538545,
             0.03949538504424739,
             0.03740746637151075,
             0.04362859467456179,
             0.018640622641901895,
             0.0077175719391079185
            ],
            [
             0.0026843985823329546,
             0.01419912432821579,
             0.013419563108837206,
             0.006802526297408193,
             0.008063489926497256,
             0.007831177842785484,
             0.007249426400723025,
             0.002435257470954984
            ]
           ]
          }
         ],
         "layout": {
          "coloraxis": {
           "colorscale": [
            [
             0,
             "rgb(243, 231, 155)"
            ],
            [
             0.16666666666666666,
             "rgb(250, 196, 132)"
            ],
            [
             0.3333333333333333,
             "rgb(248, 160, 126)"
            ],
            [
             0.5,
             "rgb(235, 127, 134)"
            ],
            [
             0.6666666666666666,
             "rgb(206, 102, 147)"
            ],
            [
             0.8333333333333334,
             "rgb(160, 89, 160)"
            ],
            [
             1,
             "rgb(92, 83, 165)"
            ]
           ]
          },
          "height": 500,
          "margin": {
           "t": 60
          },
          "width": 500,
          "xaxis": {
           "constrain": "domain",
           "scaleanchor": "y"
          },
          "yaxis": {
           "autorange": "reversed",
           "constrain": "domain"
          }
         },
         "name": "31"
        },
        {
         "data": [
          {
           "coloraxis": "coloraxis",
           "name": "32",
           "type": "heatmap",
           "z": [
            [
             0.003938894564067635,
             0.01366459578976509,
             0.014679379746455189,
             0.007072117644768331,
             0.01623439976022522,
             0.01289645665388241,
             0.0075789960589528,
             0.0041292199889512065
            ],
            [
             0.003832329900222249,
             0.01421163306558277,
             0.028244944078399295,
             0.01261852811261749,
             0.01805235111534208,
             0.03103825031143867,
             0.011094626615176073,
             0.004844733097471997
            ],
            [
             0.0022808836390247095,
             0.014487297643558147,
             0.011072048027738193,
             0.011896795399400051,
             0.013364656069002718,
             0.013413094582566364,
             0.014998488772265901,
             0.002985307096377407
            ],
            [
             0.017729317188616426,
             0.013584976909965556,
             0.007266902998783306,
             0.008209174748077289,
             0.006774651164154997,
             0.016432552855601495,
             0.013964836641043414,
             0.006237354502717592
            ],
            [
             0.013718185933175276,
             0.03081490316385186,
             0.01594355566416066,
             0.007138837422173451,
             0.010981513379513058,
             0.017072238357438558,
             0.03380253384656494,
             0.012694273697726953
            ],
            [
             0.015899530340438058,
             0.04009774154219433,
             0.038963859560432884,
             0.010849160434075075,
             0.01110538630580287,
             0.03540061281222188,
             0.040075210084411284,
             0.011558230582430499
            ],
            [
             0.013083147723951867,
             0.017656903995519394,
             0.033854274578390395,
             0.0402966968380078,
             0.03959168167381144,
             0.042676468936729446,
             0.018585179667133248,
             0.007587908328634314
            ],
            [
             0.002467145586339493,
             0.01303914005120436,
             0.013185473406682535,
             0.006963121469403872,
             0.007768982571570663,
             0.008074040726623875,
             0.007618541793450339,
             0.002605724783722306
            ]
           ]
          }
         ],
         "layout": {
          "coloraxis": {
           "colorscale": [
            [
             0,
             "rgb(243, 231, 155)"
            ],
            [
             0.16666666666666666,
             "rgb(250, 196, 132)"
            ],
            [
             0.3333333333333333,
             "rgb(248, 160, 126)"
            ],
            [
             0.5,
             "rgb(235, 127, 134)"
            ],
            [
             0.6666666666666666,
             "rgb(206, 102, 147)"
            ],
            [
             0.8333333333333334,
             "rgb(160, 89, 160)"
            ],
            [
             1,
             "rgb(92, 83, 165)"
            ]
           ]
          },
          "height": 500,
          "margin": {
           "t": 60
          },
          "width": 500,
          "xaxis": {
           "constrain": "domain",
           "scaleanchor": "y"
          },
          "yaxis": {
           "autorange": "reversed",
           "constrain": "domain"
          }
         },
         "name": "32"
        },
        {
         "data": [
          {
           "coloraxis": "coloraxis",
           "name": "33",
           "type": "heatmap",
           "z": [
            [
             0.0036135455293606726,
             0.012825615895688038,
             0.014974968200964577,
             0.006895300317979926,
             0.016781726246575326,
             0.012912162899252524,
             0.007464599667713122,
             0.004093494610790099
            ],
            [
             0.003645400940514393,
             0.014573152403957804,
             0.02828690328313979,
             0.012915644021566293,
             0.017006443281204268,
             0.03003548147823998,
             0.01147639076120255,
             0.004930411692356211
            ],
            [
             0.0023781966119939637,
             0.014945841508365604,
             0.012254354978566216,
             0.01127048601080191,
             0.013594582721654255,
             0.01454475635490569,
             0.01398937071531555,
             0.0031657454331221494
            ],
            [
             0.01694072275045846,
             0.01318858730701307,
             0.007926003845334782,
             0.008468918524704936,
             0.006608952338082637,
             0.016061296689773383,
             0.01331690860936353,
             0.005747776528559832
            ],
            [
             0.013689186816709206,
             0.031168902360108098,
             0.015519824512838688,
             0.007373596292243664,
             0.010384573771143569,
             0.017066660871717362,
             0.03500679622486983,
             0.012483700950306516
            ],
            [
             0.015636070789265932,
             0.0405438218351356,
             0.04188758458052335,
             0.011694781464280386,
             0.010816553165023229,
             0.03505599652463941,
             0.039041874181606026,
             0.012163798389896573
            ],
            [
             0.013430937478579093,
             0.01707496242165259,
             0.03297098286890183,
             0.04046302228096808,
             0.041723337486332626,
             0.04128874512938231,
             0.018501853033037283,
             0.007326194719071699
            ],
            [
             0.0022825449794896977,
             0.011940849184280225,
             0.012948771792630138,
             0.007121749044353517,
             0.007463557080355033,
             0.008299127119492345,
             0.008023255991632564,
             0.002772644501010753
            ]
           ]
          }
         ],
         "layout": {
          "coloraxis": {
           "colorscale": [
            [
             0,
             "rgb(243, 231, 155)"
            ],
            [
             0.16666666666666666,
             "rgb(250, 196, 132)"
            ],
            [
             0.3333333333333333,
             "rgb(248, 160, 126)"
            ],
            [
             0.5,
             "rgb(235, 127, 134)"
            ],
            [
             0.6666666666666666,
             "rgb(206, 102, 147)"
            ],
            [
             0.8333333333333334,
             "rgb(160, 89, 160)"
            ],
            [
             1,
             "rgb(92, 83, 165)"
            ]
           ]
          },
          "height": 500,
          "margin": {
           "t": 60
          },
          "width": 500,
          "xaxis": {
           "constrain": "domain",
           "scaleanchor": "y"
          },
          "yaxis": {
           "autorange": "reversed",
           "constrain": "domain"
          }
         },
         "name": "33"
        },
        {
         "data": [
          {
           "coloraxis": "coloraxis",
           "name": "34",
           "type": "heatmap",
           "z": [
            [
             0.003390056380122851,
             0.011780181747331425,
             0.015125308752789035,
             0.006782282910851145,
             0.01721954878147103,
             0.013095750880118343,
             0.007284767518371072,
             0.0039976546212309285
            ],
            [
             0.003583442344642759,
             0.01483791443608858,
             0.02882366362634587,
             0.013238802124460962,
             0.01592223688130371,
             0.029377872854597992,
             0.011697227942934235,
             0.004932562414394355
            ],
            [
             0.002540399774958119,
             0.015447522636891179,
             0.013725574923312509,
             0.010728932196440165,
             0.013680911783776468,
             0.015608627883681734,
             0.013038953780444212,
             0.0032758646984220093
            ],
            [
             0.016296075565446322,
             0.01275439599950226,
             0.00863969999040209,
             0.008775502649336988,
             0.006505679095906776,
             0.015733981868192512,
             0.012782378275901871,
             0.005380829166339198
            ],
            [
             0.013621815170182459,
             0.03131401162553042,
             0.015117437677100358,
             0.007493594858316914,
             0.009915194677205433,
             0.017189535633027477,
             0.03579619458291191,
             0.012278436554210572
            ],
            [
             0.015458585871139968,
             0.04123785365261337,
             0.04439378572878549,
             0.012451264903375331,
             0.010666238792673264,
             0.03505340708788644,
             0.0384399141038434,
             0.012882264672075866
            ],
            [
             0.01351927021810296,
             0.016465234534294236,
             0.0324008557960481,
             0.039816868961371585,
             0.04350302964264361,
             0.039447952063568756,
             0.018388878648096345,
             0.006921314040241492
            ],
            [
             0.0021709259469604586,
             0.01109038172386953,
             0.012669454470408934,
             0.007271226440126053,
             0.007191836930285846,
             0.008507017736353317,
             0.008440474184651867,
             0.002881138566088835
            ]
           ]
          }
         ],
         "layout": {
          "coloraxis": {
           "colorscale": [
            [
             0,
             "rgb(243, 231, 155)"
            ],
            [
             0.16666666666666666,
             "rgb(250, 196, 132)"
            ],
            [
             0.3333333333333333,
             "rgb(248, 160, 126)"
            ],
            [
             0.5,
             "rgb(235, 127, 134)"
            ],
            [
             0.6666666666666666,
             "rgb(206, 102, 147)"
            ],
            [
             0.8333333333333334,
             "rgb(160, 89, 160)"
            ],
            [
             1,
             "rgb(92, 83, 165)"
            ]
           ]
          },
          "height": 500,
          "margin": {
           "t": 60
          },
          "width": 500,
          "xaxis": {
           "constrain": "domain",
           "scaleanchor": "y"
          },
          "yaxis": {
           "autorange": "reversed",
           "constrain": "domain"
          }
         },
         "name": "34"
        },
        {
         "data": [
          {
           "coloraxis": "coloraxis",
           "name": "35",
           "type": "heatmap",
           "z": [
            [
             0.0032765774022689874,
             0.010530877018178356,
             0.015057068599140185,
             0.006755909530703256,
             0.017445209774047517,
             0.013471941637144845,
             0.007031195707411532,
             0.003808582452789888
            ],
            [
             0.003686227702495003,
             0.01493443739715696,
             0.030009164655899548,
             0.013584974867440735,
             0.01487063240548948,
             0.02922981787756161,
             0.011692341012890671,
             0.004814924367856101
            ],
            [
             0.002783406996473377,
             0.0159992178019223,
             0.01557111574480576,
             0.010314581851651393,
             0.013628660187739896,
             0.016510135526954527,
             0.012200749988271543,
             0.003269043956789571
            ],
            [
             0.015831837065246785,
             0.012333303686491548,
             0.009345481895654647,
             0.009143867081933288,
             0.00647940159574392,
             0.015481525747065348,
             0.012412345160878947,
             0.005184280997925165
            ],
            [
             0.013471705222906019,
             0.031163504091085124,
             0.014749009660872338,
             0.007419476323179789,
             0.009602265003572218,
             0.017451680692197803,
             0.0358916411845622,
             0.012096353819004488
            ],
            [
             0.015399518146523372,
             0.04239639766707253,
             0.04599327638082916,
             0.012994241366981985,
             0.010728091380751899,
             0.03558992292646586,
             0.038491795214943315,
             0.01373156859225585
            ],
            [
             0.013249823265589909,
             0.015798049577336368,
             0.03232291288370436,
             0.038210386374313905,
             0.04469494865627096,
             0.03725237501170838,
             0.018275995676647724,
             0.006380673576219676
            ],
            [
             0.002154875271435592,
             0.010585135315997246,
             0.012365806302808724,
             0.007420078609265748,
             0.006981254057207973,
             0.00869512441529046,
             0.008855906190038003,
             0.0028973694489376777
            ]
           ]
          }
         ],
         "layout": {
          "coloraxis": {
           "colorscale": [
            [
             0,
             "rgb(243, 231, 155)"
            ],
            [
             0.16666666666666666,
             "rgb(250, 196, 132)"
            ],
            [
             0.3333333333333333,
             "rgb(248, 160, 126)"
            ],
            [
             0.5,
             "rgb(235, 127, 134)"
            ],
            [
             0.6666666666666666,
             "rgb(206, 102, 147)"
            ],
            [
             0.8333333333333334,
             "rgb(160, 89, 160)"
            ],
            [
             1,
             "rgb(92, 83, 165)"
            ]
           ]
          },
          "height": 500,
          "margin": {
           "t": 60
          },
          "width": 500,
          "xaxis": {
           "constrain": "domain",
           "scaleanchor": "y"
          },
          "yaxis": {
           "autorange": "reversed",
           "constrain": "domain"
          }
         },
         "name": "35"
        },
        {
         "data": [
          {
           "coloraxis": "coloraxis",
           "name": "36",
           "type": "heatmap",
           "z": [
            [
             0.0032246251537875687,
             0.009247717345643707,
             0.014799351495925551,
             0.006726365471764302,
             0.017496603708827354,
             0.013951869318873364,
             0.006720719294090712,
             0.0035873240957043414
            ],
            [
             0.0039207515184312295,
             0.014828165886017855,
             0.031763817932344104,
             0.013930322728879665,
             0.013954327295080015,
             0.029466238880265443,
             0.011527767392932094,
             0.004634948548807945
            ],
            [
             0.003079472930578224,
             0.016554599516545393,
             0.017717996244278084,
             0.00997036679215494,
             0.01351704498883694,
             0.017310778099647366,
             0.011475784464870131,
             0.0031898729103910506
            ],
            [
             0.01549502349228157,
             0.011921313939685119,
             0.009973912284182483,
             0.009515849066500118,
             0.006509799082718946,
             0.015290501477326753,
             0.01212540182909205,
             0.00509895055073643
            ],
            [
             0.01323757218769104,
             0.031024488772772633,
             0.014481169186677896,
             0.007177345732577712,
             0.009355794639941104,
             0.017846705603781963,
             0.03551508861695825,
             0.011958279178482354
            ],
            [
             0.015425860201201439,
             0.04370954403579971,
             0.04667765752236883,
             0.013377368261395399,
             0.010948619862040798,
             0.036455737124708884,
             0.03891630055683437,
             0.014610130466413592
            ],
            [
             0.01272002191486524,
             0.015079484041181625,
             0.032586988324015784,
             0.03593345952273606,
             0.04542427869308427,
             0.03501542904888805,
             0.018195028543376793,
             0.005771073637954308
            ],
            [
             0.0022092847125332873,
             0.010305579365418413,
             0.012113134333529807,
             0.007580623467851355,
             0.006823042491981505,
             0.00886608840340099,
             0.009268114913204608,
             0.002863122899130226
            ]
           ]
          }
         ],
         "layout": {
          "coloraxis": {
           "colorscale": [
            [
             0,
             "rgb(243, 231, 155)"
            ],
            [
             0.16666666666666666,
             "rgb(250, 196, 132)"
            ],
            [
             0.3333333333333333,
             "rgb(248, 160, 126)"
            ],
            [
             0.5,
             "rgb(235, 127, 134)"
            ],
            [
             0.6666666666666666,
             "rgb(206, 102, 147)"
            ],
            [
             0.8333333333333334,
             "rgb(160, 89, 160)"
            ],
            [
             1,
             "rgb(92, 83, 165)"
            ]
           ]
          },
          "height": 500,
          "margin": {
           "t": 60
          },
          "width": 500,
          "xaxis": {
           "constrain": "domain",
           "scaleanchor": "y"
          },
          "yaxis": {
           "autorange": "reversed",
           "constrain": "domain"
          }
         },
         "name": "36"
        },
        {
         "data": [
          {
           "coloraxis": "coloraxis",
           "name": "37",
           "type": "heatmap",
           "z": [
            [
             0.003167347752164833,
             0.00810469927248681,
             0.014457949975827644,
             0.0066333931837514815,
             0.017444011217998844,
             0.014453881624388674,
             0.0064001384722039275,
             0.003406586087410199
            ],
            [
             0.00420383643027875,
             0.014572468379479581,
             0.03375682654403192,
             0.014275190256721165,
             0.013167846965902506,
             0.029635257989571586,
             0.011311211292654662,
             0.004458869027352088
            ],
            [
             0.003370735362566235,
             0.017056545437526306,
             0.01999394863211773,
             0.00962535228450206,
             0.013424156529519914,
             0.01816876018727489,
             0.010849636502563398,
             0.0031091355487384955
            ],
            [
             0.015194039641188258,
             0.011472061652524831,
             0.010521975600007187,
             0.009839539173659876,
             0.0065916694186063905,
             0.015154951417125483,
             0.011805129309114823,
             0.0050557508041567415
            ],
            [
             0.012974561622676215,
             0.031093889717967126,
             0.014309570890150636,
             0.006910014115549888,
             0.009067829034538307,
             0.01829233790823412,
             0.03495802636161186,
             0.011873813700601175
            ],
            [
             0.015414602500845262,
             0.044726571493253896,
             0.046967946442559326,
             0.013762925994206763,
             0.011231168144312444,
             0.03731583839877113,
             0.03941268792735113,
             0.015380786482405776
            ],
            [
             0.01210162705305954,
             0.014288554793202667,
             0.03297153856657816,
             0.03348353426189302,
             0.046095813456194866,
             0.03307049764315655,
             0.018066788127935395,
             0.005190560294337905
            ],
            [
             0.0022767478412731405,
             0.010065591997314615,
             0.011968808609594608,
             0.007758054941382334,
             0.006700856988314947,
             0.009049067048267488,
             0.009710090260134847,
             0.0028263954089070517
            ]
           ]
          }
         ],
         "layout": {
          "coloraxis": {
           "colorscale": [
            [
             0,
             "rgb(243, 231, 155)"
            ],
            [
             0.16666666666666666,
             "rgb(250, 196, 132)"
            ],
            [
             0.3333333333333333,
             "rgb(248, 160, 126)"
            ],
            [
             0.5,
             "rgb(235, 127, 134)"
            ],
            [
             0.6666666666666666,
             "rgb(206, 102, 147)"
            ],
            [
             0.8333333333333334,
             "rgb(160, 89, 160)"
            ],
            [
             1,
             "rgb(92, 83, 165)"
            ]
           ]
          },
          "height": 500,
          "margin": {
           "t": 60
          },
          "width": 500,
          "xaxis": {
           "constrain": "domain",
           "scaleanchor": "y"
          },
          "yaxis": {
           "autorange": "reversed",
           "constrain": "domain"
          }
         },
         "name": "37"
        },
        {
         "data": [
          {
           "coloraxis": "coloraxis",
           "name": "38",
           "type": "heatmap",
           "z": [
            [
             0.003067279121762162,
             0.007167283558900997,
             0.014107034294146443,
             0.006466895513920601,
             0.017316269483601158,
             0.01491790823894051,
             0.0061128498395417626,
             0.0032914952142835342
            ],
            [
             0.004461443927484583,
             0.01423407813964317,
             0.03562222449803718,
             0.014609656410100829,
             0.012482221625127046,
             0.029428020381657455,
             0.011110294099843316,
             0.004317218177435062
            ],
            [
             0.003605225676046399,
             0.01747571170421842,
             0.022244448370216215,
             0.009255870822343975,
             0.013394912553128337,
             0.019199859621675506,
             0.010308393738619163,
             0.003060799104891405
            ],
            [
             0.014859580714452952,
             0.010985339032165985,
             0.011005654017360976,
             0.010100150999189492,
             0.006725214303231208,
             0.015079795225474417,
             0.01141641156161466,
             0.005023218614158725
            ],
            [
             0.0127274957312115,
             0.03139253524287218,
             0.014173588527313158,
             0.0067152941811092475,
             0.00868685095829976,
             0.01870358711829922,
             0.034352836724657304,
             0.011850607641055043
            ],
            [
             0.01528295387561043,
             0.045258798634463776,
             0.04727914947818049,
             0.014271171126861722,
             0.01152115787988719,
             0.038009956840714065,
             0.03980959319757718,
             0.015971763705431984
            ],
            [
             0.011512833366701919,
             0.01342287140397814,
             0.033334372962132236,
             0.031214050003108843,
             0.04702346772196661,
             0.03161399508400549,
             0.017823891245704524,
             0.004706133621397325
            ],
            [
             0.002317404667244403,
             0.009761570324643812,
             0.011951524188827983,
             0.007961912821022954,
             0.0066197832209127895,
             0.009255356094402374,
             0.010210279078296346,
             0.002810454748895677
            ]
           ]
          }
         ],
         "layout": {
          "coloraxis": {
           "colorscale": [
            [
             0,
             "rgb(243, 231, 155)"
            ],
            [
             0.16666666666666666,
             "rgb(250, 196, 132)"
            ],
            [
             0.3333333333333333,
             "rgb(248, 160, 126)"
            ],
            [
             0.5,
             "rgb(235, 127, 134)"
            ],
            [
             0.6666666666666666,
             "rgb(206, 102, 147)"
            ],
            [
             0.8333333333333334,
             "rgb(160, 89, 160)"
            ],
            [
             1,
             "rgb(92, 83, 165)"
            ]
           ]
          },
          "height": 500,
          "margin": {
           "t": 60
          },
          "width": 500,
          "xaxis": {
           "constrain": "domain",
           "scaleanchor": "y"
          },
          "yaxis": {
           "autorange": "reversed",
           "constrain": "domain"
          }
         },
         "name": "38"
        },
        {
         "data": [
          {
           "coloraxis": "coloraxis",
           "name": "39",
           "type": "heatmap",
           "z": [
            [
             0.0029072532978197062,
             0.006454192000956862,
             0.013766037493023082,
             0.00620782376339087,
             0.017165360350763607,
             0.015224244819156253,
             0.005874101209321973,
             0.003232248196370702
            ],
            [
             0.004620092428736303,
             0.013889980305908815,
             0.03708938197735793,
             0.014902932534691046,
             0.011929637356434042,
             0.028898627888116167,
             0.010988265600419446,
             0.004222556390116629
            ],
            [
             0.003746472667968206,
             0.0177598642323433,
             0.024278593887870584,
             0.008883115553760567,
             0.013468663583331758,
             0.020425348963389267,
             0.009808833018488845,
             0.0030588404651009904
            ],
            [
             0.014469883595107723,
             0.010535547770115426,
             0.011398430727383366,
             0.010277028992485114,
             0.006865962910994186,
             0.015027615946725352,
             0.010960860868232343,
             0.004956716626643418
            ],
            [
             0.012482396857569845,
             0.03200013210243723,
             0.01403674080445545,
             0.006600260809915624,
             0.008212675055647543,
             0.01904897170319135,
             0.0339070560318371,
             0.01190984362509281
            ],
            [
             0.015053752591202636,
             0.045392122301003104,
             0.04772004054246821,
             0.014931320187542212,
             0.011750611978579894,
             0.0383779577658582,
             0.039850695726359076,
             0.01638195401767895
            ],
            [
             0.01104560373275908,
             0.012568269115551775,
             0.0336010393690617,
             0.029441154480581332,
             0.04841530279025368,
             0.03066597931926189,
             0.017513025181631184,
             0.004338843551821191
            ],
            [
             0.0023179703052197925,
             0.009359125491666741,
             0.012018636723523022,
             0.008174863660290587,
             0.006571911151898698,
             0.00944021652521663,
             0.010739712788119263,
             0.0028372982897792716
            ]
           ]
          }
         ],
         "layout": {
          "coloraxis": {
           "colorscale": [
            [
             0,
             "rgb(243, 231, 155)"
            ],
            [
             0.16666666666666666,
             "rgb(250, 196, 132)"
            ],
            [
             0.3333333333333333,
             "rgb(248, 160, 126)"
            ],
            [
             0.5,
             "rgb(235, 127, 134)"
            ],
            [
             0.6666666666666666,
             "rgb(206, 102, 147)"
            ],
            [
             0.8333333333333334,
             "rgb(160, 89, 160)"
            ],
            [
             1,
             "rgb(92, 83, 165)"
            ]
           ]
          },
          "height": 500,
          "margin": {
           "t": 60
          },
          "width": 500,
          "xaxis": {
           "constrain": "domain",
           "scaleanchor": "y"
          },
          "yaxis": {
           "autorange": "reversed",
           "constrain": "domain"
          }
         },
         "name": "39"
        },
        {
         "data": [
          {
           "coloraxis": "coloraxis",
           "name": "40",
           "type": "heatmap",
           "z": [
            [
             0.0026957176868838226,
             0.005948190118723045,
             0.013494110509949385,
             0.005853730968883996,
             0.017037717333348787,
             0.015290270601818725,
             0.005712241024670702,
             0.003232032449795909
            ],
            [
             0.00463436569421026,
             0.013604791481632074,
             0.03788918156301486,
             0.015096100898977277,
             0.011517003463227976,
             0.028132695684392757,
             0.010975214118962006,
             0.00421279356090801
            ],
            [
             0.003777864721579728,
             0.01789775400405255,
             0.025978399750910736,
             0.008510665216584733,
             0.01366149820888548,
             0.02192600519353621,
             0.009327771201575049,
             0.003123444441777569
            ],
            [
             0.014004776322712022,
             0.01016712124491789,
             0.011722893376759374,
             0.010389558755420065,
             0.006975668508473721,
             0.014989283651791923,
             0.010476595899862912,
             0.004812837700163116
            ],
            [
             0.012245008752078531,
             0.032946881318765574,
             0.013848962362784881,
             0.006568376487169865,
             0.0076301886644333785,
             0.019305737572056628,
             0.033848480445530044,
             0.012033335854760154
            ],
            [
             0.014738056079525766,
             0.04514371269884592,
             0.04842911097555465,
             0.01581332685922235,
             0.011886423351580388,
             0.03827214889282066,
             0.039327765338496565,
             0.016616178882152107
            ],
            [
             0.010756633304297197,
             0.011805042220577195,
             0.033551469991768355,
             0.028315922601660534,
             0.05031008949950957,
             0.03022850910400624,
             0.017200523242185777,
             0.004104140494581621
            ],
            [
             0.002274925239271663,
             0.008821122873390671,
             0.012138087098963638,
             0.008397373860704379,
             0.006568077613293233,
             0.009585719930809963,
             0.011285543582848397,
             0.0029348294479504796
            ]
           ]
          }
         ],
         "layout": {
          "coloraxis": {
           "colorscale": [
            [
             0,
             "rgb(243, 231, 155)"
            ],
            [
             0.16666666666666666,
             "rgb(250, 196, 132)"
            ],
            [
             0.3333333333333333,
             "rgb(248, 160, 126)"
            ],
            [
             0.5,
             "rgb(235, 127, 134)"
            ],
            [
             0.6666666666666666,
             "rgb(206, 102, 147)"
            ],
            [
             0.8333333333333334,
             "rgb(160, 89, 160)"
            ],
            [
             1,
             "rgb(92, 83, 165)"
            ]
           ]
          },
          "height": 500,
          "margin": {
           "t": 60
          },
          "width": 500,
          "xaxis": {
           "constrain": "domain",
           "scaleanchor": "y"
          },
          "yaxis": {
           "autorange": "reversed",
           "constrain": "domain"
          }
         },
         "name": "40"
        },
        {
         "data": [
          {
           "coloraxis": "coloraxis",
           "name": "41",
           "type": "heatmap",
           "z": [
            [
             0.002467772219318748,
             0.005608674183322609,
             0.013320587856561277,
             0.005455915748724498,
             0.01689253725369214,
             0.015136671479634038,
             0.005654913650152902,
             0.00327712146326574
            ],
            [
             0.004513320697926064,
             0.013408387804337769,
             0.037937012894215076,
             0.015153456628467425,
             0.011212998030420994,
             0.027223264343334424,
             0.011031524522059116,
             0.0042854465631908326
            ],
            [
             0.0037084595799553644,
             0.01788279343603545,
             0.027303742227685876,
             0.008174620963589828,
             0.013935913671227127,
             0.023719973478287512,
             0.008902607662683028,
             0.003247748992745131
            ],
            [
             0.013492777339152847,
             0.009892611289748552,
             0.012004714515478018,
             0.01047180966772463,
             0.007055367958525323,
             0.014979898285668744,
             0.010029007328225264,
             0.004603459483743916
            ],
            [
             0.012026142367538928,
             0.03404347340022179,
             0.013558970116956703,
             0.006608896274503787,
             0.0069679487443305346,
             0.01941920152928298,
             0.03418080490582982,
             0.012175680698886424
            ],
            [
             0.014314965396397568,
             0.04460054844343717,
             0.049397290131278485,
             0.016931407492108023,
             0.012007468878314165,
             0.03773010493757572,
             0.03841421680797531,
             0.016668717686009367
            ],
            [
             0.010596576691935934,
             0.011170093263839142,
             0.033135025570105725,
             0.027839934059179873,
             0.05250598339750582,
             0.030302653607404615,
             0.016882555593638705,
             0.0039994611006467975
            ],
            [
             0.002201291439113547,
             0.00818483866997855,
             0.012268871832625223,
             0.008622288680815214,
             0.006637878420914648,
             0.009707344144178795,
             0.011823171657789065,
             0.00309108284058072
            ]
           ]
          }
         ],
         "layout": {
          "coloraxis": {
           "colorscale": [
            [
             0,
             "rgb(243, 231, 155)"
            ],
            [
             0.16666666666666666,
             "rgb(250, 196, 132)"
            ],
            [
             0.3333333333333333,
             "rgb(248, 160, 126)"
            ],
            [
             0.5,
             "rgb(235, 127, 134)"
            ],
            [
             0.6666666666666666,
             "rgb(206, 102, 147)"
            ],
            [
             0.8333333333333334,
             "rgb(160, 89, 160)"
            ],
            [
             1,
             "rgb(92, 83, 165)"
            ]
           ]
          },
          "height": 500,
          "margin": {
           "t": 60
          },
          "width": 500,
          "xaxis": {
           "constrain": "domain",
           "scaleanchor": "y"
          },
          "yaxis": {
           "autorange": "reversed",
           "constrain": "domain"
          }
         },
         "name": "41"
        },
        {
         "data": [
          {
           "coloraxis": "coloraxis",
           "name": "42",
           "type": "heatmap",
           "z": [
            [
             0.0022719281077512206,
             0.0053705934372091264,
             0.01317738256140209,
             0.005082470454945958,
             0.016648947038391374,
             0.014795395541504419,
             0.005682756811023093,
             0.0033033764738015212
            ],
            [
             0.004322395141445589,
             0.013284283909611916,
             0.03749434230639957,
             0.015049592261660256,
             0.01103056559785679,
             0.026607635121956526,
             0.011072155755007775,
             0.0043790996949988545
            ],
            [
             0.003584299928759837,
             0.017725428217247374,
             0.028325514698639708,
             0.007939214507273773,
             0.014221985922360158,
             0.025581338038161407,
             0.008565774714559573,
             0.003371867097091935
            ],
            [
             0.013009190964407707,
             0.009774371051383748,
             0.012176608599795285,
             0.01055534144686771,
             0.007084522135957954,
             0.014984142285248596,
             0.009713665702067251,
             0.004376490630126876
            ],
            [
             0.011782787896191966,
             0.035050166604816385,
             0.013169442713511238,
             0.006610001618756117,
             0.006335078174966245,
             0.019374503918731228,
             0.03471866864650066,
             0.012301760609170652
            ],
            [
             0.013878129124964111,
             0.04423491918458585,
             0.050133373066347055,
             0.018062169438186056,
             0.012209405285929571,
             0.03706283036106837,
             0.037436682491753755,
             0.016610464885535234
            ],
            [
             0.010443616945677995,
             0.010710920366394532,
             0.03256460263013515,
             0.027910288958619377,
             0.0545339850805262,
             0.030768514875593206,
             0.016623033320552493,
             0.003982148177469523
            ],
            [
             0.002138861574688332,
             0.007592793668600294,
             0.012326414377709238,
             0.008813836589416544,
             0.00678536077450525,
             0.009773502585034668,
             0.012247305965526274,
             0.0032517539336211336
            ]
           ]
          }
         ],
         "layout": {
          "coloraxis": {
           "colorscale": [
            [
             0,
             "rgb(243, 231, 155)"
            ],
            [
             0.16666666666666666,
             "rgb(250, 196, 132)"
            ],
            [
             0.3333333333333333,
             "rgb(248, 160, 126)"
            ],
            [
             0.5,
             "rgb(235, 127, 134)"
            ],
            [
             0.6666666666666666,
             "rgb(206, 102, 147)"
            ],
            [
             0.8333333333333334,
             "rgb(160, 89, 160)"
            ],
            [
             1,
             "rgb(92, 83, 165)"
            ]
           ]
          },
          "height": 500,
          "margin": {
           "t": 60
          },
          "width": 500,
          "xaxis": {
           "constrain": "domain",
           "scaleanchor": "y"
          },
          "yaxis": {
           "autorange": "reversed",
           "constrain": "domain"
          }
         },
         "name": "42"
        },
        {
         "data": [
          {
           "coloraxis": "coloraxis",
           "name": "43",
           "type": "heatmap",
           "z": [
            [
             0.0021548410154177806,
             0.005171274617282585,
             0.013046212759550322,
             0.004826644597867138,
             0.01625582933534646,
             0.014382349192209962,
             0.005797509062310019,
             0.0032526471568292805
            ],
            [
             0.004138647764279282,
             0.01324042912316512,
             0.036934758024340875,
             0.014823729101272158,
             0.010920230816231807,
             0.026556031502507942,
             0.011034726588487512,
             0.00441328598276158
            ],
            [
             0.003474862117943269,
             0.017462437481071666,
             0.02923233767000947,
             0.007870434726638663,
             0.014417809894926716,
             0.027181842950871914,
             0.008372661747334392,
             0.003434871584728509
            ],
            [
             0.012643766079563502,
             0.009835432426686242,
             0.012229577547381333,
             0.010687394400129984,
             0.007090792362371609,
             0.01496330283782954,
             0.0095996634901956,
             0.004194143452324537
            ],
            [
             0.01151302173303818,
             0.03552356698035241,
             0.012709498659194258,
             0.0064845149779517545,
             0.0058360445051761555,
             0.01910664600551288,
             0.03522455818716269,
             0.012346693626045156
            ],
            [
             0.013480794564010554,
             0.044453875380881885,
             0.05025447026180097,
             0.018995307053198823,
             0.012654517079480357,
             0.03662128524883981,
             0.036877782171906626,
             0.016515333642184868
            ],
            [
             0.01014210404892556,
             0.010450722206733489,
             0.032144019971327834,
             0.028397301990532815,
             0.05571268868883167,
             0.0313906033228411,
             0.01643568056473806,
             0.0040004712210360074
            ],
            [
             0.0021230014413900294,
             0.007152885974011208,
             0.01223047059175156,
             0.008960066560792845,
             0.007002720561161628,
             0.009815724709953262,
             0.01246068974387821,
             0.003342460915489808
            ]
           ]
          }
         ],
         "layout": {
          "coloraxis": {
           "colorscale": [
            [
             0,
             "rgb(243, 231, 155)"
            ],
            [
             0.16666666666666666,
             "rgb(250, 196, 132)"
            ],
            [
             0.3333333333333333,
             "rgb(248, 160, 126)"
            ],
            [
             0.5,
             "rgb(235, 127, 134)"
            ],
            [
             0.6666666666666666,
             "rgb(206, 102, 147)"
            ],
            [
             0.8333333333333334,
             "rgb(160, 89, 160)"
            ],
            [
             1,
             "rgb(92, 83, 165)"
            ]
           ]
          },
          "height": 500,
          "margin": {
           "t": 60
          },
          "width": 500,
          "xaxis": {
           "constrain": "domain",
           "scaleanchor": "y"
          },
          "yaxis": {
           "autorange": "reversed",
           "constrain": "domain"
          }
         },
         "name": "43"
        },
        {
         "data": [
          {
           "coloraxis": "coloraxis",
           "name": "44",
           "type": "heatmap",
           "z": [
            [
             0.002134955908330196,
             0.004966818266801987,
             0.012895836824359493,
             0.004702768242455369,
             0.015762323870515373,
             0.013949208593825207,
             0.005973860297320281,
             0.003109033821031373
            ],
            [
             0.004010875114464457,
             0.013257131209897192,
             0.03657663372246866,
             0.01450286119194275,
             0.010869283757815781,
             0.02732556697556967,
             0.01092861163515391,
             0.004350906612165466
            ],
            [
             0.003431528924400036,
             0.01714547504029917,
             0.030184754657738566,
             0.007978161576158245,
             0.01444910731132565,
             0.028209510973916087,
             0.008311291962101003,
             0.0034034321209310023
            ],
            [
             0.012426503977871229,
             0.010090560660484832,
             0.012158618598025731,
             0.010878762651637265,
             0.007080741930826901,
             0.014846000397005326,
             0.009710737928239647,
             0.004073503483915972
            ],
            [
             0.011230776895338893,
             0.03541897500467815,
             0.012264264982632597,
             0.006167369126812917,
             0.005523671926820105,
             0.018652587270835547,
             0.03562236565669727,
             0.012294753745126726
            ],
            [
             0.013235995290479901,
             0.04544226873091286,
             0.04952811857936402,
             0.019604278643474974,
             0.01337870413098152,
             0.03663578779183602,
             0.03678649000352893,
             0.016468259440485
            ],
            [
             0.009646979173784358,
             0.010414651050589446,
             0.03203855105568945,
             0.029158193220354678,
             0.055612313931865796,
             0.03188996886275218,
             0.01637972717331443,
             0.004000986167943816
            ],
            [
             0.0021753762355230344,
             0.006891895390790675,
             0.011961318675150392,
             0.009074016950627706,
             0.0072496091165667334,
             0.009819301858419324,
             0.012395142569943484,
             0.0033419331076843697
            ]
           ]
          }
         ],
         "layout": {
          "coloraxis": {
           "colorscale": [
            [
             0,
             "rgb(243, 231, 155)"
            ],
            [
             0.16666666666666666,
             "rgb(250, 196, 132)"
            ],
            [
             0.3333333333333333,
             "rgb(248, 160, 126)"
            ],
            [
             0.5,
             "rgb(235, 127, 134)"
            ],
            [
             0.6666666666666666,
             "rgb(206, 102, 147)"
            ],
            [
             0.8333333333333334,
             "rgb(160, 89, 160)"
            ],
            [
             1,
             "rgb(92, 83, 165)"
            ]
           ]
          },
          "height": 500,
          "margin": {
           "t": 60
          },
          "width": 500,
          "xaxis": {
           "constrain": "domain",
           "scaleanchor": "y"
          },
          "yaxis": {
           "autorange": "reversed",
           "constrain": "domain"
          }
         },
         "name": "44"
        },
        {
         "data": [
          {
           "coloraxis": "coloraxis",
           "name": "45",
           "type": "heatmap",
           "z": [
            [
             0.002199740936310682,
             0.004766005350990272,
             0.012716149437732239,
             0.004690659954212961,
             0.015266482582962006,
             0.013502103984405418,
             0.006175532832063552,
             0.002893421819177614
            ],
            [
             0.003919520701905713,
             0.013299378069040125,
             0.03647048835614353,
             0.014105119788689993,
             0.010866414990222952,
             0.028968854699833485,
             0.010821350454392403,
             0.004178163203778733
            ],
            [
             0.0034389330800678876,
             0.016829316475597586,
             0.031051663543666976,
             0.008217898942806343,
             0.014244493285265173,
             0.028318683175548774,
             0.00836005491177032,
             0.0032529212234986772
            ],
            [
             0.012312795348471336,
             0.010524691597798758,
             0.011937152699541468,
             0.011055060973681575,
             0.007045691981972565,
             0.014564548684881658,
             0.010029730832099544,
             0.00401758781995452
            ],
            [
             0.01101406731998151,
             0.03491617212070693,
             0.011913695463124829,
             0.0056906726720216145,
             0.005429499558823228,
             0.01803209347225193,
             0.03588855727909036,
             0.012166655858060123
            ],
            [
             0.013228453416061246,
             0.04714178838471044,
             0.04823827077418096,
             0.01986586508058594,
             0.014260705049064343,
             0.03734447616042252,
             0.03704391690908154,
             0.016468851025786057
            ],
            [
             0.009050070046459358,
             0.010600935853294417,
             0.032382633899065746,
             0.03019146966545258,
             0.05428555850385011,
             0.03218703336129507,
             0.016440103815840816,
             0.003970713124040295
            ],
            [
             0.002273498583348065,
             0.006786048824158877,
             0.011579175486150546,
             0.009157881899061028,
             0.007442724809153912,
             0.009708900134417204,
             0.012007113004819929,
             0.0032517867071528398
            ]
           ]
          }
         ],
         "layout": {
          "coloraxis": {
           "colorscale": [
            [
             0,
             "rgb(243, 231, 155)"
            ],
            [
             0.16666666666666666,
             "rgb(250, 196, 132)"
            ],
            [
             0.3333333333333333,
             "rgb(248, 160, 126)"
            ],
            [
             0.5,
             "rgb(235, 127, 134)"
            ],
            [
             0.6666666666666666,
             "rgb(206, 102, 147)"
            ],
            [
             0.8333333333333334,
             "rgb(160, 89, 160)"
            ],
            [
             1,
             "rgb(92, 83, 165)"
            ]
           ]
          },
          "height": 500,
          "margin": {
           "t": 60
          },
          "width": 500,
          "xaxis": {
           "constrain": "domain",
           "scaleanchor": "y"
          },
          "yaxis": {
           "autorange": "reversed",
           "constrain": "domain"
          }
         },
         "name": "45"
        },
        {
         "data": [
          {
           "coloraxis": "coloraxis",
           "name": "46",
           "type": "heatmap",
           "z": [
            [
             0.002305140642292918,
             0.0046433995968901435,
             0.012554954903385457,
             0.0047221338253286985,
             0.014866293986048823,
             0.013050469317802163,
             0.00637668010993838,
             0.0026726656324776925
            ],
            [
             0.003801084716000565,
             0.013346825609388385,
             0.03649407798647356,
             0.013672481107796416,
             0.010933807343226744,
             0.031135733802261555,
             0.010773391938203357,
             0.003938999103166195
            ],
            [
             0.003425345844627306,
             0.016479558624205668,
             0.03136063811374887,
             0.008533017605630088,
             0.013848894776699252,
             0.027576019050020373,
             0.008524990154344233,
             0.003033376951265773
            ],
            [
             0.012277247171667947,
             0.011034974226272554,
             0.011559599219674855,
             0.011072710071103392,
             0.006973058804863843,
             0.014154789451385688,
             0.010451267561247745,
             0.003986417320459231
            ],
            [
             0.010926678440060452,
             0.03437924778697895,
             0.011714071251425267,
             0.0051893992985420235,
             0.0055029452514072435,
             0.017303695254237594,
             0.03621875272871605,
             0.01199120063240516
            ],
            [
             0.013390623207449326,
             0.04896612655289753,
             0.046988453104145254,
             0.0198894234371522,
             0.015124002457301949,
             0.03853447842165295,
             0.03753049252445544,
             0.01636596269407565
            ],
            [
             0.008497135391784282,
             0.010981859218831944,
             0.03311071406442429,
             0.03160736843447955,
             0.052315619538494236,
             0.032513966506367814,
             0.016513168767091226,
             0.003932416049253954
            ],
            [
             0.002361216853360302,
             0.0067582118137561415,
             0.011192237501883685,
             0.009159093650999015,
             0.007526402121822421,
             0.009472591421876779,
             0.011358771614074201,
             0.0031036294406985377
            ]
           ]
          }
         ],
         "layout": {
          "coloraxis": {
           "colorscale": [
            [
             0,
             "rgb(243, 231, 155)"
            ],
            [
             0.16666666666666666,
             "rgb(250, 196, 132)"
            ],
            [
             0.3333333333333333,
             "rgb(248, 160, 126)"
            ],
            [
             0.5,
             "rgb(235, 127, 134)"
            ],
            [
             0.6666666666666666,
             "rgb(206, 102, 147)"
            ],
            [
             0.8333333333333334,
             "rgb(160, 89, 160)"
            ],
            [
             1,
             "rgb(92, 83, 165)"
            ]
           ]
          },
          "height": 500,
          "margin": {
           "t": 60
          },
          "width": 500,
          "xaxis": {
           "constrain": "domain",
           "scaleanchor": "y"
          },
          "yaxis": {
           "autorange": "reversed",
           "constrain": "domain"
          }
         },
         "name": "46"
        },
        {
         "data": [
          {
           "coloraxis": "coloraxis",
           "name": "47",
           "type": "heatmap",
           "z": [
            [
             0.0023962350965367847,
             0.004671730793943058,
             0.012484435646990637,
             0.0047117650835348255,
             0.014547046645759058,
             0.01259947254086463,
             0.0065821612040206905,
             0.002515933469776393
            ],
            [
             0.0036072055874388892,
             0.01335318989681405,
             0.036300753769017376,
             0.013190335337507532,
             0.011133121060894546,
             0.03325551340283151,
             0.010755644608018538,
             0.0037223414780077953
            ],
            [
             0.0032970515748972115,
             0.016059654549970066,
             0.03073704963221462,
             0.008850092545458692,
             0.013422995976808171,
             0.026567229524425282,
             0.008834433043243552,
             0.0028247279912417145
            ],
            [
             0.012283165543410385,
             0.011487857561455893,
             0.011042877586535117,
             0.01086793952600928,
             0.006858821112770665,
             0.013798512826527035,
             0.010892901880509828,
             0.003933213036499051
            ],
            [
             0.010976298688177887,
             0.034172487869980214,
             0.01162192516812558,
             0.004795256532081391,
             0.005603852072455206,
             0.016555866115599234,
             0.03679372133773935,
             0.011793379446126644
            ],
            [
             0.013540929358452474,
             0.050154621389261515,
             0.046245555502461934,
             0.019841112877999948,
             0.015852841006414074,
             0.03978717567543989,
             0.038155058924532054,
             0.015969290371884486
            ],
            [
             0.008087863893149716,
             0.011473191486486681,
             0.03382317950021804,
             0.03343498964092146,
             0.0504495560707771,
             0.033468160328988625,
             0.016494402417827635,
             0.003945626016328213
            ],
            [
             0.0023804309855886166,
             0.0067150844566005305,
             0.010945728481882154,
             0.009044867264611296,
             0.007556646336978345,
             0.009169140141138113,
             0.01062762202437577,
             0.00293872908346204
            ]
           ]
          }
         ],
         "layout": {
          "coloraxis": {
           "colorscale": [
            [
             0,
             "rgb(243, 231, 155)"
            ],
            [
             0.16666666666666666,
             "rgb(250, 196, 132)"
            ],
            [
             0.3333333333333333,
             "rgb(248, 160, 126)"
            ],
            [
             0.5,
             "rgb(235, 127, 134)"
            ],
            [
             0.6666666666666666,
             "rgb(206, 102, 147)"
            ],
            [
             0.8333333333333334,
             "rgb(160, 89, 160)"
            ],
            [
             1,
             "rgb(92, 83, 165)"
            ]
           ]
          },
          "height": 500,
          "margin": {
           "t": 60
          },
          "width": 500,
          "xaxis": {
           "constrain": "domain",
           "scaleanchor": "y"
          },
          "yaxis": {
           "autorange": "reversed",
           "constrain": "domain"
          }
         },
         "name": "47"
        },
        {
         "data": [
          {
           "coloraxis": "coloraxis",
           "name": "48",
           "type": "heatmap",
           "z": [
            [
             0.002456673756553911,
             0.004833407777437862,
             0.012549473919747717,
             0.004603973033049509,
             0.014260258443801977,
             0.01217878408461717,
             0.006783000627267943,
             0.002456005704823476
            ],
            [
             0.00337517418681505,
             0.013245308981087464,
             0.03583535665034077,
             0.012607148228879077,
             0.01150239847880137,
             0.03508829951831957,
             0.010666619727313318,
             0.003604626885179412
            ],
            [
             0.003046537122429719,
             0.015609091943126567,
             0.029396070569653616,
             0.009080761930643014,
             0.013075593545135607,
             0.025870351321077525,
             0.009281169801399427,
             0.002674621891314614
            ],
            [
             0.012318912646592881,
             0.011764431338425535,
             0.010447245982052935,
             0.010512027836779701,
             0.0067028591688258745,
             0.013658488538685544,
             0.011337532242100573,
             0.003822357940548617
            ],
            [
             0.011115531968542897,
             0.03453961751058515,
             0.011579370655908906,
             0.004518875873888339,
             0.005596674767490206,
             0.015911505689751176,
             0.037750968084452975,
             0.011550791279083313
            ],
            [
             0.013573248431315861,
             0.0502705855830378,
             0.046029818109594015,
             0.01981441961859793,
             0.01643759904816819,
             0.0408141763090127,
             0.03887310185117399,
             0.015235433065692154
            ],
            [
             0.007797450835838714,
             0.011993507234177322,
             0.03400318864742101,
             0.03532768423080438,
             0.04889693186277808,
             0.0353747102109562,
             0.01641610450296186,
             0.004013702004754443
            ],
            [
             0.002323271762129566,
             0.0065995851055689544,
             0.010917723604119375,
             0.008837992006478926,
             0.0076108603746835694,
             0.008877967311417333,
             0.009966296332095958,
             0.002786742304689976
            ]
           ]
          }
         ],
         "layout": {
          "coloraxis": {
           "colorscale": [
            [
             0,
             "rgb(243, 231, 155)"
            ],
            [
             0.16666666666666666,
             "rgb(250, 196, 132)"
            ],
            [
             0.3333333333333333,
             "rgb(248, 160, 126)"
            ],
            [
             0.5,
             "rgb(235, 127, 134)"
            ],
            [
             0.6666666666666666,
             "rgb(206, 102, 147)"
            ],
            [
             0.8333333333333334,
             "rgb(160, 89, 160)"
            ],
            [
             1,
             "rgb(92, 83, 165)"
            ]
           ]
          },
          "height": 500,
          "margin": {
           "t": 60
          },
          "width": 500,
          "xaxis": {
           "constrain": "domain",
           "scaleanchor": "y"
          },
          "yaxis": {
           "autorange": "reversed",
           "constrain": "domain"
          }
         },
         "name": "48"
        },
        {
         "data": [
          {
           "coloraxis": "coloraxis",
           "name": "49",
           "type": "heatmap",
           "z": [
            [
             0.0024866551717067655,
             0.005075945857285411,
             0.0127204365698733,
             0.004406983941934373,
             0.0139579105927046,
             0.011819338540203242,
             0.006959568949215153,
             0.0024801131035204786
            ],
            [
             0.0031516528889774377,
             0.01300620179198719,
             0.03523702150040672,
             0.011950859420728245,
             0.01201193992938731,
             0.03657086275517335,
             0.010462344091332468,
             0.0035881164105510586
            ],
            [
             0.002729357632271203,
             0.015153588877033733,
             0.02772378463031845,
             0.009205883039245395,
             0.012829364880458093,
             0.02565990279670164,
             0.00982192251161725,
             0.0025847628665364936
            ],
            [
             0.012385609440716028,
             0.011834219171627141,
             0.009832582274827766,
             0.010093080483757544,
             0.006529553399671626,
             0.013763777666558502,
             0.011759528220475157,
             0.0036650037149466076
            ],
            [
             0.011277065928012413,
             0.0354565368981965,
             0.011556616066444253,
             0.004326751415320547,
             0.005445840420599493,
             0.015422837836334028,
             0.03901165991865038,
             0.011279821435004483
            ],
            [
             0.01346521647932321,
             0.04939719772781215,
             0.04612353167734119,
             0.01981646210547418,
             0.016931585956960295,
             0.04148945931094402,
             0.03969834750489316,
             0.014271160918882406
            ],
            [
             0.007563315710874751,
             0.012476063178622921,
             0.033595653937518205,
             0.036976460934586626,
             0.04764309913312414,
             0.038154951538479205,
             0.01630573028766774,
             0.0041081835067189165
            ],
            [
             0.002218942682109166,
             0.0064199966520863076,
             0.011083486333326592,
             0.008576060761045414,
             0.007721219999769295,
             0.008643416691450977,
             0.00942985436088734,
             0.002655599569788704
            ]
           ]
          }
         ],
         "layout": {
          "coloraxis": {
           "colorscale": [
            [
             0,
             "rgb(243, 231, 155)"
            ],
            [
             0.16666666666666666,
             "rgb(250, 196, 132)"
            ],
            [
             0.3333333333333333,
             "rgb(248, 160, 126)"
            ],
            [
             0.5,
             "rgb(235, 127, 134)"
            ],
            [
             0.6666666666666666,
             "rgb(206, 102, 147)"
            ],
            [
             0.8333333333333334,
             "rgb(160, 89, 160)"
            ],
            [
             1,
             "rgb(92, 83, 165)"
            ]
           ]
          },
          "height": 500,
          "margin": {
           "t": 60
          },
          "width": 500,
          "xaxis": {
           "constrain": "domain",
           "scaleanchor": "y"
          },
          "yaxis": {
           "autorange": "reversed",
           "constrain": "domain"
          }
         },
         "name": "49"
        },
        {
         "data": [
          {
           "coloraxis": "coloraxis",
           "name": "50",
           "type": "heatmap",
           "z": [
            [
             0.002493912938903402,
             0.0053329355520027885,
             0.012903554881156588,
             0.0041559385617377384,
             0.013600881221805687,
             0.011560596518877857,
             0.0070808525474438805,
             0.00255497400424724
            ],
            [
             0.002977618415633466,
             0.0126519218516694,
             0.034809596702907106,
             0.011318923506192237,
             0.012603037598560305,
             0.0377245068296502,
             0.010141315486112936,
             0.0036281234060837795
            ],
            [
             0.0024169010160335633,
             0.014680058825371418,
             0.02606082386928302,
             0.009274559528297595,
             0.012674481432174789,
             0.025895242266143335,
             0.010406946803129511,
             0.002539882884624556
            ],
            [
             0.012510836932150948,
             0.011720649785298033,
             0.00923920867648934,
             0.009667441085346146,
             0.00637935233894754,
             0.014060932633911928,
             0.01210512694271557,
             0.0034964534282031713
            ],
            [
             0.011375753189266636,
             0.03677889343436492,
             0.011568496911031003,
             0.004176213745701588,
             0.005184770834375022,
             0.015113482561708847,
             0.040337121433627485,
             0.011024009960032754
            ],
            [
             0.013232696530867004,
             0.04787732074276594,
             0.046154906548881616,
             0.019791155309056407,
             0.017451430372369087,
             0.041737761286353585,
             0.040713760105534125,
             0.013230007478452419
            ],
            [
             0.007310332820470493,
             0.012862265446502473,
             0.032922937276321895,
             0.038124217894357,
             0.04663726571700819,
             0.04144824845428823,
             0.016158912180567767,
             0.004175490448847049
            ],
            [
             0.002115073392837372,
             0.0062270377512754225,
             0.01136761967983892,
             0.00828297396298921,
             0.00789098301347357,
             0.008495084749251366,
             0.00902734809800243,
             0.0025388401984744926
            ]
           ]
          }
         ],
         "layout": {
          "coloraxis": {
           "colorscale": [
            [
             0,
             "rgb(243, 231, 155)"
            ],
            [
             0.16666666666666666,
             "rgb(250, 196, 132)"
            ],
            [
             0.3333333333333333,
             "rgb(248, 160, 126)"
            ],
            [
             0.5,
             "rgb(235, 127, 134)"
            ],
            [
             0.6666666666666666,
             "rgb(206, 102, 147)"
            ],
            [
             0.8333333333333334,
             "rgb(160, 89, 160)"
            ],
            [
             1,
             "rgb(92, 83, 165)"
            ]
           ]
          },
          "height": 500,
          "margin": {
           "t": 60
          },
          "width": 500,
          "xaxis": {
           "constrain": "domain",
           "scaleanchor": "y"
          },
          "yaxis": {
           "autorange": "reversed",
           "constrain": "domain"
          }
         },
         "name": "50"
        },
        {
         "data": [
          {
           "coloraxis": "coloraxis",
           "name": "51",
           "type": "heatmap",
           "z": [
            [
             0.0024998575041762874,
             0.00551597502184505,
             0.013027872667985982,
             0.003921252696243192,
             0.013171741887859408,
             0.011473437110860263,
             0.007131813207118219,
             0.002633431892071309
            ],
            [
             0.002886457385782936,
             0.012227889287698326,
             0.03484918490930574,
             0.010819107467948383,
             0.013143859990323383,
             0.03856098866443863,
             0.009718091201104112,
             0.003657414505335734
            ],
            [
             0.0021668280755260086,
             0.014218555161145613,
             0.02473664853383155,
             0.009343326218506266,
             0.012559793072991958,
             0.0264204552815867,
             0.01100433265168759,
             0.0025079906056594474
            ],
            [
             0.012715911507808089,
             0.011462777588688694,
             0.008725461526406289,
             0.00930034321690822,
             0.006299965207393368,
             0.014464633213658096,
             0.012349769335057286,
             0.0033644160338377593
            ],
            [
             0.011368886920733524,
             0.038090908185093635,
             0.01161775360860888,
             0.004040281895293645,
             0.004889001077001829,
             0.014940892234829735,
             0.041358865595727795,
             0.010785198921404528
            ],
            [
             0.01289466851521561,
             0.046212869580805276,
             0.04591816372949732,
             0.019679440397165678,
             0.0181448766956072,
             0.04169839718432801,
             0.0421667879423832,
             0.012264681888940632
            ],
            [
             0.0069714407393222854,
             0.01308414921169595,
             0.032394533397283785,
             0.038549128075273546,
             0.04574213468596593,
             0.044678348682479864,
             0.01594691674669301,
             0.004164072332322432
            ],
            [
             0.0020473182914952375,
             0.006083290369150685,
             0.011671696987375715,
             0.007985174986301476,
             0.00809684633414097,
             0.008466372228212171,
             0.008757170026758791,
             0.0024101499021011567
            ]
           ]
          }
         ],
         "layout": {
          "coloraxis": {
           "colorscale": [
            [
             0,
             "rgb(243, 231, 155)"
            ],
            [
             0.16666666666666666,
             "rgb(250, 196, 132)"
            ],
            [
             0.3333333333333333,
             "rgb(248, 160, 126)"
            ],
            [
             0.5,
             "rgb(235, 127, 134)"
            ],
            [
             0.6666666666666666,
             "rgb(206, 102, 147)"
            ],
            [
             0.8333333333333334,
             "rgb(160, 89, 160)"
            ],
            [
             1,
             "rgb(92, 83, 165)"
            ]
           ]
          },
          "height": 500,
          "margin": {
           "t": 60
          },
          "width": 500,
          "xaxis": {
           "constrain": "domain",
           "scaleanchor": "y"
          },
          "yaxis": {
           "autorange": "reversed",
           "constrain": "domain"
          }
         },
         "name": "51"
        },
        {
         "data": [
          {
           "coloraxis": "coloraxis",
           "name": "52",
           "type": "heatmap",
           "z": [
            [
             0.002532229625926624,
             0.005546779576430489,
             0.013018985172797187,
             0.0037460314266999873,
             0.012704964329434002,
             0.011601087872184066,
             0.007093254705049334,
             0.00267317642418798
            ],
            [
             0.0029001955917737896,
             0.011772116982263084,
             0.03569221900223005,
             0.010527092106791723,
             0.013528710273052814,
             0.03928544257515339,
             0.009233087107904991,
             0.0036099210592569772
            ],
            [
             0.002016076783688201,
             0.013794476708448989,
             0.023964946227723813,
             0.009462243441626127,
             0.012428918528554149,
             0.027002017949614918,
             0.01157695854301171,
             0.002461782449255103
            ],
            [
             0.013031102676714021,
             0.01111645820882527,
             0.00832045702735869,
             0.009018589955601768,
             0.006316444490027238,
             0.014848189044329987,
             0.012485637577723746,
             0.0032919428465521274
            ],
            [
             0.01124057661294801,
             0.03908993564000307,
             0.011744528862333318,
             0.003885242351258708,
             0.004639425548008169,
             0.01487760499965242,
             0.04182591560024457,
             0.010556738227698806
            ],
            [
             0.012527381775244057,
             0.044832571007937375,
             0.045236902428163354,
             0.019426342772337873,
             0.019119112011413093,
             0.04157841420776733,
             0.04419636695106747,
             0.011489967976742762
            ],
            [
             0.006507179421991032,
             0.013128867068732081,
             0.0323561562083172,
             0.03812285747527017,
             0.04481040449039142,
             0.0471352219967397,
             0.015685564285302312,
             0.004020087188343644
            ],
            [
             0.002042117447297743,
             0.006033399819735489,
             0.011896920102327053,
             0.007700361171336099,
             0.008289573119588294,
             0.008559788669855904,
             0.008590345324503687,
             0.0022525929472544753
            ]
           ]
          }
         ],
         "layout": {
          "coloraxis": {
           "colorscale": [
            [
             0,
             "rgb(243, 231, 155)"
            ],
            [
             0.16666666666666666,
             "rgb(250, 196, 132)"
            ],
            [
             0.3333333333333333,
             "rgb(248, 160, 126)"
            ],
            [
             0.5,
             "rgb(235, 127, 134)"
            ],
            [
             0.6666666666666666,
             "rgb(206, 102, 147)"
            ],
            [
             0.8333333333333334,
             "rgb(160, 89, 160)"
            ],
            [
             1,
             "rgb(92, 83, 165)"
            ]
           ]
          },
          "height": 500,
          "margin": {
           "t": 60
          },
          "width": 500,
          "xaxis": {
           "constrain": "domain",
           "scaleanchor": "y"
          },
          "yaxis": {
           "autorange": "reversed",
           "constrain": "domain"
          }
         },
         "name": "52"
        },
        {
         "data": [
          {
           "coloraxis": "coloraxis",
           "name": "53",
           "type": "heatmap",
           "z": [
            [
             0.0025882305984526524,
             0.005421245016556118,
             0.01288219679874896,
             0.0036443159997609606,
             0.012233448269250905,
             0.011892257450626382,
             0.006994552164697511,
             0.002662403768435973
            ],
            [
             0.0029920144812291835,
             0.011337892205589098,
             0.03715810517776772,
             0.010431602985300829,
             0.013690040867262911,
             0.03988400394921876,
             0.008750584397165405,
             0.003480301119164338
            ],
            [
             0.0019546929503463048,
             0.013444210464030422,
             0.023797034784496712,
             0.009613159480023628,
             0.01227930400036008,
             0.027586232827640073,
             0.012070285909489832,
             0.002399095263937792
            ],
            [
             0.013383493693609347,
             0.010747776824784266,
             0.00804507588106953,
             0.00884438221692176,
             0.0064190322092622125,
             0.01513718717462411,
             0.012523314489580172,
             0.0032744478381458017
            ],
            [
             0.011024880105945824,
             0.03960183642775685,
             0.01190118722147882,
             0.0037250108374264775,
             0.004455687577876068,
             0.014852318000134937,
             0.04167729229761634,
             0.010341656408610865
            ],
            [
             0.01216119557708458,
             0.043947618393845096,
             0.04427782859667337,
             0.019114939249902697,
             0.020334810742732416,
             0.04153513545005151,
             0.0466240972423395,
             0.010942349176212543
            ],
            [
             0.005972664620497035,
             0.012991914872313052,
             0.03278848951045049,
             0.03707283400354144,
             0.04394147310207578,
             0.04857710621750993,
             0.015381556380465684,
             0.0037801154103603595
            ],
            [
             0.0020863697543803943,
             0.006051193409030956,
             0.012008657338085864,
             0.0074650575509691754,
             0.008447737612654197,
             0.008754749119720443,
             0.008520498623972653,
             0.0020798179107338935
            ]
           ]
          }
         ],
         "layout": {
          "coloraxis": {
           "colorscale": [
            [
             0,
             "rgb(243, 231, 155)"
            ],
            [
             0.16666666666666666,
             "rgb(250, 196, 132)"
            ],
            [
             0.3333333333333333,
             "rgb(248, 160, 126)"
            ],
            [
             0.5,
             "rgb(235, 127, 134)"
            ],
            [
             0.6666666666666666,
             "rgb(206, 102, 147)"
            ],
            [
             0.8333333333333334,
             "rgb(160, 89, 160)"
            ],
            [
             1,
             "rgb(92, 83, 165)"
            ]
           ]
          },
          "height": 500,
          "margin": {
           "t": 60
          },
          "width": 500,
          "xaxis": {
           "constrain": "domain",
           "scaleanchor": "y"
          },
          "yaxis": {
           "autorange": "reversed",
           "constrain": "domain"
          }
         },
         "name": "53"
        },
        {
         "data": [
          {
           "coloraxis": "coloraxis",
           "name": "54",
           "type": "heatmap",
           "z": [
            [
             0.0026380801782479655,
             0.005204747422721661,
             0.012648035370867039,
             0.003597733270102692,
             0.011793392009070446,
             0.012212513587554003,
             0.006889252649938662,
             0.0026112549696471403
            ],
            [
             0.0030993928616684743,
             0.01099006468066153,
             0.03879050778890096,
             0.010485233615354165,
             0.013638952986970857,
             0.040246006274491555,
             0.008360538673942453,
             0.003299261985231027
            ],
            [
             0.0019528115528904921,
             0.013148797711219518,
             0.02410084946558059,
             0.009776023948374653,
             0.01215049330359407,
             0.028188911632222344,
             0.01241579167419157,
             0.0023373589697019675
            ],
            [
             0.013662032068520525,
             0.0104360635634286,
             0.007891531394423168,
             0.008762036023753228,
             0.006578154768376391,
             0.015270279317772237,
             0.012452683770409267,
             0.00328873972967668
            ],
            [
             0.010765259071500947,
             0.039682048660678766,
             0.012022462775310192,
             0.003585789960143279,
             0.004322634691340103,
             0.014792593237298025,
             0.04109327996368765,
             0.010180664111196254
            ],
            [
             0.011807438235624513,
             0.04358495324854129,
             0.043273318213045045,
             0.018904248031738808,
             0.021659117731655773,
             0.041535171072545105,
             0.04895895047009715,
             0.010605300556604687
            ],
            [
             0.005459808097703004,
             0.012718095767871111,
             0.03357702712709819,
             0.03593717219158698,
             0.04336821830931503,
             0.049125590148965226,
             0.015036321062695887,
             0.0035217722852821103
            ],
            [
             0.0021527166295191753,
             0.006073138774236237,
             0.012003201680128523,
             0.007307285685613612,
             0.008572465907086865,
             0.009001970289973769,
             0.008528873565465823,
             0.0019255852269441096
            ]
           ]
          }
         ],
         "layout": {
          "coloraxis": {
           "colorscale": [
            [
             0,
             "rgb(243, 231, 155)"
            ],
            [
             0.16666666666666666,
             "rgb(250, 196, 132)"
            ],
            [
             0.3333333333333333,
             "rgb(248, 160, 126)"
            ],
            [
             0.5,
             "rgb(235, 127, 134)"
            ],
            [
             0.6666666666666666,
             "rgb(206, 102, 147)"
            ],
            [
             0.8333333333333334,
             "rgb(160, 89, 160)"
            ],
            [
             1,
             "rgb(92, 83, 165)"
            ]
           ]
          },
          "height": 500,
          "margin": {
           "t": 60
          },
          "width": 500,
          "xaxis": {
           "constrain": "domain",
           "scaleanchor": "y"
          },
          "yaxis": {
           "autorange": "reversed",
           "constrain": "domain"
          }
         },
         "name": "54"
        },
        {
         "data": [
          {
           "coloraxis": "coloraxis",
           "name": "55",
           "type": "heatmap",
           "z": [
            [
             0.002657512326543418,
             0.004975736959176504,
             0.012329701444806638,
             0.0035712323163247708,
             0.011457829312943665,
             0.012406144541195022,
             0.006809749513614696,
             0.0025276139670869914
            ],
            [
             0.003155891206306691,
             0.010790223242821943,
             0.040328713909291894,
             0.010645831260789001,
             0.013457502857517548,
             0.040521935373436714,
             0.008159781691175453,
             0.0030883431552929186
            ],
            [
             0.0019896861417325025,
             0.012835269343898514,
             0.02460938642714092,
             0.009979082821059793,
             0.01205581899466929,
             0.028624616189057345,
             0.012551808830347034,
             0.002288727670098415
            ],
            [
             0.013828813797322629,
             0.010265505660506618,
             0.007815635199674131,
             0.008703099008710403,
             0.006749544362448226,
             0.015138172339397689,
             0.012254626929227252,
             0.003299426800062179
            ],
            [
             0.010498328628543264,
             0.03956636464433889,
             0.01212222728698904,
             0.00345935835600819,
             0.004246402885936849,
             0.0146628123418497,
             0.04048621656943447,
             0.010119000419773575
            ],
            [
             0.011528377343176077,
             0.043741415031012996,
             0.04231238407804422,
             0.018898341994664072,
             0.02292277266963419,
             0.04145372200931941,
             0.05061574372278022,
             0.010452827205220446
            ],
            [
             0.005031002213054754,
             0.012445141559275641,
             0.03476591083993918,
             0.035305920286617075,
             0.04315784696306125,
             0.048824168086275536,
             0.014695059637337157,
             0.0032865622213803635
            ],
            [
             0.0022249119842993764,
             0.006053723492999781,
             0.011845695212035235,
             0.007218401189066478,
             0.008632867442516684,
             0.009208668565938005,
             0.008528714334395364,
             0.0018161471914047008
            ]
           ]
          }
         ],
         "layout": {
          "coloraxis": {
           "colorscale": [
            [
             0,
             "rgb(243, 231, 155)"
            ],
            [
             0.16666666666666666,
             "rgb(250, 196, 132)"
            ],
            [
             0.3333333333333333,
             "rgb(248, 160, 126)"
            ],
            [
             0.5,
             "rgb(235, 127, 134)"
            ],
            [
             0.6666666666666666,
             "rgb(206, 102, 147)"
            ],
            [
             0.8333333333333334,
             "rgb(160, 89, 160)"
            ],
            [
             1,
             "rgb(92, 83, 165)"
            ]
           ]
          },
          "height": 500,
          "margin": {
           "t": 60
          },
          "width": 500,
          "xaxis": {
           "constrain": "domain",
           "scaleanchor": "y"
          },
          "yaxis": {
           "autorange": "reversed",
           "constrain": "domain"
          }
         },
         "name": "55"
        },
        {
         "data": [
          {
           "coloraxis": "coloraxis",
           "name": "56",
           "type": "heatmap",
           "z": [
            [
             0.0026221300880976085,
             0.004777708427982256,
             0.012002454469192025,
             0.0035373386321589243,
             0.01122863831495831,
             0.01233731551375507,
             0.006805941228322796,
             0.0024248123736335257
            ],
            [
             0.003114009488692077,
             0.010759355742229805,
             0.041172703403594885,
             0.010803943962193462,
             0.01321466704814485,
             0.04073816797277378,
             0.008171961663852296,
             0.0029029966323700493
            ],
            [
             0.0020287601470383083,
             0.012524482737533362,
             0.02519635103835834,
             0.01017661923093334,
             0.012022473907388996,
             0.028973282101354504,
             0.012446582876466642,
             0.0022585268558272392
            ],
            [
             0.013778631693550389,
             0.010289404393069784,
             0.007799191373317015,
             0.008676002438363061,
             0.006880762916581998,
             0.014783905086296848,
             0.011997607794119871,
             0.0032858070987588335
            ],
            [
             0.01026395048839169,
             0.039393455631626266,
             0.012106095777714739,
             0.0033519079946682834,
             0.0041855789545738814,
             0.014426826838643773,
             0.040116353319835006,
             0.010168357703693277
            ],
            [
             0.01133712687484395,
             0.04438896823701823,
             0.04160938375471411,
             0.019217309719045315,
             0.0239339525003235,
             0.04133027338380841,
             0.05110711056457414,
             0.01045645856961505
            ],
            [
             0.004742080901092787,
             0.012229012191608784,
             0.03604392986858326,
             0.035528891182691716,
             0.043382545444075285,
             0.04813156575751103,
             0.014399747057646652,
             0.0031378399721023174
            ],
            [
             0.0022777755185951257,
             0.005946039976125663,
             0.01158396425673288,
             0.007224560488802381,
             0.008660817737845395,
             0.009307108921432215,
             0.008506325107924229,
             0.001772148653229637
            ]
           ]
          }
         ],
         "layout": {
          "coloraxis": {
           "colorscale": [
            [
             0,
             "rgb(243, 231, 155)"
            ],
            [
             0.16666666666666666,
             "rgb(250, 196, 132)"
            ],
            [
             0.3333333333333333,
             "rgb(248, 160, 126)"
            ],
            [
             0.5,
             "rgb(235, 127, 134)"
            ],
            [
             0.6666666666666666,
             "rgb(206, 102, 147)"
            ],
            [
             0.8333333333333334,
             "rgb(160, 89, 160)"
            ],
            [
             1,
             "rgb(92, 83, 165)"
            ]
           ]
          },
          "height": 500,
          "margin": {
           "t": 60
          },
          "width": 500,
          "xaxis": {
           "constrain": "domain",
           "scaleanchor": "y"
          },
          "yaxis": {
           "autorange": "reversed",
           "constrain": "domain"
          }
         },
         "name": "56"
        },
        {
         "data": [
          {
           "coloraxis": "coloraxis",
           "name": "57",
           "type": "heatmap",
           "z": [
            [
             0.0025213646980348633,
             0.004630810693137095,
             0.011775726158790686,
             0.003473799011634289,
             0.011097670740700494,
             0.011977277430266785,
             0.006910095976707405,
             0.002326843142337994
            ],
            [
             0.002963749918624701,
             0.010889974424493711,
             0.04086396211581022,
             0.010848188250740444,
             0.012957235710529414,
             0.040801672679572194,
             0.008359389648454212,
             0.002799455920457684
            ],
            [
             0.0020333646544404525,
             0.01226876570863843,
             0.02580651785855493,
             0.010273333949270758,
             0.01206987626930037,
             0.02947605995259895,
             0.0121229231692964,
             0.002255790169019807
            ],
            [
             0.013453725066412164,
             0.010479124279820774,
             0.007849329472825935,
             0.008710493322862693,
             0.006920637874487923,
             0.014346060791115207,
             0.011754743806340085,
             0.0032232839898578333
            ],
            [
             0.010096813839445912,
             0.039253272083659904,
             0.011877962488878702,
             0.0032794105257564067,
             0.004079346258847579,
             0.014089786553504303,
             0.04021785980591076,
             0.010281894868049403
            ],
            [
             0.011196571089050061,
             0.04534696524452976,
             0.041460109932624355,
             0.0199380123335733,
             0.02451744471277766,
             0.041166800227042326,
             0.05032357977111507,
             0.01056318924292623
            ],
            [
             0.004621422842109274,
             0.012082512450681876,
             0.036860453146507315,
             0.03667333990014917,
             0.04406335000515822,
             0.04758397069284828,
             0.014178666639140755,
             0.0031134205416455773
            ],
            [
             0.0022797846969938146,
             0.00571505298842149,
             0.011296999964483415,
             0.007328529704795338,
             0.008693797060812556,
             0.009284157189571677,
             0.008492059379720111,
             0.0018022169641333928
            ]
           ]
          }
         ],
         "layout": {
          "coloraxis": {
           "colorscale": [
            [
             0,
             "rgb(243, 231, 155)"
            ],
            [
             0.16666666666666666,
             "rgb(250, 196, 132)"
            ],
            [
             0.3333333333333333,
             "rgb(248, 160, 126)"
            ],
            [
             0.5,
             "rgb(235, 127, 134)"
            ],
            [
             0.6666666666666666,
             "rgb(206, 102, 147)"
            ],
            [
             0.8333333333333334,
             "rgb(160, 89, 160)"
            ],
            [
             1,
             "rgb(92, 83, 165)"
            ]
           ]
          },
          "height": 500,
          "margin": {
           "t": 60
          },
          "width": 500,
          "xaxis": {
           "constrain": "domain",
           "scaleanchor": "y"
          },
          "yaxis": {
           "autorange": "reversed",
           "constrain": "domain"
          }
         },
         "name": "57"
        },
        {
         "data": [
          {
           "coloraxis": "coloraxis",
           "name": "58",
           "type": "heatmap",
           "z": [
            [
             0.002384872685127751,
             0.004498088838817995,
             0.011666151344724035,
             0.0034001596957112554,
             0.011031595099715168,
             0.011433299703328915,
             0.007088537315634242,
             0.002228964826888583
            ],
            [
             0.00275347175170798,
             0.011123830592294933,
             0.03959482458719842,
             0.010746862143144425,
             0.012658563690976123,
             0.04080894869863559,
             0.008636289199109276,
             0.002765288250364867
            ],
            [
             0.0020059295341340543,
             0.012133155795463826,
             0.02655469518151167,
             0.01021506041164824,
             0.012141136185287534,
             0.03011874164189729,
             0.011647629325545599,
             0.0022567043658700565
            ],
            [
             0.012904339629555053,
             0.01077248401326019,
             0.007962105008775908,
             0.008828410287830397,
             0.00685851736557321,
             0.013908784385027774,
             0.011586601795727942,
             0.0031236075679301365
            ],
            [
             0.01000341044617811,
             0.03903057378496486,
             0.011436643960240966,
             0.0032283056540541705,
             0.003937495187815899,
             0.013673117807028618,
             0.04066457462115705,
             0.01038349547716985
            ],
            [
             0.011102227429259126,
             0.04662117272866587,
             0.04188896455675119,
             0.020949264572429134,
             0.024661291216326497,
             0.041210819912785635,
             0.04873023032689669,
             0.01075764744183159
            ],
            [
             0.0046259911563603,
             0.01196705528789252,
             0.03702745412662111,
             0.038403299673236795,
             0.04499135586592448,
             0.047248892338002196,
             0.014040539122237655,
             0.0031849170984824936
            ],
            [
             0.0022277453345927204,
             0.005404461144947605,
             0.011009892959304981,
             0.007513401619590043,
             0.008715803547259118,
             0.009155149233459229,
             0.0084882358473506,
             0.0018789196027635883
            ]
           ]
          }
         ],
         "layout": {
          "coloraxis": {
           "colorscale": [
            [
             0,
             "rgb(243, 231, 155)"
            ],
            [
             0.16666666666666666,
             "rgb(250, 196, 132)"
            ],
            [
             0.3333333333333333,
             "rgb(248, 160, 126)"
            ],
            [
             0.5,
             "rgb(235, 127, 134)"
            ],
            [
             0.6666666666666666,
             "rgb(206, 102, 147)"
            ],
            [
             0.8333333333333334,
             "rgb(160, 89, 160)"
            ],
            [
             1,
             "rgb(92, 83, 165)"
            ]
           ]
          },
          "height": 500,
          "margin": {
           "t": 60
          },
          "width": 500,
          "xaxis": {
           "constrain": "domain",
           "scaleanchor": "y"
          },
          "yaxis": {
           "autorange": "reversed",
           "constrain": "domain"
          }
         },
         "name": "58"
        },
        {
         "data": [
          {
           "coloraxis": "coloraxis",
           "name": "59",
           "type": "heatmap",
           "z": [
            [
             0.002240464763507654,
             0.0043602015365944435,
             0.011652511639609973,
             0.003345070464830592,
             0.011008953055860438,
             0.010833935470058545,
             0.007301048861063764,
             0.0021266502156211645
            ],
            [
             0.002524731635273812,
             0.011416939126292876,
             0.03776232522395498,
             0.010541065349803057,
             0.01227941243245183,
             0.04075620102573513,
             0.008950138942668863,
             0.0027666986466059543
            ],
            [
             0.001962436190810995,
             0.012134402851468877,
             0.02748869171820996,
             0.010015765842779016,
             0.012175849987460479,
             0.030751572353963034,
             0.011095104232192551,
             0.002241477023314754
            ],
            [
             0.0122218774451213,
             0.011110087203510149,
             0.008134255930635966,
             0.009020039921682172,
             0.006723151599885418,
             0.013492661289116236,
             0.011499085596735273,
             0.0030104766542063117
            ],
            [
             0.009987967854057835,
             0.038577792251799525,
             0.01085166708693665,
             0.0031948173698956063,
             0.0037982713640146693,
             0.013194545627590497,
             0.04123143819140483,
             0.010431745140289864
            ],
            [
             0.011045902264424366,
             0.04819508768774119,
             0.042850031776766856,
             0.02212543984657506,
             0.024435549339304155,
             0.041606442902408246,
             0.046822415244810095,
             0.01103061483853587
            ],
            [
             0.004710122897316604,
             0.011847171198241887,
             0.03669102955717482,
             0.04041480643352105,
             0.045980345650762956,
             0.04699222564877006,
             0.01395125037320127,
             0.003316661825422276
            ],
            [
             0.002130456752547634,
             0.005067639610657803,
             0.010721777742387315,
             0.007752884336665244,
             0.008696243332808223,
             0.008950040434836232,
             0.008482564029745362,
             0.0019717671583592395
            ]
           ]
          }
         ],
         "layout": {
          "coloraxis": {
           "colorscale": [
            [
             0,
             "rgb(243, 231, 155)"
            ],
            [
             0.16666666666666666,
             "rgb(250, 196, 132)"
            ],
            [
             0.3333333333333333,
             "rgb(248, 160, 126)"
            ],
            [
             0.5,
             "rgb(235, 127, 134)"
            ],
            [
             0.6666666666666666,
             "rgb(206, 102, 147)"
            ],
            [
             0.8333333333333334,
             "rgb(160, 89, 160)"
            ],
            [
             1,
             "rgb(92, 83, 165)"
            ]
           ]
          },
          "height": 500,
          "margin": {
           "t": 60
          },
          "width": 500,
          "xaxis": {
           "constrain": "domain",
           "scaleanchor": "y"
          },
          "yaxis": {
           "autorange": "reversed",
           "constrain": "domain"
          }
         },
         "name": "59"
        },
        {
         "data": [
          {
           "coloraxis": "coloraxis",
           "name": "60",
           "type": "heatmap",
           "z": [
            [
             0.0021017022740953306,
             0.004217715435141436,
             0.011705568711423456,
             0.0032978050076833843,
             0.011050507422342072,
             0.010259257266201556,
             0.007499068169988105,
             0.00203018093417496
            ],
            [
             0.002304023899084568,
             0.011738384973701308,
             0.03587463141697988,
             0.010287669548034289,
             0.011850506753121838,
             0.0406881630480634,
             0.0092655807065558,
             0.0027888809794400027
            ],
            [
             0.001918423941267007,
             0.012226381783218174,
             0.02854881782493072,
             0.009711305766390748,
             0.01216060499544104,
             0.031321446130135204,
             0.010506043305315606,
             0.002219719252460468
            ],
            [
             0.01152852654720359,
             0.0114184971816286,
             0.008352038106397416,
             0.00923854306477275,
             0.006531796380975859,
             0.01309634913474846,
             0.011434193949905556,
             0.0028747259587559265
            ],
            [
             0.010019706383840567,
             0.038039155335132704,
             0.010236994921128617,
             0.003169761809766337,
             0.003669996628321497,
             0.012730341731148469,
             0.041984102930079356,
             0.010408394948360348
            ],
            [
             0.011017825491569119,
             0.04987710411319357,
             0.04422139134388357,
             0.02335509901062596,
             0.023913976590558772,
             0.042151943630809395,
             0.04484811187044979,
             0.011348197516034242
            ],
            [
             0.004837762622031088,
             0.011737001655390395,
             0.035992190114985445,
             0.042451938250536156,
             0.04695074657066838,
             0.04663645211701703,
             0.013910288177678367,
             0.003458680764422912
            ],
            [
             0.0020046532035930408,
             0.0047273255759048855,
             0.01042189822330566,
             0.007991906766251644,
             0.008606728355449123,
             0.008702042716781697,
             0.008463731484802348,
             0.0020674892767000713
            ]
           ]
          }
         ],
         "layout": {
          "coloraxis": {
           "colorscale": [
            [
             0,
             "rgb(243, 231, 155)"
            ],
            [
             0.16666666666666666,
             "rgb(250, 196, 132)"
            ],
            [
             0.3333333333333333,
             "rgb(248, 160, 126)"
            ],
            [
             0.5,
             "rgb(235, 127, 134)"
            ],
            [
             0.6666666666666666,
             "rgb(206, 102, 147)"
            ],
            [
             0.8333333333333334,
             "rgb(160, 89, 160)"
            ],
            [
             1,
             "rgb(92, 83, 165)"
            ]
           ]
          },
          "height": 500,
          "margin": {
           "t": 60
          },
          "width": 500,
          "xaxis": {
           "constrain": "domain",
           "scaleanchor": "y"
          },
          "yaxis": {
           "autorange": "reversed",
           "constrain": "domain"
          }
         },
         "name": "60"
        },
        {
         "data": [
          {
           "coloraxis": "coloraxis",
           "name": "61",
           "type": "heatmap",
           "z": [
            [
             0.001985099273511844,
             0.004050936781400027,
             0.011785999196567221,
             0.0032540564682925857,
             0.011175194387883922,
             0.009795752859496926,
             0.007624365743709859,
             0.0019429892297957358
            ],
            [
             0.002123705100678607,
             0.012033275819585213,
             0.03443686624222251,
             0.010049577813266607,
             0.011385781768563582,
             0.040701093885339656,
             0.009537647289763236,
             0.00281229224524014
            ],
            [
             0.0018931802158031173,
             0.012394478237268799,
             0.02975851439620714,
             0.009335609564415197,
             0.01206397144753236,
             0.03172918375161329,
             0.009917692004234882,
             0.0021881025879776222
            ],
            [
             0.010919792812858363,
             0.011620902660972285,
             0.008604770721640297,
             0.009445511809955169,
             0.00631653978150437,
             0.012713992727664181,
             0.011352519571110815,
             0.002723804416384844
            ],
            [
             0.010073541149928493,
             0.037532097199539004,
             0.009694413541683006,
             0.003137473518362006,
             0.003565937403441939,
             0.01235315849986164,
             0.04290569284395362,
             0.010299896689672183
            ],
            [
             0.011027429859902812,
             0.05151158936884646,
             0.0458702629159878,
             0.024503548268117195,
             0.023212174763906055,
             0.042779454208492225,
             0.04307976759852021,
             0.011693212401942875
            ],
            [
             0.0049640552057370075,
             0.011631866908523806,
             0.03515655349080549,
             0.044107908928405985,
             0.04778415150592195,
             0.04595143625411356,
             0.013921727728485172,
             0.0035484399248663263
            ],
            [
             0.0018721926611022799,
             0.004411547673932542,
             0.010109871289237966,
             0.008189323679795309,
             0.008421103581893326,
             0.008441867486091267,
             0.008429127736766386,
             0.0021459748997030227
            ]
           ]
          }
         ],
         "layout": {
          "coloraxis": {
           "colorscale": [
            [
             0,
             "rgb(243, 231, 155)"
            ],
            [
             0.16666666666666666,
             "rgb(250, 196, 132)"
            ],
            [
             0.3333333333333333,
             "rgb(248, 160, 126)"
            ],
            [
             0.5,
             "rgb(235, 127, 134)"
            ],
            [
             0.6666666666666666,
             "rgb(206, 102, 147)"
            ],
            [
             0.8333333333333334,
             "rgb(160, 89, 160)"
            ],
            [
             1,
             "rgb(92, 83, 165)"
            ]
           ]
          },
          "height": 500,
          "margin": {
           "t": 60
          },
          "width": 500,
          "xaxis": {
           "constrain": "domain",
           "scaleanchor": "y"
          },
          "yaxis": {
           "autorange": "reversed",
           "constrain": "domain"
          }
         },
         "name": "61"
        },
        {
         "data": [
          {
           "coloraxis": "coloraxis",
           "name": "62",
           "type": "heatmap",
           "z": [
            [
             0.001908493088995062,
             0.0038326654498614695,
             0.01183964938508422,
             0.0032305291600504757,
             0.0113992117906784,
             0.009550156332983898,
             0.007623380280885805,
             0.0018587975121080115
            ],
            [
             0.0020162666909211246,
             0.01224496578808945,
             0.03395387413429665,
             0.009925249372401995,
             0.010861816356558905,
             0.04083825710370124,
             0.009744878077444398,
             0.0027972032835967475
            ],
            [
             0.0019125794689273184,
             0.01263858500667445,
             0.031181481776963588,
             0.008949691460440109,
             0.01183030909704506,
             0.03171862660436748,
             0.00937558430326078,
             0.0021269715087970085
            ],
            [
             0.01047094746721301,
             0.011656870188265007,
             0.008890671370154942,
             0.00960443488799338,
             0.006142180403875322,
             0.01230894990845478,
             0.011225319959014353,
             0.002592268076629709
            ],
            [
             0.010147048246319458,
             0.03703322139800975,
             0.009326356992065566,
             0.0030848453708821996,
             0.003522869752572917,
             0.012102958912683615,
             0.04378971856926587,
             0.010113970043307077
            ],
            [
             0.011097724572697535,
             0.05301721251335549,
             0.04765869547551539,
             0.02543467471189255,
             0.022500903421004952,
             0.04357082411034022,
             0.041856780564088494,
             0.012074922574943879
            ],
            [
             0.0050346805081566,
             0.011508589492044516,
             0.034649411583432106,
             0.04494580252521846,
             0.04831169183437762,
             0.04459441918099685,
             0.013958127349029955,
             0.0035210732646709735
            ],
            [
             0.0017583252896272408,
             0.004161970483481384,
             0.009786136571217989,
             0.008322681769386605,
             0.008109996697029779,
             0.008202212229090566,
             0.008374197531537763,
             0.00217709116602155
            ]
           ]
          }
         ],
         "layout": {
          "coloraxis": {
           "colorscale": [
            [
             0,
             "rgb(243, 231, 155)"
            ],
            [
             0.16666666666666666,
             "rgb(250, 196, 132)"
            ],
            [
             0.3333333333333333,
             "rgb(248, 160, 126)"
            ],
            [
             0.5,
             "rgb(235, 127, 134)"
            ],
            [
             0.6666666666666666,
             "rgb(206, 102, 147)"
            ],
            [
             0.8333333333333334,
             "rgb(160, 89, 160)"
            ],
            [
             1,
             "rgb(92, 83, 165)"
            ]
           ]
          },
          "height": 500,
          "margin": {
           "t": 60
          },
          "width": 500,
          "xaxis": {
           "constrain": "domain",
           "scaleanchor": "y"
          },
          "yaxis": {
           "autorange": "reversed",
           "constrain": "domain"
          }
         },
         "name": "62"
        },
        {
         "data": [
          {
           "coloraxis": "coloraxis",
           "name": "63",
           "type": "heatmap",
           "z": [
            [
             0.001867367578002182,
             0.0035720259620623807,
             0.011845097724754866,
             0.0032353102863338684,
             0.011690029469613169,
             0.009559078257421786,
             0.007485708641169115,
             0.0017746259507138398
            ],
            [
             0.0019839546269513966,
             0.012336268049080284,
             0.034526696922818824,
             0.009954168303865302,
             0.010286338495069663,
             0.04098211946004836,
             0.009871701922804538,
             0.002724466687157214
            ],
            [
             0.001971435411787297,
             0.012945161909612776,
             0.03274132934476754,
             0.008590468392109753,
             0.011460202572105473,
             0.031214352849955038,
             0.008921578612391252,
             0.0020255399547749043
            ],
            [
             0.010188919732170884,
             0.01150630876655142,
             0.009182209380692306,
             0.009686814249582511,
             0.006045313428399673,
             0.011893775884516651,
             0.011047226036736309,
             0.0025068357818194375
            ],
            [
             0.010242946462069883,
             0.03653344863328422,
             0.009155780866866135,
             0.003017680752348785,
             0.003548320248386537,
             0.011971209985089389,
             0.04442044525023801,
             0.009882305431541547
            ],
            [
             0.011209923697175921,
             0.0542984553520128,
             0.04952465956530314,
             0.026065523789360088,
             0.02187868516669144,
             0.044598600248246405,
             0.041383481495991865,
             0.012462995108534373
            ],
            [
             0.005030063603907846,
             0.0113327961345799,
             0.034737420768523854,
             0.04484836664020789,
             0.04854544883689821,
             0.0426792380852585,
             0.013963499201596691,
             0.0033751908146243442
            ],
            [
             0.0016669815845532384,
             0.0039965792891568834,
             0.009486065568366838,
             0.008379450650138119,
             0.007691139098350442,
             0.008000574219105785,
             0.008306816278024223,
             0.00214347652772588
            ]
           ]
          }
         ],
         "layout": {
          "coloraxis": {
           "colorscale": [
            [
             0,
             "rgb(243, 231, 155)"
            ],
            [
             0.16666666666666666,
             "rgb(250, 196, 132)"
            ],
            [
             0.3333333333333333,
             "rgb(248, 160, 126)"
            ],
            [
             0.5,
             "rgb(235, 127, 134)"
            ],
            [
             0.6666666666666666,
             "rgb(206, 102, 147)"
            ],
            [
             0.8333333333333334,
             "rgb(160, 89, 160)"
            ],
            [
             1,
             "rgb(92, 83, 165)"
            ]
           ]
          },
          "height": 500,
          "margin": {
           "t": 60
          },
          "width": 500,
          "xaxis": {
           "constrain": "domain",
           "scaleanchor": "y"
          },
          "yaxis": {
           "autorange": "reversed",
           "constrain": "domain"
          }
         },
         "name": "63"
        },
        {
         "data": [
          {
           "coloraxis": "coloraxis",
           "name": "64",
           "type": "heatmap",
           "z": [
            [
             0.0018545910713114399,
             0.0032804187972053376,
             0.011771981070321989,
             0.003254606056158929,
             0.012012710514854499,
             0.009839876667783357,
             0.0072031154500479125,
             0.0016949667368050033
            ],
            [
             0.0020324685347320693,
             0.012270369133422065,
             0.03631683066309362,
             0.010161301245732725,
             0.009695610117350657,
             0.04103588677253295,
             0.00988713471151835,
             0.0025954499494388545
            ],
            [
             0.00206693918131827,
             0.013278661291883112,
             0.03438116382764364,
             0.008275333359806753,
             0.010994871000505068,
             0.0303473982035701,
             0.008570954927351519,
             0.0018948221192668043
            ],
            [
             0.010088881628880277,
             0.011144710566780137,
             0.0094503916624075,
             0.009667921180570778,
             0.006041660398663086,
             0.011493952112940563,
             0.010786488521805703,
             0.002471660453127871
            ],
            [
             0.010330592810496107,
             0.0361665466488956,
             0.009204179267339869,
             0.002936653132462734,
             0.003626810728915691,
             0.011983681688989313,
             0.04470878651871088,
             0.009635394764404968
            ],
            [
             0.011338543532663661,
             0.05516041315225753,
             0.05128803867553966,
             0.026334433201442686,
             0.021424363421447986,
             0.045758937642057705,
             0.04175709046691882,
             0.012814488889842476
            ],
            [
             0.0049326778389006,
             0.011078952346157252,
             0.03552498973499055,
             0.04370066918831559,
             0.04857808128980216,
             0.04035960743786604,
             0.013906117300839103,
             0.0031152309021611063
            ],
            [
             0.0016030588189433245,
             0.003916027057484124,
             0.009238842591276948,
             0.008346698592104152,
             0.007201244866372362,
             0.00786592734064855,
             0.008252651785731473,
             0.0020471404371890656
            ]
           ]
          }
         ],
         "layout": {
          "coloraxis": {
           "colorscale": [
            [
             0,
             "rgb(243, 231, 155)"
            ],
            [
             0.16666666666666666,
             "rgb(250, 196, 132)"
            ],
            [
             0.3333333333333333,
             "rgb(248, 160, 126)"
            ],
            [
             0.5,
             "rgb(235, 127, 134)"
            ],
            [
             0.6666666666666666,
             "rgb(206, 102, 147)"
            ],
            [
             0.8333333333333334,
             "rgb(160, 89, 160)"
            ],
            [
             1,
             "rgb(92, 83, 165)"
            ]
           ]
          },
          "height": 500,
          "margin": {
           "t": 60
          },
          "width": 500,
          "xaxis": {
           "constrain": "domain",
           "scaleanchor": "y"
          },
          "yaxis": {
           "autorange": "reversed",
           "constrain": "domain"
          }
         },
         "name": "64"
        },
        {
         "data": [
          {
           "coloraxis": "coloraxis",
           "name": "65",
           "type": "heatmap",
           "z": [
            [
             0.0018375511712090562,
             0.0030353306493353578,
             0.011659044398775069,
             0.0032447507581709525,
             0.012320169932399054,
             0.010300368184005116,
             0.0068397864345308935,
             0.0016488481146876854
            ],
            [
             0.0021173716658023636,
             0.012075041898229028,
             0.03888371354185515,
             0.01048211528728933,
             0.009195333486762219,
             0.04067220381463452,
             0.009803534191063109,
             0.0024575527647663145
            ],
            [
             0.0021513237878190866,
             0.013541099870480338,
             0.03568586886096123,
             0.007997044307758374,
             0.010567397147846243,
             0.029581432344838184,
             0.008335033572978259,
             0.0017833992094809447
            ],
            [
             0.010127296149266028,
             0.010591440256531252,
             0.009656171794479508,
             0.009514182413618568,
             0.006097420713497696,
             0.01119813172914416,
             0.010417223466090036,
             0.002453207855710705
            ],
            [
             0.010398067985502017,
             0.03623760957387877,
             0.009418474139020073,
             0.0028842919867305746,
             0.003693324209078947,
             0.01213912688080984,
             0.04483950719701483,
             0.009427454581773822
            ],
            [
             0.011394744942998634,
             0.05516460082885261,
             0.052968341114304325,
             0.02635873072901865,
             0.021073791305406875,
             0.04663173692392676,
             0.04272619132083064,
             0.013003846989305836
            ],
            [
             0.00479486573774112,
             0.010768514450470147,
             0.036661707260259524,
             0.041966973718676526,
             0.04882251751290612,
             0.03834557819916305,
             0.01373462619810122,
             0.0028219895581052066
            ],
            [
             0.0015420790107940946,
             0.003868085411123651,
             0.009110869259643429,
             0.008209540841054415,
             0.006732695869554083,
             0.007809137432349621,
             0.008253259434969167,
             0.0019273296226185088
            ]
           ]
          }
         ],
         "layout": {
          "coloraxis": {
           "colorscale": [
            [
             0,
             "rgb(243, 231, 155)"
            ],
            [
             0.16666666666666666,
             "rgb(250, 196, 132)"
            ],
            [
             0.3333333333333333,
             "rgb(248, 160, 126)"
            ],
            [
             0.5,
             "rgb(235, 127, 134)"
            ],
            [
             0.6666666666666666,
             "rgb(206, 102, 147)"
            ],
            [
             0.8333333333333334,
             "rgb(160, 89, 160)"
            ],
            [
             1,
             "rgb(92, 83, 165)"
            ]
           ]
          },
          "height": 500,
          "margin": {
           "t": 60
          },
          "width": 500,
          "xaxis": {
           "constrain": "domain",
           "scaleanchor": "y"
          },
          "yaxis": {
           "autorange": "reversed",
           "constrain": "domain"
          }
         },
         "name": "65"
        },
        {
         "data": [
          {
           "coloraxis": "coloraxis",
           "name": "66",
           "type": "heatmap",
           "z": [
            [
             0.0017879553209116101,
             0.0028875630631488526,
             0.011504495146225199,
             0.003159252806643749,
             0.012568645769274675,
             0.010796707957461333,
             0.006448234533414431,
             0.0016526794545081642
            ],
            [
             0.0021899698594323933,
             0.011772050218811406,
             0.041651504996064063,
             0.010820358341250351,
             0.008893620354579879,
             0.03987206178499372,
             0.009658740285932757,
             0.0023450792819741323
            ],
            [
             0.002176114323491734,
             0.013650216345883438,
             0.03628769242378087,
             0.007752887084291107,
             0.01029206071297576,
             0.029252015081159835,
             0.00819722358002897,
             0.0017208735145550196
            ],
            [
             0.01023993330518253,
             0.009938517185996969,
             0.009739121181163917,
             0.009211783321347021,
             0.006160261049958008,
             0.01106118849183698,
             0.009960115865918554,
             0.0024207208790166233
            ],
            [
             0.010425674331672559,
             0.037095738361313545,
             0.009736484914478585,
             0.0028809811798144254,
             0.0036938933638609684,
             0.012443509156874095,
             0.04494756666518867,
             0.009323919199863032
            ],
            [
             0.011358574863089091,
             0.05417070324075567,
             0.05445776245265465,
             0.026241625713313562,
             0.020728811797274403,
             0.0469624450002878,
             0.04384280524694632,
             0.01296685364550476
            ],
            [
             0.004674478648901784,
             0.010439362008851698,
             0.037782809856994344,
             0.04014205608836727,
             0.04968277186339275,
             0.037205217003546315,
             0.013449118870259817,
             0.0025594994518057055
            ],
            [
             0.001470552131213519,
             0.0038108710845166727,
             0.009151708237288602,
             0.007980900415106079,
             0.006359719526672761,
             0.007792942674569925,
             0.00832770123468067,
             0.0018232982497248427
            ]
           ]
          }
         ],
         "layout": {
          "coloraxis": {
           "colorscale": [
            [
             0,
             "rgb(243, 231, 155)"
            ],
            [
             0.16666666666666666,
             "rgb(250, 196, 132)"
            ],
            [
             0.3333333333333333,
             "rgb(248, 160, 126)"
            ],
            [
             0.5,
             "rgb(235, 127, 134)"
            ],
            [
             0.6666666666666666,
             "rgb(206, 102, 147)"
            ],
            [
             0.8333333333333334,
             "rgb(160, 89, 160)"
            ],
            [
             1,
             "rgb(92, 83, 165)"
            ]
           ]
          },
          "height": 500,
          "margin": {
           "t": 60
          },
          "width": 500,
          "xaxis": {
           "constrain": "domain",
           "scaleanchor": "y"
          },
          "yaxis": {
           "autorange": "reversed",
           "constrain": "domain"
          }
         },
         "name": "66"
        },
        {
         "data": [
          {
           "coloraxis": "coloraxis",
           "name": "67",
           "type": "heatmap",
           "z": [
            [
             0.0016870412946748531,
             0.002860411117765632,
             0.011316387852306344,
             0.0029812047859902138,
             0.012712017069824007,
             0.011200084513313073,
             0.006076159141198213,
             0.0017103097194568412
            ],
            [
             0.002205479745179633,
             0.011383852528892105,
             0.04393631164044217,
             0.011076674023868024,
             0.008839059005944911,
             0.03866802745972558,
             0.009491247437704494,
             0.0022753782714073053
            ],
            [
             0.002098660260551878,
             0.01357888189813084,
             0.035958662992237385,
             0.007535241934331565,
             0.010221476797001167,
             0.02952103237934528,
             0.008143420775216905,
             0.0017105473991592096
            ],
            [
             0.010339567905510964,
             0.009280659975873025,
             0.009660805300367357,
             0.008778015789407073,
             0.006188770624556786,
             0.011119700449106894,
             0.00947323655229576,
             0.0023628471961882544
            ],
            [
             0.010422651689235765,
             0.03889199570736139,
             0.01006898503570316,
             0.0029422247751540935,
             0.0035961892267314644,
             0.012863976580149645,
             0.045040215679151625,
             0.009362085212119736
            ],
            [
             0.01121780350885726,
             0.0522866738641748,
             0.05581817398172958,
             0.02609463616836731,
             0.020316393754069146,
             0.04675031977607593,
             0.04474485612872888,
             0.012685092491433021
            ],
            [
             0.004622124489980686,
             0.010107433643270282,
             0.03860570811063659,
             0.0386418907884855,
             0.05144160917377814,
             0.03736490545072388,
             0.013046205411472894,
             0.0023748195745838837
            ],
            [
             0.001378350662761802,
             0.003719714909387684,
             0.009394194174572728,
             0.007688482230021957,
             0.0061265823928669284,
             0.007762960072503977,
             0.008477742105250161,
             0.0017538293936855264
            ]
           ]
          }
         ],
         "layout": {
          "coloraxis": {
           "colorscale": [
            [
             0,
             "rgb(243, 231, 155)"
            ],
            [
             0.16666666666666666,
             "rgb(250, 196, 132)"
            ],
            [
             0.3333333333333333,
             "rgb(248, 160, 126)"
            ],
            [
             0.5,
             "rgb(235, 127, 134)"
            ],
            [
             0.6666666666666666,
             "rgb(206, 102, 147)"
            ],
            [
             0.8333333333333334,
             "rgb(160, 89, 160)"
            ],
            [
             1,
             "rgb(92, 83, 165)"
            ]
           ]
          },
          "height": 500,
          "margin": {
           "t": 60
          },
          "width": 500,
          "xaxis": {
           "constrain": "domain",
           "scaleanchor": "y"
          },
          "yaxis": {
           "autorange": "reversed",
           "constrain": "domain"
          }
         },
         "name": "67"
        },
        {
         "data": [
          {
           "coloraxis": "coloraxis",
           "name": "68",
           "type": "heatmap",
           "z": [
            [
             0.0015424884388619514,
             0.002925771734607123,
             0.011082218238807163,
             0.002734157043242807,
             0.012677944472623355,
             0.01142505830347168,
             0.005763722040320263,
             0.0018071537344889947
            ],
            [
             0.0021598612989208173,
             0.010924383772951084,
             0.04518734659307228,
             0.01117792198486378,
             0.009004142477833016,
             0.03720876137979593,
             0.009309520655179355,
             0.002253755855017591
            ],
            [
             0.001925552776640442,
             0.013370973778087629,
             0.03494528965615327,
             0.007335979203005214,
             0.010348737012547096,
             0.030450053726234334,
             0.008144318801863644,
             0.0017356965868967743
            ],
            [
             0.010334230865949486,
             0.008708369362494011,
             0.009440743633440076,
             0.008302369561611105,
             0.006181640358207438,
             0.011375367369130009,
             0.0090350168708428,
             0.0022971517578757833
            ],
            [
             0.010384696833553746,
             0.04144937007880553,
             0.01030655581470903,
             0.0030558033443676405,
             0.0033961901544911767,
             0.013334777667194802,
             0.0449035205860722,
             0.009547087114095019
            ],
            [
             0.010976856709788138,
             0.0499216058300381,
             0.05695161489594529,
             0.026034929499122107,
             0.019905617104480546,
             0.046212936894391356,
             0.04519788862007285,
             0.012226987218783746
            ],
            [
             0.004644873784342803,
             0.009748754690639162,
             0.038980272645783916,
             0.03756637529115766,
             0.05406397172605484,
             0.03891762846387285,
             0.012557221182226408,
             0.002287341780587512
            ],
            [
             0.001278501935948896,
             0.0035995691551859027,
             0.00982834155963896,
             0.007407552369055005,
             0.006070234213275199,
             0.007692983971347732,
             0.008708597220617837,
             0.0017256422993164237
            ]
           ]
          }
         ],
         "layout": {
          "coloraxis": {
           "colorscale": [
            [
             0,
             "rgb(243, 231, 155)"
            ],
            [
             0.16666666666666666,
             "rgb(250, 196, 132)"
            ],
            [
             0.3333333333333333,
             "rgb(248, 160, 126)"
            ],
            [
             0.5,
             "rgb(235, 127, 134)"
            ],
            [
             0.6666666666666666,
             "rgb(206, 102, 147)"
            ],
            [
             0.8333333333333334,
             "rgb(160, 89, 160)"
            ],
            [
             1,
             "rgb(92, 83, 165)"
            ]
           ]
          },
          "height": 500,
          "margin": {
           "t": 60
          },
          "width": 500,
          "xaxis": {
           "constrain": "domain",
           "scaleanchor": "y"
          },
          "yaxis": {
           "autorange": "reversed",
           "constrain": "domain"
          }
         },
         "name": "68"
        },
        {
         "data": [
          {
           "coloraxis": "coloraxis",
           "name": "69",
           "type": "heatmap",
           "z": [
            [
             0.0013872436892257897,
             0.003028404235153143,
             0.010797141505741273,
             0.0024789066409199524,
             0.012427791233279362,
             0.011475052928084699,
             0.0055331181833884035,
             0.0019075966605525026
            ],
            [
             0.0020791465642965427,
             0.010427425567519428,
             0.045359277357057935,
             0.011122284551797845,
             0.009288187248080454,
             0.03576059185671107,
             0.00911590260019329,
             0.0022555415439816525
            ],
            [
             0.0017082163840379033,
             0.013092716356367667,
             0.03367083902732596,
             0.007175761638964787,
             0.010579780673761538,
             0.03177353975528637,
             0.008190674337053899,
             0.001759706282548853
            ],
            [
             0.010198395244313357,
             0.00828015752075019,
             0.009125589214865955,
             0.00786620590233937,
             0.00616858495294414,
             0.011751887714320045,
             0.008709895786265355,
             0.0022551449706057444
            ],
            [
             0.010318554004757787,
             0.04420770046129794,
             0.01039421945217664,
             0.003181576488591186,
             0.003148594948801915,
             0.013732239090481805,
             0.04431169263195019,
             0.009831087390335233
            ],
            [
             0.010669225127250352,
             0.047620732029339544,
             0.057689019682242985,
             0.026086932339547092,
             0.019660960306670135,
             0.04572708556233598,
             0.04533123074364352,
             0.01169633568659239
            ],
            [
             0.004697281400039685,
             0.00936200448137317,
             0.03909951599112045,
             0.036894194087520905,
             0.05703957244451307,
             0.041552124687595816,
             0.01202481111668797,
             0.002283852900834774
            ],
            [
             0.0011908353616059458,
             0.0034819885938581286,
             0.01037406434606684,
             0.007194181949199759,
             0.006174880450077257,
             0.00758423522820819,
             0.00896829522045994,
             0.001720267667088358
            ]
           ]
          }
         ],
         "layout": {
          "coloraxis": {
           "colorscale": [
            [
             0,
             "rgb(243, 231, 155)"
            ],
            [
             0.16666666666666666,
             "rgb(250, 196, 132)"
            ],
            [
             0.3333333333333333,
             "rgb(248, 160, 126)"
            ],
            [
             0.5,
             "rgb(235, 127, 134)"
            ],
            [
             0.6666666666666666,
             "rgb(206, 102, 147)"
            ],
            [
             0.8333333333333334,
             "rgb(160, 89, 160)"
            ],
            [
             1,
             "rgb(92, 83, 165)"
            ]
           ]
          },
          "height": 500,
          "margin": {
           "t": 60
          },
          "width": 500,
          "xaxis": {
           "constrain": "domain",
           "scaleanchor": "y"
          },
          "yaxis": {
           "autorange": "reversed",
           "constrain": "domain"
          }
         },
         "name": "69"
        },
        {
         "data": [
          {
           "coloraxis": "coloraxis",
           "name": "70",
           "type": "heatmap",
           "z": [
            [
             0.0012479112911678472,
             0.0031290647009974627,
             0.010457378538755736,
             0.002264803609775736,
             0.011981860841436489,
             0.011395578891390711,
             0.0053877910637093,
             0.0019752001920295085
            ],
            [
             0.001985483464109433,
             0.009946821920253332,
             0.04475329389968864,
             0.010976326399030586,
             0.009592002106579694,
             0.03453429013432391,
             0.008939524045819505,
             0.0022414791664867114
            ],
            [
             0.0014982592957959206,
             0.012769828293915955,
             0.032413008794626996,
             0.007103625397835495,
             0.010822851832607604,
             0.0330949144000019,
             0.008279773158209288,
             0.0017552651356051577
            ],
            [
             0.009969107270829712,
             0.008026529932198507,
             0.008755855062345528,
             0.007501697534355173,
             0.006184590919909939,
             0.012131274035656413,
             0.008510181665331304,
             0.0022592415601410598
            ],
            [
             0.010225533934532922,
             0.04660524991144138,
             0.010352319488705231,
             0.003283716534975641,
             0.0029203546913431273,
             0.013948871279638337,
             0.04317769408947165,
             0.010180642745008028
            ],
            [
             0.01034311117240402,
             0.04579514876424504,
             0.05784099795269881,
             0.026207163073292516,
             0.01970968388995383,
             0.045519066903473224,
             0.04536535390633707,
             0.011189303276390089
            ],
            [
             0.004724984969715209,
             0.008974825261746765,
             0.03937788022238858,
             0.03666875925102017,
             0.05986445695493041,
             0.044765661550146524,
             0.011476728497470884,
             0.0023379778369487505
            ],
            [
             0.0011282834761368273,
             0.0033955047863337903,
             0.010924809120664904,
             0.007063161655270667,
             0.00639587154206183,
             0.007450942467607912,
             0.009185494476832121,
             0.0017156317618919545
            ]
           ]
          }
         ],
         "layout": {
          "coloraxis": {
           "colorscale": [
            [
             0,
             "rgb(243, 231, 155)"
            ],
            [
             0.16666666666666666,
             "rgb(250, 196, 132)"
            ],
            [
             0.3333333333333333,
             "rgb(248, 160, 126)"
            ],
            [
             0.5,
             "rgb(235, 127, 134)"
            ],
            [
             0.6666666666666666,
             "rgb(206, 102, 147)"
            ],
            [
             0.8333333333333334,
             "rgb(160, 89, 160)"
            ],
            [
             1,
             "rgb(92, 83, 165)"
            ]
           ]
          },
          "height": 500,
          "margin": {
           "t": 60
          },
          "width": 500,
          "xaxis": {
           "constrain": "domain",
           "scaleanchor": "y"
          },
          "yaxis": {
           "autorange": "reversed",
           "constrain": "domain"
          }
         },
         "name": "70"
        },
        {
         "data": [
          {
           "coloraxis": "coloraxis",
           "name": "71",
           "type": "heatmap",
           "z": [
            [
             0.0011457683219764103,
             0.0031866544555298254,
             0.010052748238875715,
             0.0021311428852662352,
             0.01143381711457259,
             0.011288736606016661,
             0.0053020010166128185,
             0.0019731979004631423
            ],
            [
             0.001903450492337909,
             0.009540010337850138,
             0.044057210523876955,
             0.010877304330322121,
             0.009790016884702896,
             0.03369716674230477,
             0.0088290442950007,
             0.002157263576782442
            ],
            [
             0.0013452739490765933,
             0.012431473107092424,
             0.03147000592992929,
             0.0071748603754455045,
             0.010976480896058413,
             0.03386979346950782,
             0.008394498269824564,
             0.0017030766991087453
            ],
            [
             0.009732227027221874,
             0.007946249167208628,
             0.008387569124293741,
             0.007218121650060874,
             0.006270697650905789,
             0.012339776473615937,
             0.008404682782239993,
             0.002325105285056349
            ],
            [
             0.010107613085712378,
             0.048094336631493324,
             0.010272540791281093,
             0.003328630967730194,
             0.0027836591305725406,
             0.013923558290272312,
             0.04151960499034094,
             0.010557958608685603
            ],
            [
             0.010075988722093714,
             0.044809077007714776,
             0.05729447218361493,
             0.026305892448730713,
             0.02012310454621613,
             0.04578698751952409,
             0.04558589392856989,
             0.01082815119742776
            ],
            [
             0.004666840918020212,
             0.008614994200403521,
             0.04041963366007897,
             0.03683154784463388,
             0.06206257189391806,
             0.04758785923898846,
             0.010937596908246338,
             0.002393749209701922
            ],
            [
             0.0011001981678514308,
             0.0033654917566745264,
             0.011333177510452722,
             0.0070086507790789844,
             0.006635467191056642,
             0.007319213003805995,
             0.009285467788740504,
             0.001684644299228517
            ]
           ]
          }
         ],
         "layout": {
          "coloraxis": {
           "colorscale": [
            [
             0,
             "rgb(243, 231, 155)"
            ],
            [
             0.16666666666666666,
             "rgb(250, 196, 132)"
            ],
            [
             0.3333333333333333,
             "rgb(248, 160, 126)"
            ],
            [
             0.5,
             "rgb(235, 127, 134)"
            ],
            [
             0.6666666666666666,
             "rgb(206, 102, 147)"
            ],
            [
             0.8333333333333334,
             "rgb(160, 89, 160)"
            ],
            [
             1,
             "rgb(92, 83, 165)"
            ]
           ]
          },
          "height": 500,
          "margin": {
           "t": 60
          },
          "width": 500,
          "xaxis": {
           "constrain": "domain",
           "scaleanchor": "y"
          },
          "yaxis": {
           "autorange": "reversed",
           "constrain": "domain"
          }
         },
         "name": "71"
        },
        {
         "data": [
          {
           "coloraxis": "coloraxis",
           "name": "72",
           "type": "heatmap",
           "z": [
            [
             0.0010873601478300176,
             0.0031823975884775805,
             0.00959569388819197,
             0.002076751121179974,
             0.010896036699650351,
             0.011197211739698586,
             0.005247956276614886,
             0.0018976457295984848
            ],
            [
             0.0018444872682630278,
             0.009233954147365872,
             0.04373791568175027,
             0.01089193955690957,
             0.009837950446772983,
             0.03339967791434213,
             0.008805808241927683,
             0.001996530516131997
            ],
            [
             0.0012671371776536422,
             0.012104781756017329,
             0.03101524941690601,
             0.007390770338267068,
             0.01100092627769263,
             0.0338767612573915,
             0.008498546355850338,
             0.00161214827136861
            ],
            [
             0.009544145246869036,
             0.008018730778018061,
             0.008063010043550962,
             0.007013844399131144,
             0.006422876223274873,
             0.012278439626497044,
             0.008360848465491294,
             0.0024377406278371164
            ],
            [
             0.009961730814728023,
             0.0485937229910545,
             0.010227609238144779,
             0.003296932897268771,
             0.002758077475722137,
             0.013697416008738018,
             0.03961908521281694,
             0.010919304177290347
            ],
            [
             0.009928169807321354,
             0.04477263901927587,
             0.05608388390226359,
             0.02633915166703739,
             0.020848864182788168,
             0.04653446840948634,
             0.045981940696552495,
             0.010675579103854582
            ],
            [
             0.004509634720975363,
             0.008318201330320085,
             0.0423958926019958,
             0.037259223940229826,
             0.06340903083889317,
             0.04926737096581928,
             0.010463103319791283,
             0.002405827240923636
            ],
            [
             0.0011085275744859117,
             0.003387009701476699,
             0.011504946761704275,
             0.007016466154775431,
             0.006815713841612767,
             0.007199565138468606,
             0.009241675635753727,
             0.001623961401908045
            ]
           ]
          }
         ],
         "layout": {
          "coloraxis": {
           "colorscale": [
            [
             0,
             "rgb(243, 231, 155)"
            ],
            [
             0.16666666666666666,
             "rgb(250, 196, 132)"
            ],
            [
             0.3333333333333333,
             "rgb(248, 160, 126)"
            ],
            [
             0.5,
             "rgb(235, 127, 134)"
            ],
            [
             0.6666666666666666,
             "rgb(206, 102, 147)"
            ],
            [
             0.8333333333333334,
             "rgb(160, 89, 160)"
            ],
            [
             1,
             "rgb(92, 83, 165)"
            ]
           ]
          },
          "height": 500,
          "margin": {
           "t": 60
          },
          "width": 500,
          "xaxis": {
           "constrain": "domain",
           "scaleanchor": "y"
          },
          "yaxis": {
           "autorange": "reversed",
           "constrain": "domain"
          }
         },
         "name": "72"
        },
        {
         "data": [
          {
           "coloraxis": "coloraxis",
           "name": "73",
           "type": "heatmap",
           "z": [
            [
             0.0010710757112121537,
             0.003081079144560575,
             0.009120079425384361,
             0.0020690305349523293,
             0.010444879490335372,
             0.011106072302652857,
             0.005198366126278363,
             0.001776149188008579
            ],
            [
             0.0018271772797506059,
             0.009004031128035207,
             0.043963319369538546,
             0.010974917736667512,
             0.009747362136361078,
             0.03376892408247363,
             0.008808898021797856,
             0.0018135304744209418
            ],
            [
             0.0012675406435801887,
             0.011862807724985372,
             0.03138511066106986,
             0.007643032026931022,
             0.01091755608778716,
             0.03352552122705107,
             0.00850937500487474,
             0.0015114113218525683
            ],
            [
             0.009397883782783573,
             0.008188290993860018,
             0.007841630158917713,
             0.006932345319983932,
             0.006594566774916798,
             0.01199396669711053,
             0.00836174120384932,
             0.002551551348679403
            ],
            [
             0.00976122651086024,
             0.04843351262327128,
             0.010206926526334793,
             0.003174032201561031,
             0.0027976215700955746,
             0.013414081147794302,
             0.037872342160667614,
             0.01118438761853541
            ],
            [
             0.009922216561893998,
             0.04561179264188083,
             0.05436518969115808,
             0.026372301169636774,
             0.02174518836816679,
             0.04761899530130136,
             0.04624706124019036,
             0.010751173534935057
            ],
            [
             0.0042735893808955976,
             0.008081363672543898,
             0.04470819683064121,
             0.03749613817599701,
             0.06388459637043394,
             0.04948384726511497,
             0.01015361295693268,
             0.0023488008602695638
            ],
            [
             0.001154564301836834,
             0.003423541628104193,
             0.011429637693989076,
             0.0071039027724889015,
             0.006922821365027883,
             0.007109922502897412,
             0.00913146873131446,
             0.0015567234925651379
            ]
           ]
          }
         ],
         "layout": {
          "coloraxis": {
           "colorscale": [
            [
             0,
             "rgb(243, 231, 155)"
            ],
            [
             0.16666666666666666,
             "rgb(250, 196, 132)"
            ],
            [
             0.3333333333333333,
             "rgb(248, 160, 126)"
            ],
            [
             0.5,
             "rgb(235, 127, 134)"
            ],
            [
             0.6666666666666666,
             "rgb(206, 102, 147)"
            ],
            [
             0.8333333333333334,
             "rgb(160, 89, 160)"
            ],
            [
             1,
             "rgb(92, 83, 165)"
            ]
           ]
          },
          "height": 500,
          "margin": {
           "t": 60
          },
          "width": 500,
          "xaxis": {
           "constrain": "domain",
           "scaleanchor": "y"
          },
          "yaxis": {
           "autorange": "reversed",
           "constrain": "domain"
          }
         },
         "name": "73"
        },
        {
         "data": [
          {
           "coloraxis": "coloraxis",
           "name": "74",
           "type": "heatmap",
           "z": [
            [
             0.0010870474478768231,
             0.00289999147309501,
             0.008691639552731023,
             0.0020762126255320754,
             0.01013373045397085,
             0.01097184731392692,
             0.0051517756402918976,
             0.001644453945376193
            ],
            [
             0.001844722761305954,
             0.00885761359391184,
             0.044665289259945694,
             0.011057121259026933,
             0.009570417851226216,
             0.03479590113867914,
             0.008809268784978426,
             0.0016580125919188756
            ],
            [
             0.0013310820106883048,
             0.01170836903499142,
             0.032518334805744474,
             0.007843253468413164,
             0.010763084894210158,
             0.033140782867099615,
             0.008391654043039133,
             0.0014268291990420746
            ],
            [
             0.009289845854888611,
             0.008405674730730804,
             0.007736294562894773,
             0.006969161058760264,
             0.006725163924948017,
             0.011570715363976367,
             0.00838027931730065,
             0.0026167467500186944
            ],
            [
             0.009512811066999357,
             0.04800789472781174,
             0.010193744979138174,
             0.002977172828399153,
             0.002852631906456614,
             0.013165647405442724,
             0.036723605083870764,
             0.011299296340471734
            ],
            [
             0.01003554575407737,
             0.047080520393472554,
             0.05247733996238531,
             0.02647650369015712,
             0.022633376300287177,
             0.048692461206261556,
             0.04614652301507131,
             0.01099446225952297
            ],
            [
             0.0040072703474130856,
             0.007934128312689293,
             0.04670722599602926,
             0.037490698864709335,
             0.06360144032722316,
             0.04841112144202565,
             0.010056359843573257,
             0.0022352723610480677
            ],
            [
             0.0012279585542681424,
             0.0034381445817638213,
             0.011138874963672647,
             0.007249697704477658,
             0.006954181036638521,
             0.007049772293819159,
             0.0089905145929862,
             0.0015054842772954241
            ]
           ]
          }
         ],
         "layout": {
          "coloraxis": {
           "colorscale": [
            [
             0,
             "rgb(243, 231, 155)"
            ],
            [
             0.16666666666666666,
             "rgb(250, 196, 132)"
            ],
            [
             0.3333333333333333,
             "rgb(248, 160, 126)"
            ],
            [
             0.5,
             "rgb(235, 127, 134)"
            ],
            [
             0.6666666666666666,
             "rgb(206, 102, 147)"
            ],
            [
             0.8333333333333334,
             "rgb(160, 89, 160)"
            ],
            [
             1,
             "rgb(92, 83, 165)"
            ]
           ]
          },
          "height": 500,
          "margin": {
           "t": 60
          },
          "width": 500,
          "xaxis": {
           "constrain": "domain",
           "scaleanchor": "y"
          },
          "yaxis": {
           "autorange": "reversed",
           "constrain": "domain"
          }
         },
         "name": "74"
        },
        {
         "data": [
          {
           "coloraxis": "coloraxis",
           "name": "75",
           "type": "heatmap",
           "z": [
            [
             0.0011164131309554439,
             0.0027061180469025816,
             0.008415841789757593,
             0.0020734571642358627,
             0.009998613639635286,
             0.010749636018645549,
             0.0051415685815595575,
             0.0015375779933553913
            ],
            [
             0.001863152379422464,
             0.008851432167156772,
             0.04551932139484707,
             0.011074420128525853,
             0.009380194546093913,
             0.0362139777077702,
             0.008817477379217682,
             0.0015677869868802022
            ],
            [
             0.001422656106087691,
             0.011572557453059615,
             0.03395217746042118,
             0.007951568138652372,
             0.010609063029106747,
             0.03299682650933055,
             0.00817287390465331,
             0.0013854503166043054
            ],
            [
             0.009234425185926967,
             0.008618072924901004,
             0.007736679729925469,
             0.007084977827727112,
             0.006755372002761108,
             0.011120435794448262,
             0.008371145103243837,
             0.002586118211935773
            ],
            [
             0.00924841710035926,
             0.04759407889649745,
             0.010155751807158324,
             0.002760755933179568,
             0.0028680665925814026,
             0.012973008121079321,
             0.0366545587168079,
             0.011242028912659217
            ],
            [
             0.010172819488326452,
             0.04875226682508314,
             0.05091818695367984,
             0.026736604650226533,
             0.023347456289823803,
             0.04912241846457651,
             0.045661661025582966,
             0.011266909422035839
            ],
            [
             0.0037728029854847286,
             0.007927151486091214,
             0.047784723776071715,
             0.037632634801183985,
             0.06284405727424669,
             0.046649741300229725,
             0.010158575867131519,
             0.002109609753081095
            ],
            [
             0.0013024019614104952,
             0.0033967973087273094,
             0.010695902136768715,
             0.007382922499622257,
             0.0069211387287248325,
             0.007027902818629253,
             0.008831885172147565,
             0.0014893741770437036
            ]
           ]
          }
         ],
         "layout": {
          "coloraxis": {
           "colorscale": [
            [
             0,
             "rgb(243, 231, 155)"
            ],
            [
             0.16666666666666666,
             "rgb(250, 196, 132)"
            ],
            [
             0.3333333333333333,
             "rgb(248, 160, 126)"
            ],
            [
             0.5,
             "rgb(235, 127, 134)"
            ],
            [
             0.6666666666666666,
             "rgb(206, 102, 147)"
            ],
            [
             0.8333333333333334,
             "rgb(160, 89, 160)"
            ],
            [
             1,
             "rgb(92, 83, 165)"
            ]
           ]
          },
          "height": 500,
          "margin": {
           "t": 60
          },
          "width": 500,
          "xaxis": {
           "constrain": "domain",
           "scaleanchor": "y"
          },
          "yaxis": {
           "autorange": "reversed",
           "constrain": "domain"
          }
         },
         "name": "75"
        },
        {
         "data": [
          {
           "coloraxis": "coloraxis",
           "name": "76",
           "type": "heatmap",
           "z": [
            [
             0.0011417467424501746,
             0.0025507941819812186,
             0.008377209716555194,
             0.002046685608518886,
             0.010021053217106375,
             0.010415097944819438,
             0.005205670858435559,
             0.0014722956850334258
            ],
            [
             0.0018494383798137982,
             0.009019598590700659,
             0.04604659667101528,
             0.010950438767492271,
             0.009240633553528652,
             0.03772822140190225,
             0.00881600064007631,
             0.0015643214488852823
            ],
            [
             0.0014993762414370843,
             0.01140540869991364,
             0.03525177099168486,
             0.007948117713202607,
             0.010531236785467886,
             0.033423716664026756,
             0.007908146136791461,
             0.0014022960105123236
            ],
            [
             0.009230392827585686,
             0.008782902721001493,
             0.007821895554994377,
             0.007260510363187716,
             0.006641657036309053,
             0.010769056907012523,
             0.008326762993610536,
             0.002438618522926344
            ],
            [
             0.008986584905023118,
             0.047286054541594805,
             0.010019085014648274,
             0.0025702220730191524,
             0.0027924546190161146,
             0.012812030297367244,
             0.03795953042953805,
             0.010998622873251223
            ],
            [
             0.010215107756662655,
             0.05029108496315934,
             0.050056337921264384,
             0.027190596751389035,
             0.02381496216464464,
             0.048497064322950006,
             0.04497487884105684,
             0.011426146433582859
            ],
            [
             0.0036049268227670074,
             0.008078397312591478,
             0.04740098197290717,
             0.03826303910054732,
             0.061889223246505184,
             0.044974683699730816,
             0.010426927524081999,
             0.00201417282872413
            ],
            [
             0.0013491263779097636,
             0.003280430287021409,
             0.010182516684687302,
             0.007436735643942157,
             0.006864677796614346,
             0.0070601596044914325,
             0.008681228304921261,
             0.0015143393064091723
            ]
           ]
          }
         ],
         "layout": {
          "coloraxis": {
           "colorscale": [
            [
             0,
             "rgb(243, 231, 155)"
            ],
            [
             0.16666666666666666,
             "rgb(250, 196, 132)"
            ],
            [
             0.3333333333333333,
             "rgb(248, 160, 126)"
            ],
            [
             0.5,
             "rgb(235, 127, 134)"
            ],
            [
             0.6666666666666666,
             "rgb(206, 102, 147)"
            ],
            [
             0.8333333333333334,
             "rgb(160, 89, 160)"
            ],
            [
             1,
             "rgb(92, 83, 165)"
            ]
           ]
          },
          "height": 500,
          "margin": {
           "t": 60
          },
          "width": 500,
          "xaxis": {
           "constrain": "domain",
           "scaleanchor": "y"
          },
          "yaxis": {
           "autorange": "reversed",
           "constrain": "domain"
          }
         },
         "name": "76"
        },
        {
         "data": [
          {
           "coloraxis": "coloraxis",
           "name": "77",
           "type": "heatmap",
           "z": [
            [
             0.0011530893441290546,
             0.0024723870999952043,
             0.00860687955775153,
             0.0020035660978131834,
             0.010172819243068015,
             0.009975539941326926,
             0.005374381589105494,
             0.0014436204427491937
            ],
            [
             0.0017735163832267458,
             0.00939254624317727,
             0.04586750982516026,
             0.010676773726066333,
             0.009165170334273243,
             0.03906790581648244,
             0.00882419304657931,
             0.0016376956867398453
            ],
            [
             0.0015305726668371528,
             0.011166687743972496,
             0.03599313179577687,
             0.00787475239605485,
             0.010543074906103558,
             0.034377552589281615,
             0.007662165087444701,
             0.0014758960624341269
            ],
            [
             0.009265238721746685,
             0.008898431365977573,
             0.007964669528632638,
             0.007452681085318147,
             0.006383630036753306,
             0.010540954871759925,
             0.008254992932677329,
             0.002196769410519292
            ],
            [
             0.008760353545639152,
             0.04690253840380098,
             0.009744066616220615,
             0.0024346537933888834,
             0.0026344692705398813,
             0.012597557567105112,
             0.040710118938601735,
             0.010588897758369476
            ],
            [
             0.010086048100803954,
             0.05155098747710572,
             0.0501124311083693,
             0.027828498317420194,
             0.024044034066227706,
             0.046828643334146734,
             0.044311710571984526,
             0.011394640903029753
            ],
            [
             0.0035155749537855046,
             0.008401071579587248,
             0.045680066196184546,
             0.0397847341077335,
             0.06086965193113311,
             0.04382820029530132,
             0.010781131037753949,
             0.0019731981289151652
            ],
            [
             0.0013458301523168932,
             0.003094201669048795,
             0.009634229510260698,
             0.0073600501896729726,
             0.006797990965561993,
             0.007135783006803992,
             0.008511674008387959,
             0.00156816691586346
            ]
           ]
          }
         ],
         "layout": {
          "coloraxis": {
           "colorscale": [
            [
             0,
             "rgb(243, 231, 155)"
            ],
            [
             0.16666666666666666,
             "rgb(250, 196, 132)"
            ],
            [
             0.3333333333333333,
             "rgb(248, 160, 126)"
            ],
            [
             0.5,
             "rgb(235, 127, 134)"
            ],
            [
             0.6666666666666666,
             "rgb(206, 102, 147)"
            ],
            [
             0.8333333333333334,
             "rgb(160, 89, 160)"
            ],
            [
             1,
             "rgb(92, 83, 165)"
            ]
           ]
          },
          "height": 500,
          "margin": {
           "t": 60
          },
          "width": 500,
          "xaxis": {
           "constrain": "domain",
           "scaleanchor": "y"
          },
          "yaxis": {
           "autorange": "reversed",
           "constrain": "domain"
          }
         },
         "name": "77"
        },
        {
         "data": [
          {
           "coloraxis": "coloraxis",
           "name": "78",
           "type": "heatmap",
           "z": [
            [
             0.001151675441742858,
             0.002463128654583947,
             0.00907679997594766,
             0.0019765734394888873,
             0.010368368788789706,
             0.00953230081597275,
             0.005636403634442932,
             0.0014325298175789105
            ],
            [
             0.0016467698708251567,
             0.009910267526881152,
             0.0448185949140387,
             0.010297835103500274,
             0.009078645371778086,
             0.03989751578316918,
             0.008818319662424782,
             0.0017547499683801828
            ],
            [
             0.0015097387983131075,
             0.01093806705887288,
             0.03621680144817595,
             0.007746044427715827,
             0.010581848714168543,
             0.035621575983685975,
             0.007494584283435966,
             0.001573420279737846
            ],
            [
             0.009278706200167243,
             0.008953646537622541,
             0.00815645636851948,
             0.007650815669964889,
             0.006049673124224378,
             0.010449713809584638,
             0.008208907244289939,
             0.0019375682981760624
            ],
            [
             0.008625332889267768,
             0.04596970226438196,
             0.009309538433002721,
             0.002370245080705138,
             0.0024474770005833853,
             0.012240727907326183,
             0.04430174246825714,
             0.010044772134591077
            ],
            [
             0.009770842561154385,
             0.05256541342853632,
             0.05124702617574742,
             0.028573450306982086,
             0.024105695174338693,
             0.04487353707674065,
             0.04403318345144078,
             0.01119675832212708
            ],
            [
             0.0034890974246614675,
             0.00879753459661196,
             0.043152215280830464,
             0.04201927769943919,
             0.059757399597512396,
             0.04342093401877727,
             0.011097966502569888,
             0.00199276887547443
            ],
            [
             0.0012863408644154545,
             0.0028790162879585635,
             0.009111953777387315,
             0.007184558404003941,
             0.006729123902582472,
             0.007239476848801021,
             0.008326141632558789,
             0.0016127025950308605
            ]
           ]
          }
         ],
         "layout": {
          "coloraxis": {
           "colorscale": [
            [
             0,
             "rgb(243, 231, 155)"
            ],
            [
             0.16666666666666666,
             "rgb(250, 196, 132)"
            ],
            [
             0.3333333333333333,
             "rgb(248, 160, 126)"
            ],
            [
             0.5,
             "rgb(235, 127, 134)"
            ],
            [
             0.6666666666666666,
             "rgb(206, 102, 147)"
            ],
            [
             0.8333333333333334,
             "rgb(160, 89, 160)"
            ],
            [
             1,
             "rgb(92, 83, 165)"
            ]
           ]
          },
          "height": 500,
          "margin": {
           "t": 60
          },
          "width": 500,
          "xaxis": {
           "constrain": "domain",
           "scaleanchor": "y"
          },
          "yaxis": {
           "autorange": "reversed",
           "constrain": "domain"
          }
         },
         "name": "78"
        },
        {
         "data": [
          {
           "coloraxis": "coloraxis",
           "name": "79",
           "type": "heatmap",
           "z": [
            [
             0.0011450446299399928,
             0.002489635606397149,
             0.009685718730558337,
             0.0019817027502961075,
             0.010540579071424744,
             0.00915519294245127,
             0.005936548999269157,
             0.001418697586081769
            ],
            [
             0.0015022136426362995,
             0.010472379177887193,
             0.0432552321693016,
             0.009885334421381873,
             0.008935502699277356,
             0.040261219551123675,
             0.008776860686720962,
             0.0018730362173540668
            ],
            [
             0.0014572847274315856,
             0.010774586171195815,
             0.03616117358240294,
             0.007586228439136626,
             0.010580624104288117,
             0.036801058420555526,
             0.007414592496021794,
             0.001656835602015623
            ],
            [
             0.009249853323034827,
             0.00895716339180797,
             0.008363270318789813,
             0.007839701746031661,
             0.005707019507732539,
             0.010450400148273663,
             0.00821607190260526,
             0.001713558019380727
            ],
            [
             0.00858553042201471,
             0.0443981072608966,
             0.008784467816388093,
             0.0023543647597412546,
             0.0022834357127132624,
             0.011749354185878306,
             0.048005578637522375,
             0.009430381531751499
            ],
            [
             0.009353741265704063,
             0.05349270617729417,
             0.05320320680738628,
             0.029275753059165074,
             0.024087450476471973,
             0.043262997633555456,
             0.04426409020751035,
             0.010918416171896438
            ],
            [
             0.003488112197907167,
             0.009171046790647903,
             0.04049371962377517,
             0.04452357325404441,
             0.05848652385494538,
             0.04358368165053633,
             0.011318711028378193,
             0.0020485934628977514
            ],
            [
             0.0011923743365748949,
             0.0026796993000384535,
             0.008637820227679458,
             0.006962418137643349,
             0.0066475344608702995,
             0.007341251029668461,
             0.008112446911477902,
             0.0016185908242178095
            ]
           ]
          }
         ],
         "layout": {
          "coloraxis": {
           "colorscale": [
            [
             0,
             "rgb(243, 231, 155)"
            ],
            [
             0.16666666666666666,
             "rgb(250, 196, 132)"
            ],
            [
             0.3333333333333333,
             "rgb(248, 160, 126)"
            ],
            [
             0.5,
             "rgb(235, 127, 134)"
            ],
            [
             0.6666666666666666,
             "rgb(206, 102, 147)"
            ],
            [
             0.8333333333333334,
             "rgb(160, 89, 160)"
            ],
            [
             1,
             "rgb(92, 83, 165)"
            ]
           ]
          },
          "height": 500,
          "margin": {
           "t": 60
          },
          "width": 500,
          "xaxis": {
           "constrain": "domain",
           "scaleanchor": "y"
          },
          "yaxis": {
           "autorange": "reversed",
           "constrain": "domain"
          }
         },
         "name": "79"
        },
        {
         "data": [
          {
           "coloraxis": "coloraxis",
           "name": "80",
           "type": "heatmap",
           "z": [
            [
             0.0011438986831168157,
             0.0024889667023969696,
             0.010319607542828691,
             0.0020322259901097064,
             0.010588717092977463,
             0.008908439901865585,
             0.006213432219922671,
             0.0013850161047630797
            ],
            [
             0.0013838996984315282,
             0.010925584070672473,
             0.04150655191345712,
             0.009471370000785038,
             0.008690867192896792,
             0.040306859694016796,
             0.008632520018938605,
             0.0019617586806082586
            ],
            [
             0.0013963742474531965,
             0.010777528269135288,
             0.036392070947652115,
             0.007380521214164636,
             0.010492628881544673,
             0.0378135628284454,
             0.007411759438827909,
             0.0016821710753760302
            ],
            [
             0.009146914798289548,
             0.008914561672976646,
             0.008563934762497534,
             0.008073342916779342,
             0.00542083529317034,
             0.010542964403340804,
             0.008335513729958754,
             0.0015625544774042844
            ],
            [
             0.00862230288825213,
             0.04222243040675747,
             0.008205773474124118,
             0.002355058816354252,
             0.002161670662061705,
             0.011177680468085337,
             0.0508274338909355,
             0.00879937915415123
            ],
            [
             0.008927201693913643,
             0.054586411800993606,
             0.055600846500364634,
             0.02981834547647031,
             0.024123250255522432,
             0.042644218452454065,
             0.045116692570627816,
             0.010669722872332598
            ],
            [
             0.003471187234981286,
             0.009374044311332794,
             0.03803798671507848,
             0.046450240202668226,
             0.05702765988895436,
             0.04418301997594274,
             0.011435269121462139,
             0.0021176527718933477
            ],
            [
             0.0010932961260136226,
             0.0025330345674329196,
             0.008261400098692712,
             0.006789992701668525,
             0.006576094201093444,
             0.007435094324203047,
             0.007919448561184327,
             0.0015692053491923328
            ]
           ]
          }
         ],
         "layout": {
          "coloraxis": {
           "colorscale": [
            [
             0,
             "rgb(243, 231, 155)"
            ],
            [
             0.16666666666666666,
             "rgb(250, 196, 132)"
            ],
            [
             0.3333333333333333,
             "rgb(248, 160, 126)"
            ],
            [
             0.5,
             "rgb(235, 127, 134)"
            ],
            [
             0.6666666666666666,
             "rgb(206, 102, 147)"
            ],
            [
             0.8333333333333334,
             "rgb(160, 89, 160)"
            ],
            [
             1,
             "rgb(92, 83, 165)"
            ]
           ]
          },
          "height": 500,
          "margin": {
           "t": 60
          },
          "width": 500,
          "xaxis": {
           "constrain": "domain",
           "scaleanchor": "y"
          },
          "yaxis": {
           "autorange": "reversed",
           "constrain": "domain"
          }
         },
         "name": "80"
        },
        {
         "data": [
          {
           "coloraxis": "coloraxis",
           "name": "81",
           "type": "heatmap",
           "z": [
            [
             0.0011583357006863728,
             0.002431837648614847,
             0.010858862365041456,
             0.0021403234916240886,
             0.010472648428585607,
             0.008822963009059649,
             0.0064165406251609994,
             0.0013180244142087843
            ],
            [
             0.0013112593826746352,
             0.01117303933159713,
             0.039957245055134226,
             0.009106773358536295,
             0.008346294383791645,
             0.040321641777078594,
             0.008401742226487137,
             0.0019809646936358198
            ],
            [
             0.0013435789136628437,
             0.010971403670817306,
             0.03705424911289317,
             0.0071793753167682115,
             0.010272012872111703,
             0.038206586349174516,
             0.007494124474669286,
             0.0016148742639248404
            ],
            [
             0.00899065807997372,
             0.008870391210686038,
             0.008696161934446655,
             0.008343434263152063,
             0.0052340806234038514,
             0.010660325824413334,
             0.008606498241719999,
             0.0015038483140154932
            ],
            [
             0.008731318444794424,
             0.03965698331916577,
             0.0076637433698676476,
             0.0023389965843554966,
             0.002111357634903984,
             0.010565594360082817,
             0.052045275731779625,
             0.008220514781359147
            ],
            [
             0.008594991413920736,
             0.05606932912547099,
             0.05795968365135647,
             0.030067337302976425,
             0.024312270554134346,
             0.04343992000285459,
             0.04666573702447229,
             0.010526743584646156
            ],
            [
             0.0034153983123596226,
             0.009364129467715764,
             0.03628930434671309,
             0.047430735293667196,
             0.05531413250854084,
             0.0449622753372539,
             0.011451828768938665,
             0.0021783438738395516
            ],
            [
             0.0010112651506693324,
             0.002469642236119604,
             0.00799974785999738,
             0.006712280095204442,
             0.006497396979926094,
             0.007489125989556677,
             0.00772267696175344,
             0.0014618205738525264
            ]
           ]
          }
         ],
         "layout": {
          "coloraxis": {
           "colorscale": [
            [
             0,
             "rgb(243, 231, 155)"
            ],
            [
             0.16666666666666666,
             "rgb(250, 196, 132)"
            ],
            [
             0.3333333333333333,
             "rgb(248, 160, 126)"
            ],
            [
             0.5,
             "rgb(235, 127, 134)"
            ],
            [
             0.6666666666666666,
             "rgb(206, 102, 147)"
            ],
            [
             0.8333333333333334,
             "rgb(160, 89, 160)"
            ],
            [
             1,
             "rgb(92, 83, 165)"
            ]
           ]
          },
          "height": 500,
          "margin": {
           "t": 60
          },
          "width": 500,
          "xaxis": {
           "constrain": "domain",
           "scaleanchor": "y"
          },
          "yaxis": {
           "autorange": "reversed",
           "constrain": "domain"
          }
         },
         "name": "81"
        },
        {
         "data": [
          {
           "coloraxis": "coloraxis",
           "name": "82",
           "type": "heatmap",
           "z": [
            [
             0.0011912805016514256,
             0.002327002715552938,
             0.011185872145932947,
             0.0022898854911943957,
             0.010235315889435216,
             0.008854562659444986,
             0.006513372206709285,
             0.0012190445520449153
            ],
            [
             0.0012832609289654428,
             0.01120878768983714,
             0.03895204309658111,
             0.008830530486718946,
             0.00797325307596378,
             0.040701699605866844,
             0.008162095593431727,
             0.0019138598673827656
            ],
            [
             0.0013100501829186827,
             0.01126980731989764,
             0.03794226821880813,
             0.007054642305806326,
             0.009925789825043425,
             0.03763250014784437,
             0.007637630982968238,
             0.0014681769181261635
            ],
            [
             0.008834953232821071,
             0.008886594814412509,
             0.008694812237514383,
             0.00858286214508385,
             0.0051437371553245525,
             0.01069048191818136,
             0.00899340172517925,
             0.0015256878482259404
            ],
            [
             0.008872201015627376,
             0.037190677427801175,
             0.007257878649244752,
             0.002275892692029483,
             0.00214245361332281,
             0.009972686504009938,
             0.05175453699127481,
             0.0077588775068382475
            ],
            [
             0.008433183944911098,
             0.057979279014533376,
             0.05965874658137208,
             0.02996175239093549,
             0.02466653898874033,
             0.0455095142557323,
             0.04865829713287362,
             0.010506474209906774
            ],
            [
             0.003316462744791322,
             0.00922820440132077,
             0.03559920856716835,
             0.047687158281021144,
             0.053374250968171943,
             0.04552482383411779,
             0.011408577036672255,
             0.002206598507274498
            ],
            [
             0.0009613906270822823,
             0.0024907596861357922,
             0.007814179223922328,
             0.006713727464026324,
             0.006382397545658191,
             0.007464703285790784,
             0.007470410432910693,
             0.00132289298991119
            ]
           ]
          }
         ],
         "layout": {
          "coloraxis": {
           "colorscale": [
            [
             0,
             "rgb(243, 231, 155)"
            ],
            [
             0.16666666666666666,
             "rgb(250, 196, 132)"
            ],
            [
             0.3333333333333333,
             "rgb(248, 160, 126)"
            ],
            [
             0.5,
             "rgb(235, 127, 134)"
            ],
            [
             0.6666666666666666,
             "rgb(206, 102, 147)"
            ],
            [
             0.8333333333333334,
             "rgb(160, 89, 160)"
            ],
            [
             1,
             "rgb(92, 83, 165)"
            ]
           ]
          },
          "height": 500,
          "margin": {
           "t": 60
          },
          "width": 500,
          "xaxis": {
           "constrain": "domain",
           "scaleanchor": "y"
          },
          "yaxis": {
           "autorange": "reversed",
           "constrain": "domain"
          }
         },
         "name": "82"
        },
        {
         "data": [
          {
           "coloraxis": "coloraxis",
           "name": "83",
           "type": "heatmap",
           "z": [
            [
             0.0012391453347565349,
             0.002199081013511164,
             0.011212934833616305,
             0.0024388215057870514,
             0.009962846186279968,
             0.008930355719344907,
             0.0064888639371458254,
             0.0011031774860346742
            ],
            [
             0.0012915636935632397,
             0.01108505246084055,
             0.038768682826799614,
             0.00867057609008781,
             0.007654034320152895,
             0.04175079938582519,
             0.007992437691936779,
             0.0017758690342576558
            ],
            [
             0.001304780117332889,
             0.011531384018558143,
             0.03876028429223685,
             0.0070569304076392005,
             0.00950120870548159,
             0.03610934249512767,
             0.007785826703444262,
             0.0012888596267207227
            ],
            [
             0.008734756523307794,
             0.008999774861852895,
             0.00854161546980399,
             0.00870772762256289,
             0.005126043810985798,
             0.010536178574540363,
             0.00939072379326848,
             0.0015988828529015237
            ],
            [
             0.008979302651690097,
             0.03533101335013827,
             0.0070613837052756956,
             0.0021537656981820094,
             0.0022472008450391454,
             0.009474624129175635,
             0.05061016388051751,
             0.007458320498146536
            ],
            [
             0.008475628781019802,
             0.06012919066162746,
             0.06017622663298261,
             0.02955438784087784,
             0.025138154557921993,
             0.04826824499673,
             0.05059271799260435,
             0.01058827434423489
            ],
            [
             0.0031807445840681026,
             0.009092776335374805,
             0.03612313940556858,
             0.04765206821425391,
             0.051377211304228294,
             0.04545195532278274,
             0.011356563247900239,
             0.0021789062549416147
            ],
            [
             0.0009518814872934095,
             0.002574194996589412,
             0.00764329448023028,
             0.006750642663188497,
             0.006215315388936033,
             0.007346215610436897,
             0.0071396683809579605,
             0.0011882603613793117
            ]
           ]
          }
         ],
         "layout": {
          "coloraxis": {
           "colorscale": [
            [
             0,
             "rgb(243, 231, 155)"
            ],
            [
             0.16666666666666666,
             "rgb(250, 196, 132)"
            ],
            [
             0.3333333333333333,
             "rgb(248, 160, 126)"
            ],
            [
             0.5,
             "rgb(235, 127, 134)"
            ],
            [
             0.6666666666666666,
             "rgb(206, 102, 147)"
            ],
            [
             0.8333333333333334,
             "rgb(160, 89, 160)"
            ],
            [
             1,
             "rgb(92, 83, 165)"
            ]
           ]
          },
          "height": 500,
          "margin": {
           "t": 60
          },
          "width": 500,
          "xaxis": {
           "constrain": "domain",
           "scaleanchor": "y"
          },
          "yaxis": {
           "autorange": "reversed",
           "constrain": "domain"
          }
         },
         "name": "83"
        },
        {
         "data": [
          {
           "coloraxis": "coloraxis",
           "name": "84",
           "type": "heatmap",
           "z": [
            [
             0.001288107599686296,
             0.0020892935670605954,
             0.010959422418208443,
             0.002532731257493893,
             0.00973959796273195,
             0.008974965895935627,
             0.006366981948718838,
             0.0009971786695164144
            ],
            [
             0.0013134424996603812,
             0.010884664542272538,
             0.03943372020330926,
             0.008626622498819661,
             0.007460940742781936,
             0.04344022910508842,
             0.007943052422332461,
             0.0016085552887977078
            ],
            [
             0.0013205144979305794,
             0.011605831615790247,
             0.03906848419942264,
             0.007196486602858418,
             0.009080018369424297,
             0.034034512714814585,
             0.00789915926921445,
             0.0011288664639616034
            ],
            [
             0.008720975389874605,
             0.00919182200794222,
             0.008260292142717647,
             0.008637267091145836,
             0.005147340197255427,
             0.01019438197246317,
             0.00966838628891325,
             0.0016816166891716995
            ],
            [
             0.009015960435675052,
             0.03443531192330021,
             0.007098804755379035,
             0.0019975803172857577,
             0.0023987844852994384,
             0.009126709888714628,
             0.04942852087123198,
             0.00733360037585659
            ],
            [
             0.008685998462632693,
             0.06201795705440293,
             0.059482567192362445,
             0.029005371675835136,
             0.025630305204964274,
             0.050842012526155486,
             0.051957118965447635,
             0.01068899850887738
            ],
            [
             0.003031380295085534,
             0.009061247846965855,
             0.0377511971166776,
             0.04781502737952486,
             0.049643850918864856,
             0.04477218956076228,
             0.011311252046310265,
             0.0020977240641055933
            ],
            [
             0.0009754539303060898,
             0.002678154863642297,
             0.007465660295782691,
             0.006761735546952722,
             0.006012327372691518,
             0.0071469217855521265,
             0.0067508952941562955,
             0.0010839169038825349
            ]
           ]
          }
         ],
         "layout": {
          "coloraxis": {
           "colorscale": [
            [
             0,
             "rgb(243, 231, 155)"
            ],
            [
             0.16666666666666666,
             "rgb(250, 196, 132)"
            ],
            [
             0.3333333333333333,
             "rgb(248, 160, 126)"
            ],
            [
             0.5,
             "rgb(235, 127, 134)"
            ],
            [
             0.6666666666666666,
             "rgb(206, 102, 147)"
            ],
            [
             0.8333333333333334,
             "rgb(160, 89, 160)"
            ],
            [
             1,
             "rgb(92, 83, 165)"
            ]
           ]
          },
          "height": 500,
          "margin": {
           "t": 60
          },
          "width": 500,
          "xaxis": {
           "constrain": "domain",
           "scaleanchor": "y"
          },
          "yaxis": {
           "autorange": "reversed",
           "constrain": "domain"
          }
         },
         "name": "84"
        },
        {
         "data": [
          {
           "coloraxis": "coloraxis",
           "name": "85",
           "type": "heatmap",
           "z": [
            [
             0.0013275060019295021,
             0.0020099480956988955,
             0.010520107282191543,
             0.0025322760942805504,
             0.009614821065484579,
             0.008959022466690478,
             0.006182961921962258,
             0.0009225620741820597
            ],
            [
             0.0013364680245476388,
             0.010640708717244221,
             0.04087897168714005,
             0.008666252213631483,
             0.007416786107822191,
             0.045544819267348546,
             0.007989453850675704,
             0.001456196924147117
            ],
            [
             0.0013484396751297085,
             0.011461379736627865,
             0.03881329915765713,
             0.007411293843510414,
             0.008724626404098688,
             0.0319830131840528,
             0.00795290417419062,
             0.0010159324575076394
            ],
            [
             0.008790776435000912,
             0.009383190474686144,
             0.00791628003273146,
             0.008379261919958766,
             0.0051838576908658585,
             0.009749737048824913,
             0.0097542767740679,
             0.001737162575903748
            ],
            [
             0.008976507032887495,
             0.03464221134245179,
             0.007345876665901448,
             0.001836544135555551,
             0.0025524714645100513,
             0.008971222907881552,
             0.04871125386230405,
             0.007353678918605538
            ],
            [
             0.009002151404037494,
             0.06312480467527408,
             0.057921195462726824,
             0.028495684849151444,
             0.026065995347220035,
             0.052620176229598456,
             0.05246495863867961,
             0.010739014351640026
            ],
            [
             0.002884373517099822,
             0.009147167085351187,
             0.04003732715430521,
             0.048126843982995424,
             0.04841446115772557,
             0.043765978463342514,
             0.011288620153186596,
             0.0019751223518229308
            ],
            [
             0.0010193357055614102,
             0.00275889569656526,
             0.007310584849033066,
             0.006729011207784145,
             0.005810068253751995,
             0.006909077507864749,
             0.006375355169310956,
             0.0010197370760817942
            ]
           ]
          }
         ],
         "layout": {
          "coloraxis": {
           "colorscale": [
            [
             0,
             "rgb(243, 231, 155)"
            ],
            [
             0.16666666666666666,
             "rgb(250, 196, 132)"
            ],
            [
             0.3333333333333333,
             "rgb(248, 160, 126)"
            ],
            [
             0.5,
             "rgb(235, 127, 134)"
            ],
            [
             0.6666666666666666,
             "rgb(206, 102, 147)"
            ],
            [
             0.8333333333333334,
             "rgb(160, 89, 160)"
            ],
            [
             1,
             "rgb(92, 83, 165)"
            ]
           ]
          },
          "height": 500,
          "margin": {
           "t": 60
          },
          "width": 500,
          "xaxis": {
           "constrain": "domain",
           "scaleanchor": "y"
          },
          "yaxis": {
           "autorange": "reversed",
           "constrain": "domain"
          }
         },
         "name": "85"
        },
        {
         "data": [
          {
           "coloraxis": "coloraxis",
           "name": "86",
           "type": "heatmap",
           "z": [
            [
             0.0013491440798332793,
             0.0019499213058416444,
             0.010027124416634224,
             0.0024096441003146826,
             0.009597769062347807,
             0.008857693664209198,
             0.005969889565123518,
             0.0008961425219461348
            ],
            [
             0.0013624004470910302,
             0.01033089532459933,
             0.04282275087128086,
             0.008686098467119577,
             0.007549512421047984,
             0.047862659698380904,
             0.008023994801672088,
             0.0013681727915594872
            ],
            [
             0.0013753185538017793,
             0.011190352336955697,
             0.038397897881017384,
             0.007553643023929574,
             0.008507854256446436,
             0.03073839858013441,
             0.007911803628110515,
             0.0009670239874850464
            ],
            [
             0.008906455801124437,
             0.009465713990331356,
             0.007587360659544988,
             0.008048106347899977,
             0.005193352401037933,
             0.009370197854480386,
             0.00966333500725736,
             0.0017295933121147969
            ],
            [
             0.00884472867050358,
             0.03611276838367652,
             0.007713209971801267,
             0.0016877902459316381,
             0.002623522023900792,
             0.00907268014701137,
             0.04878440400667726,
             0.007456905774910945
            ],
            [
             0.009357168640239867,
             0.06307306447772128,
             0.055925997333176505,
             0.028151728624820748,
             0.02634017111872007,
             0.05329152284630046,
             0.051941186182131144,
             0.0106939823461682
            ],
            [
             0.0027547061160566656,
             0.009301256698979094,
             0.04187893563402121,
             0.048020264538278776,
             0.047886893553812884,
             0.042964176928926005,
             0.011358828300139604,
             0.0018312367976148361
            ],
            [
             0.0010699014781462627,
             0.0027728461679500972,
             0.007244830044844956,
             0.006680046342809617,
             0.005676122439857773,
             0.006688418310408354,
             0.006124699667780486,
             0.0010057850260070836
            ]
           ]
          }
         ],
         "layout": {
          "coloraxis": {
           "colorscale": [
            [
             0,
             "rgb(243, 231, 155)"
            ],
            [
             0.16666666666666666,
             "rgb(250, 196, 132)"
            ],
            [
             0.3333333333333333,
             "rgb(248, 160, 126)"
            ],
            [
             0.5,
             "rgb(235, 127, 134)"
            ],
            [
             0.6666666666666666,
             "rgb(206, 102, 147)"
            ],
            [
             0.8333333333333334,
             "rgb(160, 89, 160)"
            ],
            [
             1,
             "rgb(92, 83, 165)"
            ]
           ]
          },
          "height": 500,
          "margin": {
           "t": 60
          },
          "width": 500,
          "xaxis": {
           "constrain": "domain",
           "scaleanchor": "y"
          },
          "yaxis": {
           "autorange": "reversed",
           "constrain": "domain"
          }
         },
         "name": "86"
        },
        {
         "data": [
          {
           "coloraxis": "coloraxis",
           "name": "87",
           "type": "heatmap",
           "z": [
            [
             0.0013376697765427313,
             0.0019143278687114842,
             0.009604336158500476,
             0.002185383913695457,
             0.009635692992996575,
             0.008669219556917039,
             0.00577530194693012,
             0.0009236216732269204
            ],
            [
             0.0013826511384282078,
             0.009963764882965671,
             0.04462820410781859,
             0.008603262698850556,
             0.007869862177513915,
             0.04987417116592659,
             0.007968125053259261,
             0.0013654149667280046
            ],
            [
             0.001375752228415459,
             0.010874414407762033,
             0.03806972797261756,
             0.0075288756579473416,
             0.008502297612130285,
             0.03088017460806312,
             0.007782042998993522,
             0.0009883499307101647
            ],
            [
             0.009003636974809645,
             0.009378684951867472,
             0.0073252302406249265,
             0.007751042874994795,
             0.005151280729243306,
             0.009206092644010375,
             0.009446773264132256,
             0.0016506887827265676
            ],
            [
             0.008622521247087074,
             0.038796533364205174,
             0.008061939648203084,
             0.0015769688117728213,
             0.0025446227499419595,
             0.009425585797471502,
             0.049599988201958524,
             0.007602949966613744
            ],
            [
             0.009627641922029103,
             0.06180822640398975,
             0.05400169833069858,
             0.02805405001859933,
             0.026424820013576603,
             0.05276157071078375,
             0.05060143253272538,
             0.01051518383145124
            ],
            [
             0.0026610651989851433,
             0.009437001304056346,
             0.0423601336363208,
             0.0472921297702872,
             0.048287443686177406,
             0.04300964455651593,
             0.011503661242865344,
             0.0017034830967881354
            ],
            [
             0.0011092747867245151,
             0.0026999071031556204,
             0.00732518080600917,
             0.006630674125976714,
             0.005677366553161378,
             0.006536749676928654,
             0.006080283860483015,
             0.0010441910863955347
            ]
           ]
          }
         ],
         "layout": {
          "coloraxis": {
           "colorscale": [
            [
             0,
             "rgb(243, 231, 155)"
            ],
            [
             0.16666666666666666,
             "rgb(250, 196, 132)"
            ],
            [
             0.3333333333333333,
             "rgb(248, 160, 126)"
            ],
            [
             0.5,
             "rgb(235, 127, 134)"
            ],
            [
             0.6666666666666666,
             "rgb(206, 102, 147)"
            ],
            [
             0.8333333333333334,
             "rgb(160, 89, 160)"
            ],
            [
             1,
             "rgb(92, 83, 165)"
            ]
           ]
          },
          "height": 500,
          "margin": {
           "t": 60
          },
          "width": 500,
          "xaxis": {
           "constrain": "domain",
           "scaleanchor": "y"
          },
          "yaxis": {
           "autorange": "reversed",
           "constrain": "domain"
          }
         },
         "name": "87"
        },
        {
         "data": [
          {
           "coloraxis": "coloraxis",
           "name": "88",
           "type": "heatmap",
           "z": [
            [
             0.0012859773852367455,
             0.0019065660910828394,
             0.009313862794469703,
             0.0019225896504278996,
             0.00961897161959148,
             0.00843088626600565,
             0.005640401820661204,
             0.0009944174780060309
            ],
            [
             0.001389216179384615,
             0.009573085772626808,
             0.04561453885577551,
             0.00840503895037706,
             0.008327137466875188,
             0.05091572922997678,
             0.007781346894006288,
             0.0014406151655216419
            ],
            [
             0.001331447926319077,
             0.010562661860902633,
             0.03793938088080602,
             0.007344932634844761,
             0.00872720435873329,
             0.032665828462208585,
             0.007615386585895383,
             0.0010702463935787687
            ],
            [
             0.009018885246556555,
             0.009132304474959833,
             0.007151274862877889,
             0.007557235404610819,
             0.005068249225093065,
             0.009328739971765114,
             0.009168512661661668,
             0.0015287808065730804
            ],
            [
             0.00832456954396821,
             0.04221725252372018,
             0.008243832500701829,
             0.0015217104843402898,
             0.002315742018328994,
             0.009934134911232908,
             0.05070145781561957,
             0.007759119807091401
            ],
            [
             0.009666376913965205,
             0.05970062486992645,
             0.05247835055336113,
             0.02819658483496082,
             0.026460785421936184,
             0.05124527969022745,
             0.049048287455944556,
             0.010196009418248208
            ],
            [
             0.002606782309511346,
             0.009450179980957313,
             0.04132156805874989,
             0.04608704898108951,
             0.04965869767255009,
             0.04428784700322979,
             0.01161849483592672,
             0.001622673419618452
            ],
            [
             0.0011264309856531703,
             0.0025572273395857706,
             0.007555682167398968,
             0.006582807699378693,
             0.005854050985561786,
             0.006496221936915092,
             0.006271611261865817,
             0.001121103221020966
            ]
           ]
          }
         ],
         "layout": {
          "coloraxis": {
           "colorscale": [
            [
             0,
             "rgb(243, 231, 155)"
            ],
            [
             0.16666666666666666,
             "rgb(250, 196, 132)"
            ],
            [
             0.3333333333333333,
             "rgb(248, 160, 126)"
            ],
            [
             0.5,
             "rgb(235, 127, 134)"
            ],
            [
             0.6666666666666666,
             "rgb(206, 102, 147)"
            ],
            [
             0.8333333333333334,
             "rgb(160, 89, 160)"
            ],
            [
             1,
             "rgb(92, 83, 165)"
            ]
           ]
          },
          "height": 500,
          "margin": {
           "t": 60
          },
          "width": 500,
          "xaxis": {
           "constrain": "domain",
           "scaleanchor": "y"
          },
          "yaxis": {
           "autorange": "reversed",
           "constrain": "domain"
          }
         },
         "name": "88"
        },
        {
         "data": [
          {
           "coloraxis": "coloraxis",
           "name": "89",
           "type": "heatmap",
           "z": [
            [
             0.0012075977836491962,
             0.0019332319916738339,
             0.009162512800200945,
             0.0016888763260240424,
             0.009463996600483426,
             0.008190665499242399,
             0.005592224885997814,
             0.001083764071104023
            ],
            [
             0.0013730813619418272,
             0.009215675281768134,
             0.0454841879209286,
             0.00814076012837435,
             0.00882483014885268,
             0.050736446997656774,
             0.00750238118203369,
             0.0015576357258263657
            ],
            [
             0.001240096263774652,
             0.01025145185350418,
             0.03769687967890743,
             0.007115538799289508,
             0.009100062945164474,
             0.03564863939895315,
             0.0075119252069042455,
             0.0011806523200397993
            ],
            [
             0.00894257476995088,
             0.008816606802910507,
             0.007023156763708942,
             0.007437815765480427,
             0.004976326613207815,
             0.009685868280872683,
             0.008904477454581557,
             0.0014099305270197317
            ],
            [
             0.00801572822921106,
             0.04553604973341688,
             0.008214136321299203,
             0.00152122319954783,
             0.002024403456041869,
             0.010412166698583346,
             0.05157814485300711,
             0.007899335160704818
            ],
            [
             0.009421549170105268,
             0.05728304475614245,
             0.05144205836838889,
             0.028463244535752323,
             0.026654205860936257,
             0.04928950989935756,
             0.047945545875138176,
             0.009747348823386947
            ],
            [
             0.0025812947028585644,
             0.009333226291887816,
             0.039516482337216996,
             0.04498423007543245,
             0.05158724602664838,
             0.04680570382439807,
             0.011582357651471527,
             0.0016046203179921708
            ],
            [
             0.0011184236688866907,
             0.0023932119475060416,
             0.007883712971214091,
             0.006514606527241376,
             0.006180267331606245,
             0.00655234997657385,
             0.00661159985533238,
             0.0012030994026844997
            ]
           ]
          }
         ],
         "layout": {
          "coloraxis": {
           "colorscale": [
            [
             0,
             "rgb(243, 231, 155)"
            ],
            [
             0.16666666666666666,
             "rgb(250, 196, 132)"
            ],
            [
             0.3333333333333333,
             "rgb(248, 160, 126)"
            ],
            [
             0.5,
             "rgb(235, 127, 134)"
            ],
            [
             0.6666666666666666,
             "rgb(206, 102, 147)"
            ],
            [
             0.8333333333333334,
             "rgb(160, 89, 160)"
            ],
            [
             1,
             "rgb(92, 83, 165)"
            ]
           ]
          },
          "height": 500,
          "margin": {
           "t": 60
          },
          "width": 500,
          "xaxis": {
           "constrain": "domain",
           "scaleanchor": "y"
          },
          "yaxis": {
           "autorange": "reversed",
           "constrain": "domain"
          }
         },
         "name": "89"
        },
        {
         "data": [
          {
           "coloraxis": "coloraxis",
           "name": "90",
           "type": "heatmap",
           "z": [
            [
             0.0011241079021445865,
             0.0019789058737884136,
             0.009105298714523594,
             0.0015244879463027444,
             0.009151961457969222,
             0.008001349568892377,
             0.005626645139465799,
             0.0011608739883866978
            ],
            [
             0.0013367672919277658,
             0.008927287448421096,
             0.044486482780161624,
             0.00788988722666041,
             0.009219149251552523,
             0.04954505155074914,
             0.007206464128912565,
             0.0016632099014054055
            ],
            [
             0.0011240544898117202,
             0.009953231714880766,
             0.03722630321347119,
             0.006942813465905932,
             0.00948097119328263,
             0.038970002429376024,
             0.007524378589840836,
             0.00127497002677964
            ],
            [
             0.008791059189987679,
             0.008526427355120278,
             0.006905623605138799,
             0.007354574842049942,
             0.004924335133524482,
             0.010142778578014003,
             0.008707345592713417,
             0.0013331936998055253
            ],
            [
             0.0077631171488659265,
             0.047897963476780714,
             0.008026437047004986,
             0.0015595797019485442,
             0.0017637300136785514,
             0.010684801627009896,
             0.051759638146144364,
             0.008016678340218377
            ],
            [
             0.008973065653481105,
             0.055110456555540144,
             0.0508362176843881,
             0.02878207218131246,
             0.027160670397658526,
             0.047578382604614604,
             0.04764867607578912,
             0.009247897712352385
            ],
            [
             0.0025598499373851217,
             0.009109882735969112,
             0.03792377301153718,
             0.04437076561950524,
             0.053531508130851675,
             0.050094378760304724,
             0.011337372850899956,
             0.0016414392556201205
            ],
            [
             0.0010913579813506458,
             0.0022529761132743533,
             0.008233302082545592,
             0.006436735456141641,
             0.006581106906084779,
             0.00666551606186584,
             0.0069758668618956614,
             0.0012547905770127217
            ]
           ]
          }
         ],
         "layout": {
          "coloraxis": {
           "colorscale": [
            [
             0,
             "rgb(243, 231, 155)"
            ],
            [
             0.16666666666666666,
             "rgb(250, 196, 132)"
            ],
            [
             0.3333333333333333,
             "rgb(248, 160, 126)"
            ],
            [
             0.5,
             "rgb(235, 127, 134)"
            ],
            [
             0.6666666666666666,
             "rgb(206, 102, 147)"
            ],
            [
             0.8333333333333334,
             "rgb(160, 89, 160)"
            ],
            [
             1,
             "rgb(92, 83, 165)"
            ]
           ]
          },
          "height": 500,
          "margin": {
           "t": 60
          },
          "width": 500,
          "xaxis": {
           "constrain": "domain",
           "scaleanchor": "y"
          },
          "yaxis": {
           "autorange": "reversed",
           "constrain": "domain"
          }
         },
         "name": "90"
        },
        {
         "data": [
          {
           "coloraxis": "coloraxis",
           "name": "91",
           "type": "heatmap",
           "z": [
            [
             0.0010483157082192968,
             0.0020312650309319085,
             0.009062860431145875,
             0.0014346432079651475,
             0.008757301661844618,
             0.00791105506597668,
             0.005704406264982216,
             0.001206652181211795
            ],
            [
             0.0012842102484852845,
             0.008723687250056138,
             0.04333483162196322,
             0.0077505844810633615,
             0.009411871650502314,
             0.04774281038274169,
             0.006997152270479572,
             0.0016998109561620941
            ],
            [
             0.0010126625762940837,
             0.009646996682283764,
             0.03644660253527839,
             0.006905361119090621,
             0.009749075540929993,
             0.04158054930062905,
             0.007651030211199611,
             0.0013220308729734792
            ],
            [
             0.0086200814000229,
             0.008307465192109502,
             0.00678042874276936,
             0.007240589240212021,
             0.004960628792242936,
             0.010516844516251626,
             0.008553122099034452,
             0.0013131278730908102
            ],
            [
             0.007613312310857198,
             0.049021606250620554,
             0.007826330031411205,
             0.0016199352084578134,
             0.0015890928862675483,
             0.010685841061897896,
             0.051095883275279426,
             0.008143229254336375
            ],
            [
             0.008465502802213134,
             0.053420297471230435,
             0.05057012539725606,
             0.029156998439402768,
             0.028005147494123202,
             0.046441672829795756,
             0.04816985568284672,
             0.008781978626623513
            ],
            [
             0.0025191118490599084,
             0.008833912190188219,
             0.037438687339513554,
             0.04445438260909651,
             0.05517400058577364,
             0.053354144610072256,
             0.010881767438517336,
             0.0017024520179003703
            ],
            [
             0.0010540987654730348,
             0.002158823388376602,
             0.008532653056878569,
             0.006351284984677689,
             0.006943485387693687,
             0.006786915511153431,
             0.007241406366789003,
             0.0012580097680718325
            ]
           ]
          }
         ],
         "layout": {
          "coloraxis": {
           "colorscale": [
            [
             0,
             "rgb(243, 231, 155)"
            ],
            [
             0.16666666666666666,
             "rgb(250, 196, 132)"
            ],
            [
             0.3333333333333333,
             "rgb(248, 160, 126)"
            ],
            [
             0.5,
             "rgb(235, 127, 134)"
            ],
            [
             0.6666666666666666,
             "rgb(206, 102, 147)"
            ],
            [
             0.8333333333333334,
             "rgb(160, 89, 160)"
            ],
            [
             1,
             "rgb(92, 83, 165)"
            ]
           ]
          },
          "height": 500,
          "margin": {
           "t": 60
          },
          "width": 500,
          "xaxis": {
           "constrain": "domain",
           "scaleanchor": "y"
          },
          "yaxis": {
           "autorange": "reversed",
           "constrain": "domain"
          }
         },
         "name": "91"
        },
        {
         "data": [
          {
           "coloraxis": "coloraxis",
           "name": "92",
           "type": "heatmap",
           "z": [
            [
             0.0009892869762403926,
             0.0020878264001726096,
             0.008974360041456783,
             0.0014217738412546387,
             0.008370514193421774,
             0.007969733007705626,
             0.005781451777495703,
             0.0012104687624218174
            ],
            [
             0.0012198031683658646,
             0.008612817126881774,
             0.04267457121434719,
             0.007807916832210871,
             0.009355694347691786,
             0.045703432433938776,
             0.006960743223739297,
             0.0016232521632371694
            ],
            [
             0.000927877825927627,
             0.009320989088739127,
             0.03531922038421074,
             0.00706964196445078,
             0.00981658529155134,
             0.042455186736439915,
             0.007891309241161677,
             0.00130425050035775
            ],
            [
             0.008494387512276914,
             0.008180516147025826,
             0.0066438644216789385,
             0.007043278621816117,
             0.0051250163293000695,
             0.010643648649507028,
             0.008415527923423824,
             0.0013569503831980972
            ],
            [
             0.0076059761426404545,
             0.04887461861831952,
             0.007748470744438488,
             0.0016910447255277844,
             0.0015312736841072174,
             0.010405998982727576,
             0.04958552498934897,
             0.008305089965736041
            ],
            [
             0.008021491410473047,
             0.05232421270305173,
             0.05062013888986456,
             0.02958545613075006,
             0.0291656648143354,
             0.04607286815299817,
             0.049520228910819857,
             0.008415470664613147
            ],
            [
             0.00244509441381569,
             0.008557254806537675,
             0.03876047062575397,
             0.045334548913278296,
             0.05626610570466283,
             0.05574224321508871,
             0.010247791762281694,
             0.0017529279721396809
            ],
            [
             0.0010147576628836232,
             0.002125214556735446,
             0.008721023228937076,
             0.006252426350158197,
             0.0071471306938972546,
             0.006878476586524827,
             0.007303974122051345,
             0.0012051333238525732
            ]
           ]
          }
         ],
         "layout": {
          "coloraxis": {
           "colorscale": [
            [
             0,
             "rgb(243, 231, 155)"
            ],
            [
             0.16666666666666666,
             "rgb(250, 196, 132)"
            ],
            [
             0.3333333333333333,
             "rgb(248, 160, 126)"
            ],
            [
             0.5,
             "rgb(235, 127, 134)"
            ],
            [
             0.6666666666666666,
             "rgb(206, 102, 147)"
            ],
            [
             0.8333333333333334,
             "rgb(160, 89, 160)"
            ],
            [
             1,
             "rgb(92, 83, 165)"
            ]
           ]
          },
          "height": 500,
          "margin": {
           "t": 60
          },
          "width": 500,
          "xaxis": {
           "constrain": "domain",
           "scaleanchor": "y"
          },
          "yaxis": {
           "autorange": "reversed",
           "constrain": "domain"
          }
         },
         "name": "92"
        },
        {
         "data": [
          {
           "coloraxis": "coloraxis",
           "name": "93",
           "type": "heatmap",
           "z": [
            [
             0.000950954338534163,
             0.002113037757943525,
             0.00876906330207078,
             0.0014693655987033007,
             0.008033638637227532,
             0.008199798476968608,
             0.005798600927818558,
             0.0011733020799890791
            ],
            [
             0.001168641179556834,
             0.008530091192198158,
             0.042914008760645814,
             0.00808784959707175,
             0.009053036532335098,
             0.043664402370414974,
             0.007061609209873634,
             0.0014507487601596962
            ],
            [
             0.0008876848491792722,
             0.009032288265862954,
             0.0344291171551556,
             0.007393461722105966,
             0.009682373554682015,
             0.04171837516628877,
             0.008168857805917008,
             0.0012319152745715123
            ],
            [
             0.008423402256202755,
             0.008100015456206113,
             0.0065381767169820195,
             0.0068068535713880045,
             0.005426887145499268,
             0.010484835863336926,
             0.008257466544838308,
             0.0014577529885525784
            ],
            [
             0.007688716977527976,
             0.04779922214674811,
             0.007818344990277564,
             0.0017565884953261203,
             0.0015745418307618897,
             0.00997589327508673,
             0.04725315693876623,
             0.008492782253632604
            ],
            [
             0.007700835089945949,
             0.051807279334121395,
             0.050796590325889075,
             0.03004650938503034,
             0.030586402732779856,
             0.04647678222816465,
             0.05145015578380023,
             0.008219705756554424
            ],
            [
             0.0023301212293035368,
             0.008236728146722097,
             0.041885683979391915,
             0.046320744716323345,
             0.056925982999152365,
             0.05656299336481969,
             0.009530531317325903,
             0.001752115562194185
            ],
            [
             0.0009882653652735073,
             0.0021424076172387686,
             0.008778589739341291,
             0.006175869831808766,
             0.00716075968882831,
             0.006950109936895609,
             0.007225685015091291,
             0.001112290887594939
            ]
           ]
          }
         ],
         "layout": {
          "coloraxis": {
           "colorscale": [
            [
             0,
             "rgb(243, 231, 155)"
            ],
            [
             0.16666666666666666,
             "rgb(250, 196, 132)"
            ],
            [
             0.3333333333333333,
             "rgb(248, 160, 126)"
            ],
            [
             0.5,
             "rgb(235, 127, 134)"
            ],
            [
             0.6666666666666666,
             "rgb(206, 102, 147)"
            ],
            [
             0.8333333333333334,
             "rgb(160, 89, 160)"
            ],
            [
             1,
             "rgb(92, 83, 165)"
            ]
           ]
          },
          "height": 500,
          "margin": {
           "t": 60
          },
          "width": 500,
          "xaxis": {
           "constrain": "domain",
           "scaleanchor": "y"
          },
          "yaxis": {
           "autorange": "reversed",
           "constrain": "domain"
          }
         },
         "name": "93"
        },
        {
         "data": [
          {
           "coloraxis": "coloraxis",
           "name": "94",
           "type": "heatmap",
           "z": [
            [
             0.0009325742479910073,
             0.002077145795533091,
             0.008454712273745132,
             0.001549161744469958,
             0.007766479399039124,
             0.00856488647937656,
             0.00572909147636193,
             0.0011101900144142277
            ],
            [
             0.001149850405008585,
             0.00841497091253182,
             0.043993159930876456,
             0.008525650606567266,
             0.008573916266200044,
             0.0417669674593415,
             0.007196626654255586,
             0.001249022023953235
            ],
            [
             0.0008953928380237999,
             0.008860339046574007,
             0.03434163996051715,
             0.0077452977230803195,
             0.009409519982717555,
             0.040257766225952105,
             0.008381512133978511,
             0.001135509563681865
            ],
            [
             0.008375499858629714,
             0.008000442264159814,
             0.00651304319845453,
             0.0066065956291401495,
             0.00581414515887755,
             0.01013902091431796,
             0.008067115455313904,
             0.0015898281266704488
            ],
            [
             0.007783037728425567,
             0.04628327728060206,
             0.007966179648147222,
             0.0018037479430743433,
             0.0016766483145519606,
             0.009560892395784155,
             0.044481186264368526,
             0.008654211971881556
            ],
            [
             0.007504636154429884,
             0.051703866370011856,
             0.05101077256627979,
             0.030500551316714208,
             0.03206436240392028,
             0.047479451345783914,
             0.05351559094005667,
             0.008217981094656242
            ],
            [
             0.002192587047649155,
             0.007848635501527677,
             0.04601552514935716,
             0.046608610122921,
             0.05738554111811028,
             0.05576194825443406,
             0.008856287947500794,
             0.0016886317109254128
            ],
            [
             0.000980106076585393,
             0.0021814893691876765,
             0.00872715667393961,
             0.006158658654924876,
             0.007034885907545792,
             0.007024862931193473,
             0.007132980167885395,
             0.0010086258578679344
            ]
           ]
          }
         ],
         "layout": {
          "coloraxis": {
           "colorscale": [
            [
             0,
             "rgb(243, 231, 155)"
            ],
            [
             0.16666666666666666,
             "rgb(250, 196, 132)"
            ],
            [
             0.3333333333333333,
             "rgb(248, 160, 126)"
            ],
            [
             0.5,
             "rgb(235, 127, 134)"
            ],
            [
             0.6666666666666666,
             "rgb(206, 102, 147)"
            ],
            [
             0.8333333333333334,
             "rgb(160, 89, 160)"
            ],
            [
             1,
             "rgb(92, 83, 165)"
            ]
           ]
          },
          "height": 500,
          "margin": {
           "t": 60
          },
          "width": 500,
          "xaxis": {
           "constrain": "domain",
           "scaleanchor": "y"
          },
          "yaxis": {
           "autorange": "reversed",
           "constrain": "domain"
          }
         },
         "name": "94"
        },
        {
         "data": [
          {
           "coloraxis": "coloraxis",
           "name": "95",
           "type": "heatmap",
           "z": [
            [
             0.0009289997628693943,
             0.0019726777314301837,
             0.008110546777398094,
             0.0016295155860554407,
             0.00757554948648343,
             0.008976964815454621,
             0.0055962982281476765,
             0.0010431048159943387
            ],
            [
             0.0011688364151617868,
             0.008254994022526243,
             0.04552184269367767,
             0.008989831704559624,
             0.008024445874654108,
             0.04012839988462779,
             0.0072674163465616375,
             0.001082514286401152
            ],
            [
             0.0009421489111295747,
             0.008850120540551707,
             0.03535294054890287,
             0.007966424100091844,
             0.009093112915966036,
             0.039075534052766155,
             0.008442350332609736,
             0.0010479355706470399
            ],
            [
             0.008310983041498155,
             0.007844343783090962,
             0.006602466966202678,
             0.00651360052498457,
             0.0061994574179176,
             0.009762090699913406,
             0.0078582621668011,
             0.0017149210574826732
            ],
            [
             0.007827056583136326,
             0.044760545204620215,
             0.00808548656689592,
             0.001824709363397358,
             0.0017784674273562877,
             0.009271872699634726,
             0.04188304709048971,
             0.00873267514642117
            ],
            [
             0.00739923537826016,
             0.051844135785956785,
             0.051287807238586156,
             0.03098064874523023,
             0.033347865726648176,
             0.04875311427953495,
             0.05523506063786235,
             0.008377985474788192
            ],
            [
             0.0020585442019598796,
             0.007418670246177927,
             0.049818829783319994,
             0.04581497489613164,
             0.05780265558661232,
             0.053860298465047654,
             0.008335192481283983,
             0.0015839820026339313
            ],
            [
             0.00098655812327284,
             0.002208066845125242,
             0.008607375236861203,
             0.006226114486899127,
             0.006862063548652024,
             0.0071274487405690095,
             0.007128580695665261,
             0.0009223002484089887
            ]
           ]
          }
         ],
         "layout": {
          "coloraxis": {
           "colorscale": [
            [
             0,
             "rgb(243, 231, 155)"
            ],
            [
             0.16666666666666666,
             "rgb(250, 196, 132)"
            ],
            [
             0.3333333333333333,
             "rgb(248, 160, 126)"
            ],
            [
             0.5,
             "rgb(235, 127, 134)"
            ],
            [
             0.6666666666666666,
             "rgb(206, 102, 147)"
            ],
            [
             0.8333333333333334,
             "rgb(160, 89, 160)"
            ],
            [
             1,
             "rgb(92, 83, 165)"
            ]
           ]
          },
          "height": 500,
          "margin": {
           "t": 60
          },
          "width": 500,
          "xaxis": {
           "constrain": "domain",
           "scaleanchor": "y"
          },
          "yaxis": {
           "autorange": "reversed",
           "constrain": "domain"
          }
         },
         "name": "95"
        },
        {
         "data": [
          {
           "coloraxis": "coloraxis",
           "name": "96",
           "type": "heatmap",
           "z": [
            [
             0.0009332674765674382,
             0.001814893390386785,
             0.007799276352101802,
             0.00168495131967057,
             0.007461411853630704,
             0.009340306960071244,
             0.0054396624720555444,
             0.000988199325271134
            ],
            [
             0.001220798935983554,
             0.008071470376894364,
             0.04716643117203679,
             0.009368799430838405,
             0.007498697871387157,
             0.03887254941702608,
             0.007245244700110739,
             0.0009757915900062578
            ],
            [
             0.0010151508973688522,
             0.008979481313558477,
             0.03743460875930013,
             0.007975651247016382,
             0.008809336381514887,
             0.03867819965675053,
             0.008315926447145678,
             0.000986945238176213
            ],
            [
             0.008215686215967834,
             0.007641820151500927,
             0.00680217827067782,
             0.006553143893041824,
             0.006518019025802737,
             0.009445466655353365,
             0.007644820226128039,
             0.0018021181153524966
            ],
            [
             0.007795629981797913,
             0.04354994734593693,
             0.008123487759517876,
             0.0018141749330972236,
             0.00183447233187715,
             0.009143993530774443,
             0.03990361465646961,
             0.008718160500364452
            ],
            [
             0.007356900010100011,
             0.052143819802028944,
             0.05158918864034829,
             0.031568865151573436,
             0.03428429108143868,
             0.04995595618616851,
             0.056234964848806225,
             0.008641809724607746
            ],
            [
             0.0019412252114648526,
             0.0069956683091133435,
             0.052318681658848516,
             0.04411319538398351,
             0.05823045557157437,
             0.05143342735493281,
             0.008017309206734206,
             0.0014651398982886642
            ],
            [
             0.0010028140616602456,
             0.002201974702112562,
             0.008453605337687374,
             0.006382987752473874,
             0.006710482051471754,
             0.00726131484142962,
             0.0072436216162255485,
             0.0008685154183958987
            ]
           ]
          }
         ],
         "layout": {
          "coloraxis": {
           "colorscale": [
            [
             0,
             "rgb(243, 231, 155)"
            ],
            [
             0.16666666666666666,
             "rgb(250, 196, 132)"
            ],
            [
             0.3333333333333333,
             "rgb(248, 160, 126)"
            ],
            [
             0.5,
             "rgb(235, 127, 134)"
            ],
            [
             0.6666666666666666,
             "rgb(206, 102, 147)"
            ],
            [
             0.8333333333333334,
             "rgb(160, 89, 160)"
            ],
            [
             1,
             "rgb(92, 83, 165)"
            ]
           ]
          },
          "height": 500,
          "margin": {
           "t": 60
          },
          "width": 500,
          "xaxis": {
           "constrain": "domain",
           "scaleanchor": "y"
          },
          "yaxis": {
           "autorange": "reversed",
           "constrain": "domain"
          }
         },
         "name": "96"
        },
        {
         "data": [
          {
           "coloraxis": "coloraxis",
           "name": "97",
           "type": "heatmap",
           "z": [
            [
             0.0009362865795620744,
             0.001646296941673307,
             0.007549403323800089,
             0.0016935218596865356,
             0.007432262135043318,
             0.009565373847317867,
             0.005295941359881146,
             0.0009563092370258406
            ],
            [
             0.0012860706297643523,
             0.007902697095488348,
             0.048754700398375254,
             0.009607054878817453,
             0.007085728184074178,
             0.038092655588461886,
             0.007176904937386167,
             0.0009268575010325334
            ],
            [
             0.0010950482464846824,
             0.009142222823629108,
             0.04004315557523383,
             0.007813226045038852,
             0.008606585374505002,
             0.039040072651149324,
             0.00803937016338654,
             0.0009601083243677487
            ],
            [
             0.008111386640867687,
             0.007426884874109035,
             0.007056578521388741,
             0.006669713546274009,
             0.0067305970663698025,
             0.009198733044753665,
             0.0074201118456880075,
             0.0018287971230201655
            ],
            [
             0.007697938300501424,
             0.04296496384002882,
             0.008109574050908475,
             0.0017749969303203993,
             0.0018279849324090666,
             0.009164823158985473,
             0.03883756039443095,
             0.008649853169553277
            ],
            [
             0.007356245553764481,
             0.05242330214314307,
             0.05180423899148753,
             0.032305613352610896,
             0.03481969634161022,
             0.05066269825399643,
             0.05629875952521396,
             0.008915743613370634
            ],
            [
             0.0018470923167331866,
             0.006652426542999805,
             0.05334540981367411,
             0.04216948694261418,
             0.058696936168136836,
             0.04900576163921719,
             0.00788859852175626,
             0.0013533165374617724
            ],
            [
             0.00102217396650288,
             0.0021560040361949346,
             0.008292485689709162,
             0.006582554304326603,
             0.006603449187109156,
             0.007393897906646986,
             0.007433742346325082,
             0.0008520151645994029
            ]
           ]
          }
         ],
         "layout": {
          "coloraxis": {
           "colorscale": [
            [
             0,
             "rgb(243, 231, 155)"
            ],
            [
             0.16666666666666666,
             "rgb(250, 196, 132)"
            ],
            [
             0.3333333333333333,
             "rgb(248, 160, 126)"
            ],
            [
             0.5,
             "rgb(235, 127, 134)"
            ],
            [
             0.6666666666666666,
             "rgb(206, 102, 147)"
            ],
            [
             0.8333333333333334,
             "rgb(160, 89, 160)"
            ],
            [
             1,
             "rgb(92, 83, 165)"
            ]
           ]
          },
          "height": 500,
          "margin": {
           "t": 60
          },
          "width": 500,
          "xaxis": {
           "constrain": "domain",
           "scaleanchor": "y"
          },
          "yaxis": {
           "autorange": "reversed",
           "constrain": "domain"
          }
         },
         "name": "97"
        },
        {
         "data": [
          {
           "coloraxis": "coloraxis",
           "name": "98",
           "type": "heatmap",
           "z": [
            [
             0.0009291669654875313,
             0.001517069278197184,
             0.007399562231803361,
             0.0016365004643168282,
             0.0075158567341413705,
             0.0095719115485207,
             0.005201533334764634,
             0.0009570706586286497
            ],
            [
             0.0013319234332538233,
             0.007796646495274732,
             0.05011980258725752,
             0.009664282493912928,
             0.006878000530934047,
             0.03790780882112558,
             0.00712944502660022,
             0.0009334362516599153
            ],
            [
             0.0011532528329044243,
             0.009205397898016296,
             0.042211139963329265,
             0.007567066612996607,
             0.00852056068828451,
             0.03995715722966176,
             0.007691688439025283,
             0.0009743626282228933
            ],
            [
             0.008035665261053797,
             0.007232835513603391,
             0.0072852617138335326,
             0.006764586892029139,
             0.0067836686465196335,
             0.009016349526462923,
             0.007181181667884085,
             0.001771231834143681
            ],
            [
             0.0075635339288048975,
             0.04335112160287292,
             0.008097553976415543,
             0.0017191699565326467,
             0.0017588155442984687,
             0.009314438629006836,
             0.03904400204842335,
             0.008565564482794212
            ],
            [
             0.0073779257110297754,
             0.05239771679939025,
             0.05194332846141397,
             0.03314882399774134,
             0.034880371407891665,
             0.05041216402992272,
             0.05537649727896965,
             0.009078432688243961
            ],
            [
             0.0017885969326333062,
             0.006483354825935907,
             0.05302493292412484,
             0.04080363159849626,
             0.059226509638068525,
             0.047129755529782026,
             0.007921191725966076,
             0.0012669791088257098
            ],
            [
             0.0010333707687910612,
             0.0020665004510070253,
             0.008150057931060932,
             0.006729082100756303,
             0.006539454736079614,
             0.00747077633159226,
             0.007619507497839938,
             0.0008754131514365083
            ]
           ]
          }
         ],
         "layout": {
          "coloraxis": {
           "colorscale": [
            [
             0,
             "rgb(243, 231, 155)"
            ],
            [
             0.16666666666666666,
             "rgb(250, 196, 132)"
            ],
            [
             0.3333333333333333,
             "rgb(248, 160, 126)"
            ],
            [
             0.5,
             "rgb(235, 127, 134)"
            ],
            [
             0.6666666666666666,
             "rgb(206, 102, 147)"
            ],
            [
             0.8333333333333334,
             "rgb(160, 89, 160)"
            ],
            [
             1,
             "rgb(92, 83, 165)"
            ]
           ]
          },
          "height": 500,
          "margin": {
           "t": 60
          },
          "width": 500,
          "xaxis": {
           "constrain": "domain",
           "scaleanchor": "y"
          },
          "yaxis": {
           "autorange": "reversed",
           "constrain": "domain"
          }
         },
         "name": "98"
        },
        {
         "data": [
          {
           "coloraxis": "coloraxis",
           "name": "99",
           "type": "heatmap",
           "z": [
            [
             0.000909399506050228,
             0.0014667809565139583,
             0.0073880212997326535,
             0.0015185019870562059,
             0.007747631750015877,
             0.009321297589157526,
             0.0051913720091172,
             0.000991253081899758
            ],
            [
             0.0013212966206680172,
             0.007817282333404927,
             0.05110327572330208,
             0.009539759698283447,
             0.0069289156413630485,
             0.038452015100667,
             0.007176091861205223,
             0.00098737081965184
            ],
            [
             0.0011670419029289293,
             0.00906152376753612,
             0.04286419922362115,
             0.007347216697251543,
             0.008543618682680347,
             0.040944125364129294,
             0.00736518583375438,
             0.0010320442556511309
            ],
            [
             0.008025103325918588,
             0.00710171335137998,
             0.007413421205481564,
             0.006731568619451097,
             0.006634554467316919,
             0.008857008172110808,
             0.006938162220729489,
             0.0016230276941186746
            ],
            [
             0.007438874519641043,
             0.044830827558281335,
             0.008137889754171868,
             0.0016604849778201756,
             0.0016514441388966713,
             0.009535108173931113,
             0.040884607710791075,
             0.008480783937371556
            ],
            [
             0.007410798994044886,
             0.0519070572349902,
             0.05213888785587657,
             0.03399932987007457,
             0.03444309496474749,
             0.04898132340275991,
             0.05365064322757829,
             0.009038305150941593
            ],
            [
             0.0017785640818762725,
             0.006590443446299536,
             0.05178551559167123,
             0.040836024802113395,
             0.05969092191477219,
             0.04609680075612511,
             0.008074712353322789,
             0.0012175564092881245
            ],
            [
             0.0010256065429162732,
             0.0019384546556826185,
             0.008014528813134253,
             0.006714825312993323,
             0.006483139666281117,
             0.007435083646180283,
             0.0076822600245034095,
             0.0009363197487718375
            ]
           ]
          }
         ],
         "layout": {
          "coloraxis": {
           "colorscale": [
            [
             0,
             "rgb(243, 231, 155)"
            ],
            [
             0.16666666666666666,
             "rgb(250, 196, 132)"
            ],
            [
             0.3333333333333333,
             "rgb(248, 160, 126)"
            ],
            [
             0.5,
             "rgb(235, 127, 134)"
            ],
            [
             0.6666666666666666,
             "rgb(206, 102, 147)"
            ],
            [
             0.8333333333333334,
             "rgb(160, 89, 160)"
            ],
            [
             1,
             "rgb(92, 83, 165)"
            ]
           ]
          },
          "height": 500,
          "margin": {
           "t": 60
          },
          "width": 500,
          "xaxis": {
           "constrain": "domain",
           "scaleanchor": "y"
          },
          "yaxis": {
           "autorange": "reversed",
           "constrain": "domain"
          }
         },
         "name": "99"
        }
       ],
       "layout": {
        "coloraxis": {
         "colorscale": [
          [
           0,
           "rgb(243, 231, 155)"
          ],
          [
           0.16666666666666666,
           "rgb(250, 196, 132)"
          ],
          [
           0.3333333333333333,
           "rgb(248, 160, 126)"
          ],
          [
           0.5,
           "rgb(235, 127, 134)"
          ],
          [
           0.6666666666666666,
           "rgb(206, 102, 147)"
          ],
          [
           0.8333333333333334,
           "rgb(160, 89, 160)"
          ],
          [
           1,
           "rgb(92, 83, 165)"
          ]
         ]
        },
        "height": 500,
        "margin": {
         "t": 60
        },
        "sliders": [
         {
          "active": 0,
          "currentvalue": {
           "prefix": "animation_frame="
          },
          "len": 0.9,
          "pad": {
           "b": 10,
           "t": 60
          },
          "steps": [
           {
            "args": [
             [
              "0"
             ],
             {
              "frame": {
               "duration": 0,
               "redraw": true
              },
              "fromcurrent": true,
              "mode": "immediate",
              "transition": {
               "duration": 0,
               "easing": "linear"
              }
             }
            ],
            "label": "0",
            "method": "animate"
           },
           {
            "args": [
             [
              "1"
             ],
             {
              "frame": {
               "duration": 0,
               "redraw": true
              },
              "fromcurrent": true,
              "mode": "immediate",
              "transition": {
               "duration": 0,
               "easing": "linear"
              }
             }
            ],
            "label": "1",
            "method": "animate"
           },
           {
            "args": [
             [
              "2"
             ],
             {
              "frame": {
               "duration": 0,
               "redraw": true
              },
              "fromcurrent": true,
              "mode": "immediate",
              "transition": {
               "duration": 0,
               "easing": "linear"
              }
             }
            ],
            "label": "2",
            "method": "animate"
           },
           {
            "args": [
             [
              "3"
             ],
             {
              "frame": {
               "duration": 0,
               "redraw": true
              },
              "fromcurrent": true,
              "mode": "immediate",
              "transition": {
               "duration": 0,
               "easing": "linear"
              }
             }
            ],
            "label": "3",
            "method": "animate"
           },
           {
            "args": [
             [
              "4"
             ],
             {
              "frame": {
               "duration": 0,
               "redraw": true
              },
              "fromcurrent": true,
              "mode": "immediate",
              "transition": {
               "duration": 0,
               "easing": "linear"
              }
             }
            ],
            "label": "4",
            "method": "animate"
           },
           {
            "args": [
             [
              "5"
             ],
             {
              "frame": {
               "duration": 0,
               "redraw": true
              },
              "fromcurrent": true,
              "mode": "immediate",
              "transition": {
               "duration": 0,
               "easing": "linear"
              }
             }
            ],
            "label": "5",
            "method": "animate"
           },
           {
            "args": [
             [
              "6"
             ],
             {
              "frame": {
               "duration": 0,
               "redraw": true
              },
              "fromcurrent": true,
              "mode": "immediate",
              "transition": {
               "duration": 0,
               "easing": "linear"
              }
             }
            ],
            "label": "6",
            "method": "animate"
           },
           {
            "args": [
             [
              "7"
             ],
             {
              "frame": {
               "duration": 0,
               "redraw": true
              },
              "fromcurrent": true,
              "mode": "immediate",
              "transition": {
               "duration": 0,
               "easing": "linear"
              }
             }
            ],
            "label": "7",
            "method": "animate"
           },
           {
            "args": [
             [
              "8"
             ],
             {
              "frame": {
               "duration": 0,
               "redraw": true
              },
              "fromcurrent": true,
              "mode": "immediate",
              "transition": {
               "duration": 0,
               "easing": "linear"
              }
             }
            ],
            "label": "8",
            "method": "animate"
           },
           {
            "args": [
             [
              "9"
             ],
             {
              "frame": {
               "duration": 0,
               "redraw": true
              },
              "fromcurrent": true,
              "mode": "immediate",
              "transition": {
               "duration": 0,
               "easing": "linear"
              }
             }
            ],
            "label": "9",
            "method": "animate"
           },
           {
            "args": [
             [
              "10"
             ],
             {
              "frame": {
               "duration": 0,
               "redraw": true
              },
              "fromcurrent": true,
              "mode": "immediate",
              "transition": {
               "duration": 0,
               "easing": "linear"
              }
             }
            ],
            "label": "10",
            "method": "animate"
           },
           {
            "args": [
             [
              "11"
             ],
             {
              "frame": {
               "duration": 0,
               "redraw": true
              },
              "fromcurrent": true,
              "mode": "immediate",
              "transition": {
               "duration": 0,
               "easing": "linear"
              }
             }
            ],
            "label": "11",
            "method": "animate"
           },
           {
            "args": [
             [
              "12"
             ],
             {
              "frame": {
               "duration": 0,
               "redraw": true
              },
              "fromcurrent": true,
              "mode": "immediate",
              "transition": {
               "duration": 0,
               "easing": "linear"
              }
             }
            ],
            "label": "12",
            "method": "animate"
           },
           {
            "args": [
             [
              "13"
             ],
             {
              "frame": {
               "duration": 0,
               "redraw": true
              },
              "fromcurrent": true,
              "mode": "immediate",
              "transition": {
               "duration": 0,
               "easing": "linear"
              }
             }
            ],
            "label": "13",
            "method": "animate"
           },
           {
            "args": [
             [
              "14"
             ],
             {
              "frame": {
               "duration": 0,
               "redraw": true
              },
              "fromcurrent": true,
              "mode": "immediate",
              "transition": {
               "duration": 0,
               "easing": "linear"
              }
             }
            ],
            "label": "14",
            "method": "animate"
           },
           {
            "args": [
             [
              "15"
             ],
             {
              "frame": {
               "duration": 0,
               "redraw": true
              },
              "fromcurrent": true,
              "mode": "immediate",
              "transition": {
               "duration": 0,
               "easing": "linear"
              }
             }
            ],
            "label": "15",
            "method": "animate"
           },
           {
            "args": [
             [
              "16"
             ],
             {
              "frame": {
               "duration": 0,
               "redraw": true
              },
              "fromcurrent": true,
              "mode": "immediate",
              "transition": {
               "duration": 0,
               "easing": "linear"
              }
             }
            ],
            "label": "16",
            "method": "animate"
           },
           {
            "args": [
             [
              "17"
             ],
             {
              "frame": {
               "duration": 0,
               "redraw": true
              },
              "fromcurrent": true,
              "mode": "immediate",
              "transition": {
               "duration": 0,
               "easing": "linear"
              }
             }
            ],
            "label": "17",
            "method": "animate"
           },
           {
            "args": [
             [
              "18"
             ],
             {
              "frame": {
               "duration": 0,
               "redraw": true
              },
              "fromcurrent": true,
              "mode": "immediate",
              "transition": {
               "duration": 0,
               "easing": "linear"
              }
             }
            ],
            "label": "18",
            "method": "animate"
           },
           {
            "args": [
             [
              "19"
             ],
             {
              "frame": {
               "duration": 0,
               "redraw": true
              },
              "fromcurrent": true,
              "mode": "immediate",
              "transition": {
               "duration": 0,
               "easing": "linear"
              }
             }
            ],
            "label": "19",
            "method": "animate"
           },
           {
            "args": [
             [
              "20"
             ],
             {
              "frame": {
               "duration": 0,
               "redraw": true
              },
              "fromcurrent": true,
              "mode": "immediate",
              "transition": {
               "duration": 0,
               "easing": "linear"
              }
             }
            ],
            "label": "20",
            "method": "animate"
           },
           {
            "args": [
             [
              "21"
             ],
             {
              "frame": {
               "duration": 0,
               "redraw": true
              },
              "fromcurrent": true,
              "mode": "immediate",
              "transition": {
               "duration": 0,
               "easing": "linear"
              }
             }
            ],
            "label": "21",
            "method": "animate"
           },
           {
            "args": [
             [
              "22"
             ],
             {
              "frame": {
               "duration": 0,
               "redraw": true
              },
              "fromcurrent": true,
              "mode": "immediate",
              "transition": {
               "duration": 0,
               "easing": "linear"
              }
             }
            ],
            "label": "22",
            "method": "animate"
           },
           {
            "args": [
             [
              "23"
             ],
             {
              "frame": {
               "duration": 0,
               "redraw": true
              },
              "fromcurrent": true,
              "mode": "immediate",
              "transition": {
               "duration": 0,
               "easing": "linear"
              }
             }
            ],
            "label": "23",
            "method": "animate"
           },
           {
            "args": [
             [
              "24"
             ],
             {
              "frame": {
               "duration": 0,
               "redraw": true
              },
              "fromcurrent": true,
              "mode": "immediate",
              "transition": {
               "duration": 0,
               "easing": "linear"
              }
             }
            ],
            "label": "24",
            "method": "animate"
           },
           {
            "args": [
             [
              "25"
             ],
             {
              "frame": {
               "duration": 0,
               "redraw": true
              },
              "fromcurrent": true,
              "mode": "immediate",
              "transition": {
               "duration": 0,
               "easing": "linear"
              }
             }
            ],
            "label": "25",
            "method": "animate"
           },
           {
            "args": [
             [
              "26"
             ],
             {
              "frame": {
               "duration": 0,
               "redraw": true
              },
              "fromcurrent": true,
              "mode": "immediate",
              "transition": {
               "duration": 0,
               "easing": "linear"
              }
             }
            ],
            "label": "26",
            "method": "animate"
           },
           {
            "args": [
             [
              "27"
             ],
             {
              "frame": {
               "duration": 0,
               "redraw": true
              },
              "fromcurrent": true,
              "mode": "immediate",
              "transition": {
               "duration": 0,
               "easing": "linear"
              }
             }
            ],
            "label": "27",
            "method": "animate"
           },
           {
            "args": [
             [
              "28"
             ],
             {
              "frame": {
               "duration": 0,
               "redraw": true
              },
              "fromcurrent": true,
              "mode": "immediate",
              "transition": {
               "duration": 0,
               "easing": "linear"
              }
             }
            ],
            "label": "28",
            "method": "animate"
           },
           {
            "args": [
             [
              "29"
             ],
             {
              "frame": {
               "duration": 0,
               "redraw": true
              },
              "fromcurrent": true,
              "mode": "immediate",
              "transition": {
               "duration": 0,
               "easing": "linear"
              }
             }
            ],
            "label": "29",
            "method": "animate"
           },
           {
            "args": [
             [
              "30"
             ],
             {
              "frame": {
               "duration": 0,
               "redraw": true
              },
              "fromcurrent": true,
              "mode": "immediate",
              "transition": {
               "duration": 0,
               "easing": "linear"
              }
             }
            ],
            "label": "30",
            "method": "animate"
           },
           {
            "args": [
             [
              "31"
             ],
             {
              "frame": {
               "duration": 0,
               "redraw": true
              },
              "fromcurrent": true,
              "mode": "immediate",
              "transition": {
               "duration": 0,
               "easing": "linear"
              }
             }
            ],
            "label": "31",
            "method": "animate"
           },
           {
            "args": [
             [
              "32"
             ],
             {
              "frame": {
               "duration": 0,
               "redraw": true
              },
              "fromcurrent": true,
              "mode": "immediate",
              "transition": {
               "duration": 0,
               "easing": "linear"
              }
             }
            ],
            "label": "32",
            "method": "animate"
           },
           {
            "args": [
             [
              "33"
             ],
             {
              "frame": {
               "duration": 0,
               "redraw": true
              },
              "fromcurrent": true,
              "mode": "immediate",
              "transition": {
               "duration": 0,
               "easing": "linear"
              }
             }
            ],
            "label": "33",
            "method": "animate"
           },
           {
            "args": [
             [
              "34"
             ],
             {
              "frame": {
               "duration": 0,
               "redraw": true
              },
              "fromcurrent": true,
              "mode": "immediate",
              "transition": {
               "duration": 0,
               "easing": "linear"
              }
             }
            ],
            "label": "34",
            "method": "animate"
           },
           {
            "args": [
             [
              "35"
             ],
             {
              "frame": {
               "duration": 0,
               "redraw": true
              },
              "fromcurrent": true,
              "mode": "immediate",
              "transition": {
               "duration": 0,
               "easing": "linear"
              }
             }
            ],
            "label": "35",
            "method": "animate"
           },
           {
            "args": [
             [
              "36"
             ],
             {
              "frame": {
               "duration": 0,
               "redraw": true
              },
              "fromcurrent": true,
              "mode": "immediate",
              "transition": {
               "duration": 0,
               "easing": "linear"
              }
             }
            ],
            "label": "36",
            "method": "animate"
           },
           {
            "args": [
             [
              "37"
             ],
             {
              "frame": {
               "duration": 0,
               "redraw": true
              },
              "fromcurrent": true,
              "mode": "immediate",
              "transition": {
               "duration": 0,
               "easing": "linear"
              }
             }
            ],
            "label": "37",
            "method": "animate"
           },
           {
            "args": [
             [
              "38"
             ],
             {
              "frame": {
               "duration": 0,
               "redraw": true
              },
              "fromcurrent": true,
              "mode": "immediate",
              "transition": {
               "duration": 0,
               "easing": "linear"
              }
             }
            ],
            "label": "38",
            "method": "animate"
           },
           {
            "args": [
             [
              "39"
             ],
             {
              "frame": {
               "duration": 0,
               "redraw": true
              },
              "fromcurrent": true,
              "mode": "immediate",
              "transition": {
               "duration": 0,
               "easing": "linear"
              }
             }
            ],
            "label": "39",
            "method": "animate"
           },
           {
            "args": [
             [
              "40"
             ],
             {
              "frame": {
               "duration": 0,
               "redraw": true
              },
              "fromcurrent": true,
              "mode": "immediate",
              "transition": {
               "duration": 0,
               "easing": "linear"
              }
             }
            ],
            "label": "40",
            "method": "animate"
           },
           {
            "args": [
             [
              "41"
             ],
             {
              "frame": {
               "duration": 0,
               "redraw": true
              },
              "fromcurrent": true,
              "mode": "immediate",
              "transition": {
               "duration": 0,
               "easing": "linear"
              }
             }
            ],
            "label": "41",
            "method": "animate"
           },
           {
            "args": [
             [
              "42"
             ],
             {
              "frame": {
               "duration": 0,
               "redraw": true
              },
              "fromcurrent": true,
              "mode": "immediate",
              "transition": {
               "duration": 0,
               "easing": "linear"
              }
             }
            ],
            "label": "42",
            "method": "animate"
           },
           {
            "args": [
             [
              "43"
             ],
             {
              "frame": {
               "duration": 0,
               "redraw": true
              },
              "fromcurrent": true,
              "mode": "immediate",
              "transition": {
               "duration": 0,
               "easing": "linear"
              }
             }
            ],
            "label": "43",
            "method": "animate"
           },
           {
            "args": [
             [
              "44"
             ],
             {
              "frame": {
               "duration": 0,
               "redraw": true
              },
              "fromcurrent": true,
              "mode": "immediate",
              "transition": {
               "duration": 0,
               "easing": "linear"
              }
             }
            ],
            "label": "44",
            "method": "animate"
           },
           {
            "args": [
             [
              "45"
             ],
             {
              "frame": {
               "duration": 0,
               "redraw": true
              },
              "fromcurrent": true,
              "mode": "immediate",
              "transition": {
               "duration": 0,
               "easing": "linear"
              }
             }
            ],
            "label": "45",
            "method": "animate"
           },
           {
            "args": [
             [
              "46"
             ],
             {
              "frame": {
               "duration": 0,
               "redraw": true
              },
              "fromcurrent": true,
              "mode": "immediate",
              "transition": {
               "duration": 0,
               "easing": "linear"
              }
             }
            ],
            "label": "46",
            "method": "animate"
           },
           {
            "args": [
             [
              "47"
             ],
             {
              "frame": {
               "duration": 0,
               "redraw": true
              },
              "fromcurrent": true,
              "mode": "immediate",
              "transition": {
               "duration": 0,
               "easing": "linear"
              }
             }
            ],
            "label": "47",
            "method": "animate"
           },
           {
            "args": [
             [
              "48"
             ],
             {
              "frame": {
               "duration": 0,
               "redraw": true
              },
              "fromcurrent": true,
              "mode": "immediate",
              "transition": {
               "duration": 0,
               "easing": "linear"
              }
             }
            ],
            "label": "48",
            "method": "animate"
           },
           {
            "args": [
             [
              "49"
             ],
             {
              "frame": {
               "duration": 0,
               "redraw": true
              },
              "fromcurrent": true,
              "mode": "immediate",
              "transition": {
               "duration": 0,
               "easing": "linear"
              }
             }
            ],
            "label": "49",
            "method": "animate"
           },
           {
            "args": [
             [
              "50"
             ],
             {
              "frame": {
               "duration": 0,
               "redraw": true
              },
              "fromcurrent": true,
              "mode": "immediate",
              "transition": {
               "duration": 0,
               "easing": "linear"
              }
             }
            ],
            "label": "50",
            "method": "animate"
           },
           {
            "args": [
             [
              "51"
             ],
             {
              "frame": {
               "duration": 0,
               "redraw": true
              },
              "fromcurrent": true,
              "mode": "immediate",
              "transition": {
               "duration": 0,
               "easing": "linear"
              }
             }
            ],
            "label": "51",
            "method": "animate"
           },
           {
            "args": [
             [
              "52"
             ],
             {
              "frame": {
               "duration": 0,
               "redraw": true
              },
              "fromcurrent": true,
              "mode": "immediate",
              "transition": {
               "duration": 0,
               "easing": "linear"
              }
             }
            ],
            "label": "52",
            "method": "animate"
           },
           {
            "args": [
             [
              "53"
             ],
             {
              "frame": {
               "duration": 0,
               "redraw": true
              },
              "fromcurrent": true,
              "mode": "immediate",
              "transition": {
               "duration": 0,
               "easing": "linear"
              }
             }
            ],
            "label": "53",
            "method": "animate"
           },
           {
            "args": [
             [
              "54"
             ],
             {
              "frame": {
               "duration": 0,
               "redraw": true
              },
              "fromcurrent": true,
              "mode": "immediate",
              "transition": {
               "duration": 0,
               "easing": "linear"
              }
             }
            ],
            "label": "54",
            "method": "animate"
           },
           {
            "args": [
             [
              "55"
             ],
             {
              "frame": {
               "duration": 0,
               "redraw": true
              },
              "fromcurrent": true,
              "mode": "immediate",
              "transition": {
               "duration": 0,
               "easing": "linear"
              }
             }
            ],
            "label": "55",
            "method": "animate"
           },
           {
            "args": [
             [
              "56"
             ],
             {
              "frame": {
               "duration": 0,
               "redraw": true
              },
              "fromcurrent": true,
              "mode": "immediate",
              "transition": {
               "duration": 0,
               "easing": "linear"
              }
             }
            ],
            "label": "56",
            "method": "animate"
           },
           {
            "args": [
             [
              "57"
             ],
             {
              "frame": {
               "duration": 0,
               "redraw": true
              },
              "fromcurrent": true,
              "mode": "immediate",
              "transition": {
               "duration": 0,
               "easing": "linear"
              }
             }
            ],
            "label": "57",
            "method": "animate"
           },
           {
            "args": [
             [
              "58"
             ],
             {
              "frame": {
               "duration": 0,
               "redraw": true
              },
              "fromcurrent": true,
              "mode": "immediate",
              "transition": {
               "duration": 0,
               "easing": "linear"
              }
             }
            ],
            "label": "58",
            "method": "animate"
           },
           {
            "args": [
             [
              "59"
             ],
             {
              "frame": {
               "duration": 0,
               "redraw": true
              },
              "fromcurrent": true,
              "mode": "immediate",
              "transition": {
               "duration": 0,
               "easing": "linear"
              }
             }
            ],
            "label": "59",
            "method": "animate"
           },
           {
            "args": [
             [
              "60"
             ],
             {
              "frame": {
               "duration": 0,
               "redraw": true
              },
              "fromcurrent": true,
              "mode": "immediate",
              "transition": {
               "duration": 0,
               "easing": "linear"
              }
             }
            ],
            "label": "60",
            "method": "animate"
           },
           {
            "args": [
             [
              "61"
             ],
             {
              "frame": {
               "duration": 0,
               "redraw": true
              },
              "fromcurrent": true,
              "mode": "immediate",
              "transition": {
               "duration": 0,
               "easing": "linear"
              }
             }
            ],
            "label": "61",
            "method": "animate"
           },
           {
            "args": [
             [
              "62"
             ],
             {
              "frame": {
               "duration": 0,
               "redraw": true
              },
              "fromcurrent": true,
              "mode": "immediate",
              "transition": {
               "duration": 0,
               "easing": "linear"
              }
             }
            ],
            "label": "62",
            "method": "animate"
           },
           {
            "args": [
             [
              "63"
             ],
             {
              "frame": {
               "duration": 0,
               "redraw": true
              },
              "fromcurrent": true,
              "mode": "immediate",
              "transition": {
               "duration": 0,
               "easing": "linear"
              }
             }
            ],
            "label": "63",
            "method": "animate"
           },
           {
            "args": [
             [
              "64"
             ],
             {
              "frame": {
               "duration": 0,
               "redraw": true
              },
              "fromcurrent": true,
              "mode": "immediate",
              "transition": {
               "duration": 0,
               "easing": "linear"
              }
             }
            ],
            "label": "64",
            "method": "animate"
           },
           {
            "args": [
             [
              "65"
             ],
             {
              "frame": {
               "duration": 0,
               "redraw": true
              },
              "fromcurrent": true,
              "mode": "immediate",
              "transition": {
               "duration": 0,
               "easing": "linear"
              }
             }
            ],
            "label": "65",
            "method": "animate"
           },
           {
            "args": [
             [
              "66"
             ],
             {
              "frame": {
               "duration": 0,
               "redraw": true
              },
              "fromcurrent": true,
              "mode": "immediate",
              "transition": {
               "duration": 0,
               "easing": "linear"
              }
             }
            ],
            "label": "66",
            "method": "animate"
           },
           {
            "args": [
             [
              "67"
             ],
             {
              "frame": {
               "duration": 0,
               "redraw": true
              },
              "fromcurrent": true,
              "mode": "immediate",
              "transition": {
               "duration": 0,
               "easing": "linear"
              }
             }
            ],
            "label": "67",
            "method": "animate"
           },
           {
            "args": [
             [
              "68"
             ],
             {
              "frame": {
               "duration": 0,
               "redraw": true
              },
              "fromcurrent": true,
              "mode": "immediate",
              "transition": {
               "duration": 0,
               "easing": "linear"
              }
             }
            ],
            "label": "68",
            "method": "animate"
           },
           {
            "args": [
             [
              "69"
             ],
             {
              "frame": {
               "duration": 0,
               "redraw": true
              },
              "fromcurrent": true,
              "mode": "immediate",
              "transition": {
               "duration": 0,
               "easing": "linear"
              }
             }
            ],
            "label": "69",
            "method": "animate"
           },
           {
            "args": [
             [
              "70"
             ],
             {
              "frame": {
               "duration": 0,
               "redraw": true
              },
              "fromcurrent": true,
              "mode": "immediate",
              "transition": {
               "duration": 0,
               "easing": "linear"
              }
             }
            ],
            "label": "70",
            "method": "animate"
           },
           {
            "args": [
             [
              "71"
             ],
             {
              "frame": {
               "duration": 0,
               "redraw": true
              },
              "fromcurrent": true,
              "mode": "immediate",
              "transition": {
               "duration": 0,
               "easing": "linear"
              }
             }
            ],
            "label": "71",
            "method": "animate"
           },
           {
            "args": [
             [
              "72"
             ],
             {
              "frame": {
               "duration": 0,
               "redraw": true
              },
              "fromcurrent": true,
              "mode": "immediate",
              "transition": {
               "duration": 0,
               "easing": "linear"
              }
             }
            ],
            "label": "72",
            "method": "animate"
           },
           {
            "args": [
             [
              "73"
             ],
             {
              "frame": {
               "duration": 0,
               "redraw": true
              },
              "fromcurrent": true,
              "mode": "immediate",
              "transition": {
               "duration": 0,
               "easing": "linear"
              }
             }
            ],
            "label": "73",
            "method": "animate"
           },
           {
            "args": [
             [
              "74"
             ],
             {
              "frame": {
               "duration": 0,
               "redraw": true
              },
              "fromcurrent": true,
              "mode": "immediate",
              "transition": {
               "duration": 0,
               "easing": "linear"
              }
             }
            ],
            "label": "74",
            "method": "animate"
           },
           {
            "args": [
             [
              "75"
             ],
             {
              "frame": {
               "duration": 0,
               "redraw": true
              },
              "fromcurrent": true,
              "mode": "immediate",
              "transition": {
               "duration": 0,
               "easing": "linear"
              }
             }
            ],
            "label": "75",
            "method": "animate"
           },
           {
            "args": [
             [
              "76"
             ],
             {
              "frame": {
               "duration": 0,
               "redraw": true
              },
              "fromcurrent": true,
              "mode": "immediate",
              "transition": {
               "duration": 0,
               "easing": "linear"
              }
             }
            ],
            "label": "76",
            "method": "animate"
           },
           {
            "args": [
             [
              "77"
             ],
             {
              "frame": {
               "duration": 0,
               "redraw": true
              },
              "fromcurrent": true,
              "mode": "immediate",
              "transition": {
               "duration": 0,
               "easing": "linear"
              }
             }
            ],
            "label": "77",
            "method": "animate"
           },
           {
            "args": [
             [
              "78"
             ],
             {
              "frame": {
               "duration": 0,
               "redraw": true
              },
              "fromcurrent": true,
              "mode": "immediate",
              "transition": {
               "duration": 0,
               "easing": "linear"
              }
             }
            ],
            "label": "78",
            "method": "animate"
           },
           {
            "args": [
             [
              "79"
             ],
             {
              "frame": {
               "duration": 0,
               "redraw": true
              },
              "fromcurrent": true,
              "mode": "immediate",
              "transition": {
               "duration": 0,
               "easing": "linear"
              }
             }
            ],
            "label": "79",
            "method": "animate"
           },
           {
            "args": [
             [
              "80"
             ],
             {
              "frame": {
               "duration": 0,
               "redraw": true
              },
              "fromcurrent": true,
              "mode": "immediate",
              "transition": {
               "duration": 0,
               "easing": "linear"
              }
             }
            ],
            "label": "80",
            "method": "animate"
           },
           {
            "args": [
             [
              "81"
             ],
             {
              "frame": {
               "duration": 0,
               "redraw": true
              },
              "fromcurrent": true,
              "mode": "immediate",
              "transition": {
               "duration": 0,
               "easing": "linear"
              }
             }
            ],
            "label": "81",
            "method": "animate"
           },
           {
            "args": [
             [
              "82"
             ],
             {
              "frame": {
               "duration": 0,
               "redraw": true
              },
              "fromcurrent": true,
              "mode": "immediate",
              "transition": {
               "duration": 0,
               "easing": "linear"
              }
             }
            ],
            "label": "82",
            "method": "animate"
           },
           {
            "args": [
             [
              "83"
             ],
             {
              "frame": {
               "duration": 0,
               "redraw": true
              },
              "fromcurrent": true,
              "mode": "immediate",
              "transition": {
               "duration": 0,
               "easing": "linear"
              }
             }
            ],
            "label": "83",
            "method": "animate"
           },
           {
            "args": [
             [
              "84"
             ],
             {
              "frame": {
               "duration": 0,
               "redraw": true
              },
              "fromcurrent": true,
              "mode": "immediate",
              "transition": {
               "duration": 0,
               "easing": "linear"
              }
             }
            ],
            "label": "84",
            "method": "animate"
           },
           {
            "args": [
             [
              "85"
             ],
             {
              "frame": {
               "duration": 0,
               "redraw": true
              },
              "fromcurrent": true,
              "mode": "immediate",
              "transition": {
               "duration": 0,
               "easing": "linear"
              }
             }
            ],
            "label": "85",
            "method": "animate"
           },
           {
            "args": [
             [
              "86"
             ],
             {
              "frame": {
               "duration": 0,
               "redraw": true
              },
              "fromcurrent": true,
              "mode": "immediate",
              "transition": {
               "duration": 0,
               "easing": "linear"
              }
             }
            ],
            "label": "86",
            "method": "animate"
           },
           {
            "args": [
             [
              "87"
             ],
             {
              "frame": {
               "duration": 0,
               "redraw": true
              },
              "fromcurrent": true,
              "mode": "immediate",
              "transition": {
               "duration": 0,
               "easing": "linear"
              }
             }
            ],
            "label": "87",
            "method": "animate"
           },
           {
            "args": [
             [
              "88"
             ],
             {
              "frame": {
               "duration": 0,
               "redraw": true
              },
              "fromcurrent": true,
              "mode": "immediate",
              "transition": {
               "duration": 0,
               "easing": "linear"
              }
             }
            ],
            "label": "88",
            "method": "animate"
           },
           {
            "args": [
             [
              "89"
             ],
             {
              "frame": {
               "duration": 0,
               "redraw": true
              },
              "fromcurrent": true,
              "mode": "immediate",
              "transition": {
               "duration": 0,
               "easing": "linear"
              }
             }
            ],
            "label": "89",
            "method": "animate"
           },
           {
            "args": [
             [
              "90"
             ],
             {
              "frame": {
               "duration": 0,
               "redraw": true
              },
              "fromcurrent": true,
              "mode": "immediate",
              "transition": {
               "duration": 0,
               "easing": "linear"
              }
             }
            ],
            "label": "90",
            "method": "animate"
           },
           {
            "args": [
             [
              "91"
             ],
             {
              "frame": {
               "duration": 0,
               "redraw": true
              },
              "fromcurrent": true,
              "mode": "immediate",
              "transition": {
               "duration": 0,
               "easing": "linear"
              }
             }
            ],
            "label": "91",
            "method": "animate"
           },
           {
            "args": [
             [
              "92"
             ],
             {
              "frame": {
               "duration": 0,
               "redraw": true
              },
              "fromcurrent": true,
              "mode": "immediate",
              "transition": {
               "duration": 0,
               "easing": "linear"
              }
             }
            ],
            "label": "92",
            "method": "animate"
           },
           {
            "args": [
             [
              "93"
             ],
             {
              "frame": {
               "duration": 0,
               "redraw": true
              },
              "fromcurrent": true,
              "mode": "immediate",
              "transition": {
               "duration": 0,
               "easing": "linear"
              }
             }
            ],
            "label": "93",
            "method": "animate"
           },
           {
            "args": [
             [
              "94"
             ],
             {
              "frame": {
               "duration": 0,
               "redraw": true
              },
              "fromcurrent": true,
              "mode": "immediate",
              "transition": {
               "duration": 0,
               "easing": "linear"
              }
             }
            ],
            "label": "94",
            "method": "animate"
           },
           {
            "args": [
             [
              "95"
             ],
             {
              "frame": {
               "duration": 0,
               "redraw": true
              },
              "fromcurrent": true,
              "mode": "immediate",
              "transition": {
               "duration": 0,
               "easing": "linear"
              }
             }
            ],
            "label": "95",
            "method": "animate"
           },
           {
            "args": [
             [
              "96"
             ],
             {
              "frame": {
               "duration": 0,
               "redraw": true
              },
              "fromcurrent": true,
              "mode": "immediate",
              "transition": {
               "duration": 0,
               "easing": "linear"
              }
             }
            ],
            "label": "96",
            "method": "animate"
           },
           {
            "args": [
             [
              "97"
             ],
             {
              "frame": {
               "duration": 0,
               "redraw": true
              },
              "fromcurrent": true,
              "mode": "immediate",
              "transition": {
               "duration": 0,
               "easing": "linear"
              }
             }
            ],
            "label": "97",
            "method": "animate"
           },
           {
            "args": [
             [
              "98"
             ],
             {
              "frame": {
               "duration": 0,
               "redraw": true
              },
              "fromcurrent": true,
              "mode": "immediate",
              "transition": {
               "duration": 0,
               "easing": "linear"
              }
             }
            ],
            "label": "98",
            "method": "animate"
           },
           {
            "args": [
             [
              "99"
             ],
             {
              "frame": {
               "duration": 0,
               "redraw": true
              },
              "fromcurrent": true,
              "mode": "immediate",
              "transition": {
               "duration": 0,
               "easing": "linear"
              }
             }
            ],
            "label": "99",
            "method": "animate"
           }
          ],
          "x": 0.1,
          "xanchor": "left",
          "y": 0,
          "yanchor": "top"
         }
        ],
        "template": {
         "data": {
          "bar": [
           {
            "error_x": {
             "color": "#2a3f5f"
            },
            "error_y": {
             "color": "#2a3f5f"
            },
            "marker": {
             "line": {
              "color": "#E5ECF6",
              "width": 0.5
             }
            },
            "type": "bar"
           }
          ],
          "barpolar": [
           {
            "marker": {
             "line": {
              "color": "#E5ECF6",
              "width": 0.5
             }
            },
            "type": "barpolar"
           }
          ],
          "carpet": [
           {
            "aaxis": {
             "endlinecolor": "#2a3f5f",
             "gridcolor": "white",
             "linecolor": "white",
             "minorgridcolor": "white",
             "startlinecolor": "#2a3f5f"
            },
            "baxis": {
             "endlinecolor": "#2a3f5f",
             "gridcolor": "white",
             "linecolor": "white",
             "minorgridcolor": "white",
             "startlinecolor": "#2a3f5f"
            },
            "type": "carpet"
           }
          ],
          "choropleth": [
           {
            "colorbar": {
             "outlinewidth": 0,
             "ticks": ""
            },
            "type": "choropleth"
           }
          ],
          "contour": [
           {
            "colorbar": {
             "outlinewidth": 0,
             "ticks": ""
            },
            "colorscale": [
             [
              0,
              "#0d0887"
             ],
             [
              0.1111111111111111,
              "#46039f"
             ],
             [
              0.2222222222222222,
              "#7201a8"
             ],
             [
              0.3333333333333333,
              "#9c179e"
             ],
             [
              0.4444444444444444,
              "#bd3786"
             ],
             [
              0.5555555555555556,
              "#d8576b"
             ],
             [
              0.6666666666666666,
              "#ed7953"
             ],
             [
              0.7777777777777778,
              "#fb9f3a"
             ],
             [
              0.8888888888888888,
              "#fdca26"
             ],
             [
              1,
              "#f0f921"
             ]
            ],
            "type": "contour"
           }
          ],
          "contourcarpet": [
           {
            "colorbar": {
             "outlinewidth": 0,
             "ticks": ""
            },
            "type": "contourcarpet"
           }
          ],
          "heatmap": [
           {
            "colorbar": {
             "outlinewidth": 0,
             "ticks": ""
            },
            "colorscale": [
             [
              0,
              "#0d0887"
             ],
             [
              0.1111111111111111,
              "#46039f"
             ],
             [
              0.2222222222222222,
              "#7201a8"
             ],
             [
              0.3333333333333333,
              "#9c179e"
             ],
             [
              0.4444444444444444,
              "#bd3786"
             ],
             [
              0.5555555555555556,
              "#d8576b"
             ],
             [
              0.6666666666666666,
              "#ed7953"
             ],
             [
              0.7777777777777778,
              "#fb9f3a"
             ],
             [
              0.8888888888888888,
              "#fdca26"
             ],
             [
              1,
              "#f0f921"
             ]
            ],
            "type": "heatmap"
           }
          ],
          "heatmapgl": [
           {
            "colorbar": {
             "outlinewidth": 0,
             "ticks": ""
            },
            "colorscale": [
             [
              0,
              "#0d0887"
             ],
             [
              0.1111111111111111,
              "#46039f"
             ],
             [
              0.2222222222222222,
              "#7201a8"
             ],
             [
              0.3333333333333333,
              "#9c179e"
             ],
             [
              0.4444444444444444,
              "#bd3786"
             ],
             [
              0.5555555555555556,
              "#d8576b"
             ],
             [
              0.6666666666666666,
              "#ed7953"
             ],
             [
              0.7777777777777778,
              "#fb9f3a"
             ],
             [
              0.8888888888888888,
              "#fdca26"
             ],
             [
              1,
              "#f0f921"
             ]
            ],
            "type": "heatmapgl"
           }
          ],
          "histogram": [
           {
            "marker": {
             "colorbar": {
              "outlinewidth": 0,
              "ticks": ""
             }
            },
            "type": "histogram"
           }
          ],
          "histogram2d": [
           {
            "colorbar": {
             "outlinewidth": 0,
             "ticks": ""
            },
            "colorscale": [
             [
              0,
              "#0d0887"
             ],
             [
              0.1111111111111111,
              "#46039f"
             ],
             [
              0.2222222222222222,
              "#7201a8"
             ],
             [
              0.3333333333333333,
              "#9c179e"
             ],
             [
              0.4444444444444444,
              "#bd3786"
             ],
             [
              0.5555555555555556,
              "#d8576b"
             ],
             [
              0.6666666666666666,
              "#ed7953"
             ],
             [
              0.7777777777777778,
              "#fb9f3a"
             ],
             [
              0.8888888888888888,
              "#fdca26"
             ],
             [
              1,
              "#f0f921"
             ]
            ],
            "type": "histogram2d"
           }
          ],
          "histogram2dcontour": [
           {
            "colorbar": {
             "outlinewidth": 0,
             "ticks": ""
            },
            "colorscale": [
             [
              0,
              "#0d0887"
             ],
             [
              0.1111111111111111,
              "#46039f"
             ],
             [
              0.2222222222222222,
              "#7201a8"
             ],
             [
              0.3333333333333333,
              "#9c179e"
             ],
             [
              0.4444444444444444,
              "#bd3786"
             ],
             [
              0.5555555555555556,
              "#d8576b"
             ],
             [
              0.6666666666666666,
              "#ed7953"
             ],
             [
              0.7777777777777778,
              "#fb9f3a"
             ],
             [
              0.8888888888888888,
              "#fdca26"
             ],
             [
              1,
              "#f0f921"
             ]
            ],
            "type": "histogram2dcontour"
           }
          ],
          "mesh3d": [
           {
            "colorbar": {
             "outlinewidth": 0,
             "ticks": ""
            },
            "type": "mesh3d"
           }
          ],
          "parcoords": [
           {
            "line": {
             "colorbar": {
              "outlinewidth": 0,
              "ticks": ""
             }
            },
            "type": "parcoords"
           }
          ],
          "pie": [
           {
            "automargin": true,
            "type": "pie"
           }
          ],
          "scatter": [
           {
            "marker": {
             "colorbar": {
              "outlinewidth": 0,
              "ticks": ""
             }
            },
            "type": "scatter"
           }
          ],
          "scatter3d": [
           {
            "line": {
             "colorbar": {
              "outlinewidth": 0,
              "ticks": ""
             }
            },
            "marker": {
             "colorbar": {
              "outlinewidth": 0,
              "ticks": ""
             }
            },
            "type": "scatter3d"
           }
          ],
          "scattercarpet": [
           {
            "marker": {
             "colorbar": {
              "outlinewidth": 0,
              "ticks": ""
             }
            },
            "type": "scattercarpet"
           }
          ],
          "scattergeo": [
           {
            "marker": {
             "colorbar": {
              "outlinewidth": 0,
              "ticks": ""
             }
            },
            "type": "scattergeo"
           }
          ],
          "scattergl": [
           {
            "marker": {
             "colorbar": {
              "outlinewidth": 0,
              "ticks": ""
             }
            },
            "type": "scattergl"
           }
          ],
          "scattermapbox": [
           {
            "marker": {
             "colorbar": {
              "outlinewidth": 0,
              "ticks": ""
             }
            },
            "type": "scattermapbox"
           }
          ],
          "scatterpolar": [
           {
            "marker": {
             "colorbar": {
              "outlinewidth": 0,
              "ticks": ""
             }
            },
            "type": "scatterpolar"
           }
          ],
          "scatterpolargl": [
           {
            "marker": {
             "colorbar": {
              "outlinewidth": 0,
              "ticks": ""
             }
            },
            "type": "scatterpolargl"
           }
          ],
          "scatterternary": [
           {
            "marker": {
             "colorbar": {
              "outlinewidth": 0,
              "ticks": ""
             }
            },
            "type": "scatterternary"
           }
          ],
          "surface": [
           {
            "colorbar": {
             "outlinewidth": 0,
             "ticks": ""
            },
            "colorscale": [
             [
              0,
              "#0d0887"
             ],
             [
              0.1111111111111111,
              "#46039f"
             ],
             [
              0.2222222222222222,
              "#7201a8"
             ],
             [
              0.3333333333333333,
              "#9c179e"
             ],
             [
              0.4444444444444444,
              "#bd3786"
             ],
             [
              0.5555555555555556,
              "#d8576b"
             ],
             [
              0.6666666666666666,
              "#ed7953"
             ],
             [
              0.7777777777777778,
              "#fb9f3a"
             ],
             [
              0.8888888888888888,
              "#fdca26"
             ],
             [
              1,
              "#f0f921"
             ]
            ],
            "type": "surface"
           }
          ],
          "table": [
           {
            "cells": {
             "fill": {
              "color": "#EBF0F8"
             },
             "line": {
              "color": "white"
             }
            },
            "header": {
             "fill": {
              "color": "#C8D4E3"
             },
             "line": {
              "color": "white"
             }
            },
            "type": "table"
           }
          ]
         },
         "layout": {
          "annotationdefaults": {
           "arrowcolor": "#2a3f5f",
           "arrowhead": 0,
           "arrowwidth": 1
          },
          "autotypenumbers": "strict",
          "coloraxis": {
           "colorbar": {
            "outlinewidth": 0,
            "ticks": ""
           }
          },
          "colorscale": {
           "diverging": [
            [
             0,
             "#8e0152"
            ],
            [
             0.1,
             "#c51b7d"
            ],
            [
             0.2,
             "#de77ae"
            ],
            [
             0.3,
             "#f1b6da"
            ],
            [
             0.4,
             "#fde0ef"
            ],
            [
             0.5,
             "#f7f7f7"
            ],
            [
             0.6,
             "#e6f5d0"
            ],
            [
             0.7,
             "#b8e186"
            ],
            [
             0.8,
             "#7fbc41"
            ],
            [
             0.9,
             "#4d9221"
            ],
            [
             1,
             "#276419"
            ]
           ],
           "sequential": [
            [
             0,
             "#0d0887"
            ],
            [
             0.1111111111111111,
             "#46039f"
            ],
            [
             0.2222222222222222,
             "#7201a8"
            ],
            [
             0.3333333333333333,
             "#9c179e"
            ],
            [
             0.4444444444444444,
             "#bd3786"
            ],
            [
             0.5555555555555556,
             "#d8576b"
            ],
            [
             0.6666666666666666,
             "#ed7953"
            ],
            [
             0.7777777777777778,
             "#fb9f3a"
            ],
            [
             0.8888888888888888,
             "#fdca26"
            ],
            [
             1,
             "#f0f921"
            ]
           ],
           "sequentialminus": [
            [
             0,
             "#0d0887"
            ],
            [
             0.1111111111111111,
             "#46039f"
            ],
            [
             0.2222222222222222,
             "#7201a8"
            ],
            [
             0.3333333333333333,
             "#9c179e"
            ],
            [
             0.4444444444444444,
             "#bd3786"
            ],
            [
             0.5555555555555556,
             "#d8576b"
            ],
            [
             0.6666666666666666,
             "#ed7953"
            ],
            [
             0.7777777777777778,
             "#fb9f3a"
            ],
            [
             0.8888888888888888,
             "#fdca26"
            ],
            [
             1,
             "#f0f921"
            ]
           ]
          },
          "colorway": [
           "#636efa",
           "#EF553B",
           "#00cc96",
           "#ab63fa",
           "#FFA15A",
           "#19d3f3",
           "#FF6692",
           "#B6E880",
           "#FF97FF",
           "#FECB52"
          ],
          "font": {
           "color": "#2a3f5f"
          },
          "geo": {
           "bgcolor": "white",
           "lakecolor": "white",
           "landcolor": "#E5ECF6",
           "showlakes": true,
           "showland": true,
           "subunitcolor": "white"
          },
          "hoverlabel": {
           "align": "left"
          },
          "hovermode": "closest",
          "mapbox": {
           "style": "light"
          },
          "paper_bgcolor": "white",
          "plot_bgcolor": "#E5ECF6",
          "polar": {
           "angularaxis": {
            "gridcolor": "white",
            "linecolor": "white",
            "ticks": ""
           },
           "bgcolor": "#E5ECF6",
           "radialaxis": {
            "gridcolor": "white",
            "linecolor": "white",
            "ticks": ""
           }
          },
          "scene": {
           "xaxis": {
            "backgroundcolor": "#E5ECF6",
            "gridcolor": "white",
            "gridwidth": 2,
            "linecolor": "white",
            "showbackground": true,
            "ticks": "",
            "zerolinecolor": "white"
           },
           "yaxis": {
            "backgroundcolor": "#E5ECF6",
            "gridcolor": "white",
            "gridwidth": 2,
            "linecolor": "white",
            "showbackground": true,
            "ticks": "",
            "zerolinecolor": "white"
           },
           "zaxis": {
            "backgroundcolor": "#E5ECF6",
            "gridcolor": "white",
            "gridwidth": 2,
            "linecolor": "white",
            "showbackground": true,
            "ticks": "",
            "zerolinecolor": "white"
           }
          },
          "shapedefaults": {
           "line": {
            "color": "#2a3f5f"
           }
          },
          "ternary": {
           "aaxis": {
            "gridcolor": "white",
            "linecolor": "white",
            "ticks": ""
           },
           "baxis": {
            "gridcolor": "white",
            "linecolor": "white",
            "ticks": ""
           },
           "bgcolor": "#E5ECF6",
           "caxis": {
            "gridcolor": "white",
            "linecolor": "white",
            "ticks": ""
           }
          },
          "title": {
           "x": 0.05
          },
          "xaxis": {
           "automargin": true,
           "gridcolor": "white",
           "linecolor": "white",
           "ticks": "",
           "title": {
            "standoff": 15
           },
           "zerolinecolor": "white",
           "zerolinewidth": 2
          },
          "yaxis": {
           "automargin": true,
           "gridcolor": "white",
           "linecolor": "white",
           "ticks": "",
           "title": {
            "standoff": 15
           },
           "zerolinecolor": "white",
           "zerolinewidth": 2
          }
         }
        },
        "updatemenus": [
         {
          "buttons": [
           {
            "args": [
             null,
             {
              "frame": {
               "duration": 500,
               "redraw": true
              },
              "fromcurrent": true,
              "mode": "immediate",
              "transition": {
               "duration": 500,
               "easing": "linear"
              }
             }
            ],
            "label": "&#9654;",
            "method": "animate"
           },
           {
            "args": [
             [
              null
             ],
             {
              "frame": {
               "duration": 0,
               "redraw": true
              },
              "fromcurrent": true,
              "mode": "immediate",
              "transition": {
               "duration": 0,
               "easing": "linear"
              }
             }
            ],
            "label": "&#9724;",
            "method": "animate"
           }
          ],
          "direction": "left",
          "pad": {
           "r": 10,
           "t": 70
          },
          "showactive": false,
          "type": "buttons",
          "x": 0.1,
          "xanchor": "right",
          "y": 0,
          "yanchor": "top"
         }
        ],
        "width": 500,
        "xaxis": {
         "anchor": "y",
         "constrain": "domain",
         "domain": [
          0,
          1
         ],
         "scaleanchor": "y"
        },
        "yaxis": {
         "anchor": "x",
         "autorange": "reversed",
         "constrain": "domain",
         "domain": [
          0,
          1
         ]
        }
       }
      },
      "text/html": [
       "<div>                            <div id=\"556af411-bfda-4b2b-a3be-157b04aed165\" class=\"plotly-graph-div\" style=\"height:500px; width:500px;\"></div>            <script type=\"text/javascript\">                require([\"plotly\"], function(Plotly) {                    window.PLOTLYENV=window.PLOTLYENV || {};                                    if (document.getElementById(\"556af411-bfda-4b2b-a3be-157b04aed165\")) {                    Plotly.newPlot(                        \"556af411-bfda-4b2b-a3be-157b04aed165\",                        [{\"coloraxis\": \"coloraxis\", \"hovertemplate\": \"x: %{x}<br>y: %{y}<br>color: %{z}<extra></extra>\", \"name\": \"0\", \"type\": \"heatmap\", \"xaxis\": \"x\", \"yaxis\": \"y\", \"z\": [[0.015624999999999986, 0.015624999999999986, 0.015624999999999986, 0.015624999999999986, 0.015624999999999986, 0.015624999999999986, 0.015624999999999986, 0.015624999999999986], [0.015624999999999986, 0.015624999999999986, 0.015624999999999986, 0.015624999999999986, 0.015624999999999986, 0.015624999999999986, 0.015624999999999986, 0.015624999999999986], [0.015624999999999986, 0.015624999999999986, 0.015624999999999986, 0.015624999999999986, 0.015624999999999986, 0.015624999999999986, 0.015624999999999986, 0.015624999999999986], [0.015624999999999986, 0.015624999999999986, 0.015624999999999986, 0.015624999999999986, 0.015624999999999986, 0.015624999999999986, 0.015624999999999986, 0.015624999999999986], [0.015624999999999986, 0.015624999999999986, 0.015624999999999986, 0.015624999999999986, 0.015624999999999986, 0.015624999999999986, 0.015624999999999986, 0.015624999999999986], [0.015624999999999986, 0.015624999999999986, 0.015624999999999986, 0.015624999999999986, 0.015624999999999986, 0.015624999999999986, 0.015624999999999986, 0.015624999999999986], [0.015624999999999986, 0.015624999999999986, 0.015624999999999986, 0.015624999999999986, 0.015624999999999986, 0.015624999999999986, 0.015624999999999986, 0.015624999999999986], [0.015624999999999986, 0.015624999999999986, 0.015624999999999986, 0.015624999999999986, 0.015624999999999986, 0.015624999999999986, 0.015624999999999986, 0.015624999999999986]]}],                        {\"coloraxis\": {\"colorscale\": [[0.0, \"rgb(243, 231, 155)\"], [0.16666666666666666, \"rgb(250, 196, 132)\"], [0.3333333333333333, \"rgb(248, 160, 126)\"], [0.5, \"rgb(235, 127, 134)\"], [0.6666666666666666, \"rgb(206, 102, 147)\"], [0.8333333333333334, \"rgb(160, 89, 160)\"], [1.0, \"rgb(92, 83, 165)\"]]}, \"height\": 500, \"margin\": {\"t\": 60}, \"sliders\": [{\"active\": 0, \"currentvalue\": {\"prefix\": \"animation_frame=\"}, \"len\": 0.9, \"pad\": {\"b\": 10, \"t\": 60}, \"steps\": [{\"args\": [[\"0\"], {\"frame\": {\"duration\": 0, \"redraw\": true}, \"fromcurrent\": true, \"mode\": \"immediate\", \"transition\": {\"duration\": 0, \"easing\": \"linear\"}}], \"label\": \"0\", \"method\": \"animate\"}, {\"args\": [[\"1\"], {\"frame\": {\"duration\": 0, \"redraw\": true}, \"fromcurrent\": true, \"mode\": \"immediate\", \"transition\": {\"duration\": 0, \"easing\": \"linear\"}}], \"label\": \"1\", \"method\": \"animate\"}, {\"args\": [[\"2\"], {\"frame\": {\"duration\": 0, \"redraw\": true}, \"fromcurrent\": true, \"mode\": \"immediate\", \"transition\": {\"duration\": 0, \"easing\": \"linear\"}}], \"label\": \"2\", \"method\": \"animate\"}, {\"args\": [[\"3\"], {\"frame\": {\"duration\": 0, \"redraw\": true}, \"fromcurrent\": true, \"mode\": \"immediate\", \"transition\": {\"duration\": 0, \"easing\": \"linear\"}}], \"label\": \"3\", \"method\": \"animate\"}, {\"args\": [[\"4\"], {\"frame\": {\"duration\": 0, \"redraw\": true}, \"fromcurrent\": true, \"mode\": \"immediate\", \"transition\": {\"duration\": 0, \"easing\": \"linear\"}}], \"label\": \"4\", \"method\": \"animate\"}, {\"args\": [[\"5\"], {\"frame\": {\"duration\": 0, \"redraw\": true}, \"fromcurrent\": true, \"mode\": \"immediate\", \"transition\": {\"duration\": 0, \"easing\": \"linear\"}}], \"label\": \"5\", \"method\": \"animate\"}, {\"args\": [[\"6\"], {\"frame\": {\"duration\": 0, \"redraw\": true}, \"fromcurrent\": true, \"mode\": \"immediate\", \"transition\": {\"duration\": 0, \"easing\": \"linear\"}}], \"label\": \"6\", \"method\": \"animate\"}, {\"args\": [[\"7\"], {\"frame\": {\"duration\": 0, \"redraw\": true}, \"fromcurrent\": true, \"mode\": \"immediate\", \"transition\": {\"duration\": 0, \"easing\": \"linear\"}}], \"label\": \"7\", \"method\": \"animate\"}, {\"args\": [[\"8\"], {\"frame\": {\"duration\": 0, \"redraw\": true}, \"fromcurrent\": true, \"mode\": \"immediate\", \"transition\": {\"duration\": 0, \"easing\": \"linear\"}}], \"label\": \"8\", \"method\": \"animate\"}, {\"args\": [[\"9\"], {\"frame\": {\"duration\": 0, \"redraw\": true}, \"fromcurrent\": true, \"mode\": \"immediate\", \"transition\": {\"duration\": 0, \"easing\": \"linear\"}}], \"label\": \"9\", \"method\": \"animate\"}, {\"args\": [[\"10\"], {\"frame\": {\"duration\": 0, \"redraw\": true}, \"fromcurrent\": true, \"mode\": \"immediate\", \"transition\": {\"duration\": 0, \"easing\": \"linear\"}}], \"label\": \"10\", \"method\": \"animate\"}, {\"args\": [[\"11\"], {\"frame\": {\"duration\": 0, \"redraw\": true}, \"fromcurrent\": true, \"mode\": \"immediate\", \"transition\": {\"duration\": 0, \"easing\": \"linear\"}}], \"label\": \"11\", \"method\": \"animate\"}, {\"args\": [[\"12\"], {\"frame\": {\"duration\": 0, \"redraw\": true}, \"fromcurrent\": true, \"mode\": \"immediate\", \"transition\": {\"duration\": 0, \"easing\": \"linear\"}}], \"label\": \"12\", \"method\": \"animate\"}, {\"args\": [[\"13\"], {\"frame\": {\"duration\": 0, \"redraw\": true}, \"fromcurrent\": true, \"mode\": \"immediate\", \"transition\": {\"duration\": 0, \"easing\": \"linear\"}}], \"label\": \"13\", \"method\": \"animate\"}, {\"args\": [[\"14\"], {\"frame\": {\"duration\": 0, \"redraw\": true}, \"fromcurrent\": true, \"mode\": \"immediate\", \"transition\": {\"duration\": 0, \"easing\": \"linear\"}}], \"label\": \"14\", \"method\": \"animate\"}, {\"args\": [[\"15\"], {\"frame\": {\"duration\": 0, \"redraw\": true}, \"fromcurrent\": true, \"mode\": \"immediate\", \"transition\": {\"duration\": 0, \"easing\": \"linear\"}}], \"label\": \"15\", \"method\": \"animate\"}, {\"args\": [[\"16\"], {\"frame\": {\"duration\": 0, \"redraw\": true}, \"fromcurrent\": true, \"mode\": \"immediate\", \"transition\": {\"duration\": 0, \"easing\": \"linear\"}}], \"label\": \"16\", \"method\": \"animate\"}, {\"args\": [[\"17\"], {\"frame\": {\"duration\": 0, \"redraw\": true}, \"fromcurrent\": true, \"mode\": \"immediate\", \"transition\": {\"duration\": 0, \"easing\": \"linear\"}}], \"label\": \"17\", \"method\": \"animate\"}, {\"args\": [[\"18\"], {\"frame\": {\"duration\": 0, \"redraw\": true}, \"fromcurrent\": true, \"mode\": \"immediate\", \"transition\": {\"duration\": 0, \"easing\": \"linear\"}}], \"label\": \"18\", \"method\": \"animate\"}, {\"args\": [[\"19\"], {\"frame\": {\"duration\": 0, \"redraw\": true}, \"fromcurrent\": true, \"mode\": \"immediate\", \"transition\": {\"duration\": 0, \"easing\": \"linear\"}}], \"label\": \"19\", \"method\": \"animate\"}, {\"args\": [[\"20\"], {\"frame\": {\"duration\": 0, \"redraw\": true}, \"fromcurrent\": true, \"mode\": \"immediate\", \"transition\": {\"duration\": 0, \"easing\": \"linear\"}}], \"label\": \"20\", \"method\": \"animate\"}, {\"args\": [[\"21\"], {\"frame\": {\"duration\": 0, \"redraw\": true}, \"fromcurrent\": true, \"mode\": \"immediate\", \"transition\": {\"duration\": 0, \"easing\": \"linear\"}}], \"label\": \"21\", \"method\": \"animate\"}, {\"args\": [[\"22\"], {\"frame\": {\"duration\": 0, \"redraw\": true}, \"fromcurrent\": true, \"mode\": \"immediate\", \"transition\": {\"duration\": 0, \"easing\": \"linear\"}}], \"label\": \"22\", \"method\": \"animate\"}, {\"args\": [[\"23\"], {\"frame\": {\"duration\": 0, \"redraw\": true}, \"fromcurrent\": true, \"mode\": \"immediate\", \"transition\": {\"duration\": 0, \"easing\": \"linear\"}}], \"label\": \"23\", \"method\": \"animate\"}, {\"args\": [[\"24\"], {\"frame\": {\"duration\": 0, \"redraw\": true}, \"fromcurrent\": true, \"mode\": \"immediate\", \"transition\": {\"duration\": 0, \"easing\": \"linear\"}}], \"label\": \"24\", \"method\": \"animate\"}, {\"args\": [[\"25\"], {\"frame\": {\"duration\": 0, \"redraw\": true}, \"fromcurrent\": true, \"mode\": \"immediate\", \"transition\": {\"duration\": 0, \"easing\": \"linear\"}}], \"label\": \"25\", \"method\": \"animate\"}, {\"args\": [[\"26\"], {\"frame\": {\"duration\": 0, \"redraw\": true}, \"fromcurrent\": true, \"mode\": \"immediate\", \"transition\": {\"duration\": 0, \"easing\": \"linear\"}}], \"label\": \"26\", \"method\": \"animate\"}, {\"args\": [[\"27\"], {\"frame\": {\"duration\": 0, \"redraw\": true}, \"fromcurrent\": true, \"mode\": \"immediate\", \"transition\": {\"duration\": 0, \"easing\": \"linear\"}}], \"label\": \"27\", \"method\": \"animate\"}, {\"args\": [[\"28\"], {\"frame\": {\"duration\": 0, \"redraw\": true}, \"fromcurrent\": true, \"mode\": \"immediate\", \"transition\": {\"duration\": 0, \"easing\": \"linear\"}}], \"label\": \"28\", \"method\": \"animate\"}, {\"args\": [[\"29\"], {\"frame\": {\"duration\": 0, \"redraw\": true}, \"fromcurrent\": true, \"mode\": \"immediate\", \"transition\": {\"duration\": 0, \"easing\": \"linear\"}}], \"label\": \"29\", \"method\": \"animate\"}, {\"args\": [[\"30\"], {\"frame\": {\"duration\": 0, \"redraw\": true}, \"fromcurrent\": true, \"mode\": \"immediate\", \"transition\": {\"duration\": 0, \"easing\": \"linear\"}}], \"label\": \"30\", \"method\": \"animate\"}, {\"args\": [[\"31\"], {\"frame\": {\"duration\": 0, \"redraw\": true}, \"fromcurrent\": true, \"mode\": \"immediate\", \"transition\": {\"duration\": 0, \"easing\": \"linear\"}}], \"label\": \"31\", \"method\": \"animate\"}, {\"args\": [[\"32\"], {\"frame\": {\"duration\": 0, \"redraw\": true}, \"fromcurrent\": true, \"mode\": \"immediate\", \"transition\": {\"duration\": 0, \"easing\": \"linear\"}}], \"label\": \"32\", \"method\": \"animate\"}, {\"args\": [[\"33\"], {\"frame\": {\"duration\": 0, \"redraw\": true}, \"fromcurrent\": true, \"mode\": \"immediate\", \"transition\": {\"duration\": 0, \"easing\": \"linear\"}}], \"label\": \"33\", \"method\": \"animate\"}, {\"args\": [[\"34\"], {\"frame\": {\"duration\": 0, \"redraw\": true}, \"fromcurrent\": true, \"mode\": \"immediate\", \"transition\": {\"duration\": 0, \"easing\": \"linear\"}}], \"label\": \"34\", \"method\": \"animate\"}, {\"args\": [[\"35\"], {\"frame\": {\"duration\": 0, \"redraw\": true}, \"fromcurrent\": true, \"mode\": \"immediate\", \"transition\": {\"duration\": 0, \"easing\": \"linear\"}}], \"label\": \"35\", \"method\": \"animate\"}, {\"args\": [[\"36\"], {\"frame\": {\"duration\": 0, \"redraw\": true}, \"fromcurrent\": true, \"mode\": \"immediate\", \"transition\": {\"duration\": 0, \"easing\": \"linear\"}}], \"label\": \"36\", \"method\": \"animate\"}, {\"args\": [[\"37\"], {\"frame\": {\"duration\": 0, \"redraw\": true}, \"fromcurrent\": true, \"mode\": \"immediate\", \"transition\": {\"duration\": 0, \"easing\": \"linear\"}}], \"label\": \"37\", \"method\": \"animate\"}, {\"args\": [[\"38\"], {\"frame\": {\"duration\": 0, \"redraw\": true}, \"fromcurrent\": true, \"mode\": \"immediate\", \"transition\": {\"duration\": 0, \"easing\": \"linear\"}}], \"label\": \"38\", \"method\": \"animate\"}, {\"args\": [[\"39\"], {\"frame\": {\"duration\": 0, \"redraw\": true}, \"fromcurrent\": true, \"mode\": \"immediate\", \"transition\": {\"duration\": 0, \"easing\": \"linear\"}}], \"label\": \"39\", \"method\": \"animate\"}, {\"args\": [[\"40\"], {\"frame\": {\"duration\": 0, \"redraw\": true}, \"fromcurrent\": true, \"mode\": \"immediate\", \"transition\": {\"duration\": 0, \"easing\": \"linear\"}}], \"label\": \"40\", \"method\": \"animate\"}, {\"args\": [[\"41\"], {\"frame\": {\"duration\": 0, \"redraw\": true}, \"fromcurrent\": true, \"mode\": \"immediate\", \"transition\": {\"duration\": 0, \"easing\": \"linear\"}}], \"label\": \"41\", \"method\": \"animate\"}, {\"args\": [[\"42\"], {\"frame\": {\"duration\": 0, \"redraw\": true}, \"fromcurrent\": true, \"mode\": \"immediate\", \"transition\": {\"duration\": 0, \"easing\": \"linear\"}}], \"label\": \"42\", \"method\": \"animate\"}, {\"args\": [[\"43\"], {\"frame\": {\"duration\": 0, \"redraw\": true}, \"fromcurrent\": true, \"mode\": \"immediate\", \"transition\": {\"duration\": 0, \"easing\": \"linear\"}}], \"label\": \"43\", \"method\": \"animate\"}, {\"args\": [[\"44\"], {\"frame\": {\"duration\": 0, \"redraw\": true}, \"fromcurrent\": true, \"mode\": \"immediate\", \"transition\": {\"duration\": 0, \"easing\": \"linear\"}}], \"label\": \"44\", \"method\": \"animate\"}, {\"args\": [[\"45\"], {\"frame\": {\"duration\": 0, \"redraw\": true}, \"fromcurrent\": true, \"mode\": \"immediate\", \"transition\": {\"duration\": 0, \"easing\": \"linear\"}}], \"label\": \"45\", \"method\": \"animate\"}, {\"args\": [[\"46\"], {\"frame\": {\"duration\": 0, \"redraw\": true}, \"fromcurrent\": true, \"mode\": \"immediate\", \"transition\": {\"duration\": 0, \"easing\": \"linear\"}}], \"label\": \"46\", \"method\": \"animate\"}, {\"args\": [[\"47\"], {\"frame\": {\"duration\": 0, \"redraw\": true}, \"fromcurrent\": true, \"mode\": \"immediate\", \"transition\": {\"duration\": 0, \"easing\": \"linear\"}}], \"label\": \"47\", \"method\": \"animate\"}, {\"args\": [[\"48\"], {\"frame\": {\"duration\": 0, \"redraw\": true}, \"fromcurrent\": true, \"mode\": \"immediate\", \"transition\": {\"duration\": 0, \"easing\": \"linear\"}}], \"label\": \"48\", \"method\": \"animate\"}, {\"args\": [[\"49\"], {\"frame\": {\"duration\": 0, \"redraw\": true}, \"fromcurrent\": true, \"mode\": \"immediate\", \"transition\": {\"duration\": 0, \"easing\": \"linear\"}}], \"label\": \"49\", \"method\": \"animate\"}, {\"args\": [[\"50\"], {\"frame\": {\"duration\": 0, \"redraw\": true}, \"fromcurrent\": true, \"mode\": \"immediate\", \"transition\": {\"duration\": 0, \"easing\": \"linear\"}}], \"label\": \"50\", \"method\": \"animate\"}, {\"args\": [[\"51\"], {\"frame\": {\"duration\": 0, \"redraw\": true}, \"fromcurrent\": true, \"mode\": \"immediate\", \"transition\": {\"duration\": 0, \"easing\": \"linear\"}}], \"label\": \"51\", \"method\": \"animate\"}, {\"args\": [[\"52\"], {\"frame\": {\"duration\": 0, \"redraw\": true}, \"fromcurrent\": true, \"mode\": \"immediate\", \"transition\": {\"duration\": 0, \"easing\": \"linear\"}}], \"label\": \"52\", \"method\": \"animate\"}, {\"args\": [[\"53\"], {\"frame\": {\"duration\": 0, \"redraw\": true}, \"fromcurrent\": true, \"mode\": \"immediate\", \"transition\": {\"duration\": 0, \"easing\": \"linear\"}}], \"label\": \"53\", \"method\": \"animate\"}, {\"args\": [[\"54\"], {\"frame\": {\"duration\": 0, \"redraw\": true}, \"fromcurrent\": true, \"mode\": \"immediate\", \"transition\": {\"duration\": 0, \"easing\": \"linear\"}}], \"label\": \"54\", \"method\": \"animate\"}, {\"args\": [[\"55\"], {\"frame\": {\"duration\": 0, \"redraw\": true}, \"fromcurrent\": true, \"mode\": \"immediate\", \"transition\": {\"duration\": 0, \"easing\": \"linear\"}}], \"label\": \"55\", \"method\": \"animate\"}, {\"args\": [[\"56\"], {\"frame\": {\"duration\": 0, \"redraw\": true}, \"fromcurrent\": true, \"mode\": \"immediate\", \"transition\": {\"duration\": 0, \"easing\": \"linear\"}}], \"label\": \"56\", \"method\": \"animate\"}, {\"args\": [[\"57\"], {\"frame\": {\"duration\": 0, \"redraw\": true}, \"fromcurrent\": true, \"mode\": \"immediate\", \"transition\": {\"duration\": 0, \"easing\": \"linear\"}}], \"label\": \"57\", \"method\": \"animate\"}, {\"args\": [[\"58\"], {\"frame\": {\"duration\": 0, \"redraw\": true}, \"fromcurrent\": true, \"mode\": \"immediate\", \"transition\": {\"duration\": 0, \"easing\": \"linear\"}}], \"label\": \"58\", \"method\": \"animate\"}, {\"args\": [[\"59\"], {\"frame\": {\"duration\": 0, \"redraw\": true}, \"fromcurrent\": true, \"mode\": \"immediate\", \"transition\": {\"duration\": 0, \"easing\": \"linear\"}}], \"label\": \"59\", \"method\": \"animate\"}, {\"args\": [[\"60\"], {\"frame\": {\"duration\": 0, \"redraw\": true}, \"fromcurrent\": true, \"mode\": \"immediate\", \"transition\": {\"duration\": 0, \"easing\": \"linear\"}}], \"label\": \"60\", \"method\": \"animate\"}, {\"args\": [[\"61\"], {\"frame\": {\"duration\": 0, \"redraw\": true}, \"fromcurrent\": true, \"mode\": \"immediate\", \"transition\": {\"duration\": 0, \"easing\": \"linear\"}}], \"label\": \"61\", \"method\": \"animate\"}, {\"args\": [[\"62\"], {\"frame\": {\"duration\": 0, \"redraw\": true}, \"fromcurrent\": true, \"mode\": \"immediate\", \"transition\": {\"duration\": 0, \"easing\": \"linear\"}}], \"label\": \"62\", \"method\": \"animate\"}, {\"args\": [[\"63\"], {\"frame\": {\"duration\": 0, \"redraw\": true}, \"fromcurrent\": true, \"mode\": \"immediate\", \"transition\": {\"duration\": 0, \"easing\": \"linear\"}}], \"label\": \"63\", \"method\": \"animate\"}, {\"args\": [[\"64\"], {\"frame\": {\"duration\": 0, \"redraw\": true}, \"fromcurrent\": true, \"mode\": \"immediate\", \"transition\": {\"duration\": 0, \"easing\": \"linear\"}}], \"label\": \"64\", \"method\": \"animate\"}, {\"args\": [[\"65\"], {\"frame\": {\"duration\": 0, \"redraw\": true}, \"fromcurrent\": true, \"mode\": \"immediate\", \"transition\": {\"duration\": 0, \"easing\": \"linear\"}}], \"label\": \"65\", \"method\": \"animate\"}, {\"args\": [[\"66\"], {\"frame\": {\"duration\": 0, \"redraw\": true}, \"fromcurrent\": true, \"mode\": \"immediate\", \"transition\": {\"duration\": 0, \"easing\": \"linear\"}}], \"label\": \"66\", \"method\": \"animate\"}, {\"args\": [[\"67\"], {\"frame\": {\"duration\": 0, \"redraw\": true}, \"fromcurrent\": true, \"mode\": \"immediate\", \"transition\": {\"duration\": 0, \"easing\": \"linear\"}}], \"label\": \"67\", \"method\": \"animate\"}, {\"args\": [[\"68\"], {\"frame\": {\"duration\": 0, \"redraw\": true}, \"fromcurrent\": true, \"mode\": \"immediate\", \"transition\": {\"duration\": 0, \"easing\": \"linear\"}}], \"label\": \"68\", \"method\": \"animate\"}, {\"args\": [[\"69\"], {\"frame\": {\"duration\": 0, \"redraw\": true}, \"fromcurrent\": true, \"mode\": \"immediate\", \"transition\": {\"duration\": 0, \"easing\": \"linear\"}}], \"label\": \"69\", \"method\": \"animate\"}, {\"args\": [[\"70\"], {\"frame\": {\"duration\": 0, \"redraw\": true}, \"fromcurrent\": true, \"mode\": \"immediate\", \"transition\": {\"duration\": 0, \"easing\": \"linear\"}}], \"label\": \"70\", \"method\": \"animate\"}, {\"args\": [[\"71\"], {\"frame\": {\"duration\": 0, \"redraw\": true}, \"fromcurrent\": true, \"mode\": \"immediate\", \"transition\": {\"duration\": 0, \"easing\": \"linear\"}}], \"label\": \"71\", \"method\": \"animate\"}, {\"args\": [[\"72\"], {\"frame\": {\"duration\": 0, \"redraw\": true}, \"fromcurrent\": true, \"mode\": \"immediate\", \"transition\": {\"duration\": 0, \"easing\": \"linear\"}}], \"label\": \"72\", \"method\": \"animate\"}, {\"args\": [[\"73\"], {\"frame\": {\"duration\": 0, \"redraw\": true}, \"fromcurrent\": true, \"mode\": \"immediate\", \"transition\": {\"duration\": 0, \"easing\": \"linear\"}}], \"label\": \"73\", \"method\": \"animate\"}, {\"args\": [[\"74\"], {\"frame\": {\"duration\": 0, \"redraw\": true}, \"fromcurrent\": true, \"mode\": \"immediate\", \"transition\": {\"duration\": 0, \"easing\": \"linear\"}}], \"label\": \"74\", \"method\": \"animate\"}, {\"args\": [[\"75\"], {\"frame\": {\"duration\": 0, \"redraw\": true}, \"fromcurrent\": true, \"mode\": \"immediate\", \"transition\": {\"duration\": 0, \"easing\": \"linear\"}}], \"label\": \"75\", \"method\": \"animate\"}, {\"args\": [[\"76\"], {\"frame\": {\"duration\": 0, \"redraw\": true}, \"fromcurrent\": true, \"mode\": \"immediate\", \"transition\": {\"duration\": 0, \"easing\": \"linear\"}}], \"label\": \"76\", \"method\": \"animate\"}, {\"args\": [[\"77\"], {\"frame\": {\"duration\": 0, \"redraw\": true}, \"fromcurrent\": true, \"mode\": \"immediate\", \"transition\": {\"duration\": 0, \"easing\": \"linear\"}}], \"label\": \"77\", \"method\": \"animate\"}, {\"args\": [[\"78\"], {\"frame\": {\"duration\": 0, \"redraw\": true}, \"fromcurrent\": true, \"mode\": \"immediate\", \"transition\": {\"duration\": 0, \"easing\": \"linear\"}}], \"label\": \"78\", \"method\": \"animate\"}, {\"args\": [[\"79\"], {\"frame\": {\"duration\": 0, \"redraw\": true}, \"fromcurrent\": true, \"mode\": \"immediate\", \"transition\": {\"duration\": 0, \"easing\": \"linear\"}}], \"label\": \"79\", \"method\": \"animate\"}, {\"args\": [[\"80\"], {\"frame\": {\"duration\": 0, \"redraw\": true}, \"fromcurrent\": true, \"mode\": \"immediate\", \"transition\": {\"duration\": 0, \"easing\": \"linear\"}}], \"label\": \"80\", \"method\": \"animate\"}, {\"args\": [[\"81\"], {\"frame\": {\"duration\": 0, \"redraw\": true}, \"fromcurrent\": true, \"mode\": \"immediate\", \"transition\": {\"duration\": 0, \"easing\": \"linear\"}}], \"label\": \"81\", \"method\": \"animate\"}, {\"args\": [[\"82\"], {\"frame\": {\"duration\": 0, \"redraw\": true}, \"fromcurrent\": true, \"mode\": \"immediate\", \"transition\": {\"duration\": 0, \"easing\": \"linear\"}}], \"label\": \"82\", \"method\": \"animate\"}, {\"args\": [[\"83\"], {\"frame\": {\"duration\": 0, \"redraw\": true}, \"fromcurrent\": true, \"mode\": \"immediate\", \"transition\": {\"duration\": 0, \"easing\": \"linear\"}}], \"label\": \"83\", \"method\": \"animate\"}, {\"args\": [[\"84\"], {\"frame\": {\"duration\": 0, \"redraw\": true}, \"fromcurrent\": true, \"mode\": \"immediate\", \"transition\": {\"duration\": 0, \"easing\": \"linear\"}}], \"label\": \"84\", \"method\": \"animate\"}, {\"args\": [[\"85\"], {\"frame\": {\"duration\": 0, \"redraw\": true}, \"fromcurrent\": true, \"mode\": \"immediate\", \"transition\": {\"duration\": 0, \"easing\": \"linear\"}}], \"label\": \"85\", \"method\": \"animate\"}, {\"args\": [[\"86\"], {\"frame\": {\"duration\": 0, \"redraw\": true}, \"fromcurrent\": true, \"mode\": \"immediate\", \"transition\": {\"duration\": 0, \"easing\": \"linear\"}}], \"label\": \"86\", \"method\": \"animate\"}, {\"args\": [[\"87\"], {\"frame\": {\"duration\": 0, \"redraw\": true}, \"fromcurrent\": true, \"mode\": \"immediate\", \"transition\": {\"duration\": 0, \"easing\": \"linear\"}}], \"label\": \"87\", \"method\": \"animate\"}, {\"args\": [[\"88\"], {\"frame\": {\"duration\": 0, \"redraw\": true}, \"fromcurrent\": true, \"mode\": \"immediate\", \"transition\": {\"duration\": 0, \"easing\": \"linear\"}}], \"label\": \"88\", \"method\": \"animate\"}, {\"args\": [[\"89\"], {\"frame\": {\"duration\": 0, \"redraw\": true}, \"fromcurrent\": true, \"mode\": \"immediate\", \"transition\": {\"duration\": 0, \"easing\": \"linear\"}}], \"label\": \"89\", \"method\": \"animate\"}, {\"args\": [[\"90\"], {\"frame\": {\"duration\": 0, \"redraw\": true}, \"fromcurrent\": true, \"mode\": \"immediate\", \"transition\": {\"duration\": 0, \"easing\": \"linear\"}}], \"label\": \"90\", \"method\": \"animate\"}, {\"args\": [[\"91\"], {\"frame\": {\"duration\": 0, \"redraw\": true}, \"fromcurrent\": true, \"mode\": \"immediate\", \"transition\": {\"duration\": 0, \"easing\": \"linear\"}}], \"label\": \"91\", \"method\": \"animate\"}, {\"args\": [[\"92\"], {\"frame\": {\"duration\": 0, \"redraw\": true}, \"fromcurrent\": true, \"mode\": \"immediate\", \"transition\": {\"duration\": 0, \"easing\": \"linear\"}}], \"label\": \"92\", \"method\": \"animate\"}, {\"args\": [[\"93\"], {\"frame\": {\"duration\": 0, \"redraw\": true}, \"fromcurrent\": true, \"mode\": \"immediate\", \"transition\": {\"duration\": 0, \"easing\": \"linear\"}}], \"label\": \"93\", \"method\": \"animate\"}, {\"args\": [[\"94\"], {\"frame\": {\"duration\": 0, \"redraw\": true}, \"fromcurrent\": true, \"mode\": \"immediate\", \"transition\": {\"duration\": 0, \"easing\": \"linear\"}}], \"label\": \"94\", \"method\": \"animate\"}, {\"args\": [[\"95\"], {\"frame\": {\"duration\": 0, \"redraw\": true}, \"fromcurrent\": true, \"mode\": \"immediate\", \"transition\": {\"duration\": 0, \"easing\": \"linear\"}}], \"label\": \"95\", \"method\": \"animate\"}, {\"args\": [[\"96\"], {\"frame\": {\"duration\": 0, \"redraw\": true}, \"fromcurrent\": true, \"mode\": \"immediate\", \"transition\": {\"duration\": 0, \"easing\": \"linear\"}}], \"label\": \"96\", \"method\": \"animate\"}, {\"args\": [[\"97\"], {\"frame\": {\"duration\": 0, \"redraw\": true}, \"fromcurrent\": true, \"mode\": \"immediate\", \"transition\": {\"duration\": 0, \"easing\": \"linear\"}}], \"label\": \"97\", \"method\": \"animate\"}, {\"args\": [[\"98\"], {\"frame\": {\"duration\": 0, \"redraw\": true}, \"fromcurrent\": true, \"mode\": \"immediate\", \"transition\": {\"duration\": 0, \"easing\": \"linear\"}}], \"label\": \"98\", \"method\": \"animate\"}, {\"args\": [[\"99\"], {\"frame\": {\"duration\": 0, \"redraw\": true}, \"fromcurrent\": true, \"mode\": \"immediate\", \"transition\": {\"duration\": 0, \"easing\": \"linear\"}}], \"label\": \"99\", \"method\": \"animate\"}], \"x\": 0.1, \"xanchor\": \"left\", \"y\": 0, \"yanchor\": \"top\"}], \"template\": {\"data\": {\"bar\": [{\"error_x\": {\"color\": \"#2a3f5f\"}, \"error_y\": {\"color\": \"#2a3f5f\"}, \"marker\": {\"line\": {\"color\": \"#E5ECF6\", \"width\": 0.5}}, \"type\": \"bar\"}], \"barpolar\": [{\"marker\": {\"line\": {\"color\": \"#E5ECF6\", \"width\": 0.5}}, \"type\": \"barpolar\"}], \"carpet\": [{\"aaxis\": {\"endlinecolor\": \"#2a3f5f\", \"gridcolor\": \"white\", \"linecolor\": \"white\", \"minorgridcolor\": \"white\", \"startlinecolor\": \"#2a3f5f\"}, \"baxis\": {\"endlinecolor\": \"#2a3f5f\", \"gridcolor\": \"white\", \"linecolor\": \"white\", \"minorgridcolor\": \"white\", \"startlinecolor\": \"#2a3f5f\"}, \"type\": \"carpet\"}], \"choropleth\": [{\"colorbar\": {\"outlinewidth\": 0, \"ticks\": \"\"}, \"type\": \"choropleth\"}], \"contour\": [{\"colorbar\": {\"outlinewidth\": 0, \"ticks\": \"\"}, \"colorscale\": [[0.0, \"#0d0887\"], [0.1111111111111111, \"#46039f\"], [0.2222222222222222, \"#7201a8\"], [0.3333333333333333, \"#9c179e\"], [0.4444444444444444, \"#bd3786\"], [0.5555555555555556, \"#d8576b\"], [0.6666666666666666, \"#ed7953\"], [0.7777777777777778, \"#fb9f3a\"], [0.8888888888888888, \"#fdca26\"], [1.0, \"#f0f921\"]], \"type\": \"contour\"}], \"contourcarpet\": [{\"colorbar\": {\"outlinewidth\": 0, \"ticks\": \"\"}, \"type\": \"contourcarpet\"}], \"heatmap\": [{\"colorbar\": {\"outlinewidth\": 0, \"ticks\": \"\"}, \"colorscale\": [[0.0, \"#0d0887\"], [0.1111111111111111, \"#46039f\"], [0.2222222222222222, \"#7201a8\"], [0.3333333333333333, \"#9c179e\"], [0.4444444444444444, \"#bd3786\"], [0.5555555555555556, \"#d8576b\"], [0.6666666666666666, \"#ed7953\"], [0.7777777777777778, \"#fb9f3a\"], [0.8888888888888888, \"#fdca26\"], [1.0, \"#f0f921\"]], \"type\": \"heatmap\"}], \"heatmapgl\": [{\"colorbar\": {\"outlinewidth\": 0, \"ticks\": \"\"}, \"colorscale\": [[0.0, \"#0d0887\"], [0.1111111111111111, \"#46039f\"], [0.2222222222222222, \"#7201a8\"], [0.3333333333333333, \"#9c179e\"], [0.4444444444444444, \"#bd3786\"], [0.5555555555555556, \"#d8576b\"], [0.6666666666666666, \"#ed7953\"], [0.7777777777777778, \"#fb9f3a\"], [0.8888888888888888, \"#fdca26\"], [1.0, \"#f0f921\"]], \"type\": \"heatmapgl\"}], \"histogram\": [{\"marker\": {\"colorbar\": {\"outlinewidth\": 0, \"ticks\": \"\"}}, \"type\": \"histogram\"}], \"histogram2d\": [{\"colorbar\": {\"outlinewidth\": 0, \"ticks\": \"\"}, \"colorscale\": [[0.0, \"#0d0887\"], [0.1111111111111111, \"#46039f\"], [0.2222222222222222, \"#7201a8\"], [0.3333333333333333, \"#9c179e\"], [0.4444444444444444, \"#bd3786\"], [0.5555555555555556, \"#d8576b\"], [0.6666666666666666, \"#ed7953\"], [0.7777777777777778, \"#fb9f3a\"], [0.8888888888888888, \"#fdca26\"], [1.0, \"#f0f921\"]], \"type\": \"histogram2d\"}], \"histogram2dcontour\": [{\"colorbar\": {\"outlinewidth\": 0, \"ticks\": \"\"}, \"colorscale\": [[0.0, \"#0d0887\"], [0.1111111111111111, \"#46039f\"], [0.2222222222222222, \"#7201a8\"], [0.3333333333333333, \"#9c179e\"], [0.4444444444444444, \"#bd3786\"], [0.5555555555555556, \"#d8576b\"], [0.6666666666666666, \"#ed7953\"], [0.7777777777777778, \"#fb9f3a\"], [0.8888888888888888, \"#fdca26\"], [1.0, \"#f0f921\"]], \"type\": \"histogram2dcontour\"}], \"mesh3d\": [{\"colorbar\": {\"outlinewidth\": 0, \"ticks\": \"\"}, \"type\": \"mesh3d\"}], \"parcoords\": [{\"line\": {\"colorbar\": {\"outlinewidth\": 0, \"ticks\": \"\"}}, \"type\": \"parcoords\"}], \"pie\": [{\"automargin\": true, \"type\": \"pie\"}], \"scatter\": [{\"marker\": {\"colorbar\": {\"outlinewidth\": 0, \"ticks\": \"\"}}, \"type\": \"scatter\"}], \"scatter3d\": [{\"line\": {\"colorbar\": {\"outlinewidth\": 0, \"ticks\": \"\"}}, \"marker\": {\"colorbar\": {\"outlinewidth\": 0, \"ticks\": \"\"}}, \"type\": \"scatter3d\"}], \"scattercarpet\": [{\"marker\": {\"colorbar\": {\"outlinewidth\": 0, \"ticks\": \"\"}}, \"type\": \"scattercarpet\"}], \"scattergeo\": [{\"marker\": {\"colorbar\": {\"outlinewidth\": 0, \"ticks\": \"\"}}, \"type\": \"scattergeo\"}], \"scattergl\": [{\"marker\": {\"colorbar\": {\"outlinewidth\": 0, \"ticks\": \"\"}}, \"type\": \"scattergl\"}], \"scattermapbox\": [{\"marker\": {\"colorbar\": {\"outlinewidth\": 0, \"ticks\": \"\"}}, \"type\": \"scattermapbox\"}], \"scatterpolar\": [{\"marker\": {\"colorbar\": {\"outlinewidth\": 0, \"ticks\": \"\"}}, \"type\": \"scatterpolar\"}], \"scatterpolargl\": [{\"marker\": {\"colorbar\": {\"outlinewidth\": 0, \"ticks\": \"\"}}, \"type\": \"scatterpolargl\"}], \"scatterternary\": [{\"marker\": {\"colorbar\": {\"outlinewidth\": 0, \"ticks\": \"\"}}, \"type\": \"scatterternary\"}], \"surface\": [{\"colorbar\": {\"outlinewidth\": 0, \"ticks\": \"\"}, \"colorscale\": [[0.0, \"#0d0887\"], [0.1111111111111111, \"#46039f\"], [0.2222222222222222, \"#7201a8\"], [0.3333333333333333, \"#9c179e\"], [0.4444444444444444, \"#bd3786\"], [0.5555555555555556, \"#d8576b\"], [0.6666666666666666, \"#ed7953\"], [0.7777777777777778, \"#fb9f3a\"], [0.8888888888888888, \"#fdca26\"], [1.0, \"#f0f921\"]], \"type\": \"surface\"}], \"table\": [{\"cells\": {\"fill\": {\"color\": \"#EBF0F8\"}, \"line\": {\"color\": \"white\"}}, \"header\": {\"fill\": {\"color\": \"#C8D4E3\"}, \"line\": {\"color\": \"white\"}}, \"type\": \"table\"}]}, \"layout\": {\"annotationdefaults\": {\"arrowcolor\": \"#2a3f5f\", \"arrowhead\": 0, \"arrowwidth\": 1}, \"autotypenumbers\": \"strict\", \"coloraxis\": {\"colorbar\": {\"outlinewidth\": 0, \"ticks\": \"\"}}, \"colorscale\": {\"diverging\": [[0, \"#8e0152\"], [0.1, \"#c51b7d\"], [0.2, \"#de77ae\"], [0.3, \"#f1b6da\"], [0.4, \"#fde0ef\"], [0.5, \"#f7f7f7\"], [0.6, \"#e6f5d0\"], [0.7, \"#b8e186\"], [0.8, \"#7fbc41\"], [0.9, \"#4d9221\"], [1, \"#276419\"]], \"sequential\": [[0.0, \"#0d0887\"], [0.1111111111111111, \"#46039f\"], [0.2222222222222222, \"#7201a8\"], [0.3333333333333333, \"#9c179e\"], [0.4444444444444444, \"#bd3786\"], [0.5555555555555556, \"#d8576b\"], [0.6666666666666666, \"#ed7953\"], [0.7777777777777778, \"#fb9f3a\"], [0.8888888888888888, \"#fdca26\"], [1.0, \"#f0f921\"]], \"sequentialminus\": [[0.0, \"#0d0887\"], [0.1111111111111111, \"#46039f\"], [0.2222222222222222, \"#7201a8\"], [0.3333333333333333, \"#9c179e\"], [0.4444444444444444, \"#bd3786\"], [0.5555555555555556, \"#d8576b\"], [0.6666666666666666, \"#ed7953\"], [0.7777777777777778, \"#fb9f3a\"], [0.8888888888888888, \"#fdca26\"], [1.0, \"#f0f921\"]]}, \"colorway\": [\"#636efa\", \"#EF553B\", \"#00cc96\", \"#ab63fa\", \"#FFA15A\", \"#19d3f3\", \"#FF6692\", \"#B6E880\", \"#FF97FF\", \"#FECB52\"], \"font\": {\"color\": \"#2a3f5f\"}, \"geo\": {\"bgcolor\": \"white\", \"lakecolor\": \"white\", \"landcolor\": \"#E5ECF6\", \"showlakes\": true, \"showland\": true, \"subunitcolor\": \"white\"}, \"hoverlabel\": {\"align\": \"left\"}, \"hovermode\": \"closest\", \"mapbox\": {\"style\": \"light\"}, \"paper_bgcolor\": \"white\", \"plot_bgcolor\": \"#E5ECF6\", \"polar\": {\"angularaxis\": {\"gridcolor\": \"white\", \"linecolor\": \"white\", \"ticks\": \"\"}, \"bgcolor\": \"#E5ECF6\", \"radialaxis\": {\"gridcolor\": \"white\", \"linecolor\": \"white\", \"ticks\": \"\"}}, \"scene\": {\"xaxis\": {\"backgroundcolor\": \"#E5ECF6\", \"gridcolor\": \"white\", \"gridwidth\": 2, \"linecolor\": \"white\", \"showbackground\": true, \"ticks\": \"\", \"zerolinecolor\": \"white\"}, \"yaxis\": {\"backgroundcolor\": \"#E5ECF6\", \"gridcolor\": \"white\", \"gridwidth\": 2, \"linecolor\": \"white\", \"showbackground\": true, \"ticks\": \"\", \"zerolinecolor\": \"white\"}, \"zaxis\": {\"backgroundcolor\": \"#E5ECF6\", \"gridcolor\": \"white\", \"gridwidth\": 2, \"linecolor\": \"white\", \"showbackground\": true, \"ticks\": \"\", \"zerolinecolor\": \"white\"}}, \"shapedefaults\": {\"line\": {\"color\": \"#2a3f5f\"}}, \"ternary\": {\"aaxis\": {\"gridcolor\": \"white\", \"linecolor\": \"white\", \"ticks\": \"\"}, \"baxis\": {\"gridcolor\": \"white\", \"linecolor\": \"white\", \"ticks\": \"\"}, \"bgcolor\": \"#E5ECF6\", \"caxis\": {\"gridcolor\": \"white\", \"linecolor\": \"white\", \"ticks\": \"\"}}, \"title\": {\"x\": 0.05}, \"xaxis\": {\"automargin\": true, \"gridcolor\": \"white\", \"linecolor\": \"white\", \"ticks\": \"\", \"title\": {\"standoff\": 15}, \"zerolinecolor\": \"white\", \"zerolinewidth\": 2}, \"yaxis\": {\"automargin\": true, \"gridcolor\": \"white\", \"linecolor\": \"white\", \"ticks\": \"\", \"title\": {\"standoff\": 15}, \"zerolinecolor\": \"white\", \"zerolinewidth\": 2}}}, \"updatemenus\": [{\"buttons\": [{\"args\": [null, {\"frame\": {\"duration\": 500, \"redraw\": true}, \"fromcurrent\": true, \"mode\": \"immediate\", \"transition\": {\"duration\": 500, \"easing\": \"linear\"}}], \"label\": \"&#9654;\", \"method\": \"animate\"}, {\"args\": [[null], {\"frame\": {\"duration\": 0, \"redraw\": true}, \"fromcurrent\": true, \"mode\": \"immediate\", \"transition\": {\"duration\": 0, \"easing\": \"linear\"}}], \"label\": \"&#9724;\", \"method\": \"animate\"}], \"direction\": \"left\", \"pad\": {\"r\": 10, \"t\": 70}, \"showactive\": false, \"type\": \"buttons\", \"x\": 0.1, \"xanchor\": \"right\", \"y\": 0, \"yanchor\": \"top\"}], \"width\": 500, \"xaxis\": {\"anchor\": \"y\", \"constrain\": \"domain\", \"domain\": [0.0, 1.0], \"scaleanchor\": \"y\"}, \"yaxis\": {\"anchor\": \"x\", \"autorange\": \"reversed\", \"constrain\": \"domain\", \"domain\": [0.0, 1.0]}},                        {\"responsive\": true}                    ).then(function(){\n",
       "                            Plotly.addFrames('556af411-bfda-4b2b-a3be-157b04aed165', [{\"data\": [{\"coloraxis\": \"coloraxis\", \"name\": \"0\", \"z\": [[0.015624999999999986, 0.015624999999999986, 0.015624999999999986, 0.015624999999999986, 0.015624999999999986, 0.015624999999999986, 0.015624999999999986, 0.015624999999999986], [0.015624999999999986, 0.015624999999999986, 0.015624999999999986, 0.015624999999999986, 0.015624999999999986, 0.015624999999999986, 0.015624999999999986, 0.015624999999999986], [0.015624999999999986, 0.015624999999999986, 0.015624999999999986, 0.015624999999999986, 0.015624999999999986, 0.015624999999999986, 0.015624999999999986, 0.015624999999999986], [0.015624999999999986, 0.015624999999999986, 0.015624999999999986, 0.015624999999999986, 0.015624999999999986, 0.015624999999999986, 0.015624999999999986, 0.015624999999999986], [0.015624999999999986, 0.015624999999999986, 0.015624999999999986, 0.015624999999999986, 0.015624999999999986, 0.015624999999999986, 0.015624999999999986, 0.015624999999999986], [0.015624999999999986, 0.015624999999999986, 0.015624999999999986, 0.015624999999999986, 0.015624999999999986, 0.015624999999999986, 0.015624999999999986, 0.015624999999999986], [0.015624999999999986, 0.015624999999999986, 0.015624999999999986, 0.015624999999999986, 0.015624999999999986, 0.015624999999999986, 0.015624999999999986, 0.015624999999999986], [0.015624999999999986, 0.015624999999999986, 0.015624999999999986, 0.015624999999999986, 0.015624999999999986, 0.015624999999999986, 0.015624999999999986, 0.015624999999999986]], \"type\": \"heatmap\"}], \"layout\": {\"height\": 500, \"margin\": {\"t\": 60}, \"width\": 500, \"xaxis\": {\"constrain\": \"domain\", \"scaleanchor\": \"y\"}, \"yaxis\": {\"autorange\": \"reversed\", \"constrain\": \"domain\"}, \"coloraxis\": {\"colorscale\": [[0.0, \"rgb(243, 231, 155)\"], [0.16666666666666666, \"rgb(250, 196, 132)\"], [0.3333333333333333, \"rgb(248, 160, 126)\"], [0.5, \"rgb(235, 127, 134)\"], [0.6666666666666666, \"rgb(206, 102, 147)\"], [0.8333333333333334, \"rgb(160, 89, 160)\"], [1.0, \"rgb(92, 83, 165)\"]]}}, \"name\": \"0\"}, {\"data\": [{\"coloraxis\": \"coloraxis\", \"name\": \"1\", \"z\": [[0.015915396317758457, 0.015318929902658452, 0.015942646346568744, 0.01530637382220831, 0.016569507769056815, 0.015311246739018855, 0.015304714719333744, 0.015913372164101547], [0.015907870495342518, 0.015941513017487953, 0.01657562388387675, 0.01656785264487575, 0.01531225012640131, 0.01593986576374941, 0.01592669992133628, 0.01592303705507121], [0.016556613836231047, 0.016565124268654252, 0.015937396455333243, 0.014714839095122995, 0.015314584617349358, 0.015317929973376939, 0.015926288077975057, 0.015925599756380946], [0.015308461471905576, 0.015919827821937904, 0.01593207375805519, 0.01471932069497205, 0.014698431044275482, 0.015304843084548268, 0.014724084724694208, 0.014691560015973002], [0.01592924034226935, 0.015937638986096514, 0.016573558755043172, 0.015304465524309932, 0.01592574236596711, 0.015926852019599886, 0.016591091883294183, 0.015301451269723479], [0.015314774641345294, 0.015317955243581665, 0.015944196753875713, 0.01593003706176215, 0.015310564422993535, 0.015318290382609082, 0.01532414174845535, 0.015317264922700177], [0.01593313572194378, 0.01594704125958905, 0.015308493252852459, 0.01532292971010092, 0.015315847270401528, 0.014722801682139302, 0.016570592156553883, 0.01470548736344217], [0.01528814318222266, 0.015301344576418975, 0.015314718023905967, 0.01591031300040547, 0.01469965421807347, 0.01592920699490998, 0.015309796788909624, 0.015919349088871323]], \"type\": \"heatmap\"}], \"layout\": {\"height\": 500, \"margin\": {\"t\": 60}, \"width\": 500, \"xaxis\": {\"constrain\": \"domain\", \"scaleanchor\": \"y\"}, \"yaxis\": {\"autorange\": \"reversed\", \"constrain\": \"domain\"}, \"coloraxis\": {\"colorscale\": [[0.0, \"rgb(243, 231, 155)\"], [0.16666666666666666, \"rgb(250, 196, 132)\"], [0.3333333333333333, \"rgb(248, 160, 126)\"], [0.5, \"rgb(235, 127, 134)\"], [0.6666666666666666, \"rgb(206, 102, 147)\"], [0.8333333333333334, \"rgb(160, 89, 160)\"], [1.0, \"rgb(92, 83, 165)\"]]}}, \"name\": \"1\"}, {\"data\": [{\"coloraxis\": \"coloraxis\", \"name\": \"2\", \"z\": [[0.016024894976758665, 0.015130092769284915, 0.016258715049973102, 0.015044422415589329, 0.01760984416411835, 0.014920537281923512, 0.01513444026235852, 0.015992564165313913], [0.01591261029607338, 0.01637780847311049, 0.017413227588894117, 0.01751357307763214, 0.015154624097278871, 0.016221578591784438, 0.016104249579802807, 0.016131083173125366], [0.017241305128014875, 0.01749402150544839, 0.016135743166908835, 0.013865363510802689, 0.0150086619758113, 0.015063844392309145, 0.01627465050362861, 0.016143176878878774], [0.015163153379840913, 0.016263750258027922, 0.016074111506725573, 0.014058105775288737, 0.01389089636125506, 0.015070871872524767, 0.013898594930796416, 0.01375018109326826], [0.0162209770175093, 0.016182425413997285, 0.01733159725205879, 0.015011270859125483, 0.01616148345408835, 0.01604225806578048, 0.017644406050457025, 0.014972713853029397], [0.015097951889904017, 0.01519165940978645, 0.016413626973517666, 0.016160471531678277, 0.014962917934473652, 0.015088819341922076, 0.015200330789603759, 0.014950281200407471], [0.01625965682460554, 0.01620470878887737, 0.015057845237369534, 0.015255511689052094, 0.015151987481191573, 0.014082920424338338, 0.017429567407189407, 0.013935616803677152], [0.01478978920339081, 0.015012727735112337, 0.01490972802678966, 0.015960356388484913, 0.013745701071184715, 0.016131045265057768, 0.015077762454372801, 0.0160211859594135]], \"type\": \"heatmap\"}], \"layout\": {\"height\": 500, \"margin\": {\"t\": 60}, \"width\": 500, \"xaxis\": {\"constrain\": \"domain\", \"scaleanchor\": \"y\"}, \"yaxis\": {\"autorange\": \"reversed\", \"constrain\": \"domain\"}, \"coloraxis\": {\"colorscale\": [[0.0, \"rgb(243, 231, 155)\"], [0.16666666666666666, \"rgb(250, 196, 132)\"], [0.3333333333333333, \"rgb(248, 160, 126)\"], [0.5, \"rgb(235, 127, 134)\"], [0.6666666666666666, \"rgb(206, 102, 147)\"], [0.8333333333333334, \"rgb(160, 89, 160)\"], [1.0, \"rgb(92, 83, 165)\"]]}}, \"name\": \"2\"}, {\"data\": [{\"coloraxis\": \"coloraxis\", \"name\": \"3\", \"z\": [[0.015641888252822256, 0.015018064921181426, 0.016441686074984776, 0.014773395746176882, 0.01896961267092625, 0.014555009594293348, 0.015167679020633, 0.0158159142119795], [0.01551433430856649, 0.016916031557519248, 0.018120071387528653, 0.018529007608386272, 0.01518133534738673, 0.0162996059691527, 0.0161847393432825, 0.016029805575339406], [0.01747961361348254, 0.01844657100996296, 0.016234713775925003, 0.013027642836365911, 0.01461174329890488, 0.01482841862085645, 0.016545305188835877, 0.016072837415563666], [0.015301682174284816, 0.01655179244103046, 0.016001666169973977, 0.013743523953585189, 0.01345794834687027, 0.014899908936506135, 0.013083930453026313, 0.012898055828832257], [0.016607926352227104, 0.016462235266735133, 0.01774013476795062, 0.01490342735973165, 0.01636729799641183, 0.01593038350648165, 0.018697711650230528, 0.014788147512171668], [0.01522081803517343, 0.015334431633538642, 0.017346594785758597, 0.01640758117988379, 0.014457434109103965, 0.015144872893505662, 0.015320541141055022, 0.014616354413965398], [0.01672277100683723, 0.01616078104236659, 0.01511280050226254, 0.015560920176815953, 0.015451419069756878, 0.013798297859192675, 0.017872200413012167, 0.01329345614981075], [0.013888426091628466, 0.014667855133085352, 0.014463801319029997, 0.015679794178537997, 0.012632950729948588, 0.015978760874754607, 0.015155649061751427, 0.015870688133117337]], \"type\": \"heatmap\"}], \"layout\": {\"height\": 500, \"margin\": {\"t\": 60}, \"width\": 500, \"xaxis\": {\"constrain\": \"domain\", \"scaleanchor\": \"y\"}, \"yaxis\": {\"autorange\": \"reversed\", \"constrain\": \"domain\"}, \"coloraxis\": {\"colorscale\": [[0.0, \"rgb(243, 231, 155)\"], [0.16666666666666666, \"rgb(250, 196, 132)\"], [0.3333333333333333, \"rgb(248, 160, 126)\"], [0.5, \"rgb(235, 127, 134)\"], [0.6666666666666666, \"rgb(206, 102, 147)\"], [0.8333333333333334, \"rgb(160, 89, 160)\"], [1.0, \"rgb(92, 83, 165)\"]]}}, \"name\": \"3\"}, {\"data\": [{\"coloraxis\": \"coloraxis\", \"name\": \"4\", \"z\": [[0.014760817613073608, 0.014954955006459845, 0.0165403002286403, 0.014427657320704654, 0.020330098307977242, 0.01445736635984534, 0.01509778025535389, 0.015523376120853695], [0.014782118767151442, 0.017388324246400206, 0.01868878053073592, 0.019387766435456144, 0.015056311321577672, 0.016094434206882013, 0.01636094701148129, 0.015633003784820586], [0.017297912317046898, 0.019147071864286578, 0.016257942226207207, 0.012399169050376125, 0.014223854697656623, 0.014645706464723825, 0.01643973898558018, 0.01578163864621243], [0.01551487906775365, 0.016502723657324348, 0.01603971727677232, 0.013561621224820145, 0.013294307291085371, 0.01464344054430695, 0.012415890453767843, 0.012165352876066694], [0.016993235366132262, 0.01689551323417965, 0.017994914676320882, 0.015061966052637873, 0.016505327474216954, 0.015910702405141693, 0.019720374700514947, 0.014722467608507052], [0.015536811398856331, 0.015631528028629875, 0.018781849627649495, 0.016787528088341625, 0.013791022631217734, 0.015421607698186755, 0.015542286909278138, 0.014570075091637456], [0.017349857053340707, 0.01603025487731656, 0.015471902129262421, 0.01621484830674106, 0.01629106346184856, 0.013785099156532112, 0.017964795185160972, 0.012764726266059836], [0.01265450544806023, 0.014170573046989205, 0.014128156891981226, 0.015317655665924237, 0.011623670405731205, 0.015630279101521743, 0.01531180843000542, 0.015608589420674137]], \"type\": \"heatmap\"}], \"layout\": {\"height\": 500, \"margin\": {\"t\": 60}, \"width\": 500, \"xaxis\": {\"constrain\": \"domain\", \"scaleanchor\": \"y\"}, \"yaxis\": {\"autorange\": \"reversed\", \"constrain\": \"domain\"}, \"coloraxis\": {\"colorscale\": [[0.0, \"rgb(243, 231, 155)\"], [0.16666666666666666, \"rgb(250, 196, 132)\"], [0.3333333333333333, \"rgb(248, 160, 126)\"], [0.5, \"rgb(235, 127, 134)\"], [0.6666666666666666, \"rgb(206, 102, 147)\"], [0.8333333333333334, \"rgb(160, 89, 160)\"], [1.0, \"rgb(92, 83, 165)\"]]}}, \"name\": \"4\"}, {\"data\": [{\"coloraxis\": \"coloraxis\", \"name\": \"5\", \"z\": [[0.013565074329948296, 0.015011727378915568, 0.016559344922000497, 0.014194432075589443, 0.021225570491069937, 0.014683396758008685, 0.014730222909785066, 0.015013434493486674], [0.013797985159930734, 0.01780977267677138, 0.01901369851388367, 0.019856596805035154, 0.014604203723843199, 0.015641765785788225, 0.01661778056795834, 0.01492899538039304], [0.01674054091271467, 0.019340617611855154, 0.01612641264794038, 0.01213909732093289, 0.013920480282334937, 0.014430995608943356, 0.015899515333719236, 0.015281426806815906], [0.015721594183050046, 0.016079325433989093, 0.01638588944645345, 0.013413858958063638, 0.013254990580179524, 0.014359976556752843, 0.011993933485156965, 0.01166237502647781], [0.017290399602584952, 0.01727803899001747, 0.018169607442229955, 0.015480853490820437, 0.016674151986348407, 0.01618887919989695, 0.02051370589415225, 0.014766364003784435], [0.015857785112641166, 0.01619097795631359, 0.02059857897692423, 0.017088995234706254, 0.013039477502311533, 0.015903238176057113, 0.01594398613219506, 0.014895276917727919], [0.018105758331311825, 0.016081798108027196, 0.016190865086515356, 0.01723722298789079, 0.017633799284834974, 0.014016324400388152, 0.01788238948760764, 0.012420218494359142], [0.011325356510523542, 0.013731977037632629, 0.013846898468880644, 0.014992845148457263, 0.010961116028454392, 0.015284777737192898, 0.015246956453079472, 0.015156347648343423]], \"type\": \"heatmap\"}], \"layout\": {\"height\": 500, \"margin\": {\"t\": 60}, \"width\": 500, \"xaxis\": {\"constrain\": \"domain\", \"scaleanchor\": \"y\"}, \"yaxis\": {\"autorange\": \"reversed\", \"constrain\": \"domain\"}, \"coloraxis\": {\"colorscale\": [[0.0, \"rgb(243, 231, 155)\"], [0.16666666666666666, \"rgb(250, 196, 132)\"], [0.3333333333333333, \"rgb(248, 160, 126)\"], [0.5, \"rgb(235, 127, 134)\"], [0.6666666666666666, \"rgb(206, 102, 147)\"], [0.8333333333333334, \"rgb(160, 89, 160)\"], [1.0, \"rgb(92, 83, 165)\"]]}}, \"name\": \"5\"}, {\"data\": [{\"coloraxis\": \"coloraxis\", \"name\": \"6\", \"z\": [[0.01240998056757453, 0.015005131318933704, 0.016335636582591587, 0.014062391403568304, 0.021607366239054373, 0.015171419774811172, 0.014102132881579393, 0.014290145864406396], [0.012880464264475533, 0.01831306922309199, 0.01936997743509132, 0.019947834865184057, 0.013944719573239462, 0.01525549844952492, 0.0167042899856087, 0.014001031049310633], [0.016091517362329822, 0.019137788744073972, 0.016029445137328863, 0.01217417799324014, 0.013534756431203436, 0.014142423689437886, 0.015108148445019464, 0.014562428585825966], [0.016074268841868706, 0.015435490137501172, 0.016930394277388943, 0.013378717197326822, 0.01338791400812827, 0.014243835002018758, 0.011791847760226152, 0.011371636207329798], [0.017656027328749827, 0.017568660588779, 0.018135840756437212, 0.015838892618962333, 0.0169275529213201, 0.016761852590376273, 0.021026579867604128, 0.015039252380700922], [0.016312602445229762, 0.01698603377595, 0.02245058760179823, 0.017206465814880223, 0.01241837767385975, 0.016592984730344672, 0.016551420125570444, 0.015490203950183414], [0.0187347911480351, 0.016326315391958564, 0.017224589030800742, 0.018337245232450363, 0.019158966526727165, 0.014310022168988959, 0.017573688010160758, 0.01206729482752219], [0.01018794292883445, 0.013458408487904172, 0.013472824333245998, 0.014563068201273803, 0.010589258725804919, 0.014800343369308317, 0.014931690773318521, 0.01450433637462489]], \"type\": \"heatmap\"}], \"layout\": {\"height\": 500, \"margin\": {\"t\": 60}, \"width\": 500, \"xaxis\": {\"constrain\": \"domain\", \"scaleanchor\": \"y\"}, \"yaxis\": {\"autorange\": \"reversed\", \"constrain\": \"domain\"}, \"coloraxis\": {\"colorscale\": [[0.0, \"rgb(243, 231, 155)\"], [0.16666666666666666, \"rgb(250, 196, 132)\"], [0.3333333333333333, \"rgb(248, 160, 126)\"], [0.5, \"rgb(235, 127, 134)\"], [0.6666666666666666, \"rgb(206, 102, 147)\"], [0.8333333333333334, \"rgb(160, 89, 160)\"], [1.0, \"rgb(92, 83, 165)\"]]}}, \"name\": \"6\"}, {\"data\": [{\"coloraxis\": \"coloraxis\", \"name\": \"7\", \"z\": [[0.011410200106066333, 0.014939344618149098, 0.015932816126541346, 0.013923062977321298, 0.02166883522676576, 0.015808991284085295, 0.013325241783123791, 0.013467567980006409], [0.012105460763283168, 0.018802542816207423, 0.01983174475441514, 0.01974911860871673, 0.013279206565131875, 0.015061337240211784, 0.016568054912422817, 0.01300114713430438], [0.015376562531418059, 0.018783065577948472, 0.01595356083059124, 0.012339462680243538, 0.01303661468644809, 0.013767497027996452, 0.014291050470676752, 0.01364180665081593], [0.01654777846376294, 0.014729972098033306, 0.017464156825884137, 0.013386164242651263, 0.013586541481095915, 0.014287614073538643, 0.011767561758541363, 0.011193147661238814], [0.018120649559990914, 0.017862612752284186, 0.017982063100583937, 0.015987422290558908, 0.017273703117854908, 0.017539087581429184, 0.021358374394549618, 0.015453202532619089], [0.01693898092649524, 0.017904017235029296, 0.024258685436666278, 0.017126004496286967, 0.01190104068492755, 0.01749608306376851, 0.017309508035019558, 0.0161858232567873], [0.019232641340915627, 0.016713924146519482, 0.018430405160736272, 0.01938483710132826, 0.02069854532109131, 0.014672664687541213, 0.017164195995551017, 0.011662485052449384], [0.009239795582312894, 0.013336694661279132, 0.013068006572667486, 0.014027294280295144, 0.010360980077809116, 0.014145925373760169, 0.014434416600341116, 0.01370269962291252]], \"type\": \"heatmap\"}], \"layout\": {\"height\": 500, \"margin\": {\"t\": 60}, \"width\": 500, \"xaxis\": {\"constrain\": \"domain\", \"scaleanchor\": \"y\"}, \"yaxis\": {\"autorange\": \"reversed\", \"constrain\": \"domain\"}, \"coloraxis\": {\"colorscale\": [[0.0, \"rgb(243, 231, 155)\"], [0.16666666666666666, \"rgb(250, 196, 132)\"], [0.3333333333333333, \"rgb(248, 160, 126)\"], [0.5, \"rgb(235, 127, 134)\"], [0.6666666666666666, \"rgb(206, 102, 147)\"], [0.8333333333333334, \"rgb(160, 89, 160)\"], [1.0, \"rgb(92, 83, 165)\"]]}}, \"name\": \"7\"}, {\"data\": [{\"coloraxis\": \"coloraxis\", \"name\": \"8\", \"z\": [[0.010549207282087626, 0.014862174087883102, 0.015476304199623935, 0.013677625263172323, 0.021629319407180075, 0.016455258075238684, 0.012506937011577979, 0.012660589663202935], [0.0114457942242994, 0.019107280225836555, 0.020355446890764427, 0.01937856550227565, 0.01275313097858239, 0.01507057838537756, 0.01629137731688209, 0.012051809716771588], [0.01454262634958944, 0.018490275841925037, 0.015836308885149072, 0.012463392305197362, 0.012492082702574528, 0.013326144473574768, 0.01358438488673909, 0.01257152939125612], [0.017004398589154472, 0.014081925196060469, 0.017798812317316975, 0.013330063528330247, 0.013706863786391552, 0.014398782787354396, 0.011862531152837957, 0.011048796443046486], [0.018628844215768728, 0.01828411083173276, 0.017854890915928946, 0.015921414220917817, 0.017677405147263302, 0.018406025585869543, 0.0216141776217306, 0.015875605217870858], [0.017701389676537647, 0.01884467790835426, 0.0260628700682741, 0.016887798825774833, 0.011391719340380382, 0.018615482155694987, 0.018112429150005625, 0.016829861261479662], [0.01970112035621232, 0.017147930913806262, 0.01966745525146432, 0.020350081436359614, 0.022227648965856005, 0.015163733947411724, 0.016808504541150265, 0.011244370673695825], [0.008403805961130646, 0.013302850494833159, 0.012758443361160287, 0.013475072005314975, 0.010149408663653835, 0.013374065725677982, 0.013869717376428727, 0.012836771315004615]], \"type\": \"heatmap\"}], \"layout\": {\"height\": 500, \"margin\": {\"t\": 60}, \"width\": 500, \"xaxis\": {\"constrain\": \"domain\", \"scaleanchor\": \"y\"}, \"yaxis\": {\"autorange\": \"reversed\", \"constrain\": \"domain\"}, \"coloraxis\": {\"colorscale\": [[0.0, \"rgb(243, 231, 155)\"], [0.16666666666666666, \"rgb(250, 196, 132)\"], [0.3333333333333333, \"rgb(248, 160, 126)\"], [0.5, \"rgb(235, 127, 134)\"], [0.6666666666666666, \"rgb(206, 102, 147)\"], [0.8333333333333334, \"rgb(160, 89, 160)\"], [1.0, \"rgb(92, 83, 165)\"]]}}, \"name\": \"8\"}, {\"data\": [{\"coloraxis\": \"coloraxis\", \"name\": \"9\", \"z\": [[0.009780209372948035, 0.014765375874531446, 0.01504754644128975, 0.013321835534899646, 0.021615148873110404, 0.01695777568124775, 0.01176005069427571, 0.01191037810271475], [0.010853202570347106, 0.019153949223223974, 0.02084536904978964, 0.018966932471586893, 0.012414789618457241, 0.01523782187344634, 0.015988272880814777, 0.011209343399828837], [0.013594849789138556, 0.018376298328577265, 0.015684159055627145, 0.012436359415762597, 0.011990128167201517, 0.012876479377511263, 0.01302914024457155, 0.011436747549868596], [0.01729361716474587, 0.01358844922572511, 0.017850100236846255, 0.01318592856938359, 0.013684578106506801, 0.014494235486094416, 0.012003515048861187, 0.010923162077135798], [0.019096639694641458, 0.018856728398166205, 0.01779542838664714, 0.015711986415436682, 0.018062171347586538, 0.019208144695970812, 0.021820652322128962, 0.01623345468828918], [0.018509578401291093, 0.019791932938159344, 0.027874085931614303, 0.016575641310384272, 0.01086145701793931, 0.019932652973751668, 0.018860804649303085, 0.017330272930001486], [0.020188108523999503, 0.017486275439990626, 0.020861663451900037, 0.021256140713465998, 0.023780699972307452, 0.015799894730441928, 0.016574607689158093, 0.010882775584215307], [0.0076425070182474615, 0.013287844147369627, 0.012604168968964448, 0.013007341854204572, 0.009899005472507189, 0.012574986985198964, 0.0133659328739496, 0.011990664966697331]], \"type\": \"heatmap\"}], \"layout\": {\"height\": 500, \"margin\": {\"t\": 60}, \"width\": 500, \"xaxis\": {\"constrain\": \"domain\", \"scaleanchor\": \"y\"}, \"yaxis\": {\"autorange\": \"reversed\", \"constrain\": \"domain\"}, \"coloraxis\": {\"colorscale\": [[0.0, \"rgb(243, 231, 155)\"], [0.16666666666666666, \"rgb(250, 196, 132)\"], [0.3333333333333333, \"rgb(248, 160, 126)\"], [0.5, \"rgb(235, 127, 134)\"], [0.6666666666666666, \"rgb(206, 102, 147)\"], [0.8333333333333334, \"rgb(160, 89, 160)\"], [1.0, \"rgb(92, 83, 165)\"]]}}, \"name\": \"9\"}, {\"data\": [{\"coloraxis\": \"coloraxis\", \"name\": \"10\", \"z\": [[0.00905413124774408, 0.014653366032800054, 0.014759023507471035, 0.012884456973361266, 0.021762839065925917, 0.01716324526423438, 0.011184573573672342, 0.011254076402847764], [0.0102712180714304, 0.018916841579191507, 0.021207910518735554, 0.018661637046723998, 0.012294094599280334, 0.015480500046696174, 0.01579128714740869, 0.010514770461417971], [0.012552441495942203, 0.018532492595257112, 0.015508195290343701, 0.012162619674323041, 0.011633063253047188, 0.012489673050381131, 0.01265968039826025, 0.01034716533493163], [0.017276582980304912, 0.013311663402760448, 0.017576544322479865, 0.012933735357934602, 0.01346823519672089, 0.014491704631351448, 0.012084559895909943, 0.01079367655244394], [0.01941832229000079, 0.01956907413754099, 0.017850448670548334, 0.015469722883158562, 0.018333540819621626, 0.01975145039330002, 0.022024099488564566, 0.01643759666384471], [0.019198234974888127, 0.020737983759178458, 0.029740492579201642, 0.016285176956920038, 0.010304827248562583, 0.02139074345049871, 0.019494818991004522, 0.017574497522494636], [0.02073083581961906, 0.017571757194218135, 0.021949772838312523, 0.022144717829821487, 0.025406556214629745, 0.01658115569285355, 0.016522141725008252, 0.010629141758606835], [0.006918053356363125, 0.013221877024751081, 0.012663261826995733, 0.012706013729468758, 0.00955681454484455, 0.011867084762698469, 0.013046145588304905, 0.011227634292840639]], \"type\": \"heatmap\"}], \"layout\": {\"height\": 500, \"margin\": {\"t\": 60}, \"width\": 500, \"xaxis\": {\"constrain\": \"domain\", \"scaleanchor\": \"y\"}, \"yaxis\": {\"autorange\": \"reversed\", \"constrain\": \"domain\"}, \"coloraxis\": {\"colorscale\": [[0.0, \"rgb(243, 231, 155)\"], [0.16666666666666666, \"rgb(250, 196, 132)\"], [0.3333333333333333, \"rgb(248, 160, 126)\"], [0.5, \"rgb(235, 127, 134)\"], [0.6666666666666666, \"rgb(206, 102, 147)\"], [0.8333333333333334, \"rgb(160, 89, 160)\"], [1.0, \"rgb(92, 83, 165)\"]]}}, \"name\": \"10\"}, {\"data\": [{\"coloraxis\": \"coloraxis\", \"name\": \"11\", \"z\": [[0.008341971060685745, 0.014553349048196558, 0.014667238709939955, 0.012411352122496173, 0.022118622172707582, 0.017044949733944968, 0.010788807164204736, 0.010706081837297782], [0.009667062911004871, 0.018466570914579213, 0.021414898348480427, 0.018524706276513116, 0.01237397701233734, 0.01571563044866031, 0.01573838286136163, 0.00997324432345364], [0.011445678471919124, 0.01894949722051948, 0.015298264588198163, 0.011644152150428638, 0.011465702137982616, 0.012210532531409935, 0.012468802954110032, 0.009383951381416381], [0.016963257610151692, 0.013221007347830918, 0.0170217337081563, 0.01258823565618349, 0.013064986100702062, 0.014389147626467624, 0.012038866900133519, 0.010634394985169594], [0.01954796484074882, 0.020384016924213582, 0.01802170496377344, 0.01528339115928398, 0.01843016883444165, 0.0199534209520712, 0.022275782101848066, 0.016451029041584523], [0.019642956238189728, 0.021677298307712208, 0.031713410542872564, 0.01604695388520666, 0.009731263375842519, 0.02290008787028584, 0.020039650759627152, 0.01751320897527529], [0.02133616529723237, 0.017356681950300927, 0.022898986495567656, 0.023037377351756608, 0.027137266410423626, 0.017496552625859533, 0.016647721713027853, 0.010482218902897683], [0.0062089393175872145, 0.013084994320598566, 0.012934479876622822, 0.012553104346757177, 0.009112590939074574, 0.011313557463821322, 0.012941045755926967, 0.010550952142923037]], \"type\": \"heatmap\"}], \"layout\": {\"height\": 500, \"margin\": {\"t\": 60}, \"width\": 500, \"xaxis\": {\"constrain\": \"domain\", \"scaleanchor\": \"y\"}, \"yaxis\": {\"autorange\": \"reversed\", \"constrain\": \"domain\"}, \"coloraxis\": {\"colorscale\": [[0.0, \"rgb(243, 231, 155)\"], [0.16666666666666666, \"rgb(250, 196, 132)\"], [0.3333333333333333, \"rgb(248, 160, 126)\"], [0.5, \"rgb(235, 127, 134)\"], [0.6666666666666666, \"rgb(206, 102, 147)\"], [0.8333333333333334, \"rgb(160, 89, 160)\"], [1.0, \"rgb(92, 83, 165)\"]]}}, \"name\": \"11\"}, {\"data\": [{\"coloraxis\": \"coloraxis\", \"name\": \"12\", \"z\": [[0.0076836776214001595, 0.014434777027581407, 0.014706804474974234, 0.011977670629778598, 0.022550279646763306, 0.016762658145967176, 0.010482166194750647, 0.010207310435424815], [0.009080191294770685, 0.017959348974616384, 0.021545984334358427, 0.01843977471381212, 0.012553044134662118, 0.01597027665930566, 0.015709474879856772, 0.00953826620037303], [0.01035325283616531, 0.019501398666607987, 0.015082701650389168, 0.01101424070320445, 0.011407595777290572, 0.012002634463441152, 0.012372670759791302, 0.008522448118416662], [0.01652988548429593, 0.013211066397462915, 0.016336369442087564, 0.012240350297394988, 0.012562852848224573, 0.014287577571305408, 0.011943098659369822, 0.010457470058777861], [0.019568687858949222, 0.021194946439216628, 0.01818821100838934, 0.01511246439923228, 0.01840312823555837, 0.019937057609420304, 0.02256223669385353, 0.016331342899167364], [0.019906830574085776, 0.022669175107638755, 0.03373690231510211, 0.015787873988721744, 0.009179179015949413, 0.02445100568701881, 0.020599587662271716, 0.01726661078585669], [0.02192310673031436, 0.016984683604825034, 0.023729173353269677, 0.023883311268674677, 0.028872709765839256, 0.018492962868513155, 0.01686891105140956, 0.010388248582845058], [0.005542249886457774, 0.012942893024140487, 0.013300677567110954, 0.012433708801953745, 0.008634018602535942, 0.010856708848271498, 0.012933796285000168, 0.009890280375784022]], \"type\": \"heatmap\"}], \"layout\": {\"height\": 500, \"margin\": {\"t\": 60}, \"width\": 500, \"xaxis\": {\"constrain\": \"domain\", \"scaleanchor\": \"y\"}, \"yaxis\": {\"autorange\": \"reversed\", \"constrain\": \"domain\"}, \"coloraxis\": {\"colorscale\": [[0.0, \"rgb(243, 231, 155)\"], [0.16666666666666666, \"rgb(250, 196, 132)\"], [0.3333333333333333, \"rgb(248, 160, 126)\"], [0.5, \"rgb(235, 127, 134)\"], [0.6666666666666666, \"rgb(206, 102, 147)\"], [0.8333333333333334, \"rgb(160, 89, 160)\"], [1.0, \"rgb(92, 83, 165)\"]]}}, \"name\": \"12\"}, {\"data\": [{\"coloraxis\": \"coloraxis\", \"name\": \"13\", \"z\": [[0.007112776600628907, 0.01428027186980298, 0.014797539414756667, 0.0116246823447214, 0.02292830972802861, 0.01648304870138619, 0.010168825841471543, 0.009704759018718475], [0.008557336518016918, 0.017497592420076695, 0.02170382507366294, 0.0182931482995127, 0.01275197517495977, 0.016301477798651112, 0.015573185581945457, 0.009163712568955491], [0.009328098767127521, 0.020072302495716107, 0.014868821259132149, 0.010393344936869836, 0.011373011593717577, 0.011812303330109887, 0.012302530132026245, 0.007720981702279681], [0.016147063214781356, 0.013189893103814427, 0.01562739889082831, 0.01194994618859169, 0.01202615009780307, 0.01427878165184069, 0.01188692479296846, 0.01027687016269931], [0.019557990546014096, 0.021929097819723187, 0.01825672553911049, 0.014897377872844923, 0.0183292537237202, 0.01986992103614968, 0.022869797844203604, 0.016137417933878028], [0.020102598739176667, 0.023770921674010074, 0.035737160929181847, 0.015409453728256438, 0.008663816568804673, 0.026055761477013648, 0.02127507803241464, 0.016966314088881575], [0.022429445277425828, 0.01660822719036453, 0.024467901857195214, 0.024624579172947955, 0.03051476177342205, 0.01953008509483964, 0.01712253694699413, 0.01029081132939117], [0.004941065674104791, 0.01287620690142599, 0.013646863775689357, 0.012235458691319288, 0.008174404463317637, 0.010428484785961234, 0.01290223877623523, 0.009181351460379378]], \"type\": \"heatmap\"}], \"layout\": {\"height\": 500, \"margin\": {\"t\": 60}, \"width\": 500, \"xaxis\": {\"constrain\": \"domain\", \"scaleanchor\": \"y\"}, \"yaxis\": {\"autorange\": \"reversed\", \"constrain\": \"domain\"}, \"coloraxis\": {\"colorscale\": [[0.0, \"rgb(243, 231, 155)\"], [0.16666666666666666, \"rgb(250, 196, 132)\"], [0.3333333333333333, \"rgb(248, 160, 126)\"], [0.5, \"rgb(235, 127, 134)\"], [0.6666666666666666, \"rgb(206, 102, 147)\"], [0.8333333333333334, \"rgb(160, 89, 160)\"], [1.0, \"rgb(92, 83, 165)\"]]}}, \"name\": \"13\"}, {\"data\": [{\"coloraxis\": \"coloraxis\", \"name\": \"14\", \"z\": [[0.006659641543047273, 0.014082125685088051, 0.014873102178722886, 0.011383062870377079, 0.023152622177654927, 0.01633942873175453, 0.009784738334009375, 0.009156778197234603], [0.008147020317625587, 0.01713256383778494, 0.022002241358519758, 0.018016520911835403, 0.012929028021857468, 0.016780440370703854, 0.015213274458040802, 0.008807774109089362], [0.008403215435489332, 0.020577714915121212, 0.014656747999255888, 0.009868453630093012, 0.011293453556663769, 0.011588386906894873, 0.012234391292138106, 0.00694226781845653], [0.01595442091573081, 0.013097308182923286, 0.014946183688425926, 0.011749968374641807, 0.011494952885607295, 0.014438212343984463, 0.011945408143021178, 0.010112702629916535], [0.019562647874918095, 0.02252119043108182, 0.018169071407513854, 0.014581930200003231, 0.01828222997313204, 0.019886027381226853, 0.023178723155428883, 0.015902049131510998], [0.020326117508896877, 0.025038716317867672, 0.03761078799010794, 0.014814311595743116, 0.0082023723218333, 0.027736531631211554, 0.022189439574442298, 0.016702552914183415], [0.022783193253721388, 0.01633755506822252, 0.025151850605578636, 0.025197722740251827, 0.03195213187694525, 0.020581404802476912, 0.017364538570085904, 0.010140677879489303], [0.00442503452727336, 0.012973744798139607, 0.013876280585544697, 0.011867821558262558, 0.007767534619895034, 0.009985402184148201, 0.012756723262768648, 0.008369532436383626]], \"type\": \"heatmap\"}], \"layout\": {\"height\": 500, \"margin\": {\"t\": 60}, \"width\": 500, \"xaxis\": {\"constrain\": \"domain\", \"scaleanchor\": \"y\"}, \"yaxis\": {\"autorange\": \"reversed\", \"constrain\": \"domain\"}, \"coloraxis\": {\"colorscale\": [[0.0, \"rgb(243, 231, 155)\"], [0.16666666666666666, \"rgb(250, 196, 132)\"], [0.3333333333333333, \"rgb(248, 160, 126)\"], [0.5, \"rgb(235, 127, 134)\"], [0.6666666666666666, \"rgb(206, 102, 147)\"], [0.8333333333333334, \"rgb(160, 89, 160)\"], [1.0, \"rgb(92, 83, 165)\"]]}}, \"name\": \"14\"}, {\"data\": [{\"coloraxis\": \"coloraxis\", \"name\": \"15\", \"z\": [[0.006361260490450112, 0.013783217447629082, 0.014863498454522697, 0.011289559911536788, 0.023132876537412646, 0.01643318851749991, 0.00930726582184367, 0.008517704663745098], [0.00790937663154407, 0.016872492391242326, 0.022567522507345564, 0.01758262334110135, 0.013043197484758195, 0.017506461125709537, 0.01456467303816362, 0.008417395285867053], [0.007626283285663123, 0.02096814801534627, 0.01450041963692118, 0.009502805068150315, 0.011105145266099672, 0.011273478186548214, 0.012157675980541408, 0.006144624620692916], [0.016025604790680457, 0.012915611262948306, 0.014337217455957318, 0.01166452546647373, 0.011005301436770887, 0.01479941016132172, 0.01219115631818206, 0.010012362903664423], [0.019607319427451305, 0.022871101932229784, 0.01788482882345797, 0.014097694952607044, 0.01834604724657606, 0.020073768646527896, 0.023405781684365554, 0.015644776943765006], [0.020656777637442877, 0.02655598102594858, 0.039174110196732094, 0.01395208081518596, 0.007833212758077924, 0.02957866396460983, 0.023466135873223503, 0.016565542247145175], [0.022865037847932417, 0.01623835900502243, 0.025858623311068977, 0.025515347824273886, 0.03302244908152437, 0.021575260822184285, 0.017552809218495075, 0.009897376763967269], [0.00402068498343072, 0.01331830667795187, 0.013910601175029447, 0.011305414930115696, 0.007443546168961357, 0.009500066984299727, 0.012448832084454737, 0.007431375439606203]], \"type\": \"heatmap\"}], \"layout\": {\"height\": 500, \"margin\": {\"t\": 60}, \"width\": 500, \"xaxis\": {\"constrain\": \"domain\", \"scaleanchor\": \"y\"}, \"yaxis\": {\"autorange\": \"reversed\", \"constrain\": \"domain\"}, \"coloraxis\": {\"colorscale\": [[0.0, \"rgb(243, 231, 155)\"], [0.16666666666666666, \"rgb(250, 196, 132)\"], [0.3333333333333333, \"rgb(248, 160, 126)\"], [0.5, \"rgb(235, 127, 134)\"], [0.6666666666666666, \"rgb(206, 102, 147)\"], [0.8333333333333334, \"rgb(160, 89, 160)\"], [1.0, \"rgb(92, 83, 165)\"]]}}, \"name\": \"15\"}, {\"data\": [{\"coloraxis\": \"coloraxis\", \"name\": \"16\", \"z\": [[0.0062256020935547015, 0.013395228402278915, 0.014778087833016066, 0.011333534814372992, 0.022870695549084122, 0.016707279607593283, 0.00879473867662553, 0.007798540031905652], [0.007839966160116915, 0.01666263572191433, 0.023419420402172455, 0.017036877600084557, 0.01314585217533345, 0.018556020344555234, 0.013695611926372463, 0.007979971163687823], [0.006991398718363617, 0.021234778015082507, 0.01440345851149108, 0.009302820631686352, 0.01083518434366584, 0.010865621330623599, 0.012132074313530545, 0.005346110699190691], [0.01632594687863478, 0.012709217703034145, 0.013757499099264303, 0.011652899917970567, 0.010532133677577757, 0.015315567433296902, 0.01263074587722716, 0.009980539082612], [0.0196261754049778, 0.02294636856478878, 0.017460993038985708, 0.01342139330765626, 0.018520204034985773, 0.020367672336837842, 0.023525330242279728, 0.015325844412824932], [0.021044546429310515, 0.028348804095522494, 0.04023450880522765, 0.012873744980058728, 0.0075900465518540005, 0.031589501964447035, 0.02516273055922353, 0.016515336454152294], [0.022590618926018824, 0.01630710883561925, 0.02661333927758308, 0.02560111154927134, 0.03360121938251053, 0.02250544979313426, 0.017715230002896355, 0.009576159111671038], [0.0037342907732704567, 0.013931360637262654, 0.013768593589651807, 0.0106085963069632, 0.007206968530463476, 0.009007201235462435, 0.01200390641192791, 0.006419585717239193]], \"type\": \"heatmap\"}], \"layout\": {\"height\": 500, \"margin\": {\"t\": 60}, \"width\": 500, \"xaxis\": {\"constrain\": \"domain\", \"scaleanchor\": \"y\"}, \"yaxis\": {\"autorange\": \"reversed\", \"constrain\": \"domain\"}, \"coloraxis\": {\"colorscale\": [[0.0, \"rgb(243, 231, 155)\"], [0.16666666666666666, \"rgb(250, 196, 132)\"], [0.3333333333333333, \"rgb(248, 160, 126)\"], [0.5, \"rgb(235, 127, 134)\"], [0.6666666666666666, \"rgb(206, 102, 147)\"], [0.8333333333333334, \"rgb(160, 89, 160)\"], [1.0, \"rgb(92, 83, 165)\"]]}}, \"name\": \"16\"}, {\"data\": [{\"coloraxis\": \"coloraxis\", \"name\": \"17\", \"z\": [[0.006217521403599556, 0.013023132016207327, 0.014668648530586456, 0.011425594870547737, 0.022448008211305555, 0.016981334561669365, 0.008339585607740637, 0.00708135952710608], [0.007855159027655443, 0.016413814458108987, 0.024442931508109476, 0.01645148962424494, 0.01334525354177245, 0.019928189267088028, 0.01278230966547174, 0.007521042832244391], [0.006438496649239981, 0.021366956551393722, 0.014279720214306084, 0.009237534423669404, 0.010558706922873072, 0.0104042408198128, 0.012243285684800667, 0.004606276224191592], [0.016736165213609898, 0.012572045944555943, 0.013112934164822516, 0.011606551590388437, 0.010042426672045409, 0.01586395019055897, 0.013197767907008412, 0.009977654203458525], [0.019541132804580207, 0.022870312198092588, 0.01703836532359785, 0.012604305174135282, 0.018730665602688133, 0.02060804870216405, 0.023597151349565037, 0.014923572038221828], [0.021375436963354064, 0.030282278970051382, 0.040716654488278985, 0.011738523663626495, 0.007480248091239669, 0.03366358449969722, 0.027177311986241005, 0.016407170824276465], [0.021988511482104713, 0.016501751195073702, 0.02740040167573839, 0.025629604456352786, 0.03370869018626494, 0.023466674275633786, 0.01789655913693889, 0.009241971949451401], [0.0035427785447114555, 0.014721725774344453, 0.013561222078555226, 0.009888346505443547, 0.0070432208004746226, 0.008552774811162242, 0.011480419899232071, 0.005450496518513056]], \"type\": \"heatmap\"}], \"layout\": {\"height\": 500, \"margin\": {\"t\": 60}, \"width\": 500, \"xaxis\": {\"constrain\": \"domain\", \"scaleanchor\": \"y\"}, \"yaxis\": {\"autorange\": \"reversed\", \"constrain\": \"domain\"}, \"coloraxis\": {\"colorscale\": [[0.0, \"rgb(243, 231, 155)\"], [0.16666666666666666, \"rgb(250, 196, 132)\"], [0.3333333333333333, \"rgb(248, 160, 126)\"], [0.5, \"rgb(235, 127, 134)\"], [0.6666666666666666, \"rgb(206, 102, 147)\"], [0.8333333333333334, \"rgb(160, 89, 160)\"], [1.0, \"rgb(92, 83, 165)\"]]}}, \"name\": \"17\"}, {\"data\": [{\"coloraxis\": \"coloraxis\", \"name\": \"18\", \"z\": [[0.006296338963502278, 0.012748896936840181, 0.014545614090251216, 0.011452449550860498, 0.0219154489668738, 0.017147239511370774, 0.007982183502030962, 0.0064496323405045354], [0.00788952456398019, 0.016045036220631487, 0.025530305603314894, 0.015852876878907744, 0.01370590676119103, 0.02157836550080012, 0.011946278827344944, 0.007070361206858189], [0.005916070412653632, 0.02134355854013607, 0.014046534972789246, 0.00928272307975773, 0.01030842298436974, 0.009927497142206152, 0.012533070660156041, 0.003960463566175821], [0.017161051915946777, 0.012535375499343514, 0.01235938327949769, 0.011435819180311056, 0.009557606859926836, 0.016356906252471555, 0.013836183137881443, 0.009982795509412945], [0.01935446414555318, 0.022832748817940365, 0.016730306581667728, 0.011717416179649056, 0.018907176086837143, 0.0207255243999007, 0.023664677085628243, 0.014485031999546708], [0.021608458095574844, 0.03210752553525074, 0.040645322149480134, 0.010693559459896616, 0.007500059789735918, 0.03571337679024019, 0.029334260944766412, 0.016138634490539462], [0.021135325075496703, 0.01678408325821521, 0.028212465526679113, 0.025717163471214437, 0.03344358567103628, 0.024577280687514785, 0.018090453634445783, 0.008940570577362984], [0.0034213883662060104, 0.015564198200824133, 0.01340254168648791, 0.00922986800761402, 0.006951668592133022, 0.008143658228838103, 0.010918557363677724, 0.004608726681746536]], \"type\": \"heatmap\"}], \"layout\": {\"height\": 500, \"margin\": {\"t\": 60}, \"width\": 500, \"xaxis\": {\"constrain\": \"domain\", \"scaleanchor\": \"y\"}, \"yaxis\": {\"autorange\": \"reversed\", \"constrain\": \"domain\"}, \"coloraxis\": {\"colorscale\": [[0.0, \"rgb(243, 231, 155)\"], [0.16666666666666666, \"rgb(250, 196, 132)\"], [0.3333333333333333, \"rgb(248, 160, 126)\"], [0.5, \"rgb(235, 127, 134)\"], [0.6666666666666666, \"rgb(206, 102, 147)\"], [0.8333333333333334, \"rgb(160, 89, 160)\"], [1.0, \"rgb(92, 83, 165)\"]]}}, \"name\": \"18\"}, {\"data\": [{\"coloraxis\": \"coloraxis\", \"name\": \"19\", \"z\": [[0.0063890028303989115, 0.012698174503541389, 0.014448307865646801, 0.01125596916803242, 0.02135110052297839, 0.01711468074947352, 0.007750507354039354, 0.006014638453508859], [0.00785142531597998, 0.015485040565561837, 0.026515207346909025, 0.015258478903061529, 0.014304827348831088, 0.023331482745803586, 0.011309940067515107, 0.006690954752314989], [0.0053585337220910445, 0.02114158189898208, 0.013582844183673046, 0.00939519088005836, 0.01013829809824914, 0.009514664381817277, 0.01304211306958117, 0.003456037658622077], [0.017503191035143518, 0.012588181610453619, 0.011471014178613443, 0.011049760484425391, 0.009119873385995582, 0.016729153149006065, 0.014446628678588883, 0.009953304497620467], [0.019107173335947684, 0.023143651466952304, 0.0166775348147462, 0.010877626033728329, 0.01891518008296463, 0.020685878929682672, 0.023843770105855765, 0.014087216060806537], [0.02169433410719871, 0.03337313824964971, 0.04021379144857652, 0.00989541906099584, 0.007626534442977838, 0.03754177669025647, 0.03132556547099419, 0.015585919611868518], [0.020179796633798756, 0.017095398457426032, 0.02898970419967019, 0.025992679862206065, 0.033031198305116, 0.026055019858831477, 0.018282853550282186, 0.008722227503874793], [0.0033290405169684005, 0.016238947520744222, 0.013455731454402892, 0.008712338036203755, 0.006930254567490437, 0.0077972481908014845, 0.010367133718441094, 0.003965808304021333]], \"type\": \"heatmap\"}], \"layout\": {\"height\": 500, \"margin\": {\"t\": 60}, \"width\": 500, \"xaxis\": {\"constrain\": \"domain\", \"scaleanchor\": \"y\"}, \"yaxis\": {\"autorange\": \"reversed\", \"constrain\": \"domain\"}, \"coloraxis\": {\"colorscale\": [[0.0, \"rgb(243, 231, 155)\"], [0.16666666666666666, \"rgb(250, 196, 132)\"], [0.3333333333333333, \"rgb(248, 160, 126)\"], [0.5, \"rgb(235, 127, 134)\"], [0.6666666666666666, \"rgb(206, 102, 147)\"], [0.8333333333333334, \"rgb(160, 89, 160)\"], [1.0, \"rgb(92, 83, 165)\"]]}}, \"name\": \"19\"}, {\"data\": [{\"coloraxis\": \"coloraxis\", \"name\": \"20\", \"z\": [[0.0063564114550658385, 0.013058060547020975, 0.014505869591315309, 0.010705538405920471, 0.02091472297762512, 0.01676695882793258, 0.007662229353335865, 0.0058839408207256826], [0.007601575088380579, 0.014745713381911349, 0.027148408394667443, 0.014727478390494599, 0.015260019200994413, 0.02480721112617863, 0.011001891693196104, 0.006480609171722899], [0.004699437090314088, 0.020764688589485776, 0.012762048669537613, 0.00948102705632303, 0.010189987168427886, 0.009305702777199264, 0.01379765202474458, 0.0031574994344775484], [0.017674901715453717, 0.012695133471837887, 0.010441634958352406, 0.010398183339189198, 0.008725670305787435, 0.016952772215007243, 0.014813153183726424, 0.009784420206169884], [0.01877429790694409, 0.02416608508324212, 0.01702265478121673, 0.010246538235777557, 0.018520451200992178, 0.020452970593271103, 0.024385782695933052, 0.013779369211448804], [0.02147982558330019, 0.033640011804902774, 0.039810775996738136, 0.00945588820086591, 0.007779942675148184, 0.03868230770494787, 0.03279468678803401, 0.01462826326129232], [0.019370399629619586, 0.01732127687176283, 0.02957025793577748, 0.026644469565047263, 0.03288897160556034, 0.02819643887048854, 0.018522578854793217, 0.008640070631037718], [0.0031953277993640446, 0.016484107109993557, 0.013901169971399239, 0.008381280100103559, 0.006938528834390931, 0.007577310915660032, 0.009907241992322841, 0.003570166956101249]], \"type\": \"heatmap\"}], \"layout\": {\"height\": 500, \"margin\": {\"t\": 60}, \"width\": 500, \"xaxis\": {\"constrain\": \"domain\", \"scaleanchor\": \"y\"}, \"yaxis\": {\"autorange\": \"reversed\", \"constrain\": \"domain\"}, \"coloraxis\": {\"colorscale\": [[0.0, \"rgb(243, 231, 155)\"], [0.16666666666666666, \"rgb(250, 196, 132)\"], [0.3333333333333333, \"rgb(248, 160, 126)\"], [0.5, \"rgb(235, 127, 134)\"], [0.6666666666666666, \"rgb(206, 102, 147)\"], [0.8333333333333334, \"rgb(160, 89, 160)\"], [1.0, \"rgb(92, 83, 165)\"]]}}, \"name\": \"20\"}, {\"data\": [{\"coloraxis\": \"coloraxis\", \"name\": \"21\", \"z\": [[0.006142901923831026, 0.013831539715952815, 0.014663947494058254, 0.009891990363346008, 0.02054382706215414, 0.016183880128001944, 0.007650871328379108, 0.005977717118799494], [0.007142290730590551, 0.013992851513761425, 0.027396174331099456, 0.014247366703642454, 0.016520374819511283, 0.02584581635107949, 0.010933123866166301, 0.006418722579893131], [0.003993232171549976, 0.02014472805816368, 0.011666252682562139, 0.009571380569965926, 0.010469088754611425, 0.009319231377471631, 0.014679775250717958, 0.0030331964399649162], [0.01779033840984577, 0.012813731733025684, 0.009368535435204054, 0.009612891206481174, 0.008375208966472179, 0.017123260776724217, 0.01489305355863591, 0.009458376703271048], [0.01831157361159902, 0.025871893874413958, 0.017625095902132938, 0.009814176822310875, 0.017695712291483073, 0.020153059580092995, 0.02534362881265103, 0.013614566256826785], [0.020985785823912223, 0.03311845348585222, 0.03948546187705348, 0.009282706899201148, 0.00791748531767378, 0.03886708973134657, 0.03372322809527767, 0.013446722785487149], [0.01876789859952483, 0.01746821460062504, 0.029942119276089165, 0.027736989793527223, 0.03320859402042806, 0.031025009614822786, 0.018784968611177583, 0.008674764290264241], [0.0030202385714948737, 0.016362359692192095, 0.014603377793160531, 0.00814756006895542, 0.006979033415706643, 0.007458361236739364, 0.009505895152154439, 0.0033622959708876723]], \"type\": \"heatmap\"}], \"layout\": {\"height\": 500, \"margin\": {\"t\": 60}, \"width\": 500, \"xaxis\": {\"constrain\": \"domain\", \"scaleanchor\": \"y\"}, \"yaxis\": {\"autorange\": \"reversed\", \"constrain\": \"domain\"}, \"coloraxis\": {\"colorscale\": [[0.0, \"rgb(243, 231, 155)\"], [0.16666666666666666, \"rgb(250, 196, 132)\"], [0.3333333333333333, \"rgb(248, 160, 126)\"], [0.5, \"rgb(235, 127, 134)\"], [0.6666666666666666, \"rgb(206, 102, 147)\"], [0.8333333333333334, \"rgb(160, 89, 160)\"], [1.0, \"rgb(92, 83, 165)\"]]}}, \"name\": \"21\"}, {\"data\": [{\"coloraxis\": \"coloraxis\", \"name\": \"22\", \"z\": [[0.005824311233078545, 0.014870461456828236, 0.01480358092746347, 0.008989516237620319, 0.020075089728917778, 0.015539356643644133, 0.007647959806558235, 0.006160595283518791], [0.006593853188537583, 0.013356059875971134, 0.027399982853016057, 0.013737614127453331, 0.017918572525759808, 0.02658968364385073, 0.01092225401463984, 0.006443003613108468], [0.0033367236001258208, 0.01924717755377149, 0.010484029087446042, 0.009747885692021372, 0.010855156162761781, 0.009481842739723618, 0.015549827163127002, 0.003010091939840519], [0.018006208038196893, 0.012904621962327407, 0.008363835891592637, 0.008853308922409429, 0.008078231381905984, 0.01734273145411979, 0.014841877090104871, 0.009027245630796368], [0.017751377956870686, 0.02799023524323926, 0.018244433055868953, 0.009454493831351593, 0.01658780742257637, 0.019920373998835703, 0.026648417693301875, 0.01357974354766628], [0.020358566139347768, 0.03222158306418417, 0.03906119853828113, 0.009244445461500645, 0.008065953964812899, 0.03821647938684721, 0.034309652784839176, 0.012275092927504309], [0.01825470280273575, 0.017654125107515607, 0.030130050578017386, 0.02917918162137466, 0.03378245461903683, 0.03434782654064929, 0.01901752900168085, 0.008771440988948045], [0.002849534019820607, 0.01607296492233939, 0.015303608185465443, 0.007913230508939943, 0.007086449503675562, 0.00737271393203107, 0.009075252975697506, 0.0032563902048053997]], \"type\": \"heatmap\"}], \"layout\": {\"height\": 500, \"margin\": {\"t\": 60}, \"width\": 500, \"xaxis\": {\"constrain\": \"domain\", \"scaleanchor\": \"y\"}, \"yaxis\": {\"autorange\": \"reversed\", \"constrain\": \"domain\"}, \"coloraxis\": {\"colorscale\": [[0.0, \"rgb(243, 231, 155)\"], [0.16666666666666666, \"rgb(250, 196, 132)\"], [0.3333333333333333, \"rgb(248, 160, 126)\"], [0.5, \"rgb(235, 127, 134)\"], [0.6666666666666666, \"rgb(206, 102, 147)\"], [0.8333333333333334, \"rgb(160, 89, 160)\"], [1.0, \"rgb(92, 83, 165)\"]]}}, \"name\": \"22\"}, {\"data\": [{\"coloraxis\": \"coloraxis\", \"name\": \"23\", \"z\": [[0.005486266220849656, 0.01597697318080367, 0.014887494553637151, 0.008154266687683959, 0.01945240073415965, 0.014916999283409569, 0.007641650539796408, 0.0063212281327873045], [0.006054309953288592, 0.012865792162923818, 0.02727596153823109, 0.013182053406702527, 0.019290652376134816, 0.02720588104950133, 0.01087491332391502, 0.006490901583211675], [0.002780797686455652, 0.01817837518057826, 0.009377888467246992, 0.010016990397676158, 0.01124959692295061, 0.009702946295311089, 0.016338028932250157, 0.003020484452121797], [0.018319158322040053, 0.012972467029435188, 0.007482834800370694, 0.008201278425682629, 0.007831826789702435, 0.01761114835791104, 0.0147833186322389, 0.00858146209189054], [0.01714598754791711, 0.030158442244925494, 0.018720634818349517, 0.009086831619667283, 0.015392007553512973, 0.019733257414312554, 0.028132046693508703, 0.013609517998370698], [0.019678748378442502, 0.03132942718182834, 0.038457002152486555, 0.009255740412313472, 0.008256621852753651, 0.03714052298056794, 0.03479408803061495, 0.01122644429227389], [0.017717726377968795, 0.017906422379490354, 0.030235513122636257, 0.03084216486651196, 0.03435168605988812, 0.037895762805870745, 0.01919467759621116, 0.008896281281716874], [0.0027066050207451542, 0.015757255518105792, 0.01585710713822243, 0.007659847358578762, 0.007259178738687181, 0.007288040421667696, 0.008602358355566782, 0.0031857042753868996]], \"type\": \"heatmap\"}], \"layout\": {\"height\": 500, \"margin\": {\"t\": 60}, \"width\": 500, \"xaxis\": {\"constrain\": \"domain\", \"scaleanchor\": \"y\"}, \"yaxis\": {\"autorange\": \"reversed\", \"constrain\": \"domain\"}, \"coloraxis\": {\"colorscale\": [[0.0, \"rgb(243, 231, 155)\"], [0.16666666666666666, \"rgb(250, 196, 132)\"], [0.3333333333333333, \"rgb(248, 160, 126)\"], [0.5, \"rgb(235, 127, 134)\"], [0.6666666666666666, \"rgb(206, 102, 147)\"], [0.8333333333333334, \"rgb(160, 89, 160)\"], [1.0, \"rgb(92, 83, 165)\"]]}}, \"name\": \"23\"}, {\"data\": [{\"coloraxis\": \"coloraxis\", \"name\": \"24\", \"z\": [[0.00518255481799038, 0.016965379124357097, 0.014905646899776848, 0.0074699229202884465, 0.01870888244663985, 0.014369293608169006, 0.007634012730537658, 0.006395732039336621], [0.0055834036528805055, 0.012515043102614901, 0.02715039953367889, 0.012638043558377474, 0.020497476282042668, 0.027788078336144252, 0.01077398222381997, 0.006503910521547542], [0.002348775524911488, 0.017067245223733072, 0.00845916686396572, 0.010364787537048467, 0.011605265420196909, 0.0099329609039884, 0.01700884026329319, 0.0030285596076726823], [0.01867977251974221, 0.01302604834879384, 0.006757610302702142, 0.007683726303971521, 0.0076414480481705755, 0.01788173490622249, 0.014757610704102031, 0.008190120965056887], [0.01653697251363462, 0.03207235517898679, 0.019007914075304964, 0.008696002183271838, 0.014268118258205155, 0.019552670614067777, 0.02958601670648797, 0.013659991151176254], [0.01899116967534443, 0.030670083587975107, 0.03766429609848701, 0.009279443431009822, 0.008517967986674422, 0.03599095456223303, 0.03534647012048429, 0.010358868336823852], [0.017085829054669315, 0.018190813095607977, 0.030403362724326782, 0.03255578755792034, 0.03478186832430731, 0.041332133352789575, 0.019291552774317083, 0.009002586416632657], [0.0026044031829461083, 0.015487049917495653, 0.016213261089701253, 0.00740430464537256, 0.007478636006288822, 0.007210703805201318, 0.008128730666993112, 0.0031142476634884544]], \"type\": \"heatmap\"}], \"layout\": {\"height\": 500, \"margin\": {\"t\": 60}, \"width\": 500, \"xaxis\": {\"constrain\": \"domain\", \"scaleanchor\": \"y\"}, \"yaxis\": {\"autorange\": \"reversed\", \"constrain\": \"domain\"}, \"coloraxis\": {\"colorscale\": [[0.0, \"rgb(243, 231, 155)\"], [0.16666666666666666, \"rgb(250, 196, 132)\"], [0.3333333333333333, \"rgb(248, 160, 126)\"], [0.5, \"rgb(235, 127, 134)\"], [0.6666666666666666, \"rgb(206, 102, 147)\"], [0.8333333333333334, \"rgb(160, 89, 160)\"], [1.0, \"rgb(92, 83, 165)\"]]}}, \"name\": \"24\"}, {\"data\": [{\"coloraxis\": \"coloraxis\", \"name\": \"25\", \"z\": [[0.004965406520048612, 0.017639767311733483, 0.014811778223433342, 0.006999442377836767, 0.017873625331532805, 0.013964915691126538, 0.007621981490376978, 0.006316123402435761], [0.005222496800825072, 0.012310515745897142, 0.0271955326185503, 0.01218409334791466, 0.021382868671048754, 0.02846853606199126, 0.010611053807849906, 0.006393810815650908], [0.0020564590226165784, 0.015994806791647113, 0.007808759795829804, 0.0108284330793823, 0.011874533144151425, 0.010121405557119554, 0.017535594744489784, 0.0030018839690990453], [0.019087656074936975, 0.01308602415711397, 0.006214974300873016, 0.007319723053525204, 0.00752863624151646, 0.0181005681898799, 0.014808987140246593, 0.007913535959422935], [0.015961603244035477, 0.03339087451048382, 0.01909115759518084, 0.008277297479343823, 0.013380414460200961, 0.019359346832659427, 0.030729593369760014, 0.013715074707181585], [0.018365564445372323, 0.03048445588792016, 0.03664008751661613, 0.009274406756581291, 0.008903571161357798, 0.035086135620944266, 0.036167924523635056, 0.009741217475688147], [0.01627057738431903, 0.01849165375180833, 0.030868958166172446, 0.03413724404548822, 0.034985441925240675, 0.04420817787002388, 0.01925905186908265, 0.009020066476471075], [0.0025652148851903495, 0.015350538211896504, 0.01630189792635016, 0.007152636090814362, 0.007735236037992746, 0.007150174861785211, 0.007686387125028753, 0.0030040883452710065]], \"type\": \"heatmap\"}], \"layout\": {\"height\": 500, \"margin\": {\"t\": 60}, \"width\": 500, \"xaxis\": {\"constrain\": \"domain\", \"scaleanchor\": \"y\"}, \"yaxis\": {\"autorange\": \"reversed\", \"constrain\": \"domain\"}, \"coloraxis\": {\"colorscale\": [[0.0, \"rgb(243, 231, 155)\"], [0.16666666666666666, \"rgb(250, 196, 132)\"], [0.3333333333333333, \"rgb(248, 160, 126)\"], [0.5, \"rgb(235, 127, 134)\"], [0.6666666666666666, \"rgb(206, 102, 147)\"], [0.8333333333333334, \"rgb(160, 89, 160)\"], [1.0, \"rgb(92, 83, 165)\"]]}}, \"name\": \"25\"}, {\"data\": [{\"coloraxis\": \"coloraxis\", \"name\": \"26\", \"z\": [[0.004880605252754683, 0.01778623241106543, 0.01456747645547034, 0.006805575686512428, 0.01698897226446227, 0.013751816812715943, 0.007591087349932119, 0.006012442288327229], [0.004998218218404499, 0.012280845375212079, 0.027551820348256727, 0.011894389273903211, 0.021791218566503342, 0.02943621565895967, 0.010370600348474469, 0.006088495873020342], [0.0019173290899585902, 0.015052659044230225, 0.007513365789786362, 0.011441933071999299, 0.012034241144717872, 0.010241400948947406, 0.017864009958431404, 0.0029147248060325984], [0.01955034766827267, 0.01319185521904821, 0.0058835356037810725, 0.007147555734306996, 0.007489505324239975, 0.018225087436303924, 0.014990546256128305, 0.007784556324678665], [0.015426146227303341, 0.03375702659233964, 0.018932846457042886, 0.00783131632840819, 0.012861613438471075, 0.019143059200581958, 0.03128130068449355, 0.01374491274531372], [0.017882001157350867, 0.031115896597522542, 0.03536713600648436, 0.009177846949493095, 0.009451371686513646, 0.03471078828948729, 0.03745256858094256, 0.009462963887697304], [0.015234212234158627, 0.01879042408763442, 0.03180279549215638, 0.03536571908643232, 0.03494155794169888, 0.045985298223295716, 0.01909950917376218, 0.00887580895008386], [0.0026115770286763086, 0.01545335117681615, 0.016035990044932582, 0.006904808107902347, 0.008007232942610383, 0.007122071879722585, 0.007310421358710969, 0.002821761837120923]], \"type\": \"heatmap\"}], \"layout\": {\"height\": 500, \"margin\": {\"t\": 60}, \"width\": 500, \"xaxis\": {\"constrain\": \"domain\", \"scaleanchor\": \"y\"}, \"yaxis\": {\"autorange\": \"reversed\", \"constrain\": \"domain\"}, \"coloraxis\": {\"colorscale\": [[0.0, \"rgb(243, 231, 155)\"], [0.16666666666666666, \"rgb(250, 196, 132)\"], [0.3333333333333333, \"rgb(248, 160, 126)\"], [0.5, \"rgb(235, 127, 134)\"], [0.6666666666666666, \"rgb(206, 102, 147)\"], [0.8333333333333334, \"rgb(160, 89, 160)\"], [1.0, \"rgb(92, 83, 165)\"]]}}, \"name\": \"26\"}, {\"data\": [{\"coloraxis\": \"coloraxis\", \"name\": \"27\", \"z\": [[0.004919144754152428, 0.017352825180952724, 0.014258555190934353, 0.0068734489488240956, 0.016182719438689677, 0.0136682161407724, 0.007562846375043412, 0.005529008330437896], [0.004883170382420488, 0.012406253681557044, 0.028146468830645744, 0.011781771852660324, 0.02170429001573576, 0.030720678537934417, 0.010114764034647708, 0.005641440687741224], [0.0019157237713090045, 0.014356699131729088, 0.007604254241946308, 0.012115757789311917, 0.012115469915931923, 0.01033515741267519, 0.017971314018006543, 0.0027837291344419905], [0.01993951094898064, 0.01337782860542693, 0.005760246693812576, 0.007163640417932766, 0.007477780088586981, 0.018197692479141797, 0.015265974898782177, 0.007758069679039209], [0.014934892566104417, 0.033156249988324706, 0.01855390647015629, 0.007386299828100121, 0.012688123615618633, 0.018842014055185808, 0.031248772000739413, 0.013685500095762113], [0.017530157240521656, 0.032640583622395546, 0.03406772387457151, 0.00902451079879069, 0.010135394286282058, 0.034951901785951006, 0.03911308474190362, 0.009510753173367798], [0.014098231594282149, 0.019021350419636943, 0.03306731432670925, 0.03615180789053964, 0.0346885536932621, 0.046456580723733536, 0.018905390744700407, 0.008582323923386781], [0.0027309331478192907, 0.015726309346373903, 0.01547860381199112, 0.00670521577476647, 0.00824527067907045, 0.007152722965362079, 0.007039328596718089, 0.0025957426076666664]], \"type\": \"heatmap\"}], \"layout\": {\"height\": 500, \"margin\": {\"t\": 60}, \"width\": 500, \"xaxis\": {\"constrain\": \"domain\", \"scaleanchor\": \"y\"}, \"yaxis\": {\"autorange\": \"reversed\", \"constrain\": \"domain\"}, \"coloraxis\": {\"colorscale\": [[0.0, \"rgb(243, 231, 155)\"], [0.16666666666666666, \"rgb(250, 196, 132)\"], [0.3333333333333333, \"rgb(248, 160, 126)\"], [0.5, \"rgb(235, 127, 134)\"], [0.6666666666666666, \"rgb(206, 102, 147)\"], [0.8333333333333334, \"rgb(160, 89, 160)\"], [1.0, \"rgb(92, 83, 165)\"]]}}, \"name\": \"27\"}, {\"data\": [{\"coloraxis\": \"coloraxis\", \"name\": \"28\", \"z\": [[0.004976611354619036, 0.016558800471085686, 0.014011712014765906, 0.00708072945224629, 0.015593577678846109, 0.01358607454934519, 0.007562295974998851, 0.005006552487697044], [0.004789510393448066, 0.012645646802352303, 0.02869461640473969, 0.011802217721143225, 0.021246341844015918, 0.03200630489287322, 0.009959856928046339, 0.005196120299547109], [0.0019976031140376167, 0.013946657247728606, 0.008007606977406198, 0.012672848451460682, 0.012193245829756939, 0.010500530063680437, 0.017835887073427408, 0.0026633089536050153], [0.020070345797431582, 0.013623758133408046, 0.005806688875001099, 0.007311024643050029, 0.007438543387344819, 0.017989474071914233, 0.01548649364112763, 0.007723772196000313], [0.014505126801592848, 0.032056933224251474, 0.018027666416542697, 0.0070095666457924794, 0.012661646089866354, 0.01842703494428352, 0.031001628508555423, 0.013528836922007376], [0.017237976773114633, 0.03472684420160062, 0.03318083842333835, 0.008945569084217059, 0.010822580169794706, 0.03554735478442281, 0.04068895850375323, 0.009781026864043188], [0.01312616649246996, 0.019102310611678282, 0.03428907546257338, 0.03673656116139205, 0.03449546175212894, 0.04599205306636027, 0.018755852768710588, 0.008251352131756777], [0.0028604074603340067, 0.015919359024121692, 0.014804627743528316, 0.00659958371894415, 0.008393297788976472, 0.007246769517146706, 0.006890225465951668, 0.0024025497505987567]], \"type\": \"heatmap\"}], \"layout\": {\"height\": 500, \"margin\": {\"t\": 60}, \"width\": 500, \"xaxis\": {\"constrain\": \"domain\", \"scaleanchor\": \"y\"}, \"yaxis\": {\"autorange\": \"reversed\", \"constrain\": \"domain\"}, \"coloraxis\": {\"colorscale\": [[0.0, \"rgb(243, 231, 155)\"], [0.16666666666666666, \"rgb(250, 196, 132)\"], [0.3333333333333333, \"rgb(248, 160, 126)\"], [0.5, \"rgb(235, 127, 134)\"], [0.6666666666666666, \"rgb(206, 102, 147)\"], [0.8333333333333334, \"rgb(160, 89, 160)\"], [1.0, \"rgb(92, 83, 165)\"]]}}, \"name\": \"28\"}, {\"data\": [{\"coloraxis\": \"coloraxis\", \"name\": \"29\", \"z\": [[0.0049276959266765065, 0.01570861523293133, 0.013926260482721865, 0.007254987257096241, 0.015318351794649255, 0.013441114781443386, 0.0075853886845364486, 0.00458583219162287], [0.0046398231160337915, 0.012957655572692019, 0.028975976666133375, 0.011902133367644256, 0.020594723366767966, 0.03283968874762923, 0.009992985127382057, 0.004882349341323973], [0.002097566464414659, 0.013792560495320716, 0.008596784721019496, 0.012953347501226396, 0.012340176760318039, 0.010842706253097871, 0.017452819377429412, 0.0026103125859957693], [0.019865336968286462, 0.01383356688951583, 0.005983398007401268, 0.0075121692511870486, 0.0073416319707908725, 0.017644257740127987, 0.0154970438803844, 0.007563487751821359], [0.014171873893168409, 0.031099944823319507, 0.01747063731589666, 0.006770359786839714, 0.01253994724048822, 0.017973301255971682, 0.0310298571406356, 0.013317403463231361], [0.01694994507686195, 0.03676749021577826, 0.03312805522056947, 0.009071492050505245, 0.011331135627128964, 0.036056696338384646, 0.041651826842686854, 0.010153890300540333], [0.012534614860310753, 0.019005960850750396, 0.03506311383273151, 0.037428797237107465, 0.03471452424927143, 0.04518986012299861, 0.01867948856869795, 0.007982649039801969], [0.0029192575549561984, 0.01576387919056943, 0.014198078343598902, 0.006596900451160554, 0.008415112764452864, 0.007392401838309493, 0.006865157496129164, 0.002305598731523229]], \"type\": \"heatmap\"}], \"layout\": {\"height\": 500, \"margin\": {\"t\": 60}, \"width\": 500, \"xaxis\": {\"constrain\": \"domain\", \"scaleanchor\": \"y\"}, \"yaxis\": {\"autorange\": \"reversed\", \"constrain\": \"domain\"}, \"coloraxis\": {\"colorscale\": [[0.0, \"rgb(243, 231, 155)\"], [0.16666666666666666, \"rgb(250, 196, 132)\"], [0.3333333333333333, \"rgb(248, 160, 126)\"], [0.5, \"rgb(235, 127, 134)\"], [0.6666666666666666, \"rgb(206, 102, 147)\"], [0.8333333333333334, \"rgb(160, 89, 160)\"], [1.0, \"rgb(92, 83, 165)\"]]}}, \"name\": \"29\"}, {\"data\": [{\"coloraxis\": \"coloraxis\", \"name\": \"30\", \"z\": [[0.0046987669279366555, 0.014985665942728817, 0.014045134093028514, 0.007311171066572938, 0.015374943082824083, 0.013225979151252136, 0.007619127180481705, 0.004312383806230706], [0.004396948719717447, 0.01334729427724204, 0.02888369274540337, 0.012085891388920265, 0.019855756303481197, 0.03287199654425494, 0.010240021215162843, 0.004739722033163574], [0.002172320660402574, 0.013848011813558611, 0.009289032577960345, 0.012888015979298813, 0.012628343669803923, 0.011446257024356735, 0.016830721528600483, 0.002656063850581792], [0.019340938246014686, 0.013935104357826734, 0.006276036341963337, 0.007730605343107003, 0.007180071740764978, 0.017233871167963488, 0.015196628083552457, 0.007234546778710274], [0.013925446014501724, 0.030575718096586733, 0.016930516801358687, 0.006729923402503029, 0.012189235019070824, 0.017545129689313356, 0.03155671722568557, 0.013101557124950931], [0.016604302537509077, 0.038412566993126354, 0.034124405515019586, 0.009444103769679052, 0.01152775811259073, 0.03615327238553074, 0.041784279201853236, 0.010566988267229512], [0.01239912617494178, 0.018703374844392606, 0.035216942249054584, 0.0384210111180764, 0.03568144710941787, 0.044415842640466725, 0.018653584879513196, 0.007822575959038939], [0.002855453858324913, 0.015169861046914295, 0.01373858981211847, 0.006672931921156658, 0.008297839302486091, 0.007592735692111149, 0.006984770225528237, 0.002320929367080619]], \"type\": \"heatmap\"}], \"layout\": {\"height\": 500, \"margin\": {\"t\": 60}, \"width\": 500, \"xaxis\": {\"constrain\": \"domain\", \"scaleanchor\": \"y\"}, \"yaxis\": {\"autorange\": \"reversed\", \"constrain\": \"domain\"}, \"coloraxis\": {\"colorscale\": [[0.0, \"rgb(243, 231, 155)\"], [0.16666666666666666, \"rgb(250, 196, 132)\"], [0.3333333333333333, \"rgb(248, 160, 126)\"], [0.5, \"rgb(235, 127, 134)\"], [0.6666666666666666, \"rgb(206, 102, 147)\"], [0.8333333333333334, \"rgb(160, 89, 160)\"], [1.0, \"rgb(92, 83, 165)\"]]}}, \"name\": \"30\"}, {\"data\": [{\"coloraxis\": \"coloraxis\", \"name\": \"31\", \"z\": [[0.004334241688700261, 0.014345872515227134, 0.014329545934892005, 0.0072336703480256484, 0.015723308105101703, 0.013018725550108466, 0.007624937058910887, 0.00417701608331405], [0.004105419406114329, 0.013785183424209172, 0.028563595923162176, 0.012338423286620572, 0.01901806456561414, 0.03215615103571518, 0.010644260689093554, 0.004749660372622118], [0.0022258349963189673, 0.014095128552354038, 0.01010115058612639, 0.012495654471919445, 0.013010841613363449, 0.012328857863404324, 0.015984188894028233, 0.0027957954799869354], [0.018587539105112235, 0.013854853063254876, 0.006704627142526087, 0.007961587481776103, 0.006975495714125958, 0.016819376042587837, 0.014636059080883137, 0.006761831597353105], [0.013775488889670784, 0.03053614339882186, 0.016424748994882214, 0.006877648941039229, 0.011630749481050369, 0.01723594116859885, 0.032561693868349596, 0.01289471168696592], [0.016237885030018072, 0.03949410349369449, 0.03616718396033654, 0.010055646641613184, 0.011407408413124964, 0.03584721058865042, 0.04114485608322166, 0.011031355701957598], [0.012648804914473635, 0.018231823188038027, 0.0347350932538545, 0.03949538504424739, 0.03740746637151075, 0.04362859467456179, 0.018640622641901895, 0.0077175719391079185], [0.0026843985823329546, 0.01419912432821579, 0.013419563108837206, 0.006802526297408193, 0.008063489926497256, 0.007831177842785484, 0.007249426400723025, 0.002435257470954984]], \"type\": \"heatmap\"}], \"layout\": {\"height\": 500, \"margin\": {\"t\": 60}, \"width\": 500, \"xaxis\": {\"constrain\": \"domain\", \"scaleanchor\": \"y\"}, \"yaxis\": {\"autorange\": \"reversed\", \"constrain\": \"domain\"}, \"coloraxis\": {\"colorscale\": [[0.0, \"rgb(243, 231, 155)\"], [0.16666666666666666, \"rgb(250, 196, 132)\"], [0.3333333333333333, \"rgb(248, 160, 126)\"], [0.5, \"rgb(235, 127, 134)\"], [0.6666666666666666, \"rgb(206, 102, 147)\"], [0.8333333333333334, \"rgb(160, 89, 160)\"], [1.0, \"rgb(92, 83, 165)\"]]}}, \"name\": \"31\"}, {\"data\": [{\"coloraxis\": \"coloraxis\", \"name\": \"32\", \"z\": [[0.003938894564067635, 0.01366459578976509, 0.014679379746455189, 0.007072117644768331, 0.01623439976022522, 0.01289645665388241, 0.0075789960589528, 0.0041292199889512065], [0.003832329900222249, 0.01421163306558277, 0.028244944078399295, 0.01261852811261749, 0.01805235111534208, 0.03103825031143867, 0.011094626615176073, 0.004844733097471997], [0.0022808836390247095, 0.014487297643558147, 0.011072048027738193, 0.011896795399400051, 0.013364656069002718, 0.013413094582566364, 0.014998488772265901, 0.002985307096377407], [0.017729317188616426, 0.013584976909965556, 0.007266902998783306, 0.008209174748077289, 0.006774651164154997, 0.016432552855601495, 0.013964836641043414, 0.006237354502717592], [0.013718185933175276, 0.03081490316385186, 0.01594355566416066, 0.007138837422173451, 0.010981513379513058, 0.017072238357438558, 0.03380253384656494, 0.012694273697726953], [0.015899530340438058, 0.04009774154219433, 0.038963859560432884, 0.010849160434075075, 0.01110538630580287, 0.03540061281222188, 0.040075210084411284, 0.011558230582430499], [0.013083147723951867, 0.017656903995519394, 0.033854274578390395, 0.0402966968380078, 0.03959168167381144, 0.042676468936729446, 0.018585179667133248, 0.007587908328634314], [0.002467145586339493, 0.01303914005120436, 0.013185473406682535, 0.006963121469403872, 0.007768982571570663, 0.008074040726623875, 0.007618541793450339, 0.002605724783722306]], \"type\": \"heatmap\"}], \"layout\": {\"height\": 500, \"margin\": {\"t\": 60}, \"width\": 500, \"xaxis\": {\"constrain\": \"domain\", \"scaleanchor\": \"y\"}, \"yaxis\": {\"autorange\": \"reversed\", \"constrain\": \"domain\"}, \"coloraxis\": {\"colorscale\": [[0.0, \"rgb(243, 231, 155)\"], [0.16666666666666666, \"rgb(250, 196, 132)\"], [0.3333333333333333, \"rgb(248, 160, 126)\"], [0.5, \"rgb(235, 127, 134)\"], [0.6666666666666666, \"rgb(206, 102, 147)\"], [0.8333333333333334, \"rgb(160, 89, 160)\"], [1.0, \"rgb(92, 83, 165)\"]]}}, \"name\": \"32\"}, {\"data\": [{\"coloraxis\": \"coloraxis\", \"name\": \"33\", \"z\": [[0.0036135455293606726, 0.012825615895688038, 0.014974968200964577, 0.006895300317979926, 0.016781726246575326, 0.012912162899252524, 0.007464599667713122, 0.004093494610790099], [0.003645400940514393, 0.014573152403957804, 0.02828690328313979, 0.012915644021566293, 0.017006443281204268, 0.03003548147823998, 0.01147639076120255, 0.004930411692356211], [0.0023781966119939637, 0.014945841508365604, 0.012254354978566216, 0.01127048601080191, 0.013594582721654255, 0.01454475635490569, 0.01398937071531555, 0.0031657454331221494], [0.01694072275045846, 0.01318858730701307, 0.007926003845334782, 0.008468918524704936, 0.006608952338082637, 0.016061296689773383, 0.01331690860936353, 0.005747776528559832], [0.013689186816709206, 0.031168902360108098, 0.015519824512838688, 0.007373596292243664, 0.010384573771143569, 0.017066660871717362, 0.03500679622486983, 0.012483700950306516], [0.015636070789265932, 0.0405438218351356, 0.04188758458052335, 0.011694781464280386, 0.010816553165023229, 0.03505599652463941, 0.039041874181606026, 0.012163798389896573], [0.013430937478579093, 0.01707496242165259, 0.03297098286890183, 0.04046302228096808, 0.041723337486332626, 0.04128874512938231, 0.018501853033037283, 0.007326194719071699], [0.0022825449794896977, 0.011940849184280225, 0.012948771792630138, 0.007121749044353517, 0.007463557080355033, 0.008299127119492345, 0.008023255991632564, 0.002772644501010753]], \"type\": \"heatmap\"}], \"layout\": {\"height\": 500, \"margin\": {\"t\": 60}, \"width\": 500, \"xaxis\": {\"constrain\": \"domain\", \"scaleanchor\": \"y\"}, \"yaxis\": {\"autorange\": \"reversed\", \"constrain\": \"domain\"}, \"coloraxis\": {\"colorscale\": [[0.0, \"rgb(243, 231, 155)\"], [0.16666666666666666, \"rgb(250, 196, 132)\"], [0.3333333333333333, \"rgb(248, 160, 126)\"], [0.5, \"rgb(235, 127, 134)\"], [0.6666666666666666, \"rgb(206, 102, 147)\"], [0.8333333333333334, \"rgb(160, 89, 160)\"], [1.0, \"rgb(92, 83, 165)\"]]}}, \"name\": \"33\"}, {\"data\": [{\"coloraxis\": \"coloraxis\", \"name\": \"34\", \"z\": [[0.003390056380122851, 0.011780181747331425, 0.015125308752789035, 0.006782282910851145, 0.01721954878147103, 0.013095750880118343, 0.007284767518371072, 0.0039976546212309285], [0.003583442344642759, 0.01483791443608858, 0.02882366362634587, 0.013238802124460962, 0.01592223688130371, 0.029377872854597992, 0.011697227942934235, 0.004932562414394355], [0.002540399774958119, 0.015447522636891179, 0.013725574923312509, 0.010728932196440165, 0.013680911783776468, 0.015608627883681734, 0.013038953780444212, 0.0032758646984220093], [0.016296075565446322, 0.01275439599950226, 0.00863969999040209, 0.008775502649336988, 0.006505679095906776, 0.015733981868192512, 0.012782378275901871, 0.005380829166339198], [0.013621815170182459, 0.03131401162553042, 0.015117437677100358, 0.007493594858316914, 0.009915194677205433, 0.017189535633027477, 0.03579619458291191, 0.012278436554210572], [0.015458585871139968, 0.04123785365261337, 0.04439378572878549, 0.012451264903375331, 0.010666238792673264, 0.03505340708788644, 0.0384399141038434, 0.012882264672075866], [0.01351927021810296, 0.016465234534294236, 0.0324008557960481, 0.039816868961371585, 0.04350302964264361, 0.039447952063568756, 0.018388878648096345, 0.006921314040241492], [0.0021709259469604586, 0.01109038172386953, 0.012669454470408934, 0.007271226440126053, 0.007191836930285846, 0.008507017736353317, 0.008440474184651867, 0.002881138566088835]], \"type\": \"heatmap\"}], \"layout\": {\"height\": 500, \"margin\": {\"t\": 60}, \"width\": 500, \"xaxis\": {\"constrain\": \"domain\", \"scaleanchor\": \"y\"}, \"yaxis\": {\"autorange\": \"reversed\", \"constrain\": \"domain\"}, \"coloraxis\": {\"colorscale\": [[0.0, \"rgb(243, 231, 155)\"], [0.16666666666666666, \"rgb(250, 196, 132)\"], [0.3333333333333333, \"rgb(248, 160, 126)\"], [0.5, \"rgb(235, 127, 134)\"], [0.6666666666666666, \"rgb(206, 102, 147)\"], [0.8333333333333334, \"rgb(160, 89, 160)\"], [1.0, \"rgb(92, 83, 165)\"]]}}, \"name\": \"34\"}, {\"data\": [{\"coloraxis\": \"coloraxis\", \"name\": \"35\", \"z\": [[0.0032765774022689874, 0.010530877018178356, 0.015057068599140185, 0.006755909530703256, 0.017445209774047517, 0.013471941637144845, 0.007031195707411532, 0.003808582452789888], [0.003686227702495003, 0.01493443739715696, 0.030009164655899548, 0.013584974867440735, 0.01487063240548948, 0.02922981787756161, 0.011692341012890671, 0.004814924367856101], [0.002783406996473377, 0.0159992178019223, 0.01557111574480576, 0.010314581851651393, 0.013628660187739896, 0.016510135526954527, 0.012200749988271543, 0.003269043956789571], [0.015831837065246785, 0.012333303686491548, 0.009345481895654647, 0.009143867081933288, 0.00647940159574392, 0.015481525747065348, 0.012412345160878947, 0.005184280997925165], [0.013471705222906019, 0.031163504091085124, 0.014749009660872338, 0.007419476323179789, 0.009602265003572218, 0.017451680692197803, 0.0358916411845622, 0.012096353819004488], [0.015399518146523372, 0.04239639766707253, 0.04599327638082916, 0.012994241366981985, 0.010728091380751899, 0.03558992292646586, 0.038491795214943315, 0.01373156859225585], [0.013249823265589909, 0.015798049577336368, 0.03232291288370436, 0.038210386374313905, 0.04469494865627096, 0.03725237501170838, 0.018275995676647724, 0.006380673576219676], [0.002154875271435592, 0.010585135315997246, 0.012365806302808724, 0.007420078609265748, 0.006981254057207973, 0.00869512441529046, 0.008855906190038003, 0.0028973694489376777]], \"type\": \"heatmap\"}], \"layout\": {\"height\": 500, \"margin\": {\"t\": 60}, \"width\": 500, \"xaxis\": {\"constrain\": \"domain\", \"scaleanchor\": \"y\"}, \"yaxis\": {\"autorange\": \"reversed\", \"constrain\": \"domain\"}, \"coloraxis\": {\"colorscale\": [[0.0, \"rgb(243, 231, 155)\"], [0.16666666666666666, \"rgb(250, 196, 132)\"], [0.3333333333333333, \"rgb(248, 160, 126)\"], [0.5, \"rgb(235, 127, 134)\"], [0.6666666666666666, \"rgb(206, 102, 147)\"], [0.8333333333333334, \"rgb(160, 89, 160)\"], [1.0, \"rgb(92, 83, 165)\"]]}}, \"name\": \"35\"}, {\"data\": [{\"coloraxis\": \"coloraxis\", \"name\": \"36\", \"z\": [[0.0032246251537875687, 0.009247717345643707, 0.014799351495925551, 0.006726365471764302, 0.017496603708827354, 0.013951869318873364, 0.006720719294090712, 0.0035873240957043414], [0.0039207515184312295, 0.014828165886017855, 0.031763817932344104, 0.013930322728879665, 0.013954327295080015, 0.029466238880265443, 0.011527767392932094, 0.004634948548807945], [0.003079472930578224, 0.016554599516545393, 0.017717996244278084, 0.00997036679215494, 0.01351704498883694, 0.017310778099647366, 0.011475784464870131, 0.0031898729103910506], [0.01549502349228157, 0.011921313939685119, 0.009973912284182483, 0.009515849066500118, 0.006509799082718946, 0.015290501477326753, 0.01212540182909205, 0.00509895055073643], [0.01323757218769104, 0.031024488772772633, 0.014481169186677896, 0.007177345732577712, 0.009355794639941104, 0.017846705603781963, 0.03551508861695825, 0.011958279178482354], [0.015425860201201439, 0.04370954403579971, 0.04667765752236883, 0.013377368261395399, 0.010948619862040798, 0.036455737124708884, 0.03891630055683437, 0.014610130466413592], [0.01272002191486524, 0.015079484041181625, 0.032586988324015784, 0.03593345952273606, 0.04542427869308427, 0.03501542904888805, 0.018195028543376793, 0.005771073637954308], [0.0022092847125332873, 0.010305579365418413, 0.012113134333529807, 0.007580623467851355, 0.006823042491981505, 0.00886608840340099, 0.009268114913204608, 0.002863122899130226]], \"type\": \"heatmap\"}], \"layout\": {\"height\": 500, \"margin\": {\"t\": 60}, \"width\": 500, \"xaxis\": {\"constrain\": \"domain\", \"scaleanchor\": \"y\"}, \"yaxis\": {\"autorange\": \"reversed\", \"constrain\": \"domain\"}, \"coloraxis\": {\"colorscale\": [[0.0, \"rgb(243, 231, 155)\"], [0.16666666666666666, \"rgb(250, 196, 132)\"], [0.3333333333333333, \"rgb(248, 160, 126)\"], [0.5, \"rgb(235, 127, 134)\"], [0.6666666666666666, \"rgb(206, 102, 147)\"], [0.8333333333333334, \"rgb(160, 89, 160)\"], [1.0, \"rgb(92, 83, 165)\"]]}}, \"name\": \"36\"}, {\"data\": [{\"coloraxis\": \"coloraxis\", \"name\": \"37\", \"z\": [[0.003167347752164833, 0.00810469927248681, 0.014457949975827644, 0.0066333931837514815, 0.017444011217998844, 0.014453881624388674, 0.0064001384722039275, 0.003406586087410199], [0.00420383643027875, 0.014572468379479581, 0.03375682654403192, 0.014275190256721165, 0.013167846965902506, 0.029635257989571586, 0.011311211292654662, 0.004458869027352088], [0.003370735362566235, 0.017056545437526306, 0.01999394863211773, 0.00962535228450206, 0.013424156529519914, 0.01816876018727489, 0.010849636502563398, 0.0031091355487384955], [0.015194039641188258, 0.011472061652524831, 0.010521975600007187, 0.009839539173659876, 0.0065916694186063905, 0.015154951417125483, 0.011805129309114823, 0.0050557508041567415], [0.012974561622676215, 0.031093889717967126, 0.014309570890150636, 0.006910014115549888, 0.009067829034538307, 0.01829233790823412, 0.03495802636161186, 0.011873813700601175], [0.015414602500845262, 0.044726571493253896, 0.046967946442559326, 0.013762925994206763, 0.011231168144312444, 0.03731583839877113, 0.03941268792735113, 0.015380786482405776], [0.01210162705305954, 0.014288554793202667, 0.03297153856657816, 0.03348353426189302, 0.046095813456194866, 0.03307049764315655, 0.018066788127935395, 0.005190560294337905], [0.0022767478412731405, 0.010065591997314615, 0.011968808609594608, 0.007758054941382334, 0.006700856988314947, 0.009049067048267488, 0.009710090260134847, 0.0028263954089070517]], \"type\": \"heatmap\"}], \"layout\": {\"height\": 500, \"margin\": {\"t\": 60}, \"width\": 500, \"xaxis\": {\"constrain\": \"domain\", \"scaleanchor\": \"y\"}, \"yaxis\": {\"autorange\": \"reversed\", \"constrain\": \"domain\"}, \"coloraxis\": {\"colorscale\": [[0.0, \"rgb(243, 231, 155)\"], [0.16666666666666666, \"rgb(250, 196, 132)\"], [0.3333333333333333, \"rgb(248, 160, 126)\"], [0.5, \"rgb(235, 127, 134)\"], [0.6666666666666666, \"rgb(206, 102, 147)\"], [0.8333333333333334, \"rgb(160, 89, 160)\"], [1.0, \"rgb(92, 83, 165)\"]]}}, \"name\": \"37\"}, {\"data\": [{\"coloraxis\": \"coloraxis\", \"name\": \"38\", \"z\": [[0.003067279121762162, 0.007167283558900997, 0.014107034294146443, 0.006466895513920601, 0.017316269483601158, 0.01491790823894051, 0.0061128498395417626, 0.0032914952142835342], [0.004461443927484583, 0.01423407813964317, 0.03562222449803718, 0.014609656410100829, 0.012482221625127046, 0.029428020381657455, 0.011110294099843316, 0.004317218177435062], [0.003605225676046399, 0.01747571170421842, 0.022244448370216215, 0.009255870822343975, 0.013394912553128337, 0.019199859621675506, 0.010308393738619163, 0.003060799104891405], [0.014859580714452952, 0.010985339032165985, 0.011005654017360976, 0.010100150999189492, 0.006725214303231208, 0.015079795225474417, 0.01141641156161466, 0.005023218614158725], [0.0127274957312115, 0.03139253524287218, 0.014173588527313158, 0.0067152941811092475, 0.00868685095829976, 0.01870358711829922, 0.034352836724657304, 0.011850607641055043], [0.01528295387561043, 0.045258798634463776, 0.04727914947818049, 0.014271171126861722, 0.01152115787988719, 0.038009956840714065, 0.03980959319757718, 0.015971763705431984], [0.011512833366701919, 0.01342287140397814, 0.033334372962132236, 0.031214050003108843, 0.04702346772196661, 0.03161399508400549, 0.017823891245704524, 0.004706133621397325], [0.002317404667244403, 0.009761570324643812, 0.011951524188827983, 0.007961912821022954, 0.0066197832209127895, 0.009255356094402374, 0.010210279078296346, 0.002810454748895677]], \"type\": \"heatmap\"}], \"layout\": {\"height\": 500, \"margin\": {\"t\": 60}, \"width\": 500, \"xaxis\": {\"constrain\": \"domain\", \"scaleanchor\": \"y\"}, \"yaxis\": {\"autorange\": \"reversed\", \"constrain\": \"domain\"}, \"coloraxis\": {\"colorscale\": [[0.0, \"rgb(243, 231, 155)\"], [0.16666666666666666, \"rgb(250, 196, 132)\"], [0.3333333333333333, \"rgb(248, 160, 126)\"], [0.5, \"rgb(235, 127, 134)\"], [0.6666666666666666, \"rgb(206, 102, 147)\"], [0.8333333333333334, \"rgb(160, 89, 160)\"], [1.0, \"rgb(92, 83, 165)\"]]}}, \"name\": \"38\"}, {\"data\": [{\"coloraxis\": \"coloraxis\", \"name\": \"39\", \"z\": [[0.0029072532978197062, 0.006454192000956862, 0.013766037493023082, 0.00620782376339087, 0.017165360350763607, 0.015224244819156253, 0.005874101209321973, 0.003232248196370702], [0.004620092428736303, 0.013889980305908815, 0.03708938197735793, 0.014902932534691046, 0.011929637356434042, 0.028898627888116167, 0.010988265600419446, 0.004222556390116629], [0.003746472667968206, 0.0177598642323433, 0.024278593887870584, 0.008883115553760567, 0.013468663583331758, 0.020425348963389267, 0.009808833018488845, 0.0030588404651009904], [0.014469883595107723, 0.010535547770115426, 0.011398430727383366, 0.010277028992485114, 0.006865962910994186, 0.015027615946725352, 0.010960860868232343, 0.004956716626643418], [0.012482396857569845, 0.03200013210243723, 0.01403674080445545, 0.006600260809915624, 0.008212675055647543, 0.01904897170319135, 0.0339070560318371, 0.01190984362509281], [0.015053752591202636, 0.045392122301003104, 0.04772004054246821, 0.014931320187542212, 0.011750611978579894, 0.0383779577658582, 0.039850695726359076, 0.01638195401767895], [0.01104560373275908, 0.012568269115551775, 0.0336010393690617, 0.029441154480581332, 0.04841530279025368, 0.03066597931926189, 0.017513025181631184, 0.004338843551821191], [0.0023179703052197925, 0.009359125491666741, 0.012018636723523022, 0.008174863660290587, 0.006571911151898698, 0.00944021652521663, 0.010739712788119263, 0.0028372982897792716]], \"type\": \"heatmap\"}], \"layout\": {\"height\": 500, \"margin\": {\"t\": 60}, \"width\": 500, \"xaxis\": {\"constrain\": \"domain\", \"scaleanchor\": \"y\"}, \"yaxis\": {\"autorange\": \"reversed\", \"constrain\": \"domain\"}, \"coloraxis\": {\"colorscale\": [[0.0, \"rgb(243, 231, 155)\"], [0.16666666666666666, \"rgb(250, 196, 132)\"], [0.3333333333333333, \"rgb(248, 160, 126)\"], [0.5, \"rgb(235, 127, 134)\"], [0.6666666666666666, \"rgb(206, 102, 147)\"], [0.8333333333333334, \"rgb(160, 89, 160)\"], [1.0, \"rgb(92, 83, 165)\"]]}}, \"name\": \"39\"}, {\"data\": [{\"coloraxis\": \"coloraxis\", \"name\": \"40\", \"z\": [[0.0026957176868838226, 0.005948190118723045, 0.013494110509949385, 0.005853730968883996, 0.017037717333348787, 0.015290270601818725, 0.005712241024670702, 0.003232032449795909], [0.00463436569421026, 0.013604791481632074, 0.03788918156301486, 0.015096100898977277, 0.011517003463227976, 0.028132695684392757, 0.010975214118962006, 0.00421279356090801], [0.003777864721579728, 0.01789775400405255, 0.025978399750910736, 0.008510665216584733, 0.01366149820888548, 0.02192600519353621, 0.009327771201575049, 0.003123444441777569], [0.014004776322712022, 0.01016712124491789, 0.011722893376759374, 0.010389558755420065, 0.006975668508473721, 0.014989283651791923, 0.010476595899862912, 0.004812837700163116], [0.012245008752078531, 0.032946881318765574, 0.013848962362784881, 0.006568376487169865, 0.0076301886644333785, 0.019305737572056628, 0.033848480445530044, 0.012033335854760154], [0.014738056079525766, 0.04514371269884592, 0.04842911097555465, 0.01581332685922235, 0.011886423351580388, 0.03827214889282066, 0.039327765338496565, 0.016616178882152107], [0.010756633304297197, 0.011805042220577195, 0.033551469991768355, 0.028315922601660534, 0.05031008949950957, 0.03022850910400624, 0.017200523242185777, 0.004104140494581621], [0.002274925239271663, 0.008821122873390671, 0.012138087098963638, 0.008397373860704379, 0.006568077613293233, 0.009585719930809963, 0.011285543582848397, 0.0029348294479504796]], \"type\": \"heatmap\"}], \"layout\": {\"height\": 500, \"margin\": {\"t\": 60}, \"width\": 500, \"xaxis\": {\"constrain\": \"domain\", \"scaleanchor\": \"y\"}, \"yaxis\": {\"autorange\": \"reversed\", \"constrain\": \"domain\"}, \"coloraxis\": {\"colorscale\": [[0.0, \"rgb(243, 231, 155)\"], [0.16666666666666666, \"rgb(250, 196, 132)\"], [0.3333333333333333, \"rgb(248, 160, 126)\"], [0.5, \"rgb(235, 127, 134)\"], [0.6666666666666666, \"rgb(206, 102, 147)\"], [0.8333333333333334, \"rgb(160, 89, 160)\"], [1.0, \"rgb(92, 83, 165)\"]]}}, \"name\": \"40\"}, {\"data\": [{\"coloraxis\": \"coloraxis\", \"name\": \"41\", \"z\": [[0.002467772219318748, 0.005608674183322609, 0.013320587856561277, 0.005455915748724498, 0.01689253725369214, 0.015136671479634038, 0.005654913650152902, 0.00327712146326574], [0.004513320697926064, 0.013408387804337769, 0.037937012894215076, 0.015153456628467425, 0.011212998030420994, 0.027223264343334424, 0.011031524522059116, 0.0042854465631908326], [0.0037084595799553644, 0.01788279343603545, 0.027303742227685876, 0.008174620963589828, 0.013935913671227127, 0.023719973478287512, 0.008902607662683028, 0.003247748992745131], [0.013492777339152847, 0.009892611289748552, 0.012004714515478018, 0.01047180966772463, 0.007055367958525323, 0.014979898285668744, 0.010029007328225264, 0.004603459483743916], [0.012026142367538928, 0.03404347340022179, 0.013558970116956703, 0.006608896274503787, 0.0069679487443305346, 0.01941920152928298, 0.03418080490582982, 0.012175680698886424], [0.014314965396397568, 0.04460054844343717, 0.049397290131278485, 0.016931407492108023, 0.012007468878314165, 0.03773010493757572, 0.03841421680797531, 0.016668717686009367], [0.010596576691935934, 0.011170093263839142, 0.033135025570105725, 0.027839934059179873, 0.05250598339750582, 0.030302653607404615, 0.016882555593638705, 0.0039994611006467975], [0.002201291439113547, 0.00818483866997855, 0.012268871832625223, 0.008622288680815214, 0.006637878420914648, 0.009707344144178795, 0.011823171657789065, 0.00309108284058072]], \"type\": \"heatmap\"}], \"layout\": {\"height\": 500, \"margin\": {\"t\": 60}, \"width\": 500, \"xaxis\": {\"constrain\": \"domain\", \"scaleanchor\": \"y\"}, \"yaxis\": {\"autorange\": \"reversed\", \"constrain\": \"domain\"}, \"coloraxis\": {\"colorscale\": [[0.0, \"rgb(243, 231, 155)\"], [0.16666666666666666, \"rgb(250, 196, 132)\"], [0.3333333333333333, \"rgb(248, 160, 126)\"], [0.5, \"rgb(235, 127, 134)\"], [0.6666666666666666, \"rgb(206, 102, 147)\"], [0.8333333333333334, \"rgb(160, 89, 160)\"], [1.0, \"rgb(92, 83, 165)\"]]}}, \"name\": \"41\"}, {\"data\": [{\"coloraxis\": \"coloraxis\", \"name\": \"42\", \"z\": [[0.0022719281077512206, 0.0053705934372091264, 0.01317738256140209, 0.005082470454945958, 0.016648947038391374, 0.014795395541504419, 0.005682756811023093, 0.0033033764738015212], [0.004322395141445589, 0.013284283909611916, 0.03749434230639957, 0.015049592261660256, 0.01103056559785679, 0.026607635121956526, 0.011072155755007775, 0.0043790996949988545], [0.003584299928759837, 0.017725428217247374, 0.028325514698639708, 0.007939214507273773, 0.014221985922360158, 0.025581338038161407, 0.008565774714559573, 0.003371867097091935], [0.013009190964407707, 0.009774371051383748, 0.012176608599795285, 0.01055534144686771, 0.007084522135957954, 0.014984142285248596, 0.009713665702067251, 0.004376490630126876], [0.011782787896191966, 0.035050166604816385, 0.013169442713511238, 0.006610001618756117, 0.006335078174966245, 0.019374503918731228, 0.03471866864650066, 0.012301760609170652], [0.013878129124964111, 0.04423491918458585, 0.050133373066347055, 0.018062169438186056, 0.012209405285929571, 0.03706283036106837, 0.037436682491753755, 0.016610464885535234], [0.010443616945677995, 0.010710920366394532, 0.03256460263013515, 0.027910288958619377, 0.0545339850805262, 0.030768514875593206, 0.016623033320552493, 0.003982148177469523], [0.002138861574688332, 0.007592793668600294, 0.012326414377709238, 0.008813836589416544, 0.00678536077450525, 0.009773502585034668, 0.012247305965526274, 0.0032517539336211336]], \"type\": \"heatmap\"}], \"layout\": {\"height\": 500, \"margin\": {\"t\": 60}, \"width\": 500, \"xaxis\": {\"constrain\": \"domain\", \"scaleanchor\": \"y\"}, \"yaxis\": {\"autorange\": \"reversed\", \"constrain\": \"domain\"}, \"coloraxis\": {\"colorscale\": [[0.0, \"rgb(243, 231, 155)\"], [0.16666666666666666, \"rgb(250, 196, 132)\"], [0.3333333333333333, \"rgb(248, 160, 126)\"], [0.5, \"rgb(235, 127, 134)\"], [0.6666666666666666, \"rgb(206, 102, 147)\"], [0.8333333333333334, \"rgb(160, 89, 160)\"], [1.0, \"rgb(92, 83, 165)\"]]}}, \"name\": \"42\"}, {\"data\": [{\"coloraxis\": \"coloraxis\", \"name\": \"43\", \"z\": [[0.0021548410154177806, 0.005171274617282585, 0.013046212759550322, 0.004826644597867138, 0.01625582933534646, 0.014382349192209962, 0.005797509062310019, 0.0032526471568292805], [0.004138647764279282, 0.01324042912316512, 0.036934758024340875, 0.014823729101272158, 0.010920230816231807, 0.026556031502507942, 0.011034726588487512, 0.00441328598276158], [0.003474862117943269, 0.017462437481071666, 0.02923233767000947, 0.007870434726638663, 0.014417809894926716, 0.027181842950871914, 0.008372661747334392, 0.003434871584728509], [0.012643766079563502, 0.009835432426686242, 0.012229577547381333, 0.010687394400129984, 0.007090792362371609, 0.01496330283782954, 0.0095996634901956, 0.004194143452324537], [0.01151302173303818, 0.03552356698035241, 0.012709498659194258, 0.0064845149779517545, 0.0058360445051761555, 0.01910664600551288, 0.03522455818716269, 0.012346693626045156], [0.013480794564010554, 0.044453875380881885, 0.05025447026180097, 0.018995307053198823, 0.012654517079480357, 0.03662128524883981, 0.036877782171906626, 0.016515333642184868], [0.01014210404892556, 0.010450722206733489, 0.032144019971327834, 0.028397301990532815, 0.05571268868883167, 0.0313906033228411, 0.01643568056473806, 0.0040004712210360074], [0.0021230014413900294, 0.007152885974011208, 0.01223047059175156, 0.008960066560792845, 0.007002720561161628, 0.009815724709953262, 0.01246068974387821, 0.003342460915489808]], \"type\": \"heatmap\"}], \"layout\": {\"height\": 500, \"margin\": {\"t\": 60}, \"width\": 500, \"xaxis\": {\"constrain\": \"domain\", \"scaleanchor\": \"y\"}, \"yaxis\": {\"autorange\": \"reversed\", \"constrain\": \"domain\"}, \"coloraxis\": {\"colorscale\": [[0.0, \"rgb(243, 231, 155)\"], [0.16666666666666666, \"rgb(250, 196, 132)\"], [0.3333333333333333, \"rgb(248, 160, 126)\"], [0.5, \"rgb(235, 127, 134)\"], [0.6666666666666666, \"rgb(206, 102, 147)\"], [0.8333333333333334, \"rgb(160, 89, 160)\"], [1.0, \"rgb(92, 83, 165)\"]]}}, \"name\": \"43\"}, {\"data\": [{\"coloraxis\": \"coloraxis\", \"name\": \"44\", \"z\": [[0.002134955908330196, 0.004966818266801987, 0.012895836824359493, 0.004702768242455369, 0.015762323870515373, 0.013949208593825207, 0.005973860297320281, 0.003109033821031373], [0.004010875114464457, 0.013257131209897192, 0.03657663372246866, 0.01450286119194275, 0.010869283757815781, 0.02732556697556967, 0.01092861163515391, 0.004350906612165466], [0.003431528924400036, 0.01714547504029917, 0.030184754657738566, 0.007978161576158245, 0.01444910731132565, 0.028209510973916087, 0.008311291962101003, 0.0034034321209310023], [0.012426503977871229, 0.010090560660484832, 0.012158618598025731, 0.010878762651637265, 0.007080741930826901, 0.014846000397005326, 0.009710737928239647, 0.004073503483915972], [0.011230776895338893, 0.03541897500467815, 0.012264264982632597, 0.006167369126812917, 0.005523671926820105, 0.018652587270835547, 0.03562236565669727, 0.012294753745126726], [0.013235995290479901, 0.04544226873091286, 0.04952811857936402, 0.019604278643474974, 0.01337870413098152, 0.03663578779183602, 0.03678649000352893, 0.016468259440485], [0.009646979173784358, 0.010414651050589446, 0.03203855105568945, 0.029158193220354678, 0.055612313931865796, 0.03188996886275218, 0.01637972717331443, 0.004000986167943816], [0.0021753762355230344, 0.006891895390790675, 0.011961318675150392, 0.009074016950627706, 0.0072496091165667334, 0.009819301858419324, 0.012395142569943484, 0.0033419331076843697]], \"type\": \"heatmap\"}], \"layout\": {\"height\": 500, \"margin\": {\"t\": 60}, \"width\": 500, \"xaxis\": {\"constrain\": \"domain\", \"scaleanchor\": \"y\"}, \"yaxis\": {\"autorange\": \"reversed\", \"constrain\": \"domain\"}, \"coloraxis\": {\"colorscale\": [[0.0, \"rgb(243, 231, 155)\"], [0.16666666666666666, \"rgb(250, 196, 132)\"], [0.3333333333333333, \"rgb(248, 160, 126)\"], [0.5, \"rgb(235, 127, 134)\"], [0.6666666666666666, \"rgb(206, 102, 147)\"], [0.8333333333333334, \"rgb(160, 89, 160)\"], [1.0, \"rgb(92, 83, 165)\"]]}}, \"name\": \"44\"}, {\"data\": [{\"coloraxis\": \"coloraxis\", \"name\": \"45\", \"z\": [[0.002199740936310682, 0.004766005350990272, 0.012716149437732239, 0.004690659954212961, 0.015266482582962006, 0.013502103984405418, 0.006175532832063552, 0.002893421819177614], [0.003919520701905713, 0.013299378069040125, 0.03647048835614353, 0.014105119788689993, 0.010866414990222952, 0.028968854699833485, 0.010821350454392403, 0.004178163203778733], [0.0034389330800678876, 0.016829316475597586, 0.031051663543666976, 0.008217898942806343, 0.014244493285265173, 0.028318683175548774, 0.00836005491177032, 0.0032529212234986772], [0.012312795348471336, 0.010524691597798758, 0.011937152699541468, 0.011055060973681575, 0.007045691981972565, 0.014564548684881658, 0.010029730832099544, 0.00401758781995452], [0.01101406731998151, 0.03491617212070693, 0.011913695463124829, 0.0056906726720216145, 0.005429499558823228, 0.01803209347225193, 0.03588855727909036, 0.012166655858060123], [0.013228453416061246, 0.04714178838471044, 0.04823827077418096, 0.01986586508058594, 0.014260705049064343, 0.03734447616042252, 0.03704391690908154, 0.016468851025786057], [0.009050070046459358, 0.010600935853294417, 0.032382633899065746, 0.03019146966545258, 0.05428555850385011, 0.03218703336129507, 0.016440103815840816, 0.003970713124040295], [0.002273498583348065, 0.006786048824158877, 0.011579175486150546, 0.009157881899061028, 0.007442724809153912, 0.009708900134417204, 0.012007113004819929, 0.0032517867071528398]], \"type\": \"heatmap\"}], \"layout\": {\"height\": 500, \"margin\": {\"t\": 60}, \"width\": 500, \"xaxis\": {\"constrain\": \"domain\", \"scaleanchor\": \"y\"}, \"yaxis\": {\"autorange\": \"reversed\", \"constrain\": \"domain\"}, \"coloraxis\": {\"colorscale\": [[0.0, \"rgb(243, 231, 155)\"], [0.16666666666666666, \"rgb(250, 196, 132)\"], [0.3333333333333333, \"rgb(248, 160, 126)\"], [0.5, \"rgb(235, 127, 134)\"], [0.6666666666666666, \"rgb(206, 102, 147)\"], [0.8333333333333334, \"rgb(160, 89, 160)\"], [1.0, \"rgb(92, 83, 165)\"]]}}, \"name\": \"45\"}, {\"data\": [{\"coloraxis\": \"coloraxis\", \"name\": \"46\", \"z\": [[0.002305140642292918, 0.0046433995968901435, 0.012554954903385457, 0.0047221338253286985, 0.014866293986048823, 0.013050469317802163, 0.00637668010993838, 0.0026726656324776925], [0.003801084716000565, 0.013346825609388385, 0.03649407798647356, 0.013672481107796416, 0.010933807343226744, 0.031135733802261555, 0.010773391938203357, 0.003938999103166195], [0.003425345844627306, 0.016479558624205668, 0.03136063811374887, 0.008533017605630088, 0.013848894776699252, 0.027576019050020373, 0.008524990154344233, 0.003033376951265773], [0.012277247171667947, 0.011034974226272554, 0.011559599219674855, 0.011072710071103392, 0.006973058804863843, 0.014154789451385688, 0.010451267561247745, 0.003986417320459231], [0.010926678440060452, 0.03437924778697895, 0.011714071251425267, 0.0051893992985420235, 0.0055029452514072435, 0.017303695254237594, 0.03621875272871605, 0.01199120063240516], [0.013390623207449326, 0.04896612655289753, 0.046988453104145254, 0.0198894234371522, 0.015124002457301949, 0.03853447842165295, 0.03753049252445544, 0.01636596269407565], [0.008497135391784282, 0.010981859218831944, 0.03311071406442429, 0.03160736843447955, 0.052315619538494236, 0.032513966506367814, 0.016513168767091226, 0.003932416049253954], [0.002361216853360302, 0.0067582118137561415, 0.011192237501883685, 0.009159093650999015, 0.007526402121822421, 0.009472591421876779, 0.011358771614074201, 0.0031036294406985377]], \"type\": \"heatmap\"}], \"layout\": {\"height\": 500, \"margin\": {\"t\": 60}, \"width\": 500, \"xaxis\": {\"constrain\": \"domain\", \"scaleanchor\": \"y\"}, \"yaxis\": {\"autorange\": \"reversed\", \"constrain\": \"domain\"}, \"coloraxis\": {\"colorscale\": [[0.0, \"rgb(243, 231, 155)\"], [0.16666666666666666, \"rgb(250, 196, 132)\"], [0.3333333333333333, \"rgb(248, 160, 126)\"], [0.5, \"rgb(235, 127, 134)\"], [0.6666666666666666, \"rgb(206, 102, 147)\"], [0.8333333333333334, \"rgb(160, 89, 160)\"], [1.0, \"rgb(92, 83, 165)\"]]}}, \"name\": \"46\"}, {\"data\": [{\"coloraxis\": \"coloraxis\", \"name\": \"47\", \"z\": [[0.0023962350965367847, 0.004671730793943058, 0.012484435646990637, 0.0047117650835348255, 0.014547046645759058, 0.01259947254086463, 0.0065821612040206905, 0.002515933469776393], [0.0036072055874388892, 0.01335318989681405, 0.036300753769017376, 0.013190335337507532, 0.011133121060894546, 0.03325551340283151, 0.010755644608018538, 0.0037223414780077953], [0.0032970515748972115, 0.016059654549970066, 0.03073704963221462, 0.008850092545458692, 0.013422995976808171, 0.026567229524425282, 0.008834433043243552, 0.0028247279912417145], [0.012283165543410385, 0.011487857561455893, 0.011042877586535117, 0.01086793952600928, 0.006858821112770665, 0.013798512826527035, 0.010892901880509828, 0.003933213036499051], [0.010976298688177887, 0.034172487869980214, 0.01162192516812558, 0.004795256532081391, 0.005603852072455206, 0.016555866115599234, 0.03679372133773935, 0.011793379446126644], [0.013540929358452474, 0.050154621389261515, 0.046245555502461934, 0.019841112877999948, 0.015852841006414074, 0.03978717567543989, 0.038155058924532054, 0.015969290371884486], [0.008087863893149716, 0.011473191486486681, 0.03382317950021804, 0.03343498964092146, 0.0504495560707771, 0.033468160328988625, 0.016494402417827635, 0.003945626016328213], [0.0023804309855886166, 0.0067150844566005305, 0.010945728481882154, 0.009044867264611296, 0.007556646336978345, 0.009169140141138113, 0.01062762202437577, 0.00293872908346204]], \"type\": \"heatmap\"}], \"layout\": {\"height\": 500, \"margin\": {\"t\": 60}, \"width\": 500, \"xaxis\": {\"constrain\": \"domain\", \"scaleanchor\": \"y\"}, \"yaxis\": {\"autorange\": \"reversed\", \"constrain\": \"domain\"}, \"coloraxis\": {\"colorscale\": [[0.0, \"rgb(243, 231, 155)\"], [0.16666666666666666, \"rgb(250, 196, 132)\"], [0.3333333333333333, \"rgb(248, 160, 126)\"], [0.5, \"rgb(235, 127, 134)\"], [0.6666666666666666, \"rgb(206, 102, 147)\"], [0.8333333333333334, \"rgb(160, 89, 160)\"], [1.0, \"rgb(92, 83, 165)\"]]}}, \"name\": \"47\"}, {\"data\": [{\"coloraxis\": \"coloraxis\", \"name\": \"48\", \"z\": [[0.002456673756553911, 0.004833407777437862, 0.012549473919747717, 0.004603973033049509, 0.014260258443801977, 0.01217878408461717, 0.006783000627267943, 0.002456005704823476], [0.00337517418681505, 0.013245308981087464, 0.03583535665034077, 0.012607148228879077, 0.01150239847880137, 0.03508829951831957, 0.010666619727313318, 0.003604626885179412], [0.003046537122429719, 0.015609091943126567, 0.029396070569653616, 0.009080761930643014, 0.013075593545135607, 0.025870351321077525, 0.009281169801399427, 0.002674621891314614], [0.012318912646592881, 0.011764431338425535, 0.010447245982052935, 0.010512027836779701, 0.0067028591688258745, 0.013658488538685544, 0.011337532242100573, 0.003822357940548617], [0.011115531968542897, 0.03453961751058515, 0.011579370655908906, 0.004518875873888339, 0.005596674767490206, 0.015911505689751176, 0.037750968084452975, 0.011550791279083313], [0.013573248431315861, 0.0502705855830378, 0.046029818109594015, 0.01981441961859793, 0.01643759904816819, 0.0408141763090127, 0.03887310185117399, 0.015235433065692154], [0.007797450835838714, 0.011993507234177322, 0.03400318864742101, 0.03532768423080438, 0.04889693186277808, 0.0353747102109562, 0.01641610450296186, 0.004013702004754443], [0.002323271762129566, 0.0065995851055689544, 0.010917723604119375, 0.008837992006478926, 0.0076108603746835694, 0.008877967311417333, 0.009966296332095958, 0.002786742304689976]], \"type\": \"heatmap\"}], \"layout\": {\"height\": 500, \"margin\": {\"t\": 60}, \"width\": 500, \"xaxis\": {\"constrain\": \"domain\", \"scaleanchor\": \"y\"}, \"yaxis\": {\"autorange\": \"reversed\", \"constrain\": \"domain\"}, \"coloraxis\": {\"colorscale\": [[0.0, \"rgb(243, 231, 155)\"], [0.16666666666666666, \"rgb(250, 196, 132)\"], [0.3333333333333333, \"rgb(248, 160, 126)\"], [0.5, \"rgb(235, 127, 134)\"], [0.6666666666666666, \"rgb(206, 102, 147)\"], [0.8333333333333334, \"rgb(160, 89, 160)\"], [1.0, \"rgb(92, 83, 165)\"]]}}, \"name\": \"48\"}, {\"data\": [{\"coloraxis\": \"coloraxis\", \"name\": \"49\", \"z\": [[0.0024866551717067655, 0.005075945857285411, 0.0127204365698733, 0.004406983941934373, 0.0139579105927046, 0.011819338540203242, 0.006959568949215153, 0.0024801131035204786], [0.0031516528889774377, 0.01300620179198719, 0.03523702150040672, 0.011950859420728245, 0.01201193992938731, 0.03657086275517335, 0.010462344091332468, 0.0035881164105510586], [0.002729357632271203, 0.015153588877033733, 0.02772378463031845, 0.009205883039245395, 0.012829364880458093, 0.02565990279670164, 0.00982192251161725, 0.0025847628665364936], [0.012385609440716028, 0.011834219171627141, 0.009832582274827766, 0.010093080483757544, 0.006529553399671626, 0.013763777666558502, 0.011759528220475157, 0.0036650037149466076], [0.011277065928012413, 0.0354565368981965, 0.011556616066444253, 0.004326751415320547, 0.005445840420599493, 0.015422837836334028, 0.03901165991865038, 0.011279821435004483], [0.01346521647932321, 0.04939719772781215, 0.04612353167734119, 0.01981646210547418, 0.016931585956960295, 0.04148945931094402, 0.03969834750489316, 0.014271160918882406], [0.007563315710874751, 0.012476063178622921, 0.033595653937518205, 0.036976460934586626, 0.04764309913312414, 0.038154951538479205, 0.01630573028766774, 0.0041081835067189165], [0.002218942682109166, 0.0064199966520863076, 0.011083486333326592, 0.008576060761045414, 0.007721219999769295, 0.008643416691450977, 0.00942985436088734, 0.002655599569788704]], \"type\": \"heatmap\"}], \"layout\": {\"height\": 500, \"margin\": {\"t\": 60}, \"width\": 500, \"xaxis\": {\"constrain\": \"domain\", \"scaleanchor\": \"y\"}, \"yaxis\": {\"autorange\": \"reversed\", \"constrain\": \"domain\"}, \"coloraxis\": {\"colorscale\": [[0.0, \"rgb(243, 231, 155)\"], [0.16666666666666666, \"rgb(250, 196, 132)\"], [0.3333333333333333, \"rgb(248, 160, 126)\"], [0.5, \"rgb(235, 127, 134)\"], [0.6666666666666666, \"rgb(206, 102, 147)\"], [0.8333333333333334, \"rgb(160, 89, 160)\"], [1.0, \"rgb(92, 83, 165)\"]]}}, \"name\": \"49\"}, {\"data\": [{\"coloraxis\": \"coloraxis\", \"name\": \"50\", \"z\": [[0.002493912938903402, 0.0053329355520027885, 0.012903554881156588, 0.0041559385617377384, 0.013600881221805687, 0.011560596518877857, 0.0070808525474438805, 0.00255497400424724], [0.002977618415633466, 0.0126519218516694, 0.034809596702907106, 0.011318923506192237, 0.012603037598560305, 0.0377245068296502, 0.010141315486112936, 0.0036281234060837795], [0.0024169010160335633, 0.014680058825371418, 0.02606082386928302, 0.009274559528297595, 0.012674481432174789, 0.025895242266143335, 0.010406946803129511, 0.002539882884624556], [0.012510836932150948, 0.011720649785298033, 0.00923920867648934, 0.009667441085346146, 0.00637935233894754, 0.014060932633911928, 0.01210512694271557, 0.0034964534282031713], [0.011375753189266636, 0.03677889343436492, 0.011568496911031003, 0.004176213745701588, 0.005184770834375022, 0.015113482561708847, 0.040337121433627485, 0.011024009960032754], [0.013232696530867004, 0.04787732074276594, 0.046154906548881616, 0.019791155309056407, 0.017451430372369087, 0.041737761286353585, 0.040713760105534125, 0.013230007478452419], [0.007310332820470493, 0.012862265446502473, 0.032922937276321895, 0.038124217894357, 0.04663726571700819, 0.04144824845428823, 0.016158912180567767, 0.004175490448847049], [0.002115073392837372, 0.0062270377512754225, 0.01136761967983892, 0.00828297396298921, 0.00789098301347357, 0.008495084749251366, 0.00902734809800243, 0.0025388401984744926]], \"type\": \"heatmap\"}], \"layout\": {\"height\": 500, \"margin\": {\"t\": 60}, \"width\": 500, \"xaxis\": {\"constrain\": \"domain\", \"scaleanchor\": \"y\"}, \"yaxis\": {\"autorange\": \"reversed\", \"constrain\": \"domain\"}, \"coloraxis\": {\"colorscale\": [[0.0, \"rgb(243, 231, 155)\"], [0.16666666666666666, \"rgb(250, 196, 132)\"], [0.3333333333333333, \"rgb(248, 160, 126)\"], [0.5, \"rgb(235, 127, 134)\"], [0.6666666666666666, \"rgb(206, 102, 147)\"], [0.8333333333333334, \"rgb(160, 89, 160)\"], [1.0, \"rgb(92, 83, 165)\"]]}}, \"name\": \"50\"}, {\"data\": [{\"coloraxis\": \"coloraxis\", \"name\": \"51\", \"z\": [[0.0024998575041762874, 0.00551597502184505, 0.013027872667985982, 0.003921252696243192, 0.013171741887859408, 0.011473437110860263, 0.007131813207118219, 0.002633431892071309], [0.002886457385782936, 0.012227889287698326, 0.03484918490930574, 0.010819107467948383, 0.013143859990323383, 0.03856098866443863, 0.009718091201104112, 0.003657414505335734], [0.0021668280755260086, 0.014218555161145613, 0.02473664853383155, 0.009343326218506266, 0.012559793072991958, 0.0264204552815867, 0.01100433265168759, 0.0025079906056594474], [0.012715911507808089, 0.011462777588688694, 0.008725461526406289, 0.00930034321690822, 0.006299965207393368, 0.014464633213658096, 0.012349769335057286, 0.0033644160338377593], [0.011368886920733524, 0.038090908185093635, 0.01161775360860888, 0.004040281895293645, 0.004889001077001829, 0.014940892234829735, 0.041358865595727795, 0.010785198921404528], [0.01289466851521561, 0.046212869580805276, 0.04591816372949732, 0.019679440397165678, 0.0181448766956072, 0.04169839718432801, 0.0421667879423832, 0.012264681888940632], [0.0069714407393222854, 0.01308414921169595, 0.032394533397283785, 0.038549128075273546, 0.04574213468596593, 0.044678348682479864, 0.01594691674669301, 0.004164072332322432], [0.0020473182914952375, 0.006083290369150685, 0.011671696987375715, 0.007985174986301476, 0.00809684633414097, 0.008466372228212171, 0.008757170026758791, 0.0024101499021011567]], \"type\": \"heatmap\"}], \"layout\": {\"height\": 500, \"margin\": {\"t\": 60}, \"width\": 500, \"xaxis\": {\"constrain\": \"domain\", \"scaleanchor\": \"y\"}, \"yaxis\": {\"autorange\": \"reversed\", \"constrain\": \"domain\"}, \"coloraxis\": {\"colorscale\": [[0.0, \"rgb(243, 231, 155)\"], [0.16666666666666666, \"rgb(250, 196, 132)\"], [0.3333333333333333, \"rgb(248, 160, 126)\"], [0.5, \"rgb(235, 127, 134)\"], [0.6666666666666666, \"rgb(206, 102, 147)\"], [0.8333333333333334, \"rgb(160, 89, 160)\"], [1.0, \"rgb(92, 83, 165)\"]]}}, \"name\": \"51\"}, {\"data\": [{\"coloraxis\": \"coloraxis\", \"name\": \"52\", \"z\": [[0.002532229625926624, 0.005546779576430489, 0.013018985172797187, 0.0037460314266999873, 0.012704964329434002, 0.011601087872184066, 0.007093254705049334, 0.00267317642418798], [0.0029001955917737896, 0.011772116982263084, 0.03569221900223005, 0.010527092106791723, 0.013528710273052814, 0.03928544257515339, 0.009233087107904991, 0.0036099210592569772], [0.002016076783688201, 0.013794476708448989, 0.023964946227723813, 0.009462243441626127, 0.012428918528554149, 0.027002017949614918, 0.01157695854301171, 0.002461782449255103], [0.013031102676714021, 0.01111645820882527, 0.00832045702735869, 0.009018589955601768, 0.006316444490027238, 0.014848189044329987, 0.012485637577723746, 0.0032919428465521274], [0.01124057661294801, 0.03908993564000307, 0.011744528862333318, 0.003885242351258708, 0.004639425548008169, 0.01487760499965242, 0.04182591560024457, 0.010556738227698806], [0.012527381775244057, 0.044832571007937375, 0.045236902428163354, 0.019426342772337873, 0.019119112011413093, 0.04157841420776733, 0.04419636695106747, 0.011489967976742762], [0.006507179421991032, 0.013128867068732081, 0.0323561562083172, 0.03812285747527017, 0.04481040449039142, 0.0471352219967397, 0.015685564285302312, 0.004020087188343644], [0.002042117447297743, 0.006033399819735489, 0.011896920102327053, 0.007700361171336099, 0.008289573119588294, 0.008559788669855904, 0.008590345324503687, 0.0022525929472544753]], \"type\": \"heatmap\"}], \"layout\": {\"height\": 500, \"margin\": {\"t\": 60}, \"width\": 500, \"xaxis\": {\"constrain\": \"domain\", \"scaleanchor\": \"y\"}, \"yaxis\": {\"autorange\": \"reversed\", \"constrain\": \"domain\"}, \"coloraxis\": {\"colorscale\": [[0.0, \"rgb(243, 231, 155)\"], [0.16666666666666666, \"rgb(250, 196, 132)\"], [0.3333333333333333, \"rgb(248, 160, 126)\"], [0.5, \"rgb(235, 127, 134)\"], [0.6666666666666666, \"rgb(206, 102, 147)\"], [0.8333333333333334, \"rgb(160, 89, 160)\"], [1.0, \"rgb(92, 83, 165)\"]]}}, \"name\": \"52\"}, {\"data\": [{\"coloraxis\": \"coloraxis\", \"name\": \"53\", \"z\": [[0.0025882305984526524, 0.005421245016556118, 0.01288219679874896, 0.0036443159997609606, 0.012233448269250905, 0.011892257450626382, 0.006994552164697511, 0.002662403768435973], [0.0029920144812291835, 0.011337892205589098, 0.03715810517776772, 0.010431602985300829, 0.013690040867262911, 0.03988400394921876, 0.008750584397165405, 0.003480301119164338], [0.0019546929503463048, 0.013444210464030422, 0.023797034784496712, 0.009613159480023628, 0.01227930400036008, 0.027586232827640073, 0.012070285909489832, 0.002399095263937792], [0.013383493693609347, 0.010747776824784266, 0.00804507588106953, 0.00884438221692176, 0.0064190322092622125, 0.01513718717462411, 0.012523314489580172, 0.0032744478381458017], [0.011024880105945824, 0.03960183642775685, 0.01190118722147882, 0.0037250108374264775, 0.004455687577876068, 0.014852318000134937, 0.04167729229761634, 0.010341656408610865], [0.01216119557708458, 0.043947618393845096, 0.04427782859667337, 0.019114939249902697, 0.020334810742732416, 0.04153513545005151, 0.0466240972423395, 0.010942349176212543], [0.005972664620497035, 0.012991914872313052, 0.03278848951045049, 0.03707283400354144, 0.04394147310207578, 0.04857710621750993, 0.015381556380465684, 0.0037801154103603595], [0.0020863697543803943, 0.006051193409030956, 0.012008657338085864, 0.0074650575509691754, 0.008447737612654197, 0.008754749119720443, 0.008520498623972653, 0.0020798179107338935]], \"type\": \"heatmap\"}], \"layout\": {\"height\": 500, \"margin\": {\"t\": 60}, \"width\": 500, \"xaxis\": {\"constrain\": \"domain\", \"scaleanchor\": \"y\"}, \"yaxis\": {\"autorange\": \"reversed\", \"constrain\": \"domain\"}, \"coloraxis\": {\"colorscale\": [[0.0, \"rgb(243, 231, 155)\"], [0.16666666666666666, \"rgb(250, 196, 132)\"], [0.3333333333333333, \"rgb(248, 160, 126)\"], [0.5, \"rgb(235, 127, 134)\"], [0.6666666666666666, \"rgb(206, 102, 147)\"], [0.8333333333333334, \"rgb(160, 89, 160)\"], [1.0, \"rgb(92, 83, 165)\"]]}}, \"name\": \"53\"}, {\"data\": [{\"coloraxis\": \"coloraxis\", \"name\": \"54\", \"z\": [[0.0026380801782479655, 0.005204747422721661, 0.012648035370867039, 0.003597733270102692, 0.011793392009070446, 0.012212513587554003, 0.006889252649938662, 0.0026112549696471403], [0.0030993928616684743, 0.01099006468066153, 0.03879050778890096, 0.010485233615354165, 0.013638952986970857, 0.040246006274491555, 0.008360538673942453, 0.003299261985231027], [0.0019528115528904921, 0.013148797711219518, 0.02410084946558059, 0.009776023948374653, 0.01215049330359407, 0.028188911632222344, 0.01241579167419157, 0.0023373589697019675], [0.013662032068520525, 0.0104360635634286, 0.007891531394423168, 0.008762036023753228, 0.006578154768376391, 0.015270279317772237, 0.012452683770409267, 0.00328873972967668], [0.010765259071500947, 0.039682048660678766, 0.012022462775310192, 0.003585789960143279, 0.004322634691340103, 0.014792593237298025, 0.04109327996368765, 0.010180664111196254], [0.011807438235624513, 0.04358495324854129, 0.043273318213045045, 0.018904248031738808, 0.021659117731655773, 0.041535171072545105, 0.04895895047009715, 0.010605300556604687], [0.005459808097703004, 0.012718095767871111, 0.03357702712709819, 0.03593717219158698, 0.04336821830931503, 0.049125590148965226, 0.015036321062695887, 0.0035217722852821103], [0.0021527166295191753, 0.006073138774236237, 0.012003201680128523, 0.007307285685613612, 0.008572465907086865, 0.009001970289973769, 0.008528873565465823, 0.0019255852269441096]], \"type\": \"heatmap\"}], \"layout\": {\"height\": 500, \"margin\": {\"t\": 60}, \"width\": 500, \"xaxis\": {\"constrain\": \"domain\", \"scaleanchor\": \"y\"}, \"yaxis\": {\"autorange\": \"reversed\", \"constrain\": \"domain\"}, \"coloraxis\": {\"colorscale\": [[0.0, \"rgb(243, 231, 155)\"], [0.16666666666666666, \"rgb(250, 196, 132)\"], [0.3333333333333333, \"rgb(248, 160, 126)\"], [0.5, \"rgb(235, 127, 134)\"], [0.6666666666666666, \"rgb(206, 102, 147)\"], [0.8333333333333334, \"rgb(160, 89, 160)\"], [1.0, \"rgb(92, 83, 165)\"]]}}, \"name\": \"54\"}, {\"data\": [{\"coloraxis\": \"coloraxis\", \"name\": \"55\", \"z\": [[0.002657512326543418, 0.004975736959176504, 0.012329701444806638, 0.0035712323163247708, 0.011457829312943665, 0.012406144541195022, 0.006809749513614696, 0.0025276139670869914], [0.003155891206306691, 0.010790223242821943, 0.040328713909291894, 0.010645831260789001, 0.013457502857517548, 0.040521935373436714, 0.008159781691175453, 0.0030883431552929186], [0.0019896861417325025, 0.012835269343898514, 0.02460938642714092, 0.009979082821059793, 0.01205581899466929, 0.028624616189057345, 0.012551808830347034, 0.002288727670098415], [0.013828813797322629, 0.010265505660506618, 0.007815635199674131, 0.008703099008710403, 0.006749544362448226, 0.015138172339397689, 0.012254626929227252, 0.003299426800062179], [0.010498328628543264, 0.03956636464433889, 0.01212222728698904, 0.00345935835600819, 0.004246402885936849, 0.0146628123418497, 0.04048621656943447, 0.010119000419773575], [0.011528377343176077, 0.043741415031012996, 0.04231238407804422, 0.018898341994664072, 0.02292277266963419, 0.04145372200931941, 0.05061574372278022, 0.010452827205220446], [0.005031002213054754, 0.012445141559275641, 0.03476591083993918, 0.035305920286617075, 0.04315784696306125, 0.048824168086275536, 0.014695059637337157, 0.0032865622213803635], [0.0022249119842993764, 0.006053723492999781, 0.011845695212035235, 0.007218401189066478, 0.008632867442516684, 0.009208668565938005, 0.008528714334395364, 0.0018161471914047008]], \"type\": \"heatmap\"}], \"layout\": {\"height\": 500, \"margin\": {\"t\": 60}, \"width\": 500, \"xaxis\": {\"constrain\": \"domain\", \"scaleanchor\": \"y\"}, \"yaxis\": {\"autorange\": \"reversed\", \"constrain\": \"domain\"}, \"coloraxis\": {\"colorscale\": [[0.0, \"rgb(243, 231, 155)\"], [0.16666666666666666, \"rgb(250, 196, 132)\"], [0.3333333333333333, \"rgb(248, 160, 126)\"], [0.5, \"rgb(235, 127, 134)\"], [0.6666666666666666, \"rgb(206, 102, 147)\"], [0.8333333333333334, \"rgb(160, 89, 160)\"], [1.0, \"rgb(92, 83, 165)\"]]}}, \"name\": \"55\"}, {\"data\": [{\"coloraxis\": \"coloraxis\", \"name\": \"56\", \"z\": [[0.0026221300880976085, 0.004777708427982256, 0.012002454469192025, 0.0035373386321589243, 0.01122863831495831, 0.01233731551375507, 0.006805941228322796, 0.0024248123736335257], [0.003114009488692077, 0.010759355742229805, 0.041172703403594885, 0.010803943962193462, 0.01321466704814485, 0.04073816797277378, 0.008171961663852296, 0.0029029966323700493], [0.0020287601470383083, 0.012524482737533362, 0.02519635103835834, 0.01017661923093334, 0.012022473907388996, 0.028973282101354504, 0.012446582876466642, 0.0022585268558272392], [0.013778631693550389, 0.010289404393069784, 0.007799191373317015, 0.008676002438363061, 0.006880762916581998, 0.014783905086296848, 0.011997607794119871, 0.0032858070987588335], [0.01026395048839169, 0.039393455631626266, 0.012106095777714739, 0.0033519079946682834, 0.0041855789545738814, 0.014426826838643773, 0.040116353319835006, 0.010168357703693277], [0.01133712687484395, 0.04438896823701823, 0.04160938375471411, 0.019217309719045315, 0.0239339525003235, 0.04133027338380841, 0.05110711056457414, 0.01045645856961505], [0.004742080901092787, 0.012229012191608784, 0.03604392986858326, 0.035528891182691716, 0.043382545444075285, 0.04813156575751103, 0.014399747057646652, 0.0031378399721023174], [0.0022777755185951257, 0.005946039976125663, 0.01158396425673288, 0.007224560488802381, 0.008660817737845395, 0.009307108921432215, 0.008506325107924229, 0.001772148653229637]], \"type\": \"heatmap\"}], \"layout\": {\"height\": 500, \"margin\": {\"t\": 60}, \"width\": 500, \"xaxis\": {\"constrain\": \"domain\", \"scaleanchor\": \"y\"}, \"yaxis\": {\"autorange\": \"reversed\", \"constrain\": \"domain\"}, \"coloraxis\": {\"colorscale\": [[0.0, \"rgb(243, 231, 155)\"], [0.16666666666666666, \"rgb(250, 196, 132)\"], [0.3333333333333333, \"rgb(248, 160, 126)\"], [0.5, \"rgb(235, 127, 134)\"], [0.6666666666666666, \"rgb(206, 102, 147)\"], [0.8333333333333334, \"rgb(160, 89, 160)\"], [1.0, \"rgb(92, 83, 165)\"]]}}, \"name\": \"56\"}, {\"data\": [{\"coloraxis\": \"coloraxis\", \"name\": \"57\", \"z\": [[0.0025213646980348633, 0.004630810693137095, 0.011775726158790686, 0.003473799011634289, 0.011097670740700494, 0.011977277430266785, 0.006910095976707405, 0.002326843142337994], [0.002963749918624701, 0.010889974424493711, 0.04086396211581022, 0.010848188250740444, 0.012957235710529414, 0.040801672679572194, 0.008359389648454212, 0.002799455920457684], [0.0020333646544404525, 0.01226876570863843, 0.02580651785855493, 0.010273333949270758, 0.01206987626930037, 0.02947605995259895, 0.0121229231692964, 0.002255790169019807], [0.013453725066412164, 0.010479124279820774, 0.007849329472825935, 0.008710493322862693, 0.006920637874487923, 0.014346060791115207, 0.011754743806340085, 0.0032232839898578333], [0.010096813839445912, 0.039253272083659904, 0.011877962488878702, 0.0032794105257564067, 0.004079346258847579, 0.014089786553504303, 0.04021785980591076, 0.010281894868049403], [0.011196571089050061, 0.04534696524452976, 0.041460109932624355, 0.0199380123335733, 0.02451744471277766, 0.041166800227042326, 0.05032357977111507, 0.01056318924292623], [0.004621422842109274, 0.012082512450681876, 0.036860453146507315, 0.03667333990014917, 0.04406335000515822, 0.04758397069284828, 0.014178666639140755, 0.0031134205416455773], [0.0022797846969938146, 0.00571505298842149, 0.011296999964483415, 0.007328529704795338, 0.008693797060812556, 0.009284157189571677, 0.008492059379720111, 0.0018022169641333928]], \"type\": \"heatmap\"}], \"layout\": {\"height\": 500, \"margin\": {\"t\": 60}, \"width\": 500, \"xaxis\": {\"constrain\": \"domain\", \"scaleanchor\": \"y\"}, \"yaxis\": {\"autorange\": \"reversed\", \"constrain\": \"domain\"}, \"coloraxis\": {\"colorscale\": [[0.0, \"rgb(243, 231, 155)\"], [0.16666666666666666, \"rgb(250, 196, 132)\"], [0.3333333333333333, \"rgb(248, 160, 126)\"], [0.5, \"rgb(235, 127, 134)\"], [0.6666666666666666, \"rgb(206, 102, 147)\"], [0.8333333333333334, \"rgb(160, 89, 160)\"], [1.0, \"rgb(92, 83, 165)\"]]}}, \"name\": \"57\"}, {\"data\": [{\"coloraxis\": \"coloraxis\", \"name\": \"58\", \"z\": [[0.002384872685127751, 0.004498088838817995, 0.011666151344724035, 0.0034001596957112554, 0.011031595099715168, 0.011433299703328915, 0.007088537315634242, 0.002228964826888583], [0.00275347175170798, 0.011123830592294933, 0.03959482458719842, 0.010746862143144425, 0.012658563690976123, 0.04080894869863559, 0.008636289199109276, 0.002765288250364867], [0.0020059295341340543, 0.012133155795463826, 0.02655469518151167, 0.01021506041164824, 0.012141136185287534, 0.03011874164189729, 0.011647629325545599, 0.0022567043658700565], [0.012904339629555053, 0.01077248401326019, 0.007962105008775908, 0.008828410287830397, 0.00685851736557321, 0.013908784385027774, 0.011586601795727942, 0.0031236075679301365], [0.01000341044617811, 0.03903057378496486, 0.011436643960240966, 0.0032283056540541705, 0.003937495187815899, 0.013673117807028618, 0.04066457462115705, 0.01038349547716985], [0.011102227429259126, 0.04662117272866587, 0.04188896455675119, 0.020949264572429134, 0.024661291216326497, 0.041210819912785635, 0.04873023032689669, 0.01075764744183159], [0.0046259911563603, 0.01196705528789252, 0.03702745412662111, 0.038403299673236795, 0.04499135586592448, 0.047248892338002196, 0.014040539122237655, 0.0031849170984824936], [0.0022277453345927204, 0.005404461144947605, 0.011009892959304981, 0.007513401619590043, 0.008715803547259118, 0.009155149233459229, 0.0084882358473506, 0.0018789196027635883]], \"type\": \"heatmap\"}], \"layout\": {\"height\": 500, \"margin\": {\"t\": 60}, \"width\": 500, \"xaxis\": {\"constrain\": \"domain\", \"scaleanchor\": \"y\"}, \"yaxis\": {\"autorange\": \"reversed\", \"constrain\": \"domain\"}, \"coloraxis\": {\"colorscale\": [[0.0, \"rgb(243, 231, 155)\"], [0.16666666666666666, \"rgb(250, 196, 132)\"], [0.3333333333333333, \"rgb(248, 160, 126)\"], [0.5, \"rgb(235, 127, 134)\"], [0.6666666666666666, \"rgb(206, 102, 147)\"], [0.8333333333333334, \"rgb(160, 89, 160)\"], [1.0, \"rgb(92, 83, 165)\"]]}}, \"name\": \"58\"}, {\"data\": [{\"coloraxis\": \"coloraxis\", \"name\": \"59\", \"z\": [[0.002240464763507654, 0.0043602015365944435, 0.011652511639609973, 0.003345070464830592, 0.011008953055860438, 0.010833935470058545, 0.007301048861063764, 0.0021266502156211645], [0.002524731635273812, 0.011416939126292876, 0.03776232522395498, 0.010541065349803057, 0.01227941243245183, 0.04075620102573513, 0.008950138942668863, 0.0027666986466059543], [0.001962436190810995, 0.012134402851468877, 0.02748869171820996, 0.010015765842779016, 0.012175849987460479, 0.030751572353963034, 0.011095104232192551, 0.002241477023314754], [0.0122218774451213, 0.011110087203510149, 0.008134255930635966, 0.009020039921682172, 0.006723151599885418, 0.013492661289116236, 0.011499085596735273, 0.0030104766542063117], [0.009987967854057835, 0.038577792251799525, 0.01085166708693665, 0.0031948173698956063, 0.0037982713640146693, 0.013194545627590497, 0.04123143819140483, 0.010431745140289864], [0.011045902264424366, 0.04819508768774119, 0.042850031776766856, 0.02212543984657506, 0.024435549339304155, 0.041606442902408246, 0.046822415244810095, 0.01103061483853587], [0.004710122897316604, 0.011847171198241887, 0.03669102955717482, 0.04041480643352105, 0.045980345650762956, 0.04699222564877006, 0.01395125037320127, 0.003316661825422276], [0.002130456752547634, 0.005067639610657803, 0.010721777742387315, 0.007752884336665244, 0.008696243332808223, 0.008950040434836232, 0.008482564029745362, 0.0019717671583592395]], \"type\": \"heatmap\"}], \"layout\": {\"height\": 500, \"margin\": {\"t\": 60}, \"width\": 500, \"xaxis\": {\"constrain\": \"domain\", \"scaleanchor\": \"y\"}, \"yaxis\": {\"autorange\": \"reversed\", \"constrain\": \"domain\"}, \"coloraxis\": {\"colorscale\": [[0.0, \"rgb(243, 231, 155)\"], [0.16666666666666666, \"rgb(250, 196, 132)\"], [0.3333333333333333, \"rgb(248, 160, 126)\"], [0.5, \"rgb(235, 127, 134)\"], [0.6666666666666666, \"rgb(206, 102, 147)\"], [0.8333333333333334, \"rgb(160, 89, 160)\"], [1.0, \"rgb(92, 83, 165)\"]]}}, \"name\": \"59\"}, {\"data\": [{\"coloraxis\": \"coloraxis\", \"name\": \"60\", \"z\": [[0.0021017022740953306, 0.004217715435141436, 0.011705568711423456, 0.0032978050076833843, 0.011050507422342072, 0.010259257266201556, 0.007499068169988105, 0.00203018093417496], [0.002304023899084568, 0.011738384973701308, 0.03587463141697988, 0.010287669548034289, 0.011850506753121838, 0.0406881630480634, 0.0092655807065558, 0.0027888809794400027], [0.001918423941267007, 0.012226381783218174, 0.02854881782493072, 0.009711305766390748, 0.01216060499544104, 0.031321446130135204, 0.010506043305315606, 0.002219719252460468], [0.01152852654720359, 0.0114184971816286, 0.008352038106397416, 0.00923854306477275, 0.006531796380975859, 0.01309634913474846, 0.011434193949905556, 0.0028747259587559265], [0.010019706383840567, 0.038039155335132704, 0.010236994921128617, 0.003169761809766337, 0.003669996628321497, 0.012730341731148469, 0.041984102930079356, 0.010408394948360348], [0.011017825491569119, 0.04987710411319357, 0.04422139134388357, 0.02335509901062596, 0.023913976590558772, 0.042151943630809395, 0.04484811187044979, 0.011348197516034242], [0.004837762622031088, 0.011737001655390395, 0.035992190114985445, 0.042451938250536156, 0.04695074657066838, 0.04663645211701703, 0.013910288177678367, 0.003458680764422912], [0.0020046532035930408, 0.0047273255759048855, 0.01042189822330566, 0.007991906766251644, 0.008606728355449123, 0.008702042716781697, 0.008463731484802348, 0.0020674892767000713]], \"type\": \"heatmap\"}], \"layout\": {\"height\": 500, \"margin\": {\"t\": 60}, \"width\": 500, \"xaxis\": {\"constrain\": \"domain\", \"scaleanchor\": \"y\"}, \"yaxis\": {\"autorange\": \"reversed\", \"constrain\": \"domain\"}, \"coloraxis\": {\"colorscale\": [[0.0, \"rgb(243, 231, 155)\"], [0.16666666666666666, \"rgb(250, 196, 132)\"], [0.3333333333333333, \"rgb(248, 160, 126)\"], [0.5, \"rgb(235, 127, 134)\"], [0.6666666666666666, \"rgb(206, 102, 147)\"], [0.8333333333333334, \"rgb(160, 89, 160)\"], [1.0, \"rgb(92, 83, 165)\"]]}}, \"name\": \"60\"}, {\"data\": [{\"coloraxis\": \"coloraxis\", \"name\": \"61\", \"z\": [[0.001985099273511844, 0.004050936781400027, 0.011785999196567221, 0.0032540564682925857, 0.011175194387883922, 0.009795752859496926, 0.007624365743709859, 0.0019429892297957358], [0.002123705100678607, 0.012033275819585213, 0.03443686624222251, 0.010049577813266607, 0.011385781768563582, 0.040701093885339656, 0.009537647289763236, 0.00281229224524014], [0.0018931802158031173, 0.012394478237268799, 0.02975851439620714, 0.009335609564415197, 0.01206397144753236, 0.03172918375161329, 0.009917692004234882, 0.0021881025879776222], [0.010919792812858363, 0.011620902660972285, 0.008604770721640297, 0.009445511809955169, 0.00631653978150437, 0.012713992727664181, 0.011352519571110815, 0.002723804416384844], [0.010073541149928493, 0.037532097199539004, 0.009694413541683006, 0.003137473518362006, 0.003565937403441939, 0.01235315849986164, 0.04290569284395362, 0.010299896689672183], [0.011027429859902812, 0.05151158936884646, 0.0458702629159878, 0.024503548268117195, 0.023212174763906055, 0.042779454208492225, 0.04307976759852021, 0.011693212401942875], [0.0049640552057370075, 0.011631866908523806, 0.03515655349080549, 0.044107908928405985, 0.04778415150592195, 0.04595143625411356, 0.013921727728485172, 0.0035484399248663263], [0.0018721926611022799, 0.004411547673932542, 0.010109871289237966, 0.008189323679795309, 0.008421103581893326, 0.008441867486091267, 0.008429127736766386, 0.0021459748997030227]], \"type\": \"heatmap\"}], \"layout\": {\"height\": 500, \"margin\": {\"t\": 60}, \"width\": 500, \"xaxis\": {\"constrain\": \"domain\", \"scaleanchor\": \"y\"}, \"yaxis\": {\"autorange\": \"reversed\", \"constrain\": \"domain\"}, \"coloraxis\": {\"colorscale\": [[0.0, \"rgb(243, 231, 155)\"], [0.16666666666666666, \"rgb(250, 196, 132)\"], [0.3333333333333333, \"rgb(248, 160, 126)\"], [0.5, \"rgb(235, 127, 134)\"], [0.6666666666666666, \"rgb(206, 102, 147)\"], [0.8333333333333334, \"rgb(160, 89, 160)\"], [1.0, \"rgb(92, 83, 165)\"]]}}, \"name\": \"61\"}, {\"data\": [{\"coloraxis\": \"coloraxis\", \"name\": \"62\", \"z\": [[0.001908493088995062, 0.0038326654498614695, 0.01183964938508422, 0.0032305291600504757, 0.0113992117906784, 0.009550156332983898, 0.007623380280885805, 0.0018587975121080115], [0.0020162666909211246, 0.01224496578808945, 0.03395387413429665, 0.009925249372401995, 0.010861816356558905, 0.04083825710370124, 0.009744878077444398, 0.0027972032835967475], [0.0019125794689273184, 0.01263858500667445, 0.031181481776963588, 0.008949691460440109, 0.01183030909704506, 0.03171862660436748, 0.00937558430326078, 0.0021269715087970085], [0.01047094746721301, 0.011656870188265007, 0.008890671370154942, 0.00960443488799338, 0.006142180403875322, 0.01230894990845478, 0.011225319959014353, 0.002592268076629709], [0.010147048246319458, 0.03703322139800975, 0.009326356992065566, 0.0030848453708821996, 0.003522869752572917, 0.012102958912683615, 0.04378971856926587, 0.010113970043307077], [0.011097724572697535, 0.05301721251335549, 0.04765869547551539, 0.02543467471189255, 0.022500903421004952, 0.04357082411034022, 0.041856780564088494, 0.012074922574943879], [0.0050346805081566, 0.011508589492044516, 0.034649411583432106, 0.04494580252521846, 0.04831169183437762, 0.04459441918099685, 0.013958127349029955, 0.0035210732646709735], [0.0017583252896272408, 0.004161970483481384, 0.009786136571217989, 0.008322681769386605, 0.008109996697029779, 0.008202212229090566, 0.008374197531537763, 0.00217709116602155]], \"type\": \"heatmap\"}], \"layout\": {\"height\": 500, \"margin\": {\"t\": 60}, \"width\": 500, \"xaxis\": {\"constrain\": \"domain\", \"scaleanchor\": \"y\"}, \"yaxis\": {\"autorange\": \"reversed\", \"constrain\": \"domain\"}, \"coloraxis\": {\"colorscale\": [[0.0, \"rgb(243, 231, 155)\"], [0.16666666666666666, \"rgb(250, 196, 132)\"], [0.3333333333333333, \"rgb(248, 160, 126)\"], [0.5, \"rgb(235, 127, 134)\"], [0.6666666666666666, \"rgb(206, 102, 147)\"], [0.8333333333333334, \"rgb(160, 89, 160)\"], [1.0, \"rgb(92, 83, 165)\"]]}}, \"name\": \"62\"}, {\"data\": [{\"coloraxis\": \"coloraxis\", \"name\": \"63\", \"z\": [[0.001867367578002182, 0.0035720259620623807, 0.011845097724754866, 0.0032353102863338684, 0.011690029469613169, 0.009559078257421786, 0.007485708641169115, 0.0017746259507138398], [0.0019839546269513966, 0.012336268049080284, 0.034526696922818824, 0.009954168303865302, 0.010286338495069663, 0.04098211946004836, 0.009871701922804538, 0.002724466687157214], [0.001971435411787297, 0.012945161909612776, 0.03274132934476754, 0.008590468392109753, 0.011460202572105473, 0.031214352849955038, 0.008921578612391252, 0.0020255399547749043], [0.010188919732170884, 0.01150630876655142, 0.009182209380692306, 0.009686814249582511, 0.006045313428399673, 0.011893775884516651, 0.011047226036736309, 0.0025068357818194375], [0.010242946462069883, 0.03653344863328422, 0.009155780866866135, 0.003017680752348785, 0.003548320248386537, 0.011971209985089389, 0.04442044525023801, 0.009882305431541547], [0.011209923697175921, 0.0542984553520128, 0.04952465956530314, 0.026065523789360088, 0.02187868516669144, 0.044598600248246405, 0.041383481495991865, 0.012462995108534373], [0.005030063603907846, 0.0113327961345799, 0.034737420768523854, 0.04484836664020789, 0.04854544883689821, 0.0426792380852585, 0.013963499201596691, 0.0033751908146243442], [0.0016669815845532384, 0.0039965792891568834, 0.009486065568366838, 0.008379450650138119, 0.007691139098350442, 0.008000574219105785, 0.008306816278024223, 0.00214347652772588]], \"type\": \"heatmap\"}], \"layout\": {\"height\": 500, \"margin\": {\"t\": 60}, \"width\": 500, \"xaxis\": {\"constrain\": \"domain\", \"scaleanchor\": \"y\"}, \"yaxis\": {\"autorange\": \"reversed\", \"constrain\": \"domain\"}, \"coloraxis\": {\"colorscale\": [[0.0, \"rgb(243, 231, 155)\"], [0.16666666666666666, \"rgb(250, 196, 132)\"], [0.3333333333333333, \"rgb(248, 160, 126)\"], [0.5, \"rgb(235, 127, 134)\"], [0.6666666666666666, \"rgb(206, 102, 147)\"], [0.8333333333333334, \"rgb(160, 89, 160)\"], [1.0, \"rgb(92, 83, 165)\"]]}}, \"name\": \"63\"}, {\"data\": [{\"coloraxis\": \"coloraxis\", \"name\": \"64\", \"z\": [[0.0018545910713114399, 0.0032804187972053376, 0.011771981070321989, 0.003254606056158929, 0.012012710514854499, 0.009839876667783357, 0.0072031154500479125, 0.0016949667368050033], [0.0020324685347320693, 0.012270369133422065, 0.03631683066309362, 0.010161301245732725, 0.009695610117350657, 0.04103588677253295, 0.00988713471151835, 0.0025954499494388545], [0.00206693918131827, 0.013278661291883112, 0.03438116382764364, 0.008275333359806753, 0.010994871000505068, 0.0303473982035701, 0.008570954927351519, 0.0018948221192668043], [0.010088881628880277, 0.011144710566780137, 0.0094503916624075, 0.009667921180570778, 0.006041660398663086, 0.011493952112940563, 0.010786488521805703, 0.002471660453127871], [0.010330592810496107, 0.0361665466488956, 0.009204179267339869, 0.002936653132462734, 0.003626810728915691, 0.011983681688989313, 0.04470878651871088, 0.009635394764404968], [0.011338543532663661, 0.05516041315225753, 0.05128803867553966, 0.026334433201442686, 0.021424363421447986, 0.045758937642057705, 0.04175709046691882, 0.012814488889842476], [0.0049326778389006, 0.011078952346157252, 0.03552498973499055, 0.04370066918831559, 0.04857808128980216, 0.04035960743786604, 0.013906117300839103, 0.0031152309021611063], [0.0016030588189433245, 0.003916027057484124, 0.009238842591276948, 0.008346698592104152, 0.007201244866372362, 0.00786592734064855, 0.008252651785731473, 0.0020471404371890656]], \"type\": \"heatmap\"}], \"layout\": {\"height\": 500, \"margin\": {\"t\": 60}, \"width\": 500, \"xaxis\": {\"constrain\": \"domain\", \"scaleanchor\": \"y\"}, \"yaxis\": {\"autorange\": \"reversed\", \"constrain\": \"domain\"}, \"coloraxis\": {\"colorscale\": [[0.0, \"rgb(243, 231, 155)\"], [0.16666666666666666, \"rgb(250, 196, 132)\"], [0.3333333333333333, \"rgb(248, 160, 126)\"], [0.5, \"rgb(235, 127, 134)\"], [0.6666666666666666, \"rgb(206, 102, 147)\"], [0.8333333333333334, \"rgb(160, 89, 160)\"], [1.0, \"rgb(92, 83, 165)\"]]}}, \"name\": \"64\"}, {\"data\": [{\"coloraxis\": \"coloraxis\", \"name\": \"65\", \"z\": [[0.0018375511712090562, 0.0030353306493353578, 0.011659044398775069, 0.0032447507581709525, 0.012320169932399054, 0.010300368184005116, 0.0068397864345308935, 0.0016488481146876854], [0.0021173716658023636, 0.012075041898229028, 0.03888371354185515, 0.01048211528728933, 0.009195333486762219, 0.04067220381463452, 0.009803534191063109, 0.0024575527647663145], [0.0021513237878190866, 0.013541099870480338, 0.03568586886096123, 0.007997044307758374, 0.010567397147846243, 0.029581432344838184, 0.008335033572978259, 0.0017833992094809447], [0.010127296149266028, 0.010591440256531252, 0.009656171794479508, 0.009514182413618568, 0.006097420713497696, 0.01119813172914416, 0.010417223466090036, 0.002453207855710705], [0.010398067985502017, 0.03623760957387877, 0.009418474139020073, 0.0028842919867305746, 0.003693324209078947, 0.01213912688080984, 0.04483950719701483, 0.009427454581773822], [0.011394744942998634, 0.05516460082885261, 0.052968341114304325, 0.02635873072901865, 0.021073791305406875, 0.04663173692392676, 0.04272619132083064, 0.013003846989305836], [0.00479486573774112, 0.010768514450470147, 0.036661707260259524, 0.041966973718676526, 0.04882251751290612, 0.03834557819916305, 0.01373462619810122, 0.0028219895581052066], [0.0015420790107940946, 0.003868085411123651, 0.009110869259643429, 0.008209540841054415, 0.006732695869554083, 0.007809137432349621, 0.008253259434969167, 0.0019273296226185088]], \"type\": \"heatmap\"}], \"layout\": {\"height\": 500, \"margin\": {\"t\": 60}, \"width\": 500, \"xaxis\": {\"constrain\": \"domain\", \"scaleanchor\": \"y\"}, \"yaxis\": {\"autorange\": \"reversed\", \"constrain\": \"domain\"}, \"coloraxis\": {\"colorscale\": [[0.0, \"rgb(243, 231, 155)\"], [0.16666666666666666, \"rgb(250, 196, 132)\"], [0.3333333333333333, \"rgb(248, 160, 126)\"], [0.5, \"rgb(235, 127, 134)\"], [0.6666666666666666, \"rgb(206, 102, 147)\"], [0.8333333333333334, \"rgb(160, 89, 160)\"], [1.0, \"rgb(92, 83, 165)\"]]}}, \"name\": \"65\"}, {\"data\": [{\"coloraxis\": \"coloraxis\", \"name\": \"66\", \"z\": [[0.0017879553209116101, 0.0028875630631488526, 0.011504495146225199, 0.003159252806643749, 0.012568645769274675, 0.010796707957461333, 0.006448234533414431, 0.0016526794545081642], [0.0021899698594323933, 0.011772050218811406, 0.041651504996064063, 0.010820358341250351, 0.008893620354579879, 0.03987206178499372, 0.009658740285932757, 0.0023450792819741323], [0.002176114323491734, 0.013650216345883438, 0.03628769242378087, 0.007752887084291107, 0.01029206071297576, 0.029252015081159835, 0.00819722358002897, 0.0017208735145550196], [0.01023993330518253, 0.009938517185996969, 0.009739121181163917, 0.009211783321347021, 0.006160261049958008, 0.01106118849183698, 0.009960115865918554, 0.0024207208790166233], [0.010425674331672559, 0.037095738361313545, 0.009736484914478585, 0.0028809811798144254, 0.0036938933638609684, 0.012443509156874095, 0.04494756666518867, 0.009323919199863032], [0.011358574863089091, 0.05417070324075567, 0.05445776245265465, 0.026241625713313562, 0.020728811797274403, 0.0469624450002878, 0.04384280524694632, 0.01296685364550476], [0.004674478648901784, 0.010439362008851698, 0.037782809856994344, 0.04014205608836727, 0.04968277186339275, 0.037205217003546315, 0.013449118870259817, 0.0025594994518057055], [0.001470552131213519, 0.0038108710845166727, 0.009151708237288602, 0.007980900415106079, 0.006359719526672761, 0.007792942674569925, 0.00832770123468067, 0.0018232982497248427]], \"type\": \"heatmap\"}], \"layout\": {\"height\": 500, \"margin\": {\"t\": 60}, \"width\": 500, \"xaxis\": {\"constrain\": \"domain\", \"scaleanchor\": \"y\"}, \"yaxis\": {\"autorange\": \"reversed\", \"constrain\": \"domain\"}, \"coloraxis\": {\"colorscale\": [[0.0, \"rgb(243, 231, 155)\"], [0.16666666666666666, \"rgb(250, 196, 132)\"], [0.3333333333333333, \"rgb(248, 160, 126)\"], [0.5, \"rgb(235, 127, 134)\"], [0.6666666666666666, \"rgb(206, 102, 147)\"], [0.8333333333333334, \"rgb(160, 89, 160)\"], [1.0, \"rgb(92, 83, 165)\"]]}}, \"name\": \"66\"}, {\"data\": [{\"coloraxis\": \"coloraxis\", \"name\": \"67\", \"z\": [[0.0016870412946748531, 0.002860411117765632, 0.011316387852306344, 0.0029812047859902138, 0.012712017069824007, 0.011200084513313073, 0.006076159141198213, 0.0017103097194568412], [0.002205479745179633, 0.011383852528892105, 0.04393631164044217, 0.011076674023868024, 0.008839059005944911, 0.03866802745972558, 0.009491247437704494, 0.0022753782714073053], [0.002098660260551878, 0.01357888189813084, 0.035958662992237385, 0.007535241934331565, 0.010221476797001167, 0.02952103237934528, 0.008143420775216905, 0.0017105473991592096], [0.010339567905510964, 0.009280659975873025, 0.009660805300367357, 0.008778015789407073, 0.006188770624556786, 0.011119700449106894, 0.00947323655229576, 0.0023628471961882544], [0.010422651689235765, 0.03889199570736139, 0.01006898503570316, 0.0029422247751540935, 0.0035961892267314644, 0.012863976580149645, 0.045040215679151625, 0.009362085212119736], [0.01121780350885726, 0.0522866738641748, 0.05581817398172958, 0.02609463616836731, 0.020316393754069146, 0.04675031977607593, 0.04474485612872888, 0.012685092491433021], [0.004622124489980686, 0.010107433643270282, 0.03860570811063659, 0.0386418907884855, 0.05144160917377814, 0.03736490545072388, 0.013046205411472894, 0.0023748195745838837], [0.001378350662761802, 0.003719714909387684, 0.009394194174572728, 0.007688482230021957, 0.0061265823928669284, 0.007762960072503977, 0.008477742105250161, 0.0017538293936855264]], \"type\": \"heatmap\"}], \"layout\": {\"height\": 500, \"margin\": {\"t\": 60}, \"width\": 500, \"xaxis\": {\"constrain\": \"domain\", \"scaleanchor\": \"y\"}, \"yaxis\": {\"autorange\": \"reversed\", \"constrain\": \"domain\"}, \"coloraxis\": {\"colorscale\": [[0.0, \"rgb(243, 231, 155)\"], [0.16666666666666666, \"rgb(250, 196, 132)\"], [0.3333333333333333, \"rgb(248, 160, 126)\"], [0.5, \"rgb(235, 127, 134)\"], [0.6666666666666666, \"rgb(206, 102, 147)\"], [0.8333333333333334, \"rgb(160, 89, 160)\"], [1.0, \"rgb(92, 83, 165)\"]]}}, \"name\": \"67\"}, {\"data\": [{\"coloraxis\": \"coloraxis\", \"name\": \"68\", \"z\": [[0.0015424884388619514, 0.002925771734607123, 0.011082218238807163, 0.002734157043242807, 0.012677944472623355, 0.01142505830347168, 0.005763722040320263, 0.0018071537344889947], [0.0021598612989208173, 0.010924383772951084, 0.04518734659307228, 0.01117792198486378, 0.009004142477833016, 0.03720876137979593, 0.009309520655179355, 0.002253755855017591], [0.001925552776640442, 0.013370973778087629, 0.03494528965615327, 0.007335979203005214, 0.010348737012547096, 0.030450053726234334, 0.008144318801863644, 0.0017356965868967743], [0.010334230865949486, 0.008708369362494011, 0.009440743633440076, 0.008302369561611105, 0.006181640358207438, 0.011375367369130009, 0.0090350168708428, 0.0022971517578757833], [0.010384696833553746, 0.04144937007880553, 0.01030655581470903, 0.0030558033443676405, 0.0033961901544911767, 0.013334777667194802, 0.0449035205860722, 0.009547087114095019], [0.010976856709788138, 0.0499216058300381, 0.05695161489594529, 0.026034929499122107, 0.019905617104480546, 0.046212936894391356, 0.04519788862007285, 0.012226987218783746], [0.004644873784342803, 0.009748754690639162, 0.038980272645783916, 0.03756637529115766, 0.05406397172605484, 0.03891762846387285, 0.012557221182226408, 0.002287341780587512], [0.001278501935948896, 0.0035995691551859027, 0.00982834155963896, 0.007407552369055005, 0.006070234213275199, 0.007692983971347732, 0.008708597220617837, 0.0017256422993164237]], \"type\": \"heatmap\"}], \"layout\": {\"height\": 500, \"margin\": {\"t\": 60}, \"width\": 500, \"xaxis\": {\"constrain\": \"domain\", \"scaleanchor\": \"y\"}, \"yaxis\": {\"autorange\": \"reversed\", \"constrain\": \"domain\"}, \"coloraxis\": {\"colorscale\": [[0.0, \"rgb(243, 231, 155)\"], [0.16666666666666666, \"rgb(250, 196, 132)\"], [0.3333333333333333, \"rgb(248, 160, 126)\"], [0.5, \"rgb(235, 127, 134)\"], [0.6666666666666666, \"rgb(206, 102, 147)\"], [0.8333333333333334, \"rgb(160, 89, 160)\"], [1.0, \"rgb(92, 83, 165)\"]]}}, \"name\": \"68\"}, {\"data\": [{\"coloraxis\": \"coloraxis\", \"name\": \"69\", \"z\": [[0.0013872436892257897, 0.003028404235153143, 0.010797141505741273, 0.0024789066409199524, 0.012427791233279362, 0.011475052928084699, 0.0055331181833884035, 0.0019075966605525026], [0.0020791465642965427, 0.010427425567519428, 0.045359277357057935, 0.011122284551797845, 0.009288187248080454, 0.03576059185671107, 0.00911590260019329, 0.0022555415439816525], [0.0017082163840379033, 0.013092716356367667, 0.03367083902732596, 0.007175761638964787, 0.010579780673761538, 0.03177353975528637, 0.008190674337053899, 0.001759706282548853], [0.010198395244313357, 0.00828015752075019, 0.009125589214865955, 0.00786620590233937, 0.00616858495294414, 0.011751887714320045, 0.008709895786265355, 0.0022551449706057444], [0.010318554004757787, 0.04420770046129794, 0.01039421945217664, 0.003181576488591186, 0.003148594948801915, 0.013732239090481805, 0.04431169263195019, 0.009831087390335233], [0.010669225127250352, 0.047620732029339544, 0.057689019682242985, 0.026086932339547092, 0.019660960306670135, 0.04572708556233598, 0.04533123074364352, 0.01169633568659239], [0.004697281400039685, 0.00936200448137317, 0.03909951599112045, 0.036894194087520905, 0.05703957244451307, 0.041552124687595816, 0.01202481111668797, 0.002283852900834774], [0.0011908353616059458, 0.0034819885938581286, 0.01037406434606684, 0.007194181949199759, 0.006174880450077257, 0.00758423522820819, 0.00896829522045994, 0.001720267667088358]], \"type\": \"heatmap\"}], \"layout\": {\"height\": 500, \"margin\": {\"t\": 60}, \"width\": 500, \"xaxis\": {\"constrain\": \"domain\", \"scaleanchor\": \"y\"}, \"yaxis\": {\"autorange\": \"reversed\", \"constrain\": \"domain\"}, \"coloraxis\": {\"colorscale\": [[0.0, \"rgb(243, 231, 155)\"], [0.16666666666666666, \"rgb(250, 196, 132)\"], [0.3333333333333333, \"rgb(248, 160, 126)\"], [0.5, \"rgb(235, 127, 134)\"], [0.6666666666666666, \"rgb(206, 102, 147)\"], [0.8333333333333334, \"rgb(160, 89, 160)\"], [1.0, \"rgb(92, 83, 165)\"]]}}, \"name\": \"69\"}, {\"data\": [{\"coloraxis\": \"coloraxis\", \"name\": \"70\", \"z\": [[0.0012479112911678472, 0.0031290647009974627, 0.010457378538755736, 0.002264803609775736, 0.011981860841436489, 0.011395578891390711, 0.0053877910637093, 0.0019752001920295085], [0.001985483464109433, 0.009946821920253332, 0.04475329389968864, 0.010976326399030586, 0.009592002106579694, 0.03453429013432391, 0.008939524045819505, 0.0022414791664867114], [0.0014982592957959206, 0.012769828293915955, 0.032413008794626996, 0.007103625397835495, 0.010822851832607604, 0.0330949144000019, 0.008279773158209288, 0.0017552651356051577], [0.009969107270829712, 0.008026529932198507, 0.008755855062345528, 0.007501697534355173, 0.006184590919909939, 0.012131274035656413, 0.008510181665331304, 0.0022592415601410598], [0.010225533934532922, 0.04660524991144138, 0.010352319488705231, 0.003283716534975641, 0.0029203546913431273, 0.013948871279638337, 0.04317769408947165, 0.010180642745008028], [0.01034311117240402, 0.04579514876424504, 0.05784099795269881, 0.026207163073292516, 0.01970968388995383, 0.045519066903473224, 0.04536535390633707, 0.011189303276390089], [0.004724984969715209, 0.008974825261746765, 0.03937788022238858, 0.03666875925102017, 0.05986445695493041, 0.044765661550146524, 0.011476728497470884, 0.0023379778369487505], [0.0011282834761368273, 0.0033955047863337903, 0.010924809120664904, 0.007063161655270667, 0.00639587154206183, 0.007450942467607912, 0.009185494476832121, 0.0017156317618919545]], \"type\": \"heatmap\"}], \"layout\": {\"height\": 500, \"margin\": {\"t\": 60}, \"width\": 500, \"xaxis\": {\"constrain\": \"domain\", \"scaleanchor\": \"y\"}, \"yaxis\": {\"autorange\": \"reversed\", \"constrain\": \"domain\"}, \"coloraxis\": {\"colorscale\": [[0.0, \"rgb(243, 231, 155)\"], [0.16666666666666666, \"rgb(250, 196, 132)\"], [0.3333333333333333, \"rgb(248, 160, 126)\"], [0.5, \"rgb(235, 127, 134)\"], [0.6666666666666666, \"rgb(206, 102, 147)\"], [0.8333333333333334, \"rgb(160, 89, 160)\"], [1.0, \"rgb(92, 83, 165)\"]]}}, \"name\": \"70\"}, {\"data\": [{\"coloraxis\": \"coloraxis\", \"name\": \"71\", \"z\": [[0.0011457683219764103, 0.0031866544555298254, 0.010052748238875715, 0.0021311428852662352, 0.01143381711457259, 0.011288736606016661, 0.0053020010166128185, 0.0019731979004631423], [0.001903450492337909, 0.009540010337850138, 0.044057210523876955, 0.010877304330322121, 0.009790016884702896, 0.03369716674230477, 0.0088290442950007, 0.002157263576782442], [0.0013452739490765933, 0.012431473107092424, 0.03147000592992929, 0.0071748603754455045, 0.010976480896058413, 0.03386979346950782, 0.008394498269824564, 0.0017030766991087453], [0.009732227027221874, 0.007946249167208628, 0.008387569124293741, 0.007218121650060874, 0.006270697650905789, 0.012339776473615937, 0.008404682782239993, 0.002325105285056349], [0.010107613085712378, 0.048094336631493324, 0.010272540791281093, 0.003328630967730194, 0.0027836591305725406, 0.013923558290272312, 0.04151960499034094, 0.010557958608685603], [0.010075988722093714, 0.044809077007714776, 0.05729447218361493, 0.026305892448730713, 0.02012310454621613, 0.04578698751952409, 0.04558589392856989, 0.01082815119742776], [0.004666840918020212, 0.008614994200403521, 0.04041963366007897, 0.03683154784463388, 0.06206257189391806, 0.04758785923898846, 0.010937596908246338, 0.002393749209701922], [0.0011001981678514308, 0.0033654917566745264, 0.011333177510452722, 0.0070086507790789844, 0.006635467191056642, 0.007319213003805995, 0.009285467788740504, 0.001684644299228517]], \"type\": \"heatmap\"}], \"layout\": {\"height\": 500, \"margin\": {\"t\": 60}, \"width\": 500, \"xaxis\": {\"constrain\": \"domain\", \"scaleanchor\": \"y\"}, \"yaxis\": {\"autorange\": \"reversed\", \"constrain\": \"domain\"}, \"coloraxis\": {\"colorscale\": [[0.0, \"rgb(243, 231, 155)\"], [0.16666666666666666, \"rgb(250, 196, 132)\"], [0.3333333333333333, \"rgb(248, 160, 126)\"], [0.5, \"rgb(235, 127, 134)\"], [0.6666666666666666, \"rgb(206, 102, 147)\"], [0.8333333333333334, \"rgb(160, 89, 160)\"], [1.0, \"rgb(92, 83, 165)\"]]}}, \"name\": \"71\"}, {\"data\": [{\"coloraxis\": \"coloraxis\", \"name\": \"72\", \"z\": [[0.0010873601478300176, 0.0031823975884775805, 0.00959569388819197, 0.002076751121179974, 0.010896036699650351, 0.011197211739698586, 0.005247956276614886, 0.0018976457295984848], [0.0018444872682630278, 0.009233954147365872, 0.04373791568175027, 0.01089193955690957, 0.009837950446772983, 0.03339967791434213, 0.008805808241927683, 0.001996530516131997], [0.0012671371776536422, 0.012104781756017329, 0.03101524941690601, 0.007390770338267068, 0.01100092627769263, 0.0338767612573915, 0.008498546355850338, 0.00161214827136861], [0.009544145246869036, 0.008018730778018061, 0.008063010043550962, 0.007013844399131144, 0.006422876223274873, 0.012278439626497044, 0.008360848465491294, 0.0024377406278371164], [0.009961730814728023, 0.0485937229910545, 0.010227609238144779, 0.003296932897268771, 0.002758077475722137, 0.013697416008738018, 0.03961908521281694, 0.010919304177290347], [0.009928169807321354, 0.04477263901927587, 0.05608388390226359, 0.02633915166703739, 0.020848864182788168, 0.04653446840948634, 0.045981940696552495, 0.010675579103854582], [0.004509634720975363, 0.008318201330320085, 0.0423958926019958, 0.037259223940229826, 0.06340903083889317, 0.04926737096581928, 0.010463103319791283, 0.002405827240923636], [0.0011085275744859117, 0.003387009701476699, 0.011504946761704275, 0.007016466154775431, 0.006815713841612767, 0.007199565138468606, 0.009241675635753727, 0.001623961401908045]], \"type\": \"heatmap\"}], \"layout\": {\"height\": 500, \"margin\": {\"t\": 60}, \"width\": 500, \"xaxis\": {\"constrain\": \"domain\", \"scaleanchor\": \"y\"}, \"yaxis\": {\"autorange\": \"reversed\", \"constrain\": \"domain\"}, \"coloraxis\": {\"colorscale\": [[0.0, \"rgb(243, 231, 155)\"], [0.16666666666666666, \"rgb(250, 196, 132)\"], [0.3333333333333333, \"rgb(248, 160, 126)\"], [0.5, \"rgb(235, 127, 134)\"], [0.6666666666666666, \"rgb(206, 102, 147)\"], [0.8333333333333334, \"rgb(160, 89, 160)\"], [1.0, \"rgb(92, 83, 165)\"]]}}, \"name\": \"72\"}, {\"data\": [{\"coloraxis\": \"coloraxis\", \"name\": \"73\", \"z\": [[0.0010710757112121537, 0.003081079144560575, 0.009120079425384361, 0.0020690305349523293, 0.010444879490335372, 0.011106072302652857, 0.005198366126278363, 0.001776149188008579], [0.0018271772797506059, 0.009004031128035207, 0.043963319369538546, 0.010974917736667512, 0.009747362136361078, 0.03376892408247363, 0.008808898021797856, 0.0018135304744209418], [0.0012675406435801887, 0.011862807724985372, 0.03138511066106986, 0.007643032026931022, 0.01091755608778716, 0.03352552122705107, 0.00850937500487474, 0.0015114113218525683], [0.009397883782783573, 0.008188290993860018, 0.007841630158917713, 0.006932345319983932, 0.006594566774916798, 0.01199396669711053, 0.00836174120384932, 0.002551551348679403], [0.00976122651086024, 0.04843351262327128, 0.010206926526334793, 0.003174032201561031, 0.0027976215700955746, 0.013414081147794302, 0.037872342160667614, 0.01118438761853541], [0.009922216561893998, 0.04561179264188083, 0.05436518969115808, 0.026372301169636774, 0.02174518836816679, 0.04761899530130136, 0.04624706124019036, 0.010751173534935057], [0.0042735893808955976, 0.008081363672543898, 0.04470819683064121, 0.03749613817599701, 0.06388459637043394, 0.04948384726511497, 0.01015361295693268, 0.0023488008602695638], [0.001154564301836834, 0.003423541628104193, 0.011429637693989076, 0.0071039027724889015, 0.006922821365027883, 0.007109922502897412, 0.00913146873131446, 0.0015567234925651379]], \"type\": \"heatmap\"}], \"layout\": {\"height\": 500, \"margin\": {\"t\": 60}, \"width\": 500, \"xaxis\": {\"constrain\": \"domain\", \"scaleanchor\": \"y\"}, \"yaxis\": {\"autorange\": \"reversed\", \"constrain\": \"domain\"}, \"coloraxis\": {\"colorscale\": [[0.0, \"rgb(243, 231, 155)\"], [0.16666666666666666, \"rgb(250, 196, 132)\"], [0.3333333333333333, \"rgb(248, 160, 126)\"], [0.5, \"rgb(235, 127, 134)\"], [0.6666666666666666, \"rgb(206, 102, 147)\"], [0.8333333333333334, \"rgb(160, 89, 160)\"], [1.0, \"rgb(92, 83, 165)\"]]}}, \"name\": \"73\"}, {\"data\": [{\"coloraxis\": \"coloraxis\", \"name\": \"74\", \"z\": [[0.0010870474478768231, 0.00289999147309501, 0.008691639552731023, 0.0020762126255320754, 0.01013373045397085, 0.01097184731392692, 0.0051517756402918976, 0.001644453945376193], [0.001844722761305954, 0.00885761359391184, 0.044665289259945694, 0.011057121259026933, 0.009570417851226216, 0.03479590113867914, 0.008809268784978426, 0.0016580125919188756], [0.0013310820106883048, 0.01170836903499142, 0.032518334805744474, 0.007843253468413164, 0.010763084894210158, 0.033140782867099615, 0.008391654043039133, 0.0014268291990420746], [0.009289845854888611, 0.008405674730730804, 0.007736294562894773, 0.006969161058760264, 0.006725163924948017, 0.011570715363976367, 0.00838027931730065, 0.0026167467500186944], [0.009512811066999357, 0.04800789472781174, 0.010193744979138174, 0.002977172828399153, 0.002852631906456614, 0.013165647405442724, 0.036723605083870764, 0.011299296340471734], [0.01003554575407737, 0.047080520393472554, 0.05247733996238531, 0.02647650369015712, 0.022633376300287177, 0.048692461206261556, 0.04614652301507131, 0.01099446225952297], [0.0040072703474130856, 0.007934128312689293, 0.04670722599602926, 0.037490698864709335, 0.06360144032722316, 0.04841112144202565, 0.010056359843573257, 0.0022352723610480677], [0.0012279585542681424, 0.0034381445817638213, 0.011138874963672647, 0.007249697704477658, 0.006954181036638521, 0.007049772293819159, 0.0089905145929862, 0.0015054842772954241]], \"type\": \"heatmap\"}], \"layout\": {\"height\": 500, \"margin\": {\"t\": 60}, \"width\": 500, \"xaxis\": {\"constrain\": \"domain\", \"scaleanchor\": \"y\"}, \"yaxis\": {\"autorange\": \"reversed\", \"constrain\": \"domain\"}, \"coloraxis\": {\"colorscale\": [[0.0, \"rgb(243, 231, 155)\"], [0.16666666666666666, \"rgb(250, 196, 132)\"], [0.3333333333333333, \"rgb(248, 160, 126)\"], [0.5, \"rgb(235, 127, 134)\"], [0.6666666666666666, \"rgb(206, 102, 147)\"], [0.8333333333333334, \"rgb(160, 89, 160)\"], [1.0, \"rgb(92, 83, 165)\"]]}}, \"name\": \"74\"}, {\"data\": [{\"coloraxis\": \"coloraxis\", \"name\": \"75\", \"z\": [[0.0011164131309554439, 0.0027061180469025816, 0.008415841789757593, 0.0020734571642358627, 0.009998613639635286, 0.010749636018645549, 0.0051415685815595575, 0.0015375779933553913], [0.001863152379422464, 0.008851432167156772, 0.04551932139484707, 0.011074420128525853, 0.009380194546093913, 0.0362139777077702, 0.008817477379217682, 0.0015677869868802022], [0.001422656106087691, 0.011572557453059615, 0.03395217746042118, 0.007951568138652372, 0.010609063029106747, 0.03299682650933055, 0.00817287390465331, 0.0013854503166043054], [0.009234425185926967, 0.008618072924901004, 0.007736679729925469, 0.007084977827727112, 0.006755372002761108, 0.011120435794448262, 0.008371145103243837, 0.002586118211935773], [0.00924841710035926, 0.04759407889649745, 0.010155751807158324, 0.002760755933179568, 0.0028680665925814026, 0.012973008121079321, 0.0366545587168079, 0.011242028912659217], [0.010172819488326452, 0.04875226682508314, 0.05091818695367984, 0.026736604650226533, 0.023347456289823803, 0.04912241846457651, 0.045661661025582966, 0.011266909422035839], [0.0037728029854847286, 0.007927151486091214, 0.047784723776071715, 0.037632634801183985, 0.06284405727424669, 0.046649741300229725, 0.010158575867131519, 0.002109609753081095], [0.0013024019614104952, 0.0033967973087273094, 0.010695902136768715, 0.007382922499622257, 0.0069211387287248325, 0.007027902818629253, 0.008831885172147565, 0.0014893741770437036]], \"type\": \"heatmap\"}], \"layout\": {\"height\": 500, \"margin\": {\"t\": 60}, \"width\": 500, \"xaxis\": {\"constrain\": \"domain\", \"scaleanchor\": \"y\"}, \"yaxis\": {\"autorange\": \"reversed\", \"constrain\": \"domain\"}, \"coloraxis\": {\"colorscale\": [[0.0, \"rgb(243, 231, 155)\"], [0.16666666666666666, \"rgb(250, 196, 132)\"], [0.3333333333333333, \"rgb(248, 160, 126)\"], [0.5, \"rgb(235, 127, 134)\"], [0.6666666666666666, \"rgb(206, 102, 147)\"], [0.8333333333333334, \"rgb(160, 89, 160)\"], [1.0, \"rgb(92, 83, 165)\"]]}}, \"name\": \"75\"}, {\"data\": [{\"coloraxis\": \"coloraxis\", \"name\": \"76\", \"z\": [[0.0011417467424501746, 0.0025507941819812186, 0.008377209716555194, 0.002046685608518886, 0.010021053217106375, 0.010415097944819438, 0.005205670858435559, 0.0014722956850334258], [0.0018494383798137982, 0.009019598590700659, 0.04604659667101528, 0.010950438767492271, 0.009240633553528652, 0.03772822140190225, 0.00881600064007631, 0.0015643214488852823], [0.0014993762414370843, 0.01140540869991364, 0.03525177099168486, 0.007948117713202607, 0.010531236785467886, 0.033423716664026756, 0.007908146136791461, 0.0014022960105123236], [0.009230392827585686, 0.008782902721001493, 0.007821895554994377, 0.007260510363187716, 0.006641657036309053, 0.010769056907012523, 0.008326762993610536, 0.002438618522926344], [0.008986584905023118, 0.047286054541594805, 0.010019085014648274, 0.0025702220730191524, 0.0027924546190161146, 0.012812030297367244, 0.03795953042953805, 0.010998622873251223], [0.010215107756662655, 0.05029108496315934, 0.050056337921264384, 0.027190596751389035, 0.02381496216464464, 0.048497064322950006, 0.04497487884105684, 0.011426146433582859], [0.0036049268227670074, 0.008078397312591478, 0.04740098197290717, 0.03826303910054732, 0.061889223246505184, 0.044974683699730816, 0.010426927524081999, 0.00201417282872413], [0.0013491263779097636, 0.003280430287021409, 0.010182516684687302, 0.007436735643942157, 0.006864677796614346, 0.0070601596044914325, 0.008681228304921261, 0.0015143393064091723]], \"type\": \"heatmap\"}], \"layout\": {\"height\": 500, \"margin\": {\"t\": 60}, \"width\": 500, \"xaxis\": {\"constrain\": \"domain\", \"scaleanchor\": \"y\"}, \"yaxis\": {\"autorange\": \"reversed\", \"constrain\": \"domain\"}, \"coloraxis\": {\"colorscale\": [[0.0, \"rgb(243, 231, 155)\"], [0.16666666666666666, \"rgb(250, 196, 132)\"], [0.3333333333333333, \"rgb(248, 160, 126)\"], [0.5, \"rgb(235, 127, 134)\"], [0.6666666666666666, \"rgb(206, 102, 147)\"], [0.8333333333333334, \"rgb(160, 89, 160)\"], [1.0, \"rgb(92, 83, 165)\"]]}}, \"name\": \"76\"}, {\"data\": [{\"coloraxis\": \"coloraxis\", \"name\": \"77\", \"z\": [[0.0011530893441290546, 0.0024723870999952043, 0.00860687955775153, 0.0020035660978131834, 0.010172819243068015, 0.009975539941326926, 0.005374381589105494, 0.0014436204427491937], [0.0017735163832267458, 0.00939254624317727, 0.04586750982516026, 0.010676773726066333, 0.009165170334273243, 0.03906790581648244, 0.00882419304657931, 0.0016376956867398453], [0.0015305726668371528, 0.011166687743972496, 0.03599313179577687, 0.00787475239605485, 0.010543074906103558, 0.034377552589281615, 0.007662165087444701, 0.0014758960624341269], [0.009265238721746685, 0.008898431365977573, 0.007964669528632638, 0.007452681085318147, 0.006383630036753306, 0.010540954871759925, 0.008254992932677329, 0.002196769410519292], [0.008760353545639152, 0.04690253840380098, 0.009744066616220615, 0.0024346537933888834, 0.0026344692705398813, 0.012597557567105112, 0.040710118938601735, 0.010588897758369476], [0.010086048100803954, 0.05155098747710572, 0.0501124311083693, 0.027828498317420194, 0.024044034066227706, 0.046828643334146734, 0.044311710571984526, 0.011394640903029753], [0.0035155749537855046, 0.008401071579587248, 0.045680066196184546, 0.0397847341077335, 0.06086965193113311, 0.04382820029530132, 0.010781131037753949, 0.0019731981289151652], [0.0013458301523168932, 0.003094201669048795, 0.009634229510260698, 0.0073600501896729726, 0.006797990965561993, 0.007135783006803992, 0.008511674008387959, 0.00156816691586346]], \"type\": \"heatmap\"}], \"layout\": {\"height\": 500, \"margin\": {\"t\": 60}, \"width\": 500, \"xaxis\": {\"constrain\": \"domain\", \"scaleanchor\": \"y\"}, \"yaxis\": {\"autorange\": \"reversed\", \"constrain\": \"domain\"}, \"coloraxis\": {\"colorscale\": [[0.0, \"rgb(243, 231, 155)\"], [0.16666666666666666, \"rgb(250, 196, 132)\"], [0.3333333333333333, \"rgb(248, 160, 126)\"], [0.5, \"rgb(235, 127, 134)\"], [0.6666666666666666, \"rgb(206, 102, 147)\"], [0.8333333333333334, \"rgb(160, 89, 160)\"], [1.0, \"rgb(92, 83, 165)\"]]}}, \"name\": \"77\"}, {\"data\": [{\"coloraxis\": \"coloraxis\", \"name\": \"78\", \"z\": [[0.001151675441742858, 0.002463128654583947, 0.00907679997594766, 0.0019765734394888873, 0.010368368788789706, 0.00953230081597275, 0.005636403634442932, 0.0014325298175789105], [0.0016467698708251567, 0.009910267526881152, 0.0448185949140387, 0.010297835103500274, 0.009078645371778086, 0.03989751578316918, 0.008818319662424782, 0.0017547499683801828], [0.0015097387983131075, 0.01093806705887288, 0.03621680144817595, 0.007746044427715827, 0.010581848714168543, 0.035621575983685975, 0.007494584283435966, 0.001573420279737846], [0.009278706200167243, 0.008953646537622541, 0.00815645636851948, 0.007650815669964889, 0.006049673124224378, 0.010449713809584638, 0.008208907244289939, 0.0019375682981760624], [0.008625332889267768, 0.04596970226438196, 0.009309538433002721, 0.002370245080705138, 0.0024474770005833853, 0.012240727907326183, 0.04430174246825714, 0.010044772134591077], [0.009770842561154385, 0.05256541342853632, 0.05124702617574742, 0.028573450306982086, 0.024105695174338693, 0.04487353707674065, 0.04403318345144078, 0.01119675832212708], [0.0034890974246614675, 0.00879753459661196, 0.043152215280830464, 0.04201927769943919, 0.059757399597512396, 0.04342093401877727, 0.011097966502569888, 0.00199276887547443], [0.0012863408644154545, 0.0028790162879585635, 0.009111953777387315, 0.007184558404003941, 0.006729123902582472, 0.007239476848801021, 0.008326141632558789, 0.0016127025950308605]], \"type\": \"heatmap\"}], \"layout\": {\"height\": 500, \"margin\": {\"t\": 60}, \"width\": 500, \"xaxis\": {\"constrain\": \"domain\", \"scaleanchor\": \"y\"}, \"yaxis\": {\"autorange\": \"reversed\", \"constrain\": \"domain\"}, \"coloraxis\": {\"colorscale\": [[0.0, \"rgb(243, 231, 155)\"], [0.16666666666666666, \"rgb(250, 196, 132)\"], [0.3333333333333333, \"rgb(248, 160, 126)\"], [0.5, \"rgb(235, 127, 134)\"], [0.6666666666666666, \"rgb(206, 102, 147)\"], [0.8333333333333334, \"rgb(160, 89, 160)\"], [1.0, \"rgb(92, 83, 165)\"]]}}, \"name\": \"78\"}, {\"data\": [{\"coloraxis\": \"coloraxis\", \"name\": \"79\", \"z\": [[0.0011450446299399928, 0.002489635606397149, 0.009685718730558337, 0.0019817027502961075, 0.010540579071424744, 0.00915519294245127, 0.005936548999269157, 0.001418697586081769], [0.0015022136426362995, 0.010472379177887193, 0.0432552321693016, 0.009885334421381873, 0.008935502699277356, 0.040261219551123675, 0.008776860686720962, 0.0018730362173540668], [0.0014572847274315856, 0.010774586171195815, 0.03616117358240294, 0.007586228439136626, 0.010580624104288117, 0.036801058420555526, 0.007414592496021794, 0.001656835602015623], [0.009249853323034827, 0.00895716339180797, 0.008363270318789813, 0.007839701746031661, 0.005707019507732539, 0.010450400148273663, 0.00821607190260526, 0.001713558019380727], [0.00858553042201471, 0.0443981072608966, 0.008784467816388093, 0.0023543647597412546, 0.0022834357127132624, 0.011749354185878306, 0.048005578637522375, 0.009430381531751499], [0.009353741265704063, 0.05349270617729417, 0.05320320680738628, 0.029275753059165074, 0.024087450476471973, 0.043262997633555456, 0.04426409020751035, 0.010918416171896438], [0.003488112197907167, 0.009171046790647903, 0.04049371962377517, 0.04452357325404441, 0.05848652385494538, 0.04358368165053633, 0.011318711028378193, 0.0020485934628977514], [0.0011923743365748949, 0.0026796993000384535, 0.008637820227679458, 0.006962418137643349, 0.0066475344608702995, 0.007341251029668461, 0.008112446911477902, 0.0016185908242178095]], \"type\": \"heatmap\"}], \"layout\": {\"height\": 500, \"margin\": {\"t\": 60}, \"width\": 500, \"xaxis\": {\"constrain\": \"domain\", \"scaleanchor\": \"y\"}, \"yaxis\": {\"autorange\": \"reversed\", \"constrain\": \"domain\"}, \"coloraxis\": {\"colorscale\": [[0.0, \"rgb(243, 231, 155)\"], [0.16666666666666666, \"rgb(250, 196, 132)\"], [0.3333333333333333, \"rgb(248, 160, 126)\"], [0.5, \"rgb(235, 127, 134)\"], [0.6666666666666666, \"rgb(206, 102, 147)\"], [0.8333333333333334, \"rgb(160, 89, 160)\"], [1.0, \"rgb(92, 83, 165)\"]]}}, \"name\": \"79\"}, {\"data\": [{\"coloraxis\": \"coloraxis\", \"name\": \"80\", \"z\": [[0.0011438986831168157, 0.0024889667023969696, 0.010319607542828691, 0.0020322259901097064, 0.010588717092977463, 0.008908439901865585, 0.006213432219922671, 0.0013850161047630797], [0.0013838996984315282, 0.010925584070672473, 0.04150655191345712, 0.009471370000785038, 0.008690867192896792, 0.040306859694016796, 0.008632520018938605, 0.0019617586806082586], [0.0013963742474531965, 0.010777528269135288, 0.036392070947652115, 0.007380521214164636, 0.010492628881544673, 0.0378135628284454, 0.007411759438827909, 0.0016821710753760302], [0.009146914798289548, 0.008914561672976646, 0.008563934762497534, 0.008073342916779342, 0.00542083529317034, 0.010542964403340804, 0.008335513729958754, 0.0015625544774042844], [0.00862230288825213, 0.04222243040675747, 0.008205773474124118, 0.002355058816354252, 0.002161670662061705, 0.011177680468085337, 0.0508274338909355, 0.00879937915415123], [0.008927201693913643, 0.054586411800993606, 0.055600846500364634, 0.02981834547647031, 0.024123250255522432, 0.042644218452454065, 0.045116692570627816, 0.010669722872332598], [0.003471187234981286, 0.009374044311332794, 0.03803798671507848, 0.046450240202668226, 0.05702765988895436, 0.04418301997594274, 0.011435269121462139, 0.0021176527718933477], [0.0010932961260136226, 0.0025330345674329196, 0.008261400098692712, 0.006789992701668525, 0.006576094201093444, 0.007435094324203047, 0.007919448561184327, 0.0015692053491923328]], \"type\": \"heatmap\"}], \"layout\": {\"height\": 500, \"margin\": {\"t\": 60}, \"width\": 500, \"xaxis\": {\"constrain\": \"domain\", \"scaleanchor\": \"y\"}, \"yaxis\": {\"autorange\": \"reversed\", \"constrain\": \"domain\"}, \"coloraxis\": {\"colorscale\": [[0.0, \"rgb(243, 231, 155)\"], [0.16666666666666666, \"rgb(250, 196, 132)\"], [0.3333333333333333, \"rgb(248, 160, 126)\"], [0.5, \"rgb(235, 127, 134)\"], [0.6666666666666666, \"rgb(206, 102, 147)\"], [0.8333333333333334, \"rgb(160, 89, 160)\"], [1.0, \"rgb(92, 83, 165)\"]]}}, \"name\": \"80\"}, {\"data\": [{\"coloraxis\": \"coloraxis\", \"name\": \"81\", \"z\": [[0.0011583357006863728, 0.002431837648614847, 0.010858862365041456, 0.0021403234916240886, 0.010472648428585607, 0.008822963009059649, 0.0064165406251609994, 0.0013180244142087843], [0.0013112593826746352, 0.01117303933159713, 0.039957245055134226, 0.009106773358536295, 0.008346294383791645, 0.040321641777078594, 0.008401742226487137, 0.0019809646936358198], [0.0013435789136628437, 0.010971403670817306, 0.03705424911289317, 0.0071793753167682115, 0.010272012872111703, 0.038206586349174516, 0.007494124474669286, 0.0016148742639248404], [0.00899065807997372, 0.008870391210686038, 0.008696161934446655, 0.008343434263152063, 0.0052340806234038514, 0.010660325824413334, 0.008606498241719999, 0.0015038483140154932], [0.008731318444794424, 0.03965698331916577, 0.0076637433698676476, 0.0023389965843554966, 0.002111357634903984, 0.010565594360082817, 0.052045275731779625, 0.008220514781359147], [0.008594991413920736, 0.05606932912547099, 0.05795968365135647, 0.030067337302976425, 0.024312270554134346, 0.04343992000285459, 0.04666573702447229, 0.010526743584646156], [0.0034153983123596226, 0.009364129467715764, 0.03628930434671309, 0.047430735293667196, 0.05531413250854084, 0.0449622753372539, 0.011451828768938665, 0.0021783438738395516], [0.0010112651506693324, 0.002469642236119604, 0.00799974785999738, 0.006712280095204442, 0.006497396979926094, 0.007489125989556677, 0.00772267696175344, 0.0014618205738525264]], \"type\": \"heatmap\"}], \"layout\": {\"height\": 500, \"margin\": {\"t\": 60}, \"width\": 500, \"xaxis\": {\"constrain\": \"domain\", \"scaleanchor\": \"y\"}, \"yaxis\": {\"autorange\": \"reversed\", \"constrain\": \"domain\"}, \"coloraxis\": {\"colorscale\": [[0.0, \"rgb(243, 231, 155)\"], [0.16666666666666666, \"rgb(250, 196, 132)\"], [0.3333333333333333, \"rgb(248, 160, 126)\"], [0.5, \"rgb(235, 127, 134)\"], [0.6666666666666666, \"rgb(206, 102, 147)\"], [0.8333333333333334, \"rgb(160, 89, 160)\"], [1.0, \"rgb(92, 83, 165)\"]]}}, \"name\": \"81\"}, {\"data\": [{\"coloraxis\": \"coloraxis\", \"name\": \"82\", \"z\": [[0.0011912805016514256, 0.002327002715552938, 0.011185872145932947, 0.0022898854911943957, 0.010235315889435216, 0.008854562659444986, 0.006513372206709285, 0.0012190445520449153], [0.0012832609289654428, 0.01120878768983714, 0.03895204309658111, 0.008830530486718946, 0.00797325307596378, 0.040701699605866844, 0.008162095593431727, 0.0019138598673827656], [0.0013100501829186827, 0.01126980731989764, 0.03794226821880813, 0.007054642305806326, 0.009925789825043425, 0.03763250014784437, 0.007637630982968238, 0.0014681769181261635], [0.008834953232821071, 0.008886594814412509, 0.008694812237514383, 0.00858286214508385, 0.0051437371553245525, 0.01069048191818136, 0.00899340172517925, 0.0015256878482259404], [0.008872201015627376, 0.037190677427801175, 0.007257878649244752, 0.002275892692029483, 0.00214245361332281, 0.009972686504009938, 0.05175453699127481, 0.0077588775068382475], [0.008433183944911098, 0.057979279014533376, 0.05965874658137208, 0.02996175239093549, 0.02466653898874033, 0.0455095142557323, 0.04865829713287362, 0.010506474209906774], [0.003316462744791322, 0.00922820440132077, 0.03559920856716835, 0.047687158281021144, 0.053374250968171943, 0.04552482383411779, 0.011408577036672255, 0.002206598507274498], [0.0009613906270822823, 0.0024907596861357922, 0.007814179223922328, 0.006713727464026324, 0.006382397545658191, 0.007464703285790784, 0.007470410432910693, 0.00132289298991119]], \"type\": \"heatmap\"}], \"layout\": {\"height\": 500, \"margin\": {\"t\": 60}, \"width\": 500, \"xaxis\": {\"constrain\": \"domain\", \"scaleanchor\": \"y\"}, \"yaxis\": {\"autorange\": \"reversed\", \"constrain\": \"domain\"}, \"coloraxis\": {\"colorscale\": [[0.0, \"rgb(243, 231, 155)\"], [0.16666666666666666, \"rgb(250, 196, 132)\"], [0.3333333333333333, \"rgb(248, 160, 126)\"], [0.5, \"rgb(235, 127, 134)\"], [0.6666666666666666, \"rgb(206, 102, 147)\"], [0.8333333333333334, \"rgb(160, 89, 160)\"], [1.0, \"rgb(92, 83, 165)\"]]}}, \"name\": \"82\"}, {\"data\": [{\"coloraxis\": \"coloraxis\", \"name\": \"83\", \"z\": [[0.0012391453347565349, 0.002199081013511164, 0.011212934833616305, 0.0024388215057870514, 0.009962846186279968, 0.008930355719344907, 0.0064888639371458254, 0.0011031774860346742], [0.0012915636935632397, 0.01108505246084055, 0.038768682826799614, 0.00867057609008781, 0.007654034320152895, 0.04175079938582519, 0.007992437691936779, 0.0017758690342576558], [0.001304780117332889, 0.011531384018558143, 0.03876028429223685, 0.0070569304076392005, 0.00950120870548159, 0.03610934249512767, 0.007785826703444262, 0.0012888596267207227], [0.008734756523307794, 0.008999774861852895, 0.00854161546980399, 0.00870772762256289, 0.005126043810985798, 0.010536178574540363, 0.00939072379326848, 0.0015988828529015237], [0.008979302651690097, 0.03533101335013827, 0.0070613837052756956, 0.0021537656981820094, 0.0022472008450391454, 0.009474624129175635, 0.05061016388051751, 0.007458320498146536], [0.008475628781019802, 0.06012919066162746, 0.06017622663298261, 0.02955438784087784, 0.025138154557921993, 0.04826824499673, 0.05059271799260435, 0.01058827434423489], [0.0031807445840681026, 0.009092776335374805, 0.03612313940556858, 0.04765206821425391, 0.051377211304228294, 0.04545195532278274, 0.011356563247900239, 0.0021789062549416147], [0.0009518814872934095, 0.002574194996589412, 0.00764329448023028, 0.006750642663188497, 0.006215315388936033, 0.007346215610436897, 0.0071396683809579605, 0.0011882603613793117]], \"type\": \"heatmap\"}], \"layout\": {\"height\": 500, \"margin\": {\"t\": 60}, \"width\": 500, \"xaxis\": {\"constrain\": \"domain\", \"scaleanchor\": \"y\"}, \"yaxis\": {\"autorange\": \"reversed\", \"constrain\": \"domain\"}, \"coloraxis\": {\"colorscale\": [[0.0, \"rgb(243, 231, 155)\"], [0.16666666666666666, \"rgb(250, 196, 132)\"], [0.3333333333333333, \"rgb(248, 160, 126)\"], [0.5, \"rgb(235, 127, 134)\"], [0.6666666666666666, \"rgb(206, 102, 147)\"], [0.8333333333333334, \"rgb(160, 89, 160)\"], [1.0, \"rgb(92, 83, 165)\"]]}}, \"name\": \"83\"}, {\"data\": [{\"coloraxis\": \"coloraxis\", \"name\": \"84\", \"z\": [[0.001288107599686296, 0.0020892935670605954, 0.010959422418208443, 0.002532731257493893, 0.00973959796273195, 0.008974965895935627, 0.006366981948718838, 0.0009971786695164144], [0.0013134424996603812, 0.010884664542272538, 0.03943372020330926, 0.008626622498819661, 0.007460940742781936, 0.04344022910508842, 0.007943052422332461, 0.0016085552887977078], [0.0013205144979305794, 0.011605831615790247, 0.03906848419942264, 0.007196486602858418, 0.009080018369424297, 0.034034512714814585, 0.00789915926921445, 0.0011288664639616034], [0.008720975389874605, 0.00919182200794222, 0.008260292142717647, 0.008637267091145836, 0.005147340197255427, 0.01019438197246317, 0.00966838628891325, 0.0016816166891716995], [0.009015960435675052, 0.03443531192330021, 0.007098804755379035, 0.0019975803172857577, 0.0023987844852994384, 0.009126709888714628, 0.04942852087123198, 0.00733360037585659], [0.008685998462632693, 0.06201795705440293, 0.059482567192362445, 0.029005371675835136, 0.025630305204964274, 0.050842012526155486, 0.051957118965447635, 0.01068899850887738], [0.003031380295085534, 0.009061247846965855, 0.0377511971166776, 0.04781502737952486, 0.049643850918864856, 0.04477218956076228, 0.011311252046310265, 0.0020977240641055933], [0.0009754539303060898, 0.002678154863642297, 0.007465660295782691, 0.006761735546952722, 0.006012327372691518, 0.0071469217855521265, 0.0067508952941562955, 0.0010839169038825349]], \"type\": \"heatmap\"}], \"layout\": {\"height\": 500, \"margin\": {\"t\": 60}, \"width\": 500, \"xaxis\": {\"constrain\": \"domain\", \"scaleanchor\": \"y\"}, \"yaxis\": {\"autorange\": \"reversed\", \"constrain\": \"domain\"}, \"coloraxis\": {\"colorscale\": [[0.0, \"rgb(243, 231, 155)\"], [0.16666666666666666, \"rgb(250, 196, 132)\"], [0.3333333333333333, \"rgb(248, 160, 126)\"], [0.5, \"rgb(235, 127, 134)\"], [0.6666666666666666, \"rgb(206, 102, 147)\"], [0.8333333333333334, \"rgb(160, 89, 160)\"], [1.0, \"rgb(92, 83, 165)\"]]}}, \"name\": \"84\"}, {\"data\": [{\"coloraxis\": \"coloraxis\", \"name\": \"85\", \"z\": [[0.0013275060019295021, 0.0020099480956988955, 0.010520107282191543, 0.0025322760942805504, 0.009614821065484579, 0.008959022466690478, 0.006182961921962258, 0.0009225620741820597], [0.0013364680245476388, 0.010640708717244221, 0.04087897168714005, 0.008666252213631483, 0.007416786107822191, 0.045544819267348546, 0.007989453850675704, 0.001456196924147117], [0.0013484396751297085, 0.011461379736627865, 0.03881329915765713, 0.007411293843510414, 0.008724626404098688, 0.0319830131840528, 0.00795290417419062, 0.0010159324575076394], [0.008790776435000912, 0.009383190474686144, 0.00791628003273146, 0.008379261919958766, 0.0051838576908658585, 0.009749737048824913, 0.0097542767740679, 0.001737162575903748], [0.008976507032887495, 0.03464221134245179, 0.007345876665901448, 0.001836544135555551, 0.0025524714645100513, 0.008971222907881552, 0.04871125386230405, 0.007353678918605538], [0.009002151404037494, 0.06312480467527408, 0.057921195462726824, 0.028495684849151444, 0.026065995347220035, 0.052620176229598456, 0.05246495863867961, 0.010739014351640026], [0.002884373517099822, 0.009147167085351187, 0.04003732715430521, 0.048126843982995424, 0.04841446115772557, 0.043765978463342514, 0.011288620153186596, 0.0019751223518229308], [0.0010193357055614102, 0.00275889569656526, 0.007310584849033066, 0.006729011207784145, 0.005810068253751995, 0.006909077507864749, 0.006375355169310956, 0.0010197370760817942]], \"type\": \"heatmap\"}], \"layout\": {\"height\": 500, \"margin\": {\"t\": 60}, \"width\": 500, \"xaxis\": {\"constrain\": \"domain\", \"scaleanchor\": \"y\"}, \"yaxis\": {\"autorange\": \"reversed\", \"constrain\": \"domain\"}, \"coloraxis\": {\"colorscale\": [[0.0, \"rgb(243, 231, 155)\"], [0.16666666666666666, \"rgb(250, 196, 132)\"], [0.3333333333333333, \"rgb(248, 160, 126)\"], [0.5, \"rgb(235, 127, 134)\"], [0.6666666666666666, \"rgb(206, 102, 147)\"], [0.8333333333333334, \"rgb(160, 89, 160)\"], [1.0, \"rgb(92, 83, 165)\"]]}}, \"name\": \"85\"}, {\"data\": [{\"coloraxis\": \"coloraxis\", \"name\": \"86\", \"z\": [[0.0013491440798332793, 0.0019499213058416444, 0.010027124416634224, 0.0024096441003146826, 0.009597769062347807, 0.008857693664209198, 0.005969889565123518, 0.0008961425219461348], [0.0013624004470910302, 0.01033089532459933, 0.04282275087128086, 0.008686098467119577, 0.007549512421047984, 0.047862659698380904, 0.008023994801672088, 0.0013681727915594872], [0.0013753185538017793, 0.011190352336955697, 0.038397897881017384, 0.007553643023929574, 0.008507854256446436, 0.03073839858013441, 0.007911803628110515, 0.0009670239874850464], [0.008906455801124437, 0.009465713990331356, 0.007587360659544988, 0.008048106347899977, 0.005193352401037933, 0.009370197854480386, 0.00966333500725736, 0.0017295933121147969], [0.00884472867050358, 0.03611276838367652, 0.007713209971801267, 0.0016877902459316381, 0.002623522023900792, 0.00907268014701137, 0.04878440400667726, 0.007456905774910945], [0.009357168640239867, 0.06307306447772128, 0.055925997333176505, 0.028151728624820748, 0.02634017111872007, 0.05329152284630046, 0.051941186182131144, 0.0106939823461682], [0.0027547061160566656, 0.009301256698979094, 0.04187893563402121, 0.048020264538278776, 0.047886893553812884, 0.042964176928926005, 0.011358828300139604, 0.0018312367976148361], [0.0010699014781462627, 0.0027728461679500972, 0.007244830044844956, 0.006680046342809617, 0.005676122439857773, 0.006688418310408354, 0.006124699667780486, 0.0010057850260070836]], \"type\": \"heatmap\"}], \"layout\": {\"height\": 500, \"margin\": {\"t\": 60}, \"width\": 500, \"xaxis\": {\"constrain\": \"domain\", \"scaleanchor\": \"y\"}, \"yaxis\": {\"autorange\": \"reversed\", \"constrain\": \"domain\"}, \"coloraxis\": {\"colorscale\": [[0.0, \"rgb(243, 231, 155)\"], [0.16666666666666666, \"rgb(250, 196, 132)\"], [0.3333333333333333, \"rgb(248, 160, 126)\"], [0.5, \"rgb(235, 127, 134)\"], [0.6666666666666666, \"rgb(206, 102, 147)\"], [0.8333333333333334, \"rgb(160, 89, 160)\"], [1.0, \"rgb(92, 83, 165)\"]]}}, \"name\": \"86\"}, {\"data\": [{\"coloraxis\": \"coloraxis\", \"name\": \"87\", \"z\": [[0.0013376697765427313, 0.0019143278687114842, 0.009604336158500476, 0.002185383913695457, 0.009635692992996575, 0.008669219556917039, 0.00577530194693012, 0.0009236216732269204], [0.0013826511384282078, 0.009963764882965671, 0.04462820410781859, 0.008603262698850556, 0.007869862177513915, 0.04987417116592659, 0.007968125053259261, 0.0013654149667280046], [0.001375752228415459, 0.010874414407762033, 0.03806972797261756, 0.0075288756579473416, 0.008502297612130285, 0.03088017460806312, 0.007782042998993522, 0.0009883499307101647], [0.009003636974809645, 0.009378684951867472, 0.0073252302406249265, 0.007751042874994795, 0.005151280729243306, 0.009206092644010375, 0.009446773264132256, 0.0016506887827265676], [0.008622521247087074, 0.038796533364205174, 0.008061939648203084, 0.0015769688117728213, 0.0025446227499419595, 0.009425585797471502, 0.049599988201958524, 0.007602949966613744], [0.009627641922029103, 0.06180822640398975, 0.05400169833069858, 0.02805405001859933, 0.026424820013576603, 0.05276157071078375, 0.05060143253272538, 0.01051518383145124], [0.0026610651989851433, 0.009437001304056346, 0.0423601336363208, 0.0472921297702872, 0.048287443686177406, 0.04300964455651593, 0.011503661242865344, 0.0017034830967881354], [0.0011092747867245151, 0.0026999071031556204, 0.00732518080600917, 0.006630674125976714, 0.005677366553161378, 0.006536749676928654, 0.006080283860483015, 0.0010441910863955347]], \"type\": \"heatmap\"}], \"layout\": {\"height\": 500, \"margin\": {\"t\": 60}, \"width\": 500, \"xaxis\": {\"constrain\": \"domain\", \"scaleanchor\": \"y\"}, \"yaxis\": {\"autorange\": \"reversed\", \"constrain\": \"domain\"}, \"coloraxis\": {\"colorscale\": [[0.0, \"rgb(243, 231, 155)\"], [0.16666666666666666, \"rgb(250, 196, 132)\"], [0.3333333333333333, \"rgb(248, 160, 126)\"], [0.5, \"rgb(235, 127, 134)\"], [0.6666666666666666, \"rgb(206, 102, 147)\"], [0.8333333333333334, \"rgb(160, 89, 160)\"], [1.0, \"rgb(92, 83, 165)\"]]}}, \"name\": \"87\"}, {\"data\": [{\"coloraxis\": \"coloraxis\", \"name\": \"88\", \"z\": [[0.0012859773852367455, 0.0019065660910828394, 0.009313862794469703, 0.0019225896504278996, 0.00961897161959148, 0.00843088626600565, 0.005640401820661204, 0.0009944174780060309], [0.001389216179384615, 0.009573085772626808, 0.04561453885577551, 0.00840503895037706, 0.008327137466875188, 0.05091572922997678, 0.007781346894006288, 0.0014406151655216419], [0.001331447926319077, 0.010562661860902633, 0.03793938088080602, 0.007344932634844761, 0.00872720435873329, 0.032665828462208585, 0.007615386585895383, 0.0010702463935787687], [0.009018885246556555, 0.009132304474959833, 0.007151274862877889, 0.007557235404610819, 0.005068249225093065, 0.009328739971765114, 0.009168512661661668, 0.0015287808065730804], [0.00832456954396821, 0.04221725252372018, 0.008243832500701829, 0.0015217104843402898, 0.002315742018328994, 0.009934134911232908, 0.05070145781561957, 0.007759119807091401], [0.009666376913965205, 0.05970062486992645, 0.05247835055336113, 0.02819658483496082, 0.026460785421936184, 0.05124527969022745, 0.049048287455944556, 0.010196009418248208], [0.002606782309511346, 0.009450179980957313, 0.04132156805874989, 0.04608704898108951, 0.04965869767255009, 0.04428784700322979, 0.01161849483592672, 0.001622673419618452], [0.0011264309856531703, 0.0025572273395857706, 0.007555682167398968, 0.006582807699378693, 0.005854050985561786, 0.006496221936915092, 0.006271611261865817, 0.001121103221020966]], \"type\": \"heatmap\"}], \"layout\": {\"height\": 500, \"margin\": {\"t\": 60}, \"width\": 500, \"xaxis\": {\"constrain\": \"domain\", \"scaleanchor\": \"y\"}, \"yaxis\": {\"autorange\": \"reversed\", \"constrain\": \"domain\"}, \"coloraxis\": {\"colorscale\": [[0.0, \"rgb(243, 231, 155)\"], [0.16666666666666666, \"rgb(250, 196, 132)\"], [0.3333333333333333, \"rgb(248, 160, 126)\"], [0.5, \"rgb(235, 127, 134)\"], [0.6666666666666666, \"rgb(206, 102, 147)\"], [0.8333333333333334, \"rgb(160, 89, 160)\"], [1.0, \"rgb(92, 83, 165)\"]]}}, \"name\": \"88\"}, {\"data\": [{\"coloraxis\": \"coloraxis\", \"name\": \"89\", \"z\": [[0.0012075977836491962, 0.0019332319916738339, 0.009162512800200945, 0.0016888763260240424, 0.009463996600483426, 0.008190665499242399, 0.005592224885997814, 0.001083764071104023], [0.0013730813619418272, 0.009215675281768134, 0.0454841879209286, 0.00814076012837435, 0.00882483014885268, 0.050736446997656774, 0.00750238118203369, 0.0015576357258263657], [0.001240096263774652, 0.01025145185350418, 0.03769687967890743, 0.007115538799289508, 0.009100062945164474, 0.03564863939895315, 0.0075119252069042455, 0.0011806523200397993], [0.00894257476995088, 0.008816606802910507, 0.007023156763708942, 0.007437815765480427, 0.004976326613207815, 0.009685868280872683, 0.008904477454581557, 0.0014099305270197317], [0.00801572822921106, 0.04553604973341688, 0.008214136321299203, 0.00152122319954783, 0.002024403456041869, 0.010412166698583346, 0.05157814485300711, 0.007899335160704818], [0.009421549170105268, 0.05728304475614245, 0.05144205836838889, 0.028463244535752323, 0.026654205860936257, 0.04928950989935756, 0.047945545875138176, 0.009747348823386947], [0.0025812947028585644, 0.009333226291887816, 0.039516482337216996, 0.04498423007543245, 0.05158724602664838, 0.04680570382439807, 0.011582357651471527, 0.0016046203179921708], [0.0011184236688866907, 0.0023932119475060416, 0.007883712971214091, 0.006514606527241376, 0.006180267331606245, 0.00655234997657385, 0.00661159985533238, 0.0012030994026844997]], \"type\": \"heatmap\"}], \"layout\": {\"height\": 500, \"margin\": {\"t\": 60}, \"width\": 500, \"xaxis\": {\"constrain\": \"domain\", \"scaleanchor\": \"y\"}, \"yaxis\": {\"autorange\": \"reversed\", \"constrain\": \"domain\"}, \"coloraxis\": {\"colorscale\": [[0.0, \"rgb(243, 231, 155)\"], [0.16666666666666666, \"rgb(250, 196, 132)\"], [0.3333333333333333, \"rgb(248, 160, 126)\"], [0.5, \"rgb(235, 127, 134)\"], [0.6666666666666666, \"rgb(206, 102, 147)\"], [0.8333333333333334, \"rgb(160, 89, 160)\"], [1.0, \"rgb(92, 83, 165)\"]]}}, \"name\": \"89\"}, {\"data\": [{\"coloraxis\": \"coloraxis\", \"name\": \"90\", \"z\": [[0.0011241079021445865, 0.0019789058737884136, 0.009105298714523594, 0.0015244879463027444, 0.009151961457969222, 0.008001349568892377, 0.005626645139465799, 0.0011608739883866978], [0.0013367672919277658, 0.008927287448421096, 0.044486482780161624, 0.00788988722666041, 0.009219149251552523, 0.04954505155074914, 0.007206464128912565, 0.0016632099014054055], [0.0011240544898117202, 0.009953231714880766, 0.03722630321347119, 0.006942813465905932, 0.00948097119328263, 0.038970002429376024, 0.007524378589840836, 0.00127497002677964], [0.008791059189987679, 0.008526427355120278, 0.006905623605138799, 0.007354574842049942, 0.004924335133524482, 0.010142778578014003, 0.008707345592713417, 0.0013331936998055253], [0.0077631171488659265, 0.047897963476780714, 0.008026437047004986, 0.0015595797019485442, 0.0017637300136785514, 0.010684801627009896, 0.051759638146144364, 0.008016678340218377], [0.008973065653481105, 0.055110456555540144, 0.0508362176843881, 0.02878207218131246, 0.027160670397658526, 0.047578382604614604, 0.04764867607578912, 0.009247897712352385], [0.0025598499373851217, 0.009109882735969112, 0.03792377301153718, 0.04437076561950524, 0.053531508130851675, 0.050094378760304724, 0.011337372850899956, 0.0016414392556201205], [0.0010913579813506458, 0.0022529761132743533, 0.008233302082545592, 0.006436735456141641, 0.006581106906084779, 0.00666551606186584, 0.0069758668618956614, 0.0012547905770127217]], \"type\": \"heatmap\"}], \"layout\": {\"height\": 500, \"margin\": {\"t\": 60}, \"width\": 500, \"xaxis\": {\"constrain\": \"domain\", \"scaleanchor\": \"y\"}, \"yaxis\": {\"autorange\": \"reversed\", \"constrain\": \"domain\"}, \"coloraxis\": {\"colorscale\": [[0.0, \"rgb(243, 231, 155)\"], [0.16666666666666666, \"rgb(250, 196, 132)\"], [0.3333333333333333, \"rgb(248, 160, 126)\"], [0.5, \"rgb(235, 127, 134)\"], [0.6666666666666666, \"rgb(206, 102, 147)\"], [0.8333333333333334, \"rgb(160, 89, 160)\"], [1.0, \"rgb(92, 83, 165)\"]]}}, \"name\": \"90\"}, {\"data\": [{\"coloraxis\": \"coloraxis\", \"name\": \"91\", \"z\": [[0.0010483157082192968, 0.0020312650309319085, 0.009062860431145875, 0.0014346432079651475, 0.008757301661844618, 0.00791105506597668, 0.005704406264982216, 0.001206652181211795], [0.0012842102484852845, 0.008723687250056138, 0.04333483162196322, 0.0077505844810633615, 0.009411871650502314, 0.04774281038274169, 0.006997152270479572, 0.0016998109561620941], [0.0010126625762940837, 0.009646996682283764, 0.03644660253527839, 0.006905361119090621, 0.009749075540929993, 0.04158054930062905, 0.007651030211199611, 0.0013220308729734792], [0.0086200814000229, 0.008307465192109502, 0.00678042874276936, 0.007240589240212021, 0.004960628792242936, 0.010516844516251626, 0.008553122099034452, 0.0013131278730908102], [0.007613312310857198, 0.049021606250620554, 0.007826330031411205, 0.0016199352084578134, 0.0015890928862675483, 0.010685841061897896, 0.051095883275279426, 0.008143229254336375], [0.008465502802213134, 0.053420297471230435, 0.05057012539725606, 0.029156998439402768, 0.028005147494123202, 0.046441672829795756, 0.04816985568284672, 0.008781978626623513], [0.0025191118490599084, 0.008833912190188219, 0.037438687339513554, 0.04445438260909651, 0.05517400058577364, 0.053354144610072256, 0.010881767438517336, 0.0017024520179003703], [0.0010540987654730348, 0.002158823388376602, 0.008532653056878569, 0.006351284984677689, 0.006943485387693687, 0.006786915511153431, 0.007241406366789003, 0.0012580097680718325]], \"type\": \"heatmap\"}], \"layout\": {\"height\": 500, \"margin\": {\"t\": 60}, \"width\": 500, \"xaxis\": {\"constrain\": \"domain\", \"scaleanchor\": \"y\"}, \"yaxis\": {\"autorange\": \"reversed\", \"constrain\": \"domain\"}, \"coloraxis\": {\"colorscale\": [[0.0, \"rgb(243, 231, 155)\"], [0.16666666666666666, \"rgb(250, 196, 132)\"], [0.3333333333333333, \"rgb(248, 160, 126)\"], [0.5, \"rgb(235, 127, 134)\"], [0.6666666666666666, \"rgb(206, 102, 147)\"], [0.8333333333333334, \"rgb(160, 89, 160)\"], [1.0, \"rgb(92, 83, 165)\"]]}}, \"name\": \"91\"}, {\"data\": [{\"coloraxis\": \"coloraxis\", \"name\": \"92\", \"z\": [[0.0009892869762403926, 0.0020878264001726096, 0.008974360041456783, 0.0014217738412546387, 0.008370514193421774, 0.007969733007705626, 0.005781451777495703, 0.0012104687624218174], [0.0012198031683658646, 0.008612817126881774, 0.04267457121434719, 0.007807916832210871, 0.009355694347691786, 0.045703432433938776, 0.006960743223739297, 0.0016232521632371694], [0.000927877825927627, 0.009320989088739127, 0.03531922038421074, 0.00706964196445078, 0.00981658529155134, 0.042455186736439915, 0.007891309241161677, 0.00130425050035775], [0.008494387512276914, 0.008180516147025826, 0.0066438644216789385, 0.007043278621816117, 0.0051250163293000695, 0.010643648649507028, 0.008415527923423824, 0.0013569503831980972], [0.0076059761426404545, 0.04887461861831952, 0.007748470744438488, 0.0016910447255277844, 0.0015312736841072174, 0.010405998982727576, 0.04958552498934897, 0.008305089965736041], [0.008021491410473047, 0.05232421270305173, 0.05062013888986456, 0.02958545613075006, 0.0291656648143354, 0.04607286815299817, 0.049520228910819857, 0.008415470664613147], [0.00244509441381569, 0.008557254806537675, 0.03876047062575397, 0.045334548913278296, 0.05626610570466283, 0.05574224321508871, 0.010247791762281694, 0.0017529279721396809], [0.0010147576628836232, 0.002125214556735446, 0.008721023228937076, 0.006252426350158197, 0.0071471306938972546, 0.006878476586524827, 0.007303974122051345, 0.0012051333238525732]], \"type\": \"heatmap\"}], \"layout\": {\"height\": 500, \"margin\": {\"t\": 60}, \"width\": 500, \"xaxis\": {\"constrain\": \"domain\", \"scaleanchor\": \"y\"}, \"yaxis\": {\"autorange\": \"reversed\", \"constrain\": \"domain\"}, \"coloraxis\": {\"colorscale\": [[0.0, \"rgb(243, 231, 155)\"], [0.16666666666666666, \"rgb(250, 196, 132)\"], [0.3333333333333333, \"rgb(248, 160, 126)\"], [0.5, \"rgb(235, 127, 134)\"], [0.6666666666666666, \"rgb(206, 102, 147)\"], [0.8333333333333334, \"rgb(160, 89, 160)\"], [1.0, \"rgb(92, 83, 165)\"]]}}, \"name\": \"92\"}, {\"data\": [{\"coloraxis\": \"coloraxis\", \"name\": \"93\", \"z\": [[0.000950954338534163, 0.002113037757943525, 0.00876906330207078, 0.0014693655987033007, 0.008033638637227532, 0.008199798476968608, 0.005798600927818558, 0.0011733020799890791], [0.001168641179556834, 0.008530091192198158, 0.042914008760645814, 0.00808784959707175, 0.009053036532335098, 0.043664402370414974, 0.007061609209873634, 0.0014507487601596962], [0.0008876848491792722, 0.009032288265862954, 0.0344291171551556, 0.007393461722105966, 0.009682373554682015, 0.04171837516628877, 0.008168857805917008, 0.0012319152745715123], [0.008423402256202755, 0.008100015456206113, 0.0065381767169820195, 0.0068068535713880045, 0.005426887145499268, 0.010484835863336926, 0.008257466544838308, 0.0014577529885525784], [0.007688716977527976, 0.04779922214674811, 0.007818344990277564, 0.0017565884953261203, 0.0015745418307618897, 0.00997589327508673, 0.04725315693876623, 0.008492782253632604], [0.007700835089945949, 0.051807279334121395, 0.050796590325889075, 0.03004650938503034, 0.030586402732779856, 0.04647678222816465, 0.05145015578380023, 0.008219705756554424], [0.0023301212293035368, 0.008236728146722097, 0.041885683979391915, 0.046320744716323345, 0.056925982999152365, 0.05656299336481969, 0.009530531317325903, 0.001752115562194185], [0.0009882653652735073, 0.0021424076172387686, 0.008778589739341291, 0.006175869831808766, 0.00716075968882831, 0.006950109936895609, 0.007225685015091291, 0.001112290887594939]], \"type\": \"heatmap\"}], \"layout\": {\"height\": 500, \"margin\": {\"t\": 60}, \"width\": 500, \"xaxis\": {\"constrain\": \"domain\", \"scaleanchor\": \"y\"}, \"yaxis\": {\"autorange\": \"reversed\", \"constrain\": \"domain\"}, \"coloraxis\": {\"colorscale\": [[0.0, \"rgb(243, 231, 155)\"], [0.16666666666666666, \"rgb(250, 196, 132)\"], [0.3333333333333333, \"rgb(248, 160, 126)\"], [0.5, \"rgb(235, 127, 134)\"], [0.6666666666666666, \"rgb(206, 102, 147)\"], [0.8333333333333334, \"rgb(160, 89, 160)\"], [1.0, \"rgb(92, 83, 165)\"]]}}, \"name\": \"93\"}, {\"data\": [{\"coloraxis\": \"coloraxis\", \"name\": \"94\", \"z\": [[0.0009325742479910073, 0.002077145795533091, 0.008454712273745132, 0.001549161744469958, 0.007766479399039124, 0.00856488647937656, 0.00572909147636193, 0.0011101900144142277], [0.001149850405008585, 0.00841497091253182, 0.043993159930876456, 0.008525650606567266, 0.008573916266200044, 0.0417669674593415, 0.007196626654255586, 0.001249022023953235], [0.0008953928380237999, 0.008860339046574007, 0.03434163996051715, 0.0077452977230803195, 0.009409519982717555, 0.040257766225952105, 0.008381512133978511, 0.001135509563681865], [0.008375499858629714, 0.008000442264159814, 0.00651304319845453, 0.0066065956291401495, 0.00581414515887755, 0.01013902091431796, 0.008067115455313904, 0.0015898281266704488], [0.007783037728425567, 0.04628327728060206, 0.007966179648147222, 0.0018037479430743433, 0.0016766483145519606, 0.009560892395784155, 0.044481186264368526, 0.008654211971881556], [0.007504636154429884, 0.051703866370011856, 0.05101077256627979, 0.030500551316714208, 0.03206436240392028, 0.047479451345783914, 0.05351559094005667, 0.008217981094656242], [0.002192587047649155, 0.007848635501527677, 0.04601552514935716, 0.046608610122921, 0.05738554111811028, 0.05576194825443406, 0.008856287947500794, 0.0016886317109254128], [0.000980106076585393, 0.0021814893691876765, 0.00872715667393961, 0.006158658654924876, 0.007034885907545792, 0.007024862931193473, 0.007132980167885395, 0.0010086258578679344]], \"type\": \"heatmap\"}], \"layout\": {\"height\": 500, \"margin\": {\"t\": 60}, \"width\": 500, \"xaxis\": {\"constrain\": \"domain\", \"scaleanchor\": \"y\"}, \"yaxis\": {\"autorange\": \"reversed\", \"constrain\": \"domain\"}, \"coloraxis\": {\"colorscale\": [[0.0, \"rgb(243, 231, 155)\"], [0.16666666666666666, \"rgb(250, 196, 132)\"], [0.3333333333333333, \"rgb(248, 160, 126)\"], [0.5, \"rgb(235, 127, 134)\"], [0.6666666666666666, \"rgb(206, 102, 147)\"], [0.8333333333333334, \"rgb(160, 89, 160)\"], [1.0, \"rgb(92, 83, 165)\"]]}}, \"name\": \"94\"}, {\"data\": [{\"coloraxis\": \"coloraxis\", \"name\": \"95\", \"z\": [[0.0009289997628693943, 0.0019726777314301837, 0.008110546777398094, 0.0016295155860554407, 0.00757554948648343, 0.008976964815454621, 0.0055962982281476765, 0.0010431048159943387], [0.0011688364151617868, 0.008254994022526243, 0.04552184269367767, 0.008989831704559624, 0.008024445874654108, 0.04012839988462779, 0.0072674163465616375, 0.001082514286401152], [0.0009421489111295747, 0.008850120540551707, 0.03535294054890287, 0.007966424100091844, 0.009093112915966036, 0.039075534052766155, 0.008442350332609736, 0.0010479355706470399], [0.008310983041498155, 0.007844343783090962, 0.006602466966202678, 0.00651360052498457, 0.0061994574179176, 0.009762090699913406, 0.0078582621668011, 0.0017149210574826732], [0.007827056583136326, 0.044760545204620215, 0.00808548656689592, 0.001824709363397358, 0.0017784674273562877, 0.009271872699634726, 0.04188304709048971, 0.00873267514642117], [0.00739923537826016, 0.051844135785956785, 0.051287807238586156, 0.03098064874523023, 0.033347865726648176, 0.04875311427953495, 0.05523506063786235, 0.008377985474788192], [0.0020585442019598796, 0.007418670246177927, 0.049818829783319994, 0.04581497489613164, 0.05780265558661232, 0.053860298465047654, 0.008335192481283983, 0.0015839820026339313], [0.00098655812327284, 0.002208066845125242, 0.008607375236861203, 0.006226114486899127, 0.006862063548652024, 0.0071274487405690095, 0.007128580695665261, 0.0009223002484089887]], \"type\": \"heatmap\"}], \"layout\": {\"height\": 500, \"margin\": {\"t\": 60}, \"width\": 500, \"xaxis\": {\"constrain\": \"domain\", \"scaleanchor\": \"y\"}, \"yaxis\": {\"autorange\": \"reversed\", \"constrain\": \"domain\"}, \"coloraxis\": {\"colorscale\": [[0.0, \"rgb(243, 231, 155)\"], [0.16666666666666666, \"rgb(250, 196, 132)\"], [0.3333333333333333, \"rgb(248, 160, 126)\"], [0.5, \"rgb(235, 127, 134)\"], [0.6666666666666666, \"rgb(206, 102, 147)\"], [0.8333333333333334, \"rgb(160, 89, 160)\"], [1.0, \"rgb(92, 83, 165)\"]]}}, \"name\": \"95\"}, {\"data\": [{\"coloraxis\": \"coloraxis\", \"name\": \"96\", \"z\": [[0.0009332674765674382, 0.001814893390386785, 0.007799276352101802, 0.00168495131967057, 0.007461411853630704, 0.009340306960071244, 0.0054396624720555444, 0.000988199325271134], [0.001220798935983554, 0.008071470376894364, 0.04716643117203679, 0.009368799430838405, 0.007498697871387157, 0.03887254941702608, 0.007245244700110739, 0.0009757915900062578], [0.0010151508973688522, 0.008979481313558477, 0.03743460875930013, 0.007975651247016382, 0.008809336381514887, 0.03867819965675053, 0.008315926447145678, 0.000986945238176213], [0.008215686215967834, 0.007641820151500927, 0.00680217827067782, 0.006553143893041824, 0.006518019025802737, 0.009445466655353365, 0.007644820226128039, 0.0018021181153524966], [0.007795629981797913, 0.04354994734593693, 0.008123487759517876, 0.0018141749330972236, 0.00183447233187715, 0.009143993530774443, 0.03990361465646961, 0.008718160500364452], [0.007356900010100011, 0.052143819802028944, 0.05158918864034829, 0.031568865151573436, 0.03428429108143868, 0.04995595618616851, 0.056234964848806225, 0.008641809724607746], [0.0019412252114648526, 0.0069956683091133435, 0.052318681658848516, 0.04411319538398351, 0.05823045557157437, 0.05143342735493281, 0.008017309206734206, 0.0014651398982886642], [0.0010028140616602456, 0.002201974702112562, 0.008453605337687374, 0.006382987752473874, 0.006710482051471754, 0.00726131484142962, 0.0072436216162255485, 0.0008685154183958987]], \"type\": \"heatmap\"}], \"layout\": {\"height\": 500, \"margin\": {\"t\": 60}, \"width\": 500, \"xaxis\": {\"constrain\": \"domain\", \"scaleanchor\": \"y\"}, \"yaxis\": {\"autorange\": \"reversed\", \"constrain\": \"domain\"}, \"coloraxis\": {\"colorscale\": [[0.0, \"rgb(243, 231, 155)\"], [0.16666666666666666, \"rgb(250, 196, 132)\"], [0.3333333333333333, \"rgb(248, 160, 126)\"], [0.5, \"rgb(235, 127, 134)\"], [0.6666666666666666, \"rgb(206, 102, 147)\"], [0.8333333333333334, \"rgb(160, 89, 160)\"], [1.0, \"rgb(92, 83, 165)\"]]}}, \"name\": \"96\"}, {\"data\": [{\"coloraxis\": \"coloraxis\", \"name\": \"97\", \"z\": [[0.0009362865795620744, 0.001646296941673307, 0.007549403323800089, 0.0016935218596865356, 0.007432262135043318, 0.009565373847317867, 0.005295941359881146, 0.0009563092370258406], [0.0012860706297643523, 0.007902697095488348, 0.048754700398375254, 0.009607054878817453, 0.007085728184074178, 0.038092655588461886, 0.007176904937386167, 0.0009268575010325334], [0.0010950482464846824, 0.009142222823629108, 0.04004315557523383, 0.007813226045038852, 0.008606585374505002, 0.039040072651149324, 0.00803937016338654, 0.0009601083243677487], [0.008111386640867687, 0.007426884874109035, 0.007056578521388741, 0.006669713546274009, 0.0067305970663698025, 0.009198733044753665, 0.0074201118456880075, 0.0018287971230201655], [0.007697938300501424, 0.04296496384002882, 0.008109574050908475, 0.0017749969303203993, 0.0018279849324090666, 0.009164823158985473, 0.03883756039443095, 0.008649853169553277], [0.007356245553764481, 0.05242330214314307, 0.05180423899148753, 0.032305613352610896, 0.03481969634161022, 0.05066269825399643, 0.05629875952521396, 0.008915743613370634], [0.0018470923167331866, 0.006652426542999805, 0.05334540981367411, 0.04216948694261418, 0.058696936168136836, 0.04900576163921719, 0.00788859852175626, 0.0013533165374617724], [0.00102217396650288, 0.0021560040361949346, 0.008292485689709162, 0.006582554304326603, 0.006603449187109156, 0.007393897906646986, 0.007433742346325082, 0.0008520151645994029]], \"type\": \"heatmap\"}], \"layout\": {\"height\": 500, \"margin\": {\"t\": 60}, \"width\": 500, \"xaxis\": {\"constrain\": \"domain\", \"scaleanchor\": \"y\"}, \"yaxis\": {\"autorange\": \"reversed\", \"constrain\": \"domain\"}, \"coloraxis\": {\"colorscale\": [[0.0, \"rgb(243, 231, 155)\"], [0.16666666666666666, \"rgb(250, 196, 132)\"], [0.3333333333333333, \"rgb(248, 160, 126)\"], [0.5, \"rgb(235, 127, 134)\"], [0.6666666666666666, \"rgb(206, 102, 147)\"], [0.8333333333333334, \"rgb(160, 89, 160)\"], [1.0, \"rgb(92, 83, 165)\"]]}}, \"name\": \"97\"}, {\"data\": [{\"coloraxis\": \"coloraxis\", \"name\": \"98\", \"z\": [[0.0009291669654875313, 0.001517069278197184, 0.007399562231803361, 0.0016365004643168282, 0.0075158567341413705, 0.0095719115485207, 0.005201533334764634, 0.0009570706586286497], [0.0013319234332538233, 0.007796646495274732, 0.05011980258725752, 0.009664282493912928, 0.006878000530934047, 0.03790780882112558, 0.00712944502660022, 0.0009334362516599153], [0.0011532528329044243, 0.009205397898016296, 0.042211139963329265, 0.007567066612996607, 0.00852056068828451, 0.03995715722966176, 0.007691688439025283, 0.0009743626282228933], [0.008035665261053797, 0.007232835513603391, 0.0072852617138335326, 0.006764586892029139, 0.0067836686465196335, 0.009016349526462923, 0.007181181667884085, 0.001771231834143681], [0.0075635339288048975, 0.04335112160287292, 0.008097553976415543, 0.0017191699565326467, 0.0017588155442984687, 0.009314438629006836, 0.03904400204842335, 0.008565564482794212], [0.0073779257110297754, 0.05239771679939025, 0.05194332846141397, 0.03314882399774134, 0.034880371407891665, 0.05041216402992272, 0.05537649727896965, 0.009078432688243961], [0.0017885969326333062, 0.006483354825935907, 0.05302493292412484, 0.04080363159849626, 0.059226509638068525, 0.047129755529782026, 0.007921191725966076, 0.0012669791088257098], [0.0010333707687910612, 0.0020665004510070253, 0.008150057931060932, 0.006729082100756303, 0.006539454736079614, 0.00747077633159226, 0.007619507497839938, 0.0008754131514365083]], \"type\": \"heatmap\"}], \"layout\": {\"height\": 500, \"margin\": {\"t\": 60}, \"width\": 500, \"xaxis\": {\"constrain\": \"domain\", \"scaleanchor\": \"y\"}, \"yaxis\": {\"autorange\": \"reversed\", \"constrain\": \"domain\"}, \"coloraxis\": {\"colorscale\": [[0.0, \"rgb(243, 231, 155)\"], [0.16666666666666666, \"rgb(250, 196, 132)\"], [0.3333333333333333, \"rgb(248, 160, 126)\"], [0.5, \"rgb(235, 127, 134)\"], [0.6666666666666666, \"rgb(206, 102, 147)\"], [0.8333333333333334, \"rgb(160, 89, 160)\"], [1.0, \"rgb(92, 83, 165)\"]]}}, \"name\": \"98\"}, {\"data\": [{\"coloraxis\": \"coloraxis\", \"name\": \"99\", \"z\": [[0.000909399506050228, 0.0014667809565139583, 0.0073880212997326535, 0.0015185019870562059, 0.007747631750015877, 0.009321297589157526, 0.0051913720091172, 0.000991253081899758], [0.0013212966206680172, 0.007817282333404927, 0.05110327572330208, 0.009539759698283447, 0.0069289156413630485, 0.038452015100667, 0.007176091861205223, 0.00098737081965184], [0.0011670419029289293, 0.00906152376753612, 0.04286419922362115, 0.007347216697251543, 0.008543618682680347, 0.040944125364129294, 0.00736518583375438, 0.0010320442556511309], [0.008025103325918588, 0.00710171335137998, 0.007413421205481564, 0.006731568619451097, 0.006634554467316919, 0.008857008172110808, 0.006938162220729489, 0.0016230276941186746], [0.007438874519641043, 0.044830827558281335, 0.008137889754171868, 0.0016604849778201756, 0.0016514441388966713, 0.009535108173931113, 0.040884607710791075, 0.008480783937371556], [0.007410798994044886, 0.0519070572349902, 0.05213888785587657, 0.03399932987007457, 0.03444309496474749, 0.04898132340275991, 0.05365064322757829, 0.009038305150941593], [0.0017785640818762725, 0.006590443446299536, 0.05178551559167123, 0.040836024802113395, 0.05969092191477219, 0.04609680075612511, 0.008074712353322789, 0.0012175564092881245], [0.0010256065429162732, 0.0019384546556826185, 0.008014528813134253, 0.006714825312993323, 0.006483139666281117, 0.007435083646180283, 0.0076822600245034095, 0.0009363197487718375]], \"type\": \"heatmap\"}], \"layout\": {\"height\": 500, \"margin\": {\"t\": 60}, \"width\": 500, \"xaxis\": {\"constrain\": \"domain\", \"scaleanchor\": \"y\"}, \"yaxis\": {\"autorange\": \"reversed\", \"constrain\": \"domain\"}, \"coloraxis\": {\"colorscale\": [[0.0, \"rgb(243, 231, 155)\"], [0.16666666666666666, \"rgb(250, 196, 132)\"], [0.3333333333333333, \"rgb(248, 160, 126)\"], [0.5, \"rgb(235, 127, 134)\"], [0.6666666666666666, \"rgb(206, 102, 147)\"], [0.8333333333333334, \"rgb(160, 89, 160)\"], [1.0, \"rgb(92, 83, 165)\"]]}}, \"name\": \"99\"}]);\n",
       "                        }).then(function(){\n",
       "                            \n",
       "var gd = document.getElementById('556af411-bfda-4b2b-a3be-157b04aed165');\n",
       "var x = new MutationObserver(function (mutations, observer) {{\n",
       "        var display = window.getComputedStyle(gd).display;\n",
       "        if (!display || display === 'none') {{\n",
       "            console.log([gd, 'removed!']);\n",
       "            Plotly.purge(gd);\n",
       "            observer.disconnect();\n",
       "        }}\n",
       "}});\n",
       "\n",
       "// Listen for the removal of the full notebook cells\n",
       "var notebookContainer = gd.closest('#notebook-container');\n",
       "if (notebookContainer) {{\n",
       "    x.observe(notebookContainer, {childList: true});\n",
       "}}\n",
       "\n",
       "// Listen for the clearing of the current output cell\n",
       "var outputEl = gd.closest('.output');\n",
       "if (outputEl) {{\n",
       "    x.observe(outputEl, {childList: true});\n",
       "}}\n",
       "\n",
       "                        })                };                });            </script>        </div>"
      ]
     },
     "metadata": {},
     "output_type": "display_data"
    }
   ],
   "source": [
    "px.imshow(np.array(arr1), animation_frame=0, width=500, height=500, color_continuous_scale='sunset')"
   ]
  },
  {
   "cell_type": "code",
   "execution_count": null,
   "metadata": {},
   "outputs": [],
   "source": [
    "import tensorflow as tf"
   ]
  },
  {
   "cell_type": "code",
   "execution_count": 25,
   "metadata": {},
   "outputs": [],
   "source": [
    "(x_train, y_train), (x_test, y_test) = tf.keras.datasets.mnist.load_data()"
   ]
  },
  {
   "cell_type": "code",
   "execution_count": 29,
   "metadata": {},
   "outputs": [
    {
     "data": {
      "text/plain": [
       "(28, 28)"
      ]
     },
     "execution_count": 29,
     "metadata": {},
     "output_type": "execute_result"
    }
   ],
   "source": [
    "x_train[0].shape"
   ]
  },
  {
   "cell_type": "code",
   "execution_count": 30,
   "metadata": {},
   "outputs": [],
   "source": [
    "import scipy.ndimage"
   ]
  },
  {
   "cell_type": "code",
   "execution_count": 44,
   "metadata": {},
   "outputs": [],
   "source": [
    "test_arr = scipy.ndimage.zoom(x_train[0], 0.58, order=3)"
   ]
  },
  {
   "cell_type": "code",
   "execution_count": 43,
   "metadata": {},
   "outputs": [
    {
     "data": {
      "text/plain": [
       "(16, 16)"
      ]
     },
     "execution_count": 43,
     "metadata": {},
     "output_type": "execute_result"
    }
   ],
   "source": [
    "test_arr"
   ]
  },
  {
   "cell_type": "code",
   "execution_count": 59,
   "metadata": {},
   "outputs": [
    {
     "data": {
      "application/vnd.plotly.v1+json": {
       "config": {
        "plotlyServerURL": "https://plot.ly"
       },
       "data": [
        {
         "coloraxis": "coloraxis",
         "hovertemplate": "x: %{x}<br>y: %{y}<br>color: %{z}<extra></extra>",
         "name": "0",
         "type": "heatmap",
         "xaxis": "x",
         "yaxis": "y",
         "z": [
          [
           0,
           0,
           0,
           0,
           0,
           0,
           0,
           0,
           0,
           0,
           0,
           0,
           0,
           0,
           0,
           0
          ],
          [
           0,
           0,
           0,
           0,
           0,
           0,
           0,
           0,
           0,
           0,
           0,
           0,
           0,
           0,
           0,
           0
          ],
          [
           0,
           0,
           0,
           0,
           0,
           0,
           0.0003559563360227812,
           0.0005932605600379687,
           0.0007119126720455624,
           0,
           0,
           0,
           0,
           0,
           0,
           0
          ],
          [
           0,
           0,
           0,
           0,
           0,
           0,
           0.005576649264356906,
           0.01079734219269103,
           0.011983863312766968,
           0.023018509729473186,
           0.02634076886568581,
           0.023255813953488372,
           0.030256288561936403,
           0.0072377788324632176,
           0.00023730422401518748,
           0
          ],
          [
           0,
           0,
           0,
           0,
           0.010322733744660655,
           0.030256288561936403,
           0.030256288561936403,
           0.029900332225913623,
           0.029069767441860465,
           0.030256288561936403,
           0.007831039392501186,
           0.006763170384432843,
           0.003203607024205031,
           0,
           0,
           0
          ],
          [
           0,
           0,
           0,
           0.00011865211200759374,
           0.0010678690080683437,
           0.018509729473184623,
           0.026815377313716183,
           0.028476506881822496,
           0,
           0.008424299952539155,
           0,
           0.00023730422401518748,
           0,
           0,
           0,
           0
          ],
          [
           0,
           0,
           0,
           0,
           0,
           0,
           0.013407688656858091,
           0.026459420977693403,
           0,
           0,
           0,
           0,
           0,
           0,
           0,
           0
          ],
          [
           0,
           0,
           0,
           0,
           0,
           0,
           0,
           0.025510204081632654,
           0.01459420977693403,
           0.004627432368296156,
           0,
           0,
           0,
           0,
           0,
           0
          ],
          [
           0,
           0,
           0,
           0,
           0,
           0,
           0,
           0.0009492168960607499,
           0.024560987185571904,
           0.030256288561936403,
           0.00794969150450878,
           0,
           0,
           0,
           0,
           0
          ],
          [
           0,
           0,
           0,
           0,
           0,
           0,
           0,
           0.00011865211200759374,
           0,
           0.011153298528713811,
           0.030256288561936403,
           0.005457997152349312,
           0.0003559563360227812,
           0,
           0,
           0
          ],
          [
           0,
           0,
           0,
           0,
           0,
           0,
           0,
           0,
           0.009492168960607499,
           0.02349311817750356,
           0.030018984337921214,
           0.004034171808258187,
           0.00047460844803037496,
           0,
           0,
           0
          ],
          [
           0,
           0,
           0,
           0,
           0.00047460844803037496,
           0,
           0.007356430944470811,
           0.027052681537731372,
           0.03013763644992881,
           0.030256288561936403,
           0.013407688656858091,
           0.0003559563360227812,
           0,
           0,
           0,
           0
          ],
          [
           0,
           0,
           0,
           0,
           0.013526340768865686,
           0.021950640721404843,
           0.030256288561936403,
           0.029900332225913623,
           0.014475557664926435,
           0.0008305647840531562,
           0,
           0.00011865211200759374,
           0,
           0,
           0,
           0
          ],
          [
           0,
           0.00023730422401518748,
           0.005932605600379687,
           0.030256288561936403,
           0.030256288561936403,
           0.025510204081632654,
           0.02064546748932131,
           0.0015424774560987185,
           0.00023730422401518748,
           0,
           0,
           0,
           0,
           0,
           0,
           0
          ],
          [
           0,
           0,
           0,
           0,
           0,
           0,
           0.00023730422401518748,
           0,
           0,
           0,
           0,
           0,
           0,
           0,
           0,
           0
          ],
          [
           0,
           0,
           0,
           0,
           0,
           0,
           0,
           0,
           0,
           0,
           0,
           0,
           0,
           0,
           0,
           0
          ]
         ]
        }
       ],
       "layout": {
        "coloraxis": {
         "colorscale": [
          [
           0,
           "rgb(243, 231, 155)"
          ],
          [
           0.16666666666666666,
           "rgb(250, 196, 132)"
          ],
          [
           0.3333333333333333,
           "rgb(248, 160, 126)"
          ],
          [
           0.5,
           "rgb(235, 127, 134)"
          ],
          [
           0.6666666666666666,
           "rgb(206, 102, 147)"
          ],
          [
           0.8333333333333334,
           "rgb(160, 89, 160)"
          ],
          [
           1,
           "rgb(92, 83, 165)"
          ]
         ]
        },
        "height": 500,
        "margin": {
         "t": 60
        },
        "template": {
         "data": {
          "bar": [
           {
            "error_x": {
             "color": "#2a3f5f"
            },
            "error_y": {
             "color": "#2a3f5f"
            },
            "marker": {
             "line": {
              "color": "#E5ECF6",
              "width": 0.5
             }
            },
            "type": "bar"
           }
          ],
          "barpolar": [
           {
            "marker": {
             "line": {
              "color": "#E5ECF6",
              "width": 0.5
             }
            },
            "type": "barpolar"
           }
          ],
          "carpet": [
           {
            "aaxis": {
             "endlinecolor": "#2a3f5f",
             "gridcolor": "white",
             "linecolor": "white",
             "minorgridcolor": "white",
             "startlinecolor": "#2a3f5f"
            },
            "baxis": {
             "endlinecolor": "#2a3f5f",
             "gridcolor": "white",
             "linecolor": "white",
             "minorgridcolor": "white",
             "startlinecolor": "#2a3f5f"
            },
            "type": "carpet"
           }
          ],
          "choropleth": [
           {
            "colorbar": {
             "outlinewidth": 0,
             "ticks": ""
            },
            "type": "choropleth"
           }
          ],
          "contour": [
           {
            "colorbar": {
             "outlinewidth": 0,
             "ticks": ""
            },
            "colorscale": [
             [
              0,
              "#0d0887"
             ],
             [
              0.1111111111111111,
              "#46039f"
             ],
             [
              0.2222222222222222,
              "#7201a8"
             ],
             [
              0.3333333333333333,
              "#9c179e"
             ],
             [
              0.4444444444444444,
              "#bd3786"
             ],
             [
              0.5555555555555556,
              "#d8576b"
             ],
             [
              0.6666666666666666,
              "#ed7953"
             ],
             [
              0.7777777777777778,
              "#fb9f3a"
             ],
             [
              0.8888888888888888,
              "#fdca26"
             ],
             [
              1,
              "#f0f921"
             ]
            ],
            "type": "contour"
           }
          ],
          "contourcarpet": [
           {
            "colorbar": {
             "outlinewidth": 0,
             "ticks": ""
            },
            "type": "contourcarpet"
           }
          ],
          "heatmap": [
           {
            "colorbar": {
             "outlinewidth": 0,
             "ticks": ""
            },
            "colorscale": [
             [
              0,
              "#0d0887"
             ],
             [
              0.1111111111111111,
              "#46039f"
             ],
             [
              0.2222222222222222,
              "#7201a8"
             ],
             [
              0.3333333333333333,
              "#9c179e"
             ],
             [
              0.4444444444444444,
              "#bd3786"
             ],
             [
              0.5555555555555556,
              "#d8576b"
             ],
             [
              0.6666666666666666,
              "#ed7953"
             ],
             [
              0.7777777777777778,
              "#fb9f3a"
             ],
             [
              0.8888888888888888,
              "#fdca26"
             ],
             [
              1,
              "#f0f921"
             ]
            ],
            "type": "heatmap"
           }
          ],
          "heatmapgl": [
           {
            "colorbar": {
             "outlinewidth": 0,
             "ticks": ""
            },
            "colorscale": [
             [
              0,
              "#0d0887"
             ],
             [
              0.1111111111111111,
              "#46039f"
             ],
             [
              0.2222222222222222,
              "#7201a8"
             ],
             [
              0.3333333333333333,
              "#9c179e"
             ],
             [
              0.4444444444444444,
              "#bd3786"
             ],
             [
              0.5555555555555556,
              "#d8576b"
             ],
             [
              0.6666666666666666,
              "#ed7953"
             ],
             [
              0.7777777777777778,
              "#fb9f3a"
             ],
             [
              0.8888888888888888,
              "#fdca26"
             ],
             [
              1,
              "#f0f921"
             ]
            ],
            "type": "heatmapgl"
           }
          ],
          "histogram": [
           {
            "marker": {
             "colorbar": {
              "outlinewidth": 0,
              "ticks": ""
             }
            },
            "type": "histogram"
           }
          ],
          "histogram2d": [
           {
            "colorbar": {
             "outlinewidth": 0,
             "ticks": ""
            },
            "colorscale": [
             [
              0,
              "#0d0887"
             ],
             [
              0.1111111111111111,
              "#46039f"
             ],
             [
              0.2222222222222222,
              "#7201a8"
             ],
             [
              0.3333333333333333,
              "#9c179e"
             ],
             [
              0.4444444444444444,
              "#bd3786"
             ],
             [
              0.5555555555555556,
              "#d8576b"
             ],
             [
              0.6666666666666666,
              "#ed7953"
             ],
             [
              0.7777777777777778,
              "#fb9f3a"
             ],
             [
              0.8888888888888888,
              "#fdca26"
             ],
             [
              1,
              "#f0f921"
             ]
            ],
            "type": "histogram2d"
           }
          ],
          "histogram2dcontour": [
           {
            "colorbar": {
             "outlinewidth": 0,
             "ticks": ""
            },
            "colorscale": [
             [
              0,
              "#0d0887"
             ],
             [
              0.1111111111111111,
              "#46039f"
             ],
             [
              0.2222222222222222,
              "#7201a8"
             ],
             [
              0.3333333333333333,
              "#9c179e"
             ],
             [
              0.4444444444444444,
              "#bd3786"
             ],
             [
              0.5555555555555556,
              "#d8576b"
             ],
             [
              0.6666666666666666,
              "#ed7953"
             ],
             [
              0.7777777777777778,
              "#fb9f3a"
             ],
             [
              0.8888888888888888,
              "#fdca26"
             ],
             [
              1,
              "#f0f921"
             ]
            ],
            "type": "histogram2dcontour"
           }
          ],
          "mesh3d": [
           {
            "colorbar": {
             "outlinewidth": 0,
             "ticks": ""
            },
            "type": "mesh3d"
           }
          ],
          "parcoords": [
           {
            "line": {
             "colorbar": {
              "outlinewidth": 0,
              "ticks": ""
             }
            },
            "type": "parcoords"
           }
          ],
          "pie": [
           {
            "automargin": true,
            "type": "pie"
           }
          ],
          "scatter": [
           {
            "marker": {
             "colorbar": {
              "outlinewidth": 0,
              "ticks": ""
             }
            },
            "type": "scatter"
           }
          ],
          "scatter3d": [
           {
            "line": {
             "colorbar": {
              "outlinewidth": 0,
              "ticks": ""
             }
            },
            "marker": {
             "colorbar": {
              "outlinewidth": 0,
              "ticks": ""
             }
            },
            "type": "scatter3d"
           }
          ],
          "scattercarpet": [
           {
            "marker": {
             "colorbar": {
              "outlinewidth": 0,
              "ticks": ""
             }
            },
            "type": "scattercarpet"
           }
          ],
          "scattergeo": [
           {
            "marker": {
             "colorbar": {
              "outlinewidth": 0,
              "ticks": ""
             }
            },
            "type": "scattergeo"
           }
          ],
          "scattergl": [
           {
            "marker": {
             "colorbar": {
              "outlinewidth": 0,
              "ticks": ""
             }
            },
            "type": "scattergl"
           }
          ],
          "scattermapbox": [
           {
            "marker": {
             "colorbar": {
              "outlinewidth": 0,
              "ticks": ""
             }
            },
            "type": "scattermapbox"
           }
          ],
          "scatterpolar": [
           {
            "marker": {
             "colorbar": {
              "outlinewidth": 0,
              "ticks": ""
             }
            },
            "type": "scatterpolar"
           }
          ],
          "scatterpolargl": [
           {
            "marker": {
             "colorbar": {
              "outlinewidth": 0,
              "ticks": ""
             }
            },
            "type": "scatterpolargl"
           }
          ],
          "scatterternary": [
           {
            "marker": {
             "colorbar": {
              "outlinewidth": 0,
              "ticks": ""
             }
            },
            "type": "scatterternary"
           }
          ],
          "surface": [
           {
            "colorbar": {
             "outlinewidth": 0,
             "ticks": ""
            },
            "colorscale": [
             [
              0,
              "#0d0887"
             ],
             [
              0.1111111111111111,
              "#46039f"
             ],
             [
              0.2222222222222222,
              "#7201a8"
             ],
             [
              0.3333333333333333,
              "#9c179e"
             ],
             [
              0.4444444444444444,
              "#bd3786"
             ],
             [
              0.5555555555555556,
              "#d8576b"
             ],
             [
              0.6666666666666666,
              "#ed7953"
             ],
             [
              0.7777777777777778,
              "#fb9f3a"
             ],
             [
              0.8888888888888888,
              "#fdca26"
             ],
             [
              1,
              "#f0f921"
             ]
            ],
            "type": "surface"
           }
          ],
          "table": [
           {
            "cells": {
             "fill": {
              "color": "#EBF0F8"
             },
             "line": {
              "color": "white"
             }
            },
            "header": {
             "fill": {
              "color": "#C8D4E3"
             },
             "line": {
              "color": "white"
             }
            },
            "type": "table"
           }
          ]
         },
         "layout": {
          "annotationdefaults": {
           "arrowcolor": "#2a3f5f",
           "arrowhead": 0,
           "arrowwidth": 1
          },
          "autotypenumbers": "strict",
          "coloraxis": {
           "colorbar": {
            "outlinewidth": 0,
            "ticks": ""
           }
          },
          "colorscale": {
           "diverging": [
            [
             0,
             "#8e0152"
            ],
            [
             0.1,
             "#c51b7d"
            ],
            [
             0.2,
             "#de77ae"
            ],
            [
             0.3,
             "#f1b6da"
            ],
            [
             0.4,
             "#fde0ef"
            ],
            [
             0.5,
             "#f7f7f7"
            ],
            [
             0.6,
             "#e6f5d0"
            ],
            [
             0.7,
             "#b8e186"
            ],
            [
             0.8,
             "#7fbc41"
            ],
            [
             0.9,
             "#4d9221"
            ],
            [
             1,
             "#276419"
            ]
           ],
           "sequential": [
            [
             0,
             "#0d0887"
            ],
            [
             0.1111111111111111,
             "#46039f"
            ],
            [
             0.2222222222222222,
             "#7201a8"
            ],
            [
             0.3333333333333333,
             "#9c179e"
            ],
            [
             0.4444444444444444,
             "#bd3786"
            ],
            [
             0.5555555555555556,
             "#d8576b"
            ],
            [
             0.6666666666666666,
             "#ed7953"
            ],
            [
             0.7777777777777778,
             "#fb9f3a"
            ],
            [
             0.8888888888888888,
             "#fdca26"
            ],
            [
             1,
             "#f0f921"
            ]
           ],
           "sequentialminus": [
            [
             0,
             "#0d0887"
            ],
            [
             0.1111111111111111,
             "#46039f"
            ],
            [
             0.2222222222222222,
             "#7201a8"
            ],
            [
             0.3333333333333333,
             "#9c179e"
            ],
            [
             0.4444444444444444,
             "#bd3786"
            ],
            [
             0.5555555555555556,
             "#d8576b"
            ],
            [
             0.6666666666666666,
             "#ed7953"
            ],
            [
             0.7777777777777778,
             "#fb9f3a"
            ],
            [
             0.8888888888888888,
             "#fdca26"
            ],
            [
             1,
             "#f0f921"
            ]
           ]
          },
          "colorway": [
           "#636efa",
           "#EF553B",
           "#00cc96",
           "#ab63fa",
           "#FFA15A",
           "#19d3f3",
           "#FF6692",
           "#B6E880",
           "#FF97FF",
           "#FECB52"
          ],
          "font": {
           "color": "#2a3f5f"
          },
          "geo": {
           "bgcolor": "white",
           "lakecolor": "white",
           "landcolor": "#E5ECF6",
           "showlakes": true,
           "showland": true,
           "subunitcolor": "white"
          },
          "hoverlabel": {
           "align": "left"
          },
          "hovermode": "closest",
          "mapbox": {
           "style": "light"
          },
          "paper_bgcolor": "white",
          "plot_bgcolor": "#E5ECF6",
          "polar": {
           "angularaxis": {
            "gridcolor": "white",
            "linecolor": "white",
            "ticks": ""
           },
           "bgcolor": "#E5ECF6",
           "radialaxis": {
            "gridcolor": "white",
            "linecolor": "white",
            "ticks": ""
           }
          },
          "scene": {
           "xaxis": {
            "backgroundcolor": "#E5ECF6",
            "gridcolor": "white",
            "gridwidth": 2,
            "linecolor": "white",
            "showbackground": true,
            "ticks": "",
            "zerolinecolor": "white"
           },
           "yaxis": {
            "backgroundcolor": "#E5ECF6",
            "gridcolor": "white",
            "gridwidth": 2,
            "linecolor": "white",
            "showbackground": true,
            "ticks": "",
            "zerolinecolor": "white"
           },
           "zaxis": {
            "backgroundcolor": "#E5ECF6",
            "gridcolor": "white",
            "gridwidth": 2,
            "linecolor": "white",
            "showbackground": true,
            "ticks": "",
            "zerolinecolor": "white"
           }
          },
          "shapedefaults": {
           "line": {
            "color": "#2a3f5f"
           }
          },
          "ternary": {
           "aaxis": {
            "gridcolor": "white",
            "linecolor": "white",
            "ticks": ""
           },
           "baxis": {
            "gridcolor": "white",
            "linecolor": "white",
            "ticks": ""
           },
           "bgcolor": "#E5ECF6",
           "caxis": {
            "gridcolor": "white",
            "linecolor": "white",
            "ticks": ""
           }
          },
          "title": {
           "x": 0.05
          },
          "xaxis": {
           "automargin": true,
           "gridcolor": "white",
           "linecolor": "white",
           "ticks": "",
           "title": {
            "standoff": 15
           },
           "zerolinecolor": "white",
           "zerolinewidth": 2
          },
          "yaxis": {
           "automargin": true,
           "gridcolor": "white",
           "linecolor": "white",
           "ticks": "",
           "title": {
            "standoff": 15
           },
           "zerolinecolor": "white",
           "zerolinewidth": 2
          }
         }
        },
        "width": 500,
        "xaxis": {
         "anchor": "y",
         "constrain": "domain",
         "domain": [
          0,
          1
         ],
         "scaleanchor": "y"
        },
        "yaxis": {
         "anchor": "x",
         "autorange": "reversed",
         "constrain": "domain",
         "domain": [
          0,
          1
         ]
        }
       }
      },
      "text/html": [
       "<div>                            <div id=\"4bd8bf56-0736-4d8d-808b-3dce7e78ca60\" class=\"plotly-graph-div\" style=\"height:500px; width:500px;\"></div>            <script type=\"text/javascript\">                require([\"plotly\"], function(Plotly) {                    window.PLOTLYENV=window.PLOTLYENV || {};                                    if (document.getElementById(\"4bd8bf56-0736-4d8d-808b-3dce7e78ca60\")) {                    Plotly.newPlot(                        \"4bd8bf56-0736-4d8d-808b-3dce7e78ca60\",                        [{\"coloraxis\": \"coloraxis\", \"hovertemplate\": \"x: %{x}<br>y: %{y}<br>color: %{z}<extra></extra>\", \"name\": \"0\", \"type\": \"heatmap\", \"xaxis\": \"x\", \"yaxis\": \"y\", \"z\": [[0.0, 0.0, 0.0, 0.0, 0.0, 0.0, 0.0, 0.0, 0.0, 0.0, 0.0, 0.0, 0.0, 0.0, 0.0, 0.0], [0.0, 0.0, 0.0, 0.0, 0.0, 0.0, 0.0, 0.0, 0.0, 0.0, 0.0, 0.0, 0.0, 0.0, 0.0, 0.0], [0.0, 0.0, 0.0, 0.0, 0.0, 0.0, 0.0003559563360227812, 0.0005932605600379687, 0.0007119126720455624, 0.0, 0.0, 0.0, 0.0, 0.0, 0.0, 0.0], [0.0, 0.0, 0.0, 0.0, 0.0, 0.0, 0.005576649264356906, 0.01079734219269103, 0.011983863312766968, 0.023018509729473186, 0.02634076886568581, 0.023255813953488372, 0.030256288561936403, 0.0072377788324632176, 0.00023730422401518748, 0.0], [0.0, 0.0, 0.0, 0.0, 0.010322733744660655, 0.030256288561936403, 0.030256288561936403, 0.029900332225913623, 0.029069767441860465, 0.030256288561936403, 0.007831039392501186, 0.006763170384432843, 0.003203607024205031, 0.0, 0.0, 0.0], [0.0, 0.0, 0.0, 0.00011865211200759374, 0.0010678690080683437, 0.018509729473184623, 0.026815377313716183, 0.028476506881822496, 0.0, 0.008424299952539155, 0.0, 0.00023730422401518748, 0.0, 0.0, 0.0, 0.0], [0.0, 0.0, 0.0, 0.0, 0.0, 0.0, 0.013407688656858091, 0.026459420977693403, 0.0, 0.0, 0.0, 0.0, 0.0, 0.0, 0.0, 0.0], [0.0, 0.0, 0.0, 0.0, 0.0, 0.0, 0.0, 0.025510204081632654, 0.01459420977693403, 0.004627432368296156, 0.0, 0.0, 0.0, 0.0, 0.0, 0.0], [0.0, 0.0, 0.0, 0.0, 0.0, 0.0, 0.0, 0.0009492168960607499, 0.024560987185571904, 0.030256288561936403, 0.00794969150450878, 0.0, 0.0, 0.0, 0.0, 0.0], [0.0, 0.0, 0.0, 0.0, 0.0, 0.0, 0.0, 0.00011865211200759374, 0.0, 0.011153298528713811, 0.030256288561936403, 0.005457997152349312, 0.0003559563360227812, 0.0, 0.0, 0.0], [0.0, 0.0, 0.0, 0.0, 0.0, 0.0, 0.0, 0.0, 0.009492168960607499, 0.02349311817750356, 0.030018984337921214, 0.004034171808258187, 0.00047460844803037496, 0.0, 0.0, 0.0], [0.0, 0.0, 0.0, 0.0, 0.00047460844803037496, 0.0, 0.007356430944470811, 0.027052681537731372, 0.03013763644992881, 0.030256288561936403, 0.013407688656858091, 0.0003559563360227812, 0.0, 0.0, 0.0, 0.0], [0.0, 0.0, 0.0, 0.0, 0.013526340768865686, 0.021950640721404843, 0.030256288561936403, 0.029900332225913623, 0.014475557664926435, 0.0008305647840531562, 0.0, 0.00011865211200759374, 0.0, 0.0, 0.0, 0.0], [0.0, 0.00023730422401518748, 0.005932605600379687, 0.030256288561936403, 0.030256288561936403, 0.025510204081632654, 0.02064546748932131, 0.0015424774560987185, 0.00023730422401518748, 0.0, 0.0, 0.0, 0.0, 0.0, 0.0, 0.0], [0.0, 0.0, 0.0, 0.0, 0.0, 0.0, 0.00023730422401518748, 0.0, 0.0, 0.0, 0.0, 0.0, 0.0, 0.0, 0.0, 0.0], [0.0, 0.0, 0.0, 0.0, 0.0, 0.0, 0.0, 0.0, 0.0, 0.0, 0.0, 0.0, 0.0, 0.0, 0.0, 0.0]]}],                        {\"coloraxis\": {\"colorscale\": [[0.0, \"rgb(243, 231, 155)\"], [0.16666666666666666, \"rgb(250, 196, 132)\"], [0.3333333333333333, \"rgb(248, 160, 126)\"], [0.5, \"rgb(235, 127, 134)\"], [0.6666666666666666, \"rgb(206, 102, 147)\"], [0.8333333333333334, \"rgb(160, 89, 160)\"], [1.0, \"rgb(92, 83, 165)\"]]}, \"height\": 500, \"margin\": {\"t\": 60}, \"template\": {\"data\": {\"bar\": [{\"error_x\": {\"color\": \"#2a3f5f\"}, \"error_y\": {\"color\": \"#2a3f5f\"}, \"marker\": {\"line\": {\"color\": \"#E5ECF6\", \"width\": 0.5}}, \"type\": \"bar\"}], \"barpolar\": [{\"marker\": {\"line\": {\"color\": \"#E5ECF6\", \"width\": 0.5}}, \"type\": \"barpolar\"}], \"carpet\": [{\"aaxis\": {\"endlinecolor\": \"#2a3f5f\", \"gridcolor\": \"white\", \"linecolor\": \"white\", \"minorgridcolor\": \"white\", \"startlinecolor\": \"#2a3f5f\"}, \"baxis\": {\"endlinecolor\": \"#2a3f5f\", \"gridcolor\": \"white\", \"linecolor\": \"white\", \"minorgridcolor\": \"white\", \"startlinecolor\": \"#2a3f5f\"}, \"type\": \"carpet\"}], \"choropleth\": [{\"colorbar\": {\"outlinewidth\": 0, \"ticks\": \"\"}, \"type\": \"choropleth\"}], \"contour\": [{\"colorbar\": {\"outlinewidth\": 0, \"ticks\": \"\"}, \"colorscale\": [[0.0, \"#0d0887\"], [0.1111111111111111, \"#46039f\"], [0.2222222222222222, \"#7201a8\"], [0.3333333333333333, \"#9c179e\"], [0.4444444444444444, \"#bd3786\"], [0.5555555555555556, \"#d8576b\"], [0.6666666666666666, \"#ed7953\"], [0.7777777777777778, \"#fb9f3a\"], [0.8888888888888888, \"#fdca26\"], [1.0, \"#f0f921\"]], \"type\": \"contour\"}], \"contourcarpet\": [{\"colorbar\": {\"outlinewidth\": 0, \"ticks\": \"\"}, \"type\": \"contourcarpet\"}], \"heatmap\": [{\"colorbar\": {\"outlinewidth\": 0, \"ticks\": \"\"}, \"colorscale\": [[0.0, \"#0d0887\"], [0.1111111111111111, \"#46039f\"], [0.2222222222222222, \"#7201a8\"], [0.3333333333333333, \"#9c179e\"], [0.4444444444444444, \"#bd3786\"], [0.5555555555555556, \"#d8576b\"], [0.6666666666666666, \"#ed7953\"], [0.7777777777777778, \"#fb9f3a\"], [0.8888888888888888, \"#fdca26\"], [1.0, \"#f0f921\"]], \"type\": \"heatmap\"}], \"heatmapgl\": [{\"colorbar\": {\"outlinewidth\": 0, \"ticks\": \"\"}, \"colorscale\": [[0.0, \"#0d0887\"], [0.1111111111111111, \"#46039f\"], [0.2222222222222222, \"#7201a8\"], [0.3333333333333333, \"#9c179e\"], [0.4444444444444444, \"#bd3786\"], [0.5555555555555556, \"#d8576b\"], [0.6666666666666666, \"#ed7953\"], [0.7777777777777778, \"#fb9f3a\"], [0.8888888888888888, \"#fdca26\"], [1.0, \"#f0f921\"]], \"type\": \"heatmapgl\"}], \"histogram\": [{\"marker\": {\"colorbar\": {\"outlinewidth\": 0, \"ticks\": \"\"}}, \"type\": \"histogram\"}], \"histogram2d\": [{\"colorbar\": {\"outlinewidth\": 0, \"ticks\": \"\"}, \"colorscale\": [[0.0, \"#0d0887\"], [0.1111111111111111, \"#46039f\"], [0.2222222222222222, \"#7201a8\"], [0.3333333333333333, \"#9c179e\"], [0.4444444444444444, \"#bd3786\"], [0.5555555555555556, \"#d8576b\"], [0.6666666666666666, \"#ed7953\"], [0.7777777777777778, \"#fb9f3a\"], [0.8888888888888888, \"#fdca26\"], [1.0, \"#f0f921\"]], \"type\": \"histogram2d\"}], \"histogram2dcontour\": [{\"colorbar\": {\"outlinewidth\": 0, \"ticks\": \"\"}, \"colorscale\": [[0.0, \"#0d0887\"], [0.1111111111111111, \"#46039f\"], [0.2222222222222222, \"#7201a8\"], [0.3333333333333333, \"#9c179e\"], [0.4444444444444444, \"#bd3786\"], [0.5555555555555556, \"#d8576b\"], [0.6666666666666666, \"#ed7953\"], [0.7777777777777778, \"#fb9f3a\"], [0.8888888888888888, \"#fdca26\"], [1.0, \"#f0f921\"]], \"type\": \"histogram2dcontour\"}], \"mesh3d\": [{\"colorbar\": {\"outlinewidth\": 0, \"ticks\": \"\"}, \"type\": \"mesh3d\"}], \"parcoords\": [{\"line\": {\"colorbar\": {\"outlinewidth\": 0, \"ticks\": \"\"}}, \"type\": \"parcoords\"}], \"pie\": [{\"automargin\": true, \"type\": \"pie\"}], \"scatter\": [{\"marker\": {\"colorbar\": {\"outlinewidth\": 0, \"ticks\": \"\"}}, \"type\": \"scatter\"}], \"scatter3d\": [{\"line\": {\"colorbar\": {\"outlinewidth\": 0, \"ticks\": \"\"}}, \"marker\": {\"colorbar\": {\"outlinewidth\": 0, \"ticks\": \"\"}}, \"type\": \"scatter3d\"}], \"scattercarpet\": [{\"marker\": {\"colorbar\": {\"outlinewidth\": 0, \"ticks\": \"\"}}, \"type\": \"scattercarpet\"}], \"scattergeo\": [{\"marker\": {\"colorbar\": {\"outlinewidth\": 0, \"ticks\": \"\"}}, \"type\": \"scattergeo\"}], \"scattergl\": [{\"marker\": {\"colorbar\": {\"outlinewidth\": 0, \"ticks\": \"\"}}, \"type\": \"scattergl\"}], \"scattermapbox\": [{\"marker\": {\"colorbar\": {\"outlinewidth\": 0, \"ticks\": \"\"}}, \"type\": \"scattermapbox\"}], \"scatterpolar\": [{\"marker\": {\"colorbar\": {\"outlinewidth\": 0, \"ticks\": \"\"}}, \"type\": \"scatterpolar\"}], \"scatterpolargl\": [{\"marker\": {\"colorbar\": {\"outlinewidth\": 0, \"ticks\": \"\"}}, \"type\": \"scatterpolargl\"}], \"scatterternary\": [{\"marker\": {\"colorbar\": {\"outlinewidth\": 0, \"ticks\": \"\"}}, \"type\": \"scatterternary\"}], \"surface\": [{\"colorbar\": {\"outlinewidth\": 0, \"ticks\": \"\"}, \"colorscale\": [[0.0, \"#0d0887\"], [0.1111111111111111, \"#46039f\"], [0.2222222222222222, \"#7201a8\"], [0.3333333333333333, \"#9c179e\"], [0.4444444444444444, \"#bd3786\"], [0.5555555555555556, \"#d8576b\"], [0.6666666666666666, \"#ed7953\"], [0.7777777777777778, \"#fb9f3a\"], [0.8888888888888888, \"#fdca26\"], [1.0, \"#f0f921\"]], \"type\": \"surface\"}], \"table\": [{\"cells\": {\"fill\": {\"color\": \"#EBF0F8\"}, \"line\": {\"color\": \"white\"}}, \"header\": {\"fill\": {\"color\": \"#C8D4E3\"}, \"line\": {\"color\": \"white\"}}, \"type\": \"table\"}]}, \"layout\": {\"annotationdefaults\": {\"arrowcolor\": \"#2a3f5f\", \"arrowhead\": 0, \"arrowwidth\": 1}, \"autotypenumbers\": \"strict\", \"coloraxis\": {\"colorbar\": {\"outlinewidth\": 0, \"ticks\": \"\"}}, \"colorscale\": {\"diverging\": [[0, \"#8e0152\"], [0.1, \"#c51b7d\"], [0.2, \"#de77ae\"], [0.3, \"#f1b6da\"], [0.4, \"#fde0ef\"], [0.5, \"#f7f7f7\"], [0.6, \"#e6f5d0\"], [0.7, \"#b8e186\"], [0.8, \"#7fbc41\"], [0.9, \"#4d9221\"], [1, \"#276419\"]], \"sequential\": [[0.0, \"#0d0887\"], [0.1111111111111111, \"#46039f\"], [0.2222222222222222, \"#7201a8\"], [0.3333333333333333, \"#9c179e\"], [0.4444444444444444, \"#bd3786\"], [0.5555555555555556, \"#d8576b\"], [0.6666666666666666, \"#ed7953\"], [0.7777777777777778, \"#fb9f3a\"], [0.8888888888888888, \"#fdca26\"], [1.0, \"#f0f921\"]], \"sequentialminus\": [[0.0, \"#0d0887\"], [0.1111111111111111, \"#46039f\"], [0.2222222222222222, \"#7201a8\"], [0.3333333333333333, \"#9c179e\"], [0.4444444444444444, \"#bd3786\"], [0.5555555555555556, \"#d8576b\"], [0.6666666666666666, \"#ed7953\"], [0.7777777777777778, \"#fb9f3a\"], [0.8888888888888888, \"#fdca26\"], [1.0, \"#f0f921\"]]}, \"colorway\": [\"#636efa\", \"#EF553B\", \"#00cc96\", \"#ab63fa\", \"#FFA15A\", \"#19d3f3\", \"#FF6692\", \"#B6E880\", \"#FF97FF\", \"#FECB52\"], \"font\": {\"color\": \"#2a3f5f\"}, \"geo\": {\"bgcolor\": \"white\", \"lakecolor\": \"white\", \"landcolor\": \"#E5ECF6\", \"showlakes\": true, \"showland\": true, \"subunitcolor\": \"white\"}, \"hoverlabel\": {\"align\": \"left\"}, \"hovermode\": \"closest\", \"mapbox\": {\"style\": \"light\"}, \"paper_bgcolor\": \"white\", \"plot_bgcolor\": \"#E5ECF6\", \"polar\": {\"angularaxis\": {\"gridcolor\": \"white\", \"linecolor\": \"white\", \"ticks\": \"\"}, \"bgcolor\": \"#E5ECF6\", \"radialaxis\": {\"gridcolor\": \"white\", \"linecolor\": \"white\", \"ticks\": \"\"}}, \"scene\": {\"xaxis\": {\"backgroundcolor\": \"#E5ECF6\", \"gridcolor\": \"white\", \"gridwidth\": 2, \"linecolor\": \"white\", \"showbackground\": true, \"ticks\": \"\", \"zerolinecolor\": \"white\"}, \"yaxis\": {\"backgroundcolor\": \"#E5ECF6\", \"gridcolor\": \"white\", \"gridwidth\": 2, \"linecolor\": \"white\", \"showbackground\": true, \"ticks\": \"\", \"zerolinecolor\": \"white\"}, \"zaxis\": {\"backgroundcolor\": \"#E5ECF6\", \"gridcolor\": \"white\", \"gridwidth\": 2, \"linecolor\": \"white\", \"showbackground\": true, \"ticks\": \"\", \"zerolinecolor\": \"white\"}}, \"shapedefaults\": {\"line\": {\"color\": \"#2a3f5f\"}}, \"ternary\": {\"aaxis\": {\"gridcolor\": \"white\", \"linecolor\": \"white\", \"ticks\": \"\"}, \"baxis\": {\"gridcolor\": \"white\", \"linecolor\": \"white\", \"ticks\": \"\"}, \"bgcolor\": \"#E5ECF6\", \"caxis\": {\"gridcolor\": \"white\", \"linecolor\": \"white\", \"ticks\": \"\"}}, \"title\": {\"x\": 0.05}, \"xaxis\": {\"automargin\": true, \"gridcolor\": \"white\", \"linecolor\": \"white\", \"ticks\": \"\", \"title\": {\"standoff\": 15}, \"zerolinecolor\": \"white\", \"zerolinewidth\": 2}, \"yaxis\": {\"automargin\": true, \"gridcolor\": \"white\", \"linecolor\": \"white\", \"ticks\": \"\", \"title\": {\"standoff\": 15}, \"zerolinecolor\": \"white\", \"zerolinewidth\": 2}}}, \"width\": 500, \"xaxis\": {\"anchor\": \"y\", \"constrain\": \"domain\", \"domain\": [0.0, 1.0], \"scaleanchor\": \"y\"}, \"yaxis\": {\"anchor\": \"x\", \"autorange\": \"reversed\", \"constrain\": \"domain\", \"domain\": [0.0, 1.0]}},                        {\"responsive\": true}                    ).then(function(){\n",
       "                            \n",
       "var gd = document.getElementById('4bd8bf56-0736-4d8d-808b-3dce7e78ca60');\n",
       "var x = new MutationObserver(function (mutations, observer) {{\n",
       "        var display = window.getComputedStyle(gd).display;\n",
       "        if (!display || display === 'none') {{\n",
       "            console.log([gd, 'removed!']);\n",
       "            Plotly.purge(gd);\n",
       "            observer.disconnect();\n",
       "        }}\n",
       "}});\n",
       "\n",
       "// Listen for the removal of the full notebook cells\n",
       "var notebookContainer = gd.closest('#notebook-container');\n",
       "if (notebookContainer) {{\n",
       "    x.observe(notebookContainer, {childList: true});\n",
       "}}\n",
       "\n",
       "// Listen for the clearing of the current output cell\n",
       "var outputEl = gd.closest('.output');\n",
       "if (outputEl) {{\n",
       "    x.observe(outputEl, {childList: true});\n",
       "}}\n",
       "\n",
       "                        })                };                });            </script>        </div>"
      ]
     },
     "metadata": {},
     "output_type": "display_data"
    }
   ],
   "source": [
    "imgen.load_image(test_arr, show_figure=True)"
   ]
  },
  {
   "cell_type": "code",
   "execution_count": 60,
   "metadata": {},
   "outputs": [
    {
     "name": "stdout",
     "output_type": "stream",
     "text": [
      "Training epoch 52 of 100:\n"
     ]
    },
    {
     "data": {
      "application/vnd.plotly.v1+json": {
       "config": {
        "plotlyServerURL": "https://plot.ly"
       },
       "data": [
        {
         "coloraxis": "coloraxis",
         "hovertemplate": "x: %{x}<br>y: %{y}<br>color: %{z}<extra></extra>",
         "name": "0",
         "type": "heatmap",
         "xaxis": "x",
         "yaxis": "y",
         "z": [
          [
           0.0021342594857713315,
           0.0033812986869358203,
           0.004571623895011172,
           0.004257105545014352,
           0.003743684261629276,
           0.011386217174014931,
           0.015860489560164923,
           0.010249971329103807,
           0.0003303477119924713,
           0.0005045949770024488,
           0.0008551088240885274,
           0.0007790463868165966,
           0.0006793743641190077,
           0.0020319006593358534,
           0.0026634498860947506,
           0.0017029661887796117
          ],
          [
           0.00138908706661824,
           0.0022474765303402786,
           0.0029906413372597146,
           0.0028409682879412088,
           0.0024630935888349907,
           0.007663069852396593,
           0.010500670484262956,
           0.006928554406267317,
           0.0005051179993138163,
           0.0007881438555618844,
           0.0013119226333820541,
           0.001219581067009297,
           0.0009892092510397116,
           0.0030258118376902832,
           0.003899666638876268,
           0.002545545183406484
          ],
          [
           0.0001882620997978702,
           0.00023387516460297899,
           0.00037878307950350685,
           0.0002778248313744611,
           0.00033349970741217643,
           0.0007792070089110218,
           0.001315285486894432,
           0.0006618846346923709,
           8.945596058096059e-05,
           0.00011108736487539067,
           0.0002194158616388932,
           0.0001630297027937954,
           0.0001838869869294522,
           0.00043895387664897803,
           0.0006778563056884787,
           0.000350041620010714
          ],
          [
           0.0009009678285529805,
           0.0012333185349840538,
           0.0018562170049657187,
           0.001500076343726305,
           0.001609603531014775,
           0.004177520213306009,
           0.006524986959450163,
           0.003634915185778825,
           0.00017062977277632692,
           0.00022859090729735352,
           0.0004256777355224797,
           0.0003411804817205825,
           0.0003346736962978441,
           0.0008674118710915006,
           0.00125992820142354,
           0.0007043828229820738
          ],
          [
           0.0020878923918894485,
           0.00620490644375674,
           0.0054093746076881175,
           0.008777313164446778,
           0.0035056941196013455,
           0.02120457410403176,
           0.018526994058424562,
           0.021412120666026442,
           0.00028196174854555405,
           0.0008119168251354886,
           0.0008826732764043204,
           0.0014126697692995443,
           0.0005552554462695017,
           0.003326104917734737,
           0.0027194759782912742,
           0.003133113974662278
          ],
          [
           0.0024015936906250277,
           0.0070537997478513385,
           0.006194085403542857,
           0.00995415360741925,
           0.004082544529488916,
           0.024372940061908873,
           0.021470000136329156,
           0.024562757141366316,
           0.0007889083850577794,
           0.0022427342533131644,
           0.002453024092981403,
           0.003884013669310765,
           0.0014784513123152997,
           0.008726498416441178,
           0.007196279806428634,
           0.008196481897404488
          ],
          [
           0.0012305716684218077,
           0.0034192359281177286,
           0.0031180978980093438,
           0.0047868796570110575,
           0.0020722609615312962,
           0.011640573662229885,
           0.010667787737487555,
           0.011634792320486437,
           0.0004064440923347373,
           0.0010868494109132747,
           0.0012410230345506078,
           0.001867846759009902,
           0.0007964886849266908,
           0.004396618506665497,
           0.0037888834245749163,
           0.0040936842278402824
          ],
          [
           0.0012856551002768087,
           0.0034953619226980362,
           0.003232638747883704,
           0.004873443781936834,
           0.0021941080142445428,
           0.01203147889000714,
           0.011197771253996826,
           0.011981752461588977,
           0.00018957915360767806,
           0.0004953971612966558,
           0.0005731580462388987,
           0.0008459804479747272,
           0.0003542250047756782,
           0.0019048185417611455,
           0.0016682656357909686,
           0.0017653943201351844
          ],
          [
           0.0016583516807245973,
           0.0017949667009047915,
           0.0009124810597780065,
           0.00502549899745199,
           0.003568447058666213,
           0.006782217642032563,
           0.0036273976284165606,
           0.013020064086123035,
           0.00026332796935812463,
           0.000274715238323915,
           0.00017869733127465423,
           0.0009549579221607619,
           0.0006668308233496936,
           0.0012476152545625706,
           0.0006338195879495122,
           0.0022414317197563278
          ],
          [
           0.0009021432712273896,
           0.0010118510578101393,
           0.0004882747239620971,
           0.0028131493247023145,
           0.001968236784986491,
           0.003865531506937769,
           0.001969996226252934,
           0.0073767937481002,
           0.0003376368133655873,
           0.0003647336204635105,
           0.00022516421192581853,
           0.0012568132967551297,
           0.0008170402618255289,
           0.0015776880896658679,
           0.0007647228981248361,
           0.0028164642976149113
          ],
          [
           0.0005468678829983773,
           0.0004878012046167236,
           0.0003258813020863646,
           0.0014164497957295913,
           0.0011637121373517497,
           0.0018489807865337269,
           0.0012780581678798807,
           0.003667839550595638,
           0.00022863900044253595,
           0.00020041319502133923,
           0.00016642842029779178,
           0.0007195943468673194,
           0.0005684821615121751,
           0.0009053629358848701,
           0.0005789718898231471,
           0.0016748917046104032
          ],
          [
           0.0017364191621439188,
           0.0016267088805821622,
           0.001014457102361262,
           0.004675818957096412,
           0.0037507413851819256,
           0.0062359314296835935,
           0.004042214923406395,
           0.012262606320734795,
           0.00031090435014761937,
           0.0002843148119477498,
           0.00022216156701799456,
           0.001010163132211016,
           0.0007406581662216795,
           0.0012263434662630455,
           0.0007417447171926033,
           0.002250488823833341
          ],
          [
           0.006579717422324768,
           0.0036331015917876112,
           0.004588704694040781,
           0.011692492413258577,
           0.01380963998707481,
           0.014071066595622787,
           0.017707860452164225,
           0.030603350244861483,
           0.0008967815787731856,
           0.00048031116449297987,
           0.0007665370052195657,
           0.0019198711484379398,
           0.0022185721106038284,
           0.002241847772606518,
           0.002648578753884726,
           0.004558516424633991
          ],
          [
           0.0070808805448238045,
           0.003875107455538343,
           0.004947705111317708,
           0.012490127459438043,
           0.015027906109427133,
           0.015184881448784746,
           0.019314093151914968,
           0.03308170232181196,
           0.002329292895689443,
           0.001235622118316675,
           0.001991469851262286,
           0.004937363941514324,
           0.005477182607478964,
           0.005483118162255284,
           0.006550964354069708,
           0.01116324644574687
          ],
          [
           0.0025865454416618347,
           0.0013443389954102035,
           0.0018342390453676518,
           0.004389888359950748,
           0.005405538172707254,
           0.00520804717592769,
           0.007046908297171833,
           0.011473238034187221,
           0.0008253028199503336,
           0.0004132006374777095,
           0.0007180142770736909,
           0.0016777415276985794,
           0.0020160008272888013,
           0.0019141331459531959,
           0.0024505461281048553,
           0.003947394787919921
          ],
          [
           0.0023303117493456505,
           0.0011802707524161504,
           0.0016630159807233399,
           0.0038760127282847206,
           0.004921947943097183,
           0.004629421627102014,
           0.0064595147991750946,
           0.010253528665390046,
           0.0003274560119528507,
           0.00015932644291213806,
           0.0002863376794090611,
           0.0006497729220644882,
           0.000759758246082952,
           0.0007021150430865504,
           0.0009297897958874573,
           0.0014558122455688974
          ]
         ]
        }
       ],
       "layout": {
        "coloraxis": {
         "colorscale": [
          [
           0,
           "rgb(243, 231, 155)"
          ],
          [
           0.16666666666666666,
           "rgb(250, 196, 132)"
          ],
          [
           0.3333333333333333,
           "rgb(248, 160, 126)"
          ],
          [
           0.5,
           "rgb(235, 127, 134)"
          ],
          [
           0.6666666666666666,
           "rgb(206, 102, 147)"
          ],
          [
           0.8333333333333334,
           "rgb(160, 89, 160)"
          ],
          [
           1,
           "rgb(92, 83, 165)"
          ]
         ]
        },
        "height": 500,
        "margin": {
         "t": 60
        },
        "template": {
         "data": {
          "bar": [
           {
            "error_x": {
             "color": "#2a3f5f"
            },
            "error_y": {
             "color": "#2a3f5f"
            },
            "marker": {
             "line": {
              "color": "#E5ECF6",
              "width": 0.5
             }
            },
            "type": "bar"
           }
          ],
          "barpolar": [
           {
            "marker": {
             "line": {
              "color": "#E5ECF6",
              "width": 0.5
             }
            },
            "type": "barpolar"
           }
          ],
          "carpet": [
           {
            "aaxis": {
             "endlinecolor": "#2a3f5f",
             "gridcolor": "white",
             "linecolor": "white",
             "minorgridcolor": "white",
             "startlinecolor": "#2a3f5f"
            },
            "baxis": {
             "endlinecolor": "#2a3f5f",
             "gridcolor": "white",
             "linecolor": "white",
             "minorgridcolor": "white",
             "startlinecolor": "#2a3f5f"
            },
            "type": "carpet"
           }
          ],
          "choropleth": [
           {
            "colorbar": {
             "outlinewidth": 0,
             "ticks": ""
            },
            "type": "choropleth"
           }
          ],
          "contour": [
           {
            "colorbar": {
             "outlinewidth": 0,
             "ticks": ""
            },
            "colorscale": [
             [
              0,
              "#0d0887"
             ],
             [
              0.1111111111111111,
              "#46039f"
             ],
             [
              0.2222222222222222,
              "#7201a8"
             ],
             [
              0.3333333333333333,
              "#9c179e"
             ],
             [
              0.4444444444444444,
              "#bd3786"
             ],
             [
              0.5555555555555556,
              "#d8576b"
             ],
             [
              0.6666666666666666,
              "#ed7953"
             ],
             [
              0.7777777777777778,
              "#fb9f3a"
             ],
             [
              0.8888888888888888,
              "#fdca26"
             ],
             [
              1,
              "#f0f921"
             ]
            ],
            "type": "contour"
           }
          ],
          "contourcarpet": [
           {
            "colorbar": {
             "outlinewidth": 0,
             "ticks": ""
            },
            "type": "contourcarpet"
           }
          ],
          "heatmap": [
           {
            "colorbar": {
             "outlinewidth": 0,
             "ticks": ""
            },
            "colorscale": [
             [
              0,
              "#0d0887"
             ],
             [
              0.1111111111111111,
              "#46039f"
             ],
             [
              0.2222222222222222,
              "#7201a8"
             ],
             [
              0.3333333333333333,
              "#9c179e"
             ],
             [
              0.4444444444444444,
              "#bd3786"
             ],
             [
              0.5555555555555556,
              "#d8576b"
             ],
             [
              0.6666666666666666,
              "#ed7953"
             ],
             [
              0.7777777777777778,
              "#fb9f3a"
             ],
             [
              0.8888888888888888,
              "#fdca26"
             ],
             [
              1,
              "#f0f921"
             ]
            ],
            "type": "heatmap"
           }
          ],
          "heatmapgl": [
           {
            "colorbar": {
             "outlinewidth": 0,
             "ticks": ""
            },
            "colorscale": [
             [
              0,
              "#0d0887"
             ],
             [
              0.1111111111111111,
              "#46039f"
             ],
             [
              0.2222222222222222,
              "#7201a8"
             ],
             [
              0.3333333333333333,
              "#9c179e"
             ],
             [
              0.4444444444444444,
              "#bd3786"
             ],
             [
              0.5555555555555556,
              "#d8576b"
             ],
             [
              0.6666666666666666,
              "#ed7953"
             ],
             [
              0.7777777777777778,
              "#fb9f3a"
             ],
             [
              0.8888888888888888,
              "#fdca26"
             ],
             [
              1,
              "#f0f921"
             ]
            ],
            "type": "heatmapgl"
           }
          ],
          "histogram": [
           {
            "marker": {
             "colorbar": {
              "outlinewidth": 0,
              "ticks": ""
             }
            },
            "type": "histogram"
           }
          ],
          "histogram2d": [
           {
            "colorbar": {
             "outlinewidth": 0,
             "ticks": ""
            },
            "colorscale": [
             [
              0,
              "#0d0887"
             ],
             [
              0.1111111111111111,
              "#46039f"
             ],
             [
              0.2222222222222222,
              "#7201a8"
             ],
             [
              0.3333333333333333,
              "#9c179e"
             ],
             [
              0.4444444444444444,
              "#bd3786"
             ],
             [
              0.5555555555555556,
              "#d8576b"
             ],
             [
              0.6666666666666666,
              "#ed7953"
             ],
             [
              0.7777777777777778,
              "#fb9f3a"
             ],
             [
              0.8888888888888888,
              "#fdca26"
             ],
             [
              1,
              "#f0f921"
             ]
            ],
            "type": "histogram2d"
           }
          ],
          "histogram2dcontour": [
           {
            "colorbar": {
             "outlinewidth": 0,
             "ticks": ""
            },
            "colorscale": [
             [
              0,
              "#0d0887"
             ],
             [
              0.1111111111111111,
              "#46039f"
             ],
             [
              0.2222222222222222,
              "#7201a8"
             ],
             [
              0.3333333333333333,
              "#9c179e"
             ],
             [
              0.4444444444444444,
              "#bd3786"
             ],
             [
              0.5555555555555556,
              "#d8576b"
             ],
             [
              0.6666666666666666,
              "#ed7953"
             ],
             [
              0.7777777777777778,
              "#fb9f3a"
             ],
             [
              0.8888888888888888,
              "#fdca26"
             ],
             [
              1,
              "#f0f921"
             ]
            ],
            "type": "histogram2dcontour"
           }
          ],
          "mesh3d": [
           {
            "colorbar": {
             "outlinewidth": 0,
             "ticks": ""
            },
            "type": "mesh3d"
           }
          ],
          "parcoords": [
           {
            "line": {
             "colorbar": {
              "outlinewidth": 0,
              "ticks": ""
             }
            },
            "type": "parcoords"
           }
          ],
          "pie": [
           {
            "automargin": true,
            "type": "pie"
           }
          ],
          "scatter": [
           {
            "marker": {
             "colorbar": {
              "outlinewidth": 0,
              "ticks": ""
             }
            },
            "type": "scatter"
           }
          ],
          "scatter3d": [
           {
            "line": {
             "colorbar": {
              "outlinewidth": 0,
              "ticks": ""
             }
            },
            "marker": {
             "colorbar": {
              "outlinewidth": 0,
              "ticks": ""
             }
            },
            "type": "scatter3d"
           }
          ],
          "scattercarpet": [
           {
            "marker": {
             "colorbar": {
              "outlinewidth": 0,
              "ticks": ""
             }
            },
            "type": "scattercarpet"
           }
          ],
          "scattergeo": [
           {
            "marker": {
             "colorbar": {
              "outlinewidth": 0,
              "ticks": ""
             }
            },
            "type": "scattergeo"
           }
          ],
          "scattergl": [
           {
            "marker": {
             "colorbar": {
              "outlinewidth": 0,
              "ticks": ""
             }
            },
            "type": "scattergl"
           }
          ],
          "scattermapbox": [
           {
            "marker": {
             "colorbar": {
              "outlinewidth": 0,
              "ticks": ""
             }
            },
            "type": "scattermapbox"
           }
          ],
          "scatterpolar": [
           {
            "marker": {
             "colorbar": {
              "outlinewidth": 0,
              "ticks": ""
             }
            },
            "type": "scatterpolar"
           }
          ],
          "scatterpolargl": [
           {
            "marker": {
             "colorbar": {
              "outlinewidth": 0,
              "ticks": ""
             }
            },
            "type": "scatterpolargl"
           }
          ],
          "scatterternary": [
           {
            "marker": {
             "colorbar": {
              "outlinewidth": 0,
              "ticks": ""
             }
            },
            "type": "scatterternary"
           }
          ],
          "surface": [
           {
            "colorbar": {
             "outlinewidth": 0,
             "ticks": ""
            },
            "colorscale": [
             [
              0,
              "#0d0887"
             ],
             [
              0.1111111111111111,
              "#46039f"
             ],
             [
              0.2222222222222222,
              "#7201a8"
             ],
             [
              0.3333333333333333,
              "#9c179e"
             ],
             [
              0.4444444444444444,
              "#bd3786"
             ],
             [
              0.5555555555555556,
              "#d8576b"
             ],
             [
              0.6666666666666666,
              "#ed7953"
             ],
             [
              0.7777777777777778,
              "#fb9f3a"
             ],
             [
              0.8888888888888888,
              "#fdca26"
             ],
             [
              1,
              "#f0f921"
             ]
            ],
            "type": "surface"
           }
          ],
          "table": [
           {
            "cells": {
             "fill": {
              "color": "#EBF0F8"
             },
             "line": {
              "color": "white"
             }
            },
            "header": {
             "fill": {
              "color": "#C8D4E3"
             },
             "line": {
              "color": "white"
             }
            },
            "type": "table"
           }
          ]
         },
         "layout": {
          "annotationdefaults": {
           "arrowcolor": "#2a3f5f",
           "arrowhead": 0,
           "arrowwidth": 1
          },
          "autotypenumbers": "strict",
          "coloraxis": {
           "colorbar": {
            "outlinewidth": 0,
            "ticks": ""
           }
          },
          "colorscale": {
           "diverging": [
            [
             0,
             "#8e0152"
            ],
            [
             0.1,
             "#c51b7d"
            ],
            [
             0.2,
             "#de77ae"
            ],
            [
             0.3,
             "#f1b6da"
            ],
            [
             0.4,
             "#fde0ef"
            ],
            [
             0.5,
             "#f7f7f7"
            ],
            [
             0.6,
             "#e6f5d0"
            ],
            [
             0.7,
             "#b8e186"
            ],
            [
             0.8,
             "#7fbc41"
            ],
            [
             0.9,
             "#4d9221"
            ],
            [
             1,
             "#276419"
            ]
           ],
           "sequential": [
            [
             0,
             "#0d0887"
            ],
            [
             0.1111111111111111,
             "#46039f"
            ],
            [
             0.2222222222222222,
             "#7201a8"
            ],
            [
             0.3333333333333333,
             "#9c179e"
            ],
            [
             0.4444444444444444,
             "#bd3786"
            ],
            [
             0.5555555555555556,
             "#d8576b"
            ],
            [
             0.6666666666666666,
             "#ed7953"
            ],
            [
             0.7777777777777778,
             "#fb9f3a"
            ],
            [
             0.8888888888888888,
             "#fdca26"
            ],
            [
             1,
             "#f0f921"
            ]
           ],
           "sequentialminus": [
            [
             0,
             "#0d0887"
            ],
            [
             0.1111111111111111,
             "#46039f"
            ],
            [
             0.2222222222222222,
             "#7201a8"
            ],
            [
             0.3333333333333333,
             "#9c179e"
            ],
            [
             0.4444444444444444,
             "#bd3786"
            ],
            [
             0.5555555555555556,
             "#d8576b"
            ],
            [
             0.6666666666666666,
             "#ed7953"
            ],
            [
             0.7777777777777778,
             "#fb9f3a"
            ],
            [
             0.8888888888888888,
             "#fdca26"
            ],
            [
             1,
             "#f0f921"
            ]
           ]
          },
          "colorway": [
           "#636efa",
           "#EF553B",
           "#00cc96",
           "#ab63fa",
           "#FFA15A",
           "#19d3f3",
           "#FF6692",
           "#B6E880",
           "#FF97FF",
           "#FECB52"
          ],
          "font": {
           "color": "#2a3f5f"
          },
          "geo": {
           "bgcolor": "white",
           "lakecolor": "white",
           "landcolor": "#E5ECF6",
           "showlakes": true,
           "showland": true,
           "subunitcolor": "white"
          },
          "hoverlabel": {
           "align": "left"
          },
          "hovermode": "closest",
          "mapbox": {
           "style": "light"
          },
          "paper_bgcolor": "white",
          "plot_bgcolor": "#E5ECF6",
          "polar": {
           "angularaxis": {
            "gridcolor": "white",
            "linecolor": "white",
            "ticks": ""
           },
           "bgcolor": "#E5ECF6",
           "radialaxis": {
            "gridcolor": "white",
            "linecolor": "white",
            "ticks": ""
           }
          },
          "scene": {
           "xaxis": {
            "backgroundcolor": "#E5ECF6",
            "gridcolor": "white",
            "gridwidth": 2,
            "linecolor": "white",
            "showbackground": true,
            "ticks": "",
            "zerolinecolor": "white"
           },
           "yaxis": {
            "backgroundcolor": "#E5ECF6",
            "gridcolor": "white",
            "gridwidth": 2,
            "linecolor": "white",
            "showbackground": true,
            "ticks": "",
            "zerolinecolor": "white"
           },
           "zaxis": {
            "backgroundcolor": "#E5ECF6",
            "gridcolor": "white",
            "gridwidth": 2,
            "linecolor": "white",
            "showbackground": true,
            "ticks": "",
            "zerolinecolor": "white"
           }
          },
          "shapedefaults": {
           "line": {
            "color": "#2a3f5f"
           }
          },
          "ternary": {
           "aaxis": {
            "gridcolor": "white",
            "linecolor": "white",
            "ticks": ""
           },
           "baxis": {
            "gridcolor": "white",
            "linecolor": "white",
            "ticks": ""
           },
           "bgcolor": "#E5ECF6",
           "caxis": {
            "gridcolor": "white",
            "linecolor": "white",
            "ticks": ""
           }
          },
          "title": {
           "x": 0.05
          },
          "xaxis": {
           "automargin": true,
           "gridcolor": "white",
           "linecolor": "white",
           "ticks": "",
           "title": {
            "standoff": 15
           },
           "zerolinecolor": "white",
           "zerolinewidth": 2
          },
          "yaxis": {
           "automargin": true,
           "gridcolor": "white",
           "linecolor": "white",
           "ticks": "",
           "title": {
            "standoff": 15
           },
           "zerolinecolor": "white",
           "zerolinewidth": 2
          }
         }
        },
        "width": 500,
        "xaxis": {
         "anchor": "y",
         "constrain": "domain",
         "domain": [
          0,
          1
         ],
         "scaleanchor": "y"
        },
        "yaxis": {
         "anchor": "x",
         "autorange": "reversed",
         "constrain": "domain",
         "domain": [
          0,
          1
         ]
        }
       }
      },
      "text/html": [
       "<div>                            <div id=\"5c81a31d-3dc7-41ac-a27d-7a6246372033\" class=\"plotly-graph-div\" style=\"height:500px; width:500px;\"></div>            <script type=\"text/javascript\">                require([\"plotly\"], function(Plotly) {                    window.PLOTLYENV=window.PLOTLYENV || {};                                    if (document.getElementById(\"5c81a31d-3dc7-41ac-a27d-7a6246372033\")) {                    Plotly.newPlot(                        \"5c81a31d-3dc7-41ac-a27d-7a6246372033\",                        [{\"coloraxis\": \"coloraxis\", \"hovertemplate\": \"x: %{x}<br>y: %{y}<br>color: %{z}<extra></extra>\", \"name\": \"0\", \"type\": \"heatmap\", \"xaxis\": \"x\", \"yaxis\": \"y\", \"z\": [[0.0021342594857713315, 0.0033812986869358203, 0.004571623895011172, 0.004257105545014352, 0.003743684261629276, 0.011386217174014931, 0.015860489560164923, 0.010249971329103807, 0.0003303477119924713, 0.0005045949770024488, 0.0008551088240885274, 0.0007790463868165966, 0.0006793743641190077, 0.0020319006593358534, 0.0026634498860947506, 0.0017029661887796117], [0.00138908706661824, 0.0022474765303402786, 0.0029906413372597146, 0.0028409682879412088, 0.0024630935888349907, 0.007663069852396593, 0.010500670484262956, 0.006928554406267317, 0.0005051179993138163, 0.0007881438555618844, 0.0013119226333820541, 0.001219581067009297, 0.0009892092510397116, 0.0030258118376902832, 0.003899666638876268, 0.002545545183406484], [0.0001882620997978702, 0.00023387516460297899, 0.00037878307950350685, 0.0002778248313744611, 0.00033349970741217643, 0.0007792070089110218, 0.001315285486894432, 0.0006618846346923709, 8.945596058096059e-05, 0.00011108736487539067, 0.0002194158616388932, 0.0001630297027937954, 0.0001838869869294522, 0.00043895387664897803, 0.0006778563056884787, 0.000350041620010714], [0.0009009678285529805, 0.0012333185349840538, 0.0018562170049657187, 0.001500076343726305, 0.001609603531014775, 0.004177520213306009, 0.006524986959450163, 0.003634915185778825, 0.00017062977277632692, 0.00022859090729735352, 0.0004256777355224797, 0.0003411804817205825, 0.0003346736962978441, 0.0008674118710915006, 0.00125992820142354, 0.0007043828229820738], [0.0020878923918894485, 0.00620490644375674, 0.0054093746076881175, 0.008777313164446778, 0.0035056941196013455, 0.02120457410403176, 0.018526994058424562, 0.021412120666026442, 0.00028196174854555405, 0.0008119168251354886, 0.0008826732764043204, 0.0014126697692995443, 0.0005552554462695017, 0.003326104917734737, 0.0027194759782912742, 0.003133113974662278], [0.0024015936906250277, 0.0070537997478513385, 0.006194085403542857, 0.00995415360741925, 0.004082544529488916, 0.024372940061908873, 0.021470000136329156, 0.024562757141366316, 0.0007889083850577794, 0.0022427342533131644, 0.002453024092981403, 0.003884013669310765, 0.0014784513123152997, 0.008726498416441178, 0.007196279806428634, 0.008196481897404488], [0.0012305716684218077, 0.0034192359281177286, 0.0031180978980093438, 0.0047868796570110575, 0.0020722609615312962, 0.011640573662229885, 0.010667787737487555, 0.011634792320486437, 0.0004064440923347373, 0.0010868494109132747, 0.0012410230345506078, 0.001867846759009902, 0.0007964886849266908, 0.004396618506665497, 0.0037888834245749163, 0.0040936842278402824], [0.0012856551002768087, 0.0034953619226980362, 0.003232638747883704, 0.004873443781936834, 0.0021941080142445428, 0.01203147889000714, 0.011197771253996826, 0.011981752461588977, 0.00018957915360767806, 0.0004953971612966558, 0.0005731580462388987, 0.0008459804479747272, 0.0003542250047756782, 0.0019048185417611455, 0.0016682656357909686, 0.0017653943201351844], [0.0016583516807245973, 0.0017949667009047915, 0.0009124810597780065, 0.00502549899745199, 0.003568447058666213, 0.006782217642032563, 0.0036273976284165606, 0.013020064086123035, 0.00026332796935812463, 0.000274715238323915, 0.00017869733127465423, 0.0009549579221607619, 0.0006668308233496936, 0.0012476152545625706, 0.0006338195879495122, 0.0022414317197563278], [0.0009021432712273896, 0.0010118510578101393, 0.0004882747239620971, 0.0028131493247023145, 0.001968236784986491, 0.003865531506937769, 0.001969996226252934, 0.0073767937481002, 0.0003376368133655873, 0.0003647336204635105, 0.00022516421192581853, 0.0012568132967551297, 0.0008170402618255289, 0.0015776880896658679, 0.0007647228981248361, 0.0028164642976149113], [0.0005468678829983773, 0.0004878012046167236, 0.0003258813020863646, 0.0014164497957295913, 0.0011637121373517497, 0.0018489807865337269, 0.0012780581678798807, 0.003667839550595638, 0.00022863900044253595, 0.00020041319502133923, 0.00016642842029779178, 0.0007195943468673194, 0.0005684821615121751, 0.0009053629358848701, 0.0005789718898231471, 0.0016748917046104032], [0.0017364191621439188, 0.0016267088805821622, 0.001014457102361262, 0.004675818957096412, 0.0037507413851819256, 0.0062359314296835935, 0.004042214923406395, 0.012262606320734795, 0.00031090435014761937, 0.0002843148119477498, 0.00022216156701799456, 0.001010163132211016, 0.0007406581662216795, 0.0012263434662630455, 0.0007417447171926033, 0.002250488823833341], [0.006579717422324768, 0.0036331015917876112, 0.004588704694040781, 0.011692492413258577, 0.01380963998707481, 0.014071066595622787, 0.017707860452164225, 0.030603350244861483, 0.0008967815787731856, 0.00048031116449297987, 0.0007665370052195657, 0.0019198711484379398, 0.0022185721106038284, 0.002241847772606518, 0.002648578753884726, 0.004558516424633991], [0.0070808805448238045, 0.003875107455538343, 0.004947705111317708, 0.012490127459438043, 0.015027906109427133, 0.015184881448784746, 0.019314093151914968, 0.03308170232181196, 0.002329292895689443, 0.001235622118316675, 0.001991469851262286, 0.004937363941514324, 0.005477182607478964, 0.005483118162255284, 0.006550964354069708, 0.01116324644574687], [0.0025865454416618347, 0.0013443389954102035, 0.0018342390453676518, 0.004389888359950748, 0.005405538172707254, 0.00520804717592769, 0.007046908297171833, 0.011473238034187221, 0.0008253028199503336, 0.0004132006374777095, 0.0007180142770736909, 0.0016777415276985794, 0.0020160008272888013, 0.0019141331459531959, 0.0024505461281048553, 0.003947394787919921], [0.0023303117493456505, 0.0011802707524161504, 0.0016630159807233399, 0.0038760127282847206, 0.004921947943097183, 0.004629421627102014, 0.0064595147991750946, 0.010253528665390046, 0.0003274560119528507, 0.00015932644291213806, 0.0002863376794090611, 0.0006497729220644882, 0.000759758246082952, 0.0007021150430865504, 0.0009297897958874573, 0.0014558122455688974]]}],                        {\"coloraxis\": {\"colorscale\": [[0.0, \"rgb(243, 231, 155)\"], [0.16666666666666666, \"rgb(250, 196, 132)\"], [0.3333333333333333, \"rgb(248, 160, 126)\"], [0.5, \"rgb(235, 127, 134)\"], [0.6666666666666666, \"rgb(206, 102, 147)\"], [0.8333333333333334, \"rgb(160, 89, 160)\"], [1.0, \"rgb(92, 83, 165)\"]]}, \"height\": 500, \"margin\": {\"t\": 60}, \"template\": {\"data\": {\"bar\": [{\"error_x\": {\"color\": \"#2a3f5f\"}, \"error_y\": {\"color\": \"#2a3f5f\"}, \"marker\": {\"line\": {\"color\": \"#E5ECF6\", \"width\": 0.5}}, \"type\": \"bar\"}], \"barpolar\": [{\"marker\": {\"line\": {\"color\": \"#E5ECF6\", \"width\": 0.5}}, \"type\": \"barpolar\"}], \"carpet\": [{\"aaxis\": {\"endlinecolor\": \"#2a3f5f\", \"gridcolor\": \"white\", \"linecolor\": \"white\", \"minorgridcolor\": \"white\", \"startlinecolor\": \"#2a3f5f\"}, \"baxis\": {\"endlinecolor\": \"#2a3f5f\", \"gridcolor\": \"white\", \"linecolor\": \"white\", \"minorgridcolor\": \"white\", \"startlinecolor\": \"#2a3f5f\"}, \"type\": \"carpet\"}], \"choropleth\": [{\"colorbar\": {\"outlinewidth\": 0, \"ticks\": \"\"}, \"type\": \"choropleth\"}], \"contour\": [{\"colorbar\": {\"outlinewidth\": 0, \"ticks\": \"\"}, \"colorscale\": [[0.0, \"#0d0887\"], [0.1111111111111111, \"#46039f\"], [0.2222222222222222, \"#7201a8\"], [0.3333333333333333, \"#9c179e\"], [0.4444444444444444, \"#bd3786\"], [0.5555555555555556, \"#d8576b\"], [0.6666666666666666, \"#ed7953\"], [0.7777777777777778, \"#fb9f3a\"], [0.8888888888888888, \"#fdca26\"], [1.0, \"#f0f921\"]], \"type\": \"contour\"}], \"contourcarpet\": [{\"colorbar\": {\"outlinewidth\": 0, \"ticks\": \"\"}, \"type\": \"contourcarpet\"}], \"heatmap\": [{\"colorbar\": {\"outlinewidth\": 0, \"ticks\": \"\"}, \"colorscale\": [[0.0, \"#0d0887\"], [0.1111111111111111, \"#46039f\"], [0.2222222222222222, \"#7201a8\"], [0.3333333333333333, \"#9c179e\"], [0.4444444444444444, \"#bd3786\"], [0.5555555555555556, \"#d8576b\"], [0.6666666666666666, \"#ed7953\"], [0.7777777777777778, \"#fb9f3a\"], [0.8888888888888888, \"#fdca26\"], [1.0, \"#f0f921\"]], \"type\": \"heatmap\"}], \"heatmapgl\": [{\"colorbar\": {\"outlinewidth\": 0, \"ticks\": \"\"}, \"colorscale\": [[0.0, \"#0d0887\"], [0.1111111111111111, \"#46039f\"], [0.2222222222222222, \"#7201a8\"], [0.3333333333333333, \"#9c179e\"], [0.4444444444444444, \"#bd3786\"], [0.5555555555555556, \"#d8576b\"], [0.6666666666666666, \"#ed7953\"], [0.7777777777777778, \"#fb9f3a\"], [0.8888888888888888, \"#fdca26\"], [1.0, \"#f0f921\"]], \"type\": \"heatmapgl\"}], \"histogram\": [{\"marker\": {\"colorbar\": {\"outlinewidth\": 0, \"ticks\": \"\"}}, \"type\": \"histogram\"}], \"histogram2d\": [{\"colorbar\": {\"outlinewidth\": 0, \"ticks\": \"\"}, \"colorscale\": [[0.0, \"#0d0887\"], [0.1111111111111111, \"#46039f\"], [0.2222222222222222, \"#7201a8\"], [0.3333333333333333, \"#9c179e\"], [0.4444444444444444, \"#bd3786\"], [0.5555555555555556, \"#d8576b\"], [0.6666666666666666, \"#ed7953\"], [0.7777777777777778, \"#fb9f3a\"], [0.8888888888888888, \"#fdca26\"], [1.0, \"#f0f921\"]], \"type\": \"histogram2d\"}], \"histogram2dcontour\": [{\"colorbar\": {\"outlinewidth\": 0, \"ticks\": \"\"}, \"colorscale\": [[0.0, \"#0d0887\"], [0.1111111111111111, \"#46039f\"], [0.2222222222222222, \"#7201a8\"], [0.3333333333333333, \"#9c179e\"], [0.4444444444444444, \"#bd3786\"], [0.5555555555555556, \"#d8576b\"], [0.6666666666666666, \"#ed7953\"], [0.7777777777777778, \"#fb9f3a\"], [0.8888888888888888, \"#fdca26\"], [1.0, \"#f0f921\"]], \"type\": \"histogram2dcontour\"}], \"mesh3d\": [{\"colorbar\": {\"outlinewidth\": 0, \"ticks\": \"\"}, \"type\": \"mesh3d\"}], \"parcoords\": [{\"line\": {\"colorbar\": {\"outlinewidth\": 0, \"ticks\": \"\"}}, \"type\": \"parcoords\"}], \"pie\": [{\"automargin\": true, \"type\": \"pie\"}], \"scatter\": [{\"marker\": {\"colorbar\": {\"outlinewidth\": 0, \"ticks\": \"\"}}, \"type\": \"scatter\"}], \"scatter3d\": [{\"line\": {\"colorbar\": {\"outlinewidth\": 0, \"ticks\": \"\"}}, \"marker\": {\"colorbar\": {\"outlinewidth\": 0, \"ticks\": \"\"}}, \"type\": \"scatter3d\"}], \"scattercarpet\": [{\"marker\": {\"colorbar\": {\"outlinewidth\": 0, \"ticks\": \"\"}}, \"type\": \"scattercarpet\"}], \"scattergeo\": [{\"marker\": {\"colorbar\": {\"outlinewidth\": 0, \"ticks\": \"\"}}, \"type\": \"scattergeo\"}], \"scattergl\": [{\"marker\": {\"colorbar\": {\"outlinewidth\": 0, \"ticks\": \"\"}}, \"type\": \"scattergl\"}], \"scattermapbox\": [{\"marker\": {\"colorbar\": {\"outlinewidth\": 0, \"ticks\": \"\"}}, \"type\": \"scattermapbox\"}], \"scatterpolar\": [{\"marker\": {\"colorbar\": {\"outlinewidth\": 0, \"ticks\": \"\"}}, \"type\": \"scatterpolar\"}], \"scatterpolargl\": [{\"marker\": {\"colorbar\": {\"outlinewidth\": 0, \"ticks\": \"\"}}, \"type\": \"scatterpolargl\"}], \"scatterternary\": [{\"marker\": {\"colorbar\": {\"outlinewidth\": 0, \"ticks\": \"\"}}, \"type\": \"scatterternary\"}], \"surface\": [{\"colorbar\": {\"outlinewidth\": 0, \"ticks\": \"\"}, \"colorscale\": [[0.0, \"#0d0887\"], [0.1111111111111111, \"#46039f\"], [0.2222222222222222, \"#7201a8\"], [0.3333333333333333, \"#9c179e\"], [0.4444444444444444, \"#bd3786\"], [0.5555555555555556, \"#d8576b\"], [0.6666666666666666, \"#ed7953\"], [0.7777777777777778, \"#fb9f3a\"], [0.8888888888888888, \"#fdca26\"], [1.0, \"#f0f921\"]], \"type\": \"surface\"}], \"table\": [{\"cells\": {\"fill\": {\"color\": \"#EBF0F8\"}, \"line\": {\"color\": \"white\"}}, \"header\": {\"fill\": {\"color\": \"#C8D4E3\"}, \"line\": {\"color\": \"white\"}}, \"type\": \"table\"}]}, \"layout\": {\"annotationdefaults\": {\"arrowcolor\": \"#2a3f5f\", \"arrowhead\": 0, \"arrowwidth\": 1}, \"autotypenumbers\": \"strict\", \"coloraxis\": {\"colorbar\": {\"outlinewidth\": 0, \"ticks\": \"\"}}, \"colorscale\": {\"diverging\": [[0, \"#8e0152\"], [0.1, \"#c51b7d\"], [0.2, \"#de77ae\"], [0.3, \"#f1b6da\"], [0.4, \"#fde0ef\"], [0.5, \"#f7f7f7\"], [0.6, \"#e6f5d0\"], [0.7, \"#b8e186\"], [0.8, \"#7fbc41\"], [0.9, \"#4d9221\"], [1, \"#276419\"]], \"sequential\": [[0.0, \"#0d0887\"], [0.1111111111111111, \"#46039f\"], [0.2222222222222222, \"#7201a8\"], [0.3333333333333333, \"#9c179e\"], [0.4444444444444444, \"#bd3786\"], [0.5555555555555556, \"#d8576b\"], [0.6666666666666666, \"#ed7953\"], [0.7777777777777778, \"#fb9f3a\"], [0.8888888888888888, \"#fdca26\"], [1.0, \"#f0f921\"]], \"sequentialminus\": [[0.0, \"#0d0887\"], [0.1111111111111111, \"#46039f\"], [0.2222222222222222, \"#7201a8\"], [0.3333333333333333, \"#9c179e\"], [0.4444444444444444, \"#bd3786\"], [0.5555555555555556, \"#d8576b\"], [0.6666666666666666, \"#ed7953\"], [0.7777777777777778, \"#fb9f3a\"], [0.8888888888888888, \"#fdca26\"], [1.0, \"#f0f921\"]]}, \"colorway\": [\"#636efa\", \"#EF553B\", \"#00cc96\", \"#ab63fa\", \"#FFA15A\", \"#19d3f3\", \"#FF6692\", \"#B6E880\", \"#FF97FF\", \"#FECB52\"], \"font\": {\"color\": \"#2a3f5f\"}, \"geo\": {\"bgcolor\": \"white\", \"lakecolor\": \"white\", \"landcolor\": \"#E5ECF6\", \"showlakes\": true, \"showland\": true, \"subunitcolor\": \"white\"}, \"hoverlabel\": {\"align\": \"left\"}, \"hovermode\": \"closest\", \"mapbox\": {\"style\": \"light\"}, \"paper_bgcolor\": \"white\", \"plot_bgcolor\": \"#E5ECF6\", \"polar\": {\"angularaxis\": {\"gridcolor\": \"white\", \"linecolor\": \"white\", \"ticks\": \"\"}, \"bgcolor\": \"#E5ECF6\", \"radialaxis\": {\"gridcolor\": \"white\", \"linecolor\": \"white\", \"ticks\": \"\"}}, \"scene\": {\"xaxis\": {\"backgroundcolor\": \"#E5ECF6\", \"gridcolor\": \"white\", \"gridwidth\": 2, \"linecolor\": \"white\", \"showbackground\": true, \"ticks\": \"\", \"zerolinecolor\": \"white\"}, \"yaxis\": {\"backgroundcolor\": \"#E5ECF6\", \"gridcolor\": \"white\", \"gridwidth\": 2, \"linecolor\": \"white\", \"showbackground\": true, \"ticks\": \"\", \"zerolinecolor\": \"white\"}, \"zaxis\": {\"backgroundcolor\": \"#E5ECF6\", \"gridcolor\": \"white\", \"gridwidth\": 2, \"linecolor\": \"white\", \"showbackground\": true, \"ticks\": \"\", \"zerolinecolor\": \"white\"}}, \"shapedefaults\": {\"line\": {\"color\": \"#2a3f5f\"}}, \"ternary\": {\"aaxis\": {\"gridcolor\": \"white\", \"linecolor\": \"white\", \"ticks\": \"\"}, \"baxis\": {\"gridcolor\": \"white\", \"linecolor\": \"white\", \"ticks\": \"\"}, \"bgcolor\": \"#E5ECF6\", \"caxis\": {\"gridcolor\": \"white\", \"linecolor\": \"white\", \"ticks\": \"\"}}, \"title\": {\"x\": 0.05}, \"xaxis\": {\"automargin\": true, \"gridcolor\": \"white\", \"linecolor\": \"white\", \"ticks\": \"\", \"title\": {\"standoff\": 15}, \"zerolinecolor\": \"white\", \"zerolinewidth\": 2}, \"yaxis\": {\"automargin\": true, \"gridcolor\": \"white\", \"linecolor\": \"white\", \"ticks\": \"\", \"title\": {\"standoff\": 15}, \"zerolinecolor\": \"white\", \"zerolinewidth\": 2}}}, \"width\": 500, \"xaxis\": {\"anchor\": \"y\", \"constrain\": \"domain\", \"domain\": [0.0, 1.0], \"scaleanchor\": \"y\"}, \"yaxis\": {\"anchor\": \"x\", \"autorange\": \"reversed\", \"constrain\": \"domain\", \"domain\": [0.0, 1.0]}},                        {\"responsive\": true}                    ).then(function(){\n",
       "                            \n",
       "var gd = document.getElementById('5c81a31d-3dc7-41ac-a27d-7a6246372033');\n",
       "var x = new MutationObserver(function (mutations, observer) {{\n",
       "        var display = window.getComputedStyle(gd).display;\n",
       "        if (!display || display === 'none') {{\n",
       "            console.log([gd, 'removed!']);\n",
       "            Plotly.purge(gd);\n",
       "            observer.disconnect();\n",
       "        }}\n",
       "}});\n",
       "\n",
       "// Listen for the removal of the full notebook cells\n",
       "var notebookContainer = gd.closest('#notebook-container');\n",
       "if (notebookContainer) {{\n",
       "    x.observe(notebookContainer, {childList: true});\n",
       "}}\n",
       "\n",
       "// Listen for the clearing of the current output cell\n",
       "var outputEl = gd.closest('.output');\n",
       "if (outputEl) {{\n",
       "    x.observe(outputEl, {childList: true});\n",
       "}}\n",
       "\n",
       "                        })                };                });            </script>        </div>"
      ]
     },
     "metadata": {},
     "output_type": "display_data"
    },
    {
     "ename": "KeyboardInterrupt",
     "evalue": "",
     "output_type": "error",
     "traceback": [
      "\u001b[0;31m---------------------------------------------------------------------------\u001b[0m",
      "\u001b[0;31mKeyboardInterrupt\u001b[0m                         Traceback (most recent call last)",
      "\u001b[0;32m<ipython-input-60-a9a1567d1db1>\u001b[0m in \u001b[0;36m<module>\u001b[0;34m\u001b[0m\n\u001b[0;32m----> 1\u001b[0;31m \u001b[0mimgen\u001b[0m\u001b[0;34m.\u001b[0m\u001b[0mtrain\u001b[0m\u001b[0;34m(\u001b[0m\u001b[0mimgen\u001b[0m\u001b[0;34m.\u001b[0m\u001b[0mmake_dataset\u001b[0m\u001b[0;34m(\u001b[0m\u001b[0;34m)\u001b[0m\u001b[0;34m,\u001b[0m \u001b[0;36m100\u001b[0m\u001b[0;34m,\u001b[0m \u001b[0mshow_progress\u001b[0m\u001b[0;34m=\u001b[0m\u001b[0;32mTrue\u001b[0m\u001b[0;34m)\u001b[0m\u001b[0;34m\u001b[0m\u001b[0;34m\u001b[0m\u001b[0m\n\u001b[0m",
      "\u001b[0;32m~/Documents/Lab-ALFA-Repositories/quantum-gan-image-generation/src/imgen.py\u001b[0m in \u001b[0;36mtrain\u001b[0;34m(self, dataset, num_epochs, show_progress)\u001b[0m\n\u001b[1;32m    166\u001b[0m \u001b[0;34m\u001b[0m\u001b[0m\n\u001b[1;32m    167\u001b[0m             \u001b[0;32mfor\u001b[0m \u001b[0mimage_batch\u001b[0m \u001b[0;32min\u001b[0m \u001b[0mdataset\u001b[0m\u001b[0;34m:\u001b[0m\u001b[0;34m\u001b[0m\u001b[0;34m\u001b[0m\u001b[0m\n\u001b[0;32m--> 168\u001b[0;31m                 \u001b[0mself\u001b[0m\u001b[0;34m.\u001b[0m\u001b[0m_train_step\u001b[0m\u001b[0;34m(\u001b[0m\u001b[0mimage_batch\u001b[0m\u001b[0;34m)\u001b[0m\u001b[0;34m\u001b[0m\u001b[0;34m\u001b[0m\u001b[0m\n\u001b[0m",
      "\u001b[0;32m~/Documents/Lab-ALFA-Repositories/quantum-gan-image-generation/src/imgen.py\u001b[0m in \u001b[0;36m_train_step\u001b[0;34m(self, real_sample)\u001b[0m\n\u001b[1;32m    136\u001b[0m         \u001b[0;32mwith\u001b[0m \u001b[0mtf\u001b[0m\u001b[0;34m.\u001b[0m\u001b[0mGradientTape\u001b[0m\u001b[0;34m(\u001b[0m\u001b[0;34m)\u001b[0m \u001b[0;32mas\u001b[0m \u001b[0mgen_tape\u001b[0m\u001b[0;34m,\u001b[0m \u001b[0mtf\u001b[0m\u001b[0;34m.\u001b[0m\u001b[0mGradientTape\u001b[0m\u001b[0;34m(\u001b[0m\u001b[0;34m)\u001b[0m \u001b[0;32mas\u001b[0m \u001b[0mdisc_tape\u001b[0m\u001b[0;34m:\u001b[0m\u001b[0;34m\u001b[0m\u001b[0;34m\u001b[0m\u001b[0m\n\u001b[1;32m    137\u001b[0m \u001b[0;34m\u001b[0m\u001b[0m\n\u001b[0;32m--> 138\u001b[0;31m             \u001b[0mfake_output_prob\u001b[0m \u001b[0;34m=\u001b[0m \u001b[0mtf\u001b[0m\u001b[0;34m.\u001b[0m\u001b[0mcast\u001b[0m\u001b[0;34m(\u001b[0m\u001b[0mself\u001b[0m\u001b[0;34m.\u001b[0m\u001b[0m__generator\u001b[0m\u001b[0;34m(\u001b[0m\u001b[0mself\u001b[0m\u001b[0;34m.\u001b[0m\u001b[0m__generator_params\u001b[0m\u001b[0;34m)\u001b[0m\u001b[0;34m,\u001b[0m \u001b[0mdtype\u001b[0m\u001b[0;34m=\u001b[0m\u001b[0;34m'float32'\u001b[0m\u001b[0;34m)\u001b[0m\u001b[0;34m\u001b[0m\u001b[0;34m\u001b[0m\u001b[0m\n\u001b[0m\u001b[1;32m    139\u001b[0m \u001b[0;34m\u001b[0m\u001b[0m\n\u001b[1;32m    140\u001b[0m             \u001b[0mreal_output\u001b[0m \u001b[0;34m=\u001b[0m \u001b[0mself\u001b[0m\u001b[0;34m.\u001b[0m\u001b[0m__discriminator\u001b[0m\u001b[0;34m(\u001b[0m\u001b[0mreal_sample\u001b[0m\u001b[0;34m,\u001b[0m \u001b[0mtraining\u001b[0m\u001b[0;34m=\u001b[0m\u001b[0;32mTrue\u001b[0m\u001b[0;34m)\u001b[0m\u001b[0;34m\u001b[0m\u001b[0;34m\u001b[0m\u001b[0m\n",
      "\u001b[0;32m~/Programs/anaconda3/envs/qgan-env/lib/python3.8/site-packages/pennylane/tape/qnode.py\u001b[0m in \u001b[0;36m__call__\u001b[0;34m(self, *args, **kwargs)\u001b[0m\n\u001b[1;32m    531\u001b[0m \u001b[0;34m\u001b[0m\u001b[0m\n\u001b[1;32m    532\u001b[0m         \u001b[0;31m# execute the tape\u001b[0m\u001b[0;34m\u001b[0m\u001b[0;34m\u001b[0m\u001b[0;34m\u001b[0m\u001b[0m\n\u001b[0;32m--> 533\u001b[0;31m         \u001b[0mres\u001b[0m \u001b[0;34m=\u001b[0m \u001b[0mself\u001b[0m\u001b[0;34m.\u001b[0m\u001b[0mqtape\u001b[0m\u001b[0;34m.\u001b[0m\u001b[0mexecute\u001b[0m\u001b[0;34m(\u001b[0m\u001b[0mdevice\u001b[0m\u001b[0;34m=\u001b[0m\u001b[0mself\u001b[0m\u001b[0;34m.\u001b[0m\u001b[0mdevice\u001b[0m\u001b[0;34m)\u001b[0m\u001b[0;34m\u001b[0m\u001b[0;34m\u001b[0m\u001b[0m\n\u001b[0m\u001b[1;32m    534\u001b[0m \u001b[0;34m\u001b[0m\u001b[0m\n\u001b[1;32m    535\u001b[0m         \u001b[0;31m# FIX: If the qnode swapped the device, increase the num_execution value on the original device.\u001b[0m\u001b[0;34m\u001b[0m\u001b[0;34m\u001b[0m\u001b[0;34m\u001b[0m\u001b[0m\n",
      "\u001b[0;32m~/Programs/anaconda3/envs/qgan-env/lib/python3.8/site-packages/pennylane/tape/tapes/tape.py\u001b[0m in \u001b[0;36mexecute\u001b[0;34m(self, device, params)\u001b[0m\n\u001b[1;32m   1068\u001b[0m             \u001b[0mparams\u001b[0m \u001b[0;34m=\u001b[0m \u001b[0mself\u001b[0m\u001b[0;34m.\u001b[0m\u001b[0mget_parameters\u001b[0m\u001b[0;34m(\u001b[0m\u001b[0;34m)\u001b[0m\u001b[0;34m\u001b[0m\u001b[0;34m\u001b[0m\u001b[0m\n\u001b[1;32m   1069\u001b[0m \u001b[0;34m\u001b[0m\u001b[0m\n\u001b[0;32m-> 1070\u001b[0;31m         \u001b[0;32mreturn\u001b[0m \u001b[0mself\u001b[0m\u001b[0;34m.\u001b[0m\u001b[0m_execute\u001b[0m\u001b[0;34m(\u001b[0m\u001b[0mparams\u001b[0m\u001b[0;34m,\u001b[0m \u001b[0mdevice\u001b[0m\u001b[0;34m=\u001b[0m\u001b[0mdevice\u001b[0m\u001b[0;34m)\u001b[0m\u001b[0;34m\u001b[0m\u001b[0;34m\u001b[0m\u001b[0m\n\u001b[0m\u001b[1;32m   1071\u001b[0m \u001b[0;34m\u001b[0m\u001b[0m\n\u001b[1;32m   1072\u001b[0m     \u001b[0;32mdef\u001b[0m \u001b[0mexecute_device\u001b[0m\u001b[0;34m(\u001b[0m\u001b[0mself\u001b[0m\u001b[0;34m,\u001b[0m \u001b[0mparams\u001b[0m\u001b[0;34m,\u001b[0m \u001b[0mdevice\u001b[0m\u001b[0;34m)\u001b[0m\u001b[0;34m:\u001b[0m\u001b[0;34m\u001b[0m\u001b[0;34m\u001b[0m\u001b[0m\n",
      "\u001b[0;32m~/Programs/anaconda3/envs/qgan-env/lib/python3.8/site-packages/pennylane/tape/tapes/tape.py\u001b[0m in \u001b[0;36mexecute_device\u001b[0;34m(self, params, device)\u001b[0m\n\u001b[1;32m   1099\u001b[0m \u001b[0;34m\u001b[0m\u001b[0m\n\u001b[1;32m   1100\u001b[0m         \u001b[0;32mif\u001b[0m \u001b[0misinstance\u001b[0m\u001b[0;34m(\u001b[0m\u001b[0mdevice\u001b[0m\u001b[0;34m,\u001b[0m \u001b[0mqml\u001b[0m\u001b[0;34m.\u001b[0m\u001b[0mQubitDevice\u001b[0m\u001b[0;34m)\u001b[0m\u001b[0;34m:\u001b[0m\u001b[0;34m\u001b[0m\u001b[0;34m\u001b[0m\u001b[0m\n\u001b[0;32m-> 1101\u001b[0;31m             \u001b[0mres\u001b[0m \u001b[0;34m=\u001b[0m \u001b[0mdevice\u001b[0m\u001b[0;34m.\u001b[0m\u001b[0mexecute\u001b[0m\u001b[0;34m(\u001b[0m\u001b[0mself\u001b[0m\u001b[0;34m)\u001b[0m\u001b[0;34m\u001b[0m\u001b[0;34m\u001b[0m\u001b[0m\n\u001b[0m\u001b[1;32m   1102\u001b[0m         \u001b[0;32melse\u001b[0m\u001b[0;34m:\u001b[0m\u001b[0;34m\u001b[0m\u001b[0;34m\u001b[0m\u001b[0m\n\u001b[1;32m   1103\u001b[0m             \u001b[0mres\u001b[0m \u001b[0;34m=\u001b[0m \u001b[0mdevice\u001b[0m\u001b[0;34m.\u001b[0m\u001b[0mexecute\u001b[0m\u001b[0;34m(\u001b[0m\u001b[0mself\u001b[0m\u001b[0;34m.\u001b[0m\u001b[0moperations\u001b[0m\u001b[0;34m,\u001b[0m \u001b[0mself\u001b[0m\u001b[0;34m.\u001b[0m\u001b[0mobservables\u001b[0m\u001b[0;34m,\u001b[0m \u001b[0;34m{\u001b[0m\u001b[0;34m}\u001b[0m\u001b[0;34m)\u001b[0m\u001b[0;34m\u001b[0m\u001b[0;34m\u001b[0m\u001b[0m\n",
      "\u001b[0;32m~/Programs/anaconda3/envs/qgan-env/lib/python3.8/site-packages/pennylane/_qubit_device.py\u001b[0m in \u001b[0;36mexecute\u001b[0;34m(self, circuit, **kwargs)\u001b[0m\n\u001b[1;32m    202\u001b[0m \u001b[0;34m\u001b[0m\u001b[0m\n\u001b[1;32m    203\u001b[0m         \u001b[0;31m# apply all circuit operations\u001b[0m\u001b[0;34m\u001b[0m\u001b[0;34m\u001b[0m\u001b[0;34m\u001b[0m\u001b[0m\n\u001b[0;32m--> 204\u001b[0;31m         \u001b[0mself\u001b[0m\u001b[0;34m.\u001b[0m\u001b[0mapply\u001b[0m\u001b[0;34m(\u001b[0m\u001b[0mcircuit\u001b[0m\u001b[0;34m.\u001b[0m\u001b[0moperations\u001b[0m\u001b[0;34m,\u001b[0m \u001b[0mrotations\u001b[0m\u001b[0;34m=\u001b[0m\u001b[0mcircuit\u001b[0m\u001b[0;34m.\u001b[0m\u001b[0mdiagonalizing_gates\u001b[0m\u001b[0;34m,\u001b[0m \u001b[0;34m**\u001b[0m\u001b[0mkwargs\u001b[0m\u001b[0;34m)\u001b[0m\u001b[0;34m\u001b[0m\u001b[0;34m\u001b[0m\u001b[0m\n\u001b[0m\u001b[1;32m    205\u001b[0m \u001b[0;34m\u001b[0m\u001b[0m\n\u001b[1;32m    206\u001b[0m         \u001b[0;31m# generate computational basis samples\u001b[0m\u001b[0;34m\u001b[0m\u001b[0;34m\u001b[0m\u001b[0;34m\u001b[0m\u001b[0m\n",
      "\u001b[0;32m~/Programs/anaconda3/envs/qgan-env/lib/python3.8/site-packages/pennylane/devices/default_qubit.py\u001b[0m in \u001b[0;36mapply\u001b[0;34m(self, operations, rotations, **kwargs)\u001b[0m\n\u001b[1;32m    186\u001b[0m                 \u001b[0mself\u001b[0m\u001b[0;34m.\u001b[0m\u001b[0m_apply_basis_state\u001b[0m\u001b[0;34m(\u001b[0m\u001b[0moperation\u001b[0m\u001b[0;34m.\u001b[0m\u001b[0mparameters\u001b[0m\u001b[0;34m[\u001b[0m\u001b[0;36m0\u001b[0m\u001b[0;34m]\u001b[0m\u001b[0;34m,\u001b[0m \u001b[0moperation\u001b[0m\u001b[0;34m.\u001b[0m\u001b[0mwires\u001b[0m\u001b[0;34m)\u001b[0m\u001b[0;34m\u001b[0m\u001b[0;34m\u001b[0m\u001b[0m\n\u001b[1;32m    187\u001b[0m             \u001b[0;32melse\u001b[0m\u001b[0;34m:\u001b[0m\u001b[0;34m\u001b[0m\u001b[0;34m\u001b[0m\u001b[0m\n\u001b[0;32m--> 188\u001b[0;31m                 \u001b[0mself\u001b[0m\u001b[0;34m.\u001b[0m\u001b[0m_state\u001b[0m \u001b[0;34m=\u001b[0m \u001b[0mself\u001b[0m\u001b[0;34m.\u001b[0m\u001b[0m_apply_operation\u001b[0m\u001b[0;34m(\u001b[0m\u001b[0mself\u001b[0m\u001b[0;34m.\u001b[0m\u001b[0m_state\u001b[0m\u001b[0;34m,\u001b[0m \u001b[0moperation\u001b[0m\u001b[0;34m)\u001b[0m\u001b[0;34m\u001b[0m\u001b[0;34m\u001b[0m\u001b[0m\n\u001b[0m\u001b[1;32m    189\u001b[0m \u001b[0;34m\u001b[0m\u001b[0m\n\u001b[1;32m    190\u001b[0m         \u001b[0;31m# store the pre-rotated state\u001b[0m\u001b[0;34m\u001b[0m\u001b[0;34m\u001b[0m\u001b[0;34m\u001b[0m\u001b[0m\n",
      "\u001b[0;32m~/Programs/anaconda3/envs/qgan-env/lib/python3.8/site-packages/pennylane/devices/default_qubit.py\u001b[0m in \u001b[0;36m_apply_operation\u001b[0;34m(self, state, operation)\u001b[0m\n\u001b[1;32m    217\u001b[0m         \u001b[0;32mif\u001b[0m \u001b[0mlen\u001b[0m\u001b[0;34m(\u001b[0m\u001b[0mwires\u001b[0m\u001b[0;34m)\u001b[0m \u001b[0;34m<=\u001b[0m \u001b[0;36m2\u001b[0m\u001b[0;34m:\u001b[0m\u001b[0;34m\u001b[0m\u001b[0;34m\u001b[0m\u001b[0m\n\u001b[1;32m    218\u001b[0m             \u001b[0;31m# Einsum is faster for small gates\u001b[0m\u001b[0;34m\u001b[0m\u001b[0;34m\u001b[0m\u001b[0;34m\u001b[0m\u001b[0m\n\u001b[0;32m--> 219\u001b[0;31m             \u001b[0;32mreturn\u001b[0m \u001b[0mself\u001b[0m\u001b[0;34m.\u001b[0m\u001b[0m_apply_unitary_einsum\u001b[0m\u001b[0;34m(\u001b[0m\u001b[0mstate\u001b[0m\u001b[0;34m,\u001b[0m \u001b[0mmatrix\u001b[0m\u001b[0;34m,\u001b[0m \u001b[0mwires\u001b[0m\u001b[0;34m)\u001b[0m\u001b[0;34m\u001b[0m\u001b[0;34m\u001b[0m\u001b[0m\n\u001b[0m\u001b[1;32m    220\u001b[0m \u001b[0;34m\u001b[0m\u001b[0m\n\u001b[1;32m    221\u001b[0m         \u001b[0;32mreturn\u001b[0m \u001b[0mself\u001b[0m\u001b[0;34m.\u001b[0m\u001b[0m_apply_unitary\u001b[0m\u001b[0;34m(\u001b[0m\u001b[0mstate\u001b[0m\u001b[0;34m,\u001b[0m \u001b[0mmatrix\u001b[0m\u001b[0;34m,\u001b[0m \u001b[0mwires\u001b[0m\u001b[0;34m)\u001b[0m\u001b[0;34m\u001b[0m\u001b[0;34m\u001b[0m\u001b[0m\n",
      "\u001b[0;32m~/Programs/anaconda3/envs/qgan-env/lib/python3.8/site-packages/pennylane/devices/default_qubit.py\u001b[0m in \u001b[0;36m_apply_unitary_einsum\u001b[0;34m(self, state, mat, wires)\u001b[0m\n\u001b[1;32m    608\u001b[0m         )\n\u001b[1;32m    609\u001b[0m \u001b[0;34m\u001b[0m\u001b[0m\n\u001b[0;32m--> 610\u001b[0;31m         \u001b[0;32mreturn\u001b[0m \u001b[0mself\u001b[0m\u001b[0;34m.\u001b[0m\u001b[0m_einsum\u001b[0m\u001b[0;34m(\u001b[0m\u001b[0meinsum_indices\u001b[0m\u001b[0;34m,\u001b[0m \u001b[0mmat\u001b[0m\u001b[0;34m,\u001b[0m \u001b[0mstate\u001b[0m\u001b[0;34m)\u001b[0m\u001b[0;34m\u001b[0m\u001b[0;34m\u001b[0m\u001b[0m\n\u001b[0m\u001b[1;32m    611\u001b[0m \u001b[0;34m\u001b[0m\u001b[0m\n\u001b[1;32m    612\u001b[0m     \u001b[0;32mdef\u001b[0m \u001b[0m_apply_diagonal_unitary\u001b[0m\u001b[0;34m(\u001b[0m\u001b[0mself\u001b[0m\u001b[0;34m,\u001b[0m \u001b[0mstate\u001b[0m\u001b[0;34m,\u001b[0m \u001b[0mphases\u001b[0m\u001b[0;34m,\u001b[0m \u001b[0mwires\u001b[0m\u001b[0;34m)\u001b[0m\u001b[0;34m:\u001b[0m\u001b[0;34m\u001b[0m\u001b[0;34m\u001b[0m\u001b[0m\n",
      "\u001b[0;32m~/Programs/anaconda3/envs/qgan-env/lib/python3.8/site-packages/tensorflow/python/ops/special_math_ops.py\u001b[0m in \u001b[0;36m_einsum_v1\u001b[0;34m(equation, *inputs, **kwargs)\u001b[0m\n\u001b[1;32m    728\u001b[0m           \u001b[0mset\u001b[0m\u001b[0;34m(\u001b[0m\u001b[0mtemp_axis_labels\u001b[0m\u001b[0;34m)\u001b[0m \u001b[0;34m&\u001b[0m\u001b[0;34m\u001b[0m\u001b[0;34m\u001b[0m\u001b[0m\n\u001b[1;32m    729\u001b[0m           set(input_axis_labels[i + 1]) - set(output_axis_labels))\n\u001b[0;32m--> 730\u001b[0;31m       temp, temp_axis_labels = _einsum_v1_reduction(temp, temp_axis_labels,\n\u001b[0m\u001b[1;32m    731\u001b[0m                                                     \u001b[0minputs\u001b[0m\u001b[0;34m[\u001b[0m\u001b[0mi\u001b[0m \u001b[0;34m+\u001b[0m \u001b[0;36m1\u001b[0m\u001b[0;34m]\u001b[0m\u001b[0;34m,\u001b[0m\u001b[0;34m\u001b[0m\u001b[0;34m\u001b[0m\u001b[0m\n\u001b[1;32m    732\u001b[0m                                                     \u001b[0minput_axis_labels\u001b[0m\u001b[0;34m[\u001b[0m\u001b[0mi\u001b[0m \u001b[0;34m+\u001b[0m \u001b[0;36m1\u001b[0m\u001b[0;34m]\u001b[0m\u001b[0;34m,\u001b[0m\u001b[0;34m\u001b[0m\u001b[0;34m\u001b[0m\u001b[0m\n",
      "\u001b[0;32m~/Programs/anaconda3/envs/qgan-env/lib/python3.8/site-packages/tensorflow/python/ops/special_math_ops.py\u001b[0m in \u001b[0;36m_einsum_v1_reduction\u001b[0;34m(t0, t0_axis_labels, t1, t1_axis_labels, axes_to_sum)\u001b[0m\n\u001b[1;32m    908\u001b[0m   \u001b[0;32mfor\u001b[0m \u001b[0mi\u001b[0m\u001b[0;34m,\u001b[0m \u001b[0maxes_str\u001b[0m \u001b[0;32min\u001b[0m \u001b[0menumerate\u001b[0m\u001b[0;34m(\u001b[0m\u001b[0maxis_labels\u001b[0m\u001b[0;34m)\u001b[0m\u001b[0;34m:\u001b[0m\u001b[0;34m\u001b[0m\u001b[0;34m\u001b[0m\u001b[0m\n\u001b[1;32m    909\u001b[0m     \u001b[0mperm\u001b[0m \u001b[0;34m=\u001b[0m \u001b[0;34m[\u001b[0m\u001b[0maxes_str\u001b[0m\u001b[0;34m.\u001b[0m\u001b[0mfind\u001b[0m\u001b[0;34m(\u001b[0m\u001b[0ma\u001b[0m\u001b[0;34m)\u001b[0m \u001b[0;32mfor\u001b[0m \u001b[0ma\u001b[0m \u001b[0;32min\u001b[0m \u001b[0msorted_axes\u001b[0m\u001b[0;34m[\u001b[0m\u001b[0mi\u001b[0m\u001b[0;34m]\u001b[0m\u001b[0;34m]\u001b[0m\u001b[0;34m\u001b[0m\u001b[0;34m\u001b[0m\u001b[0m\n\u001b[0;32m--> 910\u001b[0;31m     \u001b[0minputs\u001b[0m\u001b[0;34m[\u001b[0m\u001b[0mi\u001b[0m\u001b[0;34m]\u001b[0m \u001b[0;34m=\u001b[0m \u001b[0m_transpose_if_necessary\u001b[0m\u001b[0;34m(\u001b[0m\u001b[0minputs\u001b[0m\u001b[0;34m[\u001b[0m\u001b[0mi\u001b[0m\u001b[0;34m]\u001b[0m\u001b[0;34m,\u001b[0m \u001b[0mperm\u001b[0m\u001b[0;34m)\u001b[0m\u001b[0;34m\u001b[0m\u001b[0;34m\u001b[0m\u001b[0m\n\u001b[0m\u001b[1;32m    911\u001b[0m   \u001b[0mt0\u001b[0m\u001b[0;34m,\u001b[0m \u001b[0mt1\u001b[0m \u001b[0;34m=\u001b[0m \u001b[0minputs\u001b[0m\u001b[0;34m\u001b[0m\u001b[0;34m\u001b[0m\u001b[0m\n\u001b[1;32m    912\u001b[0m \u001b[0;34m\u001b[0m\u001b[0m\n",
      "\u001b[0;32m~/Programs/anaconda3/envs/qgan-env/lib/python3.8/site-packages/tensorflow/python/ops/special_math_ops.py\u001b[0m in \u001b[0;36m_transpose_if_necessary\u001b[0;34m(tensor, perm)\u001b[0m\n\u001b[1;32m    963\u001b[0m   \u001b[0;34m\"\"\"Like transpose(), but avoids creating a new tensor if possible.\"\"\"\u001b[0m\u001b[0;34m\u001b[0m\u001b[0;34m\u001b[0m\u001b[0m\n\u001b[1;32m    964\u001b[0m   \u001b[0;32mif\u001b[0m \u001b[0mperm\u001b[0m \u001b[0;34m!=\u001b[0m \u001b[0mlist\u001b[0m\u001b[0;34m(\u001b[0m\u001b[0mrange\u001b[0m\u001b[0;34m(\u001b[0m\u001b[0mlen\u001b[0m\u001b[0;34m(\u001b[0m\u001b[0mperm\u001b[0m\u001b[0;34m)\u001b[0m\u001b[0;34m)\u001b[0m\u001b[0;34m)\u001b[0m\u001b[0;34m:\u001b[0m\u001b[0;34m\u001b[0m\u001b[0;34m\u001b[0m\u001b[0m\n\u001b[0;32m--> 965\u001b[0;31m     \u001b[0;32mreturn\u001b[0m \u001b[0marray_ops\u001b[0m\u001b[0;34m.\u001b[0m\u001b[0mtranspose\u001b[0m\u001b[0;34m(\u001b[0m\u001b[0mtensor\u001b[0m\u001b[0;34m,\u001b[0m \u001b[0mperm\u001b[0m\u001b[0;34m=\u001b[0m\u001b[0mperm\u001b[0m\u001b[0;34m)\u001b[0m\u001b[0;34m\u001b[0m\u001b[0;34m\u001b[0m\u001b[0m\n\u001b[0m\u001b[1;32m    966\u001b[0m   \u001b[0;32melse\u001b[0m\u001b[0;34m:\u001b[0m\u001b[0;34m\u001b[0m\u001b[0;34m\u001b[0m\u001b[0m\n\u001b[1;32m    967\u001b[0m     \u001b[0;32mreturn\u001b[0m \u001b[0mtensor\u001b[0m\u001b[0;34m\u001b[0m\u001b[0;34m\u001b[0m\u001b[0m\n",
      "\u001b[0;32m~/Programs/anaconda3/envs/qgan-env/lib/python3.8/site-packages/tensorflow/python/util/dispatch.py\u001b[0m in \u001b[0;36mwrapper\u001b[0;34m(*args, **kwargs)\u001b[0m\n\u001b[1;32m    199\u001b[0m     \u001b[0;34m\"\"\"Call target, and fall back on dispatchers if there is a TypeError.\"\"\"\u001b[0m\u001b[0;34m\u001b[0m\u001b[0;34m\u001b[0m\u001b[0m\n\u001b[1;32m    200\u001b[0m     \u001b[0;32mtry\u001b[0m\u001b[0;34m:\u001b[0m\u001b[0;34m\u001b[0m\u001b[0;34m\u001b[0m\u001b[0m\n\u001b[0;32m--> 201\u001b[0;31m       \u001b[0;32mreturn\u001b[0m \u001b[0mtarget\u001b[0m\u001b[0;34m(\u001b[0m\u001b[0;34m*\u001b[0m\u001b[0margs\u001b[0m\u001b[0;34m,\u001b[0m \u001b[0;34m**\u001b[0m\u001b[0mkwargs\u001b[0m\u001b[0;34m)\u001b[0m\u001b[0;34m\u001b[0m\u001b[0;34m\u001b[0m\u001b[0m\n\u001b[0m\u001b[1;32m    202\u001b[0m     \u001b[0;32mexcept\u001b[0m \u001b[0;34m(\u001b[0m\u001b[0mTypeError\u001b[0m\u001b[0;34m,\u001b[0m \u001b[0mValueError\u001b[0m\u001b[0;34m)\u001b[0m\u001b[0;34m:\u001b[0m\u001b[0;34m\u001b[0m\u001b[0;34m\u001b[0m\u001b[0m\n\u001b[1;32m    203\u001b[0m       \u001b[0;31m# Note: convert_to_eager_tensor currently raises a ValueError, not a\u001b[0m\u001b[0;34m\u001b[0m\u001b[0;34m\u001b[0m\u001b[0;34m\u001b[0m\u001b[0m\n",
      "\u001b[0;32m~/Programs/anaconda3/envs/qgan-env/lib/python3.8/site-packages/tensorflow/python/ops/array_ops.py\u001b[0m in \u001b[0;36mtranspose\u001b[0;34m(a, perm, name, conjugate)\u001b[0m\n\u001b[1;32m   2186\u001b[0m \u001b[0;34m\u001b[0m\u001b[0m\n\u001b[1;32m   2187\u001b[0m     \u001b[0;32mif\u001b[0m \u001b[0mperm\u001b[0m \u001b[0;32mis\u001b[0m \u001b[0;32mnot\u001b[0m \u001b[0;32mNone\u001b[0m\u001b[0;34m:\u001b[0m\u001b[0;34m\u001b[0m\u001b[0;34m\u001b[0m\u001b[0m\n\u001b[0;32m-> 2188\u001b[0;31m       \u001b[0;32mreturn\u001b[0m \u001b[0mtranspose_fn\u001b[0m\u001b[0;34m(\u001b[0m\u001b[0ma\u001b[0m\u001b[0;34m,\u001b[0m \u001b[0mperm\u001b[0m\u001b[0;34m,\u001b[0m \u001b[0mname\u001b[0m\u001b[0;34m=\u001b[0m\u001b[0mname\u001b[0m\u001b[0;34m)\u001b[0m\u001b[0;34m\u001b[0m\u001b[0;34m\u001b[0m\u001b[0m\n\u001b[0m\u001b[1;32m   2189\u001b[0m \u001b[0;34m\u001b[0m\u001b[0m\n\u001b[1;32m   2190\u001b[0m     \u001b[0mrank\u001b[0m \u001b[0;34m=\u001b[0m \u001b[0ma\u001b[0m\u001b[0;34m.\u001b[0m\u001b[0mshape\u001b[0m\u001b[0;34m.\u001b[0m\u001b[0mrank\u001b[0m\u001b[0;34m\u001b[0m\u001b[0;34m\u001b[0m\u001b[0m\n",
      "\u001b[0;31mKeyboardInterrupt\u001b[0m: "
     ]
    }
   ],
   "source": [
    "imgen.train(imgen.make_dataset(), 100, show_progress=True)"
   ]
  },
  {
   "cell_type": "code",
   "execution_count": null,
   "metadata": {},
   "outputs": [],
   "source": []
  }
 ],
 "metadata": {
  "kernelspec": {
   "display_name": "Python 3",
   "language": "python",
   "name": "python3"
  },
  "language_info": {
   "codemirror_mode": {
    "name": "ipython",
    "version": 3
   },
   "file_extension": ".py",
   "mimetype": "text/x-python",
   "name": "python",
   "nbconvert_exporter": "python",
   "pygments_lexer": "ipython3",
   "version": "3.8.5"
  }
 },
 "nbformat": 4,
 "nbformat_minor": 2
}
