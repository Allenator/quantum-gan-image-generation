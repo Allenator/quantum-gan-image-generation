{
 "cells": [
  {
   "cell_type": "markdown",
   "id": "filled-freight",
   "metadata": {},
   "source": [
    "# Introduction"
   ]
  },
  {
   "cell_type": "markdown",
   "id": "prescribed-reply",
   "metadata": {},
   "source": [
    "A prerequisite for quantum algorithms to outperform their classical counterparts lies in the ability to efficiently load the classical input of the algorithms into quantum states. However, to prepare a generic quantum state exactly requires O(2^n) gates [[1](https://journals.aps.org/prl/abstract/10.1103/PhysRevLett.85.1334)], which can impede the power of quantum algorithms before they come into play. For practical purposes, Quantum Machine Learning (QML) can be adopted to approximate the desired loading channel via training. Quantum Generative Adversarial Network (qGAN) in particular has shown great promise in accomplishing the task with O(poly(n)) gates [[2](https://www.nature.com/articles/s41534-019-0223-2)]. Similar to its classical counterpart, qGAN consists of both a generator for synthesizing data to match the real data and a discriminator for discerning real data from the product of the generator. The difference between the two is that qGAN uses a quantum generator to approximate the quantum state, and the discriminator can be either classical or quantum depending on whether the input data is classical or quantum [[3](https://pennylane.ai/qml/demos/tutorial_QGAN.html)]. Generally, the qGAN trains its generator and discriminator alternatively in the form of a zero-sum game, and ends the training when the relative entropy (i.e. the difference between the real data and the synthesized one, one measure of the training performance) converges to ~0 [[2](https://www.nature.com/articles/s41534-019-0223-2)].\n",
    "\n",
    "For our project, we aim to demonstrate the efficient loading of multi-dimensional classical distribution using qGAN with a classical discriminator. To better present our result and offer a potential generalization of our project, we choose images with multi-dimensional features as our classical datasets. The distributions of such images can be engineered into the multi-dimensional distributions of multiple qubit states given an explicit formulation. Meanwhile, with the demonstration of image recoginition, our work also explores the power of qGAN for real-world learning problems. \n",
    "\n",
    "In the implementation, we use PennyLane and its Cirq plug-in to construct the quantum circuit for the task. The classical discriminator is trained using Keras layers on Tensorflow. The initial simulation and training are carried out on our private infrastructure. Formal results are produced using the Floq simulator and SV1 via AWS. We successfully demonstrate reliable learning of images with multimodal distributions. Compared to the previous work [[4](https://arxiv.org/pdf/2010.06201.pdf)] on qGAN for image recoginition, we show an improvement in the circuit depth of the samze image size by XXXXXX. "
   ]
  },
  {
   "cell_type": "markdown",
   "id": "extra-nickname",
   "metadata": {},
   "source": [
    "# References"
   ]
  },
  {
   "cell_type": "markdown",
   "id": "unsigned-terminal",
   "metadata": {},
   "source": [
    "[[1](https://journals.aps.org/prl/abstract/10.1103/PhysRevLett.85.1334)] Grover, L. K. Synthesis of quantum superpositions by quantum computation. Phys. Rev. Lett. 85, 1334–1337 (2000). \\\n",
    "[[2](https://www.nature.com/articles/s41534-019-0223-2)] Zoufal, C., Lucchi, A. & Woerner, S. Quantum Generative Adversarial Networks for learning and loading random distributions. npj Quantum Inf 5, 103 (2019). \\\n",
    "[[3](https://pennylane.ai/qml/demos/tutorial_QGAN.html)] PennyLane dev team, Quantum Generative Adversarial Networks with Cirq + TensorFlow (2021).\\\n",
    "[[4](https://arxiv.org/pdf/2010.06201.pdf)] H. Huang et al.,  Experimental Quantum Generative Adversarial Networks for Image Generation. arxiv-preprint, (2020)."
   ]
  },
  {
   "cell_type": "code",
   "execution_count": null,
   "id": "elder-buddy",
   "metadata": {},
   "outputs": [],
   "source": []
  }
 ],
 "metadata": {
  "kernelspec": {
   "display_name": "Python 3",
   "language": "python",
   "name": "python3"
  },
  "language_info": {
   "codemirror_mode": {
    "name": "ipython",
    "version": 3
   },
   "file_extension": ".py",
   "mimetype": "text/x-python",
   "name": "python",
   "nbconvert_exporter": "python",
   "pygments_lexer": "ipython3",
   "version": "3.8.5"
  }
 },
 "nbformat": 4,
 "nbformat_minor": 5
}
